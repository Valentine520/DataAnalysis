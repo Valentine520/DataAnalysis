{
 "cells": [
  {
   "cell_type": "code",
   "execution_count": 1,
   "id": "1c17dc45",
   "metadata": {},
   "outputs": [
    {
     "ename": "ModuleNotFoundError",
     "evalue": "No module named 'jieba'",
     "output_type": "error",
     "traceback": [
      "\u001b[1;31m---------------------------------------------------------------------------\u001b[0m",
      "\u001b[1;31mModuleNotFoundError\u001b[0m                       Traceback (most recent call last)",
      "\u001b[1;32m~\\AppData\\Local\\Temp/ipykernel_24700/614883737.py\u001b[0m in \u001b[0;36m<module>\u001b[1;34m\u001b[0m\n\u001b[1;32m----> 1\u001b[1;33m \u001b[1;32mimport\u001b[0m \u001b[0mjieba\u001b[0m\u001b[1;33m\u001b[0m\u001b[1;33m\u001b[0m\u001b[0m\n\u001b[0m\u001b[0;32m      2\u001b[0m \u001b[1;32mimport\u001b[0m \u001b[0mjieba\u001b[0m\u001b[1;33m.\u001b[0m\u001b[0manalyse\u001b[0m \u001b[1;32mas\u001b[0m \u001b[0manly\u001b[0m\u001b[1;33m\u001b[0m\u001b[1;33m\u001b[0m\u001b[0m\n\u001b[0;32m      3\u001b[0m \u001b[1;32mimport\u001b[0m \u001b[0mnumpy\u001b[0m \u001b[1;32mas\u001b[0m \u001b[0mnp\u001b[0m\u001b[1;33m\u001b[0m\u001b[1;33m\u001b[0m\u001b[0m\n\u001b[0;32m      4\u001b[0m \u001b[1;32mimport\u001b[0m \u001b[0mpandas\u001b[0m \u001b[1;32mas\u001b[0m \u001b[0mpd\u001b[0m\u001b[1;33m\u001b[0m\u001b[1;33m\u001b[0m\u001b[0m\n\u001b[0;32m      5\u001b[0m \u001b[1;32mfrom\u001b[0m \u001b[0mwordcloud\u001b[0m \u001b[1;32mimport\u001b[0m \u001b[0mWordCloud\u001b[0m\u001b[1;33m,\u001b[0m \u001b[0mImageColorGenerator\u001b[0m\u001b[1;33m\u001b[0m\u001b[1;33m\u001b[0m\u001b[0m\n",
      "\u001b[1;31mModuleNotFoundError\u001b[0m: No module named 'jieba'"
     ]
    }
   ],
   "source": [
    "import jieba\n",
    "import jieba.analyse as anly\n",
    "import numpy as np\n",
    "import pandas as pd\n",
    "from wordcloud import WordCloud, ImageColorGenerator\n",
    "from PIL import Image\n",
    "import matplotlib.pyplot as plt\n",
    "\n",
    "file_name = '词云.xlsx'\n",
    "file = pd.ExcelFile(file_name)\n",
    "data = pd.read_excel(file, \"OriginData\", header=None)\n",
    "\n",
    "data = data.dropna(axis=0)\n",
    "data[0] = data[0][1:]"
   ]
  },
  {
   "cell_type": "code",
   "execution_count": null,
   "id": "e7d0d11e",
   "metadata": {},
   "outputs": [],
   "source": [
    "data = data.drop(0, axis=0)"
   ]
  },
  {
   "cell_type": "code",
   "execution_count": null,
   "id": "e5142f37",
   "metadata": {},
   "outputs": [],
   "source": [
    "data.dropna(inplace=True)"
   ]
  },
  {
   "cell_type": "code",
   "execution_count": null,
   "id": "aa29922f",
   "metadata": {},
   "outputs": [],
   "source": [
    "data.values[1][0]\n",
    "lst = list(range(1, len(data[0]) + 1))\n",
    "data.index = lst\n",
    "\n",
    "data.index = data.index.map(lambda x: str(x))\n",
    "# data.apply()\n",
    "# for i in range(len(data)):\n",
    "#     print(data.iloc[i])\n",
    "data.index"
   ]
  },
  {
   "cell_type": "code",
   "execution_count": null,
   "id": "d03e83e3",
   "metadata": {},
   "outputs": [],
   "source": [
    "word_lst = ['没有', '无', 'wu']\n",
    "length = len(data)\n",
    "print(length)\n",
    "for i in range(1, length+1):\n",
    "    flg = False\n",
    "    for word in word_lst:\n",
    "        if word in data.loc[str(i), 0] or str.isnumeric(data.loc[str(i), 0]):\n",
    "            flg = True\n",
    "    if flg:\n",
    "        data.drop(labels=str(i), axis=0, inplace=True)"
   ]
  },
  {
   "cell_type": "code",
   "execution_count": null,
   "id": "8270b6e5",
   "metadata": {},
   "outputs": [],
   "source": [
    "str1 = 'hell'\n",
    "str2 = 'hello'\n",
    "str1 in str2"
   ]
  },
  {
   "cell_type": "code",
   "execution_count": null,
   "id": "f82c8d5e",
   "metadata": {},
   "outputs": [],
   "source": [
    "lst = list(range(1, len(data[0]) + 1))\n",
    "data.index = lst\n",
    "data"
   ]
  },
  {
   "cell_type": "code",
   "execution_count": null,
   "id": "58dc1c0e",
   "metadata": {},
   "outputs": [],
   "source": [
    "# 加载停用词表\n",
    "text_stopwords = open(\"StopWord.txt\", 'r', encoding='utf-8')"
   ]
  },
  {
   "cell_type": "code",
   "execution_count": null,
   "id": "d6698cb7",
   "metadata": {},
   "outputs": [],
   "source": [
    "stopwords = [line.strip() for line in text_stopwords]\n",
    "stopwords.extend(['，', '口臭', '臭', '轻食'])"
   ]
  },
  {
   "cell_type": "code",
   "execution_count": null,
   "id": "3ed1f203",
   "metadata": {},
   "outputs": [],
   "source": [
    "# 读取文本 并未去除停用词\n",
    "import pandas as pd\n",
    "import jieba\n",
    "\n",
    "def cut_word(word):\n",
    "    cw = jieba.cut(word)\n",
    "    return list(cw)\n",
    "\n",
    "data['cut_word'] = data[0].apply(cut_word)\n",
    "\n",
    "info = pd.Series(data['cut_word'].sum()) # sum 什么鬼函数\n",
    "\n",
    "info.index = range(1, len(info) + 1)\n",
    "info"
   ]
  },
  {
   "cell_type": "code",
   "execution_count": null,
   "id": "a7e00764",
   "metadata": {},
   "outputs": [],
   "source": [
    "text_lst = list((info.values))"
   ]
  },
  {
   "cell_type": "code",
   "execution_count": null,
   "id": "a55350d0",
   "metadata": {},
   "outputs": [],
   "source": [
    "text_split_no = []    #从停词表中删除\n",
    "for text in text_lst:\n",
    "    text = text.strip()\n",
    "    if text in stopwords or text.isdigit():\n",
    "        continue\n",
    "    else:\n",
    "        text_split_no.append(text)"
   ]
  },
  {
   "cell_type": "code",
   "execution_count": null,
   "id": "de3f6c57",
   "metadata": {},
   "outputs": [],
   "source": [
    "text_split_no_str = ' '.join(text_split_no)  # 将list类型转换为str"
   ]
  },
  {
   "cell_type": "code",
   "execution_count": null,
   "id": "653c569a",
   "metadata": {},
   "outputs": [],
   "source": [
    "# 基于TF-IDF提取关键词\n",
    "keywords = []                                # 创建空列表（list）\n",
    "for x, w in anly.extract_tags(text_split_no_str, topK=50, withWeight=True):\n",
    "    keywords.append(x)                       # 前50关键词组成的list\n",
    "keywords = ' '.join(keywords)                # 将list类型转换为str\n",
    "print(\"基于TF-IDF提取的前50个关键词：\",keywords)"
   ]
  },
  {
   "cell_type": "code",
   "execution_count": null,
   "id": "b88fc17e",
   "metadata": {},
   "outputs": [],
   "source": [
    "# 制作词云图\n",
    "# 绘制词云图\n",
    "bg = np.array(Image.open(\"图片1.jpg\"))        # 读取背景形状,形状背景必须为纯白\n",
    "wordcloud = WordCloud(\n",
    "    font_path=\"/System/Library/Fonts/pingfang.ttc\",  # 设置字体\n",
    "    background_color=None,                      # 设置背景颜色为空\n",
    "    mode=\"RGBA\",                                # 设置背景为透明\n",
    "    width=1000,                                 # 设置画布宽度为1000像素\n",
    "    height=800,                                 # 设置画布高度为800像素\n",
    "    prefer_horizontal= 0.8,                     # 词语水平方向排版出现的频率\n",
    "    scale=1.2,                                  # 画布放大倍数\n",
    "    margin=10,                                  # 设置词云图的边缘宽度\n",
    "    max_font_size=90,                           # 设置词云图中最大字号\n",
    "    min_font_size=10,                           # 设置词云图中最小字号\n",
    "    random_state=50,                            # 设置词云图随机配色方案\n",
    "    mask=bg,                                    # 套用背景形状\n",
    "    ).generate(keywords)                        # 根据文本生成词云,generate_from_text(text)的简写\n",
    "\n",
    "plt.imshow(wordcloud)\n",
    "plt.axis(\"off\")\n",
    "plt.show()\n",
    "wordcloud.to_file(\"WordCloudPicture1.png\")"
   ]
  },
  {
   "cell_type": "code",
   "execution_count": 3,
   "id": "ad151f75",
   "metadata": {},
   "outputs": [
    {
     "name": "stdout",
     "output_type": "stream",
     "text": [
      "Collecting package metadata (current_repodata.json): ...working... done\n",
      "Solving environment: ...working... failed with initial frozen solve. Retrying with flexible solve.\n",
      "Collecting package metadata (repodata.json): ...working... done\n",
      "Solving environment: ...working... failed with initial frozen solve. Retrying with flexible solve.\n"
     ]
    },
    {
     "name": "stderr",
     "output_type": "stream",
     "text": [
      "\n",
      "PackagesNotFoundError: The following packages are not available from current channels:\n",
      "\n",
      "  - jieba\n",
      "\n",
      "Current channels:\n",
      "\n",
      "  - http://mirrors.tuna.tsinghua.edu.cn/anaconda/pkgs/main/win-64\n",
      "  - http://mirrors.tuna.tsinghua.edu.cn/anaconda/pkgs/main/noarch\n",
      "  - http://mirrors.tuna.tsinghua.edu.cn/anaconda/pkgs/free/win-64\n",
      "  - http://mirrors.tuna.tsinghua.edu.cn/anaconda/pkgs/free/noarch\n",
      "  - http://mirrors.tuna.tsinghua.edu.cn/anaconda/pkgs/r/win-64\n",
      "  - http://mirrors.tuna.tsinghua.edu.cn/anaconda/pkgs/r/noarch\n",
      "  - http://mirrors.tuna.tsinghua.edu.cn/anaconda/pkgs/pro/win-64\n",
      "  - http://mirrors.tuna.tsinghua.edu.cn/anaconda/pkgs/pro/noarch\n",
      "  - http://mirrors.tuna.tsinghua.edu.cn/anaconda/pkgs/msys2/win-64\n",
      "  - http://mirrors.tuna.tsinghua.edu.cn/anaconda/pkgs/msys2/noarch\n",
      "\n",
      "To search for alternate channels that may provide the conda package you're\n",
      "looking for, navigate to\n",
      "\n",
      "    https://anaconda.org\n",
      "\n",
      "and use the search bar at the top of the page.\n",
      "\n",
      "\n"
     ]
    }
   ],
   "source": [
    "!conda install jieba"
   ]
  },
  {
   "cell_type": "code",
   "execution_count": null,
   "id": "96d2a47b",
   "metadata": {},
   "outputs": [],
   "source": []
  }
 ],
 "metadata": {
  "kernelspec": {
   "display_name": "Python 3 (ipykernel)",
   "language": "python",
   "name": "python3"
  },
  "language_info": {
   "codemirror_mode": {
    "name": "ipython",
    "version": 3
   },
   "file_extension": ".py",
   "mimetype": "text/x-python",
   "name": "python",
   "nbconvert_exporter": "python",
   "pygments_lexer": "ipython3",
   "version": "3.9.7"
  }
 },
 "nbformat": 4,
 "nbformat_minor": 5
}
