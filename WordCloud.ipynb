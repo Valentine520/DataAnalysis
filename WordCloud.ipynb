{
 "cells": [
  {
   "cell_type": "code",
   "execution_count": 320,
   "id": "1c17dc45",
   "metadata": {},
   "outputs": [],
   "source": [
    "import jieba\n",
    "import jieba.analyse as anly\n",
    "import numpy as np\n",
    "import pandas as pd\n",
    "from wordcloud import WordCloud, ImageColorGenerator\n",
    "from PIL import Image\n",
    "import matplotlib.pyplot as plt\n",
    "\n",
    "file_name = '词云.xlsx'\n",
    "file = pd.ExcelFile(file_name)\n",
    "data = pd.read_excel(file, \"OriginData\", header=None)\n",
    "\n",
    "data = data.dropna(axis=0)\n",
    "data[0] = data[0][1:]"
   ]
  },
  {
   "cell_type": "code",
   "execution_count": 321,
   "id": "e7d0d11e",
   "metadata": {},
   "outputs": [],
   "source": [
    "data = data.drop(0, axis=0)"
   ]
  },
  {
   "cell_type": "code",
   "execution_count": 322,
   "id": "e5142f37",
   "metadata": {},
   "outputs": [],
   "source": [
    "data.dropna(inplace=True)"
   ]
  },
  {
   "cell_type": "code",
   "execution_count": 323,
   "id": "aa29922f",
   "metadata": {},
   "outputs": [
    {
     "data": {
      "text/plain": [
       "Index(['1', '2', '3', '4', '5', '6', '7', '8', '9', '10',\n",
       "       ...\n",
       "       '1080', '1081', '1082', '1083', '1084', '1085', '1086', '1087', '1088',\n",
       "       '1089'],\n",
       "      dtype='object', length=1089)"
      ]
     },
     "execution_count": 323,
     "metadata": {},
     "output_type": "execute_result"
    }
   ],
   "source": [
    "data.values[1][0]\n",
    "lst = list(range(1, len(data[0]) + 1))\n",
    "data.index = lst\n",
    "\n",
    "data.index = data.index.map(lambda x: str(x))\n",
    "# data.apply()\n",
    "# for i in range(len(data)):\n",
    "#     print(data.iloc[i])\n",
    "data.index"
   ]
  },
  {
   "cell_type": "code",
   "execution_count": 324,
   "id": "d03e83e3",
   "metadata": {},
   "outputs": [
    {
     "name": "stdout",
     "output_type": "stream",
     "text": [
      "1089\n"
     ]
    }
   ],
   "source": [
    "word_lst = ['没有', '无', 'wu']\n",
    "length = len(data)\n",
    "print(length)\n",
    "for i in range(1, length+1):\n",
    "    flg = False\n",
    "    for word in word_lst:\n",
    "        if word in data.loc[str(i), 0] or str.isnumeric(data.loc[str(i), 0]):\n",
    "            flg = True\n",
    "    if flg:\n",
    "        data.drop(labels=str(i), axis=0, inplace=True)"
   ]
  },
  {
   "cell_type": "code",
   "execution_count": 325,
   "id": "8270b6e5",
   "metadata": {},
   "outputs": [
    {
     "data": {
      "text/plain": [
       "True"
      ]
     },
     "execution_count": 325,
     "metadata": {},
     "output_type": "execute_result"
    }
   ],
   "source": [
    "str1 = 'hell'\n",
    "str2 = 'hello'\n",
    "str1 in str2"
   ]
  },
  {
   "cell_type": "code",
   "execution_count": 326,
   "id": "f82c8d5e",
   "metadata": {},
   "outputs": [
    {
     "data": {
      "text/html": [
       "<div>\n",
       "<style scoped>\n",
       "    .dataframe tbody tr th:only-of-type {\n",
       "        vertical-align: middle;\n",
       "    }\n",
       "\n",
       "    .dataframe tbody tr th {\n",
       "        vertical-align: top;\n",
       "    }\n",
       "\n",
       "    .dataframe thead th {\n",
       "        text-align: right;\n",
       "    }\n",
       "</style>\n",
       "<table border=\"1\" class=\"dataframe\">\n",
       "  <thead>\n",
       "    <tr style=\"text-align: right;\">\n",
       "      <th></th>\n",
       "      <th>0</th>\n",
       "    </tr>\n",
       "  </thead>\n",
       "  <tbody>\n",
       "    <tr>\n",
       "      <th>1</th>\n",
       "      <td>好好好</td>\n",
       "    </tr>\n",
       "    <tr>\n",
       "      <th>2</th>\n",
       "      <td>推广力度小</td>\n",
       "    </tr>\n",
       "    <tr>\n",
       "      <th>3</th>\n",
       "      <td>轻食食材新鲜</td>\n",
       "    </tr>\n",
       "    <tr>\n",
       "      <th>4</th>\n",
       "      <td>加强监管力度宣传力度</td>\n",
       "    </tr>\n",
       "    <tr>\n",
       "      <th>5</th>\n",
       "      <td>希望多一些种类，调整一下价格</td>\n",
       "    </tr>\n",
       "    <tr>\n",
       "      <th>...</th>\n",
       "      <td>...</td>\n",
       "    </tr>\n",
       "    <tr>\n",
       "      <th>524</th>\n",
       "      <td>多元化</td>\n",
       "    </tr>\n",
       "    <tr>\n",
       "      <th>525</th>\n",
       "      <td>行业规范</td>\n",
       "    </tr>\n",
       "    <tr>\n",
       "      <th>526</th>\n",
       "      <td>优秀</td>\n",
       "    </tr>\n",
       "    <tr>\n",
       "      <th>527</th>\n",
       "      <td>价格高</td>\n",
       "    </tr>\n",
       "    <tr>\n",
       "      <th>528</th>\n",
       "      <td>科学饮食很重要</td>\n",
       "    </tr>\n",
       "  </tbody>\n",
       "</table>\n",
       "<p>528 rows × 1 columns</p>\n",
       "</div>"
      ],
      "text/plain": [
       "                  0\n",
       "1               好好好\n",
       "2             推广力度小\n",
       "3            轻食食材新鲜\n",
       "4        加强监管力度宣传力度\n",
       "5    希望多一些种类，调整一下价格\n",
       "..              ...\n",
       "524             多元化\n",
       "525            行业规范\n",
       "526              优秀\n",
       "527             价格高\n",
       "528         科学饮食很重要\n",
       "\n",
       "[528 rows x 1 columns]"
      ]
     },
     "execution_count": 326,
     "metadata": {},
     "output_type": "execute_result"
    }
   ],
   "source": [
    "lst = list(range(1, len(data[0]) + 1))\n",
    "data.index = lst\n",
    "data"
   ]
  },
  {
   "cell_type": "code",
   "execution_count": 327,
   "id": "58dc1c0e",
   "metadata": {},
   "outputs": [],
   "source": [
    "# 加载停用词表\n",
    "text_stopwords = open(\"StopWord.txt\", 'r', encoding='utf-8')"
   ]
  },
  {
   "cell_type": "code",
   "execution_count": 328,
   "id": "d6698cb7",
   "metadata": {},
   "outputs": [],
   "source": [
    "stopwords = [line.strip() for line in text_stopwords]\n",
    "stopwords.extend(['，', '口臭', '臭', '轻食'])"
   ]
  },
  {
   "cell_type": "code",
   "execution_count": 329,
   "id": "3ed1f203",
   "metadata": {},
   "outputs": [
    {
     "data": {
      "text/plain": [
       "1       好好\n",
       "2        好\n",
       "3       推广\n",
       "4       力度\n",
       "5        小\n",
       "        ..\n",
       "2342     高\n",
       "2343    科学\n",
       "2344    饮食\n",
       "2345     很\n",
       "2346    重要\n",
       "Length: 2346, dtype: object"
      ]
     },
     "execution_count": 329,
     "metadata": {},
     "output_type": "execute_result"
    }
   ],
   "source": [
    "# 读取文本 并未去除停用词\n",
    "import pandas as pd\n",
    "import jieba\n",
    "\n",
    "def cut_word(word):\n",
    "    cw = jieba.cut(word)\n",
    "    return list(cw)\n",
    "\n",
    "data['cut_word'] = data[0].apply(cut_word)\n",
    "\n",
    "info = pd.Series(data['cut_word'].sum()) # sum 什么鬼函数\n",
    "\n",
    "info.index = range(1, len(info) + 1)\n",
    "info"
   ]
  },
  {
   "cell_type": "code",
   "execution_count": 330,
   "id": "a7e00764",
   "metadata": {},
   "outputs": [],
   "source": [
    "text_lst = list((info.values))"
   ]
  },
  {
   "cell_type": "code",
   "execution_count": 331,
   "id": "a55350d0",
   "metadata": {},
   "outputs": [],
   "source": [
    "text_split_no = []    #从停词表中删除\n",
    "for text in text_lst:\n",
    "    text = text.strip()\n",
    "    if text in stopwords or text.isdigit():\n",
    "        continue\n",
    "    else:\n",
    "        text_split_no.append(text)"
   ]
  },
  {
   "cell_type": "code",
   "execution_count": 332,
   "id": "de3f6c57",
   "metadata": {},
   "outputs": [],
   "source": [
    "text_split_no_str = ' '.join(text_split_no)  # 将list类型转换为str"
   ]
  },
  {
   "cell_type": "code",
   "execution_count": 333,
   "id": "653c569a",
   "metadata": {},
   "outputs": [
    {
     "name": "stdout",
     "output_type": "stream",
     "text": [
      "基于TF-IDF提取的前50个关键词： 健康 营养 口味 宣传 卫生 搭配 价格 均衡 希望 力度 提高 性价比 加大 推广 好吃 食材 美味 口感 多样化 种类 一点 保证 市场 荤素 饮食 产品 监管 加油 质量 降低 价格便宜 便宜 味道 减肥 食品 营养成分 不错 品质 安全卫生 感觉 越来越 注重 产品质量 规范 消费 多元化 大众 噱头 品种 行业\n"
     ]
    }
   ],
   "source": [
    "# 基于TF-IDF提取关键词\n",
    "keywords = []                                # 创建空列表（list）\n",
    "for x, w in anly.extract_tags(text_split_no_str, topK=50, withWeight=True):\n",
    "    keywords.append(x)                       # 前50关键词组成的list\n",
    "keywords = ' '.join(keywords)                # 将list类型转换为str\n",
    "print(\"基于TF-IDF提取的前50个关键词：\",keywords)"
   ]
  },
  {
   "cell_type": "code",
   "execution_count": 337,
   "id": "b88fc17e",
   "metadata": {},
   "outputs": [
    {
     "data": {
      "image/png": "[encoded data removed]",
      "text/plain": [
       "<Figure size 432x288 with 1 Axes>"
      ]
     },
     "metadata": {
      "needs_background": "light"
     },
     "output_type": "display_data"
    },
    {
     "data": {
      "text/plain": [
       "<wordcloud.wordcloud.WordCloud at 0x7f87b013b160>"
      ]
     },
     "execution_count": 337,
     "metadata": {},
     "output_type": "execute_result"
    }
   ],
   "source": [
    "# 制作词云图\n",
    "# 绘制词云图\n",
    "bg = np.array(Image.open(\"图片1.jpg\"))        # 读取背景形状,形状背景必须为纯白\n",
    "wordcloud = WordCloud(\n",
    "    font_path=\"/System/Library/Fonts/pingfang.ttc\",  # 设置字体\n",
    "    background_color=None,                      # 设置背景颜色为空\n",
    "    mode=\"RGBA\",                                # 设置背景为透明\n",
    "    width=1000,                                 # 设置画布宽度为1000像素\n",
    "    height=800,                                 # 设置画布高度为800像素\n",
    "    prefer_horizontal= 0.8,                     # 词语水平方向排版出现的频率\n",
    "    scale=1.2,                                  # 画布放大倍数\n",
    "    margin=10,                                  # 设置词云图的边缘宽度\n",
    "    max_font_size=90,                           # 设置词云图中最大字号\n",
    "    min_font_size=10,                           # 设置词云图中最小字号\n",
    "    random_state=50,                            # 设置词云图随机配色方案\n",
    "    mask=bg,                                    # 套用背景形状\n",
    "    ).generate(keywords)                        # 根据文本生成词云,generate_from_text(text)的简写\n",
    "\n",
    "plt.imshow(wordcloud)\n",
    "plt.axis(\"off\")\n",
    "plt.show()\n",
    "wordcloud.to_file(\"WordCloudPicture1.png\")"
   ]
  },
  {
   "cell_type": "code",
   "execution_count": 335,
   "id": "ad151f75",
   "metadata": {},
   "outputs": [
    {
     "data": {
      "text/plain": [
       "array([[[0, 0, 0, 0],\n",
       "        [0, 0, 0, 0],\n",
       "        [0, 0, 0, 0],\n",
       "        ...,\n",
       "        [0, 0, 0, 0],\n",
       "        [0, 0, 0, 0],\n",
       "        [0, 0, 0, 0]],\n",
       "\n",
       "       [[0, 0, 0, 0],\n",
       "        [0, 0, 0, 0],\n",
       "        [0, 0, 0, 0],\n",
       "        ...,\n",
       "        [0, 0, 0, 0],\n",
       "        [0, 0, 0, 0],\n",
       "        [0, 0, 0, 0]],\n",
       "\n",
       "       [[0, 0, 0, 0],\n",
       "        [0, 0, 0, 0],\n",
       "        [0, 0, 0, 0],\n",
       "        ...,\n",
       "        [0, 0, 0, 0],\n",
       "        [0, 0, 0, 0],\n",
       "        [0, 0, 0, 0]],\n",
       "\n",
       "       ...,\n",
       "\n",
       "       [[0, 0, 0, 0],\n",
       "        [0, 0, 0, 0],\n",
       "        [0, 0, 0, 0],\n",
       "        ...,\n",
       "        [0, 0, 0, 0],\n",
       "        [0, 0, 0, 0],\n",
       "        [0, 0, 0, 0]],\n",
       "\n",
       "       [[0, 0, 0, 0],\n",
       "        [0, 0, 0, 0],\n",
       "        [0, 0, 0, 0],\n",
       "        ...,\n",
       "        [0, 0, 0, 0],\n",
       "        [0, 0, 0, 0],\n",
       "        [0, 0, 0, 0]],\n",
       "\n",
       "       [[0, 0, 0, 0],\n",
       "        [0, 0, 0, 0],\n",
       "        [0, 0, 0, 0],\n",
       "        ...,\n",
       "        [0, 0, 0, 0],\n",
       "        [0, 0, 0, 0],\n",
       "        [0, 0, 0, 0]]], dtype=uint8)"
      ]
     },
     "execution_count": 335,
     "metadata": {},
     "output_type": "execute_result"
    }
   ],
   "source": [
    "bg"
   ]
  },
  {
   "cell_type": "code",
   "execution_count": null,
   "id": "96d2a47b",
   "metadata": {},
   "outputs": [],
   "source": []
  }
 ],
 "metadata": {
  "kernelspec": {
   "display_name": "Python 3",
   "language": "python",
   "name": "python3"
  },
  "language_info": {
   "codemirror_mode": {
    "name": "ipython",
    "version": 3
   },
   "file_extension": ".py",
   "mimetype": "text/x-python",
   "name": "python",
   "nbconvert_exporter": "python",
   "pygments_lexer": "ipython3",
   "version": "3.8.8"
  }
 },
 "nbformat": 4,
 "nbformat_minor": 5
}
