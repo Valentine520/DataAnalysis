{
 "cells": [
  {
   "cell_type": "code",
   "execution_count": 2,
   "id": "3a67510b",
   "metadata": {},
   "outputs": [],
   "source": [
    "# 处理时间序列类型\n",
    "from datetime import datetime\n",
    "from datetime import timedelta # 表示两个时间的差\n",
    "import pandas as pd\n",
    "import numpy as np"
   ]
  },
  {
   "cell_type": "code",
   "execution_count": 3,
   "id": "bb26c904",
   "metadata": {},
   "outputs": [],
   "source": [
    "now = datetime.now()"
   ]
  },
  {
   "cell_type": "code",
   "execution_count": 4,
   "id": "428134c1",
   "metadata": {},
   "outputs": [
    {
     "data": {
      "text/plain": [
       "datetime.datetime(2022, 3, 25, 8, 57, 49, 541770)"
      ]
     },
     "execution_count": 4,
     "metadata": {},
     "output_type": "execute_result"
    }
   ],
   "source": [
    "now"
   ]
  },
  {
   "cell_type": "code",
   "execution_count": 5,
   "id": "974442df",
   "metadata": {},
   "outputs": [
    {
     "data": {
      "text/plain": [
       "(2022, 3, 25)"
      ]
     },
     "execution_count": 5,
     "metadata": {},
     "output_type": "execute_result"
    }
   ],
   "source": [
    "now.year, now.month, now.day # 创建年月日元组"
   ]
  },
  {
   "cell_type": "code",
   "execution_count": 6,
   "id": "a4c95c72",
   "metadata": {},
   "outputs": [],
   "source": [
    "delta = datetime(2011, 1, 7) - datetime(2008, 6, 24, 8, 15)"
   ]
  },
  {
   "cell_type": "code",
   "execution_count": 7,
   "id": "b83868da",
   "metadata": {},
   "outputs": [
    {
     "data": {
      "text/plain": [
       "datetime.timedelta(days=926, seconds=56700)"
      ]
     },
     "execution_count": 7,
     "metadata": {},
     "output_type": "execute_result"
    }
   ],
   "source": [
    "delta"
   ]
  },
  {
   "cell_type": "code",
   "execution_count": 8,
   "id": "0a29ab2d",
   "metadata": {},
   "outputs": [],
   "source": [
    "start = datetime(2011, 1, 7)"
   ]
  },
  {
   "cell_type": "code",
   "execution_count": 9,
   "id": "e1bd8916",
   "metadata": {},
   "outputs": [
    {
     "data": {
      "text/plain": [
       "datetime.datetime(2011, 1, 7, 0, 0)"
      ]
     },
     "execution_count": 9,
     "metadata": {},
     "output_type": "execute_result"
    }
   ],
   "source": [
    "start"
   ]
  },
  {
   "cell_type": "code",
   "execution_count": 10,
   "id": "e4f4cd8f",
   "metadata": {},
   "outputs": [
    {
     "data": {
      "text/plain": [
       "datetime.datetime(2011, 1, 7, 0, 0, 12)"
      ]
     },
     "execution_count": 10,
     "metadata": {},
     "output_type": "execute_result"
    }
   ],
   "source": [
    "start + timedelta(seconds=12) # 添加12个间隔 days"
   ]
  },
  {
   "cell_type": "code",
   "execution_count": 11,
   "id": "a5dd7cb1",
   "metadata": {},
   "outputs": [],
   "source": [
    "timedelta?"
   ]
  },
  {
   "cell_type": "code",
   "execution_count": 12,
   "id": "361a8c3a",
   "metadata": {},
   "outputs": [
    {
     "data": {
      "text/plain": [
       "datetime.datetime(2010, 12, 14, 0, 0)"
      ]
     },
     "execution_count": 12,
     "metadata": {},
     "output_type": "execute_result"
    }
   ],
   "source": [
    "start - 2 * timedelta(12)"
   ]
  },
  {
   "cell_type": "code",
   "execution_count": 13,
   "id": "7c92035f",
   "metadata": {},
   "outputs": [],
   "source": [
    "stamp = datetime(2011, 1, 3)"
   ]
  },
  {
   "cell_type": "code",
   "execution_count": 14,
   "id": "b4f0d3f6",
   "metadata": {},
   "outputs": [
    {
     "data": {
      "text/plain": [
       "datetime.datetime(2011, 1, 3, 0, 0)"
      ]
     },
     "execution_count": 14,
     "metadata": {},
     "output_type": "execute_result"
    }
   ],
   "source": [
    "stamp"
   ]
  },
  {
   "cell_type": "code",
   "execution_count": 15,
   "id": "1af8a1a3",
   "metadata": {},
   "outputs": [
    {
     "data": {
      "text/plain": [
       "'2011-01-03-00-00-002011-01-03'"
      ]
     },
     "execution_count": 15,
     "metadata": {},
     "output_type": "execute_result"
    }
   ],
   "source": [
    "stamp.strftime('%Y-%m-%d-%H-%M-%S%F')"
   ]
  },
  {
   "cell_type": "code",
   "execution_count": 16,
   "id": "9727b3d9",
   "metadata": {},
   "outputs": [
    {
     "data": {
      "text/plain": [
       "52.142857142857146"
      ]
     },
     "execution_count": 16,
     "metadata": {},
     "output_type": "execute_result"
    }
   ],
   "source": [
    "365 / 7"
   ]
  },
  {
   "cell_type": "code",
   "execution_count": 17,
   "id": "ff7ae85e",
   "metadata": {},
   "outputs": [],
   "source": [
    "value = '2011-01-03'"
   ]
  },
  {
   "cell_type": "code",
   "execution_count": 18,
   "id": "9fe3d1c8",
   "metadata": {},
   "outputs": [
    {
     "data": {
      "text/plain": [
       "'2011-01-03'"
      ]
     },
     "execution_count": 18,
     "metadata": {},
     "output_type": "execute_result"
    }
   ],
   "source": [
    "value"
   ]
  },
  {
   "cell_type": "code",
   "execution_count": 19,
   "id": "283d4529",
   "metadata": {},
   "outputs": [
    {
     "data": {
      "text/plain": [
       "datetime.datetime(2011, 1, 3, 0, 0)"
      ]
     },
     "execution_count": 19,
     "metadata": {},
     "output_type": "execute_result"
    }
   ],
   "source": [
    "datetime.strptime(value, \"%Y-%m-%d\") # 为什么不能传入%F"
   ]
  },
  {
   "cell_type": "code",
   "execution_count": 20,
   "id": "ae8e4091",
   "metadata": {},
   "outputs": [],
   "source": [
    "datestrs = ['7/6/2011', '8/6/2011']"
   ]
  },
  {
   "cell_type": "code",
   "execution_count": 21,
   "id": "80244134",
   "metadata": {},
   "outputs": [
    {
     "data": {
      "text/plain": [
       "[datetime.datetime(2011, 7, 6, 0, 0), datetime.datetime(2011, 8, 6, 0, 0)]"
      ]
     },
     "execution_count": 21,
     "metadata": {},
     "output_type": "execute_result"
    }
   ],
   "source": [
    "[datetime.strptime(x, '%m/%d/%Y') for x in datestrs]"
   ]
  },
  {
   "cell_type": "code",
   "execution_count": 22,
   "id": "ee39494d",
   "metadata": {},
   "outputs": [],
   "source": [
    "from dateutil.parser import parse"
   ]
  },
  {
   "cell_type": "code",
   "execution_count": 23,
   "id": "8675094c",
   "metadata": {},
   "outputs": [
    {
     "data": {
      "text/plain": [
       "datetime.datetime(2002, 1, 12, 0, 0)"
      ]
     },
     "execution_count": 23,
     "metadata": {},
     "output_type": "execute_result"
    }
   ],
   "source": [
    "parse('2002-1-12')"
   ]
  },
  {
   "cell_type": "code",
   "execution_count": 24,
   "id": "5ae18872",
   "metadata": {},
   "outputs": [
    {
     "data": {
      "text/plain": [
       "datetime.datetime(1997, 1, 31, 22, 45)"
      ]
     },
     "execution_count": 24,
     "metadata": {},
     "output_type": "execute_result"
    }
   ],
   "source": [
    "parse('Jan 31, 1997 10:45 PM')"
   ]
  },
  {
   "cell_type": "code",
   "execution_count": 25,
   "id": "d6dfa806",
   "metadata": {},
   "outputs": [
    {
     "data": {
      "text/plain": [
       "datetime.datetime(2022, 12, 6, 0, 0)"
      ]
     },
     "execution_count": 25,
     "metadata": {},
     "output_type": "execute_result"
    }
   ],
   "source": [
    "parse('6/12/2022', dayfirst=True)"
   ]
  },
  {
   "cell_type": "code",
   "execution_count": 26,
   "id": "59d35e4f",
   "metadata": {},
   "outputs": [],
   "source": [
    "datestrs = ['7/6/2011', '8/6/2011']"
   ]
  },
  {
   "cell_type": "code",
   "execution_count": 27,
   "id": "1ec7a737",
   "metadata": {},
   "outputs": [
    {
     "data": {
      "text/plain": [
       "DatetimeIndex(['2011-07-06', '2011-08-06'], dtype='datetime64[ns]', freq=None)"
      ]
     },
     "execution_count": 27,
     "metadata": {},
     "output_type": "execute_result"
    }
   ],
   "source": [
    "pd.to_datetime(datestrs)"
   ]
  },
  {
   "cell_type": "code",
   "execution_count": 28,
   "id": "bac73f9a",
   "metadata": {},
   "outputs": [],
   "source": [
    "idx = pd.to_datetime(datestrs + [None])"
   ]
  },
  {
   "cell_type": "code",
   "execution_count": 29,
   "id": "8b0303de",
   "metadata": {},
   "outputs": [
    {
     "data": {
      "text/plain": [
       "NaT"
      ]
     },
     "execution_count": 29,
     "metadata": {},
     "output_type": "execute_result"
    }
   ],
   "source": [
    "idx[2]"
   ]
  },
  {
   "cell_type": "code",
   "execution_count": 30,
   "id": "0cfc9b56",
   "metadata": {},
   "outputs": [
    {
     "data": {
      "text/plain": [
       "array([False, False,  True])"
      ]
     },
     "execution_count": 30,
     "metadata": {},
     "output_type": "execute_result"
    }
   ],
   "source": [
    "pd.isnull(idx)"
   ]
  },
  {
   "cell_type": "code",
   "execution_count": 31,
   "id": "f1fd8d22",
   "metadata": {},
   "outputs": [
    {
     "data": {
      "text/plain": [
       "DatetimeIndex(['2011-07-06', '2011-08-06', 'NaT'], dtype='datetime64[ns]', freq=None)"
      ]
     },
     "execution_count": 31,
     "metadata": {},
     "output_type": "execute_result"
    }
   ],
   "source": [
    "idx"
   ]
  },
  {
   "cell_type": "code",
   "execution_count": 32,
   "id": "d6e68c23",
   "metadata": {},
   "outputs": [
    {
     "data": {
      "text/plain": [
       "['07/06/11', '08/06/11']"
      ]
     },
     "execution_count": 32,
     "metadata": {},
     "output_type": "execute_result"
    }
   ],
   "source": [
    "[item.strftime('%x') for item in idx.dropna()]"
   ]
  },
  {
   "cell_type": "code",
   "execution_count": 33,
   "id": "e09f6acd",
   "metadata": {},
   "outputs": [],
   "source": [
    "dates = ['2001-1-2', '2011-1-5', '2011-1-7', '2011-1-8', '2011-1-9']"
   ]
  },
  {
   "cell_type": "code",
   "execution_count": 34,
   "id": "9e9f4c0c",
   "metadata": {},
   "outputs": [],
   "source": [
    "length = len(dates)"
   ]
  },
  {
   "cell_type": "code",
   "execution_count": 35,
   "id": "87df549a",
   "metadata": {},
   "outputs": [],
   "source": [
    "ts = pd.Series(np.random.randn(length), index=dates) # 直接用str生成索引"
   ]
  },
  {
   "cell_type": "code",
   "execution_count": 36,
   "id": "d4e4fdad",
   "metadata": {},
   "outputs": [
    {
     "data": {
      "text/plain": [
       "2001-1-2   -1.657215\n",
       "2011-1-5    0.220609\n",
       "2011-1-7   -0.247095\n",
       "2011-1-8   -0.804631\n",
       "2011-1-9   -1.196899\n",
       "dtype: float64"
      ]
     },
     "execution_count": 36,
     "metadata": {},
     "output_type": "execute_result"
    }
   ],
   "source": [
    "ts"
   ]
  },
  {
   "cell_type": "code",
   "execution_count": 37,
   "id": "d44b4145",
   "metadata": {},
   "outputs": [
    {
     "data": {
      "text/plain": [
       "Index(['2001-1-2', '2011-1-5', '2011-1-7', '2011-1-8', '2011-1-9'], dtype='object')"
      ]
     },
     "execution_count": 37,
     "metadata": {},
     "output_type": "execute_result"
    }
   ],
   "source": [
    "ts.index"
   ]
  },
  {
   "cell_type": "code",
   "execution_count": 38,
   "id": "b469eca1",
   "metadata": {},
   "outputs": [],
   "source": [
    "dates = list(map(parse, dates))"
   ]
  },
  {
   "cell_type": "code",
   "execution_count": 39,
   "id": "4359cae6",
   "metadata": {},
   "outputs": [
    {
     "data": {
      "text/plain": [
       "[datetime.datetime(2001, 1, 2, 0, 0),\n",
       " datetime.datetime(2011, 1, 5, 0, 0),\n",
       " datetime.datetime(2011, 1, 7, 0, 0),\n",
       " datetime.datetime(2011, 1, 8, 0, 0),\n",
       " datetime.datetime(2011, 1, 9, 0, 0)]"
      ]
     },
     "execution_count": 39,
     "metadata": {},
     "output_type": "execute_result"
    }
   ],
   "source": [
    "dates"
   ]
  },
  {
   "cell_type": "code",
   "execution_count": 40,
   "id": "ea4b684b",
   "metadata": {},
   "outputs": [],
   "source": [
    "ts = pd.Series(np.random.randn(length), index=dates) # 利用datetime对象生成index"
   ]
  },
  {
   "cell_type": "code",
   "execution_count": 41,
   "id": "a7374ede",
   "metadata": {},
   "outputs": [
    {
     "data": {
      "text/plain": [
       "2001-01-02    1.083219\n",
       "2011-01-05   -0.123127\n",
       "2011-01-07   -1.622847\n",
       "2011-01-08   -0.436533\n",
       "2011-01-09    0.167961\n",
       "dtype: float64"
      ]
     },
     "execution_count": 41,
     "metadata": {},
     "output_type": "execute_result"
    }
   ],
   "source": [
    "ts"
   ]
  },
  {
   "cell_type": "code",
   "execution_count": 42,
   "id": "c4013c9e",
   "metadata": {},
   "outputs": [
    {
     "data": {
      "text/plain": [
       "DatetimeIndex(['2001-01-02', '2011-01-05', '2011-01-07', '2011-01-08',\n",
       "               '2011-01-09'],\n",
       "              dtype='datetime64[ns]', freq=None)"
      ]
     },
     "execution_count": 42,
     "metadata": {},
     "output_type": "execute_result"
    }
   ],
   "source": [
    "ts.index"
   ]
  },
  {
   "cell_type": "code",
   "execution_count": 43,
   "id": "998ec83b",
   "metadata": {},
   "outputs": [
    {
     "data": {
      "text/plain": [
       "Timestamp('2001-01-02 00:00:00')"
      ]
     },
     "execution_count": 43,
     "metadata": {},
     "output_type": "execute_result"
    }
   ],
   "source": [
    "ts.index[0]"
   ]
  },
  {
   "cell_type": "code",
   "execution_count": 44,
   "id": "068d66e1",
   "metadata": {},
   "outputs": [
    {
     "data": {
      "text/plain": [
       "2001-01-02    2.166438\n",
       "2011-01-05         NaN\n",
       "2011-01-07   -3.245695\n",
       "2011-01-08         NaN\n",
       "2011-01-09    0.335922\n",
       "dtype: float64"
      ]
     },
     "execution_count": 44,
     "metadata": {},
     "output_type": "execute_result"
    }
   ],
   "source": [
    "ts + ts[::2]"
   ]
  },
  {
   "cell_type": "code",
   "execution_count": 45,
   "id": "c95f2373",
   "metadata": {},
   "outputs": [
    {
     "data": {
      "text/plain": [
       "2001-01-02    1.083219\n",
       "2011-01-07   -1.622847\n",
       "2011-01-09    0.167961\n",
       "dtype: float64"
      ]
     },
     "execution_count": 45,
     "metadata": {},
     "output_type": "execute_result"
    }
   ],
   "source": [
    "ts[::2]"
   ]
  },
  {
   "cell_type": "code",
   "execution_count": 46,
   "id": "641fd94e",
   "metadata": {},
   "outputs": [
    {
     "data": {
      "text/plain": [
       "dtype('<M8[ns]')"
      ]
     },
     "execution_count": 46,
     "metadata": {},
     "output_type": "execute_result"
    }
   ],
   "source": [
    "ts.index.dtype"
   ]
  },
  {
   "cell_type": "code",
   "execution_count": 47,
   "id": "4f7e75d4",
   "metadata": {},
   "outputs": [],
   "source": [
    "stamp = ts.index[0]"
   ]
  },
  {
   "cell_type": "code",
   "execution_count": 48,
   "id": "3bb71811",
   "metadata": {},
   "outputs": [
    {
     "data": {
      "text/plain": [
       "Timestamp('2001-01-02 00:00:00')"
      ]
     },
     "execution_count": 48,
     "metadata": {},
     "output_type": "execute_result"
    }
   ],
   "source": [
    "stamp"
   ]
  },
  {
   "cell_type": "code",
   "execution_count": 49,
   "id": "00e3746e",
   "metadata": {},
   "outputs": [
    {
     "data": {
      "text/plain": [
       "1.083219135593366"
      ]
     },
     "execution_count": 49,
     "metadata": {},
     "output_type": "execute_result"
    }
   ],
   "source": [
    "ts[stamp]"
   ]
  },
  {
   "cell_type": "code",
   "execution_count": 50,
   "id": "c4f45438",
   "metadata": {},
   "outputs": [
    {
     "data": {
      "text/plain": [
       "0.16796078942535897"
      ]
     },
     "execution_count": 50,
     "metadata": {},
     "output_type": "execute_result"
    }
   ],
   "source": [
    "ts['1/9/2011'] # 可以传入字符串"
   ]
  },
  {
   "cell_type": "code",
   "execution_count": 51,
   "id": "88b6799b",
   "metadata": {},
   "outputs": [
    {
     "data": {
      "text/plain": [
       "0.16796078942535897"
      ]
     },
     "execution_count": 51,
     "metadata": {},
     "output_type": "execute_result"
    }
   ],
   "source": [
    "ts['2011-1-9']"
   ]
  },
  {
   "cell_type": "code",
   "execution_count": 52,
   "id": "316a3656",
   "metadata": {},
   "outputs": [
    {
     "data": {
      "text/plain": [
       "0.16796078942535897"
      ]
     },
     "execution_count": 52,
     "metadata": {},
     "output_type": "execute_result"
    }
   ],
   "source": [
    "ts['20110109']"
   ]
  },
  {
   "cell_type": "code",
   "execution_count": 53,
   "id": "0a410221",
   "metadata": {},
   "outputs": [],
   "source": [
    "longer_ts = pd.Series(np.random.randn(1000),\n",
    "                     index=pd.date_range('1/1/2000', periods=1000))"
   ]
  },
  {
   "cell_type": "code",
   "execution_count": 54,
   "id": "d88834d2",
   "metadata": {},
   "outputs": [
    {
     "data": {
      "text/plain": [
       "2000-01-01    0.754358\n",
       "2000-01-02   -0.974822\n",
       "2000-01-03    0.632290\n",
       "2000-01-04    0.315993\n",
       "2000-01-05   -1.887149\n",
       "                ...   \n",
       "2002-09-22   -1.005395\n",
       "2002-09-23   -0.921755\n",
       "2002-09-24   -1.643986\n",
       "2002-09-25   -0.499909\n",
       "2002-09-26   -1.210904\n",
       "Freq: D, Length: 1000, dtype: float64"
      ]
     },
     "execution_count": 54,
     "metadata": {},
     "output_type": "execute_result"
    }
   ],
   "source": [
    "longer_ts"
   ]
  },
  {
   "cell_type": "code",
   "execution_count": 55,
   "id": "2be4c2f7",
   "metadata": {},
   "outputs": [
    {
     "data": {
      "text/plain": [
       "2000-01-01    0.754358\n",
       "2000-01-02   -0.974822\n",
       "2000-01-03    0.632290\n",
       "2000-01-04    0.315993\n",
       "2000-01-05   -1.887149\n",
       "2000-01-06    1.718369\n",
       "2000-01-07   -1.261030\n",
       "2000-01-08    0.583044\n",
       "2000-01-09   -0.314606\n",
       "2000-01-10   -0.904805\n",
       "2000-01-11   -0.968423\n",
       "2000-01-12    0.380674\n",
       "2000-01-13   -0.169482\n",
       "2000-01-14    1.087627\n",
       "2000-01-15    0.857766\n",
       "2000-01-16    0.728689\n",
       "2000-01-17    0.917556\n",
       "2000-01-18    0.744588\n",
       "2000-01-19   -0.182312\n",
       "2000-01-20   -0.421922\n",
       "2000-01-21   -0.508915\n",
       "2000-01-22   -0.955864\n",
       "2000-01-23   -0.064427\n",
       "2000-01-24   -0.418299\n",
       "2000-01-25    0.429141\n",
       "2000-01-26    0.602603\n",
       "2000-01-27    0.430157\n",
       "2000-01-28    2.124864\n",
       "2000-01-29    0.384188\n",
       "2000-01-30   -1.301426\n",
       "2000-01-31    0.347939\n",
       "Freq: D, dtype: float64"
      ]
     },
     "execution_count": 55,
     "metadata": {},
     "output_type": "execute_result"
    }
   ],
   "source": [
    "longer_ts['2000-01']"
   ]
  },
  {
   "cell_type": "code",
   "execution_count": 56,
   "id": "149e98f8",
   "metadata": {},
   "outputs": [
    {
     "data": {
      "text/plain": [
       "0.4923643568162857"
      ]
     },
     "execution_count": 56,
     "metadata": {},
     "output_type": "execute_result"
    }
   ],
   "source": [
    "longer_ts['2000-05-01']"
   ]
  },
  {
   "cell_type": "code",
   "execution_count": 57,
   "id": "279e4f0e",
   "metadata": {},
   "outputs": [
    {
     "data": {
      "text/plain": [
       "2011-01-07   -1.622847\n",
       "2011-01-08   -0.436533\n",
       "2011-01-09    0.167961\n",
       "dtype: float64"
      ]
     },
     "execution_count": 57,
     "metadata": {},
     "output_type": "execute_result"
    }
   ],
   "source": [
    "ts[datetime(2011, 1, 7):]"
   ]
  },
  {
   "cell_type": "code",
   "execution_count": 58,
   "id": "3f3d624c",
   "metadata": {},
   "outputs": [],
   "source": [
    "longer_ts.rename(index={datetime(2000, 1, 1): datetime(2000, 11, 28)}, inplace=True)"
   ]
  },
  {
   "cell_type": "code",
   "execution_count": 59,
   "id": "b6acc19e",
   "metadata": {},
   "outputs": [
    {
     "data": {
      "text/plain": [
       "2000-11-28    0.754358\n",
       "2000-11-01    0.479430\n",
       "2000-11-02    0.817153\n",
       "2000-11-03   -0.179788\n",
       "2000-11-04    1.583351\n",
       "2000-11-05    1.374917\n",
       "2000-11-06    0.169694\n",
       "2000-11-07   -0.313367\n",
       "2000-11-08   -0.616881\n",
       "2000-11-09   -0.664785\n",
       "2000-11-10    0.016103\n",
       "2000-11-11    1.656288\n",
       "2000-11-12   -2.404784\n",
       "2000-11-13   -1.692358\n",
       "2000-11-14    0.162103\n",
       "2000-11-15    0.683279\n",
       "2000-11-16    0.948502\n",
       "2000-11-17    0.366813\n",
       "2000-11-18    0.439336\n",
       "2000-11-19    1.126868\n",
       "2000-11-20    1.280788\n",
       "2000-11-21    0.104538\n",
       "2000-11-22    0.149537\n",
       "2000-11-23   -0.323920\n",
       "2000-11-24   -0.008989\n",
       "2000-11-25    2.206362\n",
       "2000-11-26   -1.710837\n",
       "2000-11-27   -0.836656\n",
       "2000-11-28   -0.739931\n",
       "2000-11-29   -2.074062\n",
       "2000-11-30    0.463490\n",
       "dtype: float64"
      ]
     },
     "execution_count": 59,
     "metadata": {},
     "output_type": "execute_result"
    }
   ],
   "source": [
    "longer_ts['2000-11']"
   ]
  },
  {
   "cell_type": "code",
   "execution_count": 60,
   "id": "8ef0f5fa",
   "metadata": {},
   "outputs": [],
   "source": [
    "longer_ts.sort_index(inplace=True)"
   ]
  },
  {
   "cell_type": "code",
   "execution_count": 61,
   "id": "5e937d1f",
   "metadata": {},
   "outputs": [
    {
     "data": {
      "text/plain": [
       "2000-01-02   -0.974822\n",
       "2000-01-03    0.632290\n",
       "2000-01-04    0.315993\n",
       "2000-01-05   -1.887149\n",
       "2000-01-06    1.718369\n",
       "                ...   \n",
       "2002-09-22   -1.005395\n",
       "2002-09-23   -0.921755\n",
       "2002-09-24   -1.643986\n",
       "2002-09-25   -0.499909\n",
       "2002-09-26   -1.210904\n",
       "Length: 1000, dtype: float64"
      ]
     },
     "execution_count": 61,
     "metadata": {},
     "output_type": "execute_result"
    }
   ],
   "source": [
    "longer_ts"
   ]
  },
  {
   "cell_type": "code",
   "execution_count": 62,
   "id": "a2ce1cf0",
   "metadata": {},
   "outputs": [
    {
     "data": {
      "text/plain": [
       "2011-01-07   -1.622847\n",
       "2011-01-08   -0.436533\n",
       "2011-01-09    0.167961\n",
       "dtype: float64"
      ]
     },
     "execution_count": 62,
     "metadata": {},
     "output_type": "execute_result"
    }
   ],
   "source": [
    "ts['1/6/2011': '1/11/2011'] # 提供范围索引"
   ]
  },
  {
   "cell_type": "code",
   "execution_count": 63,
   "id": "55508aba",
   "metadata": {},
   "outputs": [
    {
     "data": {
      "text/plain": [
       "2001-01-02    1.083219\n",
       "2011-01-05   -0.123127\n",
       "2011-01-07   -1.622847\n",
       "2011-01-08   -0.436533\n",
       "2011-01-09    0.167961\n",
       "dtype: float64"
      ]
     },
     "execution_count": 63,
     "metadata": {},
     "output_type": "execute_result"
    }
   ],
   "source": [
    "ts.truncate()"
   ]
  },
  {
   "cell_type": "code",
   "execution_count": 64,
   "id": "352dbfe3",
   "metadata": {},
   "outputs": [],
   "source": [
    "dates = pd.date_range('1/1/2000', periods=100, freq='W-WED')"
   ]
  },
  {
   "cell_type": "code",
   "execution_count": 65,
   "id": "befaaf1c",
   "metadata": {},
   "outputs": [
    {
     "data": {
      "text/plain": [
       "DatetimeIndex(['2000-01-05', '2000-01-12', '2000-01-19', '2000-01-26',\n",
       "               '2000-02-02', '2000-02-09', '2000-02-16', '2000-02-23',\n",
       "               '2000-03-01', '2000-03-08', '2000-03-15', '2000-03-22',\n",
       "               '2000-03-29', '2000-04-05', '2000-04-12', '2000-04-19',\n",
       "               '2000-04-26', '2000-05-03', '2000-05-10', '2000-05-17',\n",
       "               '2000-05-24', '2000-05-31', '2000-06-07', '2000-06-14',\n",
       "               '2000-06-21', '2000-06-28', '2000-07-05', '2000-07-12',\n",
       "               '2000-07-19', '2000-07-26', '2000-08-02', '2000-08-09',\n",
       "               '2000-08-16', '2000-08-23', '2000-08-30', '2000-09-06',\n",
       "               '2000-09-13', '2000-09-20', '2000-09-27', '2000-10-04',\n",
       "               '2000-10-11', '2000-10-18', '2000-10-25', '2000-11-01',\n",
       "               '2000-11-08', '2000-11-15', '2000-11-22', '2000-11-29',\n",
       "               '2000-12-06', '2000-12-13', '2000-12-20', '2000-12-27',\n",
       "               '2001-01-03', '2001-01-10', '2001-01-17', '2001-01-24',\n",
       "               '2001-01-31', '2001-02-07', '2001-02-14', '2001-02-21',\n",
       "               '2001-02-28', '2001-03-07', '2001-03-14', '2001-03-21',\n",
       "               '2001-03-28', '2001-04-04', '2001-04-11', '2001-04-18',\n",
       "               '2001-04-25', '2001-05-02', '2001-05-09', '2001-05-16',\n",
       "               '2001-05-23', '2001-05-30', '2001-06-06', '2001-06-13',\n",
       "               '2001-06-20', '2001-06-27', '2001-07-04', '2001-07-11',\n",
       "               '2001-07-18', '2001-07-25', '2001-08-01', '2001-08-08',\n",
       "               '2001-08-15', '2001-08-22', '2001-08-29', '2001-09-05',\n",
       "               '2001-09-12', '2001-09-19', '2001-09-26', '2001-10-03',\n",
       "               '2001-10-10', '2001-10-17', '2001-10-24', '2001-10-31',\n",
       "               '2001-11-07', '2001-11-14', '2001-11-21', '2001-11-28'],\n",
       "              dtype='datetime64[ns]', freq='W-WED')"
      ]
     },
     "execution_count": 65,
     "metadata": {},
     "output_type": "execute_result"
    }
   ],
   "source": [
    "dates"
   ]
  },
  {
   "cell_type": "code",
   "execution_count": 66,
   "id": "e14427af",
   "metadata": {},
   "outputs": [],
   "source": [
    "long_df = pd.DataFrame(np.random.randn(100, 4),\n",
    "                      index=dates,\n",
    "                      columns=['Colorado', 'Texas',\n",
    "                              'New York', 'Ohio']) # 使用DatetimeIndex作为index"
   ]
  },
  {
   "cell_type": "code",
   "execution_count": 67,
   "id": "f43279d7",
   "metadata": {},
   "outputs": [
    {
     "data": {
      "text/html": [
       "<div>\n",
       "<style scoped>\n",
       "    .dataframe tbody tr th:only-of-type {\n",
       "        vertical-align: middle;\n",
       "    }\n",
       "\n",
       "    .dataframe tbody tr th {\n",
       "        vertical-align: top;\n",
       "    }\n",
       "\n",
       "    .dataframe thead th {\n",
       "        text-align: right;\n",
       "    }\n",
       "</style>\n",
       "<table border=\"1\" class=\"dataframe\">\n",
       "  <thead>\n",
       "    <tr style=\"text-align: right;\">\n",
       "      <th></th>\n",
       "      <th>Colorado</th>\n",
       "      <th>Texas</th>\n",
       "      <th>New York</th>\n",
       "      <th>Ohio</th>\n",
       "    </tr>\n",
       "  </thead>\n",
       "  <tbody>\n",
       "    <tr>\n",
       "      <th>2000-01-26</th>\n",
       "      <td>0.716736</td>\n",
       "      <td>1.612196</td>\n",
       "      <td>0.806900</td>\n",
       "      <td>1.187047</td>\n",
       "    </tr>\n",
       "    <tr>\n",
       "      <th>2000-02-02</th>\n",
       "      <td>1.683888</td>\n",
       "      <td>-0.579880</td>\n",
       "      <td>1.163493</td>\n",
       "      <td>-0.363389</td>\n",
       "    </tr>\n",
       "    <tr>\n",
       "      <th>2000-02-09</th>\n",
       "      <td>1.563380</td>\n",
       "      <td>0.451282</td>\n",
       "      <td>-0.190360</td>\n",
       "      <td>0.928689</td>\n",
       "    </tr>\n",
       "    <tr>\n",
       "      <th>2000-02-16</th>\n",
       "      <td>0.526298</td>\n",
       "      <td>0.261203</td>\n",
       "      <td>2.029119</td>\n",
       "      <td>-0.199626</td>\n",
       "    </tr>\n",
       "    <tr>\n",
       "      <th>2000-02-23</th>\n",
       "      <td>0.433849</td>\n",
       "      <td>-0.957811</td>\n",
       "      <td>0.593797</td>\n",
       "      <td>0.055170</td>\n",
       "    </tr>\n",
       "    <tr>\n",
       "      <th>2000-03-01</th>\n",
       "      <td>-0.409630</td>\n",
       "      <td>-1.383387</td>\n",
       "      <td>0.708196</td>\n",
       "      <td>-0.605968</td>\n",
       "    </tr>\n",
       "    <tr>\n",
       "      <th>2000-03-08</th>\n",
       "      <td>-1.601064</td>\n",
       "      <td>-1.059497</td>\n",
       "      <td>-0.604199</td>\n",
       "      <td>1.123573</td>\n",
       "    </tr>\n",
       "    <tr>\n",
       "      <th>2000-03-15</th>\n",
       "      <td>0.430940</td>\n",
       "      <td>0.296976</td>\n",
       "      <td>1.198959</td>\n",
       "      <td>0.548913</td>\n",
       "    </tr>\n",
       "    <tr>\n",
       "      <th>2000-03-22</th>\n",
       "      <td>0.589283</td>\n",
       "      <td>-0.249866</td>\n",
       "      <td>0.070508</td>\n",
       "      <td>0.267410</td>\n",
       "    </tr>\n",
       "    <tr>\n",
       "      <th>2000-03-29</th>\n",
       "      <td>1.023104</td>\n",
       "      <td>0.006115</td>\n",
       "      <td>-0.164506</td>\n",
       "      <td>-1.215729</td>\n",
       "    </tr>\n",
       "    <tr>\n",
       "      <th>2000-04-05</th>\n",
       "      <td>0.394643</td>\n",
       "      <td>0.817487</td>\n",
       "      <td>-1.321363</td>\n",
       "      <td>-1.498410</td>\n",
       "    </tr>\n",
       "    <tr>\n",
       "      <th>2000-04-12</th>\n",
       "      <td>0.079774</td>\n",
       "      <td>-0.681498</td>\n",
       "      <td>1.249781</td>\n",
       "      <td>-1.415194</td>\n",
       "    </tr>\n",
       "    <tr>\n",
       "      <th>2000-04-19</th>\n",
       "      <td>-0.228762</td>\n",
       "      <td>-0.174164</td>\n",
       "      <td>-0.999307</td>\n",
       "      <td>-0.001127</td>\n",
       "    </tr>\n",
       "    <tr>\n",
       "      <th>2000-04-26</th>\n",
       "      <td>-0.124965</td>\n",
       "      <td>0.287976</td>\n",
       "      <td>1.546641</td>\n",
       "      <td>-1.110399</td>\n",
       "    </tr>\n",
       "    <tr>\n",
       "      <th>2000-05-03</th>\n",
       "      <td>1.772037</td>\n",
       "      <td>1.362244</td>\n",
       "      <td>-0.070072</td>\n",
       "      <td>0.449710</td>\n",
       "    </tr>\n",
       "    <tr>\n",
       "      <th>2000-05-10</th>\n",
       "      <td>-1.309006</td>\n",
       "      <td>-1.504461</td>\n",
       "      <td>1.094582</td>\n",
       "      <td>-0.398278</td>\n",
       "    </tr>\n",
       "    <tr>\n",
       "      <th>2000-05-17</th>\n",
       "      <td>0.624340</td>\n",
       "      <td>-1.577077</td>\n",
       "      <td>2.169313</td>\n",
       "      <td>-0.851678</td>\n",
       "    </tr>\n",
       "    <tr>\n",
       "      <th>2000-05-24</th>\n",
       "      <td>-0.134150</td>\n",
       "      <td>-0.025893</td>\n",
       "      <td>-0.125638</td>\n",
       "      <td>1.186203</td>\n",
       "    </tr>\n",
       "    <tr>\n",
       "      <th>2000-05-31</th>\n",
       "      <td>-0.266835</td>\n",
       "      <td>0.969092</td>\n",
       "      <td>-0.000519</td>\n",
       "      <td>-0.114470</td>\n",
       "    </tr>\n",
       "    <tr>\n",
       "      <th>2000-06-07</th>\n",
       "      <td>-0.581239</td>\n",
       "      <td>-0.315302</td>\n",
       "      <td>-0.488151</td>\n",
       "      <td>0.266554</td>\n",
       "    </tr>\n",
       "    <tr>\n",
       "      <th>2000-06-14</th>\n",
       "      <td>1.681149</td>\n",
       "      <td>0.929884</td>\n",
       "      <td>0.002124</td>\n",
       "      <td>-0.746182</td>\n",
       "    </tr>\n",
       "    <tr>\n",
       "      <th>2000-06-21</th>\n",
       "      <td>1.140811</td>\n",
       "      <td>1.312119</td>\n",
       "      <td>0.290567</td>\n",
       "      <td>-0.647933</td>\n",
       "    </tr>\n",
       "    <tr>\n",
       "      <th>2000-06-28</th>\n",
       "      <td>1.048975</td>\n",
       "      <td>0.784574</td>\n",
       "      <td>-1.784292</td>\n",
       "      <td>-0.773008</td>\n",
       "    </tr>\n",
       "    <tr>\n",
       "      <th>2000-07-05</th>\n",
       "      <td>1.659785</td>\n",
       "      <td>1.378284</td>\n",
       "      <td>-0.819547</td>\n",
       "      <td>-1.412791</td>\n",
       "    </tr>\n",
       "    <tr>\n",
       "      <th>2000-07-12</th>\n",
       "      <td>0.049113</td>\n",
       "      <td>-1.100339</td>\n",
       "      <td>1.050732</td>\n",
       "      <td>-1.795098</td>\n",
       "    </tr>\n",
       "    <tr>\n",
       "      <th>2000-07-19</th>\n",
       "      <td>0.412790</td>\n",
       "      <td>1.241904</td>\n",
       "      <td>0.150548</td>\n",
       "      <td>0.117904</td>\n",
       "    </tr>\n",
       "    <tr>\n",
       "      <th>2000-07-26</th>\n",
       "      <td>0.669489</td>\n",
       "      <td>0.988005</td>\n",
       "      <td>-1.788005</td>\n",
       "      <td>0.308093</td>\n",
       "    </tr>\n",
       "    <tr>\n",
       "      <th>2000-08-02</th>\n",
       "      <td>0.024844</td>\n",
       "      <td>0.148671</td>\n",
       "      <td>-0.054460</td>\n",
       "      <td>1.032262</td>\n",
       "    </tr>\n",
       "    <tr>\n",
       "      <th>2000-08-09</th>\n",
       "      <td>0.525831</td>\n",
       "      <td>-1.766368</td>\n",
       "      <td>0.785070</td>\n",
       "      <td>0.984248</td>\n",
       "    </tr>\n",
       "    <tr>\n",
       "      <th>2000-08-16</th>\n",
       "      <td>0.583283</td>\n",
       "      <td>0.822969</td>\n",
       "      <td>-0.315276</td>\n",
       "      <td>-1.019748</td>\n",
       "    </tr>\n",
       "    <tr>\n",
       "      <th>2000-08-23</th>\n",
       "      <td>-1.217962</td>\n",
       "      <td>-0.019172</td>\n",
       "      <td>-1.419931</td>\n",
       "      <td>1.481052</td>\n",
       "    </tr>\n",
       "    <tr>\n",
       "      <th>2000-08-30</th>\n",
       "      <td>-1.133644</td>\n",
       "      <td>0.609342</td>\n",
       "      <td>1.569678</td>\n",
       "      <td>-0.621353</td>\n",
       "    </tr>\n",
       "    <tr>\n",
       "      <th>2000-09-06</th>\n",
       "      <td>-0.685347</td>\n",
       "      <td>0.899969</td>\n",
       "      <td>-1.036017</td>\n",
       "      <td>-0.866383</td>\n",
       "    </tr>\n",
       "    <tr>\n",
       "      <th>2000-09-13</th>\n",
       "      <td>-0.746935</td>\n",
       "      <td>-0.541082</td>\n",
       "      <td>-0.598666</td>\n",
       "      <td>2.749655</td>\n",
       "    </tr>\n",
       "    <tr>\n",
       "      <th>2000-09-20</th>\n",
       "      <td>1.273281</td>\n",
       "      <td>0.516688</td>\n",
       "      <td>0.000896</td>\n",
       "      <td>-1.396145</td>\n",
       "    </tr>\n",
       "    <tr>\n",
       "      <th>2000-09-27</th>\n",
       "      <td>0.265062</td>\n",
       "      <td>1.741866</td>\n",
       "      <td>-0.642988</td>\n",
       "      <td>-1.514305</td>\n",
       "    </tr>\n",
       "    <tr>\n",
       "      <th>2000-10-04</th>\n",
       "      <td>0.105965</td>\n",
       "      <td>-0.494093</td>\n",
       "      <td>-0.293483</td>\n",
       "      <td>0.359364</td>\n",
       "    </tr>\n",
       "    <tr>\n",
       "      <th>2000-10-11</th>\n",
       "      <td>0.866424</td>\n",
       "      <td>-1.008160</td>\n",
       "      <td>1.555847</td>\n",
       "      <td>-0.049579</td>\n",
       "    </tr>\n",
       "    <tr>\n",
       "      <th>2000-10-18</th>\n",
       "      <td>0.079882</td>\n",
       "      <td>1.126972</td>\n",
       "      <td>-0.288544</td>\n",
       "      <td>-0.483875</td>\n",
       "    </tr>\n",
       "    <tr>\n",
       "      <th>2000-10-25</th>\n",
       "      <td>-1.741321</td>\n",
       "      <td>0.074941</td>\n",
       "      <td>0.920044</td>\n",
       "      <td>0.726076</td>\n",
       "    </tr>\n",
       "    <tr>\n",
       "      <th>2000-11-01</th>\n",
       "      <td>2.135209</td>\n",
       "      <td>0.102580</td>\n",
       "      <td>-0.599580</td>\n",
       "      <td>0.052482</td>\n",
       "    </tr>\n",
       "    <tr>\n",
       "      <th>2000-11-08</th>\n",
       "      <td>-0.193612</td>\n",
       "      <td>-0.102151</td>\n",
       "      <td>0.380579</td>\n",
       "      <td>-0.133581</td>\n",
       "    </tr>\n",
       "    <tr>\n",
       "      <th>2000-11-15</th>\n",
       "      <td>-0.410892</td>\n",
       "      <td>-0.987172</td>\n",
       "      <td>-0.742901</td>\n",
       "      <td>-0.441392</td>\n",
       "    </tr>\n",
       "    <tr>\n",
       "      <th>2000-11-22</th>\n",
       "      <td>-0.747845</td>\n",
       "      <td>0.862770</td>\n",
       "      <td>-1.620065</td>\n",
       "      <td>-0.346733</td>\n",
       "    </tr>\n",
       "    <tr>\n",
       "      <th>2000-11-29</th>\n",
       "      <td>2.121912</td>\n",
       "      <td>-0.216542</td>\n",
       "      <td>-0.694149</td>\n",
       "      <td>0.485758</td>\n",
       "    </tr>\n",
       "    <tr>\n",
       "      <th>2000-12-06</th>\n",
       "      <td>-0.850760</td>\n",
       "      <td>1.222457</td>\n",
       "      <td>2.349935</td>\n",
       "      <td>-0.313752</td>\n",
       "    </tr>\n",
       "    <tr>\n",
       "      <th>2000-12-13</th>\n",
       "      <td>0.235972</td>\n",
       "      <td>1.011691</td>\n",
       "      <td>-0.504942</td>\n",
       "      <td>0.907777</td>\n",
       "    </tr>\n",
       "    <tr>\n",
       "      <th>2000-12-20</th>\n",
       "      <td>-0.633526</td>\n",
       "      <td>-0.272056</td>\n",
       "      <td>-0.880903</td>\n",
       "      <td>-1.942154</td>\n",
       "    </tr>\n",
       "    <tr>\n",
       "      <th>2000-12-27</th>\n",
       "      <td>0.781725</td>\n",
       "      <td>0.574416</td>\n",
       "      <td>0.003308</td>\n",
       "      <td>0.305890</td>\n",
       "    </tr>\n",
       "    <tr>\n",
       "      <th>2001-01-03</th>\n",
       "      <td>0.295969</td>\n",
       "      <td>0.551553</td>\n",
       "      <td>-0.419933</td>\n",
       "      <td>0.908603</td>\n",
       "    </tr>\n",
       "  </tbody>\n",
       "</table>\n",
       "</div>"
      ],
      "text/plain": [
       "            Colorado     Texas  New York      Ohio\n",
       "2000-01-26  0.716736  1.612196  0.806900  1.187047\n",
       "2000-02-02  1.683888 -0.579880  1.163493 -0.363389\n",
       "2000-02-09  1.563380  0.451282 -0.190360  0.928689\n",
       "2000-02-16  0.526298  0.261203  2.029119 -0.199626\n",
       "2000-02-23  0.433849 -0.957811  0.593797  0.055170\n",
       "2000-03-01 -0.409630 -1.383387  0.708196 -0.605968\n",
       "2000-03-08 -1.601064 -1.059497 -0.604199  1.123573\n",
       "2000-03-15  0.430940  0.296976  1.198959  0.548913\n",
       "2000-03-22  0.589283 -0.249866  0.070508  0.267410\n",
       "2000-03-29  1.023104  0.006115 -0.164506 -1.215729\n",
       "2000-04-05  0.394643  0.817487 -1.321363 -1.498410\n",
       "2000-04-12  0.079774 -0.681498  1.249781 -1.415194\n",
       "2000-04-19 -0.228762 -0.174164 -0.999307 -0.001127\n",
       "2000-04-26 -0.124965  0.287976  1.546641 -1.110399\n",
       "2000-05-03  1.772037  1.362244 -0.070072  0.449710\n",
       "2000-05-10 -1.309006 -1.504461  1.094582 -0.398278\n",
       "2000-05-17  0.624340 -1.577077  2.169313 -0.851678\n",
       "2000-05-24 -0.134150 -0.025893 -0.125638  1.186203\n",
       "2000-05-31 -0.266835  0.969092 -0.000519 -0.114470\n",
       "2000-06-07 -0.581239 -0.315302 -0.488151  0.266554\n",
       "2000-06-14  1.681149  0.929884  0.002124 -0.746182\n",
       "2000-06-21  1.140811  1.312119  0.290567 -0.647933\n",
       "2000-06-28  1.048975  0.784574 -1.784292 -0.773008\n",
       "2000-07-05  1.659785  1.378284 -0.819547 -1.412791\n",
       "2000-07-12  0.049113 -1.100339  1.050732 -1.795098\n",
       "2000-07-19  0.412790  1.241904  0.150548  0.117904\n",
       "2000-07-26  0.669489  0.988005 -1.788005  0.308093\n",
       "2000-08-02  0.024844  0.148671 -0.054460  1.032262\n",
       "2000-08-09  0.525831 -1.766368  0.785070  0.984248\n",
       "2000-08-16  0.583283  0.822969 -0.315276 -1.019748\n",
       "2000-08-23 -1.217962 -0.019172 -1.419931  1.481052\n",
       "2000-08-30 -1.133644  0.609342  1.569678 -0.621353\n",
       "2000-09-06 -0.685347  0.899969 -1.036017 -0.866383\n",
       "2000-09-13 -0.746935 -0.541082 -0.598666  2.749655\n",
       "2000-09-20  1.273281  0.516688  0.000896 -1.396145\n",
       "2000-09-27  0.265062  1.741866 -0.642988 -1.514305\n",
       "2000-10-04  0.105965 -0.494093 -0.293483  0.359364\n",
       "2000-10-11  0.866424 -1.008160  1.555847 -0.049579\n",
       "2000-10-18  0.079882  1.126972 -0.288544 -0.483875\n",
       "2000-10-25 -1.741321  0.074941  0.920044  0.726076\n",
       "2000-11-01  2.135209  0.102580 -0.599580  0.052482\n",
       "2000-11-08 -0.193612 -0.102151  0.380579 -0.133581\n",
       "2000-11-15 -0.410892 -0.987172 -0.742901 -0.441392\n",
       "2000-11-22 -0.747845  0.862770 -1.620065 -0.346733\n",
       "2000-11-29  2.121912 -0.216542 -0.694149  0.485758\n",
       "2000-12-06 -0.850760  1.222457  2.349935 -0.313752\n",
       "2000-12-13  0.235972  1.011691 -0.504942  0.907777\n",
       "2000-12-20 -0.633526 -0.272056 -0.880903 -1.942154\n",
       "2000-12-27  0.781725  0.574416  0.003308  0.305890\n",
       "2001-01-03  0.295969  0.551553 -0.419933  0.908603"
      ]
     },
     "execution_count": 67,
     "metadata": {},
     "output_type": "execute_result"
    }
   ],
   "source": [
    "long_df.truncate('2000-1-25', '2001-1-3')"
   ]
  },
  {
   "cell_type": "code",
   "execution_count": 68,
   "id": "7138290b",
   "metadata": {},
   "outputs": [
    {
     "data": {
      "text/html": [
       "<div>\n",
       "<style scoped>\n",
       "    .dataframe tbody tr th:only-of-type {\n",
       "        vertical-align: middle;\n",
       "    }\n",
       "\n",
       "    .dataframe tbody tr th {\n",
       "        vertical-align: top;\n",
       "    }\n",
       "\n",
       "    .dataframe thead th {\n",
       "        text-align: right;\n",
       "    }\n",
       "</style>\n",
       "<table border=\"1\" class=\"dataframe\">\n",
       "  <thead>\n",
       "    <tr style=\"text-align: right;\">\n",
       "      <th></th>\n",
       "      <th>Colorado</th>\n",
       "      <th>Texas</th>\n",
       "      <th>New York</th>\n",
       "      <th>Ohio</th>\n",
       "    </tr>\n",
       "  </thead>\n",
       "  <tbody>\n",
       "    <tr>\n",
       "      <th>2001-05-02</th>\n",
       "      <td>-2.472300</td>\n",
       "      <td>-0.404854</td>\n",
       "      <td>0.914330</td>\n",
       "      <td>0.205162</td>\n",
       "    </tr>\n",
       "    <tr>\n",
       "      <th>2001-05-09</th>\n",
       "      <td>-1.276198</td>\n",
       "      <td>0.073907</td>\n",
       "      <td>-2.025129</td>\n",
       "      <td>0.114681</td>\n",
       "    </tr>\n",
       "    <tr>\n",
       "      <th>2001-05-16</th>\n",
       "      <td>-1.204070</td>\n",
       "      <td>0.310309</td>\n",
       "      <td>-0.792578</td>\n",
       "      <td>0.873216</td>\n",
       "    </tr>\n",
       "    <tr>\n",
       "      <th>2001-05-23</th>\n",
       "      <td>1.843380</td>\n",
       "      <td>0.594302</td>\n",
       "      <td>1.181747</td>\n",
       "      <td>0.315758</td>\n",
       "    </tr>\n",
       "    <tr>\n",
       "      <th>2001-05-30</th>\n",
       "      <td>-1.277091</td>\n",
       "      <td>-2.168689</td>\n",
       "      <td>0.074772</td>\n",
       "      <td>0.687180</td>\n",
       "    </tr>\n",
       "  </tbody>\n",
       "</table>\n",
       "</div>"
      ],
      "text/plain": [
       "            Colorado     Texas  New York      Ohio\n",
       "2001-05-02 -2.472300 -0.404854  0.914330  0.205162\n",
       "2001-05-09 -1.276198  0.073907 -2.025129  0.114681\n",
       "2001-05-16 -1.204070  0.310309 -0.792578  0.873216\n",
       "2001-05-23  1.843380  0.594302  1.181747  0.315758\n",
       "2001-05-30 -1.277091 -2.168689  0.074772  0.687180"
      ]
     },
     "execution_count": 68,
     "metadata": {},
     "output_type": "execute_result"
    }
   ],
   "source": [
    "long_df.loc['5-2001']"
   ]
  },
  {
   "cell_type": "code",
   "execution_count": 69,
   "id": "4ac0da8d",
   "metadata": {},
   "outputs": [],
   "source": [
    "dates = pd.DatetimeIndex(['1/1/2000', '1/2/2000', '1/2/2000',\n",
    "                         '1/2/2000', '1/3/2000'])"
   ]
  },
  {
   "cell_type": "code",
   "execution_count": 70,
   "id": "4ed1b7b9",
   "metadata": {},
   "outputs": [
    {
     "data": {
      "text/plain": [
       "DatetimeIndex(['2000-01-01', '2000-01-02', '2000-01-02', '2000-01-02',\n",
       "               '2000-01-03'],\n",
       "              dtype='datetime64[ns]', freq=None)"
      ]
     },
     "execution_count": 70,
     "metadata": {},
     "output_type": "execute_result"
    }
   ],
   "source": [
    "dates"
   ]
  },
  {
   "cell_type": "code",
   "execution_count": 71,
   "id": "4a58ddda",
   "metadata": {},
   "outputs": [],
   "source": [
    "dup_ts = pd.Series(np.arange(5), index=dates)"
   ]
  },
  {
   "cell_type": "code",
   "execution_count": 72,
   "id": "91c1c09e",
   "metadata": {},
   "outputs": [
    {
     "data": {
      "text/plain": [
       "2000-01-01    0\n",
       "2000-01-02    1\n",
       "2000-01-02    2\n",
       "2000-01-02    3\n",
       "2000-01-03    4\n",
       "dtype: int32"
      ]
     },
     "execution_count": 72,
     "metadata": {},
     "output_type": "execute_result"
    }
   ],
   "source": [
    "dup_ts"
   ]
  },
  {
   "cell_type": "code",
   "execution_count": 73,
   "id": "5c87067d",
   "metadata": {},
   "outputs": [
    {
     "data": {
      "text/plain": [
       "DatetimeIndex(['2000-01-01', '2000-01-02', '2000-01-02', '2000-01-02',\n",
       "               '2000-01-03'],\n",
       "              dtype='datetime64[ns]', freq=None)"
      ]
     },
     "execution_count": 73,
     "metadata": {},
     "output_type": "execute_result"
    }
   ],
   "source": [
    "dup_ts.index"
   ]
  },
  {
   "cell_type": "code",
   "execution_count": 74,
   "id": "8a8392d4",
   "metadata": {},
   "outputs": [
    {
     "data": {
      "text/plain": [
       "False"
      ]
     },
     "execution_count": 74,
     "metadata": {},
     "output_type": "execute_result"
    }
   ],
   "source": [
    "dup_ts.index.is_unique"
   ]
  },
  {
   "cell_type": "code",
   "execution_count": 75,
   "id": "8131acf4",
   "metadata": {},
   "outputs": [
    {
     "data": {
      "text/plain": [
       "4"
      ]
     },
     "execution_count": 75,
     "metadata": {},
     "output_type": "execute_result"
    }
   ],
   "source": [
    "dup_ts['1/3/2000']"
   ]
  },
  {
   "cell_type": "code",
   "execution_count": 76,
   "id": "49443cb5",
   "metadata": {},
   "outputs": [
    {
     "data": {
      "text/plain": [
       "2000-01-02    1\n",
       "2000-01-02    2\n",
       "2000-01-02    3\n",
       "dtype: int32"
      ]
     },
     "execution_count": 76,
     "metadata": {},
     "output_type": "execute_result"
    }
   ],
   "source": [
    "dup_ts['1/2/2000'] # 月日年"
   ]
  },
  {
   "cell_type": "code",
   "execution_count": 77,
   "id": "4e55d850",
   "metadata": {},
   "outputs": [
    {
     "data": {
      "text/plain": [
       "2000-01-01    1\n",
       "2000-01-02    3\n",
       "2000-01-03    1\n",
       "dtype: int64"
      ]
     },
     "execution_count": 77,
     "metadata": {},
     "output_type": "execute_result"
    }
   ],
   "source": [
    "dup_ts.groupby(level=0).size()"
   ]
  },
  {
   "cell_type": "code",
   "execution_count": 78,
   "id": "24e3f573",
   "metadata": {},
   "outputs": [],
   "source": [
    "grouped = dup_ts.groupby(level=0)"
   ]
  },
  {
   "cell_type": "code",
   "execution_count": 79,
   "id": "0e76891a",
   "metadata": {},
   "outputs": [
    {
     "data": {
      "text/plain": [
       "2000-01-01    0.0\n",
       "2000-01-02    2.0\n",
       "2000-01-03    4.0\n",
       "dtype: float64"
      ]
     },
     "execution_count": 79,
     "metadata": {},
     "output_type": "execute_result"
    }
   ],
   "source": [
    "grouped.mean()"
   ]
  },
  {
   "cell_type": "code",
   "execution_count": 80,
   "id": "ffabb139",
   "metadata": {},
   "outputs": [
    {
     "data": {
      "text/plain": [
       "2000-01-01    1\n",
       "2000-01-02    3\n",
       "2000-01-03    1\n",
       "dtype: int64"
      ]
     },
     "execution_count": 80,
     "metadata": {},
     "output_type": "execute_result"
    }
   ],
   "source": [
    "grouped.count()"
   ]
  },
  {
   "cell_type": "code",
   "execution_count": 81,
   "id": "918df5a0",
   "metadata": {},
   "outputs": [
    {
     "data": {
      "text/plain": [
       "2001-01-02    1.083219\n",
       "2011-01-05   -0.123127\n",
       "2011-01-07   -1.622847\n",
       "2011-01-08   -0.436533\n",
       "2011-01-09    0.167961\n",
       "dtype: float64"
      ]
     },
     "execution_count": 81,
     "metadata": {},
     "output_type": "execute_result"
    }
   ],
   "source": [
    "ts"
   ]
  },
  {
   "cell_type": "code",
   "execution_count": 82,
   "id": "8380f897",
   "metadata": {},
   "outputs": [],
   "source": [
    "resampler = ts.resample('D')"
   ]
  },
  {
   "cell_type": "code",
   "execution_count": 83,
   "id": "a52a083e",
   "metadata": {},
   "outputs": [
    {
     "data": {
      "text/plain": [
       "<pandas.core.resample.DatetimeIndexResampler object at 0x000001BA602C12E0>"
      ]
     },
     "execution_count": 83,
     "metadata": {},
     "output_type": "execute_result"
    }
   ],
   "source": [
    "resampler"
   ]
  },
  {
   "cell_type": "code",
   "execution_count": 84,
   "id": "141d8695",
   "metadata": {},
   "outputs": [
    {
     "name": "stdout",
     "output_type": "stream",
     "text": [
      "(Timestamp('2001-01-02 00:00:00', freq='D'), 2001-01-02    1.083219\n",
      "dtype: float64)\n",
      "(Timestamp('2001-01-03 00:00:00', freq='D'), Series([], dtype: float64))\n",
      "(Timestamp('2001-01-04 00:00:00', freq='D'), Series([], dtype: float64))\n",
      "(Timestamp('2001-01-05 00:00:00', freq='D'), Series([], dtype: float64))\n",
      "(Timestamp('2001-01-06 00:00:00', freq='D'), Series([], dtype: float64))\n",
      "(Timestamp('2001-01-07 00:00:00', freq='D'), Series([], dtype: float64))\n",
      "(Timestamp('2001-01-08 00:00:00', freq='D'), Series([], dtype: float64))\n",
      "(Timestamp('2001-01-09 00:00:00', freq='D'), Series([], dtype: float64))\n",
      "(Timestamp('2001-01-10 00:00:00', freq='D'), Series([], dtype: float64))\n",
      "(Timestamp('2001-01-11 00:00:00', freq='D'), Series([], dtype: float64))\n",
      "(Timestamp('2001-01-12 00:00:00', freq='D'), Series([], dtype: float64))\n",
      "(Timestamp('2001-01-13 00:00:00', freq='D'), Series([], dtype: float64))\n",
      "(Timestamp('2001-01-14 00:00:00', freq='D'), Series([], dtype: float64))\n",
      "(Timestamp('2001-01-15 00:00:00', freq='D'), Series([], dtype: float64))\n",
      "(Timestamp('2001-01-16 00:00:00', freq='D'), Series([], dtype: float64))\n",
      "(Timestamp('2001-01-17 00:00:00', freq='D'), Series([], dtype: float64))\n",
      "(Timestamp('2001-01-18 00:00:00', freq='D'), Series([], dtype: float64))\n",
      "(Timestamp('2001-01-19 00:00:00', freq='D'), Series([], dtype: float64))\n",
      "(Timestamp('2001-01-20 00:00:00', freq='D'), Series([], dtype: float64))\n",
      "(Timestamp('2001-01-21 00:00:00', freq='D'), Series([], dtype: float64))\n",
      "(Timestamp('2001-01-22 00:00:00', freq='D'), Series([], dtype: float64))\n",
      "(Timestamp('2001-01-23 00:00:00', freq='D'), Series([], dtype: float64))\n",
      "(Timestamp('2001-01-24 00:00:00', freq='D'), Series([], dtype: float64))\n",
      "(Timestamp('2001-01-25 00:00:00', freq='D'), Series([], dtype: float64))\n",
      "(Timestamp('2001-01-26 00:00:00', freq='D'), Series([], dtype: float64))\n",
      "(Timestamp('2001-01-27 00:00:00', freq='D'), Series([], dtype: float64))\n",
      "(Timestamp('2001-01-28 00:00:00', freq='D'), Series([], dtype: float64))\n",
      "(Timestamp('2001-01-29 00:00:00', freq='D'), Series([], dtype: float64))\n",
      "(Timestamp('2001-01-30 00:00:00', freq='D'), Series([], dtype: float64))\n",
      "(Timestamp('2001-01-31 00:00:00', freq='D'), Series([], dtype: float64))\n",
      "(Timestamp('2001-02-01 00:00:00', freq='D'), Series([], dtype: float64))\n",
      "(Timestamp('2001-02-02 00:00:00', freq='D'), Series([], dtype: float64))\n",
      "(Timestamp('2001-02-03 00:00:00', freq='D'), Series([], dtype: float64))\n",
      "(Timestamp('2001-02-04 00:00:00', freq='D'), Series([], dtype: float64))\n",
      "(Timestamp('2001-02-05 00:00:00', freq='D'), Series([], dtype: float64))\n",
      "(Timestamp('2001-02-06 00:00:00', freq='D'), Series([], dtype: float64))\n",
      "(Timestamp('2001-02-07 00:00:00', freq='D'), Series([], dtype: float64))\n",
      "(Timestamp('2001-02-08 00:00:00', freq='D'), Series([], dtype: float64))\n",
      "(Timestamp('2001-02-09 00:00:00', freq='D'), Series([], dtype: float64))\n",
      "(Timestamp('2001-02-10 00:00:00', freq='D'), Series([], dtype: float64))\n",
      "(Timestamp('2001-02-11 00:00:00', freq='D'), Series([], dtype: float64))\n",
      "(Timestamp('2001-02-12 00:00:00', freq='D'), Series([], dtype: float64))\n",
      "(Timestamp('2001-02-13 00:00:00', freq='D'), Series([], dtype: float64))\n",
      "(Timestamp('2001-02-14 00:00:00', freq='D'), Series([], dtype: float64))\n",
      "(Timestamp('2001-02-15 00:00:00', freq='D'), Series([], dtype: float64))\n",
      "(Timestamp('2001-02-16 00:00:00', freq='D'), Series([], dtype: float64))\n",
      "(Timestamp('2001-02-17 00:00:00', freq='D'), Series([], dtype: float64))\n",
      "(Timestamp('2001-02-18 00:00:00', freq='D'), Series([], dtype: float64))\n",
      "(Timestamp('2001-02-19 00:00:00', freq='D'), Series([], dtype: float64))\n",
      "(Timestamp('2001-02-20 00:00:00', freq='D'), Series([], dtype: float64))\n",
      "(Timestamp('2001-02-21 00:00:00', freq='D'), Series([], dtype: float64))\n",
      "(Timestamp('2001-02-22 00:00:00', freq='D'), Series([], dtype: float64))\n",
      "(Timestamp('2001-02-23 00:00:00', freq='D'), Series([], dtype: float64))\n",
      "(Timestamp('2001-02-24 00:00:00', freq='D'), Series([], dtype: float64))\n",
      "(Timestamp('2001-02-25 00:00:00', freq='D'), Series([], dtype: float64))\n",
      "(Timestamp('2001-02-26 00:00:00', freq='D'), Series([], dtype: float64))\n",
      "(Timestamp('2001-02-27 00:00:00', freq='D'), Series([], dtype: float64))\n",
      "(Timestamp('2001-02-28 00:00:00', freq='D'), Series([], dtype: float64))\n",
      "(Timestamp('2001-03-01 00:00:00', freq='D'), Series([], dtype: float64))\n",
      "(Timestamp('2001-03-02 00:00:00', freq='D'), Series([], dtype: float64))\n",
      "(Timestamp('2001-03-03 00:00:00', freq='D'), Series([], dtype: float64))\n",
      "(Timestamp('2001-03-04 00:00:00', freq='D'), Series([], dtype: float64))\n",
      "(Timestamp('2001-03-05 00:00:00', freq='D'), Series([], dtype: float64))\n",
      "(Timestamp('2001-03-06 00:00:00', freq='D'), Series([], dtype: float64))\n",
      "(Timestamp('2001-03-07 00:00:00', freq='D'), Series([], dtype: float64))\n",
      "(Timestamp('2001-03-08 00:00:00', freq='D'), Series([], dtype: float64))\n",
      "(Timestamp('2001-03-09 00:00:00', freq='D'), Series([], dtype: float64))\n",
      "(Timestamp('2001-03-10 00:00:00', freq='D'), Series([], dtype: float64))\n",
      "(Timestamp('2001-03-11 00:00:00', freq='D'), Series([], dtype: float64))\n",
      "(Timestamp('2001-03-12 00:00:00', freq='D'), Series([], dtype: float64))\n",
      "(Timestamp('2001-03-13 00:00:00', freq='D'), Series([], dtype: float64))\n",
      "(Timestamp('2001-03-14 00:00:00', freq='D'), Series([], dtype: float64))\n",
      "(Timestamp('2001-03-15 00:00:00', freq='D'), Series([], dtype: float64))\n",
      "(Timestamp('2001-03-16 00:00:00', freq='D'), Series([], dtype: float64))\n",
      "(Timestamp('2001-03-17 00:00:00', freq='D'), Series([], dtype: float64))\n",
      "(Timestamp('2001-03-18 00:00:00', freq='D'), Series([], dtype: float64))\n",
      "(Timestamp('2001-03-19 00:00:00', freq='D'), Series([], dtype: float64))\n",
      "(Timestamp('2001-03-20 00:00:00', freq='D'), Series([], dtype: float64))\n",
      "(Timestamp('2001-03-21 00:00:00', freq='D'), Series([], dtype: float64))\n",
      "(Timestamp('2001-03-22 00:00:00', freq='D'), Series([], dtype: float64))\n",
      "(Timestamp('2001-03-23 00:00:00', freq='D'), Series([], dtype: float64))\n",
      "(Timestamp('2001-03-24 00:00:00', freq='D'), Series([], dtype: float64))\n",
      "(Timestamp('2001-03-25 00:00:00', freq='D'), Series([], dtype: float64))\n",
      "(Timestamp('2001-03-26 00:00:00', freq='D'), Series([], dtype: float64))\n",
      "(Timestamp('2001-03-27 00:00:00', freq='D'), Series([], dtype: float64))\n",
      "(Timestamp('2001-03-28 00:00:00', freq='D'), Series([], dtype: float64))\n",
      "(Timestamp('2001-03-29 00:00:00', freq='D'), Series([], dtype: float64))\n",
      "(Timestamp('2001-03-30 00:00:00', freq='D'), Series([], dtype: float64))\n",
      "(Timestamp('2001-03-31 00:00:00', freq='D'), Series([], dtype: float64))\n",
      "(Timestamp('2001-04-01 00:00:00', freq='D'), Series([], dtype: float64))\n",
      "(Timestamp('2001-04-02 00:00:00', freq='D'), Series([], dtype: float64))\n",
      "(Timestamp('2001-04-03 00:00:00', freq='D'), Series([], dtype: float64))\n",
      "(Timestamp('2001-04-04 00:00:00', freq='D'), Series([], dtype: float64))\n",
      "(Timestamp('2001-04-05 00:00:00', freq='D'), Series([], dtype: float64))\n",
      "(Timestamp('2001-04-06 00:00:00', freq='D'), Series([], dtype: float64))\n",
      "(Timestamp('2001-04-07 00:00:00', freq='D'), Series([], dtype: float64))\n",
      "(Timestamp('2001-04-08 00:00:00', freq='D'), Series([], dtype: float64))\n",
      "(Timestamp('2001-04-09 00:00:00', freq='D'), Series([], dtype: float64))\n",
      "(Timestamp('2001-04-10 00:00:00', freq='D'), Series([], dtype: float64))\n",
      "(Timestamp('2001-04-11 00:00:00', freq='D'), Series([], dtype: float64))\n",
      "(Timestamp('2001-04-12 00:00:00', freq='D'), Series([], dtype: float64))\n",
      "(Timestamp('2001-04-13 00:00:00', freq='D'), Series([], dtype: float64))\n",
      "(Timestamp('2001-04-14 00:00:00', freq='D'), Series([], dtype: float64))\n",
      "(Timestamp('2001-04-15 00:00:00', freq='D'), Series([], dtype: float64))\n",
      "(Timestamp('2001-04-16 00:00:00', freq='D'), Series([], dtype: float64))\n",
      "(Timestamp('2001-04-17 00:00:00', freq='D'), Series([], dtype: float64))\n",
      "(Timestamp('2001-04-18 00:00:00', freq='D'), Series([], dtype: float64))\n",
      "(Timestamp('2001-04-19 00:00:00', freq='D'), Series([], dtype: float64))\n",
      "(Timestamp('2001-04-20 00:00:00', freq='D'), Series([], dtype: float64))\n",
      "(Timestamp('2001-04-21 00:00:00', freq='D'), Series([], dtype: float64))\n",
      "(Timestamp('2001-04-22 00:00:00', freq='D'), Series([], dtype: float64))\n",
      "(Timestamp('2001-04-23 00:00:00', freq='D'), Series([], dtype: float64))\n",
      "(Timestamp('2001-04-24 00:00:00', freq='D'), Series([], dtype: float64))\n",
      "(Timestamp('2001-04-25 00:00:00', freq='D'), Series([], dtype: float64))\n",
      "(Timestamp('2001-04-26 00:00:00', freq='D'), Series([], dtype: float64))\n",
      "(Timestamp('2001-04-27 00:00:00', freq='D'), Series([], dtype: float64))\n",
      "(Timestamp('2001-04-28 00:00:00', freq='D'), Series([], dtype: float64))\n",
      "(Timestamp('2001-04-29 00:00:00', freq='D'), Series([], dtype: float64))\n",
      "(Timestamp('2001-04-30 00:00:00', freq='D'), Series([], dtype: float64))\n",
      "(Timestamp('2001-05-01 00:00:00', freq='D'), Series([], dtype: float64))\n",
      "(Timestamp('2001-05-02 00:00:00', freq='D'), Series([], dtype: float64))\n",
      "(Timestamp('2001-05-03 00:00:00', freq='D'), Series([], dtype: float64))\n",
      "(Timestamp('2001-05-04 00:00:00', freq='D'), Series([], dtype: float64))\n",
      "(Timestamp('2001-05-05 00:00:00', freq='D'), Series([], dtype: float64))\n",
      "(Timestamp('2001-05-06 00:00:00', freq='D'), Series([], dtype: float64))\n",
      "(Timestamp('2001-05-07 00:00:00', freq='D'), Series([], dtype: float64))\n",
      "(Timestamp('2001-05-08 00:00:00', freq='D'), Series([], dtype: float64))\n",
      "(Timestamp('2001-05-09 00:00:00', freq='D'), Series([], dtype: float64))\n",
      "(Timestamp('2001-05-10 00:00:00', freq='D'), Series([], dtype: float64))\n",
      "(Timestamp('2001-05-11 00:00:00', freq='D'), Series([], dtype: float64))\n",
      "(Timestamp('2001-05-12 00:00:00', freq='D'), Series([], dtype: float64))\n",
      "(Timestamp('2001-05-13 00:00:00', freq='D'), Series([], dtype: float64))\n",
      "(Timestamp('2001-05-14 00:00:00', freq='D'), Series([], dtype: float64))\n",
      "(Timestamp('2001-05-15 00:00:00', freq='D'), Series([], dtype: float64))\n",
      "(Timestamp('2001-05-16 00:00:00', freq='D'), Series([], dtype: float64))\n",
      "(Timestamp('2001-05-17 00:00:00', freq='D'), Series([], dtype: float64))\n",
      "(Timestamp('2001-05-18 00:00:00', freq='D'), Series([], dtype: float64))\n",
      "(Timestamp('2001-05-19 00:00:00', freq='D'), Series([], dtype: float64))\n",
      "(Timestamp('2001-05-20 00:00:00', freq='D'), Series([], dtype: float64))\n",
      "(Timestamp('2001-05-21 00:00:00', freq='D'), Series([], dtype: float64))\n",
      "(Timestamp('2001-05-22 00:00:00', freq='D'), Series([], dtype: float64))\n",
      "(Timestamp('2001-05-23 00:00:00', freq='D'), Series([], dtype: float64))\n",
      "(Timestamp('2001-05-24 00:00:00', freq='D'), Series([], dtype: float64))\n",
      "(Timestamp('2001-05-25 00:00:00', freq='D'), Series([], dtype: float64))\n",
      "(Timestamp('2001-05-26 00:00:00', freq='D'), Series([], dtype: float64))\n",
      "(Timestamp('2001-05-27 00:00:00', freq='D'), Series([], dtype: float64))\n",
      "(Timestamp('2001-05-28 00:00:00', freq='D'), Series([], dtype: float64))\n",
      "(Timestamp('2001-05-29 00:00:00', freq='D'), Series([], dtype: float64))\n",
      "(Timestamp('2001-05-30 00:00:00', freq='D'), Series([], dtype: float64))\n",
      "(Timestamp('2001-05-31 00:00:00', freq='D'), Series([], dtype: float64))\n",
      "(Timestamp('2001-06-01 00:00:00', freq='D'), Series([], dtype: float64))\n",
      "(Timestamp('2001-06-02 00:00:00', freq='D'), Series([], dtype: float64))\n",
      "(Timestamp('2001-06-03 00:00:00', freq='D'), Series([], dtype: float64))\n",
      "(Timestamp('2001-06-04 00:00:00', freq='D'), Series([], dtype: float64))\n",
      "(Timestamp('2001-06-05 00:00:00', freq='D'), Series([], dtype: float64))\n",
      "(Timestamp('2001-06-06 00:00:00', freq='D'), Series([], dtype: float64))\n",
      "(Timestamp('2001-06-07 00:00:00', freq='D'), Series([], dtype: float64))\n",
      "(Timestamp('2001-06-08 00:00:00', freq='D'), Series([], dtype: float64))\n",
      "(Timestamp('2001-06-09 00:00:00', freq='D'), Series([], dtype: float64))\n",
      "(Timestamp('2001-06-10 00:00:00', freq='D'), Series([], dtype: float64))\n",
      "(Timestamp('2001-06-11 00:00:00', freq='D'), Series([], dtype: float64))\n",
      "(Timestamp('2001-06-12 00:00:00', freq='D'), Series([], dtype: float64))\n",
      "(Timestamp('2001-06-13 00:00:00', freq='D'), Series([], dtype: float64))\n",
      "(Timestamp('2001-06-14 00:00:00', freq='D'), Series([], dtype: float64))\n",
      "(Timestamp('2001-06-15 00:00:00', freq='D'), Series([], dtype: float64))\n",
      "(Timestamp('2001-06-16 00:00:00', freq='D'), Series([], dtype: float64))\n",
      "(Timestamp('2001-06-17 00:00:00', freq='D'), Series([], dtype: float64))\n",
      "(Timestamp('2001-06-18 00:00:00', freq='D'), Series([], dtype: float64))\n",
      "(Timestamp('2001-06-19 00:00:00', freq='D'), Series([], dtype: float64))\n",
      "(Timestamp('2001-06-20 00:00:00', freq='D'), Series([], dtype: float64))\n",
      "(Timestamp('2001-06-21 00:00:00', freq='D'), Series([], dtype: float64))\n",
      "(Timestamp('2001-06-22 00:00:00', freq='D'), Series([], dtype: float64))\n",
      "(Timestamp('2001-06-23 00:00:00', freq='D'), Series([], dtype: float64))\n",
      "(Timestamp('2001-06-24 00:00:00', freq='D'), Series([], dtype: float64))\n",
      "(Timestamp('2001-06-25 00:00:00', freq='D'), Series([], dtype: float64))\n",
      "(Timestamp('2001-06-26 00:00:00', freq='D'), Series([], dtype: float64))\n",
      "(Timestamp('2001-06-27 00:00:00', freq='D'), Series([], dtype: float64))\n",
      "(Timestamp('2001-06-28 00:00:00', freq='D'), Series([], dtype: float64))\n",
      "(Timestamp('2001-06-29 00:00:00', freq='D'), Series([], dtype: float64))\n",
      "(Timestamp('2001-06-30 00:00:00', freq='D'), Series([], dtype: float64))\n",
      "(Timestamp('2001-07-01 00:00:00', freq='D'), Series([], dtype: float64))\n",
      "(Timestamp('2001-07-02 00:00:00', freq='D'), Series([], dtype: float64))\n",
      "(Timestamp('2001-07-03 00:00:00', freq='D'), Series([], dtype: float64))\n",
      "(Timestamp('2001-07-04 00:00:00', freq='D'), Series([], dtype: float64))\n",
      "(Timestamp('2001-07-05 00:00:00', freq='D'), Series([], dtype: float64))\n",
      "(Timestamp('2001-07-06 00:00:00', freq='D'), Series([], dtype: float64))\n",
      "(Timestamp('2001-07-07 00:00:00', freq='D'), Series([], dtype: float64))\n",
      "(Timestamp('2001-07-08 00:00:00', freq='D'), Series([], dtype: float64))\n",
      "(Timestamp('2001-07-09 00:00:00', freq='D'), Series([], dtype: float64))\n",
      "(Timestamp('2001-07-10 00:00:00', freq='D'), Series([], dtype: float64))\n",
      "(Timestamp('2001-07-11 00:00:00', freq='D'), Series([], dtype: float64))\n",
      "(Timestamp('2001-07-12 00:00:00', freq='D'), Series([], dtype: float64))\n",
      "(Timestamp('2001-07-13 00:00:00', freq='D'), Series([], dtype: float64))\n",
      "(Timestamp('2001-07-14 00:00:00', freq='D'), Series([], dtype: float64))\n",
      "(Timestamp('2001-07-15 00:00:00', freq='D'), Series([], dtype: float64))\n",
      "(Timestamp('2001-07-16 00:00:00', freq='D'), Series([], dtype: float64))\n",
      "(Timestamp('2001-07-17 00:00:00', freq='D'), Series([], dtype: float64))\n",
      "(Timestamp('2001-07-18 00:00:00', freq='D'), Series([], dtype: float64))\n",
      "(Timestamp('2001-07-19 00:00:00', freq='D'), Series([], dtype: float64))\n",
      "(Timestamp('2001-07-20 00:00:00', freq='D'), Series([], dtype: float64))\n",
      "(Timestamp('2001-07-21 00:00:00', freq='D'), Series([], dtype: float64))\n",
      "(Timestamp('2001-07-22 00:00:00', freq='D'), Series([], dtype: float64))\n",
      "(Timestamp('2001-07-23 00:00:00', freq='D'), Series([], dtype: float64))\n",
      "(Timestamp('2001-07-24 00:00:00', freq='D'), Series([], dtype: float64))\n",
      "(Timestamp('2001-07-25 00:00:00', freq='D'), Series([], dtype: float64))\n",
      "(Timestamp('2001-07-26 00:00:00', freq='D'), Series([], dtype: float64))\n",
      "(Timestamp('2001-07-27 00:00:00', freq='D'), Series([], dtype: float64))\n",
      "(Timestamp('2001-07-28 00:00:00', freq='D'), Series([], dtype: float64))\n",
      "(Timestamp('2001-07-29 00:00:00', freq='D'), Series([], dtype: float64))\n",
      "(Timestamp('2001-07-30 00:00:00', freq='D'), Series([], dtype: float64))\n",
      "(Timestamp('2001-07-31 00:00:00', freq='D'), Series([], dtype: float64))\n",
      "(Timestamp('2001-08-01 00:00:00', freq='D'), Series([], dtype: float64))\n",
      "(Timestamp('2001-08-02 00:00:00', freq='D'), Series([], dtype: float64))\n",
      "(Timestamp('2001-08-03 00:00:00', freq='D'), Series([], dtype: float64))\n",
      "(Timestamp('2001-08-04 00:00:00', freq='D'), Series([], dtype: float64))\n",
      "(Timestamp('2001-08-05 00:00:00', freq='D'), Series([], dtype: float64))\n",
      "(Timestamp('2001-08-06 00:00:00', freq='D'), Series([], dtype: float64))\n",
      "(Timestamp('2001-08-07 00:00:00', freq='D'), Series([], dtype: float64))\n",
      "(Timestamp('2001-08-08 00:00:00', freq='D'), Series([], dtype: float64))\n",
      "(Timestamp('2001-08-09 00:00:00', freq='D'), Series([], dtype: float64))\n",
      "(Timestamp('2001-08-10 00:00:00', freq='D'), Series([], dtype: float64))\n",
      "(Timestamp('2001-08-11 00:00:00', freq='D'), Series([], dtype: float64))\n",
      "(Timestamp('2001-08-12 00:00:00', freq='D'), Series([], dtype: float64))\n",
      "(Timestamp('2001-08-13 00:00:00', freq='D'), Series([], dtype: float64))\n",
      "(Timestamp('2001-08-14 00:00:00', freq='D'), Series([], dtype: float64))\n",
      "(Timestamp('2001-08-15 00:00:00', freq='D'), Series([], dtype: float64))\n",
      "(Timestamp('2001-08-16 00:00:00', freq='D'), Series([], dtype: float64))\n",
      "(Timestamp('2001-08-17 00:00:00', freq='D'), Series([], dtype: float64))\n",
      "(Timestamp('2001-08-18 00:00:00', freq='D'), Series([], dtype: float64))\n",
      "(Timestamp('2001-08-19 00:00:00', freq='D'), Series([], dtype: float64))\n",
      "(Timestamp('2001-08-20 00:00:00', freq='D'), Series([], dtype: float64))\n",
      "(Timestamp('2001-08-21 00:00:00', freq='D'), Series([], dtype: float64))\n",
      "(Timestamp('2001-08-22 00:00:00', freq='D'), Series([], dtype: float64))\n",
      "(Timestamp('2001-08-23 00:00:00', freq='D'), Series([], dtype: float64))\n",
      "(Timestamp('2001-08-24 00:00:00', freq='D'), Series([], dtype: float64))\n",
      "(Timestamp('2001-08-25 00:00:00', freq='D'), Series([], dtype: float64))\n",
      "(Timestamp('2001-08-26 00:00:00', freq='D'), Series([], dtype: float64))\n",
      "(Timestamp('2001-08-27 00:00:00', freq='D'), Series([], dtype: float64))\n",
      "(Timestamp('2001-08-28 00:00:00', freq='D'), Series([], dtype: float64))\n",
      "(Timestamp('2001-08-29 00:00:00', freq='D'), Series([], dtype: float64))\n",
      "(Timestamp('2001-08-30 00:00:00', freq='D'), Series([], dtype: float64))\n",
      "(Timestamp('2001-08-31 00:00:00', freq='D'), Series([], dtype: float64))\n",
      "(Timestamp('2001-09-01 00:00:00', freq='D'), Series([], dtype: float64))\n",
      "(Timestamp('2001-09-02 00:00:00', freq='D'), Series([], dtype: float64))\n",
      "(Timestamp('2001-09-03 00:00:00', freq='D'), Series([], dtype: float64))\n",
      "(Timestamp('2001-09-04 00:00:00', freq='D'), Series([], dtype: float64))\n",
      "(Timestamp('2001-09-05 00:00:00', freq='D'), Series([], dtype: float64))\n",
      "(Timestamp('2001-09-06 00:00:00', freq='D'), Series([], dtype: float64))\n",
      "(Timestamp('2001-09-07 00:00:00', freq='D'), Series([], dtype: float64))\n",
      "(Timestamp('2001-09-08 00:00:00', freq='D'), Series([], dtype: float64))\n",
      "(Timestamp('2001-09-09 00:00:00', freq='D'), Series([], dtype: float64))\n",
      "(Timestamp('2001-09-10 00:00:00', freq='D'), Series([], dtype: float64))\n",
      "(Timestamp('2001-09-11 00:00:00', freq='D'), Series([], dtype: float64))\n",
      "(Timestamp('2001-09-12 00:00:00', freq='D'), Series([], dtype: float64))\n",
      "(Timestamp('2001-09-13 00:00:00', freq='D'), Series([], dtype: float64))\n",
      "(Timestamp('2001-09-14 00:00:00', freq='D'), Series([], dtype: float64))\n",
      "(Timestamp('2001-09-15 00:00:00', freq='D'), Series([], dtype: float64))\n",
      "(Timestamp('2001-09-16 00:00:00', freq='D'), Series([], dtype: float64))\n",
      "(Timestamp('2001-09-17 00:00:00', freq='D'), Series([], dtype: float64))\n",
      "(Timestamp('2001-09-18 00:00:00', freq='D'), Series([], dtype: float64))\n",
      "(Timestamp('2001-09-19 00:00:00', freq='D'), Series([], dtype: float64))\n",
      "(Timestamp('2001-09-20 00:00:00', freq='D'), Series([], dtype: float64))\n",
      "(Timestamp('2001-09-21 00:00:00', freq='D'), Series([], dtype: float64))\n",
      "(Timestamp('2001-09-22 00:00:00', freq='D'), Series([], dtype: float64))\n",
      "(Timestamp('2001-09-23 00:00:00', freq='D'), Series([], dtype: float64))\n",
      "(Timestamp('2001-09-24 00:00:00', freq='D'), Series([], dtype: float64))\n",
      "(Timestamp('2001-09-25 00:00:00', freq='D'), Series([], dtype: float64))\n",
      "(Timestamp('2001-09-26 00:00:00', freq='D'), Series([], dtype: float64))\n",
      "(Timestamp('2001-09-27 00:00:00', freq='D'), Series([], dtype: float64))\n",
      "(Timestamp('2001-09-28 00:00:00', freq='D'), Series([], dtype: float64))\n",
      "(Timestamp('2001-09-29 00:00:00', freq='D'), Series([], dtype: float64))\n",
      "(Timestamp('2001-09-30 00:00:00', freq='D'), Series([], dtype: float64))\n",
      "(Timestamp('2001-10-01 00:00:00', freq='D'), Series([], dtype: float64))\n",
      "(Timestamp('2001-10-02 00:00:00', freq='D'), Series([], dtype: float64))\n",
      "(Timestamp('2001-10-03 00:00:00', freq='D'), Series([], dtype: float64))\n",
      "(Timestamp('2001-10-04 00:00:00', freq='D'), Series([], dtype: float64))\n",
      "(Timestamp('2001-10-05 00:00:00', freq='D'), Series([], dtype: float64))\n",
      "(Timestamp('2001-10-06 00:00:00', freq='D'), Series([], dtype: float64))\n",
      "(Timestamp('2001-10-07 00:00:00', freq='D'), Series([], dtype: float64))\n",
      "(Timestamp('2001-10-08 00:00:00', freq='D'), Series([], dtype: float64))\n",
      "(Timestamp('2001-10-09 00:00:00', freq='D'), Series([], dtype: float64))\n",
      "(Timestamp('2001-10-10 00:00:00', freq='D'), Series([], dtype: float64))\n",
      "(Timestamp('2001-10-11 00:00:00', freq='D'), Series([], dtype: float64))\n",
      "(Timestamp('2001-10-12 00:00:00', freq='D'), Series([], dtype: float64))\n",
      "(Timestamp('2001-10-13 00:00:00', freq='D'), Series([], dtype: float64))\n",
      "(Timestamp('2001-10-14 00:00:00', freq='D'), Series([], dtype: float64))\n",
      "(Timestamp('2001-10-15 00:00:00', freq='D'), Series([], dtype: float64))\n",
      "(Timestamp('2001-10-16 00:00:00', freq='D'), Series([], dtype: float64))\n",
      "(Timestamp('2001-10-17 00:00:00', freq='D'), Series([], dtype: float64))\n",
      "(Timestamp('2001-10-18 00:00:00', freq='D'), Series([], dtype: float64))\n",
      "(Timestamp('2001-10-19 00:00:00', freq='D'), Series([], dtype: float64))\n",
      "(Timestamp('2001-10-20 00:00:00', freq='D'), Series([], dtype: float64))\n",
      "(Timestamp('2001-10-21 00:00:00', freq='D'), Series([], dtype: float64))\n",
      "(Timestamp('2001-10-22 00:00:00', freq='D'), Series([], dtype: float64))\n",
      "(Timestamp('2001-10-23 00:00:00', freq='D'), Series([], dtype: float64))\n",
      "(Timestamp('2001-10-24 00:00:00', freq='D'), Series([], dtype: float64))\n",
      "(Timestamp('2001-10-25 00:00:00', freq='D'), Series([], dtype: float64))\n",
      "(Timestamp('2001-10-26 00:00:00', freq='D'), Series([], dtype: float64))\n",
      "(Timestamp('2001-10-27 00:00:00', freq='D'), Series([], dtype: float64))\n",
      "(Timestamp('2001-10-28 00:00:00', freq='D'), Series([], dtype: float64))\n",
      "(Timestamp('2001-10-29 00:00:00', freq='D'), Series([], dtype: float64))\n",
      "(Timestamp('2001-10-30 00:00:00', freq='D'), Series([], dtype: float64))\n",
      "(Timestamp('2001-10-31 00:00:00', freq='D'), Series([], dtype: float64))\n",
      "(Timestamp('2001-11-01 00:00:00', freq='D'), Series([], dtype: float64))\n",
      "(Timestamp('2001-11-02 00:00:00', freq='D'), Series([], dtype: float64))\n",
      "(Timestamp('2001-11-03 00:00:00', freq='D'), Series([], dtype: float64))\n",
      "(Timestamp('2001-11-04 00:00:00', freq='D'), Series([], dtype: float64))\n",
      "(Timestamp('2001-11-05 00:00:00', freq='D'), Series([], dtype: float64))\n",
      "(Timestamp('2001-11-06 00:00:00', freq='D'), Series([], dtype: float64))\n",
      "(Timestamp('2001-11-07 00:00:00', freq='D'), Series([], dtype: float64))\n",
      "(Timestamp('2001-11-08 00:00:00', freq='D'), Series([], dtype: float64))\n",
      "(Timestamp('2001-11-09 00:00:00', freq='D'), Series([], dtype: float64))\n",
      "(Timestamp('2001-11-10 00:00:00', freq='D'), Series([], dtype: float64))\n",
      "(Timestamp('2001-11-11 00:00:00', freq='D'), Series([], dtype: float64))\n",
      "(Timestamp('2001-11-12 00:00:00', freq='D'), Series([], dtype: float64))\n",
      "(Timestamp('2001-11-13 00:00:00', freq='D'), Series([], dtype: float64))\n",
      "(Timestamp('2001-11-14 00:00:00', freq='D'), Series([], dtype: float64))\n",
      "(Timestamp('2001-11-15 00:00:00', freq='D'), Series([], dtype: float64))\n",
      "(Timestamp('2001-11-16 00:00:00', freq='D'), Series([], dtype: float64))\n",
      "(Timestamp('2001-11-17 00:00:00', freq='D'), Series([], dtype: float64))\n",
      "(Timestamp('2001-11-18 00:00:00', freq='D'), Series([], dtype: float64))\n",
      "(Timestamp('2001-11-19 00:00:00', freq='D'), Series([], dtype: float64))\n",
      "(Timestamp('2001-11-20 00:00:00', freq='D'), Series([], dtype: float64))\n",
      "(Timestamp('2001-11-21 00:00:00', freq='D'), Series([], dtype: float64))\n",
      "(Timestamp('2001-11-22 00:00:00', freq='D'), Series([], dtype: float64))\n",
      "(Timestamp('2001-11-23 00:00:00', freq='D'), Series([], dtype: float64))\n",
      "(Timestamp('2001-11-24 00:00:00', freq='D'), Series([], dtype: float64))\n",
      "(Timestamp('2001-11-25 00:00:00', freq='D'), Series([], dtype: float64))\n",
      "(Timestamp('2001-11-26 00:00:00', freq='D'), Series([], dtype: float64))\n",
      "(Timestamp('2001-11-27 00:00:00', freq='D'), Series([], dtype: float64))\n",
      "(Timestamp('2001-11-28 00:00:00', freq='D'), Series([], dtype: float64))\n",
      "(Timestamp('2001-11-29 00:00:00', freq='D'), Series([], dtype: float64))\n",
      "(Timestamp('2001-11-30 00:00:00', freq='D'), Series([], dtype: float64))\n",
      "(Timestamp('2001-12-01 00:00:00', freq='D'), Series([], dtype: float64))\n",
      "(Timestamp('2001-12-02 00:00:00', freq='D'), Series([], dtype: float64))\n",
      "(Timestamp('2001-12-03 00:00:00', freq='D'), Series([], dtype: float64))\n",
      "(Timestamp('2001-12-04 00:00:00', freq='D'), Series([], dtype: float64))\n",
      "(Timestamp('2001-12-05 00:00:00', freq='D'), Series([], dtype: float64))\n",
      "(Timestamp('2001-12-06 00:00:00', freq='D'), Series([], dtype: float64))\n",
      "(Timestamp('2001-12-07 00:00:00', freq='D'), Series([], dtype: float64))\n",
      "(Timestamp('2001-12-08 00:00:00', freq='D'), Series([], dtype: float64))\n",
      "(Timestamp('2001-12-09 00:00:00', freq='D'), Series([], dtype: float64))\n",
      "(Timestamp('2001-12-10 00:00:00', freq='D'), Series([], dtype: float64))\n",
      "(Timestamp('2001-12-11 00:00:00', freq='D'), Series([], dtype: float64))\n",
      "(Timestamp('2001-12-12 00:00:00', freq='D'), Series([], dtype: float64))\n",
      "(Timestamp('2001-12-13 00:00:00', freq='D'), Series([], dtype: float64))\n",
      "(Timestamp('2001-12-14 00:00:00', freq='D'), Series([], dtype: float64))\n",
      "(Timestamp('2001-12-15 00:00:00', freq='D'), Series([], dtype: float64))\n",
      "(Timestamp('2001-12-16 00:00:00', freq='D'), Series([], dtype: float64))\n",
      "(Timestamp('2001-12-17 00:00:00', freq='D'), Series([], dtype: float64))\n",
      "(Timestamp('2001-12-18 00:00:00', freq='D'), Series([], dtype: float64))\n",
      "(Timestamp('2001-12-19 00:00:00', freq='D'), Series([], dtype: float64))\n",
      "(Timestamp('2001-12-20 00:00:00', freq='D'), Series([], dtype: float64))\n",
      "(Timestamp('2001-12-21 00:00:00', freq='D'), Series([], dtype: float64))\n",
      "(Timestamp('2001-12-22 00:00:00', freq='D'), Series([], dtype: float64))\n",
      "(Timestamp('2001-12-23 00:00:00', freq='D'), Series([], dtype: float64))\n",
      "(Timestamp('2001-12-24 00:00:00', freq='D'), Series([], dtype: float64))\n",
      "(Timestamp('2001-12-25 00:00:00', freq='D'), Series([], dtype: float64))\n",
      "(Timestamp('2001-12-26 00:00:00', freq='D'), Series([], dtype: float64))\n",
      "(Timestamp('2001-12-27 00:00:00', freq='D'), Series([], dtype: float64))\n",
      "(Timestamp('2001-12-28 00:00:00', freq='D'), Series([], dtype: float64))\n",
      "(Timestamp('2001-12-29 00:00:00', freq='D'), Series([], dtype: float64))\n",
      "(Timestamp('2001-12-30 00:00:00', freq='D'), Series([], dtype: float64))\n",
      "(Timestamp('2001-12-31 00:00:00', freq='D'), Series([], dtype: float64))\n",
      "(Timestamp('2002-01-01 00:00:00', freq='D'), Series([], dtype: float64))\n",
      "(Timestamp('2002-01-02 00:00:00', freq='D'), Series([], dtype: float64))\n",
      "(Timestamp('2002-01-03 00:00:00', freq='D'), Series([], dtype: float64))\n",
      "(Timestamp('2002-01-04 00:00:00', freq='D'), Series([], dtype: float64))\n",
      "(Timestamp('2002-01-05 00:00:00', freq='D'), Series([], dtype: float64))\n",
      "(Timestamp('2002-01-06 00:00:00', freq='D'), Series([], dtype: float64))\n",
      "(Timestamp('2002-01-07 00:00:00', freq='D'), Series([], dtype: float64))\n",
      "(Timestamp('2002-01-08 00:00:00', freq='D'), Series([], dtype: float64))\n",
      "(Timestamp('2002-01-09 00:00:00', freq='D'), Series([], dtype: float64))\n",
      "(Timestamp('2002-01-10 00:00:00', freq='D'), Series([], dtype: float64))\n",
      "(Timestamp('2002-01-11 00:00:00', freq='D'), Series([], dtype: float64))\n",
      "(Timestamp('2002-01-12 00:00:00', freq='D'), Series([], dtype: float64))\n",
      "(Timestamp('2002-01-13 00:00:00', freq='D'), Series([], dtype: float64))\n",
      "(Timestamp('2002-01-14 00:00:00', freq='D'), Series([], dtype: float64))\n",
      "(Timestamp('2002-01-15 00:00:00', freq='D'), Series([], dtype: float64))\n",
      "(Timestamp('2002-01-16 00:00:00', freq='D'), Series([], dtype: float64))\n",
      "(Timestamp('2002-01-17 00:00:00', freq='D'), Series([], dtype: float64))\n",
      "(Timestamp('2002-01-18 00:00:00', freq='D'), Series([], dtype: float64))\n",
      "(Timestamp('2002-01-19 00:00:00', freq='D'), Series([], dtype: float64))\n",
      "(Timestamp('2002-01-20 00:00:00', freq='D'), Series([], dtype: float64))\n",
      "(Timestamp('2002-01-21 00:00:00', freq='D'), Series([], dtype: float64))\n",
      "(Timestamp('2002-01-22 00:00:00', freq='D'), Series([], dtype: float64))\n",
      "(Timestamp('2002-01-23 00:00:00', freq='D'), Series([], dtype: float64))\n",
      "(Timestamp('2002-01-24 00:00:00', freq='D'), Series([], dtype: float64))\n",
      "(Timestamp('2002-01-25 00:00:00', freq='D'), Series([], dtype: float64))\n",
      "(Timestamp('2002-01-26 00:00:00', freq='D'), Series([], dtype: float64))\n",
      "(Timestamp('2002-01-27 00:00:00', freq='D'), Series([], dtype: float64))\n",
      "(Timestamp('2002-01-28 00:00:00', freq='D'), Series([], dtype: float64))\n",
      "(Timestamp('2002-01-29 00:00:00', freq='D'), Series([], dtype: float64))\n",
      "(Timestamp('2002-01-30 00:00:00', freq='D'), Series([], dtype: float64))\n",
      "(Timestamp('2002-01-31 00:00:00', freq='D'), Series([], dtype: float64))\n",
      "(Timestamp('2002-02-01 00:00:00', freq='D'), Series([], dtype: float64))\n",
      "(Timestamp('2002-02-02 00:00:00', freq='D'), Series([], dtype: float64))\n",
      "(Timestamp('2002-02-03 00:00:00', freq='D'), Series([], dtype: float64))\n",
      "(Timestamp('2002-02-04 00:00:00', freq='D'), Series([], dtype: float64))\n",
      "(Timestamp('2002-02-05 00:00:00', freq='D'), Series([], dtype: float64))\n",
      "(Timestamp('2002-02-06 00:00:00', freq='D'), Series([], dtype: float64))\n",
      "(Timestamp('2002-02-07 00:00:00', freq='D'), Series([], dtype: float64))\n",
      "(Timestamp('2002-02-08 00:00:00', freq='D'), Series([], dtype: float64))\n",
      "(Timestamp('2002-02-09 00:00:00', freq='D'), Series([], dtype: float64))\n",
      "(Timestamp('2002-02-10 00:00:00', freq='D'), Series([], dtype: float64))\n",
      "(Timestamp('2002-02-11 00:00:00', freq='D'), Series([], dtype: float64))\n",
      "(Timestamp('2002-02-12 00:00:00', freq='D'), Series([], dtype: float64))\n",
      "(Timestamp('2002-02-13 00:00:00', freq='D'), Series([], dtype: float64))\n",
      "(Timestamp('2002-02-14 00:00:00', freq='D'), Series([], dtype: float64))\n",
      "(Timestamp('2002-02-15 00:00:00', freq='D'), Series([], dtype: float64))\n",
      "(Timestamp('2002-02-16 00:00:00', freq='D'), Series([], dtype: float64))\n",
      "(Timestamp('2002-02-17 00:00:00', freq='D'), Series([], dtype: float64))\n",
      "(Timestamp('2002-02-18 00:00:00', freq='D'), Series([], dtype: float64))\n",
      "(Timestamp('2002-02-19 00:00:00', freq='D'), Series([], dtype: float64))\n",
      "(Timestamp('2002-02-20 00:00:00', freq='D'), Series([], dtype: float64))\n",
      "(Timestamp('2002-02-21 00:00:00', freq='D'), Series([], dtype: float64))\n",
      "(Timestamp('2002-02-22 00:00:00', freq='D'), Series([], dtype: float64))\n",
      "(Timestamp('2002-02-23 00:00:00', freq='D'), Series([], dtype: float64))\n",
      "(Timestamp('2002-02-24 00:00:00', freq='D'), Series([], dtype: float64))\n",
      "(Timestamp('2002-02-25 00:00:00', freq='D'), Series([], dtype: float64))\n",
      "(Timestamp('2002-02-26 00:00:00', freq='D'), Series([], dtype: float64))\n",
      "(Timestamp('2002-02-27 00:00:00', freq='D'), Series([], dtype: float64))\n",
      "(Timestamp('2002-02-28 00:00:00', freq='D'), Series([], dtype: float64))\n",
      "(Timestamp('2002-03-01 00:00:00', freq='D'), Series([], dtype: float64))\n",
      "(Timestamp('2002-03-02 00:00:00', freq='D'), Series([], dtype: float64))\n",
      "(Timestamp('2002-03-03 00:00:00', freq='D'), Series([], dtype: float64))\n",
      "(Timestamp('2002-03-04 00:00:00', freq='D'), Series([], dtype: float64))\n",
      "(Timestamp('2002-03-05 00:00:00', freq='D'), Series([], dtype: float64))\n",
      "(Timestamp('2002-03-06 00:00:00', freq='D'), Series([], dtype: float64))\n",
      "(Timestamp('2002-03-07 00:00:00', freq='D'), Series([], dtype: float64))\n",
      "(Timestamp('2002-03-08 00:00:00', freq='D'), Series([], dtype: float64))\n",
      "(Timestamp('2002-03-09 00:00:00', freq='D'), Series([], dtype: float64))\n",
      "(Timestamp('2002-03-10 00:00:00', freq='D'), Series([], dtype: float64))\n",
      "(Timestamp('2002-03-11 00:00:00', freq='D'), Series([], dtype: float64))\n",
      "(Timestamp('2002-03-12 00:00:00', freq='D'), Series([], dtype: float64))\n",
      "(Timestamp('2002-03-13 00:00:00', freq='D'), Series([], dtype: float64))\n",
      "(Timestamp('2002-03-14 00:00:00', freq='D'), Series([], dtype: float64))\n",
      "(Timestamp('2002-03-15 00:00:00', freq='D'), Series([], dtype: float64))\n",
      "(Timestamp('2002-03-16 00:00:00', freq='D'), Series([], dtype: float64))\n",
      "(Timestamp('2002-03-17 00:00:00', freq='D'), Series([], dtype: float64))\n",
      "(Timestamp('2002-03-18 00:00:00', freq='D'), Series([], dtype: float64))\n",
      "(Timestamp('2002-03-19 00:00:00', freq='D'), Series([], dtype: float64))\n",
      "(Timestamp('2002-03-20 00:00:00', freq='D'), Series([], dtype: float64))\n",
      "(Timestamp('2002-03-21 00:00:00', freq='D'), Series([], dtype: float64))\n",
      "(Timestamp('2002-03-22 00:00:00', freq='D'), Series([], dtype: float64))\n",
      "(Timestamp('2002-03-23 00:00:00', freq='D'), Series([], dtype: float64))\n",
      "(Timestamp('2002-03-24 00:00:00', freq='D'), Series([], dtype: float64))\n",
      "(Timestamp('2002-03-25 00:00:00', freq='D'), Series([], dtype: float64))\n",
      "(Timestamp('2002-03-26 00:00:00', freq='D'), Series([], dtype: float64))\n",
      "(Timestamp('2002-03-27 00:00:00', freq='D'), Series([], dtype: float64))\n",
      "(Timestamp('2002-03-28 00:00:00', freq='D'), Series([], dtype: float64))\n",
      "(Timestamp('2002-03-29 00:00:00', freq='D'), Series([], dtype: float64))\n",
      "(Timestamp('2002-03-30 00:00:00', freq='D'), Series([], dtype: float64))\n",
      "(Timestamp('2002-03-31 00:00:00', freq='D'), Series([], dtype: float64))\n",
      "(Timestamp('2002-04-01 00:00:00', freq='D'), Series([], dtype: float64))\n",
      "(Timestamp('2002-04-02 00:00:00', freq='D'), Series([], dtype: float64))\n",
      "(Timestamp('2002-04-03 00:00:00', freq='D'), Series([], dtype: float64))\n",
      "(Timestamp('2002-04-04 00:00:00', freq='D'), Series([], dtype: float64))\n",
      "(Timestamp('2002-04-05 00:00:00', freq='D'), Series([], dtype: float64))\n",
      "(Timestamp('2002-04-06 00:00:00', freq='D'), Series([], dtype: float64))\n",
      "(Timestamp('2002-04-07 00:00:00', freq='D'), Series([], dtype: float64))\n",
      "(Timestamp('2002-04-08 00:00:00', freq='D'), Series([], dtype: float64))\n",
      "(Timestamp('2002-04-09 00:00:00', freq='D'), Series([], dtype: float64))\n",
      "(Timestamp('2002-04-10 00:00:00', freq='D'), Series([], dtype: float64))\n",
      "(Timestamp('2002-04-11 00:00:00', freq='D'), Series([], dtype: float64))\n",
      "(Timestamp('2002-04-12 00:00:00', freq='D'), Series([], dtype: float64))\n",
      "(Timestamp('2002-04-13 00:00:00', freq='D'), Series([], dtype: float64))\n",
      "(Timestamp('2002-04-14 00:00:00', freq='D'), Series([], dtype: float64))\n",
      "(Timestamp('2002-04-15 00:00:00', freq='D'), Series([], dtype: float64))\n",
      "(Timestamp('2002-04-16 00:00:00', freq='D'), Series([], dtype: float64))\n",
      "(Timestamp('2002-04-17 00:00:00', freq='D'), Series([], dtype: float64))\n",
      "(Timestamp('2002-04-18 00:00:00', freq='D'), Series([], dtype: float64))\n",
      "(Timestamp('2002-04-19 00:00:00', freq='D'), Series([], dtype: float64))\n",
      "(Timestamp('2002-04-20 00:00:00', freq='D'), Series([], dtype: float64))\n",
      "(Timestamp('2002-04-21 00:00:00', freq='D'), Series([], dtype: float64))\n",
      "(Timestamp('2002-04-22 00:00:00', freq='D'), Series([], dtype: float64))\n",
      "(Timestamp('2002-04-23 00:00:00', freq='D'), Series([], dtype: float64))\n",
      "(Timestamp('2002-04-24 00:00:00', freq='D'), Series([], dtype: float64))\n",
      "(Timestamp('2002-04-25 00:00:00', freq='D'), Series([], dtype: float64))\n",
      "(Timestamp('2002-04-26 00:00:00', freq='D'), Series([], dtype: float64))\n",
      "(Timestamp('2002-04-27 00:00:00', freq='D'), Series([], dtype: float64))\n",
      "(Timestamp('2002-04-28 00:00:00', freq='D'), Series([], dtype: float64))\n",
      "(Timestamp('2002-04-29 00:00:00', freq='D'), Series([], dtype: float64))\n",
      "(Timestamp('2002-04-30 00:00:00', freq='D'), Series([], dtype: float64))\n",
      "(Timestamp('2002-05-01 00:00:00', freq='D'), Series([], dtype: float64))\n",
      "(Timestamp('2002-05-02 00:00:00', freq='D'), Series([], dtype: float64))\n",
      "(Timestamp('2002-05-03 00:00:00', freq='D'), Series([], dtype: float64))\n",
      "(Timestamp('2002-05-04 00:00:00', freq='D'), Series([], dtype: float64))\n",
      "(Timestamp('2002-05-05 00:00:00', freq='D'), Series([], dtype: float64))\n",
      "(Timestamp('2002-05-06 00:00:00', freq='D'), Series([], dtype: float64))\n",
      "(Timestamp('2002-05-07 00:00:00', freq='D'), Series([], dtype: float64))\n",
      "(Timestamp('2002-05-08 00:00:00', freq='D'), Series([], dtype: float64))\n",
      "(Timestamp('2002-05-09 00:00:00', freq='D'), Series([], dtype: float64))\n",
      "(Timestamp('2002-05-10 00:00:00', freq='D'), Series([], dtype: float64))\n",
      "(Timestamp('2002-05-11 00:00:00', freq='D'), Series([], dtype: float64))\n",
      "(Timestamp('2002-05-12 00:00:00', freq='D'), Series([], dtype: float64))\n",
      "(Timestamp('2002-05-13 00:00:00', freq='D'), Series([], dtype: float64))\n",
      "(Timestamp('2002-05-14 00:00:00', freq='D'), Series([], dtype: float64))\n",
      "(Timestamp('2002-05-15 00:00:00', freq='D'), Series([], dtype: float64))\n",
      "(Timestamp('2002-05-16 00:00:00', freq='D'), Series([], dtype: float64))\n",
      "(Timestamp('2002-05-17 00:00:00', freq='D'), Series([], dtype: float64))\n",
      "(Timestamp('2002-05-18 00:00:00', freq='D'), Series([], dtype: float64))\n",
      "(Timestamp('2002-05-19 00:00:00', freq='D'), Series([], dtype: float64))\n",
      "(Timestamp('2002-05-20 00:00:00', freq='D'), Series([], dtype: float64))\n",
      "(Timestamp('2002-05-21 00:00:00', freq='D'), Series([], dtype: float64))\n",
      "(Timestamp('2002-05-22 00:00:00', freq='D'), Series([], dtype: float64))\n",
      "(Timestamp('2002-05-23 00:00:00', freq='D'), Series([], dtype: float64))\n",
      "(Timestamp('2002-05-24 00:00:00', freq='D'), Series([], dtype: float64))\n",
      "(Timestamp('2002-05-25 00:00:00', freq='D'), Series([], dtype: float64))\n",
      "(Timestamp('2002-05-26 00:00:00', freq='D'), Series([], dtype: float64))\n",
      "(Timestamp('2002-05-27 00:00:00', freq='D'), Series([], dtype: float64))\n",
      "(Timestamp('2002-05-28 00:00:00', freq='D'), Series([], dtype: float64))\n",
      "(Timestamp('2002-05-29 00:00:00', freq='D'), Series([], dtype: float64))\n",
      "(Timestamp('2002-05-30 00:00:00', freq='D'), Series([], dtype: float64))\n",
      "(Timestamp('2002-05-31 00:00:00', freq='D'), Series([], dtype: float64))\n",
      "(Timestamp('2002-06-01 00:00:00', freq='D'), Series([], dtype: float64))\n",
      "(Timestamp('2002-06-02 00:00:00', freq='D'), Series([], dtype: float64))\n",
      "(Timestamp('2002-06-03 00:00:00', freq='D'), Series([], dtype: float64))\n",
      "(Timestamp('2002-06-04 00:00:00', freq='D'), Series([], dtype: float64))\n",
      "(Timestamp('2002-06-05 00:00:00', freq='D'), Series([], dtype: float64))\n",
      "(Timestamp('2002-06-06 00:00:00', freq='D'), Series([], dtype: float64))\n",
      "(Timestamp('2002-06-07 00:00:00', freq='D'), Series([], dtype: float64))\n",
      "(Timestamp('2002-06-08 00:00:00', freq='D'), Series([], dtype: float64))\n",
      "(Timestamp('2002-06-09 00:00:00', freq='D'), Series([], dtype: float64))\n",
      "(Timestamp('2002-06-10 00:00:00', freq='D'), Series([], dtype: float64))\n",
      "(Timestamp('2002-06-11 00:00:00', freq='D'), Series([], dtype: float64))\n",
      "(Timestamp('2002-06-12 00:00:00', freq='D'), Series([], dtype: float64))\n",
      "(Timestamp('2002-06-13 00:00:00', freq='D'), Series([], dtype: float64))\n",
      "(Timestamp('2002-06-14 00:00:00', freq='D'), Series([], dtype: float64))\n",
      "(Timestamp('2002-06-15 00:00:00', freq='D'), Series([], dtype: float64))\n",
      "(Timestamp('2002-06-16 00:00:00', freq='D'), Series([], dtype: float64))\n",
      "(Timestamp('2002-06-17 00:00:00', freq='D'), Series([], dtype: float64))\n",
      "(Timestamp('2002-06-18 00:00:00', freq='D'), Series([], dtype: float64))\n",
      "(Timestamp('2002-06-19 00:00:00', freq='D'), Series([], dtype: float64))\n",
      "(Timestamp('2002-06-20 00:00:00', freq='D'), Series([], dtype: float64))\n",
      "(Timestamp('2002-06-21 00:00:00', freq='D'), Series([], dtype: float64))\n",
      "(Timestamp('2002-06-22 00:00:00', freq='D'), Series([], dtype: float64))\n",
      "(Timestamp('2002-06-23 00:00:00', freq='D'), Series([], dtype: float64))\n",
      "(Timestamp('2002-06-24 00:00:00', freq='D'), Series([], dtype: float64))\n",
      "(Timestamp('2002-06-25 00:00:00', freq='D'), Series([], dtype: float64))\n",
      "(Timestamp('2002-06-26 00:00:00', freq='D'), Series([], dtype: float64))\n",
      "(Timestamp('2002-06-27 00:00:00', freq='D'), Series([], dtype: float64))\n",
      "(Timestamp('2002-06-28 00:00:00', freq='D'), Series([], dtype: float64))\n",
      "(Timestamp('2002-06-29 00:00:00', freq='D'), Series([], dtype: float64))\n",
      "(Timestamp('2002-06-30 00:00:00', freq='D'), Series([], dtype: float64))\n",
      "(Timestamp('2002-07-01 00:00:00', freq='D'), Series([], dtype: float64))\n",
      "(Timestamp('2002-07-02 00:00:00', freq='D'), Series([], dtype: float64))\n",
      "(Timestamp('2002-07-03 00:00:00', freq='D'), Series([], dtype: float64))\n",
      "(Timestamp('2002-07-04 00:00:00', freq='D'), Series([], dtype: float64))\n",
      "(Timestamp('2002-07-05 00:00:00', freq='D'), Series([], dtype: float64))\n",
      "(Timestamp('2002-07-06 00:00:00', freq='D'), Series([], dtype: float64))\n",
      "(Timestamp('2002-07-07 00:00:00', freq='D'), Series([], dtype: float64))\n",
      "(Timestamp('2002-07-08 00:00:00', freq='D'), Series([], dtype: float64))\n",
      "(Timestamp('2002-07-09 00:00:00', freq='D'), Series([], dtype: float64))\n",
      "(Timestamp('2002-07-10 00:00:00', freq='D'), Series([], dtype: float64))\n",
      "(Timestamp('2002-07-11 00:00:00', freq='D'), Series([], dtype: float64))\n",
      "(Timestamp('2002-07-12 00:00:00', freq='D'), Series([], dtype: float64))\n",
      "(Timestamp('2002-07-13 00:00:00', freq='D'), Series([], dtype: float64))\n",
      "(Timestamp('2002-07-14 00:00:00', freq='D'), Series([], dtype: float64))\n",
      "(Timestamp('2002-07-15 00:00:00', freq='D'), Series([], dtype: float64))\n",
      "(Timestamp('2002-07-16 00:00:00', freq='D'), Series([], dtype: float64))\n",
      "(Timestamp('2002-07-17 00:00:00', freq='D'), Series([], dtype: float64))\n",
      "(Timestamp('2002-07-18 00:00:00', freq='D'), Series([], dtype: float64))\n",
      "(Timestamp('2002-07-19 00:00:00', freq='D'), Series([], dtype: float64))\n",
      "(Timestamp('2002-07-20 00:00:00', freq='D'), Series([], dtype: float64))\n",
      "(Timestamp('2002-07-21 00:00:00', freq='D'), Series([], dtype: float64))\n",
      "(Timestamp('2002-07-22 00:00:00', freq='D'), Series([], dtype: float64))\n",
      "(Timestamp('2002-07-23 00:00:00', freq='D'), Series([], dtype: float64))\n",
      "(Timestamp('2002-07-24 00:00:00', freq='D'), Series([], dtype: float64))\n",
      "(Timestamp('2002-07-25 00:00:00', freq='D'), Series([], dtype: float64))\n",
      "(Timestamp('2002-07-26 00:00:00', freq='D'), Series([], dtype: float64))\n",
      "(Timestamp('2002-07-27 00:00:00', freq='D'), Series([], dtype: float64))\n",
      "(Timestamp('2002-07-28 00:00:00', freq='D'), Series([], dtype: float64))\n",
      "(Timestamp('2002-07-29 00:00:00', freq='D'), Series([], dtype: float64))\n",
      "(Timestamp('2002-07-30 00:00:00', freq='D'), Series([], dtype: float64))\n",
      "(Timestamp('2002-07-31 00:00:00', freq='D'), Series([], dtype: float64))\n",
      "(Timestamp('2002-08-01 00:00:00', freq='D'), Series([], dtype: float64))\n",
      "(Timestamp('2002-08-02 00:00:00', freq='D'), Series([], dtype: float64))\n",
      "(Timestamp('2002-08-03 00:00:00', freq='D'), Series([], dtype: float64))\n",
      "(Timestamp('2002-08-04 00:00:00', freq='D'), Series([], dtype: float64))\n",
      "(Timestamp('2002-08-05 00:00:00', freq='D'), Series([], dtype: float64))\n",
      "(Timestamp('2002-08-06 00:00:00', freq='D'), Series([], dtype: float64))\n",
      "(Timestamp('2002-08-07 00:00:00', freq='D'), Series([], dtype: float64))\n",
      "(Timestamp('2002-08-08 00:00:00', freq='D'), Series([], dtype: float64))\n",
      "(Timestamp('2002-08-09 00:00:00', freq='D'), Series([], dtype: float64))\n",
      "(Timestamp('2002-08-10 00:00:00', freq='D'), Series([], dtype: float64))\n",
      "(Timestamp('2002-08-11 00:00:00', freq='D'), Series([], dtype: float64))\n",
      "(Timestamp('2002-08-12 00:00:00', freq='D'), Series([], dtype: float64))\n",
      "(Timestamp('2002-08-13 00:00:00', freq='D'), Series([], dtype: float64))\n",
      "(Timestamp('2002-08-14 00:00:00', freq='D'), Series([], dtype: float64))\n",
      "(Timestamp('2002-08-15 00:00:00', freq='D'), Series([], dtype: float64))\n",
      "(Timestamp('2002-08-16 00:00:00', freq='D'), Series([], dtype: float64))\n",
      "(Timestamp('2002-08-17 00:00:00', freq='D'), Series([], dtype: float64))\n",
      "(Timestamp('2002-08-18 00:00:00', freq='D'), Series([], dtype: float64))\n",
      "(Timestamp('2002-08-19 00:00:00', freq='D'), Series([], dtype: float64))\n",
      "(Timestamp('2002-08-20 00:00:00', freq='D'), Series([], dtype: float64))\n",
      "(Timestamp('2002-08-21 00:00:00', freq='D'), Series([], dtype: float64))\n",
      "(Timestamp('2002-08-22 00:00:00', freq='D'), Series([], dtype: float64))\n",
      "(Timestamp('2002-08-23 00:00:00', freq='D'), Series([], dtype: float64))\n",
      "(Timestamp('2002-08-24 00:00:00', freq='D'), Series([], dtype: float64))\n"
     ]
    },
    {
     "name": "stdout",
     "output_type": "stream",
     "text": [
      "(Timestamp('2002-08-25 00:00:00', freq='D'), Series([], dtype: float64))\n",
      "(Timestamp('2002-08-26 00:00:00', freq='D'), Series([], dtype: float64))\n",
      "(Timestamp('2002-08-27 00:00:00', freq='D'), Series([], dtype: float64))\n",
      "(Timestamp('2002-08-28 00:00:00', freq='D'), Series([], dtype: float64))\n",
      "(Timestamp('2002-08-29 00:00:00', freq='D'), Series([], dtype: float64))\n",
      "(Timestamp('2002-08-30 00:00:00', freq='D'), Series([], dtype: float64))\n",
      "(Timestamp('2002-08-31 00:00:00', freq='D'), Series([], dtype: float64))\n",
      "(Timestamp('2002-09-01 00:00:00', freq='D'), Series([], dtype: float64))\n",
      "(Timestamp('2002-09-02 00:00:00', freq='D'), Series([], dtype: float64))\n",
      "(Timestamp('2002-09-03 00:00:00', freq='D'), Series([], dtype: float64))\n",
      "(Timestamp('2002-09-04 00:00:00', freq='D'), Series([], dtype: float64))\n",
      "(Timestamp('2002-09-05 00:00:00', freq='D'), Series([], dtype: float64))\n",
      "(Timestamp('2002-09-06 00:00:00', freq='D'), Series([], dtype: float64))\n",
      "(Timestamp('2002-09-07 00:00:00', freq='D'), Series([], dtype: float64))\n",
      "(Timestamp('2002-09-08 00:00:00', freq='D'), Series([], dtype: float64))\n",
      "(Timestamp('2002-09-09 00:00:00', freq='D'), Series([], dtype: float64))\n",
      "(Timestamp('2002-09-10 00:00:00', freq='D'), Series([], dtype: float64))\n",
      "(Timestamp('2002-09-11 00:00:00', freq='D'), Series([], dtype: float64))\n",
      "(Timestamp('2002-09-12 00:00:00', freq='D'), Series([], dtype: float64))\n",
      "(Timestamp('2002-09-13 00:00:00', freq='D'), Series([], dtype: float64))\n",
      "(Timestamp('2002-09-14 00:00:00', freq='D'), Series([], dtype: float64))\n",
      "(Timestamp('2002-09-15 00:00:00', freq='D'), Series([], dtype: float64))\n",
      "(Timestamp('2002-09-16 00:00:00', freq='D'), Series([], dtype: float64))\n",
      "(Timestamp('2002-09-17 00:00:00', freq='D'), Series([], dtype: float64))\n",
      "(Timestamp('2002-09-18 00:00:00', freq='D'), Series([], dtype: float64))\n",
      "(Timestamp('2002-09-19 00:00:00', freq='D'), Series([], dtype: float64))\n",
      "(Timestamp('2002-09-20 00:00:00', freq='D'), Series([], dtype: float64))\n",
      "(Timestamp('2002-09-21 00:00:00', freq='D'), Series([], dtype: float64))\n",
      "(Timestamp('2002-09-22 00:00:00', freq='D'), Series([], dtype: float64))\n",
      "(Timestamp('2002-09-23 00:00:00', freq='D'), Series([], dtype: float64))\n",
      "(Timestamp('2002-09-24 00:00:00', freq='D'), Series([], dtype: float64))\n",
      "(Timestamp('2002-09-25 00:00:00', freq='D'), Series([], dtype: float64))\n",
      "(Timestamp('2002-09-26 00:00:00', freq='D'), Series([], dtype: float64))\n",
      "(Timestamp('2002-09-27 00:00:00', freq='D'), Series([], dtype: float64))\n",
      "(Timestamp('2002-09-28 00:00:00', freq='D'), Series([], dtype: float64))\n",
      "(Timestamp('2002-09-29 00:00:00', freq='D'), Series([], dtype: float64))\n",
      "(Timestamp('2002-09-30 00:00:00', freq='D'), Series([], dtype: float64))\n",
      "(Timestamp('2002-10-01 00:00:00', freq='D'), Series([], dtype: float64))\n",
      "(Timestamp('2002-10-02 00:00:00', freq='D'), Series([], dtype: float64))\n",
      "(Timestamp('2002-10-03 00:00:00', freq='D'), Series([], dtype: float64))\n",
      "(Timestamp('2002-10-04 00:00:00', freq='D'), Series([], dtype: float64))\n",
      "(Timestamp('2002-10-05 00:00:00', freq='D'), Series([], dtype: float64))\n",
      "(Timestamp('2002-10-06 00:00:00', freq='D'), Series([], dtype: float64))\n",
      "(Timestamp('2002-10-07 00:00:00', freq='D'), Series([], dtype: float64))\n",
      "(Timestamp('2002-10-08 00:00:00', freq='D'), Series([], dtype: float64))\n",
      "(Timestamp('2002-10-09 00:00:00', freq='D'), Series([], dtype: float64))\n",
      "(Timestamp('2002-10-10 00:00:00', freq='D'), Series([], dtype: float64))\n",
      "(Timestamp('2002-10-11 00:00:00', freq='D'), Series([], dtype: float64))\n",
      "(Timestamp('2002-10-12 00:00:00', freq='D'), Series([], dtype: float64))\n",
      "(Timestamp('2002-10-13 00:00:00', freq='D'), Series([], dtype: float64))\n",
      "(Timestamp('2002-10-14 00:00:00', freq='D'), Series([], dtype: float64))\n",
      "(Timestamp('2002-10-15 00:00:00', freq='D'), Series([], dtype: float64))\n",
      "(Timestamp('2002-10-16 00:00:00', freq='D'), Series([], dtype: float64))\n",
      "(Timestamp('2002-10-17 00:00:00', freq='D'), Series([], dtype: float64))\n",
      "(Timestamp('2002-10-18 00:00:00', freq='D'), Series([], dtype: float64))\n",
      "(Timestamp('2002-10-19 00:00:00', freq='D'), Series([], dtype: float64))\n",
      "(Timestamp('2002-10-20 00:00:00', freq='D'), Series([], dtype: float64))\n",
      "(Timestamp('2002-10-21 00:00:00', freq='D'), Series([], dtype: float64))\n",
      "(Timestamp('2002-10-22 00:00:00', freq='D'), Series([], dtype: float64))\n",
      "(Timestamp('2002-10-23 00:00:00', freq='D'), Series([], dtype: float64))\n",
      "(Timestamp('2002-10-24 00:00:00', freq='D'), Series([], dtype: float64))\n",
      "(Timestamp('2002-10-25 00:00:00', freq='D'), Series([], dtype: float64))\n",
      "(Timestamp('2002-10-26 00:00:00', freq='D'), Series([], dtype: float64))\n",
      "(Timestamp('2002-10-27 00:00:00', freq='D'), Series([], dtype: float64))\n",
      "(Timestamp('2002-10-28 00:00:00', freq='D'), Series([], dtype: float64))\n",
      "(Timestamp('2002-10-29 00:00:00', freq='D'), Series([], dtype: float64))\n",
      "(Timestamp('2002-10-30 00:00:00', freq='D'), Series([], dtype: float64))\n",
      "(Timestamp('2002-10-31 00:00:00', freq='D'), Series([], dtype: float64))\n",
      "(Timestamp('2002-11-01 00:00:00', freq='D'), Series([], dtype: float64))\n",
      "(Timestamp('2002-11-02 00:00:00', freq='D'), Series([], dtype: float64))\n",
      "(Timestamp('2002-11-03 00:00:00', freq='D'), Series([], dtype: float64))\n",
      "(Timestamp('2002-11-04 00:00:00', freq='D'), Series([], dtype: float64))\n",
      "(Timestamp('2002-11-05 00:00:00', freq='D'), Series([], dtype: float64))\n",
      "(Timestamp('2002-11-06 00:00:00', freq='D'), Series([], dtype: float64))\n",
      "(Timestamp('2002-11-07 00:00:00', freq='D'), Series([], dtype: float64))\n",
      "(Timestamp('2002-11-08 00:00:00', freq='D'), Series([], dtype: float64))\n",
      "(Timestamp('2002-11-09 00:00:00', freq='D'), Series([], dtype: float64))\n",
      "(Timestamp('2002-11-10 00:00:00', freq='D'), Series([], dtype: float64))\n",
      "(Timestamp('2002-11-11 00:00:00', freq='D'), Series([], dtype: float64))\n",
      "(Timestamp('2002-11-12 00:00:00', freq='D'), Series([], dtype: float64))\n",
      "(Timestamp('2002-11-13 00:00:00', freq='D'), Series([], dtype: float64))\n",
      "(Timestamp('2002-11-14 00:00:00', freq='D'), Series([], dtype: float64))\n",
      "(Timestamp('2002-11-15 00:00:00', freq='D'), Series([], dtype: float64))\n",
      "(Timestamp('2002-11-16 00:00:00', freq='D'), Series([], dtype: float64))\n",
      "(Timestamp('2002-11-17 00:00:00', freq='D'), Series([], dtype: float64))\n",
      "(Timestamp('2002-11-18 00:00:00', freq='D'), Series([], dtype: float64))\n",
      "(Timestamp('2002-11-19 00:00:00', freq='D'), Series([], dtype: float64))\n",
      "(Timestamp('2002-11-20 00:00:00', freq='D'), Series([], dtype: float64))\n",
      "(Timestamp('2002-11-21 00:00:00', freq='D'), Series([], dtype: float64))\n",
      "(Timestamp('2002-11-22 00:00:00', freq='D'), Series([], dtype: float64))\n",
      "(Timestamp('2002-11-23 00:00:00', freq='D'), Series([], dtype: float64))\n",
      "(Timestamp('2002-11-24 00:00:00', freq='D'), Series([], dtype: float64))\n",
      "(Timestamp('2002-11-25 00:00:00', freq='D'), Series([], dtype: float64))\n",
      "(Timestamp('2002-11-26 00:00:00', freq='D'), Series([], dtype: float64))\n",
      "(Timestamp('2002-11-27 00:00:00', freq='D'), Series([], dtype: float64))\n",
      "(Timestamp('2002-11-28 00:00:00', freq='D'), Series([], dtype: float64))\n",
      "(Timestamp('2002-11-29 00:00:00', freq='D'), Series([], dtype: float64))\n",
      "(Timestamp('2002-11-30 00:00:00', freq='D'), Series([], dtype: float64))\n",
      "(Timestamp('2002-12-01 00:00:00', freq='D'), Series([], dtype: float64))\n",
      "(Timestamp('2002-12-02 00:00:00', freq='D'), Series([], dtype: float64))\n",
      "(Timestamp('2002-12-03 00:00:00', freq='D'), Series([], dtype: float64))\n",
      "(Timestamp('2002-12-04 00:00:00', freq='D'), Series([], dtype: float64))\n",
      "(Timestamp('2002-12-05 00:00:00', freq='D'), Series([], dtype: float64))\n",
      "(Timestamp('2002-12-06 00:00:00', freq='D'), Series([], dtype: float64))\n",
      "(Timestamp('2002-12-07 00:00:00', freq='D'), Series([], dtype: float64))\n",
      "(Timestamp('2002-12-08 00:00:00', freq='D'), Series([], dtype: float64))\n",
      "(Timestamp('2002-12-09 00:00:00', freq='D'), Series([], dtype: float64))\n",
      "(Timestamp('2002-12-10 00:00:00', freq='D'), Series([], dtype: float64))\n",
      "(Timestamp('2002-12-11 00:00:00', freq='D'), Series([], dtype: float64))\n",
      "(Timestamp('2002-12-12 00:00:00', freq='D'), Series([], dtype: float64))\n",
      "(Timestamp('2002-12-13 00:00:00', freq='D'), Series([], dtype: float64))\n",
      "(Timestamp('2002-12-14 00:00:00', freq='D'), Series([], dtype: float64))\n",
      "(Timestamp('2002-12-15 00:00:00', freq='D'), Series([], dtype: float64))\n",
      "(Timestamp('2002-12-16 00:00:00', freq='D'), Series([], dtype: float64))\n",
      "(Timestamp('2002-12-17 00:00:00', freq='D'), Series([], dtype: float64))\n",
      "(Timestamp('2002-12-18 00:00:00', freq='D'), Series([], dtype: float64))\n",
      "(Timestamp('2002-12-19 00:00:00', freq='D'), Series([], dtype: float64))\n",
      "(Timestamp('2002-12-20 00:00:00', freq='D'), Series([], dtype: float64))\n",
      "(Timestamp('2002-12-21 00:00:00', freq='D'), Series([], dtype: float64))\n",
      "(Timestamp('2002-12-22 00:00:00', freq='D'), Series([], dtype: float64))\n",
      "(Timestamp('2002-12-23 00:00:00', freq='D'), Series([], dtype: float64))\n",
      "(Timestamp('2002-12-24 00:00:00', freq='D'), Series([], dtype: float64))\n",
      "(Timestamp('2002-12-25 00:00:00', freq='D'), Series([], dtype: float64))\n",
      "(Timestamp('2002-12-26 00:00:00', freq='D'), Series([], dtype: float64))\n",
      "(Timestamp('2002-12-27 00:00:00', freq='D'), Series([], dtype: float64))\n",
      "(Timestamp('2002-12-28 00:00:00', freq='D'), Series([], dtype: float64))\n",
      "(Timestamp('2002-12-29 00:00:00', freq='D'), Series([], dtype: float64))\n",
      "(Timestamp('2002-12-30 00:00:00', freq='D'), Series([], dtype: float64))\n",
      "(Timestamp('2002-12-31 00:00:00', freq='D'), Series([], dtype: float64))\n",
      "(Timestamp('2003-01-01 00:00:00', freq='D'), Series([], dtype: float64))\n",
      "(Timestamp('2003-01-02 00:00:00', freq='D'), Series([], dtype: float64))\n",
      "(Timestamp('2003-01-03 00:00:00', freq='D'), Series([], dtype: float64))\n",
      "(Timestamp('2003-01-04 00:00:00', freq='D'), Series([], dtype: float64))\n",
      "(Timestamp('2003-01-05 00:00:00', freq='D'), Series([], dtype: float64))\n",
      "(Timestamp('2003-01-06 00:00:00', freq='D'), Series([], dtype: float64))\n",
      "(Timestamp('2003-01-07 00:00:00', freq='D'), Series([], dtype: float64))\n",
      "(Timestamp('2003-01-08 00:00:00', freq='D'), Series([], dtype: float64))\n",
      "(Timestamp('2003-01-09 00:00:00', freq='D'), Series([], dtype: float64))\n",
      "(Timestamp('2003-01-10 00:00:00', freq='D'), Series([], dtype: float64))\n",
      "(Timestamp('2003-01-11 00:00:00', freq='D'), Series([], dtype: float64))\n",
      "(Timestamp('2003-01-12 00:00:00', freq='D'), Series([], dtype: float64))\n",
      "(Timestamp('2003-01-13 00:00:00', freq='D'), Series([], dtype: float64))\n",
      "(Timestamp('2003-01-14 00:00:00', freq='D'), Series([], dtype: float64))\n",
      "(Timestamp('2003-01-15 00:00:00', freq='D'), Series([], dtype: float64))\n",
      "(Timestamp('2003-01-16 00:00:00', freq='D'), Series([], dtype: float64))\n",
      "(Timestamp('2003-01-17 00:00:00', freq='D'), Series([], dtype: float64))\n",
      "(Timestamp('2003-01-18 00:00:00', freq='D'), Series([], dtype: float64))\n",
      "(Timestamp('2003-01-19 00:00:00', freq='D'), Series([], dtype: float64))\n",
      "(Timestamp('2003-01-20 00:00:00', freq='D'), Series([], dtype: float64))\n",
      "(Timestamp('2003-01-21 00:00:00', freq='D'), Series([], dtype: float64))\n",
      "(Timestamp('2003-01-22 00:00:00', freq='D'), Series([], dtype: float64))\n",
      "(Timestamp('2003-01-23 00:00:00', freq='D'), Series([], dtype: float64))\n",
      "(Timestamp('2003-01-24 00:00:00', freq='D'), Series([], dtype: float64))\n",
      "(Timestamp('2003-01-25 00:00:00', freq='D'), Series([], dtype: float64))\n",
      "(Timestamp('2003-01-26 00:00:00', freq='D'), Series([], dtype: float64))\n",
      "(Timestamp('2003-01-27 00:00:00', freq='D'), Series([], dtype: float64))\n",
      "(Timestamp('2003-01-28 00:00:00', freq='D'), Series([], dtype: float64))\n",
      "(Timestamp('2003-01-29 00:00:00', freq='D'), Series([], dtype: float64))\n",
      "(Timestamp('2003-01-30 00:00:00', freq='D'), Series([], dtype: float64))\n",
      "(Timestamp('2003-01-31 00:00:00', freq='D'), Series([], dtype: float64))\n",
      "(Timestamp('2003-02-01 00:00:00', freq='D'), Series([], dtype: float64))\n",
      "(Timestamp('2003-02-02 00:00:00', freq='D'), Series([], dtype: float64))\n",
      "(Timestamp('2003-02-03 00:00:00', freq='D'), Series([], dtype: float64))\n",
      "(Timestamp('2003-02-04 00:00:00', freq='D'), Series([], dtype: float64))\n",
      "(Timestamp('2003-02-05 00:00:00', freq='D'), Series([], dtype: float64))\n",
      "(Timestamp('2003-02-06 00:00:00', freq='D'), Series([], dtype: float64))\n",
      "(Timestamp('2003-02-07 00:00:00', freq='D'), Series([], dtype: float64))\n",
      "(Timestamp('2003-02-08 00:00:00', freq='D'), Series([], dtype: float64))\n",
      "(Timestamp('2003-02-09 00:00:00', freq='D'), Series([], dtype: float64))\n",
      "(Timestamp('2003-02-10 00:00:00', freq='D'), Series([], dtype: float64))\n",
      "(Timestamp('2003-02-11 00:00:00', freq='D'), Series([], dtype: float64))\n",
      "(Timestamp('2003-02-12 00:00:00', freq='D'), Series([], dtype: float64))\n",
      "(Timestamp('2003-02-13 00:00:00', freq='D'), Series([], dtype: float64))\n",
      "(Timestamp('2003-02-14 00:00:00', freq='D'), Series([], dtype: float64))\n",
      "(Timestamp('2003-02-15 00:00:00', freq='D'), Series([], dtype: float64))\n",
      "(Timestamp('2003-02-16 00:00:00', freq='D'), Series([], dtype: float64))\n",
      "(Timestamp('2003-02-17 00:00:00', freq='D'), Series([], dtype: float64))\n",
      "(Timestamp('2003-02-18 00:00:00', freq='D'), Series([], dtype: float64))\n",
      "(Timestamp('2003-02-19 00:00:00', freq='D'), Series([], dtype: float64))\n",
      "(Timestamp('2003-02-20 00:00:00', freq='D'), Series([], dtype: float64))\n",
      "(Timestamp('2003-02-21 00:00:00', freq='D'), Series([], dtype: float64))\n",
      "(Timestamp('2003-02-22 00:00:00', freq='D'), Series([], dtype: float64))\n",
      "(Timestamp('2003-02-23 00:00:00', freq='D'), Series([], dtype: float64))\n",
      "(Timestamp('2003-02-24 00:00:00', freq='D'), Series([], dtype: float64))\n",
      "(Timestamp('2003-02-25 00:00:00', freq='D'), Series([], dtype: float64))\n",
      "(Timestamp('2003-02-26 00:00:00', freq='D'), Series([], dtype: float64))\n",
      "(Timestamp('2003-02-27 00:00:00', freq='D'), Series([], dtype: float64))\n",
      "(Timestamp('2003-02-28 00:00:00', freq='D'), Series([], dtype: float64))\n",
      "(Timestamp('2003-03-01 00:00:00', freq='D'), Series([], dtype: float64))\n",
      "(Timestamp('2003-03-02 00:00:00', freq='D'), Series([], dtype: float64))\n",
      "(Timestamp('2003-03-03 00:00:00', freq='D'), Series([], dtype: float64))\n",
      "(Timestamp('2003-03-04 00:00:00', freq='D'), Series([], dtype: float64))\n",
      "(Timestamp('2003-03-05 00:00:00', freq='D'), Series([], dtype: float64))\n",
      "(Timestamp('2003-03-06 00:00:00', freq='D'), Series([], dtype: float64))\n",
      "(Timestamp('2003-03-07 00:00:00', freq='D'), Series([], dtype: float64))\n",
      "(Timestamp('2003-03-08 00:00:00', freq='D'), Series([], dtype: float64))\n",
      "(Timestamp('2003-03-09 00:00:00', freq='D'), Series([], dtype: float64))\n",
      "(Timestamp('2003-03-10 00:00:00', freq='D'), Series([], dtype: float64))\n",
      "(Timestamp('2003-03-11 00:00:00', freq='D'), Series([], dtype: float64))\n",
      "(Timestamp('2003-03-12 00:00:00', freq='D'), Series([], dtype: float64))\n",
      "(Timestamp('2003-03-13 00:00:00', freq='D'), Series([], dtype: float64))\n",
      "(Timestamp('2003-03-14 00:00:00', freq='D'), Series([], dtype: float64))\n",
      "(Timestamp('2003-03-15 00:00:00', freq='D'), Series([], dtype: float64))\n",
      "(Timestamp('2003-03-16 00:00:00', freq='D'), Series([], dtype: float64))\n",
      "(Timestamp('2003-03-17 00:00:00', freq='D'), Series([], dtype: float64))\n",
      "(Timestamp('2003-03-18 00:00:00', freq='D'), Series([], dtype: float64))\n",
      "(Timestamp('2003-03-19 00:00:00', freq='D'), Series([], dtype: float64))\n",
      "(Timestamp('2003-03-20 00:00:00', freq='D'), Series([], dtype: float64))\n",
      "(Timestamp('2003-03-21 00:00:00', freq='D'), Series([], dtype: float64))\n",
      "(Timestamp('2003-03-22 00:00:00', freq='D'), Series([], dtype: float64))\n",
      "(Timestamp('2003-03-23 00:00:00', freq='D'), Series([], dtype: float64))\n",
      "(Timestamp('2003-03-24 00:00:00', freq='D'), Series([], dtype: float64))\n",
      "(Timestamp('2003-03-25 00:00:00', freq='D'), Series([], dtype: float64))\n",
      "(Timestamp('2003-03-26 00:00:00', freq='D'), Series([], dtype: float64))\n",
      "(Timestamp('2003-03-27 00:00:00', freq='D'), Series([], dtype: float64))\n",
      "(Timestamp('2003-03-28 00:00:00', freq='D'), Series([], dtype: float64))\n",
      "(Timestamp('2003-03-29 00:00:00', freq='D'), Series([], dtype: float64))\n",
      "(Timestamp('2003-03-30 00:00:00', freq='D'), Series([], dtype: float64))\n",
      "(Timestamp('2003-03-31 00:00:00', freq='D'), Series([], dtype: float64))\n",
      "(Timestamp('2003-04-01 00:00:00', freq='D'), Series([], dtype: float64))\n",
      "(Timestamp('2003-04-02 00:00:00', freq='D'), Series([], dtype: float64))\n",
      "(Timestamp('2003-04-03 00:00:00', freq='D'), Series([], dtype: float64))\n",
      "(Timestamp('2003-04-04 00:00:00', freq='D'), Series([], dtype: float64))\n",
      "(Timestamp('2003-04-05 00:00:00', freq='D'), Series([], dtype: float64))\n",
      "(Timestamp('2003-04-06 00:00:00', freq='D'), Series([], dtype: float64))\n",
      "(Timestamp('2003-04-07 00:00:00', freq='D'), Series([], dtype: float64))\n",
      "(Timestamp('2003-04-08 00:00:00', freq='D'), Series([], dtype: float64))\n",
      "(Timestamp('2003-04-09 00:00:00', freq='D'), Series([], dtype: float64))\n",
      "(Timestamp('2003-04-10 00:00:00', freq='D'), Series([], dtype: float64))\n",
      "(Timestamp('2003-04-11 00:00:00', freq='D'), Series([], dtype: float64))\n",
      "(Timestamp('2003-04-12 00:00:00', freq='D'), Series([], dtype: float64))\n",
      "(Timestamp('2003-04-13 00:00:00', freq='D'), Series([], dtype: float64))\n",
      "(Timestamp('2003-04-14 00:00:00', freq='D'), Series([], dtype: float64))\n",
      "(Timestamp('2003-04-15 00:00:00', freq='D'), Series([], dtype: float64))\n",
      "(Timestamp('2003-04-16 00:00:00', freq='D'), Series([], dtype: float64))\n",
      "(Timestamp('2003-04-17 00:00:00', freq='D'), Series([], dtype: float64))\n",
      "(Timestamp('2003-04-18 00:00:00', freq='D'), Series([], dtype: float64))\n",
      "(Timestamp('2003-04-19 00:00:00', freq='D'), Series([], dtype: float64))\n",
      "(Timestamp('2003-04-20 00:00:00', freq='D'), Series([], dtype: float64))\n",
      "(Timestamp('2003-04-21 00:00:00', freq='D'), Series([], dtype: float64))\n",
      "(Timestamp('2003-04-22 00:00:00', freq='D'), Series([], dtype: float64))\n",
      "(Timestamp('2003-04-23 00:00:00', freq='D'), Series([], dtype: float64))\n",
      "(Timestamp('2003-04-24 00:00:00', freq='D'), Series([], dtype: float64))\n",
      "(Timestamp('2003-04-25 00:00:00', freq='D'), Series([], dtype: float64))\n",
      "(Timestamp('2003-04-26 00:00:00', freq='D'), Series([], dtype: float64))\n",
      "(Timestamp('2003-04-27 00:00:00', freq='D'), Series([], dtype: float64))\n",
      "(Timestamp('2003-04-28 00:00:00', freq='D'), Series([], dtype: float64))\n",
      "(Timestamp('2003-04-29 00:00:00', freq='D'), Series([], dtype: float64))\n",
      "(Timestamp('2003-04-30 00:00:00', freq='D'), Series([], dtype: float64))\n",
      "(Timestamp('2003-05-01 00:00:00', freq='D'), Series([], dtype: float64))\n",
      "(Timestamp('2003-05-02 00:00:00', freq='D'), Series([], dtype: float64))\n",
      "(Timestamp('2003-05-03 00:00:00', freq='D'), Series([], dtype: float64))\n",
      "(Timestamp('2003-05-04 00:00:00', freq='D'), Series([], dtype: float64))\n",
      "(Timestamp('2003-05-05 00:00:00', freq='D'), Series([], dtype: float64))\n",
      "(Timestamp('2003-05-06 00:00:00', freq='D'), Series([], dtype: float64))\n",
      "(Timestamp('2003-05-07 00:00:00', freq='D'), Series([], dtype: float64))\n",
      "(Timestamp('2003-05-08 00:00:00', freq='D'), Series([], dtype: float64))\n",
      "(Timestamp('2003-05-09 00:00:00', freq='D'), Series([], dtype: float64))\n",
      "(Timestamp('2003-05-10 00:00:00', freq='D'), Series([], dtype: float64))\n",
      "(Timestamp('2003-05-11 00:00:00', freq='D'), Series([], dtype: float64))\n",
      "(Timestamp('2003-05-12 00:00:00', freq='D'), Series([], dtype: float64))\n",
      "(Timestamp('2003-05-13 00:00:00', freq='D'), Series([], dtype: float64))\n",
      "(Timestamp('2003-05-14 00:00:00', freq='D'), Series([], dtype: float64))\n",
      "(Timestamp('2003-05-15 00:00:00', freq='D'), Series([], dtype: float64))\n",
      "(Timestamp('2003-05-16 00:00:00', freq='D'), Series([], dtype: float64))\n",
      "(Timestamp('2003-05-17 00:00:00', freq='D'), Series([], dtype: float64))\n",
      "(Timestamp('2003-05-18 00:00:00', freq='D'), Series([], dtype: float64))\n",
      "(Timestamp('2003-05-19 00:00:00', freq='D'), Series([], dtype: float64))\n",
      "(Timestamp('2003-05-20 00:00:00', freq='D'), Series([], dtype: float64))\n",
      "(Timestamp('2003-05-21 00:00:00', freq='D'), Series([], dtype: float64))\n",
      "(Timestamp('2003-05-22 00:00:00', freq='D'), Series([], dtype: float64))\n",
      "(Timestamp('2003-05-23 00:00:00', freq='D'), Series([], dtype: float64))\n",
      "(Timestamp('2003-05-24 00:00:00', freq='D'), Series([], dtype: float64))\n",
      "(Timestamp('2003-05-25 00:00:00', freq='D'), Series([], dtype: float64))\n",
      "(Timestamp('2003-05-26 00:00:00', freq='D'), Series([], dtype: float64))\n",
      "(Timestamp('2003-05-27 00:00:00', freq='D'), Series([], dtype: float64))\n",
      "(Timestamp('2003-05-28 00:00:00', freq='D'), Series([], dtype: float64))\n",
      "(Timestamp('2003-05-29 00:00:00', freq='D'), Series([], dtype: float64))\n",
      "(Timestamp('2003-05-30 00:00:00', freq='D'), Series([], dtype: float64))\n",
      "(Timestamp('2003-05-31 00:00:00', freq='D'), Series([], dtype: float64))\n",
      "(Timestamp('2003-06-01 00:00:00', freq='D'), Series([], dtype: float64))\n",
      "(Timestamp('2003-06-02 00:00:00', freq='D'), Series([], dtype: float64))\n",
      "(Timestamp('2003-06-03 00:00:00', freq='D'), Series([], dtype: float64))\n",
      "(Timestamp('2003-06-04 00:00:00', freq='D'), Series([], dtype: float64))\n",
      "(Timestamp('2003-06-05 00:00:00', freq='D'), Series([], dtype: float64))\n",
      "(Timestamp('2003-06-06 00:00:00', freq='D'), Series([], dtype: float64))\n",
      "(Timestamp('2003-06-07 00:00:00', freq='D'), Series([], dtype: float64))\n",
      "(Timestamp('2003-06-08 00:00:00', freq='D'), Series([], dtype: float64))\n",
      "(Timestamp('2003-06-09 00:00:00', freq='D'), Series([], dtype: float64))\n",
      "(Timestamp('2003-06-10 00:00:00', freq='D'), Series([], dtype: float64))\n",
      "(Timestamp('2003-06-11 00:00:00', freq='D'), Series([], dtype: float64))\n",
      "(Timestamp('2003-06-12 00:00:00', freq='D'), Series([], dtype: float64))\n",
      "(Timestamp('2003-06-13 00:00:00', freq='D'), Series([], dtype: float64))\n",
      "(Timestamp('2003-06-14 00:00:00', freq='D'), Series([], dtype: float64))\n",
      "(Timestamp('2003-06-15 00:00:00', freq='D'), Series([], dtype: float64))\n",
      "(Timestamp('2003-06-16 00:00:00', freq='D'), Series([], dtype: float64))\n",
      "(Timestamp('2003-06-17 00:00:00', freq='D'), Series([], dtype: float64))\n",
      "(Timestamp('2003-06-18 00:00:00', freq='D'), Series([], dtype: float64))\n",
      "(Timestamp('2003-06-19 00:00:00', freq='D'), Series([], dtype: float64))\n",
      "(Timestamp('2003-06-20 00:00:00', freq='D'), Series([], dtype: float64))\n",
      "(Timestamp('2003-06-21 00:00:00', freq='D'), Series([], dtype: float64))\n",
      "(Timestamp('2003-06-22 00:00:00', freq='D'), Series([], dtype: float64))\n",
      "(Timestamp('2003-06-23 00:00:00', freq='D'), Series([], dtype: float64))\n",
      "(Timestamp('2003-06-24 00:00:00', freq='D'), Series([], dtype: float64))\n",
      "(Timestamp('2003-06-25 00:00:00', freq='D'), Series([], dtype: float64))\n",
      "(Timestamp('2003-06-26 00:00:00', freq='D'), Series([], dtype: float64))\n",
      "(Timestamp('2003-06-27 00:00:00', freq='D'), Series([], dtype: float64))\n",
      "(Timestamp('2003-06-28 00:00:00', freq='D'), Series([], dtype: float64))\n",
      "(Timestamp('2003-06-29 00:00:00', freq='D'), Series([], dtype: float64))\n",
      "(Timestamp('2003-06-30 00:00:00', freq='D'), Series([], dtype: float64))\n",
      "(Timestamp('2003-07-01 00:00:00', freq='D'), Series([], dtype: float64))\n",
      "(Timestamp('2003-07-02 00:00:00', freq='D'), Series([], dtype: float64))\n",
      "(Timestamp('2003-07-03 00:00:00', freq='D'), Series([], dtype: float64))\n",
      "(Timestamp('2003-07-04 00:00:00', freq='D'), Series([], dtype: float64))\n",
      "(Timestamp('2003-07-05 00:00:00', freq='D'), Series([], dtype: float64))\n",
      "(Timestamp('2003-07-06 00:00:00', freq='D'), Series([], dtype: float64))\n",
      "(Timestamp('2003-07-07 00:00:00', freq='D'), Series([], dtype: float64))\n",
      "(Timestamp('2003-07-08 00:00:00', freq='D'), Series([], dtype: float64))\n",
      "(Timestamp('2003-07-09 00:00:00', freq='D'), Series([], dtype: float64))\n",
      "(Timestamp('2003-07-10 00:00:00', freq='D'), Series([], dtype: float64))\n",
      "(Timestamp('2003-07-11 00:00:00', freq='D'), Series([], dtype: float64))\n",
      "(Timestamp('2003-07-12 00:00:00', freq='D'), Series([], dtype: float64))\n",
      "(Timestamp('2003-07-13 00:00:00', freq='D'), Series([], dtype: float64))\n",
      "(Timestamp('2003-07-14 00:00:00', freq='D'), Series([], dtype: float64))\n",
      "(Timestamp('2003-07-15 00:00:00', freq='D'), Series([], dtype: float64))\n",
      "(Timestamp('2003-07-16 00:00:00', freq='D'), Series([], dtype: float64))\n",
      "(Timestamp('2003-07-17 00:00:00', freq='D'), Series([], dtype: float64))\n",
      "(Timestamp('2003-07-18 00:00:00', freq='D'), Series([], dtype: float64))\n",
      "(Timestamp('2003-07-19 00:00:00', freq='D'), Series([], dtype: float64))\n",
      "(Timestamp('2003-07-20 00:00:00', freq='D'), Series([], dtype: float64))\n",
      "(Timestamp('2003-07-21 00:00:00', freq='D'), Series([], dtype: float64))\n",
      "(Timestamp('2003-07-22 00:00:00', freq='D'), Series([], dtype: float64))\n",
      "(Timestamp('2003-07-23 00:00:00', freq='D'), Series([], dtype: float64))\n",
      "(Timestamp('2003-07-24 00:00:00', freq='D'), Series([], dtype: float64))\n",
      "(Timestamp('2003-07-25 00:00:00', freq='D'), Series([], dtype: float64))\n",
      "(Timestamp('2003-07-26 00:00:00', freq='D'), Series([], dtype: float64))\n",
      "(Timestamp('2003-07-27 00:00:00', freq='D'), Series([], dtype: float64))\n",
      "(Timestamp('2003-07-28 00:00:00', freq='D'), Series([], dtype: float64))\n",
      "(Timestamp('2003-07-29 00:00:00', freq='D'), Series([], dtype: float64))\n",
      "(Timestamp('2003-07-30 00:00:00', freq='D'), Series([], dtype: float64))\n",
      "(Timestamp('2003-07-31 00:00:00', freq='D'), Series([], dtype: float64))\n",
      "(Timestamp('2003-08-01 00:00:00', freq='D'), Series([], dtype: float64))\n",
      "(Timestamp('2003-08-02 00:00:00', freq='D'), Series([], dtype: float64))\n",
      "(Timestamp('2003-08-03 00:00:00', freq='D'), Series([], dtype: float64))\n",
      "(Timestamp('2003-08-04 00:00:00', freq='D'), Series([], dtype: float64))\n",
      "(Timestamp('2003-08-05 00:00:00', freq='D'), Series([], dtype: float64))\n",
      "(Timestamp('2003-08-06 00:00:00', freq='D'), Series([], dtype: float64))\n",
      "(Timestamp('2003-08-07 00:00:00', freq='D'), Series([], dtype: float64))\n",
      "(Timestamp('2003-08-08 00:00:00', freq='D'), Series([], dtype: float64))\n",
      "(Timestamp('2003-08-09 00:00:00', freq='D'), Series([], dtype: float64))\n",
      "(Timestamp('2003-08-10 00:00:00', freq='D'), Series([], dtype: float64))\n",
      "(Timestamp('2003-08-11 00:00:00', freq='D'), Series([], dtype: float64))\n",
      "(Timestamp('2003-08-12 00:00:00', freq='D'), Series([], dtype: float64))\n",
      "(Timestamp('2003-08-13 00:00:00', freq='D'), Series([], dtype: float64))\n",
      "(Timestamp('2003-08-14 00:00:00', freq='D'), Series([], dtype: float64))\n",
      "(Timestamp('2003-08-15 00:00:00', freq='D'), Series([], dtype: float64))\n",
      "(Timestamp('2003-08-16 00:00:00', freq='D'), Series([], dtype: float64))\n",
      "(Timestamp('2003-08-17 00:00:00', freq='D'), Series([], dtype: float64))\n",
      "(Timestamp('2003-08-18 00:00:00', freq='D'), Series([], dtype: float64))\n",
      "(Timestamp('2003-08-19 00:00:00', freq='D'), Series([], dtype: float64))\n",
      "(Timestamp('2003-08-20 00:00:00', freq='D'), Series([], dtype: float64))\n",
      "(Timestamp('2003-08-21 00:00:00', freq='D'), Series([], dtype: float64))\n",
      "(Timestamp('2003-08-22 00:00:00', freq='D'), Series([], dtype: float64))\n",
      "(Timestamp('2003-08-23 00:00:00', freq='D'), Series([], dtype: float64))\n",
      "(Timestamp('2003-08-24 00:00:00', freq='D'), Series([], dtype: float64))\n",
      "(Timestamp('2003-08-25 00:00:00', freq='D'), Series([], dtype: float64))\n",
      "(Timestamp('2003-08-26 00:00:00', freq='D'), Series([], dtype: float64))\n",
      "(Timestamp('2003-08-27 00:00:00', freq='D'), Series([], dtype: float64))\n",
      "(Timestamp('2003-08-28 00:00:00', freq='D'), Series([], dtype: float64))\n",
      "(Timestamp('2003-08-29 00:00:00', freq='D'), Series([], dtype: float64))\n",
      "(Timestamp('2003-08-30 00:00:00', freq='D'), Series([], dtype: float64))\n",
      "(Timestamp('2003-08-31 00:00:00', freq='D'), Series([], dtype: float64))\n",
      "(Timestamp('2003-09-01 00:00:00', freq='D'), Series([], dtype: float64))\n",
      "(Timestamp('2003-09-02 00:00:00', freq='D'), Series([], dtype: float64))\n",
      "(Timestamp('2003-09-03 00:00:00', freq='D'), Series([], dtype: float64))\n",
      "(Timestamp('2003-09-04 00:00:00', freq='D'), Series([], dtype: float64))\n",
      "(Timestamp('2003-09-05 00:00:00', freq='D'), Series([], dtype: float64))\n",
      "(Timestamp('2003-09-06 00:00:00', freq='D'), Series([], dtype: float64))\n",
      "(Timestamp('2003-09-07 00:00:00', freq='D'), Series([], dtype: float64))\n",
      "(Timestamp('2003-09-08 00:00:00', freq='D'), Series([], dtype: float64))\n",
      "(Timestamp('2003-09-09 00:00:00', freq='D'), Series([], dtype: float64))\n",
      "(Timestamp('2003-09-10 00:00:00', freq='D'), Series([], dtype: float64))\n",
      "(Timestamp('2003-09-11 00:00:00', freq='D'), Series([], dtype: float64))\n",
      "(Timestamp('2003-09-12 00:00:00', freq='D'), Series([], dtype: float64))\n",
      "(Timestamp('2003-09-13 00:00:00', freq='D'), Series([], dtype: float64))\n",
      "(Timestamp('2003-09-14 00:00:00', freq='D'), Series([], dtype: float64))\n",
      "(Timestamp('2003-09-15 00:00:00', freq='D'), Series([], dtype: float64))\n",
      "(Timestamp('2003-09-16 00:00:00', freq='D'), Series([], dtype: float64))\n",
      "(Timestamp('2003-09-17 00:00:00', freq='D'), Series([], dtype: float64))\n",
      "(Timestamp('2003-09-18 00:00:00', freq='D'), Series([], dtype: float64))\n",
      "(Timestamp('2003-09-19 00:00:00', freq='D'), Series([], dtype: float64))\n",
      "(Timestamp('2003-09-20 00:00:00', freq='D'), Series([], dtype: float64))\n",
      "(Timestamp('2003-09-21 00:00:00', freq='D'), Series([], dtype: float64))\n",
      "(Timestamp('2003-09-22 00:00:00', freq='D'), Series([], dtype: float64))\n",
      "(Timestamp('2003-09-23 00:00:00', freq='D'), Series([], dtype: float64))\n",
      "(Timestamp('2003-09-24 00:00:00', freq='D'), Series([], dtype: float64))\n",
      "(Timestamp('2003-09-25 00:00:00', freq='D'), Series([], dtype: float64))\n",
      "(Timestamp('2003-09-26 00:00:00', freq='D'), Series([], dtype: float64))\n",
      "(Timestamp('2003-09-27 00:00:00', freq='D'), Series([], dtype: float64))\n",
      "(Timestamp('2003-09-28 00:00:00', freq='D'), Series([], dtype: float64))\n",
      "(Timestamp('2003-09-29 00:00:00', freq='D'), Series([], dtype: float64))\n",
      "(Timestamp('2003-09-30 00:00:00', freq='D'), Series([], dtype: float64))\n",
      "(Timestamp('2003-10-01 00:00:00', freq='D'), Series([], dtype: float64))\n",
      "(Timestamp('2003-10-02 00:00:00', freq='D'), Series([], dtype: float64))\n",
      "(Timestamp('2003-10-03 00:00:00', freq='D'), Series([], dtype: float64))\n",
      "(Timestamp('2003-10-04 00:00:00', freq='D'), Series([], dtype: float64))\n",
      "(Timestamp('2003-10-05 00:00:00', freq='D'), Series([], dtype: float64))\n",
      "(Timestamp('2003-10-06 00:00:00', freq='D'), Series([], dtype: float64))\n",
      "(Timestamp('2003-10-07 00:00:00', freq='D'), Series([], dtype: float64))\n",
      "(Timestamp('2003-10-08 00:00:00', freq='D'), Series([], dtype: float64))\n",
      "(Timestamp('2003-10-09 00:00:00', freq='D'), Series([], dtype: float64))\n",
      "(Timestamp('2003-10-10 00:00:00', freq='D'), Series([], dtype: float64))\n",
      "(Timestamp('2003-10-11 00:00:00', freq='D'), Series([], dtype: float64))\n",
      "(Timestamp('2003-10-12 00:00:00', freq='D'), Series([], dtype: float64))\n",
      "(Timestamp('2003-10-13 00:00:00', freq='D'), Series([], dtype: float64))\n",
      "(Timestamp('2003-10-14 00:00:00', freq='D'), Series([], dtype: float64))\n",
      "(Timestamp('2003-10-15 00:00:00', freq='D'), Series([], dtype: float64))\n",
      "(Timestamp('2003-10-16 00:00:00', freq='D'), Series([], dtype: float64))\n",
      "(Timestamp('2003-10-17 00:00:00', freq='D'), Series([], dtype: float64))\n",
      "(Timestamp('2003-10-18 00:00:00', freq='D'), Series([], dtype: float64))\n",
      "(Timestamp('2003-10-19 00:00:00', freq='D'), Series([], dtype: float64))\n",
      "(Timestamp('2003-10-20 00:00:00', freq='D'), Series([], dtype: float64))\n",
      "(Timestamp('2003-10-21 00:00:00', freq='D'), Series([], dtype: float64))\n",
      "(Timestamp('2003-10-22 00:00:00', freq='D'), Series([], dtype: float64))\n",
      "(Timestamp('2003-10-23 00:00:00', freq='D'), Series([], dtype: float64))\n",
      "(Timestamp('2003-10-24 00:00:00', freq='D'), Series([], dtype: float64))\n",
      "(Timestamp('2003-10-25 00:00:00', freq='D'), Series([], dtype: float64))\n",
      "(Timestamp('2003-10-26 00:00:00', freq='D'), Series([], dtype: float64))\n",
      "(Timestamp('2003-10-27 00:00:00', freq='D'), Series([], dtype: float64))\n",
      "(Timestamp('2003-10-28 00:00:00', freq='D'), Series([], dtype: float64))\n",
      "(Timestamp('2003-10-29 00:00:00', freq='D'), Series([], dtype: float64))\n",
      "(Timestamp('2003-10-30 00:00:00', freq='D'), Series([], dtype: float64))\n",
      "(Timestamp('2003-10-31 00:00:00', freq='D'), Series([], dtype: float64))\n",
      "(Timestamp('2003-11-01 00:00:00', freq='D'), Series([], dtype: float64))\n",
      "(Timestamp('2003-11-02 00:00:00', freq='D'), Series([], dtype: float64))\n",
      "(Timestamp('2003-11-03 00:00:00', freq='D'), Series([], dtype: float64))\n",
      "(Timestamp('2003-11-04 00:00:00', freq='D'), Series([], dtype: float64))\n",
      "(Timestamp('2003-11-05 00:00:00', freq='D'), Series([], dtype: float64))\n",
      "(Timestamp('2003-11-06 00:00:00', freq='D'), Series([], dtype: float64))\n",
      "(Timestamp('2003-11-07 00:00:00', freq='D'), Series([], dtype: float64))\n",
      "(Timestamp('2003-11-08 00:00:00', freq='D'), Series([], dtype: float64))\n",
      "(Timestamp('2003-11-09 00:00:00', freq='D'), Series([], dtype: float64))\n",
      "(Timestamp('2003-11-10 00:00:00', freq='D'), Series([], dtype: float64))\n",
      "(Timestamp('2003-11-11 00:00:00', freq='D'), Series([], dtype: float64))\n",
      "(Timestamp('2003-11-12 00:00:00', freq='D'), Series([], dtype: float64))\n",
      "(Timestamp('2003-11-13 00:00:00', freq='D'), Series([], dtype: float64))\n",
      "(Timestamp('2003-11-14 00:00:00', freq='D'), Series([], dtype: float64))\n",
      "(Timestamp('2003-11-15 00:00:00', freq='D'), Series([], dtype: float64))\n",
      "(Timestamp('2003-11-16 00:00:00', freq='D'), Series([], dtype: float64))\n",
      "(Timestamp('2003-11-17 00:00:00', freq='D'), Series([], dtype: float64))\n",
      "(Timestamp('2003-11-18 00:00:00', freq='D'), Series([], dtype: float64))\n",
      "(Timestamp('2003-11-19 00:00:00', freq='D'), Series([], dtype: float64))\n",
      "(Timestamp('2003-11-20 00:00:00', freq='D'), Series([], dtype: float64))\n",
      "(Timestamp('2003-11-21 00:00:00', freq='D'), Series([], dtype: float64))\n",
      "(Timestamp('2003-11-22 00:00:00', freq='D'), Series([], dtype: float64))\n",
      "(Timestamp('2003-11-23 00:00:00', freq='D'), Series([], dtype: float64))\n",
      "(Timestamp('2003-11-24 00:00:00', freq='D'), Series([], dtype: float64))\n",
      "(Timestamp('2003-11-25 00:00:00', freq='D'), Series([], dtype: float64))\n",
      "(Timestamp('2003-11-26 00:00:00', freq='D'), Series([], dtype: float64))\n",
      "(Timestamp('2003-11-27 00:00:00', freq='D'), Series([], dtype: float64))\n",
      "(Timestamp('2003-11-28 00:00:00', freq='D'), Series([], dtype: float64))\n",
      "(Timestamp('2003-11-29 00:00:00', freq='D'), Series([], dtype: float64))\n",
      "(Timestamp('2003-11-30 00:00:00', freq='D'), Series([], dtype: float64))\n",
      "(Timestamp('2003-12-01 00:00:00', freq='D'), Series([], dtype: float64))\n",
      "(Timestamp('2003-12-02 00:00:00', freq='D'), Series([], dtype: float64))\n",
      "(Timestamp('2003-12-03 00:00:00', freq='D'), Series([], dtype: float64))\n",
      "(Timestamp('2003-12-04 00:00:00', freq='D'), Series([], dtype: float64))\n",
      "(Timestamp('2003-12-05 00:00:00', freq='D'), Series([], dtype: float64))\n",
      "(Timestamp('2003-12-06 00:00:00', freq='D'), Series([], dtype: float64))\n",
      "(Timestamp('2003-12-07 00:00:00', freq='D'), Series([], dtype: float64))\n",
      "(Timestamp('2003-12-08 00:00:00', freq='D'), Series([], dtype: float64))\n",
      "(Timestamp('2003-12-09 00:00:00', freq='D'), Series([], dtype: float64))\n",
      "(Timestamp('2003-12-10 00:00:00', freq='D'), Series([], dtype: float64))\n",
      "(Timestamp('2003-12-11 00:00:00', freq='D'), Series([], dtype: float64))\n",
      "(Timestamp('2003-12-12 00:00:00', freq='D'), Series([], dtype: float64))\n",
      "(Timestamp('2003-12-13 00:00:00', freq='D'), Series([], dtype: float64))\n",
      "(Timestamp('2003-12-14 00:00:00', freq='D'), Series([], dtype: float64))\n",
      "(Timestamp('2003-12-15 00:00:00', freq='D'), Series([], dtype: float64))\n",
      "(Timestamp('2003-12-16 00:00:00', freq='D'), Series([], dtype: float64))\n",
      "(Timestamp('2003-12-17 00:00:00', freq='D'), Series([], dtype: float64))\n",
      "(Timestamp('2003-12-18 00:00:00', freq='D'), Series([], dtype: float64))\n",
      "(Timestamp('2003-12-19 00:00:00', freq='D'), Series([], dtype: float64))\n",
      "(Timestamp('2003-12-20 00:00:00', freq='D'), Series([], dtype: float64))\n",
      "(Timestamp('2003-12-21 00:00:00', freq='D'), Series([], dtype: float64))\n",
      "(Timestamp('2003-12-22 00:00:00', freq='D'), Series([], dtype: float64))\n",
      "(Timestamp('2003-12-23 00:00:00', freq='D'), Series([], dtype: float64))\n",
      "(Timestamp('2003-12-24 00:00:00', freq='D'), Series([], dtype: float64))\n",
      "(Timestamp('2003-12-25 00:00:00', freq='D'), Series([], dtype: float64))\n",
      "(Timestamp('2003-12-26 00:00:00', freq='D'), Series([], dtype: float64))\n",
      "(Timestamp('2003-12-27 00:00:00', freq='D'), Series([], dtype: float64))\n",
      "(Timestamp('2003-12-28 00:00:00', freq='D'), Series([], dtype: float64))\n",
      "(Timestamp('2003-12-29 00:00:00', freq='D'), Series([], dtype: float64))\n",
      "(Timestamp('2003-12-30 00:00:00', freq='D'), Series([], dtype: float64))\n",
      "(Timestamp('2003-12-31 00:00:00', freq='D'), Series([], dtype: float64))\n",
      "(Timestamp('2004-01-01 00:00:00', freq='D'), Series([], dtype: float64))\n",
      "(Timestamp('2004-01-02 00:00:00', freq='D'), Series([], dtype: float64))\n",
      "(Timestamp('2004-01-03 00:00:00', freq='D'), Series([], dtype: float64))\n",
      "(Timestamp('2004-01-04 00:00:00', freq='D'), Series([], dtype: float64))\n",
      "(Timestamp('2004-01-05 00:00:00', freq='D'), Series([], dtype: float64))\n",
      "(Timestamp('2004-01-06 00:00:00', freq='D'), Series([], dtype: float64))\n",
      "(Timestamp('2004-01-07 00:00:00', freq='D'), Series([], dtype: float64))\n",
      "(Timestamp('2004-01-08 00:00:00', freq='D'), Series([], dtype: float64))\n",
      "(Timestamp('2004-01-09 00:00:00', freq='D'), Series([], dtype: float64))\n",
      "(Timestamp('2004-01-10 00:00:00', freq='D'), Series([], dtype: float64))\n",
      "(Timestamp('2004-01-11 00:00:00', freq='D'), Series([], dtype: float64))\n",
      "(Timestamp('2004-01-12 00:00:00', freq='D'), Series([], dtype: float64))\n",
      "(Timestamp('2004-01-13 00:00:00', freq='D'), Series([], dtype: float64))\n",
      "(Timestamp('2004-01-14 00:00:00', freq='D'), Series([], dtype: float64))\n",
      "(Timestamp('2004-01-15 00:00:00', freq='D'), Series([], dtype: float64))\n",
      "(Timestamp('2004-01-16 00:00:00', freq='D'), Series([], dtype: float64))\n",
      "(Timestamp('2004-01-17 00:00:00', freq='D'), Series([], dtype: float64))\n",
      "(Timestamp('2004-01-18 00:00:00', freq='D'), Series([], dtype: float64))\n",
      "(Timestamp('2004-01-19 00:00:00', freq='D'), Series([], dtype: float64))\n",
      "(Timestamp('2004-01-20 00:00:00', freq='D'), Series([], dtype: float64))\n",
      "(Timestamp('2004-01-21 00:00:00', freq='D'), Series([], dtype: float64))\n",
      "(Timestamp('2004-01-22 00:00:00', freq='D'), Series([], dtype: float64))\n",
      "(Timestamp('2004-01-23 00:00:00', freq='D'), Series([], dtype: float64))\n",
      "(Timestamp('2004-01-24 00:00:00', freq='D'), Series([], dtype: float64))\n",
      "(Timestamp('2004-01-25 00:00:00', freq='D'), Series([], dtype: float64))\n",
      "(Timestamp('2004-01-26 00:00:00', freq='D'), Series([], dtype: float64))\n",
      "(Timestamp('2004-01-27 00:00:00', freq='D'), Series([], dtype: float64))\n",
      "(Timestamp('2004-01-28 00:00:00', freq='D'), Series([], dtype: float64))\n",
      "(Timestamp('2004-01-29 00:00:00', freq='D'), Series([], dtype: float64))\n",
      "(Timestamp('2004-01-30 00:00:00', freq='D'), Series([], dtype: float64))\n",
      "(Timestamp('2004-01-31 00:00:00', freq='D'), Series([], dtype: float64))\n",
      "(Timestamp('2004-02-01 00:00:00', freq='D'), Series([], dtype: float64))\n",
      "(Timestamp('2004-02-02 00:00:00', freq='D'), Series([], dtype: float64))\n",
      "(Timestamp('2004-02-03 00:00:00', freq='D'), Series([], dtype: float64))\n",
      "(Timestamp('2004-02-04 00:00:00', freq='D'), Series([], dtype: float64))\n",
      "(Timestamp('2004-02-05 00:00:00', freq='D'), Series([], dtype: float64))\n",
      "(Timestamp('2004-02-06 00:00:00', freq='D'), Series([], dtype: float64))\n",
      "(Timestamp('2004-02-07 00:00:00', freq='D'), Series([], dtype: float64))\n",
      "(Timestamp('2004-02-08 00:00:00', freq='D'), Series([], dtype: float64))\n",
      "(Timestamp('2004-02-09 00:00:00', freq='D'), Series([], dtype: float64))\n",
      "(Timestamp('2004-02-10 00:00:00', freq='D'), Series([], dtype: float64))\n",
      "(Timestamp('2004-02-11 00:00:00', freq='D'), Series([], dtype: float64))\n",
      "(Timestamp('2004-02-12 00:00:00', freq='D'), Series([], dtype: float64))\n",
      "(Timestamp('2004-02-13 00:00:00', freq='D'), Series([], dtype: float64))\n",
      "(Timestamp('2004-02-14 00:00:00', freq='D'), Series([], dtype: float64))\n",
      "(Timestamp('2004-02-15 00:00:00', freq='D'), Series([], dtype: float64))\n",
      "(Timestamp('2004-02-16 00:00:00', freq='D'), Series([], dtype: float64))\n",
      "(Timestamp('2004-02-17 00:00:00', freq='D'), Series([], dtype: float64))\n",
      "(Timestamp('2004-02-18 00:00:00', freq='D'), Series([], dtype: float64))\n",
      "(Timestamp('2004-02-19 00:00:00', freq='D'), Series([], dtype: float64))\n",
      "(Timestamp('2004-02-20 00:00:00', freq='D'), Series([], dtype: float64))\n",
      "(Timestamp('2004-02-21 00:00:00', freq='D'), Series([], dtype: float64))\n",
      "(Timestamp('2004-02-22 00:00:00', freq='D'), Series([], dtype: float64))\n",
      "(Timestamp('2004-02-23 00:00:00', freq='D'), Series([], dtype: float64))\n",
      "(Timestamp('2004-02-24 00:00:00', freq='D'), Series([], dtype: float64))\n",
      "(Timestamp('2004-02-25 00:00:00', freq='D'), Series([], dtype: float64))\n",
      "(Timestamp('2004-02-26 00:00:00', freq='D'), Series([], dtype: float64))\n",
      "(Timestamp('2004-02-27 00:00:00', freq='D'), Series([], dtype: float64))\n",
      "(Timestamp('2004-02-28 00:00:00', freq='D'), Series([], dtype: float64))\n",
      "(Timestamp('2004-02-29 00:00:00', freq='D'), Series([], dtype: float64))\n",
      "(Timestamp('2004-03-01 00:00:00', freq='D'), Series([], dtype: float64))\n",
      "(Timestamp('2004-03-02 00:00:00', freq='D'), Series([], dtype: float64))\n",
      "(Timestamp('2004-03-03 00:00:00', freq='D'), Series([], dtype: float64))\n",
      "(Timestamp('2004-03-04 00:00:00', freq='D'), Series([], dtype: float64))\n",
      "(Timestamp('2004-03-05 00:00:00', freq='D'), Series([], dtype: float64))\n",
      "(Timestamp('2004-03-06 00:00:00', freq='D'), Series([], dtype: float64))\n",
      "(Timestamp('2004-03-07 00:00:00', freq='D'), Series([], dtype: float64))\n",
      "(Timestamp('2004-03-08 00:00:00', freq='D'), Series([], dtype: float64))\n",
      "(Timestamp('2004-03-09 00:00:00', freq='D'), Series([], dtype: float64))\n",
      "(Timestamp('2004-03-10 00:00:00', freq='D'), Series([], dtype: float64))\n",
      "(Timestamp('2004-03-11 00:00:00', freq='D'), Series([], dtype: float64))\n",
      "(Timestamp('2004-03-12 00:00:00', freq='D'), Series([], dtype: float64))\n",
      "(Timestamp('2004-03-13 00:00:00', freq='D'), Series([], dtype: float64))\n",
      "(Timestamp('2004-03-14 00:00:00', freq='D'), Series([], dtype: float64))\n",
      "(Timestamp('2004-03-15 00:00:00', freq='D'), Series([], dtype: float64))\n",
      "(Timestamp('2004-03-16 00:00:00', freq='D'), Series([], dtype: float64))\n",
      "(Timestamp('2004-03-17 00:00:00', freq='D'), Series([], dtype: float64))\n",
      "(Timestamp('2004-03-18 00:00:00', freq='D'), Series([], dtype: float64))\n",
      "(Timestamp('2004-03-19 00:00:00', freq='D'), Series([], dtype: float64))\n",
      "(Timestamp('2004-03-20 00:00:00', freq='D'), Series([], dtype: float64))\n",
      "(Timestamp('2004-03-21 00:00:00', freq='D'), Series([], dtype: float64))\n",
      "(Timestamp('2004-03-22 00:00:00', freq='D'), Series([], dtype: float64))\n",
      "(Timestamp('2004-03-23 00:00:00', freq='D'), Series([], dtype: float64))\n",
      "(Timestamp('2004-03-24 00:00:00', freq='D'), Series([], dtype: float64))\n",
      "(Timestamp('2004-03-25 00:00:00', freq='D'), Series([], dtype: float64))\n",
      "(Timestamp('2004-03-26 00:00:00', freq='D'), Series([], dtype: float64))\n",
      "(Timestamp('2004-03-27 00:00:00', freq='D'), Series([], dtype: float64))\n",
      "(Timestamp('2004-03-28 00:00:00', freq='D'), Series([], dtype: float64))\n",
      "(Timestamp('2004-03-29 00:00:00', freq='D'), Series([], dtype: float64))\n",
      "(Timestamp('2004-03-30 00:00:00', freq='D'), Series([], dtype: float64))\n",
      "(Timestamp('2004-03-31 00:00:00', freq='D'), Series([], dtype: float64))\n",
      "(Timestamp('2004-04-01 00:00:00', freq='D'), Series([], dtype: float64))\n",
      "(Timestamp('2004-04-02 00:00:00', freq='D'), Series([], dtype: float64))\n",
      "(Timestamp('2004-04-03 00:00:00', freq='D'), Series([], dtype: float64))\n",
      "(Timestamp('2004-04-04 00:00:00', freq='D'), Series([], dtype: float64))\n",
      "(Timestamp('2004-04-05 00:00:00', freq='D'), Series([], dtype: float64))\n",
      "(Timestamp('2004-04-06 00:00:00', freq='D'), Series([], dtype: float64))\n",
      "(Timestamp('2004-04-07 00:00:00', freq='D'), Series([], dtype: float64))\n",
      "(Timestamp('2004-04-08 00:00:00', freq='D'), Series([], dtype: float64))\n",
      "(Timestamp('2004-04-09 00:00:00', freq='D'), Series([], dtype: float64))\n",
      "(Timestamp('2004-04-10 00:00:00', freq='D'), Series([], dtype: float64))\n",
      "(Timestamp('2004-04-11 00:00:00', freq='D'), Series([], dtype: float64))\n",
      "(Timestamp('2004-04-12 00:00:00', freq='D'), Series([], dtype: float64))\n",
      "(Timestamp('2004-04-13 00:00:00', freq='D'), Series([], dtype: float64))\n",
      "(Timestamp('2004-04-14 00:00:00', freq='D'), Series([], dtype: float64))\n",
      "(Timestamp('2004-04-15 00:00:00', freq='D'), Series([], dtype: float64))\n",
      "(Timestamp('2004-04-16 00:00:00', freq='D'), Series([], dtype: float64))\n",
      "(Timestamp('2004-04-17 00:00:00', freq='D'), Series([], dtype: float64))\n",
      "(Timestamp('2004-04-18 00:00:00', freq='D'), Series([], dtype: float64))\n",
      "(Timestamp('2004-04-19 00:00:00', freq='D'), Series([], dtype: float64))\n",
      "(Timestamp('2004-04-20 00:00:00', freq='D'), Series([], dtype: float64))\n",
      "(Timestamp('2004-04-21 00:00:00', freq='D'), Series([], dtype: float64))\n",
      "(Timestamp('2004-04-22 00:00:00', freq='D'), Series([], dtype: float64))\n",
      "(Timestamp('2004-04-23 00:00:00', freq='D'), Series([], dtype: float64))\n",
      "(Timestamp('2004-04-24 00:00:00', freq='D'), Series([], dtype: float64))\n",
      "(Timestamp('2004-04-25 00:00:00', freq='D'), Series([], dtype: float64))\n",
      "(Timestamp('2004-04-26 00:00:00', freq='D'), Series([], dtype: float64))\n",
      "(Timestamp('2004-04-27 00:00:00', freq='D'), Series([], dtype: float64))\n",
      "(Timestamp('2004-04-28 00:00:00', freq='D'), Series([], dtype: float64))\n",
      "(Timestamp('2004-04-29 00:00:00', freq='D'), Series([], dtype: float64))\n",
      "(Timestamp('2004-04-30 00:00:00', freq='D'), Series([], dtype: float64))\n",
      "(Timestamp('2004-05-01 00:00:00', freq='D'), Series([], dtype: float64))\n",
      "(Timestamp('2004-05-02 00:00:00', freq='D'), Series([], dtype: float64))\n",
      "(Timestamp('2004-05-03 00:00:00', freq='D'), Series([], dtype: float64))\n",
      "(Timestamp('2004-05-04 00:00:00', freq='D'), Series([], dtype: float64))\n",
      "(Timestamp('2004-05-05 00:00:00', freq='D'), Series([], dtype: float64))\n",
      "(Timestamp('2004-05-06 00:00:00', freq='D'), Series([], dtype: float64))\n",
      "(Timestamp('2004-05-07 00:00:00', freq='D'), Series([], dtype: float64))\n",
      "(Timestamp('2004-05-08 00:00:00', freq='D'), Series([], dtype: float64))\n",
      "(Timestamp('2004-05-09 00:00:00', freq='D'), Series([], dtype: float64))\n",
      "(Timestamp('2004-05-10 00:00:00', freq='D'), Series([], dtype: float64))\n",
      "(Timestamp('2004-05-11 00:00:00', freq='D'), Series([], dtype: float64))\n",
      "(Timestamp('2004-05-12 00:00:00', freq='D'), Series([], dtype: float64))\n",
      "(Timestamp('2004-05-13 00:00:00', freq='D'), Series([], dtype: float64))\n",
      "(Timestamp('2004-05-14 00:00:00', freq='D'), Series([], dtype: float64))\n",
      "(Timestamp('2004-05-15 00:00:00', freq='D'), Series([], dtype: float64))\n",
      "(Timestamp('2004-05-16 00:00:00', freq='D'), Series([], dtype: float64))\n",
      "(Timestamp('2004-05-17 00:00:00', freq='D'), Series([], dtype: float64))\n",
      "(Timestamp('2004-05-18 00:00:00', freq='D'), Series([], dtype: float64))\n",
      "(Timestamp('2004-05-19 00:00:00', freq='D'), Series([], dtype: float64))\n",
      "(Timestamp('2004-05-20 00:00:00', freq='D'), Series([], dtype: float64))\n",
      "(Timestamp('2004-05-21 00:00:00', freq='D'), Series([], dtype: float64))\n",
      "(Timestamp('2004-05-22 00:00:00', freq='D'), Series([], dtype: float64))\n",
      "(Timestamp('2004-05-23 00:00:00', freq='D'), Series([], dtype: float64))\n",
      "(Timestamp('2004-05-24 00:00:00', freq='D'), Series([], dtype: float64))\n",
      "(Timestamp('2004-05-25 00:00:00', freq='D'), Series([], dtype: float64))\n",
      "(Timestamp('2004-05-26 00:00:00', freq='D'), Series([], dtype: float64))\n",
      "(Timestamp('2004-05-27 00:00:00', freq='D'), Series([], dtype: float64))\n",
      "(Timestamp('2004-05-28 00:00:00', freq='D'), Series([], dtype: float64))\n",
      "(Timestamp('2004-05-29 00:00:00', freq='D'), Series([], dtype: float64))\n",
      "(Timestamp('2004-05-30 00:00:00', freq='D'), Series([], dtype: float64))\n",
      "(Timestamp('2004-05-31 00:00:00', freq='D'), Series([], dtype: float64))\n",
      "(Timestamp('2004-06-01 00:00:00', freq='D'), Series([], dtype: float64))\n",
      "(Timestamp('2004-06-02 00:00:00', freq='D'), Series([], dtype: float64))\n",
      "(Timestamp('2004-06-03 00:00:00', freq='D'), Series([], dtype: float64))\n",
      "(Timestamp('2004-06-04 00:00:00', freq='D'), Series([], dtype: float64))\n",
      "(Timestamp('2004-06-05 00:00:00', freq='D'), Series([], dtype: float64))\n",
      "(Timestamp('2004-06-06 00:00:00', freq='D'), Series([], dtype: float64))\n",
      "(Timestamp('2004-06-07 00:00:00', freq='D'), Series([], dtype: float64))\n",
      "(Timestamp('2004-06-08 00:00:00', freq='D'), Series([], dtype: float64))\n",
      "(Timestamp('2004-06-09 00:00:00', freq='D'), Series([], dtype: float64))\n",
      "(Timestamp('2004-06-10 00:00:00', freq='D'), Series([], dtype: float64))\n",
      "(Timestamp('2004-06-11 00:00:00', freq='D'), Series([], dtype: float64))\n",
      "(Timestamp('2004-06-12 00:00:00', freq='D'), Series([], dtype: float64))\n",
      "(Timestamp('2004-06-13 00:00:00', freq='D'), Series([], dtype: float64))\n",
      "(Timestamp('2004-06-14 00:00:00', freq='D'), Series([], dtype: float64))\n",
      "(Timestamp('2004-06-15 00:00:00', freq='D'), Series([], dtype: float64))\n",
      "(Timestamp('2004-06-16 00:00:00', freq='D'), Series([], dtype: float64))\n",
      "(Timestamp('2004-06-17 00:00:00', freq='D'), Series([], dtype: float64))\n",
      "(Timestamp('2004-06-18 00:00:00', freq='D'), Series([], dtype: float64))\n",
      "(Timestamp('2004-06-19 00:00:00', freq='D'), Series([], dtype: float64))\n",
      "(Timestamp('2004-06-20 00:00:00', freq='D'), Series([], dtype: float64))\n",
      "(Timestamp('2004-06-21 00:00:00', freq='D'), Series([], dtype: float64))\n",
      "(Timestamp('2004-06-22 00:00:00', freq='D'), Series([], dtype: float64))\n",
      "(Timestamp('2004-06-23 00:00:00', freq='D'), Series([], dtype: float64))\n",
      "(Timestamp('2004-06-24 00:00:00', freq='D'), Series([], dtype: float64))\n",
      "(Timestamp('2004-06-25 00:00:00', freq='D'), Series([], dtype: float64))\n",
      "(Timestamp('2004-06-26 00:00:00', freq='D'), Series([], dtype: float64))\n",
      "(Timestamp('2004-06-27 00:00:00', freq='D'), Series([], dtype: float64))\n",
      "(Timestamp('2004-06-28 00:00:00', freq='D'), Series([], dtype: float64))\n",
      "(Timestamp('2004-06-29 00:00:00', freq='D'), Series([], dtype: float64))\n",
      "(Timestamp('2004-06-30 00:00:00', freq='D'), Series([], dtype: float64))\n",
      "(Timestamp('2004-07-01 00:00:00', freq='D'), Series([], dtype: float64))\n",
      "(Timestamp('2004-07-02 00:00:00', freq='D'), Series([], dtype: float64))\n",
      "(Timestamp('2004-07-03 00:00:00', freq='D'), Series([], dtype: float64))\n",
      "(Timestamp('2004-07-04 00:00:00', freq='D'), Series([], dtype: float64))\n",
      "(Timestamp('2004-07-05 00:00:00', freq='D'), Series([], dtype: float64))\n",
      "(Timestamp('2004-07-06 00:00:00', freq='D'), Series([], dtype: float64))\n",
      "(Timestamp('2004-07-07 00:00:00', freq='D'), Series([], dtype: float64))\n",
      "(Timestamp('2004-07-08 00:00:00', freq='D'), Series([], dtype: float64))\n",
      "(Timestamp('2004-07-09 00:00:00', freq='D'), Series([], dtype: float64))\n",
      "(Timestamp('2004-07-10 00:00:00', freq='D'), Series([], dtype: float64))\n",
      "(Timestamp('2004-07-11 00:00:00', freq='D'), Series([], dtype: float64))\n",
      "(Timestamp('2004-07-12 00:00:00', freq='D'), Series([], dtype: float64))\n",
      "(Timestamp('2004-07-13 00:00:00', freq='D'), Series([], dtype: float64))\n",
      "(Timestamp('2004-07-14 00:00:00', freq='D'), Series([], dtype: float64))\n",
      "(Timestamp('2004-07-15 00:00:00', freq='D'), Series([], dtype: float64))\n",
      "(Timestamp('2004-07-16 00:00:00', freq='D'), Series([], dtype: float64))\n",
      "(Timestamp('2004-07-17 00:00:00', freq='D'), Series([], dtype: float64))\n",
      "(Timestamp('2004-07-18 00:00:00', freq='D'), Series([], dtype: float64))\n",
      "(Timestamp('2004-07-19 00:00:00', freq='D'), Series([], dtype: float64))\n",
      "(Timestamp('2004-07-20 00:00:00', freq='D'), Series([], dtype: float64))\n",
      "(Timestamp('2004-07-21 00:00:00', freq='D'), Series([], dtype: float64))\n",
      "(Timestamp('2004-07-22 00:00:00', freq='D'), Series([], dtype: float64))\n",
      "(Timestamp('2004-07-23 00:00:00', freq='D'), Series([], dtype: float64))\n",
      "(Timestamp('2004-07-24 00:00:00', freq='D'), Series([], dtype: float64))\n",
      "(Timestamp('2004-07-25 00:00:00', freq='D'), Series([], dtype: float64))\n",
      "(Timestamp('2004-07-26 00:00:00', freq='D'), Series([], dtype: float64))\n"
     ]
    },
    {
     "name": "stdout",
     "output_type": "stream",
     "text": [
      "(Timestamp('2004-07-27 00:00:00', freq='D'), Series([], dtype: float64))\n",
      "(Timestamp('2004-07-28 00:00:00', freq='D'), Series([], dtype: float64))\n",
      "(Timestamp('2004-07-29 00:00:00', freq='D'), Series([], dtype: float64))\n",
      "(Timestamp('2004-07-30 00:00:00', freq='D'), Series([], dtype: float64))\n",
      "(Timestamp('2004-07-31 00:00:00', freq='D'), Series([], dtype: float64))\n",
      "(Timestamp('2004-08-01 00:00:00', freq='D'), Series([], dtype: float64))\n",
      "(Timestamp('2004-08-02 00:00:00', freq='D'), Series([], dtype: float64))\n",
      "(Timestamp('2004-08-03 00:00:00', freq='D'), Series([], dtype: float64))\n",
      "(Timestamp('2004-08-04 00:00:00', freq='D'), Series([], dtype: float64))\n",
      "(Timestamp('2004-08-05 00:00:00', freq='D'), Series([], dtype: float64))\n",
      "(Timestamp('2004-08-06 00:00:00', freq='D'), Series([], dtype: float64))\n",
      "(Timestamp('2004-08-07 00:00:00', freq='D'), Series([], dtype: float64))\n",
      "(Timestamp('2004-08-08 00:00:00', freq='D'), Series([], dtype: float64))\n",
      "(Timestamp('2004-08-09 00:00:00', freq='D'), Series([], dtype: float64))\n",
      "(Timestamp('2004-08-10 00:00:00', freq='D'), Series([], dtype: float64))\n",
      "(Timestamp('2004-08-11 00:00:00', freq='D'), Series([], dtype: float64))\n",
      "(Timestamp('2004-08-12 00:00:00', freq='D'), Series([], dtype: float64))\n",
      "(Timestamp('2004-08-13 00:00:00', freq='D'), Series([], dtype: float64))\n",
      "(Timestamp('2004-08-14 00:00:00', freq='D'), Series([], dtype: float64))\n",
      "(Timestamp('2004-08-15 00:00:00', freq='D'), Series([], dtype: float64))\n",
      "(Timestamp('2004-08-16 00:00:00', freq='D'), Series([], dtype: float64))\n",
      "(Timestamp('2004-08-17 00:00:00', freq='D'), Series([], dtype: float64))\n",
      "(Timestamp('2004-08-18 00:00:00', freq='D'), Series([], dtype: float64))\n",
      "(Timestamp('2004-08-19 00:00:00', freq='D'), Series([], dtype: float64))\n",
      "(Timestamp('2004-08-20 00:00:00', freq='D'), Series([], dtype: float64))\n",
      "(Timestamp('2004-08-21 00:00:00', freq='D'), Series([], dtype: float64))\n",
      "(Timestamp('2004-08-22 00:00:00', freq='D'), Series([], dtype: float64))\n",
      "(Timestamp('2004-08-23 00:00:00', freq='D'), Series([], dtype: float64))\n",
      "(Timestamp('2004-08-24 00:00:00', freq='D'), Series([], dtype: float64))\n",
      "(Timestamp('2004-08-25 00:00:00', freq='D'), Series([], dtype: float64))\n",
      "(Timestamp('2004-08-26 00:00:00', freq='D'), Series([], dtype: float64))\n",
      "(Timestamp('2004-08-27 00:00:00', freq='D'), Series([], dtype: float64))\n",
      "(Timestamp('2004-08-28 00:00:00', freq='D'), Series([], dtype: float64))\n",
      "(Timestamp('2004-08-29 00:00:00', freq='D'), Series([], dtype: float64))\n",
      "(Timestamp('2004-08-30 00:00:00', freq='D'), Series([], dtype: float64))\n",
      "(Timestamp('2004-08-31 00:00:00', freq='D'), Series([], dtype: float64))\n",
      "(Timestamp('2004-09-01 00:00:00', freq='D'), Series([], dtype: float64))\n",
      "(Timestamp('2004-09-02 00:00:00', freq='D'), Series([], dtype: float64))\n",
      "(Timestamp('2004-09-03 00:00:00', freq='D'), Series([], dtype: float64))\n",
      "(Timestamp('2004-09-04 00:00:00', freq='D'), Series([], dtype: float64))\n",
      "(Timestamp('2004-09-05 00:00:00', freq='D'), Series([], dtype: float64))\n",
      "(Timestamp('2004-09-06 00:00:00', freq='D'), Series([], dtype: float64))\n",
      "(Timestamp('2004-09-07 00:00:00', freq='D'), Series([], dtype: float64))\n",
      "(Timestamp('2004-09-08 00:00:00', freq='D'), Series([], dtype: float64))\n",
      "(Timestamp('2004-09-09 00:00:00', freq='D'), Series([], dtype: float64))\n",
      "(Timestamp('2004-09-10 00:00:00', freq='D'), Series([], dtype: float64))\n",
      "(Timestamp('2004-09-11 00:00:00', freq='D'), Series([], dtype: float64))\n",
      "(Timestamp('2004-09-12 00:00:00', freq='D'), Series([], dtype: float64))\n",
      "(Timestamp('2004-09-13 00:00:00', freq='D'), Series([], dtype: float64))\n",
      "(Timestamp('2004-09-14 00:00:00', freq='D'), Series([], dtype: float64))\n",
      "(Timestamp('2004-09-15 00:00:00', freq='D'), Series([], dtype: float64))\n",
      "(Timestamp('2004-09-16 00:00:00', freq='D'), Series([], dtype: float64))\n",
      "(Timestamp('2004-09-17 00:00:00', freq='D'), Series([], dtype: float64))\n",
      "(Timestamp('2004-09-18 00:00:00', freq='D'), Series([], dtype: float64))\n",
      "(Timestamp('2004-09-19 00:00:00', freq='D'), Series([], dtype: float64))\n",
      "(Timestamp('2004-09-20 00:00:00', freq='D'), Series([], dtype: float64))\n",
      "(Timestamp('2004-09-21 00:00:00', freq='D'), Series([], dtype: float64))\n",
      "(Timestamp('2004-09-22 00:00:00', freq='D'), Series([], dtype: float64))\n",
      "(Timestamp('2004-09-23 00:00:00', freq='D'), Series([], dtype: float64))\n",
      "(Timestamp('2004-09-24 00:00:00', freq='D'), Series([], dtype: float64))\n",
      "(Timestamp('2004-09-25 00:00:00', freq='D'), Series([], dtype: float64))\n",
      "(Timestamp('2004-09-26 00:00:00', freq='D'), Series([], dtype: float64))\n",
      "(Timestamp('2004-09-27 00:00:00', freq='D'), Series([], dtype: float64))\n",
      "(Timestamp('2004-09-28 00:00:00', freq='D'), Series([], dtype: float64))\n",
      "(Timestamp('2004-09-29 00:00:00', freq='D'), Series([], dtype: float64))\n",
      "(Timestamp('2004-09-30 00:00:00', freq='D'), Series([], dtype: float64))\n",
      "(Timestamp('2004-10-01 00:00:00', freq='D'), Series([], dtype: float64))\n",
      "(Timestamp('2004-10-02 00:00:00', freq='D'), Series([], dtype: float64))\n",
      "(Timestamp('2004-10-03 00:00:00', freq='D'), Series([], dtype: float64))\n",
      "(Timestamp('2004-10-04 00:00:00', freq='D'), Series([], dtype: float64))\n",
      "(Timestamp('2004-10-05 00:00:00', freq='D'), Series([], dtype: float64))\n",
      "(Timestamp('2004-10-06 00:00:00', freq='D'), Series([], dtype: float64))\n",
      "(Timestamp('2004-10-07 00:00:00', freq='D'), Series([], dtype: float64))\n",
      "(Timestamp('2004-10-08 00:00:00', freq='D'), Series([], dtype: float64))\n",
      "(Timestamp('2004-10-09 00:00:00', freq='D'), Series([], dtype: float64))\n",
      "(Timestamp('2004-10-10 00:00:00', freq='D'), Series([], dtype: float64))\n",
      "(Timestamp('2004-10-11 00:00:00', freq='D'), Series([], dtype: float64))\n",
      "(Timestamp('2004-10-12 00:00:00', freq='D'), Series([], dtype: float64))\n",
      "(Timestamp('2004-10-13 00:00:00', freq='D'), Series([], dtype: float64))\n",
      "(Timestamp('2004-10-14 00:00:00', freq='D'), Series([], dtype: float64))\n",
      "(Timestamp('2004-10-15 00:00:00', freq='D'), Series([], dtype: float64))\n",
      "(Timestamp('2004-10-16 00:00:00', freq='D'), Series([], dtype: float64))\n",
      "(Timestamp('2004-10-17 00:00:00', freq='D'), Series([], dtype: float64))\n",
      "(Timestamp('2004-10-18 00:00:00', freq='D'), Series([], dtype: float64))\n",
      "(Timestamp('2004-10-19 00:00:00', freq='D'), Series([], dtype: float64))\n",
      "(Timestamp('2004-10-20 00:00:00', freq='D'), Series([], dtype: float64))\n",
      "(Timestamp('2004-10-21 00:00:00', freq='D'), Series([], dtype: float64))\n",
      "(Timestamp('2004-10-22 00:00:00', freq='D'), Series([], dtype: float64))\n",
      "(Timestamp('2004-10-23 00:00:00', freq='D'), Series([], dtype: float64))\n",
      "(Timestamp('2004-10-24 00:00:00', freq='D'), Series([], dtype: float64))\n",
      "(Timestamp('2004-10-25 00:00:00', freq='D'), Series([], dtype: float64))\n",
      "(Timestamp('2004-10-26 00:00:00', freq='D'), Series([], dtype: float64))\n",
      "(Timestamp('2004-10-27 00:00:00', freq='D'), Series([], dtype: float64))\n",
      "(Timestamp('2004-10-28 00:00:00', freq='D'), Series([], dtype: float64))\n",
      "(Timestamp('2004-10-29 00:00:00', freq='D'), Series([], dtype: float64))\n",
      "(Timestamp('2004-10-30 00:00:00', freq='D'), Series([], dtype: float64))\n",
      "(Timestamp('2004-10-31 00:00:00', freq='D'), Series([], dtype: float64))\n",
      "(Timestamp('2004-11-01 00:00:00', freq='D'), Series([], dtype: float64))\n",
      "(Timestamp('2004-11-02 00:00:00', freq='D'), Series([], dtype: float64))\n",
      "(Timestamp('2004-11-03 00:00:00', freq='D'), Series([], dtype: float64))\n",
      "(Timestamp('2004-11-04 00:00:00', freq='D'), Series([], dtype: float64))\n",
      "(Timestamp('2004-11-05 00:00:00', freq='D'), Series([], dtype: float64))\n",
      "(Timestamp('2004-11-06 00:00:00', freq='D'), Series([], dtype: float64))\n",
      "(Timestamp('2004-11-07 00:00:00', freq='D'), Series([], dtype: float64))\n",
      "(Timestamp('2004-11-08 00:00:00', freq='D'), Series([], dtype: float64))\n",
      "(Timestamp('2004-11-09 00:00:00', freq='D'), Series([], dtype: float64))\n",
      "(Timestamp('2004-11-10 00:00:00', freq='D'), Series([], dtype: float64))\n",
      "(Timestamp('2004-11-11 00:00:00', freq='D'), Series([], dtype: float64))\n",
      "(Timestamp('2004-11-12 00:00:00', freq='D'), Series([], dtype: float64))\n",
      "(Timestamp('2004-11-13 00:00:00', freq='D'), Series([], dtype: float64))\n",
      "(Timestamp('2004-11-14 00:00:00', freq='D'), Series([], dtype: float64))\n",
      "(Timestamp('2004-11-15 00:00:00', freq='D'), Series([], dtype: float64))\n",
      "(Timestamp('2004-11-16 00:00:00', freq='D'), Series([], dtype: float64))\n",
      "(Timestamp('2004-11-17 00:00:00', freq='D'), Series([], dtype: float64))\n",
      "(Timestamp('2004-11-18 00:00:00', freq='D'), Series([], dtype: float64))\n",
      "(Timestamp('2004-11-19 00:00:00', freq='D'), Series([], dtype: float64))\n",
      "(Timestamp('2004-11-20 00:00:00', freq='D'), Series([], dtype: float64))\n",
      "(Timestamp('2004-11-21 00:00:00', freq='D'), Series([], dtype: float64))\n",
      "(Timestamp('2004-11-22 00:00:00', freq='D'), Series([], dtype: float64))\n",
      "(Timestamp('2004-11-23 00:00:00', freq='D'), Series([], dtype: float64))\n",
      "(Timestamp('2004-11-24 00:00:00', freq='D'), Series([], dtype: float64))\n",
      "(Timestamp('2004-11-25 00:00:00', freq='D'), Series([], dtype: float64))\n",
      "(Timestamp('2004-11-26 00:00:00', freq='D'), Series([], dtype: float64))\n",
      "(Timestamp('2004-11-27 00:00:00', freq='D'), Series([], dtype: float64))\n",
      "(Timestamp('2004-11-28 00:00:00', freq='D'), Series([], dtype: float64))\n",
      "(Timestamp('2004-11-29 00:00:00', freq='D'), Series([], dtype: float64))\n",
      "(Timestamp('2004-11-30 00:00:00', freq='D'), Series([], dtype: float64))\n",
      "(Timestamp('2004-12-01 00:00:00', freq='D'), Series([], dtype: float64))\n",
      "(Timestamp('2004-12-02 00:00:00', freq='D'), Series([], dtype: float64))\n",
      "(Timestamp('2004-12-03 00:00:00', freq='D'), Series([], dtype: float64))\n",
      "(Timestamp('2004-12-04 00:00:00', freq='D'), Series([], dtype: float64))\n",
      "(Timestamp('2004-12-05 00:00:00', freq='D'), Series([], dtype: float64))\n",
      "(Timestamp('2004-12-06 00:00:00', freq='D'), Series([], dtype: float64))\n",
      "(Timestamp('2004-12-07 00:00:00', freq='D'), Series([], dtype: float64))\n",
      "(Timestamp('2004-12-08 00:00:00', freq='D'), Series([], dtype: float64))\n",
      "(Timestamp('2004-12-09 00:00:00', freq='D'), Series([], dtype: float64))\n",
      "(Timestamp('2004-12-10 00:00:00', freq='D'), Series([], dtype: float64))\n",
      "(Timestamp('2004-12-11 00:00:00', freq='D'), Series([], dtype: float64))\n",
      "(Timestamp('2004-12-12 00:00:00', freq='D'), Series([], dtype: float64))\n",
      "(Timestamp('2004-12-13 00:00:00', freq='D'), Series([], dtype: float64))\n",
      "(Timestamp('2004-12-14 00:00:00', freq='D'), Series([], dtype: float64))\n",
      "(Timestamp('2004-12-15 00:00:00', freq='D'), Series([], dtype: float64))\n",
      "(Timestamp('2004-12-16 00:00:00', freq='D'), Series([], dtype: float64))\n",
      "(Timestamp('2004-12-17 00:00:00', freq='D'), Series([], dtype: float64))\n",
      "(Timestamp('2004-12-18 00:00:00', freq='D'), Series([], dtype: float64))\n",
      "(Timestamp('2004-12-19 00:00:00', freq='D'), Series([], dtype: float64))\n",
      "(Timestamp('2004-12-20 00:00:00', freq='D'), Series([], dtype: float64))\n",
      "(Timestamp('2004-12-21 00:00:00', freq='D'), Series([], dtype: float64))\n",
      "(Timestamp('2004-12-22 00:00:00', freq='D'), Series([], dtype: float64))\n",
      "(Timestamp('2004-12-23 00:00:00', freq='D'), Series([], dtype: float64))\n",
      "(Timestamp('2004-12-24 00:00:00', freq='D'), Series([], dtype: float64))\n",
      "(Timestamp('2004-12-25 00:00:00', freq='D'), Series([], dtype: float64))\n",
      "(Timestamp('2004-12-26 00:00:00', freq='D'), Series([], dtype: float64))\n",
      "(Timestamp('2004-12-27 00:00:00', freq='D'), Series([], dtype: float64))\n",
      "(Timestamp('2004-12-28 00:00:00', freq='D'), Series([], dtype: float64))\n",
      "(Timestamp('2004-12-29 00:00:00', freq='D'), Series([], dtype: float64))\n",
      "(Timestamp('2004-12-30 00:00:00', freq='D'), Series([], dtype: float64))\n",
      "(Timestamp('2004-12-31 00:00:00', freq='D'), Series([], dtype: float64))\n",
      "(Timestamp('2005-01-01 00:00:00', freq='D'), Series([], dtype: float64))\n",
      "(Timestamp('2005-01-02 00:00:00', freq='D'), Series([], dtype: float64))\n",
      "(Timestamp('2005-01-03 00:00:00', freq='D'), Series([], dtype: float64))\n",
      "(Timestamp('2005-01-04 00:00:00', freq='D'), Series([], dtype: float64))\n",
      "(Timestamp('2005-01-05 00:00:00', freq='D'), Series([], dtype: float64))\n",
      "(Timestamp('2005-01-06 00:00:00', freq='D'), Series([], dtype: float64))\n",
      "(Timestamp('2005-01-07 00:00:00', freq='D'), Series([], dtype: float64))\n",
      "(Timestamp('2005-01-08 00:00:00', freq='D'), Series([], dtype: float64))\n",
      "(Timestamp('2005-01-09 00:00:00', freq='D'), Series([], dtype: float64))\n",
      "(Timestamp('2005-01-10 00:00:00', freq='D'), Series([], dtype: float64))\n",
      "(Timestamp('2005-01-11 00:00:00', freq='D'), Series([], dtype: float64))\n",
      "(Timestamp('2005-01-12 00:00:00', freq='D'), Series([], dtype: float64))\n",
      "(Timestamp('2005-01-13 00:00:00', freq='D'), Series([], dtype: float64))\n",
      "(Timestamp('2005-01-14 00:00:00', freq='D'), Series([], dtype: float64))\n",
      "(Timestamp('2005-01-15 00:00:00', freq='D'), Series([], dtype: float64))\n",
      "(Timestamp('2005-01-16 00:00:00', freq='D'), Series([], dtype: float64))\n",
      "(Timestamp('2005-01-17 00:00:00', freq='D'), Series([], dtype: float64))\n",
      "(Timestamp('2005-01-18 00:00:00', freq='D'), Series([], dtype: float64))\n",
      "(Timestamp('2005-01-19 00:00:00', freq='D'), Series([], dtype: float64))\n",
      "(Timestamp('2005-01-20 00:00:00', freq='D'), Series([], dtype: float64))\n",
      "(Timestamp('2005-01-21 00:00:00', freq='D'), Series([], dtype: float64))\n",
      "(Timestamp('2005-01-22 00:00:00', freq='D'), Series([], dtype: float64))\n",
      "(Timestamp('2005-01-23 00:00:00', freq='D'), Series([], dtype: float64))\n",
      "(Timestamp('2005-01-24 00:00:00', freq='D'), Series([], dtype: float64))\n",
      "(Timestamp('2005-01-25 00:00:00', freq='D'), Series([], dtype: float64))\n",
      "(Timestamp('2005-01-26 00:00:00', freq='D'), Series([], dtype: float64))\n",
      "(Timestamp('2005-01-27 00:00:00', freq='D'), Series([], dtype: float64))\n",
      "(Timestamp('2005-01-28 00:00:00', freq='D'), Series([], dtype: float64))\n",
      "(Timestamp('2005-01-29 00:00:00', freq='D'), Series([], dtype: float64))\n",
      "(Timestamp('2005-01-30 00:00:00', freq='D'), Series([], dtype: float64))\n",
      "(Timestamp('2005-01-31 00:00:00', freq='D'), Series([], dtype: float64))\n",
      "(Timestamp('2005-02-01 00:00:00', freq='D'), Series([], dtype: float64))\n",
      "(Timestamp('2005-02-02 00:00:00', freq='D'), Series([], dtype: float64))\n",
      "(Timestamp('2005-02-03 00:00:00', freq='D'), Series([], dtype: float64))\n",
      "(Timestamp('2005-02-04 00:00:00', freq='D'), Series([], dtype: float64))\n",
      "(Timestamp('2005-02-05 00:00:00', freq='D'), Series([], dtype: float64))\n",
      "(Timestamp('2005-02-06 00:00:00', freq='D'), Series([], dtype: float64))\n",
      "(Timestamp('2005-02-07 00:00:00', freq='D'), Series([], dtype: float64))\n",
      "(Timestamp('2005-02-08 00:00:00', freq='D'), Series([], dtype: float64))\n",
      "(Timestamp('2005-02-09 00:00:00', freq='D'), Series([], dtype: float64))\n",
      "(Timestamp('2005-02-10 00:00:00', freq='D'), Series([], dtype: float64))\n",
      "(Timestamp('2005-02-11 00:00:00', freq='D'), Series([], dtype: float64))\n",
      "(Timestamp('2005-02-12 00:00:00', freq='D'), Series([], dtype: float64))\n",
      "(Timestamp('2005-02-13 00:00:00', freq='D'), Series([], dtype: float64))\n",
      "(Timestamp('2005-02-14 00:00:00', freq='D'), Series([], dtype: float64))\n",
      "(Timestamp('2005-02-15 00:00:00', freq='D'), Series([], dtype: float64))\n",
      "(Timestamp('2005-02-16 00:00:00', freq='D'), Series([], dtype: float64))\n",
      "(Timestamp('2005-02-17 00:00:00', freq='D'), Series([], dtype: float64))\n",
      "(Timestamp('2005-02-18 00:00:00', freq='D'), Series([], dtype: float64))\n",
      "(Timestamp('2005-02-19 00:00:00', freq='D'), Series([], dtype: float64))\n",
      "(Timestamp('2005-02-20 00:00:00', freq='D'), Series([], dtype: float64))\n",
      "(Timestamp('2005-02-21 00:00:00', freq='D'), Series([], dtype: float64))\n",
      "(Timestamp('2005-02-22 00:00:00', freq='D'), Series([], dtype: float64))\n",
      "(Timestamp('2005-02-23 00:00:00', freq='D'), Series([], dtype: float64))\n",
      "(Timestamp('2005-02-24 00:00:00', freq='D'), Series([], dtype: float64))\n",
      "(Timestamp('2005-02-25 00:00:00', freq='D'), Series([], dtype: float64))\n",
      "(Timestamp('2005-02-26 00:00:00', freq='D'), Series([], dtype: float64))\n",
      "(Timestamp('2005-02-27 00:00:00', freq='D'), Series([], dtype: float64))\n",
      "(Timestamp('2005-02-28 00:00:00', freq='D'), Series([], dtype: float64))\n",
      "(Timestamp('2005-03-01 00:00:00', freq='D'), Series([], dtype: float64))\n",
      "(Timestamp('2005-03-02 00:00:00', freq='D'), Series([], dtype: float64))\n",
      "(Timestamp('2005-03-03 00:00:00', freq='D'), Series([], dtype: float64))\n",
      "(Timestamp('2005-03-04 00:00:00', freq='D'), Series([], dtype: float64))\n",
      "(Timestamp('2005-03-05 00:00:00', freq='D'), Series([], dtype: float64))\n",
      "(Timestamp('2005-03-06 00:00:00', freq='D'), Series([], dtype: float64))\n",
      "(Timestamp('2005-03-07 00:00:00', freq='D'), Series([], dtype: float64))\n",
      "(Timestamp('2005-03-08 00:00:00', freq='D'), Series([], dtype: float64))\n",
      "(Timestamp('2005-03-09 00:00:00', freq='D'), Series([], dtype: float64))\n",
      "(Timestamp('2005-03-10 00:00:00', freq='D'), Series([], dtype: float64))\n",
      "(Timestamp('2005-03-11 00:00:00', freq='D'), Series([], dtype: float64))\n",
      "(Timestamp('2005-03-12 00:00:00', freq='D'), Series([], dtype: float64))\n",
      "(Timestamp('2005-03-13 00:00:00', freq='D'), Series([], dtype: float64))\n",
      "(Timestamp('2005-03-14 00:00:00', freq='D'), Series([], dtype: float64))\n",
      "(Timestamp('2005-03-15 00:00:00', freq='D'), Series([], dtype: float64))\n",
      "(Timestamp('2005-03-16 00:00:00', freq='D'), Series([], dtype: float64))\n",
      "(Timestamp('2005-03-17 00:00:00', freq='D'), Series([], dtype: float64))\n",
      "(Timestamp('2005-03-18 00:00:00', freq='D'), Series([], dtype: float64))\n",
      "(Timestamp('2005-03-19 00:00:00', freq='D'), Series([], dtype: float64))\n",
      "(Timestamp('2005-03-20 00:00:00', freq='D'), Series([], dtype: float64))\n",
      "(Timestamp('2005-03-21 00:00:00', freq='D'), Series([], dtype: float64))\n",
      "(Timestamp('2005-03-22 00:00:00', freq='D'), Series([], dtype: float64))\n",
      "(Timestamp('2005-03-23 00:00:00', freq='D'), Series([], dtype: float64))\n",
      "(Timestamp('2005-03-24 00:00:00', freq='D'), Series([], dtype: float64))\n",
      "(Timestamp('2005-03-25 00:00:00', freq='D'), Series([], dtype: float64))\n",
      "(Timestamp('2005-03-26 00:00:00', freq='D'), Series([], dtype: float64))\n",
      "(Timestamp('2005-03-27 00:00:00', freq='D'), Series([], dtype: float64))\n",
      "(Timestamp('2005-03-28 00:00:00', freq='D'), Series([], dtype: float64))\n",
      "(Timestamp('2005-03-29 00:00:00', freq='D'), Series([], dtype: float64))\n",
      "(Timestamp('2005-03-30 00:00:00', freq='D'), Series([], dtype: float64))\n",
      "(Timestamp('2005-03-31 00:00:00', freq='D'), Series([], dtype: float64))\n",
      "(Timestamp('2005-04-01 00:00:00', freq='D'), Series([], dtype: float64))\n",
      "(Timestamp('2005-04-02 00:00:00', freq='D'), Series([], dtype: float64))\n",
      "(Timestamp('2005-04-03 00:00:00', freq='D'), Series([], dtype: float64))\n",
      "(Timestamp('2005-04-04 00:00:00', freq='D'), Series([], dtype: float64))\n",
      "(Timestamp('2005-04-05 00:00:00', freq='D'), Series([], dtype: float64))\n",
      "(Timestamp('2005-04-06 00:00:00', freq='D'), Series([], dtype: float64))\n",
      "(Timestamp('2005-04-07 00:00:00', freq='D'), Series([], dtype: float64))\n",
      "(Timestamp('2005-04-08 00:00:00', freq='D'), Series([], dtype: float64))\n",
      "(Timestamp('2005-04-09 00:00:00', freq='D'), Series([], dtype: float64))\n",
      "(Timestamp('2005-04-10 00:00:00', freq='D'), Series([], dtype: float64))\n",
      "(Timestamp('2005-04-11 00:00:00', freq='D'), Series([], dtype: float64))\n",
      "(Timestamp('2005-04-12 00:00:00', freq='D'), Series([], dtype: float64))\n",
      "(Timestamp('2005-04-13 00:00:00', freq='D'), Series([], dtype: float64))\n",
      "(Timestamp('2005-04-14 00:00:00', freq='D'), Series([], dtype: float64))\n",
      "(Timestamp('2005-04-15 00:00:00', freq='D'), Series([], dtype: float64))\n",
      "(Timestamp('2005-04-16 00:00:00', freq='D'), Series([], dtype: float64))\n",
      "(Timestamp('2005-04-17 00:00:00', freq='D'), Series([], dtype: float64))\n",
      "(Timestamp('2005-04-18 00:00:00', freq='D'), Series([], dtype: float64))\n",
      "(Timestamp('2005-04-19 00:00:00', freq='D'), Series([], dtype: float64))\n",
      "(Timestamp('2005-04-20 00:00:00', freq='D'), Series([], dtype: float64))\n",
      "(Timestamp('2005-04-21 00:00:00', freq='D'), Series([], dtype: float64))\n",
      "(Timestamp('2005-04-22 00:00:00', freq='D'), Series([], dtype: float64))\n",
      "(Timestamp('2005-04-23 00:00:00', freq='D'), Series([], dtype: float64))\n",
      "(Timestamp('2005-04-24 00:00:00', freq='D'), Series([], dtype: float64))\n",
      "(Timestamp('2005-04-25 00:00:00', freq='D'), Series([], dtype: float64))\n",
      "(Timestamp('2005-04-26 00:00:00', freq='D'), Series([], dtype: float64))\n",
      "(Timestamp('2005-04-27 00:00:00', freq='D'), Series([], dtype: float64))\n",
      "(Timestamp('2005-04-28 00:00:00', freq='D'), Series([], dtype: float64))\n",
      "(Timestamp('2005-04-29 00:00:00', freq='D'), Series([], dtype: float64))\n",
      "(Timestamp('2005-04-30 00:00:00', freq='D'), Series([], dtype: float64))\n",
      "(Timestamp('2005-05-01 00:00:00', freq='D'), Series([], dtype: float64))\n",
      "(Timestamp('2005-05-02 00:00:00', freq='D'), Series([], dtype: float64))\n",
      "(Timestamp('2005-05-03 00:00:00', freq='D'), Series([], dtype: float64))\n",
      "(Timestamp('2005-05-04 00:00:00', freq='D'), Series([], dtype: float64))\n",
      "(Timestamp('2005-05-05 00:00:00', freq='D'), Series([], dtype: float64))\n",
      "(Timestamp('2005-05-06 00:00:00', freq='D'), Series([], dtype: float64))\n",
      "(Timestamp('2005-05-07 00:00:00', freq='D'), Series([], dtype: float64))\n",
      "(Timestamp('2005-05-08 00:00:00', freq='D'), Series([], dtype: float64))\n",
      "(Timestamp('2005-05-09 00:00:00', freq='D'), Series([], dtype: float64))\n",
      "(Timestamp('2005-05-10 00:00:00', freq='D'), Series([], dtype: float64))\n",
      "(Timestamp('2005-05-11 00:00:00', freq='D'), Series([], dtype: float64))\n",
      "(Timestamp('2005-05-12 00:00:00', freq='D'), Series([], dtype: float64))\n",
      "(Timestamp('2005-05-13 00:00:00', freq='D'), Series([], dtype: float64))\n",
      "(Timestamp('2005-05-14 00:00:00', freq='D'), Series([], dtype: float64))\n",
      "(Timestamp('2005-05-15 00:00:00', freq='D'), Series([], dtype: float64))\n",
      "(Timestamp('2005-05-16 00:00:00', freq='D'), Series([], dtype: float64))\n",
      "(Timestamp('2005-05-17 00:00:00', freq='D'), Series([], dtype: float64))\n",
      "(Timestamp('2005-05-18 00:00:00', freq='D'), Series([], dtype: float64))\n",
      "(Timestamp('2005-05-19 00:00:00', freq='D'), Series([], dtype: float64))\n",
      "(Timestamp('2005-05-20 00:00:00', freq='D'), Series([], dtype: float64))\n",
      "(Timestamp('2005-05-21 00:00:00', freq='D'), Series([], dtype: float64))\n",
      "(Timestamp('2005-05-22 00:00:00', freq='D'), Series([], dtype: float64))\n",
      "(Timestamp('2005-05-23 00:00:00', freq='D'), Series([], dtype: float64))\n",
      "(Timestamp('2005-05-24 00:00:00', freq='D'), Series([], dtype: float64))\n",
      "(Timestamp('2005-05-25 00:00:00', freq='D'), Series([], dtype: float64))\n",
      "(Timestamp('2005-05-26 00:00:00', freq='D'), Series([], dtype: float64))\n",
      "(Timestamp('2005-05-27 00:00:00', freq='D'), Series([], dtype: float64))\n",
      "(Timestamp('2005-05-28 00:00:00', freq='D'), Series([], dtype: float64))\n",
      "(Timestamp('2005-05-29 00:00:00', freq='D'), Series([], dtype: float64))\n",
      "(Timestamp('2005-05-30 00:00:00', freq='D'), Series([], dtype: float64))\n",
      "(Timestamp('2005-05-31 00:00:00', freq='D'), Series([], dtype: float64))\n",
      "(Timestamp('2005-06-01 00:00:00', freq='D'), Series([], dtype: float64))\n",
      "(Timestamp('2005-06-02 00:00:00', freq='D'), Series([], dtype: float64))\n",
      "(Timestamp('2005-06-03 00:00:00', freq='D'), Series([], dtype: float64))\n",
      "(Timestamp('2005-06-04 00:00:00', freq='D'), Series([], dtype: float64))\n",
      "(Timestamp('2005-06-05 00:00:00', freq='D'), Series([], dtype: float64))\n",
      "(Timestamp('2005-06-06 00:00:00', freq='D'), Series([], dtype: float64))\n",
      "(Timestamp('2005-06-07 00:00:00', freq='D'), Series([], dtype: float64))\n",
      "(Timestamp('2005-06-08 00:00:00', freq='D'), Series([], dtype: float64))\n",
      "(Timestamp('2005-06-09 00:00:00', freq='D'), Series([], dtype: float64))\n",
      "(Timestamp('2005-06-10 00:00:00', freq='D'), Series([], dtype: float64))\n",
      "(Timestamp('2005-06-11 00:00:00', freq='D'), Series([], dtype: float64))\n",
      "(Timestamp('2005-06-12 00:00:00', freq='D'), Series([], dtype: float64))\n",
      "(Timestamp('2005-06-13 00:00:00', freq='D'), Series([], dtype: float64))\n",
      "(Timestamp('2005-06-14 00:00:00', freq='D'), Series([], dtype: float64))\n",
      "(Timestamp('2005-06-15 00:00:00', freq='D'), Series([], dtype: float64))\n",
      "(Timestamp('2005-06-16 00:00:00', freq='D'), Series([], dtype: float64))\n",
      "(Timestamp('2005-06-17 00:00:00', freq='D'), Series([], dtype: float64))\n",
      "(Timestamp('2005-06-18 00:00:00', freq='D'), Series([], dtype: float64))\n",
      "(Timestamp('2005-06-19 00:00:00', freq='D'), Series([], dtype: float64))\n",
      "(Timestamp('2005-06-20 00:00:00', freq='D'), Series([], dtype: float64))\n",
      "(Timestamp('2005-06-21 00:00:00', freq='D'), Series([], dtype: float64))\n",
      "(Timestamp('2005-06-22 00:00:00', freq='D'), Series([], dtype: float64))\n",
      "(Timestamp('2005-06-23 00:00:00', freq='D'), Series([], dtype: float64))\n",
      "(Timestamp('2005-06-24 00:00:00', freq='D'), Series([], dtype: float64))\n",
      "(Timestamp('2005-06-25 00:00:00', freq='D'), Series([], dtype: float64))\n",
      "(Timestamp('2005-06-26 00:00:00', freq='D'), Series([], dtype: float64))\n",
      "(Timestamp('2005-06-27 00:00:00', freq='D'), Series([], dtype: float64))\n",
      "(Timestamp('2005-06-28 00:00:00', freq='D'), Series([], dtype: float64))\n",
      "(Timestamp('2005-06-29 00:00:00', freq='D'), Series([], dtype: float64))\n",
      "(Timestamp('2005-06-30 00:00:00', freq='D'), Series([], dtype: float64))\n",
      "(Timestamp('2005-07-01 00:00:00', freq='D'), Series([], dtype: float64))\n",
      "(Timestamp('2005-07-02 00:00:00', freq='D'), Series([], dtype: float64))\n",
      "(Timestamp('2005-07-03 00:00:00', freq='D'), Series([], dtype: float64))\n",
      "(Timestamp('2005-07-04 00:00:00', freq='D'), Series([], dtype: float64))\n",
      "(Timestamp('2005-07-05 00:00:00', freq='D'), Series([], dtype: float64))\n",
      "(Timestamp('2005-07-06 00:00:00', freq='D'), Series([], dtype: float64))\n",
      "(Timestamp('2005-07-07 00:00:00', freq='D'), Series([], dtype: float64))\n",
      "(Timestamp('2005-07-08 00:00:00', freq='D'), Series([], dtype: float64))\n",
      "(Timestamp('2005-07-09 00:00:00', freq='D'), Series([], dtype: float64))\n",
      "(Timestamp('2005-07-10 00:00:00', freq='D'), Series([], dtype: float64))\n",
      "(Timestamp('2005-07-11 00:00:00', freq='D'), Series([], dtype: float64))\n",
      "(Timestamp('2005-07-12 00:00:00', freq='D'), Series([], dtype: float64))\n",
      "(Timestamp('2005-07-13 00:00:00', freq='D'), Series([], dtype: float64))\n",
      "(Timestamp('2005-07-14 00:00:00', freq='D'), Series([], dtype: float64))\n",
      "(Timestamp('2005-07-15 00:00:00', freq='D'), Series([], dtype: float64))\n",
      "(Timestamp('2005-07-16 00:00:00', freq='D'), Series([], dtype: float64))\n",
      "(Timestamp('2005-07-17 00:00:00', freq='D'), Series([], dtype: float64))\n",
      "(Timestamp('2005-07-18 00:00:00', freq='D'), Series([], dtype: float64))\n",
      "(Timestamp('2005-07-19 00:00:00', freq='D'), Series([], dtype: float64))\n",
      "(Timestamp('2005-07-20 00:00:00', freq='D'), Series([], dtype: float64))\n",
      "(Timestamp('2005-07-21 00:00:00', freq='D'), Series([], dtype: float64))\n",
      "(Timestamp('2005-07-22 00:00:00', freq='D'), Series([], dtype: float64))\n",
      "(Timestamp('2005-07-23 00:00:00', freq='D'), Series([], dtype: float64))\n",
      "(Timestamp('2005-07-24 00:00:00', freq='D'), Series([], dtype: float64))\n",
      "(Timestamp('2005-07-25 00:00:00', freq='D'), Series([], dtype: float64))\n",
      "(Timestamp('2005-07-26 00:00:00', freq='D'), Series([], dtype: float64))\n",
      "(Timestamp('2005-07-27 00:00:00', freq='D'), Series([], dtype: float64))\n",
      "(Timestamp('2005-07-28 00:00:00', freq='D'), Series([], dtype: float64))\n",
      "(Timestamp('2005-07-29 00:00:00', freq='D'), Series([], dtype: float64))\n",
      "(Timestamp('2005-07-30 00:00:00', freq='D'), Series([], dtype: float64))\n",
      "(Timestamp('2005-07-31 00:00:00', freq='D'), Series([], dtype: float64))\n",
      "(Timestamp('2005-08-01 00:00:00', freq='D'), Series([], dtype: float64))\n",
      "(Timestamp('2005-08-02 00:00:00', freq='D'), Series([], dtype: float64))\n",
      "(Timestamp('2005-08-03 00:00:00', freq='D'), Series([], dtype: float64))\n",
      "(Timestamp('2005-08-04 00:00:00', freq='D'), Series([], dtype: float64))\n",
      "(Timestamp('2005-08-05 00:00:00', freq='D'), Series([], dtype: float64))\n",
      "(Timestamp('2005-08-06 00:00:00', freq='D'), Series([], dtype: float64))\n",
      "(Timestamp('2005-08-07 00:00:00', freq='D'), Series([], dtype: float64))\n",
      "(Timestamp('2005-08-08 00:00:00', freq='D'), Series([], dtype: float64))\n",
      "(Timestamp('2005-08-09 00:00:00', freq='D'), Series([], dtype: float64))\n",
      "(Timestamp('2005-08-10 00:00:00', freq='D'), Series([], dtype: float64))\n",
      "(Timestamp('2005-08-11 00:00:00', freq='D'), Series([], dtype: float64))\n",
      "(Timestamp('2005-08-12 00:00:00', freq='D'), Series([], dtype: float64))\n",
      "(Timestamp('2005-08-13 00:00:00', freq='D'), Series([], dtype: float64))\n",
      "(Timestamp('2005-08-14 00:00:00', freq='D'), Series([], dtype: float64))\n",
      "(Timestamp('2005-08-15 00:00:00', freq='D'), Series([], dtype: float64))\n",
      "(Timestamp('2005-08-16 00:00:00', freq='D'), Series([], dtype: float64))\n",
      "(Timestamp('2005-08-17 00:00:00', freq='D'), Series([], dtype: float64))\n",
      "(Timestamp('2005-08-18 00:00:00', freq='D'), Series([], dtype: float64))\n",
      "(Timestamp('2005-08-19 00:00:00', freq='D'), Series([], dtype: float64))\n",
      "(Timestamp('2005-08-20 00:00:00', freq='D'), Series([], dtype: float64))\n",
      "(Timestamp('2005-08-21 00:00:00', freq='D'), Series([], dtype: float64))\n",
      "(Timestamp('2005-08-22 00:00:00', freq='D'), Series([], dtype: float64))\n",
      "(Timestamp('2005-08-23 00:00:00', freq='D'), Series([], dtype: float64))\n",
      "(Timestamp('2005-08-24 00:00:00', freq='D'), Series([], dtype: float64))\n",
      "(Timestamp('2005-08-25 00:00:00', freq='D'), Series([], dtype: float64))\n",
      "(Timestamp('2005-08-26 00:00:00', freq='D'), Series([], dtype: float64))\n",
      "(Timestamp('2005-08-27 00:00:00', freq='D'), Series([], dtype: float64))\n",
      "(Timestamp('2005-08-28 00:00:00', freq='D'), Series([], dtype: float64))\n",
      "(Timestamp('2005-08-29 00:00:00', freq='D'), Series([], dtype: float64))\n",
      "(Timestamp('2005-08-30 00:00:00', freq='D'), Series([], dtype: float64))\n",
      "(Timestamp('2005-08-31 00:00:00', freq='D'), Series([], dtype: float64))\n",
      "(Timestamp('2005-09-01 00:00:00', freq='D'), Series([], dtype: float64))\n",
      "(Timestamp('2005-09-02 00:00:00', freq='D'), Series([], dtype: float64))\n",
      "(Timestamp('2005-09-03 00:00:00', freq='D'), Series([], dtype: float64))\n",
      "(Timestamp('2005-09-04 00:00:00', freq='D'), Series([], dtype: float64))\n",
      "(Timestamp('2005-09-05 00:00:00', freq='D'), Series([], dtype: float64))\n",
      "(Timestamp('2005-09-06 00:00:00', freq='D'), Series([], dtype: float64))\n",
      "(Timestamp('2005-09-07 00:00:00', freq='D'), Series([], dtype: float64))\n",
      "(Timestamp('2005-09-08 00:00:00', freq='D'), Series([], dtype: float64))\n",
      "(Timestamp('2005-09-09 00:00:00', freq='D'), Series([], dtype: float64))\n",
      "(Timestamp('2005-09-10 00:00:00', freq='D'), Series([], dtype: float64))\n",
      "(Timestamp('2005-09-11 00:00:00', freq='D'), Series([], dtype: float64))\n",
      "(Timestamp('2005-09-12 00:00:00', freq='D'), Series([], dtype: float64))\n",
      "(Timestamp('2005-09-13 00:00:00', freq='D'), Series([], dtype: float64))\n",
      "(Timestamp('2005-09-14 00:00:00', freq='D'), Series([], dtype: float64))\n",
      "(Timestamp('2005-09-15 00:00:00', freq='D'), Series([], dtype: float64))\n",
      "(Timestamp('2005-09-16 00:00:00', freq='D'), Series([], dtype: float64))\n",
      "(Timestamp('2005-09-17 00:00:00', freq='D'), Series([], dtype: float64))\n",
      "(Timestamp('2005-09-18 00:00:00', freq='D'), Series([], dtype: float64))\n",
      "(Timestamp('2005-09-19 00:00:00', freq='D'), Series([], dtype: float64))\n",
      "(Timestamp('2005-09-20 00:00:00', freq='D'), Series([], dtype: float64))\n",
      "(Timestamp('2005-09-21 00:00:00', freq='D'), Series([], dtype: float64))\n",
      "(Timestamp('2005-09-22 00:00:00', freq='D'), Series([], dtype: float64))\n",
      "(Timestamp('2005-09-23 00:00:00', freq='D'), Series([], dtype: float64))\n",
      "(Timestamp('2005-09-24 00:00:00', freq='D'), Series([], dtype: float64))\n",
      "(Timestamp('2005-09-25 00:00:00', freq='D'), Series([], dtype: float64))\n",
      "(Timestamp('2005-09-26 00:00:00', freq='D'), Series([], dtype: float64))\n",
      "(Timestamp('2005-09-27 00:00:00', freq='D'), Series([], dtype: float64))\n",
      "(Timestamp('2005-09-28 00:00:00', freq='D'), Series([], dtype: float64))\n",
      "(Timestamp('2005-09-29 00:00:00', freq='D'), Series([], dtype: float64))\n",
      "(Timestamp('2005-09-30 00:00:00', freq='D'), Series([], dtype: float64))\n",
      "(Timestamp('2005-10-01 00:00:00', freq='D'), Series([], dtype: float64))\n",
      "(Timestamp('2005-10-02 00:00:00', freq='D'), Series([], dtype: float64))\n",
      "(Timestamp('2005-10-03 00:00:00', freq='D'), Series([], dtype: float64))\n",
      "(Timestamp('2005-10-04 00:00:00', freq='D'), Series([], dtype: float64))\n",
      "(Timestamp('2005-10-05 00:00:00', freq='D'), Series([], dtype: float64))\n",
      "(Timestamp('2005-10-06 00:00:00', freq='D'), Series([], dtype: float64))\n",
      "(Timestamp('2005-10-07 00:00:00', freq='D'), Series([], dtype: float64))\n",
      "(Timestamp('2005-10-08 00:00:00', freq='D'), Series([], dtype: float64))\n",
      "(Timestamp('2005-10-09 00:00:00', freq='D'), Series([], dtype: float64))\n",
      "(Timestamp('2005-10-10 00:00:00', freq='D'), Series([], dtype: float64))\n",
      "(Timestamp('2005-10-11 00:00:00', freq='D'), Series([], dtype: float64))\n",
      "(Timestamp('2005-10-12 00:00:00', freq='D'), Series([], dtype: float64))\n",
      "(Timestamp('2005-10-13 00:00:00', freq='D'), Series([], dtype: float64))\n",
      "(Timestamp('2005-10-14 00:00:00', freq='D'), Series([], dtype: float64))\n",
      "(Timestamp('2005-10-15 00:00:00', freq='D'), Series([], dtype: float64))\n",
      "(Timestamp('2005-10-16 00:00:00', freq='D'), Series([], dtype: float64))\n",
      "(Timestamp('2005-10-17 00:00:00', freq='D'), Series([], dtype: float64))\n",
      "(Timestamp('2005-10-18 00:00:00', freq='D'), Series([], dtype: float64))\n",
      "(Timestamp('2005-10-19 00:00:00', freq='D'), Series([], dtype: float64))\n",
      "(Timestamp('2005-10-20 00:00:00', freq='D'), Series([], dtype: float64))\n",
      "(Timestamp('2005-10-21 00:00:00', freq='D'), Series([], dtype: float64))\n",
      "(Timestamp('2005-10-22 00:00:00', freq='D'), Series([], dtype: float64))\n",
      "(Timestamp('2005-10-23 00:00:00', freq='D'), Series([], dtype: float64))\n",
      "(Timestamp('2005-10-24 00:00:00', freq='D'), Series([], dtype: float64))\n",
      "(Timestamp('2005-10-25 00:00:00', freq='D'), Series([], dtype: float64))\n",
      "(Timestamp('2005-10-26 00:00:00', freq='D'), Series([], dtype: float64))\n",
      "(Timestamp('2005-10-27 00:00:00', freq='D'), Series([], dtype: float64))\n",
      "(Timestamp('2005-10-28 00:00:00', freq='D'), Series([], dtype: float64))\n",
      "(Timestamp('2005-10-29 00:00:00', freq='D'), Series([], dtype: float64))\n",
      "(Timestamp('2005-10-30 00:00:00', freq='D'), Series([], dtype: float64))\n",
      "(Timestamp('2005-10-31 00:00:00', freq='D'), Series([], dtype: float64))\n",
      "(Timestamp('2005-11-01 00:00:00', freq='D'), Series([], dtype: float64))\n",
      "(Timestamp('2005-11-02 00:00:00', freq='D'), Series([], dtype: float64))\n",
      "(Timestamp('2005-11-03 00:00:00', freq='D'), Series([], dtype: float64))\n",
      "(Timestamp('2005-11-04 00:00:00', freq='D'), Series([], dtype: float64))\n",
      "(Timestamp('2005-11-05 00:00:00', freq='D'), Series([], dtype: float64))\n",
      "(Timestamp('2005-11-06 00:00:00', freq='D'), Series([], dtype: float64))\n",
      "(Timestamp('2005-11-07 00:00:00', freq='D'), Series([], dtype: float64))\n",
      "(Timestamp('2005-11-08 00:00:00', freq='D'), Series([], dtype: float64))\n",
      "(Timestamp('2005-11-09 00:00:00', freq='D'), Series([], dtype: float64))\n",
      "(Timestamp('2005-11-10 00:00:00', freq='D'), Series([], dtype: float64))\n",
      "(Timestamp('2005-11-11 00:00:00', freq='D'), Series([], dtype: float64))\n",
      "(Timestamp('2005-11-12 00:00:00', freq='D'), Series([], dtype: float64))\n",
      "(Timestamp('2005-11-13 00:00:00', freq='D'), Series([], dtype: float64))\n",
      "(Timestamp('2005-11-14 00:00:00', freq='D'), Series([], dtype: float64))\n",
      "(Timestamp('2005-11-15 00:00:00', freq='D'), Series([], dtype: float64))\n",
      "(Timestamp('2005-11-16 00:00:00', freq='D'), Series([], dtype: float64))\n",
      "(Timestamp('2005-11-17 00:00:00', freq='D'), Series([], dtype: float64))\n",
      "(Timestamp('2005-11-18 00:00:00', freq='D'), Series([], dtype: float64))\n",
      "(Timestamp('2005-11-19 00:00:00', freq='D'), Series([], dtype: float64))\n",
      "(Timestamp('2005-11-20 00:00:00', freq='D'), Series([], dtype: float64))\n",
      "(Timestamp('2005-11-21 00:00:00', freq='D'), Series([], dtype: float64))\n",
      "(Timestamp('2005-11-22 00:00:00', freq='D'), Series([], dtype: float64))\n",
      "(Timestamp('2005-11-23 00:00:00', freq='D'), Series([], dtype: float64))\n",
      "(Timestamp('2005-11-24 00:00:00', freq='D'), Series([], dtype: float64))\n",
      "(Timestamp('2005-11-25 00:00:00', freq='D'), Series([], dtype: float64))\n",
      "(Timestamp('2005-11-26 00:00:00', freq='D'), Series([], dtype: float64))\n",
      "(Timestamp('2005-11-27 00:00:00', freq='D'), Series([], dtype: float64))\n",
      "(Timestamp('2005-11-28 00:00:00', freq='D'), Series([], dtype: float64))\n",
      "(Timestamp('2005-11-29 00:00:00', freq='D'), Series([], dtype: float64))\n",
      "(Timestamp('2005-11-30 00:00:00', freq='D'), Series([], dtype: float64))\n",
      "(Timestamp('2005-12-01 00:00:00', freq='D'), Series([], dtype: float64))\n",
      "(Timestamp('2005-12-02 00:00:00', freq='D'), Series([], dtype: float64))\n",
      "(Timestamp('2005-12-03 00:00:00', freq='D'), Series([], dtype: float64))\n",
      "(Timestamp('2005-12-04 00:00:00', freq='D'), Series([], dtype: float64))\n",
      "(Timestamp('2005-12-05 00:00:00', freq='D'), Series([], dtype: float64))\n",
      "(Timestamp('2005-12-06 00:00:00', freq='D'), Series([], dtype: float64))\n",
      "(Timestamp('2005-12-07 00:00:00', freq='D'), Series([], dtype: float64))\n",
      "(Timestamp('2005-12-08 00:00:00', freq='D'), Series([], dtype: float64))\n",
      "(Timestamp('2005-12-09 00:00:00', freq='D'), Series([], dtype: float64))\n",
      "(Timestamp('2005-12-10 00:00:00', freq='D'), Series([], dtype: float64))\n",
      "(Timestamp('2005-12-11 00:00:00', freq='D'), Series([], dtype: float64))\n",
      "(Timestamp('2005-12-12 00:00:00', freq='D'), Series([], dtype: float64))\n",
      "(Timestamp('2005-12-13 00:00:00', freq='D'), Series([], dtype: float64))\n",
      "(Timestamp('2005-12-14 00:00:00', freq='D'), Series([], dtype: float64))\n",
      "(Timestamp('2005-12-15 00:00:00', freq='D'), Series([], dtype: float64))\n",
      "(Timestamp('2005-12-16 00:00:00', freq='D'), Series([], dtype: float64))\n",
      "(Timestamp('2005-12-17 00:00:00', freq='D'), Series([], dtype: float64))\n",
      "(Timestamp('2005-12-18 00:00:00', freq='D'), Series([], dtype: float64))\n",
      "(Timestamp('2005-12-19 00:00:00', freq='D'), Series([], dtype: float64))\n",
      "(Timestamp('2005-12-20 00:00:00', freq='D'), Series([], dtype: float64))\n",
      "(Timestamp('2005-12-21 00:00:00', freq='D'), Series([], dtype: float64))\n",
      "(Timestamp('2005-12-22 00:00:00', freq='D'), Series([], dtype: float64))\n",
      "(Timestamp('2005-12-23 00:00:00', freq='D'), Series([], dtype: float64))\n",
      "(Timestamp('2005-12-24 00:00:00', freq='D'), Series([], dtype: float64))\n",
      "(Timestamp('2005-12-25 00:00:00', freq='D'), Series([], dtype: float64))\n",
      "(Timestamp('2005-12-26 00:00:00', freq='D'), Series([], dtype: float64))\n",
      "(Timestamp('2005-12-27 00:00:00', freq='D'), Series([], dtype: float64))\n",
      "(Timestamp('2005-12-28 00:00:00', freq='D'), Series([], dtype: float64))\n",
      "(Timestamp('2005-12-29 00:00:00', freq='D'), Series([], dtype: float64))\n",
      "(Timestamp('2005-12-30 00:00:00', freq='D'), Series([], dtype: float64))\n",
      "(Timestamp('2005-12-31 00:00:00', freq='D'), Series([], dtype: float64))\n",
      "(Timestamp('2006-01-01 00:00:00', freq='D'), Series([], dtype: float64))\n",
      "(Timestamp('2006-01-02 00:00:00', freq='D'), Series([], dtype: float64))\n",
      "(Timestamp('2006-01-03 00:00:00', freq='D'), Series([], dtype: float64))\n",
      "(Timestamp('2006-01-04 00:00:00', freq='D'), Series([], dtype: float64))\n",
      "(Timestamp('2006-01-05 00:00:00', freq='D'), Series([], dtype: float64))\n",
      "(Timestamp('2006-01-06 00:00:00', freq='D'), Series([], dtype: float64))\n",
      "(Timestamp('2006-01-07 00:00:00', freq='D'), Series([], dtype: float64))\n",
      "(Timestamp('2006-01-08 00:00:00', freq='D'), Series([], dtype: float64))\n",
      "(Timestamp('2006-01-09 00:00:00', freq='D'), Series([], dtype: float64))\n",
      "(Timestamp('2006-01-10 00:00:00', freq='D'), Series([], dtype: float64))\n",
      "(Timestamp('2006-01-11 00:00:00', freq='D'), Series([], dtype: float64))\n",
      "(Timestamp('2006-01-12 00:00:00', freq='D'), Series([], dtype: float64))\n",
      "(Timestamp('2006-01-13 00:00:00', freq='D'), Series([], dtype: float64))\n",
      "(Timestamp('2006-01-14 00:00:00', freq='D'), Series([], dtype: float64))\n",
      "(Timestamp('2006-01-15 00:00:00', freq='D'), Series([], dtype: float64))\n",
      "(Timestamp('2006-01-16 00:00:00', freq='D'), Series([], dtype: float64))\n",
      "(Timestamp('2006-01-17 00:00:00', freq='D'), Series([], dtype: float64))\n",
      "(Timestamp('2006-01-18 00:00:00', freq='D'), Series([], dtype: float64))\n",
      "(Timestamp('2006-01-19 00:00:00', freq='D'), Series([], dtype: float64))\n",
      "(Timestamp('2006-01-20 00:00:00', freq='D'), Series([], dtype: float64))\n",
      "(Timestamp('2006-01-21 00:00:00', freq='D'), Series([], dtype: float64))\n",
      "(Timestamp('2006-01-22 00:00:00', freq='D'), Series([], dtype: float64))\n",
      "(Timestamp('2006-01-23 00:00:00', freq='D'), Series([], dtype: float64))\n",
      "(Timestamp('2006-01-24 00:00:00', freq='D'), Series([], dtype: float64))\n",
      "(Timestamp('2006-01-25 00:00:00', freq='D'), Series([], dtype: float64))\n",
      "(Timestamp('2006-01-26 00:00:00', freq='D'), Series([], dtype: float64))\n",
      "(Timestamp('2006-01-27 00:00:00', freq='D'), Series([], dtype: float64))\n",
      "(Timestamp('2006-01-28 00:00:00', freq='D'), Series([], dtype: float64))\n",
      "(Timestamp('2006-01-29 00:00:00', freq='D'), Series([], dtype: float64))\n",
      "(Timestamp('2006-01-30 00:00:00', freq='D'), Series([], dtype: float64))\n",
      "(Timestamp('2006-01-31 00:00:00', freq='D'), Series([], dtype: float64))\n",
      "(Timestamp('2006-02-01 00:00:00', freq='D'), Series([], dtype: float64))\n",
      "(Timestamp('2006-02-02 00:00:00', freq='D'), Series([], dtype: float64))\n",
      "(Timestamp('2006-02-03 00:00:00', freq='D'), Series([], dtype: float64))\n",
      "(Timestamp('2006-02-04 00:00:00', freq='D'), Series([], dtype: float64))\n",
      "(Timestamp('2006-02-05 00:00:00', freq='D'), Series([], dtype: float64))\n",
      "(Timestamp('2006-02-06 00:00:00', freq='D'), Series([], dtype: float64))\n",
      "(Timestamp('2006-02-07 00:00:00', freq='D'), Series([], dtype: float64))\n",
      "(Timestamp('2006-02-08 00:00:00', freq='D'), Series([], dtype: float64))\n",
      "(Timestamp('2006-02-09 00:00:00', freq='D'), Series([], dtype: float64))\n",
      "(Timestamp('2006-02-10 00:00:00', freq='D'), Series([], dtype: float64))\n",
      "(Timestamp('2006-02-11 00:00:00', freq='D'), Series([], dtype: float64))\n",
      "(Timestamp('2006-02-12 00:00:00', freq='D'), Series([], dtype: float64))\n",
      "(Timestamp('2006-02-13 00:00:00', freq='D'), Series([], dtype: float64))\n",
      "(Timestamp('2006-02-14 00:00:00', freq='D'), Series([], dtype: float64))\n",
      "(Timestamp('2006-02-15 00:00:00', freq='D'), Series([], dtype: float64))\n",
      "(Timestamp('2006-02-16 00:00:00', freq='D'), Series([], dtype: float64))\n",
      "(Timestamp('2006-02-17 00:00:00', freq='D'), Series([], dtype: float64))\n",
      "(Timestamp('2006-02-18 00:00:00', freq='D'), Series([], dtype: float64))\n",
      "(Timestamp('2006-02-19 00:00:00', freq='D'), Series([], dtype: float64))\n",
      "(Timestamp('2006-02-20 00:00:00', freq='D'), Series([], dtype: float64))\n",
      "(Timestamp('2006-02-21 00:00:00', freq='D'), Series([], dtype: float64))\n",
      "(Timestamp('2006-02-22 00:00:00', freq='D'), Series([], dtype: float64))\n",
      "(Timestamp('2006-02-23 00:00:00', freq='D'), Series([], dtype: float64))\n",
      "(Timestamp('2006-02-24 00:00:00', freq='D'), Series([], dtype: float64))\n",
      "(Timestamp('2006-02-25 00:00:00', freq='D'), Series([], dtype: float64))\n",
      "(Timestamp('2006-02-26 00:00:00', freq='D'), Series([], dtype: float64))\n",
      "(Timestamp('2006-02-27 00:00:00', freq='D'), Series([], dtype: float64))\n",
      "(Timestamp('2006-02-28 00:00:00', freq='D'), Series([], dtype: float64))\n",
      "(Timestamp('2006-03-01 00:00:00', freq='D'), Series([], dtype: float64))\n",
      "(Timestamp('2006-03-02 00:00:00', freq='D'), Series([], dtype: float64))\n",
      "(Timestamp('2006-03-03 00:00:00', freq='D'), Series([], dtype: float64))\n",
      "(Timestamp('2006-03-04 00:00:00', freq='D'), Series([], dtype: float64))\n",
      "(Timestamp('2006-03-05 00:00:00', freq='D'), Series([], dtype: float64))\n",
      "(Timestamp('2006-03-06 00:00:00', freq='D'), Series([], dtype: float64))\n",
      "(Timestamp('2006-03-07 00:00:00', freq='D'), Series([], dtype: float64))\n",
      "(Timestamp('2006-03-08 00:00:00', freq='D'), Series([], dtype: float64))\n",
      "(Timestamp('2006-03-09 00:00:00', freq='D'), Series([], dtype: float64))\n",
      "(Timestamp('2006-03-10 00:00:00', freq='D'), Series([], dtype: float64))\n",
      "(Timestamp('2006-03-11 00:00:00', freq='D'), Series([], dtype: float64))\n",
      "(Timestamp('2006-03-12 00:00:00', freq='D'), Series([], dtype: float64))\n",
      "(Timestamp('2006-03-13 00:00:00', freq='D'), Series([], dtype: float64))\n",
      "(Timestamp('2006-03-14 00:00:00', freq='D'), Series([], dtype: float64))\n",
      "(Timestamp('2006-03-15 00:00:00', freq='D'), Series([], dtype: float64))\n",
      "(Timestamp('2006-03-16 00:00:00', freq='D'), Series([], dtype: float64))\n",
      "(Timestamp('2006-03-17 00:00:00', freq='D'), Series([], dtype: float64))\n",
      "(Timestamp('2006-03-18 00:00:00', freq='D'), Series([], dtype: float64))\n",
      "(Timestamp('2006-03-19 00:00:00', freq='D'), Series([], dtype: float64))\n",
      "(Timestamp('2006-03-20 00:00:00', freq='D'), Series([], dtype: float64))\n",
      "(Timestamp('2006-03-21 00:00:00', freq='D'), Series([], dtype: float64))\n",
      "(Timestamp('2006-03-22 00:00:00', freq='D'), Series([], dtype: float64))\n",
      "(Timestamp('2006-03-23 00:00:00', freq='D'), Series([], dtype: float64))\n",
      "(Timestamp('2006-03-24 00:00:00', freq='D'), Series([], dtype: float64))\n",
      "(Timestamp('2006-03-25 00:00:00', freq='D'), Series([], dtype: float64))\n",
      "(Timestamp('2006-03-26 00:00:00', freq='D'), Series([], dtype: float64))\n",
      "(Timestamp('2006-03-27 00:00:00', freq='D'), Series([], dtype: float64))\n",
      "(Timestamp('2006-03-28 00:00:00', freq='D'), Series([], dtype: float64))\n",
      "(Timestamp('2006-03-29 00:00:00', freq='D'), Series([], dtype: float64))\n",
      "(Timestamp('2006-03-30 00:00:00', freq='D'), Series([], dtype: float64))\n",
      "(Timestamp('2006-03-31 00:00:00', freq='D'), Series([], dtype: float64))\n",
      "(Timestamp('2006-04-01 00:00:00', freq='D'), Series([], dtype: float64))\n",
      "(Timestamp('2006-04-02 00:00:00', freq='D'), Series([], dtype: float64))\n",
      "(Timestamp('2006-04-03 00:00:00', freq='D'), Series([], dtype: float64))\n",
      "(Timestamp('2006-04-04 00:00:00', freq='D'), Series([], dtype: float64))\n",
      "(Timestamp('2006-04-05 00:00:00', freq='D'), Series([], dtype: float64))\n",
      "(Timestamp('2006-04-06 00:00:00', freq='D'), Series([], dtype: float64))\n",
      "(Timestamp('2006-04-07 00:00:00', freq='D'), Series([], dtype: float64))\n",
      "(Timestamp('2006-04-08 00:00:00', freq='D'), Series([], dtype: float64))\n",
      "(Timestamp('2006-04-09 00:00:00', freq='D'), Series([], dtype: float64))\n",
      "(Timestamp('2006-04-10 00:00:00', freq='D'), Series([], dtype: float64))\n",
      "(Timestamp('2006-04-11 00:00:00', freq='D'), Series([], dtype: float64))\n",
      "(Timestamp('2006-04-12 00:00:00', freq='D'), Series([], dtype: float64))\n",
      "(Timestamp('2006-04-13 00:00:00', freq='D'), Series([], dtype: float64))\n",
      "(Timestamp('2006-04-14 00:00:00', freq='D'), Series([], dtype: float64))\n",
      "(Timestamp('2006-04-15 00:00:00', freq='D'), Series([], dtype: float64))\n",
      "(Timestamp('2006-04-16 00:00:00', freq='D'), Series([], dtype: float64))\n",
      "(Timestamp('2006-04-17 00:00:00', freq='D'), Series([], dtype: float64))\n",
      "(Timestamp('2006-04-18 00:00:00', freq='D'), Series([], dtype: float64))\n",
      "(Timestamp('2006-04-19 00:00:00', freq='D'), Series([], dtype: float64))\n",
      "(Timestamp('2006-04-20 00:00:00', freq='D'), Series([], dtype: float64))\n",
      "(Timestamp('2006-04-21 00:00:00', freq='D'), Series([], dtype: float64))\n",
      "(Timestamp('2006-04-22 00:00:00', freq='D'), Series([], dtype: float64))\n",
      "(Timestamp('2006-04-23 00:00:00', freq='D'), Series([], dtype: float64))\n",
      "(Timestamp('2006-04-24 00:00:00', freq='D'), Series([], dtype: float64))\n",
      "(Timestamp('2006-04-25 00:00:00', freq='D'), Series([], dtype: float64))\n",
      "(Timestamp('2006-04-26 00:00:00', freq='D'), Series([], dtype: float64))\n",
      "(Timestamp('2006-04-27 00:00:00', freq='D'), Series([], dtype: float64))\n",
      "(Timestamp('2006-04-28 00:00:00', freq='D'), Series([], dtype: float64))\n",
      "(Timestamp('2006-04-29 00:00:00', freq='D'), Series([], dtype: float64))\n",
      "(Timestamp('2006-04-30 00:00:00', freq='D'), Series([], dtype: float64))\n",
      "(Timestamp('2006-05-01 00:00:00', freq='D'), Series([], dtype: float64))\n",
      "(Timestamp('2006-05-02 00:00:00', freq='D'), Series([], dtype: float64))\n",
      "(Timestamp('2006-05-03 00:00:00', freq='D'), Series([], dtype: float64))\n",
      "(Timestamp('2006-05-04 00:00:00', freq='D'), Series([], dtype: float64))\n",
      "(Timestamp('2006-05-05 00:00:00', freq='D'), Series([], dtype: float64))\n",
      "(Timestamp('2006-05-06 00:00:00', freq='D'), Series([], dtype: float64))\n",
      "(Timestamp('2006-05-07 00:00:00', freq='D'), Series([], dtype: float64))\n",
      "(Timestamp('2006-05-08 00:00:00', freq='D'), Series([], dtype: float64))\n",
      "(Timestamp('2006-05-09 00:00:00', freq='D'), Series([], dtype: float64))\n",
      "(Timestamp('2006-05-10 00:00:00', freq='D'), Series([], dtype: float64))\n",
      "(Timestamp('2006-05-11 00:00:00', freq='D'), Series([], dtype: float64))\n",
      "(Timestamp('2006-05-12 00:00:00', freq='D'), Series([], dtype: float64))\n",
      "(Timestamp('2006-05-13 00:00:00', freq='D'), Series([], dtype: float64))\n",
      "(Timestamp('2006-05-14 00:00:00', freq='D'), Series([], dtype: float64))\n",
      "(Timestamp('2006-05-15 00:00:00', freq='D'), Series([], dtype: float64))\n",
      "(Timestamp('2006-05-16 00:00:00', freq='D'), Series([], dtype: float64))\n"
     ]
    },
    {
     "name": "stdout",
     "output_type": "stream",
     "text": [
      "(Timestamp('2006-05-17 00:00:00', freq='D'), Series([], dtype: float64))\n",
      "(Timestamp('2006-05-18 00:00:00', freq='D'), Series([], dtype: float64))\n",
      "(Timestamp('2006-05-19 00:00:00', freq='D'), Series([], dtype: float64))\n",
      "(Timestamp('2006-05-20 00:00:00', freq='D'), Series([], dtype: float64))\n",
      "(Timestamp('2006-05-21 00:00:00', freq='D'), Series([], dtype: float64))\n",
      "(Timestamp('2006-05-22 00:00:00', freq='D'), Series([], dtype: float64))\n",
      "(Timestamp('2006-05-23 00:00:00', freq='D'), Series([], dtype: float64))\n",
      "(Timestamp('2006-05-24 00:00:00', freq='D'), Series([], dtype: float64))\n",
      "(Timestamp('2006-05-25 00:00:00', freq='D'), Series([], dtype: float64))\n",
      "(Timestamp('2006-05-26 00:00:00', freq='D'), Series([], dtype: float64))\n",
      "(Timestamp('2006-05-27 00:00:00', freq='D'), Series([], dtype: float64))\n",
      "(Timestamp('2006-05-28 00:00:00', freq='D'), Series([], dtype: float64))\n",
      "(Timestamp('2006-05-29 00:00:00', freq='D'), Series([], dtype: float64))\n",
      "(Timestamp('2006-05-30 00:00:00', freq='D'), Series([], dtype: float64))\n",
      "(Timestamp('2006-05-31 00:00:00', freq='D'), Series([], dtype: float64))\n",
      "(Timestamp('2006-06-01 00:00:00', freq='D'), Series([], dtype: float64))\n",
      "(Timestamp('2006-06-02 00:00:00', freq='D'), Series([], dtype: float64))\n",
      "(Timestamp('2006-06-03 00:00:00', freq='D'), Series([], dtype: float64))\n",
      "(Timestamp('2006-06-04 00:00:00', freq='D'), Series([], dtype: float64))\n",
      "(Timestamp('2006-06-05 00:00:00', freq='D'), Series([], dtype: float64))\n",
      "(Timestamp('2006-06-06 00:00:00', freq='D'), Series([], dtype: float64))\n",
      "(Timestamp('2006-06-07 00:00:00', freq='D'), Series([], dtype: float64))\n",
      "(Timestamp('2006-06-08 00:00:00', freq='D'), Series([], dtype: float64))\n",
      "(Timestamp('2006-06-09 00:00:00', freq='D'), Series([], dtype: float64))\n",
      "(Timestamp('2006-06-10 00:00:00', freq='D'), Series([], dtype: float64))\n",
      "(Timestamp('2006-06-11 00:00:00', freq='D'), Series([], dtype: float64))\n",
      "(Timestamp('2006-06-12 00:00:00', freq='D'), Series([], dtype: float64))\n",
      "(Timestamp('2006-06-13 00:00:00', freq='D'), Series([], dtype: float64))\n",
      "(Timestamp('2006-06-14 00:00:00', freq='D'), Series([], dtype: float64))\n",
      "(Timestamp('2006-06-15 00:00:00', freq='D'), Series([], dtype: float64))\n",
      "(Timestamp('2006-06-16 00:00:00', freq='D'), Series([], dtype: float64))\n",
      "(Timestamp('2006-06-17 00:00:00', freq='D'), Series([], dtype: float64))\n",
      "(Timestamp('2006-06-18 00:00:00', freq='D'), Series([], dtype: float64))\n",
      "(Timestamp('2006-06-19 00:00:00', freq='D'), Series([], dtype: float64))\n",
      "(Timestamp('2006-06-20 00:00:00', freq='D'), Series([], dtype: float64))\n",
      "(Timestamp('2006-06-21 00:00:00', freq='D'), Series([], dtype: float64))\n",
      "(Timestamp('2006-06-22 00:00:00', freq='D'), Series([], dtype: float64))\n",
      "(Timestamp('2006-06-23 00:00:00', freq='D'), Series([], dtype: float64))\n",
      "(Timestamp('2006-06-24 00:00:00', freq='D'), Series([], dtype: float64))\n",
      "(Timestamp('2006-06-25 00:00:00', freq='D'), Series([], dtype: float64))\n",
      "(Timestamp('2006-06-26 00:00:00', freq='D'), Series([], dtype: float64))\n",
      "(Timestamp('2006-06-27 00:00:00', freq='D'), Series([], dtype: float64))\n",
      "(Timestamp('2006-06-28 00:00:00', freq='D'), Series([], dtype: float64))\n",
      "(Timestamp('2006-06-29 00:00:00', freq='D'), Series([], dtype: float64))\n",
      "(Timestamp('2006-06-30 00:00:00', freq='D'), Series([], dtype: float64))\n",
      "(Timestamp('2006-07-01 00:00:00', freq='D'), Series([], dtype: float64))\n",
      "(Timestamp('2006-07-02 00:00:00', freq='D'), Series([], dtype: float64))\n",
      "(Timestamp('2006-07-03 00:00:00', freq='D'), Series([], dtype: float64))\n",
      "(Timestamp('2006-07-04 00:00:00', freq='D'), Series([], dtype: float64))\n",
      "(Timestamp('2006-07-05 00:00:00', freq='D'), Series([], dtype: float64))\n",
      "(Timestamp('2006-07-06 00:00:00', freq='D'), Series([], dtype: float64))\n",
      "(Timestamp('2006-07-07 00:00:00', freq='D'), Series([], dtype: float64))\n",
      "(Timestamp('2006-07-08 00:00:00', freq='D'), Series([], dtype: float64))\n",
      "(Timestamp('2006-07-09 00:00:00', freq='D'), Series([], dtype: float64))\n",
      "(Timestamp('2006-07-10 00:00:00', freq='D'), Series([], dtype: float64))\n",
      "(Timestamp('2006-07-11 00:00:00', freq='D'), Series([], dtype: float64))\n",
      "(Timestamp('2006-07-12 00:00:00', freq='D'), Series([], dtype: float64))\n",
      "(Timestamp('2006-07-13 00:00:00', freq='D'), Series([], dtype: float64))\n",
      "(Timestamp('2006-07-14 00:00:00', freq='D'), Series([], dtype: float64))\n",
      "(Timestamp('2006-07-15 00:00:00', freq='D'), Series([], dtype: float64))\n",
      "(Timestamp('2006-07-16 00:00:00', freq='D'), Series([], dtype: float64))\n",
      "(Timestamp('2006-07-17 00:00:00', freq='D'), Series([], dtype: float64))\n",
      "(Timestamp('2006-07-18 00:00:00', freq='D'), Series([], dtype: float64))\n",
      "(Timestamp('2006-07-19 00:00:00', freq='D'), Series([], dtype: float64))\n",
      "(Timestamp('2006-07-20 00:00:00', freq='D'), Series([], dtype: float64))\n",
      "(Timestamp('2006-07-21 00:00:00', freq='D'), Series([], dtype: float64))\n",
      "(Timestamp('2006-07-22 00:00:00', freq='D'), Series([], dtype: float64))\n",
      "(Timestamp('2006-07-23 00:00:00', freq='D'), Series([], dtype: float64))\n",
      "(Timestamp('2006-07-24 00:00:00', freq='D'), Series([], dtype: float64))\n",
      "(Timestamp('2006-07-25 00:00:00', freq='D'), Series([], dtype: float64))\n",
      "(Timestamp('2006-07-26 00:00:00', freq='D'), Series([], dtype: float64))\n",
      "(Timestamp('2006-07-27 00:00:00', freq='D'), Series([], dtype: float64))\n",
      "(Timestamp('2006-07-28 00:00:00', freq='D'), Series([], dtype: float64))\n",
      "(Timestamp('2006-07-29 00:00:00', freq='D'), Series([], dtype: float64))\n",
      "(Timestamp('2006-07-30 00:00:00', freq='D'), Series([], dtype: float64))\n",
      "(Timestamp('2006-07-31 00:00:00', freq='D'), Series([], dtype: float64))\n",
      "(Timestamp('2006-08-01 00:00:00', freq='D'), Series([], dtype: float64))\n",
      "(Timestamp('2006-08-02 00:00:00', freq='D'), Series([], dtype: float64))\n",
      "(Timestamp('2006-08-03 00:00:00', freq='D'), Series([], dtype: float64))\n",
      "(Timestamp('2006-08-04 00:00:00', freq='D'), Series([], dtype: float64))\n",
      "(Timestamp('2006-08-05 00:00:00', freq='D'), Series([], dtype: float64))\n",
      "(Timestamp('2006-08-06 00:00:00', freq='D'), Series([], dtype: float64))\n",
      "(Timestamp('2006-08-07 00:00:00', freq='D'), Series([], dtype: float64))\n",
      "(Timestamp('2006-08-08 00:00:00', freq='D'), Series([], dtype: float64))\n",
      "(Timestamp('2006-08-09 00:00:00', freq='D'), Series([], dtype: float64))\n",
      "(Timestamp('2006-08-10 00:00:00', freq='D'), Series([], dtype: float64))\n",
      "(Timestamp('2006-08-11 00:00:00', freq='D'), Series([], dtype: float64))\n",
      "(Timestamp('2006-08-12 00:00:00', freq='D'), Series([], dtype: float64))\n",
      "(Timestamp('2006-08-13 00:00:00', freq='D'), Series([], dtype: float64))\n",
      "(Timestamp('2006-08-14 00:00:00', freq='D'), Series([], dtype: float64))\n",
      "(Timestamp('2006-08-15 00:00:00', freq='D'), Series([], dtype: float64))\n",
      "(Timestamp('2006-08-16 00:00:00', freq='D'), Series([], dtype: float64))\n",
      "(Timestamp('2006-08-17 00:00:00', freq='D'), Series([], dtype: float64))\n",
      "(Timestamp('2006-08-18 00:00:00', freq='D'), Series([], dtype: float64))\n",
      "(Timestamp('2006-08-19 00:00:00', freq='D'), Series([], dtype: float64))\n",
      "(Timestamp('2006-08-20 00:00:00', freq='D'), Series([], dtype: float64))\n",
      "(Timestamp('2006-08-21 00:00:00', freq='D'), Series([], dtype: float64))\n",
      "(Timestamp('2006-08-22 00:00:00', freq='D'), Series([], dtype: float64))\n",
      "(Timestamp('2006-08-23 00:00:00', freq='D'), Series([], dtype: float64))\n",
      "(Timestamp('2006-08-24 00:00:00', freq='D'), Series([], dtype: float64))\n",
      "(Timestamp('2006-08-25 00:00:00', freq='D'), Series([], dtype: float64))\n",
      "(Timestamp('2006-08-26 00:00:00', freq='D'), Series([], dtype: float64))\n",
      "(Timestamp('2006-08-27 00:00:00', freq='D'), Series([], dtype: float64))\n",
      "(Timestamp('2006-08-28 00:00:00', freq='D'), Series([], dtype: float64))\n",
      "(Timestamp('2006-08-29 00:00:00', freq='D'), Series([], dtype: float64))\n",
      "(Timestamp('2006-08-30 00:00:00', freq='D'), Series([], dtype: float64))\n",
      "(Timestamp('2006-08-31 00:00:00', freq='D'), Series([], dtype: float64))\n",
      "(Timestamp('2006-09-01 00:00:00', freq='D'), Series([], dtype: float64))\n",
      "(Timestamp('2006-09-02 00:00:00', freq='D'), Series([], dtype: float64))\n",
      "(Timestamp('2006-09-03 00:00:00', freq='D'), Series([], dtype: float64))\n",
      "(Timestamp('2006-09-04 00:00:00', freq='D'), Series([], dtype: float64))\n",
      "(Timestamp('2006-09-05 00:00:00', freq='D'), Series([], dtype: float64))\n",
      "(Timestamp('2006-09-06 00:00:00', freq='D'), Series([], dtype: float64))\n",
      "(Timestamp('2006-09-07 00:00:00', freq='D'), Series([], dtype: float64))\n",
      "(Timestamp('2006-09-08 00:00:00', freq='D'), Series([], dtype: float64))\n",
      "(Timestamp('2006-09-09 00:00:00', freq='D'), Series([], dtype: float64))\n",
      "(Timestamp('2006-09-10 00:00:00', freq='D'), Series([], dtype: float64))\n",
      "(Timestamp('2006-09-11 00:00:00', freq='D'), Series([], dtype: float64))\n",
      "(Timestamp('2006-09-12 00:00:00', freq='D'), Series([], dtype: float64))\n",
      "(Timestamp('2006-09-13 00:00:00', freq='D'), Series([], dtype: float64))\n",
      "(Timestamp('2006-09-14 00:00:00', freq='D'), Series([], dtype: float64))\n",
      "(Timestamp('2006-09-15 00:00:00', freq='D'), Series([], dtype: float64))\n",
      "(Timestamp('2006-09-16 00:00:00', freq='D'), Series([], dtype: float64))\n",
      "(Timestamp('2006-09-17 00:00:00', freq='D'), Series([], dtype: float64))\n",
      "(Timestamp('2006-09-18 00:00:00', freq='D'), Series([], dtype: float64))\n",
      "(Timestamp('2006-09-19 00:00:00', freq='D'), Series([], dtype: float64))\n",
      "(Timestamp('2006-09-20 00:00:00', freq='D'), Series([], dtype: float64))\n",
      "(Timestamp('2006-09-21 00:00:00', freq='D'), Series([], dtype: float64))\n",
      "(Timestamp('2006-09-22 00:00:00', freq='D'), Series([], dtype: float64))\n",
      "(Timestamp('2006-09-23 00:00:00', freq='D'), Series([], dtype: float64))\n",
      "(Timestamp('2006-09-24 00:00:00', freq='D'), Series([], dtype: float64))\n",
      "(Timestamp('2006-09-25 00:00:00', freq='D'), Series([], dtype: float64))\n",
      "(Timestamp('2006-09-26 00:00:00', freq='D'), Series([], dtype: float64))\n",
      "(Timestamp('2006-09-27 00:00:00', freq='D'), Series([], dtype: float64))\n",
      "(Timestamp('2006-09-28 00:00:00', freq='D'), Series([], dtype: float64))\n",
      "(Timestamp('2006-09-29 00:00:00', freq='D'), Series([], dtype: float64))\n",
      "(Timestamp('2006-09-30 00:00:00', freq='D'), Series([], dtype: float64))\n",
      "(Timestamp('2006-10-01 00:00:00', freq='D'), Series([], dtype: float64))\n",
      "(Timestamp('2006-10-02 00:00:00', freq='D'), Series([], dtype: float64))\n",
      "(Timestamp('2006-10-03 00:00:00', freq='D'), Series([], dtype: float64))\n",
      "(Timestamp('2006-10-04 00:00:00', freq='D'), Series([], dtype: float64))\n",
      "(Timestamp('2006-10-05 00:00:00', freq='D'), Series([], dtype: float64))\n",
      "(Timestamp('2006-10-06 00:00:00', freq='D'), Series([], dtype: float64))\n",
      "(Timestamp('2006-10-07 00:00:00', freq='D'), Series([], dtype: float64))\n",
      "(Timestamp('2006-10-08 00:00:00', freq='D'), Series([], dtype: float64))\n",
      "(Timestamp('2006-10-09 00:00:00', freq='D'), Series([], dtype: float64))\n",
      "(Timestamp('2006-10-10 00:00:00', freq='D'), Series([], dtype: float64))\n",
      "(Timestamp('2006-10-11 00:00:00', freq='D'), Series([], dtype: float64))\n",
      "(Timestamp('2006-10-12 00:00:00', freq='D'), Series([], dtype: float64))\n",
      "(Timestamp('2006-10-13 00:00:00', freq='D'), Series([], dtype: float64))\n",
      "(Timestamp('2006-10-14 00:00:00', freq='D'), Series([], dtype: float64))\n",
      "(Timestamp('2006-10-15 00:00:00', freq='D'), Series([], dtype: float64))\n",
      "(Timestamp('2006-10-16 00:00:00', freq='D'), Series([], dtype: float64))\n",
      "(Timestamp('2006-10-17 00:00:00', freq='D'), Series([], dtype: float64))\n",
      "(Timestamp('2006-10-18 00:00:00', freq='D'), Series([], dtype: float64))\n",
      "(Timestamp('2006-10-19 00:00:00', freq='D'), Series([], dtype: float64))\n",
      "(Timestamp('2006-10-20 00:00:00', freq='D'), Series([], dtype: float64))\n",
      "(Timestamp('2006-10-21 00:00:00', freq='D'), Series([], dtype: float64))\n",
      "(Timestamp('2006-10-22 00:00:00', freq='D'), Series([], dtype: float64))\n",
      "(Timestamp('2006-10-23 00:00:00', freq='D'), Series([], dtype: float64))\n",
      "(Timestamp('2006-10-24 00:00:00', freq='D'), Series([], dtype: float64))\n",
      "(Timestamp('2006-10-25 00:00:00', freq='D'), Series([], dtype: float64))\n",
      "(Timestamp('2006-10-26 00:00:00', freq='D'), Series([], dtype: float64))\n",
      "(Timestamp('2006-10-27 00:00:00', freq='D'), Series([], dtype: float64))\n",
      "(Timestamp('2006-10-28 00:00:00', freq='D'), Series([], dtype: float64))\n",
      "(Timestamp('2006-10-29 00:00:00', freq='D'), Series([], dtype: float64))\n",
      "(Timestamp('2006-10-30 00:00:00', freq='D'), Series([], dtype: float64))\n",
      "(Timestamp('2006-10-31 00:00:00', freq='D'), Series([], dtype: float64))\n",
      "(Timestamp('2006-11-01 00:00:00', freq='D'), Series([], dtype: float64))\n",
      "(Timestamp('2006-11-02 00:00:00', freq='D'), Series([], dtype: float64))\n",
      "(Timestamp('2006-11-03 00:00:00', freq='D'), Series([], dtype: float64))\n",
      "(Timestamp('2006-11-04 00:00:00', freq='D'), Series([], dtype: float64))\n",
      "(Timestamp('2006-11-05 00:00:00', freq='D'), Series([], dtype: float64))\n",
      "(Timestamp('2006-11-06 00:00:00', freq='D'), Series([], dtype: float64))\n",
      "(Timestamp('2006-11-07 00:00:00', freq='D'), Series([], dtype: float64))\n",
      "(Timestamp('2006-11-08 00:00:00', freq='D'), Series([], dtype: float64))\n",
      "(Timestamp('2006-11-09 00:00:00', freq='D'), Series([], dtype: float64))\n",
      "(Timestamp('2006-11-10 00:00:00', freq='D'), Series([], dtype: float64))\n",
      "(Timestamp('2006-11-11 00:00:00', freq='D'), Series([], dtype: float64))\n",
      "(Timestamp('2006-11-12 00:00:00', freq='D'), Series([], dtype: float64))\n",
      "(Timestamp('2006-11-13 00:00:00', freq='D'), Series([], dtype: float64))\n",
      "(Timestamp('2006-11-14 00:00:00', freq='D'), Series([], dtype: float64))\n",
      "(Timestamp('2006-11-15 00:00:00', freq='D'), Series([], dtype: float64))\n",
      "(Timestamp('2006-11-16 00:00:00', freq='D'), Series([], dtype: float64))\n",
      "(Timestamp('2006-11-17 00:00:00', freq='D'), Series([], dtype: float64))\n",
      "(Timestamp('2006-11-18 00:00:00', freq='D'), Series([], dtype: float64))\n",
      "(Timestamp('2006-11-19 00:00:00', freq='D'), Series([], dtype: float64))\n",
      "(Timestamp('2006-11-20 00:00:00', freq='D'), Series([], dtype: float64))\n",
      "(Timestamp('2006-11-21 00:00:00', freq='D'), Series([], dtype: float64))\n",
      "(Timestamp('2006-11-22 00:00:00', freq='D'), Series([], dtype: float64))\n",
      "(Timestamp('2006-11-23 00:00:00', freq='D'), Series([], dtype: float64))\n",
      "(Timestamp('2006-11-24 00:00:00', freq='D'), Series([], dtype: float64))\n",
      "(Timestamp('2006-11-25 00:00:00', freq='D'), Series([], dtype: float64))\n",
      "(Timestamp('2006-11-26 00:00:00', freq='D'), Series([], dtype: float64))\n",
      "(Timestamp('2006-11-27 00:00:00', freq='D'), Series([], dtype: float64))\n",
      "(Timestamp('2006-11-28 00:00:00', freq='D'), Series([], dtype: float64))\n",
      "(Timestamp('2006-11-29 00:00:00', freq='D'), Series([], dtype: float64))\n",
      "(Timestamp('2006-11-30 00:00:00', freq='D'), Series([], dtype: float64))\n",
      "(Timestamp('2006-12-01 00:00:00', freq='D'), Series([], dtype: float64))\n",
      "(Timestamp('2006-12-02 00:00:00', freq='D'), Series([], dtype: float64))\n",
      "(Timestamp('2006-12-03 00:00:00', freq='D'), Series([], dtype: float64))\n",
      "(Timestamp('2006-12-04 00:00:00', freq='D'), Series([], dtype: float64))\n",
      "(Timestamp('2006-12-05 00:00:00', freq='D'), Series([], dtype: float64))\n",
      "(Timestamp('2006-12-06 00:00:00', freq='D'), Series([], dtype: float64))\n",
      "(Timestamp('2006-12-07 00:00:00', freq='D'), Series([], dtype: float64))\n",
      "(Timestamp('2006-12-08 00:00:00', freq='D'), Series([], dtype: float64))\n",
      "(Timestamp('2006-12-09 00:00:00', freq='D'), Series([], dtype: float64))\n",
      "(Timestamp('2006-12-10 00:00:00', freq='D'), Series([], dtype: float64))\n",
      "(Timestamp('2006-12-11 00:00:00', freq='D'), Series([], dtype: float64))\n",
      "(Timestamp('2006-12-12 00:00:00', freq='D'), Series([], dtype: float64))\n",
      "(Timestamp('2006-12-13 00:00:00', freq='D'), Series([], dtype: float64))\n",
      "(Timestamp('2006-12-14 00:00:00', freq='D'), Series([], dtype: float64))\n",
      "(Timestamp('2006-12-15 00:00:00', freq='D'), Series([], dtype: float64))\n",
      "(Timestamp('2006-12-16 00:00:00', freq='D'), Series([], dtype: float64))\n",
      "(Timestamp('2006-12-17 00:00:00', freq='D'), Series([], dtype: float64))\n",
      "(Timestamp('2006-12-18 00:00:00', freq='D'), Series([], dtype: float64))\n",
      "(Timestamp('2006-12-19 00:00:00', freq='D'), Series([], dtype: float64))\n",
      "(Timestamp('2006-12-20 00:00:00', freq='D'), Series([], dtype: float64))\n",
      "(Timestamp('2006-12-21 00:00:00', freq='D'), Series([], dtype: float64))\n",
      "(Timestamp('2006-12-22 00:00:00', freq='D'), Series([], dtype: float64))\n",
      "(Timestamp('2006-12-23 00:00:00', freq='D'), Series([], dtype: float64))\n",
      "(Timestamp('2006-12-24 00:00:00', freq='D'), Series([], dtype: float64))\n",
      "(Timestamp('2006-12-25 00:00:00', freq='D'), Series([], dtype: float64))\n",
      "(Timestamp('2006-12-26 00:00:00', freq='D'), Series([], dtype: float64))\n",
      "(Timestamp('2006-12-27 00:00:00', freq='D'), Series([], dtype: float64))\n",
      "(Timestamp('2006-12-28 00:00:00', freq='D'), Series([], dtype: float64))\n",
      "(Timestamp('2006-12-29 00:00:00', freq='D'), Series([], dtype: float64))\n",
      "(Timestamp('2006-12-30 00:00:00', freq='D'), Series([], dtype: float64))\n",
      "(Timestamp('2006-12-31 00:00:00', freq='D'), Series([], dtype: float64))\n",
      "(Timestamp('2007-01-01 00:00:00', freq='D'), Series([], dtype: float64))\n",
      "(Timestamp('2007-01-02 00:00:00', freq='D'), Series([], dtype: float64))\n",
      "(Timestamp('2007-01-03 00:00:00', freq='D'), Series([], dtype: float64))\n",
      "(Timestamp('2007-01-04 00:00:00', freq='D'), Series([], dtype: float64))\n",
      "(Timestamp('2007-01-05 00:00:00', freq='D'), Series([], dtype: float64))\n",
      "(Timestamp('2007-01-06 00:00:00', freq='D'), Series([], dtype: float64))\n",
      "(Timestamp('2007-01-07 00:00:00', freq='D'), Series([], dtype: float64))\n",
      "(Timestamp('2007-01-08 00:00:00', freq='D'), Series([], dtype: float64))\n",
      "(Timestamp('2007-01-09 00:00:00', freq='D'), Series([], dtype: float64))\n",
      "(Timestamp('2007-01-10 00:00:00', freq='D'), Series([], dtype: float64))\n",
      "(Timestamp('2007-01-11 00:00:00', freq='D'), Series([], dtype: float64))\n",
      "(Timestamp('2007-01-12 00:00:00', freq='D'), Series([], dtype: float64))\n",
      "(Timestamp('2007-01-13 00:00:00', freq='D'), Series([], dtype: float64))\n",
      "(Timestamp('2007-01-14 00:00:00', freq='D'), Series([], dtype: float64))\n",
      "(Timestamp('2007-01-15 00:00:00', freq='D'), Series([], dtype: float64))\n",
      "(Timestamp('2007-01-16 00:00:00', freq='D'), Series([], dtype: float64))\n",
      "(Timestamp('2007-01-17 00:00:00', freq='D'), Series([], dtype: float64))\n",
      "(Timestamp('2007-01-18 00:00:00', freq='D'), Series([], dtype: float64))\n",
      "(Timestamp('2007-01-19 00:00:00', freq='D'), Series([], dtype: float64))\n",
      "(Timestamp('2007-01-20 00:00:00', freq='D'), Series([], dtype: float64))\n",
      "(Timestamp('2007-01-21 00:00:00', freq='D'), Series([], dtype: float64))\n",
      "(Timestamp('2007-01-22 00:00:00', freq='D'), Series([], dtype: float64))\n",
      "(Timestamp('2007-01-23 00:00:00', freq='D'), Series([], dtype: float64))\n",
      "(Timestamp('2007-01-24 00:00:00', freq='D'), Series([], dtype: float64))\n",
      "(Timestamp('2007-01-25 00:00:00', freq='D'), Series([], dtype: float64))\n",
      "(Timestamp('2007-01-26 00:00:00', freq='D'), Series([], dtype: float64))\n",
      "(Timestamp('2007-01-27 00:00:00', freq='D'), Series([], dtype: float64))\n",
      "(Timestamp('2007-01-28 00:00:00', freq='D'), Series([], dtype: float64))\n",
      "(Timestamp('2007-01-29 00:00:00', freq='D'), Series([], dtype: float64))\n",
      "(Timestamp('2007-01-30 00:00:00', freq='D'), Series([], dtype: float64))\n",
      "(Timestamp('2007-01-31 00:00:00', freq='D'), Series([], dtype: float64))\n",
      "(Timestamp('2007-02-01 00:00:00', freq='D'), Series([], dtype: float64))\n",
      "(Timestamp('2007-02-02 00:00:00', freq='D'), Series([], dtype: float64))\n",
      "(Timestamp('2007-02-03 00:00:00', freq='D'), Series([], dtype: float64))\n",
      "(Timestamp('2007-02-04 00:00:00', freq='D'), Series([], dtype: float64))\n",
      "(Timestamp('2007-02-05 00:00:00', freq='D'), Series([], dtype: float64))\n",
      "(Timestamp('2007-02-06 00:00:00', freq='D'), Series([], dtype: float64))\n",
      "(Timestamp('2007-02-07 00:00:00', freq='D'), Series([], dtype: float64))\n",
      "(Timestamp('2007-02-08 00:00:00', freq='D'), Series([], dtype: float64))\n",
      "(Timestamp('2007-02-09 00:00:00', freq='D'), Series([], dtype: float64))\n",
      "(Timestamp('2007-02-10 00:00:00', freq='D'), Series([], dtype: float64))\n",
      "(Timestamp('2007-02-11 00:00:00', freq='D'), Series([], dtype: float64))\n",
      "(Timestamp('2007-02-12 00:00:00', freq='D'), Series([], dtype: float64))\n",
      "(Timestamp('2007-02-13 00:00:00', freq='D'), Series([], dtype: float64))\n",
      "(Timestamp('2007-02-14 00:00:00', freq='D'), Series([], dtype: float64))\n",
      "(Timestamp('2007-02-15 00:00:00', freq='D'), Series([], dtype: float64))\n",
      "(Timestamp('2007-02-16 00:00:00', freq='D'), Series([], dtype: float64))\n",
      "(Timestamp('2007-02-17 00:00:00', freq='D'), Series([], dtype: float64))\n",
      "(Timestamp('2007-02-18 00:00:00', freq='D'), Series([], dtype: float64))\n",
      "(Timestamp('2007-02-19 00:00:00', freq='D'), Series([], dtype: float64))\n",
      "(Timestamp('2007-02-20 00:00:00', freq='D'), Series([], dtype: float64))\n",
      "(Timestamp('2007-02-21 00:00:00', freq='D'), Series([], dtype: float64))\n",
      "(Timestamp('2007-02-22 00:00:00', freq='D'), Series([], dtype: float64))\n",
      "(Timestamp('2007-02-23 00:00:00', freq='D'), Series([], dtype: float64))\n",
      "(Timestamp('2007-02-24 00:00:00', freq='D'), Series([], dtype: float64))\n",
      "(Timestamp('2007-02-25 00:00:00', freq='D'), Series([], dtype: float64))\n",
      "(Timestamp('2007-02-26 00:00:00', freq='D'), Series([], dtype: float64))\n",
      "(Timestamp('2007-02-27 00:00:00', freq='D'), Series([], dtype: float64))\n",
      "(Timestamp('2007-02-28 00:00:00', freq='D'), Series([], dtype: float64))\n",
      "(Timestamp('2007-03-01 00:00:00', freq='D'), Series([], dtype: float64))\n",
      "(Timestamp('2007-03-02 00:00:00', freq='D'), Series([], dtype: float64))\n",
      "(Timestamp('2007-03-03 00:00:00', freq='D'), Series([], dtype: float64))\n",
      "(Timestamp('2007-03-04 00:00:00', freq='D'), Series([], dtype: float64))\n",
      "(Timestamp('2007-03-05 00:00:00', freq='D'), Series([], dtype: float64))\n",
      "(Timestamp('2007-03-06 00:00:00', freq='D'), Series([], dtype: float64))\n",
      "(Timestamp('2007-03-07 00:00:00', freq='D'), Series([], dtype: float64))\n",
      "(Timestamp('2007-03-08 00:00:00', freq='D'), Series([], dtype: float64))\n",
      "(Timestamp('2007-03-09 00:00:00', freq='D'), Series([], dtype: float64))\n",
      "(Timestamp('2007-03-10 00:00:00', freq='D'), Series([], dtype: float64))\n",
      "(Timestamp('2007-03-11 00:00:00', freq='D'), Series([], dtype: float64))\n",
      "(Timestamp('2007-03-12 00:00:00', freq='D'), Series([], dtype: float64))\n",
      "(Timestamp('2007-03-13 00:00:00', freq='D'), Series([], dtype: float64))\n",
      "(Timestamp('2007-03-14 00:00:00', freq='D'), Series([], dtype: float64))\n",
      "(Timestamp('2007-03-15 00:00:00', freq='D'), Series([], dtype: float64))\n",
      "(Timestamp('2007-03-16 00:00:00', freq='D'), Series([], dtype: float64))\n",
      "(Timestamp('2007-03-17 00:00:00', freq='D'), Series([], dtype: float64))\n",
      "(Timestamp('2007-03-18 00:00:00', freq='D'), Series([], dtype: float64))\n",
      "(Timestamp('2007-03-19 00:00:00', freq='D'), Series([], dtype: float64))\n",
      "(Timestamp('2007-03-20 00:00:00', freq='D'), Series([], dtype: float64))\n",
      "(Timestamp('2007-03-21 00:00:00', freq='D'), Series([], dtype: float64))\n",
      "(Timestamp('2007-03-22 00:00:00', freq='D'), Series([], dtype: float64))\n",
      "(Timestamp('2007-03-23 00:00:00', freq='D'), Series([], dtype: float64))\n",
      "(Timestamp('2007-03-24 00:00:00', freq='D'), Series([], dtype: float64))\n",
      "(Timestamp('2007-03-25 00:00:00', freq='D'), Series([], dtype: float64))\n",
      "(Timestamp('2007-03-26 00:00:00', freq='D'), Series([], dtype: float64))\n",
      "(Timestamp('2007-03-27 00:00:00', freq='D'), Series([], dtype: float64))\n",
      "(Timestamp('2007-03-28 00:00:00', freq='D'), Series([], dtype: float64))\n",
      "(Timestamp('2007-03-29 00:00:00', freq='D'), Series([], dtype: float64))\n",
      "(Timestamp('2007-03-30 00:00:00', freq='D'), Series([], dtype: float64))\n",
      "(Timestamp('2007-03-31 00:00:00', freq='D'), Series([], dtype: float64))\n",
      "(Timestamp('2007-04-01 00:00:00', freq='D'), Series([], dtype: float64))\n",
      "(Timestamp('2007-04-02 00:00:00', freq='D'), Series([], dtype: float64))\n",
      "(Timestamp('2007-04-03 00:00:00', freq='D'), Series([], dtype: float64))\n",
      "(Timestamp('2007-04-04 00:00:00', freq='D'), Series([], dtype: float64))\n",
      "(Timestamp('2007-04-05 00:00:00', freq='D'), Series([], dtype: float64))\n",
      "(Timestamp('2007-04-06 00:00:00', freq='D'), Series([], dtype: float64))\n",
      "(Timestamp('2007-04-07 00:00:00', freq='D'), Series([], dtype: float64))\n",
      "(Timestamp('2007-04-08 00:00:00', freq='D'), Series([], dtype: float64))\n",
      "(Timestamp('2007-04-09 00:00:00', freq='D'), Series([], dtype: float64))\n",
      "(Timestamp('2007-04-10 00:00:00', freq='D'), Series([], dtype: float64))\n",
      "(Timestamp('2007-04-11 00:00:00', freq='D'), Series([], dtype: float64))\n",
      "(Timestamp('2007-04-12 00:00:00', freq='D'), Series([], dtype: float64))\n",
      "(Timestamp('2007-04-13 00:00:00', freq='D'), Series([], dtype: float64))\n",
      "(Timestamp('2007-04-14 00:00:00', freq='D'), Series([], dtype: float64))\n",
      "(Timestamp('2007-04-15 00:00:00', freq='D'), Series([], dtype: float64))\n",
      "(Timestamp('2007-04-16 00:00:00', freq='D'), Series([], dtype: float64))\n",
      "(Timestamp('2007-04-17 00:00:00', freq='D'), Series([], dtype: float64))\n",
      "(Timestamp('2007-04-18 00:00:00', freq='D'), Series([], dtype: float64))\n",
      "(Timestamp('2007-04-19 00:00:00', freq='D'), Series([], dtype: float64))\n",
      "(Timestamp('2007-04-20 00:00:00', freq='D'), Series([], dtype: float64))\n",
      "(Timestamp('2007-04-21 00:00:00', freq='D'), Series([], dtype: float64))\n",
      "(Timestamp('2007-04-22 00:00:00', freq='D'), Series([], dtype: float64))\n",
      "(Timestamp('2007-04-23 00:00:00', freq='D'), Series([], dtype: float64))\n",
      "(Timestamp('2007-04-24 00:00:00', freq='D'), Series([], dtype: float64))\n",
      "(Timestamp('2007-04-25 00:00:00', freq='D'), Series([], dtype: float64))\n",
      "(Timestamp('2007-04-26 00:00:00', freq='D'), Series([], dtype: float64))\n",
      "(Timestamp('2007-04-27 00:00:00', freq='D'), Series([], dtype: float64))\n",
      "(Timestamp('2007-04-28 00:00:00', freq='D'), Series([], dtype: float64))\n",
      "(Timestamp('2007-04-29 00:00:00', freq='D'), Series([], dtype: float64))\n",
      "(Timestamp('2007-04-30 00:00:00', freq='D'), Series([], dtype: float64))\n",
      "(Timestamp('2007-05-01 00:00:00', freq='D'), Series([], dtype: float64))\n",
      "(Timestamp('2007-05-02 00:00:00', freq='D'), Series([], dtype: float64))\n",
      "(Timestamp('2007-05-03 00:00:00', freq='D'), Series([], dtype: float64))\n",
      "(Timestamp('2007-05-04 00:00:00', freq='D'), Series([], dtype: float64))\n",
      "(Timestamp('2007-05-05 00:00:00', freq='D'), Series([], dtype: float64))\n",
      "(Timestamp('2007-05-06 00:00:00', freq='D'), Series([], dtype: float64))\n",
      "(Timestamp('2007-05-07 00:00:00', freq='D'), Series([], dtype: float64))\n",
      "(Timestamp('2007-05-08 00:00:00', freq='D'), Series([], dtype: float64))\n",
      "(Timestamp('2007-05-09 00:00:00', freq='D'), Series([], dtype: float64))\n",
      "(Timestamp('2007-05-10 00:00:00', freq='D'), Series([], dtype: float64))\n",
      "(Timestamp('2007-05-11 00:00:00', freq='D'), Series([], dtype: float64))\n",
      "(Timestamp('2007-05-12 00:00:00', freq='D'), Series([], dtype: float64))\n",
      "(Timestamp('2007-05-13 00:00:00', freq='D'), Series([], dtype: float64))\n",
      "(Timestamp('2007-05-14 00:00:00', freq='D'), Series([], dtype: float64))\n",
      "(Timestamp('2007-05-15 00:00:00', freq='D'), Series([], dtype: float64))\n",
      "(Timestamp('2007-05-16 00:00:00', freq='D'), Series([], dtype: float64))\n",
      "(Timestamp('2007-05-17 00:00:00', freq='D'), Series([], dtype: float64))\n",
      "(Timestamp('2007-05-18 00:00:00', freq='D'), Series([], dtype: float64))\n",
      "(Timestamp('2007-05-19 00:00:00', freq='D'), Series([], dtype: float64))\n",
      "(Timestamp('2007-05-20 00:00:00', freq='D'), Series([], dtype: float64))\n",
      "(Timestamp('2007-05-21 00:00:00', freq='D'), Series([], dtype: float64))\n",
      "(Timestamp('2007-05-22 00:00:00', freq='D'), Series([], dtype: float64))\n",
      "(Timestamp('2007-05-23 00:00:00', freq='D'), Series([], dtype: float64))\n",
      "(Timestamp('2007-05-24 00:00:00', freq='D'), Series([], dtype: float64))\n",
      "(Timestamp('2007-05-25 00:00:00', freq='D'), Series([], dtype: float64))\n",
      "(Timestamp('2007-05-26 00:00:00', freq='D'), Series([], dtype: float64))\n",
      "(Timestamp('2007-05-27 00:00:00', freq='D'), Series([], dtype: float64))\n",
      "(Timestamp('2007-05-28 00:00:00', freq='D'), Series([], dtype: float64))\n",
      "(Timestamp('2007-05-29 00:00:00', freq='D'), Series([], dtype: float64))\n",
      "(Timestamp('2007-05-30 00:00:00', freq='D'), Series([], dtype: float64))\n",
      "(Timestamp('2007-05-31 00:00:00', freq='D'), Series([], dtype: float64))\n",
      "(Timestamp('2007-06-01 00:00:00', freq='D'), Series([], dtype: float64))\n",
      "(Timestamp('2007-06-02 00:00:00', freq='D'), Series([], dtype: float64))\n",
      "(Timestamp('2007-06-03 00:00:00', freq='D'), Series([], dtype: float64))\n",
      "(Timestamp('2007-06-04 00:00:00', freq='D'), Series([], dtype: float64))\n",
      "(Timestamp('2007-06-05 00:00:00', freq='D'), Series([], dtype: float64))\n",
      "(Timestamp('2007-06-06 00:00:00', freq='D'), Series([], dtype: float64))\n",
      "(Timestamp('2007-06-07 00:00:00', freq='D'), Series([], dtype: float64))\n",
      "(Timestamp('2007-06-08 00:00:00', freq='D'), Series([], dtype: float64))\n",
      "(Timestamp('2007-06-09 00:00:00', freq='D'), Series([], dtype: float64))\n",
      "(Timestamp('2007-06-10 00:00:00', freq='D'), Series([], dtype: float64))\n",
      "(Timestamp('2007-06-11 00:00:00', freq='D'), Series([], dtype: float64))\n",
      "(Timestamp('2007-06-12 00:00:00', freq='D'), Series([], dtype: float64))\n",
      "(Timestamp('2007-06-13 00:00:00', freq='D'), Series([], dtype: float64))\n",
      "(Timestamp('2007-06-14 00:00:00', freq='D'), Series([], dtype: float64))\n",
      "(Timestamp('2007-06-15 00:00:00', freq='D'), Series([], dtype: float64))\n",
      "(Timestamp('2007-06-16 00:00:00', freq='D'), Series([], dtype: float64))\n",
      "(Timestamp('2007-06-17 00:00:00', freq='D'), Series([], dtype: float64))\n",
      "(Timestamp('2007-06-18 00:00:00', freq='D'), Series([], dtype: float64))\n",
      "(Timestamp('2007-06-19 00:00:00', freq='D'), Series([], dtype: float64))\n",
      "(Timestamp('2007-06-20 00:00:00', freq='D'), Series([], dtype: float64))\n",
      "(Timestamp('2007-06-21 00:00:00', freq='D'), Series([], dtype: float64))\n",
      "(Timestamp('2007-06-22 00:00:00', freq='D'), Series([], dtype: float64))\n",
      "(Timestamp('2007-06-23 00:00:00', freq='D'), Series([], dtype: float64))\n",
      "(Timestamp('2007-06-24 00:00:00', freq='D'), Series([], dtype: float64))\n",
      "(Timestamp('2007-06-25 00:00:00', freq='D'), Series([], dtype: float64))\n",
      "(Timestamp('2007-06-26 00:00:00', freq='D'), Series([], dtype: float64))\n",
      "(Timestamp('2007-06-27 00:00:00', freq='D'), Series([], dtype: float64))\n",
      "(Timestamp('2007-06-28 00:00:00', freq='D'), Series([], dtype: float64))\n",
      "(Timestamp('2007-06-29 00:00:00', freq='D'), Series([], dtype: float64))\n",
      "(Timestamp('2007-06-30 00:00:00', freq='D'), Series([], dtype: float64))\n",
      "(Timestamp('2007-07-01 00:00:00', freq='D'), Series([], dtype: float64))\n",
      "(Timestamp('2007-07-02 00:00:00', freq='D'), Series([], dtype: float64))\n",
      "(Timestamp('2007-07-03 00:00:00', freq='D'), Series([], dtype: float64))\n",
      "(Timestamp('2007-07-04 00:00:00', freq='D'), Series([], dtype: float64))\n",
      "(Timestamp('2007-07-05 00:00:00', freq='D'), Series([], dtype: float64))\n",
      "(Timestamp('2007-07-06 00:00:00', freq='D'), Series([], dtype: float64))\n",
      "(Timestamp('2007-07-07 00:00:00', freq='D'), Series([], dtype: float64))\n",
      "(Timestamp('2007-07-08 00:00:00', freq='D'), Series([], dtype: float64))\n",
      "(Timestamp('2007-07-09 00:00:00', freq='D'), Series([], dtype: float64))\n",
      "(Timestamp('2007-07-10 00:00:00', freq='D'), Series([], dtype: float64))\n",
      "(Timestamp('2007-07-11 00:00:00', freq='D'), Series([], dtype: float64))\n",
      "(Timestamp('2007-07-12 00:00:00', freq='D'), Series([], dtype: float64))\n",
      "(Timestamp('2007-07-13 00:00:00', freq='D'), Series([], dtype: float64))\n",
      "(Timestamp('2007-07-14 00:00:00', freq='D'), Series([], dtype: float64))\n",
      "(Timestamp('2007-07-15 00:00:00', freq='D'), Series([], dtype: float64))\n",
      "(Timestamp('2007-07-16 00:00:00', freq='D'), Series([], dtype: float64))\n",
      "(Timestamp('2007-07-17 00:00:00', freq='D'), Series([], dtype: float64))\n",
      "(Timestamp('2007-07-18 00:00:00', freq='D'), Series([], dtype: float64))\n",
      "(Timestamp('2007-07-19 00:00:00', freq='D'), Series([], dtype: float64))\n",
      "(Timestamp('2007-07-20 00:00:00', freq='D'), Series([], dtype: float64))\n",
      "(Timestamp('2007-07-21 00:00:00', freq='D'), Series([], dtype: float64))\n",
      "(Timestamp('2007-07-22 00:00:00', freq='D'), Series([], dtype: float64))\n",
      "(Timestamp('2007-07-23 00:00:00', freq='D'), Series([], dtype: float64))\n",
      "(Timestamp('2007-07-24 00:00:00', freq='D'), Series([], dtype: float64))\n",
      "(Timestamp('2007-07-25 00:00:00', freq='D'), Series([], dtype: float64))\n",
      "(Timestamp('2007-07-26 00:00:00', freq='D'), Series([], dtype: float64))\n",
      "(Timestamp('2007-07-27 00:00:00', freq='D'), Series([], dtype: float64))\n",
      "(Timestamp('2007-07-28 00:00:00', freq='D'), Series([], dtype: float64))\n",
      "(Timestamp('2007-07-29 00:00:00', freq='D'), Series([], dtype: float64))\n",
      "(Timestamp('2007-07-30 00:00:00', freq='D'), Series([], dtype: float64))\n",
      "(Timestamp('2007-07-31 00:00:00', freq='D'), Series([], dtype: float64))\n",
      "(Timestamp('2007-08-01 00:00:00', freq='D'), Series([], dtype: float64))\n",
      "(Timestamp('2007-08-02 00:00:00', freq='D'), Series([], dtype: float64))\n",
      "(Timestamp('2007-08-03 00:00:00', freq='D'), Series([], dtype: float64))\n",
      "(Timestamp('2007-08-04 00:00:00', freq='D'), Series([], dtype: float64))\n",
      "(Timestamp('2007-08-05 00:00:00', freq='D'), Series([], dtype: float64))\n",
      "(Timestamp('2007-08-06 00:00:00', freq='D'), Series([], dtype: float64))\n",
      "(Timestamp('2007-08-07 00:00:00', freq='D'), Series([], dtype: float64))\n",
      "(Timestamp('2007-08-08 00:00:00', freq='D'), Series([], dtype: float64))\n",
      "(Timestamp('2007-08-09 00:00:00', freq='D'), Series([], dtype: float64))\n",
      "(Timestamp('2007-08-10 00:00:00', freq='D'), Series([], dtype: float64))\n",
      "(Timestamp('2007-08-11 00:00:00', freq='D'), Series([], dtype: float64))\n",
      "(Timestamp('2007-08-12 00:00:00', freq='D'), Series([], dtype: float64))\n",
      "(Timestamp('2007-08-13 00:00:00', freq='D'), Series([], dtype: float64))\n",
      "(Timestamp('2007-08-14 00:00:00', freq='D'), Series([], dtype: float64))\n",
      "(Timestamp('2007-08-15 00:00:00', freq='D'), Series([], dtype: float64))\n",
      "(Timestamp('2007-08-16 00:00:00', freq='D'), Series([], dtype: float64))\n",
      "(Timestamp('2007-08-17 00:00:00', freq='D'), Series([], dtype: float64))\n",
      "(Timestamp('2007-08-18 00:00:00', freq='D'), Series([], dtype: float64))\n",
      "(Timestamp('2007-08-19 00:00:00', freq='D'), Series([], dtype: float64))\n",
      "(Timestamp('2007-08-20 00:00:00', freq='D'), Series([], dtype: float64))\n",
      "(Timestamp('2007-08-21 00:00:00', freq='D'), Series([], dtype: float64))\n",
      "(Timestamp('2007-08-22 00:00:00', freq='D'), Series([], dtype: float64))\n",
      "(Timestamp('2007-08-23 00:00:00', freq='D'), Series([], dtype: float64))\n",
      "(Timestamp('2007-08-24 00:00:00', freq='D'), Series([], dtype: float64))\n",
      "(Timestamp('2007-08-25 00:00:00', freq='D'), Series([], dtype: float64))\n",
      "(Timestamp('2007-08-26 00:00:00', freq='D'), Series([], dtype: float64))\n",
      "(Timestamp('2007-08-27 00:00:00', freq='D'), Series([], dtype: float64))\n",
      "(Timestamp('2007-08-28 00:00:00', freq='D'), Series([], dtype: float64))\n",
      "(Timestamp('2007-08-29 00:00:00', freq='D'), Series([], dtype: float64))\n",
      "(Timestamp('2007-08-30 00:00:00', freq='D'), Series([], dtype: float64))\n",
      "(Timestamp('2007-08-31 00:00:00', freq='D'), Series([], dtype: float64))\n",
      "(Timestamp('2007-09-01 00:00:00', freq='D'), Series([], dtype: float64))\n",
      "(Timestamp('2007-09-02 00:00:00', freq='D'), Series([], dtype: float64))\n",
      "(Timestamp('2007-09-03 00:00:00', freq='D'), Series([], dtype: float64))\n",
      "(Timestamp('2007-09-04 00:00:00', freq='D'), Series([], dtype: float64))\n",
      "(Timestamp('2007-09-05 00:00:00', freq='D'), Series([], dtype: float64))\n",
      "(Timestamp('2007-09-06 00:00:00', freq='D'), Series([], dtype: float64))\n",
      "(Timestamp('2007-09-07 00:00:00', freq='D'), Series([], dtype: float64))\n",
      "(Timestamp('2007-09-08 00:00:00', freq='D'), Series([], dtype: float64))\n",
      "(Timestamp('2007-09-09 00:00:00', freq='D'), Series([], dtype: float64))\n",
      "(Timestamp('2007-09-10 00:00:00', freq='D'), Series([], dtype: float64))\n",
      "(Timestamp('2007-09-11 00:00:00', freq='D'), Series([], dtype: float64))\n",
      "(Timestamp('2007-09-12 00:00:00', freq='D'), Series([], dtype: float64))\n",
      "(Timestamp('2007-09-13 00:00:00', freq='D'), Series([], dtype: float64))\n",
      "(Timestamp('2007-09-14 00:00:00', freq='D'), Series([], dtype: float64))\n",
      "(Timestamp('2007-09-15 00:00:00', freq='D'), Series([], dtype: float64))\n",
      "(Timestamp('2007-09-16 00:00:00', freq='D'), Series([], dtype: float64))\n",
      "(Timestamp('2007-09-17 00:00:00', freq='D'), Series([], dtype: float64))\n",
      "(Timestamp('2007-09-18 00:00:00', freq='D'), Series([], dtype: float64))\n",
      "(Timestamp('2007-09-19 00:00:00', freq='D'), Series([], dtype: float64))\n",
      "(Timestamp('2007-09-20 00:00:00', freq='D'), Series([], dtype: float64))\n",
      "(Timestamp('2007-09-21 00:00:00', freq='D'), Series([], dtype: float64))\n",
      "(Timestamp('2007-09-22 00:00:00', freq='D'), Series([], dtype: float64))\n",
      "(Timestamp('2007-09-23 00:00:00', freq='D'), Series([], dtype: float64))\n",
      "(Timestamp('2007-09-24 00:00:00', freq='D'), Series([], dtype: float64))\n",
      "(Timestamp('2007-09-25 00:00:00', freq='D'), Series([], dtype: float64))\n",
      "(Timestamp('2007-09-26 00:00:00', freq='D'), Series([], dtype: float64))\n",
      "(Timestamp('2007-09-27 00:00:00', freq='D'), Series([], dtype: float64))\n",
      "(Timestamp('2007-09-28 00:00:00', freq='D'), Series([], dtype: float64))\n",
      "(Timestamp('2007-09-29 00:00:00', freq='D'), Series([], dtype: float64))\n",
      "(Timestamp('2007-09-30 00:00:00', freq='D'), Series([], dtype: float64))\n",
      "(Timestamp('2007-10-01 00:00:00', freq='D'), Series([], dtype: float64))\n",
      "(Timestamp('2007-10-02 00:00:00', freq='D'), Series([], dtype: float64))\n",
      "(Timestamp('2007-10-03 00:00:00', freq='D'), Series([], dtype: float64))\n",
      "(Timestamp('2007-10-04 00:00:00', freq='D'), Series([], dtype: float64))\n",
      "(Timestamp('2007-10-05 00:00:00', freq='D'), Series([], dtype: float64))\n",
      "(Timestamp('2007-10-06 00:00:00', freq='D'), Series([], dtype: float64))\n",
      "(Timestamp('2007-10-07 00:00:00', freq='D'), Series([], dtype: float64))\n",
      "(Timestamp('2007-10-08 00:00:00', freq='D'), Series([], dtype: float64))\n",
      "(Timestamp('2007-10-09 00:00:00', freq='D'), Series([], dtype: float64))\n",
      "(Timestamp('2007-10-10 00:00:00', freq='D'), Series([], dtype: float64))\n",
      "(Timestamp('2007-10-11 00:00:00', freq='D'), Series([], dtype: float64))\n",
      "(Timestamp('2007-10-12 00:00:00', freq='D'), Series([], dtype: float64))\n",
      "(Timestamp('2007-10-13 00:00:00', freq='D'), Series([], dtype: float64))\n",
      "(Timestamp('2007-10-14 00:00:00', freq='D'), Series([], dtype: float64))\n",
      "(Timestamp('2007-10-15 00:00:00', freq='D'), Series([], dtype: float64))\n",
      "(Timestamp('2007-10-16 00:00:00', freq='D'), Series([], dtype: float64))\n",
      "(Timestamp('2007-10-17 00:00:00', freq='D'), Series([], dtype: float64))\n",
      "(Timestamp('2007-10-18 00:00:00', freq='D'), Series([], dtype: float64))\n",
      "(Timestamp('2007-10-19 00:00:00', freq='D'), Series([], dtype: float64))\n",
      "(Timestamp('2007-10-20 00:00:00', freq='D'), Series([], dtype: float64))\n",
      "(Timestamp('2007-10-21 00:00:00', freq='D'), Series([], dtype: float64))\n",
      "(Timestamp('2007-10-22 00:00:00', freq='D'), Series([], dtype: float64))\n",
      "(Timestamp('2007-10-23 00:00:00', freq='D'), Series([], dtype: float64))\n",
      "(Timestamp('2007-10-24 00:00:00', freq='D'), Series([], dtype: float64))\n",
      "(Timestamp('2007-10-25 00:00:00', freq='D'), Series([], dtype: float64))\n",
      "(Timestamp('2007-10-26 00:00:00', freq='D'), Series([], dtype: float64))\n",
      "(Timestamp('2007-10-27 00:00:00', freq='D'), Series([], dtype: float64))\n",
      "(Timestamp('2007-10-28 00:00:00', freq='D'), Series([], dtype: float64))\n",
      "(Timestamp('2007-10-29 00:00:00', freq='D'), Series([], dtype: float64))\n",
      "(Timestamp('2007-10-30 00:00:00', freq='D'), Series([], dtype: float64))\n",
      "(Timestamp('2007-10-31 00:00:00', freq='D'), Series([], dtype: float64))\n",
      "(Timestamp('2007-11-01 00:00:00', freq='D'), Series([], dtype: float64))\n",
      "(Timestamp('2007-11-02 00:00:00', freq='D'), Series([], dtype: float64))\n",
      "(Timestamp('2007-11-03 00:00:00', freq='D'), Series([], dtype: float64))\n",
      "(Timestamp('2007-11-04 00:00:00', freq='D'), Series([], dtype: float64))\n",
      "(Timestamp('2007-11-05 00:00:00', freq='D'), Series([], dtype: float64))\n",
      "(Timestamp('2007-11-06 00:00:00', freq='D'), Series([], dtype: float64))\n",
      "(Timestamp('2007-11-07 00:00:00', freq='D'), Series([], dtype: float64))\n",
      "(Timestamp('2007-11-08 00:00:00', freq='D'), Series([], dtype: float64))\n",
      "(Timestamp('2007-11-09 00:00:00', freq='D'), Series([], dtype: float64))\n",
      "(Timestamp('2007-11-10 00:00:00', freq='D'), Series([], dtype: float64))\n",
      "(Timestamp('2007-11-11 00:00:00', freq='D'), Series([], dtype: float64))\n",
      "(Timestamp('2007-11-12 00:00:00', freq='D'), Series([], dtype: float64))\n",
      "(Timestamp('2007-11-13 00:00:00', freq='D'), Series([], dtype: float64))\n",
      "(Timestamp('2007-11-14 00:00:00', freq='D'), Series([], dtype: float64))\n",
      "(Timestamp('2007-11-15 00:00:00', freq='D'), Series([], dtype: float64))\n",
      "(Timestamp('2007-11-16 00:00:00', freq='D'), Series([], dtype: float64))\n",
      "(Timestamp('2007-11-17 00:00:00', freq='D'), Series([], dtype: float64))\n",
      "(Timestamp('2007-11-18 00:00:00', freq='D'), Series([], dtype: float64))\n",
      "(Timestamp('2007-11-19 00:00:00', freq='D'), Series([], dtype: float64))\n",
      "(Timestamp('2007-11-20 00:00:00', freq='D'), Series([], dtype: float64))\n",
      "(Timestamp('2007-11-21 00:00:00', freq='D'), Series([], dtype: float64))\n",
      "(Timestamp('2007-11-22 00:00:00', freq='D'), Series([], dtype: float64))\n",
      "(Timestamp('2007-11-23 00:00:00', freq='D'), Series([], dtype: float64))\n",
      "(Timestamp('2007-11-24 00:00:00', freq='D'), Series([], dtype: float64))\n",
      "(Timestamp('2007-11-25 00:00:00', freq='D'), Series([], dtype: float64))\n",
      "(Timestamp('2007-11-26 00:00:00', freq='D'), Series([], dtype: float64))\n",
      "(Timestamp('2007-11-27 00:00:00', freq='D'), Series([], dtype: float64))\n",
      "(Timestamp('2007-11-28 00:00:00', freq='D'), Series([], dtype: float64))\n",
      "(Timestamp('2007-11-29 00:00:00', freq='D'), Series([], dtype: float64))\n",
      "(Timestamp('2007-11-30 00:00:00', freq='D'), Series([], dtype: float64))\n",
      "(Timestamp('2007-12-01 00:00:00', freq='D'), Series([], dtype: float64))\n",
      "(Timestamp('2007-12-02 00:00:00', freq='D'), Series([], dtype: float64))\n",
      "(Timestamp('2007-12-03 00:00:00', freq='D'), Series([], dtype: float64))\n",
      "(Timestamp('2007-12-04 00:00:00', freq='D'), Series([], dtype: float64))\n",
      "(Timestamp('2007-12-05 00:00:00', freq='D'), Series([], dtype: float64))\n",
      "(Timestamp('2007-12-06 00:00:00', freq='D'), Series([], dtype: float64))\n",
      "(Timestamp('2007-12-07 00:00:00', freq='D'), Series([], dtype: float64))\n",
      "(Timestamp('2007-12-08 00:00:00', freq='D'), Series([], dtype: float64))\n",
      "(Timestamp('2007-12-09 00:00:00', freq='D'), Series([], dtype: float64))\n",
      "(Timestamp('2007-12-10 00:00:00', freq='D'), Series([], dtype: float64))\n",
      "(Timestamp('2007-12-11 00:00:00', freq='D'), Series([], dtype: float64))\n",
      "(Timestamp('2007-12-12 00:00:00', freq='D'), Series([], dtype: float64))\n",
      "(Timestamp('2007-12-13 00:00:00', freq='D'), Series([], dtype: float64))\n",
      "(Timestamp('2007-12-14 00:00:00', freq='D'), Series([], dtype: float64))\n",
      "(Timestamp('2007-12-15 00:00:00', freq='D'), Series([], dtype: float64))\n",
      "(Timestamp('2007-12-16 00:00:00', freq='D'), Series([], dtype: float64))\n",
      "(Timestamp('2007-12-17 00:00:00', freq='D'), Series([], dtype: float64))\n",
      "(Timestamp('2007-12-18 00:00:00', freq='D'), Series([], dtype: float64))\n",
      "(Timestamp('2007-12-19 00:00:00', freq='D'), Series([], dtype: float64))\n",
      "(Timestamp('2007-12-20 00:00:00', freq='D'), Series([], dtype: float64))\n",
      "(Timestamp('2007-12-21 00:00:00', freq='D'), Series([], dtype: float64))\n",
      "(Timestamp('2007-12-22 00:00:00', freq='D'), Series([], dtype: float64))\n",
      "(Timestamp('2007-12-23 00:00:00', freq='D'), Series([], dtype: float64))\n",
      "(Timestamp('2007-12-24 00:00:00', freq='D'), Series([], dtype: float64))\n",
      "(Timestamp('2007-12-25 00:00:00', freq='D'), Series([], dtype: float64))\n",
      "(Timestamp('2007-12-26 00:00:00', freq='D'), Series([], dtype: float64))\n",
      "(Timestamp('2007-12-27 00:00:00', freq='D'), Series([], dtype: float64))\n",
      "(Timestamp('2007-12-28 00:00:00', freq='D'), Series([], dtype: float64))\n",
      "(Timestamp('2007-12-29 00:00:00', freq='D'), Series([], dtype: float64))\n",
      "(Timestamp('2007-12-30 00:00:00', freq='D'), Series([], dtype: float64))\n",
      "(Timestamp('2007-12-31 00:00:00', freq='D'), Series([], dtype: float64))\n",
      "(Timestamp('2008-01-01 00:00:00', freq='D'), Series([], dtype: float64))\n",
      "(Timestamp('2008-01-02 00:00:00', freq='D'), Series([], dtype: float64))\n",
      "(Timestamp('2008-01-03 00:00:00', freq='D'), Series([], dtype: float64))\n",
      "(Timestamp('2008-01-04 00:00:00', freq='D'), Series([], dtype: float64))\n",
      "(Timestamp('2008-01-05 00:00:00', freq='D'), Series([], dtype: float64))\n",
      "(Timestamp('2008-01-06 00:00:00', freq='D'), Series([], dtype: float64))\n",
      "(Timestamp('2008-01-07 00:00:00', freq='D'), Series([], dtype: float64))\n",
      "(Timestamp('2008-01-08 00:00:00', freq='D'), Series([], dtype: float64))\n",
      "(Timestamp('2008-01-09 00:00:00', freq='D'), Series([], dtype: float64))\n",
      "(Timestamp('2008-01-10 00:00:00', freq='D'), Series([], dtype: float64))\n",
      "(Timestamp('2008-01-11 00:00:00', freq='D'), Series([], dtype: float64))\n",
      "(Timestamp('2008-01-12 00:00:00', freq='D'), Series([], dtype: float64))\n",
      "(Timestamp('2008-01-13 00:00:00', freq='D'), Series([], dtype: float64))\n",
      "(Timestamp('2008-01-14 00:00:00', freq='D'), Series([], dtype: float64))\n",
      "(Timestamp('2008-01-15 00:00:00', freq='D'), Series([], dtype: float64))\n",
      "(Timestamp('2008-01-16 00:00:00', freq='D'), Series([], dtype: float64))\n",
      "(Timestamp('2008-01-17 00:00:00', freq='D'), Series([], dtype: float64))\n",
      "(Timestamp('2008-01-18 00:00:00', freq='D'), Series([], dtype: float64))\n",
      "(Timestamp('2008-01-19 00:00:00', freq='D'), Series([], dtype: float64))\n",
      "(Timestamp('2008-01-20 00:00:00', freq='D'), Series([], dtype: float64))\n",
      "(Timestamp('2008-01-21 00:00:00', freq='D'), Series([], dtype: float64))\n",
      "(Timestamp('2008-01-22 00:00:00', freq='D'), Series([], dtype: float64))\n",
      "(Timestamp('2008-01-23 00:00:00', freq='D'), Series([], dtype: float64))\n",
      "(Timestamp('2008-01-24 00:00:00', freq='D'), Series([], dtype: float64))\n",
      "(Timestamp('2008-01-25 00:00:00', freq='D'), Series([], dtype: float64))\n",
      "(Timestamp('2008-01-26 00:00:00', freq='D'), Series([], dtype: float64))\n",
      "(Timestamp('2008-01-27 00:00:00', freq='D'), Series([], dtype: float64))\n",
      "(Timestamp('2008-01-28 00:00:00', freq='D'), Series([], dtype: float64))\n",
      "(Timestamp('2008-01-29 00:00:00', freq='D'), Series([], dtype: float64))\n",
      "(Timestamp('2008-01-30 00:00:00', freq='D'), Series([], dtype: float64))\n",
      "(Timestamp('2008-01-31 00:00:00', freq='D'), Series([], dtype: float64))\n",
      "(Timestamp('2008-02-01 00:00:00', freq='D'), Series([], dtype: float64))\n",
      "(Timestamp('2008-02-02 00:00:00', freq='D'), Series([], dtype: float64))\n",
      "(Timestamp('2008-02-03 00:00:00', freq='D'), Series([], dtype: float64))\n",
      "(Timestamp('2008-02-04 00:00:00', freq='D'), Series([], dtype: float64))\n",
      "(Timestamp('2008-02-05 00:00:00', freq='D'), Series([], dtype: float64))\n",
      "(Timestamp('2008-02-06 00:00:00', freq='D'), Series([], dtype: float64))\n",
      "(Timestamp('2008-02-07 00:00:00', freq='D'), Series([], dtype: float64))\n",
      "(Timestamp('2008-02-08 00:00:00', freq='D'), Series([], dtype: float64))\n",
      "(Timestamp('2008-02-09 00:00:00', freq='D'), Series([], dtype: float64))\n",
      "(Timestamp('2008-02-10 00:00:00', freq='D'), Series([], dtype: float64))\n",
      "(Timestamp('2008-02-11 00:00:00', freq='D'), Series([], dtype: float64))\n",
      "(Timestamp('2008-02-12 00:00:00', freq='D'), Series([], dtype: float64))\n",
      "(Timestamp('2008-02-13 00:00:00', freq='D'), Series([], dtype: float64))\n",
      "(Timestamp('2008-02-14 00:00:00', freq='D'), Series([], dtype: float64))\n",
      "(Timestamp('2008-02-15 00:00:00', freq='D'), Series([], dtype: float64))\n",
      "(Timestamp('2008-02-16 00:00:00', freq='D'), Series([], dtype: float64))\n",
      "(Timestamp('2008-02-17 00:00:00', freq='D'), Series([], dtype: float64))\n",
      "(Timestamp('2008-02-18 00:00:00', freq='D'), Series([], dtype: float64))\n",
      "(Timestamp('2008-02-19 00:00:00', freq='D'), Series([], dtype: float64))\n",
      "(Timestamp('2008-02-20 00:00:00', freq='D'), Series([], dtype: float64))\n",
      "(Timestamp('2008-02-21 00:00:00', freq='D'), Series([], dtype: float64))\n",
      "(Timestamp('2008-02-22 00:00:00', freq='D'), Series([], dtype: float64))\n",
      "(Timestamp('2008-02-23 00:00:00', freq='D'), Series([], dtype: float64))\n",
      "(Timestamp('2008-02-24 00:00:00', freq='D'), Series([], dtype: float64))\n",
      "(Timestamp('2008-02-25 00:00:00', freq='D'), Series([], dtype: float64))\n",
      "(Timestamp('2008-02-26 00:00:00', freq='D'), Series([], dtype: float64))\n",
      "(Timestamp('2008-02-27 00:00:00', freq='D'), Series([], dtype: float64))\n",
      "(Timestamp('2008-02-28 00:00:00', freq='D'), Series([], dtype: float64))\n",
      "(Timestamp('2008-02-29 00:00:00', freq='D'), Series([], dtype: float64))\n",
      "(Timestamp('2008-03-01 00:00:00', freq='D'), Series([], dtype: float64))\n",
      "(Timestamp('2008-03-02 00:00:00', freq='D'), Series([], dtype: float64))\n",
      "(Timestamp('2008-03-03 00:00:00', freq='D'), Series([], dtype: float64))\n",
      "(Timestamp('2008-03-04 00:00:00', freq='D'), Series([], dtype: float64))\n",
      "(Timestamp('2008-03-05 00:00:00', freq='D'), Series([], dtype: float64))\n",
      "(Timestamp('2008-03-06 00:00:00', freq='D'), Series([], dtype: float64))\n",
      "(Timestamp('2008-03-07 00:00:00', freq='D'), Series([], dtype: float64))\n",
      "(Timestamp('2008-03-08 00:00:00', freq='D'), Series([], dtype: float64))\n",
      "(Timestamp('2008-03-09 00:00:00', freq='D'), Series([], dtype: float64))\n",
      "(Timestamp('2008-03-10 00:00:00', freq='D'), Series([], dtype: float64))\n",
      "(Timestamp('2008-03-11 00:00:00', freq='D'), Series([], dtype: float64))\n",
      "(Timestamp('2008-03-12 00:00:00', freq='D'), Series([], dtype: float64))\n",
      "(Timestamp('2008-03-13 00:00:00', freq='D'), Series([], dtype: float64))\n",
      "(Timestamp('2008-03-14 00:00:00', freq='D'), Series([], dtype: float64))\n",
      "(Timestamp('2008-03-15 00:00:00', freq='D'), Series([], dtype: float64))\n",
      "(Timestamp('2008-03-16 00:00:00', freq='D'), Series([], dtype: float64))\n",
      "(Timestamp('2008-03-17 00:00:00', freq='D'), Series([], dtype: float64))\n",
      "(Timestamp('2008-03-18 00:00:00', freq='D'), Series([], dtype: float64))\n",
      "(Timestamp('2008-03-19 00:00:00', freq='D'), Series([], dtype: float64))\n",
      "(Timestamp('2008-03-20 00:00:00', freq='D'), Series([], dtype: float64))\n",
      "(Timestamp('2008-03-21 00:00:00', freq='D'), Series([], dtype: float64))\n",
      "(Timestamp('2008-03-22 00:00:00', freq='D'), Series([], dtype: float64))\n",
      "(Timestamp('2008-03-23 00:00:00', freq='D'), Series([], dtype: float64))\n",
      "(Timestamp('2008-03-24 00:00:00', freq='D'), Series([], dtype: float64))\n",
      "(Timestamp('2008-03-25 00:00:00', freq='D'), Series([], dtype: float64))\n",
      "(Timestamp('2008-03-26 00:00:00', freq='D'), Series([], dtype: float64))\n",
      "(Timestamp('2008-03-27 00:00:00', freq='D'), Series([], dtype: float64))\n",
      "(Timestamp('2008-03-28 00:00:00', freq='D'), Series([], dtype: float64))\n",
      "(Timestamp('2008-03-29 00:00:00', freq='D'), Series([], dtype: float64))\n",
      "(Timestamp('2008-03-30 00:00:00', freq='D'), Series([], dtype: float64))\n",
      "(Timestamp('2008-03-31 00:00:00', freq='D'), Series([], dtype: float64))\n",
      "(Timestamp('2008-04-01 00:00:00', freq='D'), Series([], dtype: float64))\n",
      "(Timestamp('2008-04-02 00:00:00', freq='D'), Series([], dtype: float64))\n",
      "(Timestamp('2008-04-03 00:00:00', freq='D'), Series([], dtype: float64))\n",
      "(Timestamp('2008-04-04 00:00:00', freq='D'), Series([], dtype: float64))\n",
      "(Timestamp('2008-04-05 00:00:00', freq='D'), Series([], dtype: float64))\n",
      "(Timestamp('2008-04-06 00:00:00', freq='D'), Series([], dtype: float64))\n",
      "(Timestamp('2008-04-07 00:00:00', freq='D'), Series([], dtype: float64))\n",
      "(Timestamp('2008-04-08 00:00:00', freq='D'), Series([], dtype: float64))\n",
      "(Timestamp('2008-04-09 00:00:00', freq='D'), Series([], dtype: float64))\n",
      "(Timestamp('2008-04-10 00:00:00', freq='D'), Series([], dtype: float64))\n",
      "(Timestamp('2008-04-11 00:00:00', freq='D'), Series([], dtype: float64))\n",
      "(Timestamp('2008-04-12 00:00:00', freq='D'), Series([], dtype: float64))\n",
      "(Timestamp('2008-04-13 00:00:00', freq='D'), Series([], dtype: float64))\n",
      "(Timestamp('2008-04-14 00:00:00', freq='D'), Series([], dtype: float64))\n",
      "(Timestamp('2008-04-15 00:00:00', freq='D'), Series([], dtype: float64))\n",
      "(Timestamp('2008-04-16 00:00:00', freq='D'), Series([], dtype: float64))\n",
      "(Timestamp('2008-04-17 00:00:00', freq='D'), Series([], dtype: float64))\n",
      "(Timestamp('2008-04-18 00:00:00', freq='D'), Series([], dtype: float64))\n",
      "(Timestamp('2008-04-19 00:00:00', freq='D'), Series([], dtype: float64))\n",
      "(Timestamp('2008-04-20 00:00:00', freq='D'), Series([], dtype: float64))\n",
      "(Timestamp('2008-04-21 00:00:00', freq='D'), Series([], dtype: float64))\n",
      "(Timestamp('2008-04-22 00:00:00', freq='D'), Series([], dtype: float64))\n",
      "(Timestamp('2008-04-23 00:00:00', freq='D'), Series([], dtype: float64))\n",
      "(Timestamp('2008-04-24 00:00:00', freq='D'), Series([], dtype: float64))\n",
      "(Timestamp('2008-04-25 00:00:00', freq='D'), Series([], dtype: float64))\n",
      "(Timestamp('2008-04-26 00:00:00', freq='D'), Series([], dtype: float64))\n",
      "(Timestamp('2008-04-27 00:00:00', freq='D'), Series([], dtype: float64))\n",
      "(Timestamp('2008-04-28 00:00:00', freq='D'), Series([], dtype: float64))\n",
      "(Timestamp('2008-04-29 00:00:00', freq='D'), Series([], dtype: float64))\n",
      "(Timestamp('2008-04-30 00:00:00', freq='D'), Series([], dtype: float64))\n",
      "(Timestamp('2008-05-01 00:00:00', freq='D'), Series([], dtype: float64))\n",
      "(Timestamp('2008-05-02 00:00:00', freq='D'), Series([], dtype: float64))\n",
      "(Timestamp('2008-05-03 00:00:00', freq='D'), Series([], dtype: float64))\n",
      "(Timestamp('2008-05-04 00:00:00', freq='D'), Series([], dtype: float64))\n",
      "(Timestamp('2008-05-05 00:00:00', freq='D'), Series([], dtype: float64))\n",
      "(Timestamp('2008-05-06 00:00:00', freq='D'), Series([], dtype: float64))\n"
     ]
    },
    {
     "name": "stdout",
     "output_type": "stream",
     "text": [
      "(Timestamp('2008-05-07 00:00:00', freq='D'), Series([], dtype: float64))\n",
      "(Timestamp('2008-05-08 00:00:00', freq='D'), Series([], dtype: float64))\n",
      "(Timestamp('2008-05-09 00:00:00', freq='D'), Series([], dtype: float64))\n",
      "(Timestamp('2008-05-10 00:00:00', freq='D'), Series([], dtype: float64))\n",
      "(Timestamp('2008-05-11 00:00:00', freq='D'), Series([], dtype: float64))\n",
      "(Timestamp('2008-05-12 00:00:00', freq='D'), Series([], dtype: float64))\n",
      "(Timestamp('2008-05-13 00:00:00', freq='D'), Series([], dtype: float64))\n",
      "(Timestamp('2008-05-14 00:00:00', freq='D'), Series([], dtype: float64))\n",
      "(Timestamp('2008-05-15 00:00:00', freq='D'), Series([], dtype: float64))\n",
      "(Timestamp('2008-05-16 00:00:00', freq='D'), Series([], dtype: float64))\n",
      "(Timestamp('2008-05-17 00:00:00', freq='D'), Series([], dtype: float64))\n",
      "(Timestamp('2008-05-18 00:00:00', freq='D'), Series([], dtype: float64))\n",
      "(Timestamp('2008-05-19 00:00:00', freq='D'), Series([], dtype: float64))\n",
      "(Timestamp('2008-05-20 00:00:00', freq='D'), Series([], dtype: float64))\n",
      "(Timestamp('2008-05-21 00:00:00', freq='D'), Series([], dtype: float64))\n",
      "(Timestamp('2008-05-22 00:00:00', freq='D'), Series([], dtype: float64))\n",
      "(Timestamp('2008-05-23 00:00:00', freq='D'), Series([], dtype: float64))\n",
      "(Timestamp('2008-05-24 00:00:00', freq='D'), Series([], dtype: float64))\n",
      "(Timestamp('2008-05-25 00:00:00', freq='D'), Series([], dtype: float64))\n",
      "(Timestamp('2008-05-26 00:00:00', freq='D'), Series([], dtype: float64))\n",
      "(Timestamp('2008-05-27 00:00:00', freq='D'), Series([], dtype: float64))\n",
      "(Timestamp('2008-05-28 00:00:00', freq='D'), Series([], dtype: float64))\n",
      "(Timestamp('2008-05-29 00:00:00', freq='D'), Series([], dtype: float64))\n",
      "(Timestamp('2008-05-30 00:00:00', freq='D'), Series([], dtype: float64))\n",
      "(Timestamp('2008-05-31 00:00:00', freq='D'), Series([], dtype: float64))\n",
      "(Timestamp('2008-06-01 00:00:00', freq='D'), Series([], dtype: float64))\n",
      "(Timestamp('2008-06-02 00:00:00', freq='D'), Series([], dtype: float64))\n",
      "(Timestamp('2008-06-03 00:00:00', freq='D'), Series([], dtype: float64))\n",
      "(Timestamp('2008-06-04 00:00:00', freq='D'), Series([], dtype: float64))\n",
      "(Timestamp('2008-06-05 00:00:00', freq='D'), Series([], dtype: float64))\n",
      "(Timestamp('2008-06-06 00:00:00', freq='D'), Series([], dtype: float64))\n",
      "(Timestamp('2008-06-07 00:00:00', freq='D'), Series([], dtype: float64))\n",
      "(Timestamp('2008-06-08 00:00:00', freq='D'), Series([], dtype: float64))\n",
      "(Timestamp('2008-06-09 00:00:00', freq='D'), Series([], dtype: float64))\n",
      "(Timestamp('2008-06-10 00:00:00', freq='D'), Series([], dtype: float64))\n",
      "(Timestamp('2008-06-11 00:00:00', freq='D'), Series([], dtype: float64))\n",
      "(Timestamp('2008-06-12 00:00:00', freq='D'), Series([], dtype: float64))\n",
      "(Timestamp('2008-06-13 00:00:00', freq='D'), Series([], dtype: float64))\n",
      "(Timestamp('2008-06-14 00:00:00', freq='D'), Series([], dtype: float64))\n",
      "(Timestamp('2008-06-15 00:00:00', freq='D'), Series([], dtype: float64))\n",
      "(Timestamp('2008-06-16 00:00:00', freq='D'), Series([], dtype: float64))\n",
      "(Timestamp('2008-06-17 00:00:00', freq='D'), Series([], dtype: float64))\n",
      "(Timestamp('2008-06-18 00:00:00', freq='D'), Series([], dtype: float64))\n",
      "(Timestamp('2008-06-19 00:00:00', freq='D'), Series([], dtype: float64))\n",
      "(Timestamp('2008-06-20 00:00:00', freq='D'), Series([], dtype: float64))\n",
      "(Timestamp('2008-06-21 00:00:00', freq='D'), Series([], dtype: float64))\n",
      "(Timestamp('2008-06-22 00:00:00', freq='D'), Series([], dtype: float64))\n",
      "(Timestamp('2008-06-23 00:00:00', freq='D'), Series([], dtype: float64))\n",
      "(Timestamp('2008-06-24 00:00:00', freq='D'), Series([], dtype: float64))\n",
      "(Timestamp('2008-06-25 00:00:00', freq='D'), Series([], dtype: float64))\n",
      "(Timestamp('2008-06-26 00:00:00', freq='D'), Series([], dtype: float64))\n",
      "(Timestamp('2008-06-27 00:00:00', freq='D'), Series([], dtype: float64))\n",
      "(Timestamp('2008-06-28 00:00:00', freq='D'), Series([], dtype: float64))\n",
      "(Timestamp('2008-06-29 00:00:00', freq='D'), Series([], dtype: float64))\n",
      "(Timestamp('2008-06-30 00:00:00', freq='D'), Series([], dtype: float64))\n",
      "(Timestamp('2008-07-01 00:00:00', freq='D'), Series([], dtype: float64))\n",
      "(Timestamp('2008-07-02 00:00:00', freq='D'), Series([], dtype: float64))\n",
      "(Timestamp('2008-07-03 00:00:00', freq='D'), Series([], dtype: float64))\n",
      "(Timestamp('2008-07-04 00:00:00', freq='D'), Series([], dtype: float64))\n",
      "(Timestamp('2008-07-05 00:00:00', freq='D'), Series([], dtype: float64))\n",
      "(Timestamp('2008-07-06 00:00:00', freq='D'), Series([], dtype: float64))\n",
      "(Timestamp('2008-07-07 00:00:00', freq='D'), Series([], dtype: float64))\n",
      "(Timestamp('2008-07-08 00:00:00', freq='D'), Series([], dtype: float64))\n",
      "(Timestamp('2008-07-09 00:00:00', freq='D'), Series([], dtype: float64))\n",
      "(Timestamp('2008-07-10 00:00:00', freq='D'), Series([], dtype: float64))\n",
      "(Timestamp('2008-07-11 00:00:00', freq='D'), Series([], dtype: float64))\n",
      "(Timestamp('2008-07-12 00:00:00', freq='D'), Series([], dtype: float64))\n",
      "(Timestamp('2008-07-13 00:00:00', freq='D'), Series([], dtype: float64))\n",
      "(Timestamp('2008-07-14 00:00:00', freq='D'), Series([], dtype: float64))\n",
      "(Timestamp('2008-07-15 00:00:00', freq='D'), Series([], dtype: float64))\n",
      "(Timestamp('2008-07-16 00:00:00', freq='D'), Series([], dtype: float64))\n",
      "(Timestamp('2008-07-17 00:00:00', freq='D'), Series([], dtype: float64))\n",
      "(Timestamp('2008-07-18 00:00:00', freq='D'), Series([], dtype: float64))\n",
      "(Timestamp('2008-07-19 00:00:00', freq='D'), Series([], dtype: float64))\n",
      "(Timestamp('2008-07-20 00:00:00', freq='D'), Series([], dtype: float64))\n",
      "(Timestamp('2008-07-21 00:00:00', freq='D'), Series([], dtype: float64))\n",
      "(Timestamp('2008-07-22 00:00:00', freq='D'), Series([], dtype: float64))\n",
      "(Timestamp('2008-07-23 00:00:00', freq='D'), Series([], dtype: float64))\n",
      "(Timestamp('2008-07-24 00:00:00', freq='D'), Series([], dtype: float64))\n",
      "(Timestamp('2008-07-25 00:00:00', freq='D'), Series([], dtype: float64))\n",
      "(Timestamp('2008-07-26 00:00:00', freq='D'), Series([], dtype: float64))\n",
      "(Timestamp('2008-07-27 00:00:00', freq='D'), Series([], dtype: float64))\n",
      "(Timestamp('2008-07-28 00:00:00', freq='D'), Series([], dtype: float64))\n",
      "(Timestamp('2008-07-29 00:00:00', freq='D'), Series([], dtype: float64))\n",
      "(Timestamp('2008-07-30 00:00:00', freq='D'), Series([], dtype: float64))\n",
      "(Timestamp('2008-07-31 00:00:00', freq='D'), Series([], dtype: float64))\n",
      "(Timestamp('2008-08-01 00:00:00', freq='D'), Series([], dtype: float64))\n",
      "(Timestamp('2008-08-02 00:00:00', freq='D'), Series([], dtype: float64))\n",
      "(Timestamp('2008-08-03 00:00:00', freq='D'), Series([], dtype: float64))\n",
      "(Timestamp('2008-08-04 00:00:00', freq='D'), Series([], dtype: float64))\n",
      "(Timestamp('2008-08-05 00:00:00', freq='D'), Series([], dtype: float64))\n",
      "(Timestamp('2008-08-06 00:00:00', freq='D'), Series([], dtype: float64))\n",
      "(Timestamp('2008-08-07 00:00:00', freq='D'), Series([], dtype: float64))\n",
      "(Timestamp('2008-08-08 00:00:00', freq='D'), Series([], dtype: float64))\n",
      "(Timestamp('2008-08-09 00:00:00', freq='D'), Series([], dtype: float64))\n",
      "(Timestamp('2008-08-10 00:00:00', freq='D'), Series([], dtype: float64))\n",
      "(Timestamp('2008-08-11 00:00:00', freq='D'), Series([], dtype: float64))\n",
      "(Timestamp('2008-08-12 00:00:00', freq='D'), Series([], dtype: float64))\n",
      "(Timestamp('2008-08-13 00:00:00', freq='D'), Series([], dtype: float64))\n",
      "(Timestamp('2008-08-14 00:00:00', freq='D'), Series([], dtype: float64))\n",
      "(Timestamp('2008-08-15 00:00:00', freq='D'), Series([], dtype: float64))\n",
      "(Timestamp('2008-08-16 00:00:00', freq='D'), Series([], dtype: float64))\n",
      "(Timestamp('2008-08-17 00:00:00', freq='D'), Series([], dtype: float64))\n",
      "(Timestamp('2008-08-18 00:00:00', freq='D'), Series([], dtype: float64))\n",
      "(Timestamp('2008-08-19 00:00:00', freq='D'), Series([], dtype: float64))\n",
      "(Timestamp('2008-08-20 00:00:00', freq='D'), Series([], dtype: float64))\n",
      "(Timestamp('2008-08-21 00:00:00', freq='D'), Series([], dtype: float64))\n",
      "(Timestamp('2008-08-22 00:00:00', freq='D'), Series([], dtype: float64))\n",
      "(Timestamp('2008-08-23 00:00:00', freq='D'), Series([], dtype: float64))\n",
      "(Timestamp('2008-08-24 00:00:00', freq='D'), Series([], dtype: float64))\n",
      "(Timestamp('2008-08-25 00:00:00', freq='D'), Series([], dtype: float64))\n",
      "(Timestamp('2008-08-26 00:00:00', freq='D'), Series([], dtype: float64))\n",
      "(Timestamp('2008-08-27 00:00:00', freq='D'), Series([], dtype: float64))\n",
      "(Timestamp('2008-08-28 00:00:00', freq='D'), Series([], dtype: float64))\n",
      "(Timestamp('2008-08-29 00:00:00', freq='D'), Series([], dtype: float64))\n",
      "(Timestamp('2008-08-30 00:00:00', freq='D'), Series([], dtype: float64))\n",
      "(Timestamp('2008-08-31 00:00:00', freq='D'), Series([], dtype: float64))\n",
      "(Timestamp('2008-09-01 00:00:00', freq='D'), Series([], dtype: float64))\n",
      "(Timestamp('2008-09-02 00:00:00', freq='D'), Series([], dtype: float64))\n",
      "(Timestamp('2008-09-03 00:00:00', freq='D'), Series([], dtype: float64))\n",
      "(Timestamp('2008-09-04 00:00:00', freq='D'), Series([], dtype: float64))\n",
      "(Timestamp('2008-09-05 00:00:00', freq='D'), Series([], dtype: float64))\n",
      "(Timestamp('2008-09-06 00:00:00', freq='D'), Series([], dtype: float64))\n",
      "(Timestamp('2008-09-07 00:00:00', freq='D'), Series([], dtype: float64))\n",
      "(Timestamp('2008-09-08 00:00:00', freq='D'), Series([], dtype: float64))\n",
      "(Timestamp('2008-09-09 00:00:00', freq='D'), Series([], dtype: float64))\n",
      "(Timestamp('2008-09-10 00:00:00', freq='D'), Series([], dtype: float64))\n",
      "(Timestamp('2008-09-11 00:00:00', freq='D'), Series([], dtype: float64))\n",
      "(Timestamp('2008-09-12 00:00:00', freq='D'), Series([], dtype: float64))\n",
      "(Timestamp('2008-09-13 00:00:00', freq='D'), Series([], dtype: float64))\n",
      "(Timestamp('2008-09-14 00:00:00', freq='D'), Series([], dtype: float64))\n",
      "(Timestamp('2008-09-15 00:00:00', freq='D'), Series([], dtype: float64))\n",
      "(Timestamp('2008-09-16 00:00:00', freq='D'), Series([], dtype: float64))\n",
      "(Timestamp('2008-09-17 00:00:00', freq='D'), Series([], dtype: float64))\n",
      "(Timestamp('2008-09-18 00:00:00', freq='D'), Series([], dtype: float64))\n",
      "(Timestamp('2008-09-19 00:00:00', freq='D'), Series([], dtype: float64))\n",
      "(Timestamp('2008-09-20 00:00:00', freq='D'), Series([], dtype: float64))\n",
      "(Timestamp('2008-09-21 00:00:00', freq='D'), Series([], dtype: float64))\n",
      "(Timestamp('2008-09-22 00:00:00', freq='D'), Series([], dtype: float64))\n",
      "(Timestamp('2008-09-23 00:00:00', freq='D'), Series([], dtype: float64))\n",
      "(Timestamp('2008-09-24 00:00:00', freq='D'), Series([], dtype: float64))\n",
      "(Timestamp('2008-09-25 00:00:00', freq='D'), Series([], dtype: float64))\n",
      "(Timestamp('2008-09-26 00:00:00', freq='D'), Series([], dtype: float64))\n",
      "(Timestamp('2008-09-27 00:00:00', freq='D'), Series([], dtype: float64))\n",
      "(Timestamp('2008-09-28 00:00:00', freq='D'), Series([], dtype: float64))\n",
      "(Timestamp('2008-09-29 00:00:00', freq='D'), Series([], dtype: float64))\n",
      "(Timestamp('2008-09-30 00:00:00', freq='D'), Series([], dtype: float64))\n",
      "(Timestamp('2008-10-01 00:00:00', freq='D'), Series([], dtype: float64))\n",
      "(Timestamp('2008-10-02 00:00:00', freq='D'), Series([], dtype: float64))\n",
      "(Timestamp('2008-10-03 00:00:00', freq='D'), Series([], dtype: float64))\n",
      "(Timestamp('2008-10-04 00:00:00', freq='D'), Series([], dtype: float64))\n",
      "(Timestamp('2008-10-05 00:00:00', freq='D'), Series([], dtype: float64))\n",
      "(Timestamp('2008-10-06 00:00:00', freq='D'), Series([], dtype: float64))\n",
      "(Timestamp('2008-10-07 00:00:00', freq='D'), Series([], dtype: float64))\n",
      "(Timestamp('2008-10-08 00:00:00', freq='D'), Series([], dtype: float64))\n",
      "(Timestamp('2008-10-09 00:00:00', freq='D'), Series([], dtype: float64))\n",
      "(Timestamp('2008-10-10 00:00:00', freq='D'), Series([], dtype: float64))\n",
      "(Timestamp('2008-10-11 00:00:00', freq='D'), Series([], dtype: float64))\n",
      "(Timestamp('2008-10-12 00:00:00', freq='D'), Series([], dtype: float64))\n",
      "(Timestamp('2008-10-13 00:00:00', freq='D'), Series([], dtype: float64))\n",
      "(Timestamp('2008-10-14 00:00:00', freq='D'), Series([], dtype: float64))\n",
      "(Timestamp('2008-10-15 00:00:00', freq='D'), Series([], dtype: float64))\n",
      "(Timestamp('2008-10-16 00:00:00', freq='D'), Series([], dtype: float64))\n",
      "(Timestamp('2008-10-17 00:00:00', freq='D'), Series([], dtype: float64))\n",
      "(Timestamp('2008-10-18 00:00:00', freq='D'), Series([], dtype: float64))\n",
      "(Timestamp('2008-10-19 00:00:00', freq='D'), Series([], dtype: float64))\n",
      "(Timestamp('2008-10-20 00:00:00', freq='D'), Series([], dtype: float64))\n",
      "(Timestamp('2008-10-21 00:00:00', freq='D'), Series([], dtype: float64))\n",
      "(Timestamp('2008-10-22 00:00:00', freq='D'), Series([], dtype: float64))\n",
      "(Timestamp('2008-10-23 00:00:00', freq='D'), Series([], dtype: float64))\n",
      "(Timestamp('2008-10-24 00:00:00', freq='D'), Series([], dtype: float64))\n",
      "(Timestamp('2008-10-25 00:00:00', freq='D'), Series([], dtype: float64))\n",
      "(Timestamp('2008-10-26 00:00:00', freq='D'), Series([], dtype: float64))\n",
      "(Timestamp('2008-10-27 00:00:00', freq='D'), Series([], dtype: float64))\n",
      "(Timestamp('2008-10-28 00:00:00', freq='D'), Series([], dtype: float64))\n",
      "(Timestamp('2008-10-29 00:00:00', freq='D'), Series([], dtype: float64))\n",
      "(Timestamp('2008-10-30 00:00:00', freq='D'), Series([], dtype: float64))\n",
      "(Timestamp('2008-10-31 00:00:00', freq='D'), Series([], dtype: float64))\n",
      "(Timestamp('2008-11-01 00:00:00', freq='D'), Series([], dtype: float64))\n",
      "(Timestamp('2008-11-02 00:00:00', freq='D'), Series([], dtype: float64))\n",
      "(Timestamp('2008-11-03 00:00:00', freq='D'), Series([], dtype: float64))\n",
      "(Timestamp('2008-11-04 00:00:00', freq='D'), Series([], dtype: float64))\n",
      "(Timestamp('2008-11-05 00:00:00', freq='D'), Series([], dtype: float64))\n",
      "(Timestamp('2008-11-06 00:00:00', freq='D'), Series([], dtype: float64))\n",
      "(Timestamp('2008-11-07 00:00:00', freq='D'), Series([], dtype: float64))\n",
      "(Timestamp('2008-11-08 00:00:00', freq='D'), Series([], dtype: float64))\n",
      "(Timestamp('2008-11-09 00:00:00', freq='D'), Series([], dtype: float64))\n",
      "(Timestamp('2008-11-10 00:00:00', freq='D'), Series([], dtype: float64))\n",
      "(Timestamp('2008-11-11 00:00:00', freq='D'), Series([], dtype: float64))\n",
      "(Timestamp('2008-11-12 00:00:00', freq='D'), Series([], dtype: float64))\n",
      "(Timestamp('2008-11-13 00:00:00', freq='D'), Series([], dtype: float64))\n",
      "(Timestamp('2008-11-14 00:00:00', freq='D'), Series([], dtype: float64))\n",
      "(Timestamp('2008-11-15 00:00:00', freq='D'), Series([], dtype: float64))\n",
      "(Timestamp('2008-11-16 00:00:00', freq='D'), Series([], dtype: float64))\n",
      "(Timestamp('2008-11-17 00:00:00', freq='D'), Series([], dtype: float64))\n",
      "(Timestamp('2008-11-18 00:00:00', freq='D'), Series([], dtype: float64))\n",
      "(Timestamp('2008-11-19 00:00:00', freq='D'), Series([], dtype: float64))\n",
      "(Timestamp('2008-11-20 00:00:00', freq='D'), Series([], dtype: float64))\n",
      "(Timestamp('2008-11-21 00:00:00', freq='D'), Series([], dtype: float64))\n",
      "(Timestamp('2008-11-22 00:00:00', freq='D'), Series([], dtype: float64))\n",
      "(Timestamp('2008-11-23 00:00:00', freq='D'), Series([], dtype: float64))\n",
      "(Timestamp('2008-11-24 00:00:00', freq='D'), Series([], dtype: float64))\n",
      "(Timestamp('2008-11-25 00:00:00', freq='D'), Series([], dtype: float64))\n",
      "(Timestamp('2008-11-26 00:00:00', freq='D'), Series([], dtype: float64))\n",
      "(Timestamp('2008-11-27 00:00:00', freq='D'), Series([], dtype: float64))\n",
      "(Timestamp('2008-11-28 00:00:00', freq='D'), Series([], dtype: float64))\n",
      "(Timestamp('2008-11-29 00:00:00', freq='D'), Series([], dtype: float64))\n",
      "(Timestamp('2008-11-30 00:00:00', freq='D'), Series([], dtype: float64))\n",
      "(Timestamp('2008-12-01 00:00:00', freq='D'), Series([], dtype: float64))\n",
      "(Timestamp('2008-12-02 00:00:00', freq='D'), Series([], dtype: float64))\n",
      "(Timestamp('2008-12-03 00:00:00', freq='D'), Series([], dtype: float64))\n",
      "(Timestamp('2008-12-04 00:00:00', freq='D'), Series([], dtype: float64))\n",
      "(Timestamp('2008-12-05 00:00:00', freq='D'), Series([], dtype: float64))\n",
      "(Timestamp('2008-12-06 00:00:00', freq='D'), Series([], dtype: float64))\n",
      "(Timestamp('2008-12-07 00:00:00', freq='D'), Series([], dtype: float64))\n",
      "(Timestamp('2008-12-08 00:00:00', freq='D'), Series([], dtype: float64))\n",
      "(Timestamp('2008-12-09 00:00:00', freq='D'), Series([], dtype: float64))\n",
      "(Timestamp('2008-12-10 00:00:00', freq='D'), Series([], dtype: float64))\n",
      "(Timestamp('2008-12-11 00:00:00', freq='D'), Series([], dtype: float64))\n",
      "(Timestamp('2008-12-12 00:00:00', freq='D'), Series([], dtype: float64))\n",
      "(Timestamp('2008-12-13 00:00:00', freq='D'), Series([], dtype: float64))\n",
      "(Timestamp('2008-12-14 00:00:00', freq='D'), Series([], dtype: float64))\n",
      "(Timestamp('2008-12-15 00:00:00', freq='D'), Series([], dtype: float64))\n",
      "(Timestamp('2008-12-16 00:00:00', freq='D'), Series([], dtype: float64))\n",
      "(Timestamp('2008-12-17 00:00:00', freq='D'), Series([], dtype: float64))\n",
      "(Timestamp('2008-12-18 00:00:00', freq='D'), Series([], dtype: float64))\n",
      "(Timestamp('2008-12-19 00:00:00', freq='D'), Series([], dtype: float64))\n",
      "(Timestamp('2008-12-20 00:00:00', freq='D'), Series([], dtype: float64))\n",
      "(Timestamp('2008-12-21 00:00:00', freq='D'), Series([], dtype: float64))\n",
      "(Timestamp('2008-12-22 00:00:00', freq='D'), Series([], dtype: float64))\n",
      "(Timestamp('2008-12-23 00:00:00', freq='D'), Series([], dtype: float64))\n",
      "(Timestamp('2008-12-24 00:00:00', freq='D'), Series([], dtype: float64))\n",
      "(Timestamp('2008-12-25 00:00:00', freq='D'), Series([], dtype: float64))\n",
      "(Timestamp('2008-12-26 00:00:00', freq='D'), Series([], dtype: float64))\n",
      "(Timestamp('2008-12-27 00:00:00', freq='D'), Series([], dtype: float64))\n",
      "(Timestamp('2008-12-28 00:00:00', freq='D'), Series([], dtype: float64))\n",
      "(Timestamp('2008-12-29 00:00:00', freq='D'), Series([], dtype: float64))\n",
      "(Timestamp('2008-12-30 00:00:00', freq='D'), Series([], dtype: float64))\n",
      "(Timestamp('2008-12-31 00:00:00', freq='D'), Series([], dtype: float64))\n",
      "(Timestamp('2009-01-01 00:00:00', freq='D'), Series([], dtype: float64))\n",
      "(Timestamp('2009-01-02 00:00:00', freq='D'), Series([], dtype: float64))\n",
      "(Timestamp('2009-01-03 00:00:00', freq='D'), Series([], dtype: float64))\n",
      "(Timestamp('2009-01-04 00:00:00', freq='D'), Series([], dtype: float64))\n",
      "(Timestamp('2009-01-05 00:00:00', freq='D'), Series([], dtype: float64))\n",
      "(Timestamp('2009-01-06 00:00:00', freq='D'), Series([], dtype: float64))\n",
      "(Timestamp('2009-01-07 00:00:00', freq='D'), Series([], dtype: float64))\n",
      "(Timestamp('2009-01-08 00:00:00', freq='D'), Series([], dtype: float64))\n",
      "(Timestamp('2009-01-09 00:00:00', freq='D'), Series([], dtype: float64))\n",
      "(Timestamp('2009-01-10 00:00:00', freq='D'), Series([], dtype: float64))\n",
      "(Timestamp('2009-01-11 00:00:00', freq='D'), Series([], dtype: float64))\n",
      "(Timestamp('2009-01-12 00:00:00', freq='D'), Series([], dtype: float64))\n",
      "(Timestamp('2009-01-13 00:00:00', freq='D'), Series([], dtype: float64))\n",
      "(Timestamp('2009-01-14 00:00:00', freq='D'), Series([], dtype: float64))\n",
      "(Timestamp('2009-01-15 00:00:00', freq='D'), Series([], dtype: float64))\n",
      "(Timestamp('2009-01-16 00:00:00', freq='D'), Series([], dtype: float64))\n",
      "(Timestamp('2009-01-17 00:00:00', freq='D'), Series([], dtype: float64))\n",
      "(Timestamp('2009-01-18 00:00:00', freq='D'), Series([], dtype: float64))\n",
      "(Timestamp('2009-01-19 00:00:00', freq='D'), Series([], dtype: float64))\n",
      "(Timestamp('2009-01-20 00:00:00', freq='D'), Series([], dtype: float64))\n",
      "(Timestamp('2009-01-21 00:00:00', freq='D'), Series([], dtype: float64))\n",
      "(Timestamp('2009-01-22 00:00:00', freq='D'), Series([], dtype: float64))\n",
      "(Timestamp('2009-01-23 00:00:00', freq='D'), Series([], dtype: float64))\n",
      "(Timestamp('2009-01-24 00:00:00', freq='D'), Series([], dtype: float64))\n",
      "(Timestamp('2009-01-25 00:00:00', freq='D'), Series([], dtype: float64))\n",
      "(Timestamp('2009-01-26 00:00:00', freq='D'), Series([], dtype: float64))\n",
      "(Timestamp('2009-01-27 00:00:00', freq='D'), Series([], dtype: float64))\n",
      "(Timestamp('2009-01-28 00:00:00', freq='D'), Series([], dtype: float64))\n",
      "(Timestamp('2009-01-29 00:00:00', freq='D'), Series([], dtype: float64))\n",
      "(Timestamp('2009-01-30 00:00:00', freq='D'), Series([], dtype: float64))\n",
      "(Timestamp('2009-01-31 00:00:00', freq='D'), Series([], dtype: float64))\n",
      "(Timestamp('2009-02-01 00:00:00', freq='D'), Series([], dtype: float64))\n",
      "(Timestamp('2009-02-02 00:00:00', freq='D'), Series([], dtype: float64))\n",
      "(Timestamp('2009-02-03 00:00:00', freq='D'), Series([], dtype: float64))\n",
      "(Timestamp('2009-02-04 00:00:00', freq='D'), Series([], dtype: float64))\n",
      "(Timestamp('2009-02-05 00:00:00', freq='D'), Series([], dtype: float64))\n",
      "(Timestamp('2009-02-06 00:00:00', freq='D'), Series([], dtype: float64))\n",
      "(Timestamp('2009-02-07 00:00:00', freq='D'), Series([], dtype: float64))\n",
      "(Timestamp('2009-02-08 00:00:00', freq='D'), Series([], dtype: float64))\n",
      "(Timestamp('2009-02-09 00:00:00', freq='D'), Series([], dtype: float64))\n",
      "(Timestamp('2009-02-10 00:00:00', freq='D'), Series([], dtype: float64))\n",
      "(Timestamp('2009-02-11 00:00:00', freq='D'), Series([], dtype: float64))\n",
      "(Timestamp('2009-02-12 00:00:00', freq='D'), Series([], dtype: float64))\n",
      "(Timestamp('2009-02-13 00:00:00', freq='D'), Series([], dtype: float64))\n",
      "(Timestamp('2009-02-14 00:00:00', freq='D'), Series([], dtype: float64))\n",
      "(Timestamp('2009-02-15 00:00:00', freq='D'), Series([], dtype: float64))\n",
      "(Timestamp('2009-02-16 00:00:00', freq='D'), Series([], dtype: float64))\n",
      "(Timestamp('2009-02-17 00:00:00', freq='D'), Series([], dtype: float64))\n",
      "(Timestamp('2009-02-18 00:00:00', freq='D'), Series([], dtype: float64))\n",
      "(Timestamp('2009-02-19 00:00:00', freq='D'), Series([], dtype: float64))\n",
      "(Timestamp('2009-02-20 00:00:00', freq='D'), Series([], dtype: float64))\n",
      "(Timestamp('2009-02-21 00:00:00', freq='D'), Series([], dtype: float64))\n",
      "(Timestamp('2009-02-22 00:00:00', freq='D'), Series([], dtype: float64))\n",
      "(Timestamp('2009-02-23 00:00:00', freq='D'), Series([], dtype: float64))\n",
      "(Timestamp('2009-02-24 00:00:00', freq='D'), Series([], dtype: float64))\n",
      "(Timestamp('2009-02-25 00:00:00', freq='D'), Series([], dtype: float64))\n",
      "(Timestamp('2009-02-26 00:00:00', freq='D'), Series([], dtype: float64))\n",
      "(Timestamp('2009-02-27 00:00:00', freq='D'), Series([], dtype: float64))\n",
      "(Timestamp('2009-02-28 00:00:00', freq='D'), Series([], dtype: float64))\n",
      "(Timestamp('2009-03-01 00:00:00', freq='D'), Series([], dtype: float64))\n",
      "(Timestamp('2009-03-02 00:00:00', freq='D'), Series([], dtype: float64))\n",
      "(Timestamp('2009-03-03 00:00:00', freq='D'), Series([], dtype: float64))\n",
      "(Timestamp('2009-03-04 00:00:00', freq='D'), Series([], dtype: float64))\n",
      "(Timestamp('2009-03-05 00:00:00', freq='D'), Series([], dtype: float64))\n",
      "(Timestamp('2009-03-06 00:00:00', freq='D'), Series([], dtype: float64))\n",
      "(Timestamp('2009-03-07 00:00:00', freq='D'), Series([], dtype: float64))\n",
      "(Timestamp('2009-03-08 00:00:00', freq='D'), Series([], dtype: float64))\n",
      "(Timestamp('2009-03-09 00:00:00', freq='D'), Series([], dtype: float64))\n",
      "(Timestamp('2009-03-10 00:00:00', freq='D'), Series([], dtype: float64))\n",
      "(Timestamp('2009-03-11 00:00:00', freq='D'), Series([], dtype: float64))\n",
      "(Timestamp('2009-03-12 00:00:00', freq='D'), Series([], dtype: float64))\n",
      "(Timestamp('2009-03-13 00:00:00', freq='D'), Series([], dtype: float64))\n",
      "(Timestamp('2009-03-14 00:00:00', freq='D'), Series([], dtype: float64))\n",
      "(Timestamp('2009-03-15 00:00:00', freq='D'), Series([], dtype: float64))\n",
      "(Timestamp('2009-03-16 00:00:00', freq='D'), Series([], dtype: float64))\n",
      "(Timestamp('2009-03-17 00:00:00', freq='D'), Series([], dtype: float64))\n",
      "(Timestamp('2009-03-18 00:00:00', freq='D'), Series([], dtype: float64))\n",
      "(Timestamp('2009-03-19 00:00:00', freq='D'), Series([], dtype: float64))\n",
      "(Timestamp('2009-03-20 00:00:00', freq='D'), Series([], dtype: float64))\n",
      "(Timestamp('2009-03-21 00:00:00', freq='D'), Series([], dtype: float64))\n",
      "(Timestamp('2009-03-22 00:00:00', freq='D'), Series([], dtype: float64))\n",
      "(Timestamp('2009-03-23 00:00:00', freq='D'), Series([], dtype: float64))\n",
      "(Timestamp('2009-03-24 00:00:00', freq='D'), Series([], dtype: float64))\n",
      "(Timestamp('2009-03-25 00:00:00', freq='D'), Series([], dtype: float64))\n",
      "(Timestamp('2009-03-26 00:00:00', freq='D'), Series([], dtype: float64))\n",
      "(Timestamp('2009-03-27 00:00:00', freq='D'), Series([], dtype: float64))\n",
      "(Timestamp('2009-03-28 00:00:00', freq='D'), Series([], dtype: float64))\n",
      "(Timestamp('2009-03-29 00:00:00', freq='D'), Series([], dtype: float64))\n",
      "(Timestamp('2009-03-30 00:00:00', freq='D'), Series([], dtype: float64))\n",
      "(Timestamp('2009-03-31 00:00:00', freq='D'), Series([], dtype: float64))\n",
      "(Timestamp('2009-04-01 00:00:00', freq='D'), Series([], dtype: float64))\n",
      "(Timestamp('2009-04-02 00:00:00', freq='D'), Series([], dtype: float64))\n",
      "(Timestamp('2009-04-03 00:00:00', freq='D'), Series([], dtype: float64))\n",
      "(Timestamp('2009-04-04 00:00:00', freq='D'), Series([], dtype: float64))\n",
      "(Timestamp('2009-04-05 00:00:00', freq='D'), Series([], dtype: float64))\n",
      "(Timestamp('2009-04-06 00:00:00', freq='D'), Series([], dtype: float64))\n",
      "(Timestamp('2009-04-07 00:00:00', freq='D'), Series([], dtype: float64))\n",
      "(Timestamp('2009-04-08 00:00:00', freq='D'), Series([], dtype: float64))\n",
      "(Timestamp('2009-04-09 00:00:00', freq='D'), Series([], dtype: float64))\n",
      "(Timestamp('2009-04-10 00:00:00', freq='D'), Series([], dtype: float64))\n",
      "(Timestamp('2009-04-11 00:00:00', freq='D'), Series([], dtype: float64))\n",
      "(Timestamp('2009-04-12 00:00:00', freq='D'), Series([], dtype: float64))\n",
      "(Timestamp('2009-04-13 00:00:00', freq='D'), Series([], dtype: float64))\n",
      "(Timestamp('2009-04-14 00:00:00', freq='D'), Series([], dtype: float64))\n",
      "(Timestamp('2009-04-15 00:00:00', freq='D'), Series([], dtype: float64))\n",
      "(Timestamp('2009-04-16 00:00:00', freq='D'), Series([], dtype: float64))\n",
      "(Timestamp('2009-04-17 00:00:00', freq='D'), Series([], dtype: float64))\n",
      "(Timestamp('2009-04-18 00:00:00', freq='D'), Series([], dtype: float64))\n",
      "(Timestamp('2009-04-19 00:00:00', freq='D'), Series([], dtype: float64))\n",
      "(Timestamp('2009-04-20 00:00:00', freq='D'), Series([], dtype: float64))\n",
      "(Timestamp('2009-04-21 00:00:00', freq='D'), Series([], dtype: float64))\n",
      "(Timestamp('2009-04-22 00:00:00', freq='D'), Series([], dtype: float64))\n",
      "(Timestamp('2009-04-23 00:00:00', freq='D'), Series([], dtype: float64))\n",
      "(Timestamp('2009-04-24 00:00:00', freq='D'), Series([], dtype: float64))\n",
      "(Timestamp('2009-04-25 00:00:00', freq='D'), Series([], dtype: float64))\n",
      "(Timestamp('2009-04-26 00:00:00', freq='D'), Series([], dtype: float64))\n",
      "(Timestamp('2009-04-27 00:00:00', freq='D'), Series([], dtype: float64))\n",
      "(Timestamp('2009-04-28 00:00:00', freq='D'), Series([], dtype: float64))\n",
      "(Timestamp('2009-04-29 00:00:00', freq='D'), Series([], dtype: float64))\n",
      "(Timestamp('2009-04-30 00:00:00', freq='D'), Series([], dtype: float64))\n",
      "(Timestamp('2009-05-01 00:00:00', freq='D'), Series([], dtype: float64))\n",
      "(Timestamp('2009-05-02 00:00:00', freq='D'), Series([], dtype: float64))\n",
      "(Timestamp('2009-05-03 00:00:00', freq='D'), Series([], dtype: float64))\n",
      "(Timestamp('2009-05-04 00:00:00', freq='D'), Series([], dtype: float64))\n",
      "(Timestamp('2009-05-05 00:00:00', freq='D'), Series([], dtype: float64))\n",
      "(Timestamp('2009-05-06 00:00:00', freq='D'), Series([], dtype: float64))\n",
      "(Timestamp('2009-05-07 00:00:00', freq='D'), Series([], dtype: float64))\n",
      "(Timestamp('2009-05-08 00:00:00', freq='D'), Series([], dtype: float64))\n",
      "(Timestamp('2009-05-09 00:00:00', freq='D'), Series([], dtype: float64))\n",
      "(Timestamp('2009-05-10 00:00:00', freq='D'), Series([], dtype: float64))\n",
      "(Timestamp('2009-05-11 00:00:00', freq='D'), Series([], dtype: float64))\n",
      "(Timestamp('2009-05-12 00:00:00', freq='D'), Series([], dtype: float64))\n",
      "(Timestamp('2009-05-13 00:00:00', freq='D'), Series([], dtype: float64))\n",
      "(Timestamp('2009-05-14 00:00:00', freq='D'), Series([], dtype: float64))\n",
      "(Timestamp('2009-05-15 00:00:00', freq='D'), Series([], dtype: float64))\n",
      "(Timestamp('2009-05-16 00:00:00', freq='D'), Series([], dtype: float64))\n"
     ]
    },
    {
     "name": "stdout",
     "output_type": "stream",
     "text": [
      "(Timestamp('2009-05-17 00:00:00', freq='D'), Series([], dtype: float64))\n",
      "(Timestamp('2009-05-18 00:00:00', freq='D'), Series([], dtype: float64))\n",
      "(Timestamp('2009-05-19 00:00:00', freq='D'), Series([], dtype: float64))\n",
      "(Timestamp('2009-05-20 00:00:00', freq='D'), Series([], dtype: float64))\n",
      "(Timestamp('2009-05-21 00:00:00', freq='D'), Series([], dtype: float64))\n",
      "(Timestamp('2009-05-22 00:00:00', freq='D'), Series([], dtype: float64))\n",
      "(Timestamp('2009-05-23 00:00:00', freq='D'), Series([], dtype: float64))\n",
      "(Timestamp('2009-05-24 00:00:00', freq='D'), Series([], dtype: float64))\n",
      "(Timestamp('2009-05-25 00:00:00', freq='D'), Series([], dtype: float64))\n",
      "(Timestamp('2009-05-26 00:00:00', freq='D'), Series([], dtype: float64))\n",
      "(Timestamp('2009-05-27 00:00:00', freq='D'), Series([], dtype: float64))\n",
      "(Timestamp('2009-05-28 00:00:00', freq='D'), Series([], dtype: float64))\n",
      "(Timestamp('2009-05-29 00:00:00', freq='D'), Series([], dtype: float64))\n",
      "(Timestamp('2009-05-30 00:00:00', freq='D'), Series([], dtype: float64))\n",
      "(Timestamp('2009-05-31 00:00:00', freq='D'), Series([], dtype: float64))\n",
      "(Timestamp('2009-06-01 00:00:00', freq='D'), Series([], dtype: float64))\n",
      "(Timestamp('2009-06-02 00:00:00', freq='D'), Series([], dtype: float64))\n",
      "(Timestamp('2009-06-03 00:00:00', freq='D'), Series([], dtype: float64))\n",
      "(Timestamp('2009-06-04 00:00:00', freq='D'), Series([], dtype: float64))\n",
      "(Timestamp('2009-06-05 00:00:00', freq='D'), Series([], dtype: float64))\n",
      "(Timestamp('2009-06-06 00:00:00', freq='D'), Series([], dtype: float64))\n",
      "(Timestamp('2009-06-07 00:00:00', freq='D'), Series([], dtype: float64))\n",
      "(Timestamp('2009-06-08 00:00:00', freq='D'), Series([], dtype: float64))\n",
      "(Timestamp('2009-06-09 00:00:00', freq='D'), Series([], dtype: float64))\n",
      "(Timestamp('2009-06-10 00:00:00', freq='D'), Series([], dtype: float64))\n",
      "(Timestamp('2009-06-11 00:00:00', freq='D'), Series([], dtype: float64))\n",
      "(Timestamp('2009-06-12 00:00:00', freq='D'), Series([], dtype: float64))\n",
      "(Timestamp('2009-06-13 00:00:00', freq='D'), Series([], dtype: float64))\n",
      "(Timestamp('2009-06-14 00:00:00', freq='D'), Series([], dtype: float64))\n",
      "(Timestamp('2009-06-15 00:00:00', freq='D'), Series([], dtype: float64))\n",
      "(Timestamp('2009-06-16 00:00:00', freq='D'), Series([], dtype: float64))\n",
      "(Timestamp('2009-06-17 00:00:00', freq='D'), Series([], dtype: float64))\n",
      "(Timestamp('2009-06-18 00:00:00', freq='D'), Series([], dtype: float64))\n",
      "(Timestamp('2009-06-19 00:00:00', freq='D'), Series([], dtype: float64))\n",
      "(Timestamp('2009-06-20 00:00:00', freq='D'), Series([], dtype: float64))\n",
      "(Timestamp('2009-06-21 00:00:00', freq='D'), Series([], dtype: float64))\n",
      "(Timestamp('2009-06-22 00:00:00', freq='D'), Series([], dtype: float64))\n",
      "(Timestamp('2009-06-23 00:00:00', freq='D'), Series([], dtype: float64))\n",
      "(Timestamp('2009-06-24 00:00:00', freq='D'), Series([], dtype: float64))\n",
      "(Timestamp('2009-06-25 00:00:00', freq='D'), Series([], dtype: float64))\n",
      "(Timestamp('2009-06-26 00:00:00', freq='D'), Series([], dtype: float64))\n",
      "(Timestamp('2009-06-27 00:00:00', freq='D'), Series([], dtype: float64))\n",
      "(Timestamp('2009-06-28 00:00:00', freq='D'), Series([], dtype: float64))\n",
      "(Timestamp('2009-06-29 00:00:00', freq='D'), Series([], dtype: float64))\n",
      "(Timestamp('2009-06-30 00:00:00', freq='D'), Series([], dtype: float64))\n",
      "(Timestamp('2009-07-01 00:00:00', freq='D'), Series([], dtype: float64))\n",
      "(Timestamp('2009-07-02 00:00:00', freq='D'), Series([], dtype: float64))\n",
      "(Timestamp('2009-07-03 00:00:00', freq='D'), Series([], dtype: float64))\n",
      "(Timestamp('2009-07-04 00:00:00', freq='D'), Series([], dtype: float64))\n",
      "(Timestamp('2009-07-05 00:00:00', freq='D'), Series([], dtype: float64))\n",
      "(Timestamp('2009-07-06 00:00:00', freq='D'), Series([], dtype: float64))\n",
      "(Timestamp('2009-07-07 00:00:00', freq='D'), Series([], dtype: float64))\n",
      "(Timestamp('2009-07-08 00:00:00', freq='D'), Series([], dtype: float64))\n",
      "(Timestamp('2009-07-09 00:00:00', freq='D'), Series([], dtype: float64))\n",
      "(Timestamp('2009-07-10 00:00:00', freq='D'), Series([], dtype: float64))\n",
      "(Timestamp('2009-07-11 00:00:00', freq='D'), Series([], dtype: float64))\n",
      "(Timestamp('2009-07-12 00:00:00', freq='D'), Series([], dtype: float64))\n",
      "(Timestamp('2009-07-13 00:00:00', freq='D'), Series([], dtype: float64))\n",
      "(Timestamp('2009-07-14 00:00:00', freq='D'), Series([], dtype: float64))\n",
      "(Timestamp('2009-07-15 00:00:00', freq='D'), Series([], dtype: float64))\n",
      "(Timestamp('2009-07-16 00:00:00', freq='D'), Series([], dtype: float64))\n",
      "(Timestamp('2009-07-17 00:00:00', freq='D'), Series([], dtype: float64))\n",
      "(Timestamp('2009-07-18 00:00:00', freq='D'), Series([], dtype: float64))\n",
      "(Timestamp('2009-07-19 00:00:00', freq='D'), Series([], dtype: float64))\n",
      "(Timestamp('2009-07-20 00:00:00', freq='D'), Series([], dtype: float64))\n",
      "(Timestamp('2009-07-21 00:00:00', freq='D'), Series([], dtype: float64))\n",
      "(Timestamp('2009-07-22 00:00:00', freq='D'), Series([], dtype: float64))\n",
      "(Timestamp('2009-07-23 00:00:00', freq='D'), Series([], dtype: float64))\n",
      "(Timestamp('2009-07-24 00:00:00', freq='D'), Series([], dtype: float64))\n",
      "(Timestamp('2009-07-25 00:00:00', freq='D'), Series([], dtype: float64))\n",
      "(Timestamp('2009-07-26 00:00:00', freq='D'), Series([], dtype: float64))\n",
      "(Timestamp('2009-07-27 00:00:00', freq='D'), Series([], dtype: float64))\n",
      "(Timestamp('2009-07-28 00:00:00', freq='D'), Series([], dtype: float64))\n",
      "(Timestamp('2009-07-29 00:00:00', freq='D'), Series([], dtype: float64))\n",
      "(Timestamp('2009-07-30 00:00:00', freq='D'), Series([], dtype: float64))\n",
      "(Timestamp('2009-07-31 00:00:00', freq='D'), Series([], dtype: float64))\n",
      "(Timestamp('2009-08-01 00:00:00', freq='D'), Series([], dtype: float64))\n",
      "(Timestamp('2009-08-02 00:00:00', freq='D'), Series([], dtype: float64))\n",
      "(Timestamp('2009-08-03 00:00:00', freq='D'), Series([], dtype: float64))\n",
      "(Timestamp('2009-08-04 00:00:00', freq='D'), Series([], dtype: float64))\n",
      "(Timestamp('2009-08-05 00:00:00', freq='D'), Series([], dtype: float64))\n",
      "(Timestamp('2009-08-06 00:00:00', freq='D'), Series([], dtype: float64))\n",
      "(Timestamp('2009-08-07 00:00:00', freq='D'), Series([], dtype: float64))\n",
      "(Timestamp('2009-08-08 00:00:00', freq='D'), Series([], dtype: float64))\n",
      "(Timestamp('2009-08-09 00:00:00', freq='D'), Series([], dtype: float64))\n",
      "(Timestamp('2009-08-10 00:00:00', freq='D'), Series([], dtype: float64))\n",
      "(Timestamp('2009-08-11 00:00:00', freq='D'), Series([], dtype: float64))\n",
      "(Timestamp('2009-08-12 00:00:00', freq='D'), Series([], dtype: float64))\n",
      "(Timestamp('2009-08-13 00:00:00', freq='D'), Series([], dtype: float64))\n",
      "(Timestamp('2009-08-14 00:00:00', freq='D'), Series([], dtype: float64))\n",
      "(Timestamp('2009-08-15 00:00:00', freq='D'), Series([], dtype: float64))\n",
      "(Timestamp('2009-08-16 00:00:00', freq='D'), Series([], dtype: float64))\n",
      "(Timestamp('2009-08-17 00:00:00', freq='D'), Series([], dtype: float64))\n",
      "(Timestamp('2009-08-18 00:00:00', freq='D'), Series([], dtype: float64))\n",
      "(Timestamp('2009-08-19 00:00:00', freq='D'), Series([], dtype: float64))\n",
      "(Timestamp('2009-08-20 00:00:00', freq='D'), Series([], dtype: float64))\n",
      "(Timestamp('2009-08-21 00:00:00', freq='D'), Series([], dtype: float64))\n",
      "(Timestamp('2009-08-22 00:00:00', freq='D'), Series([], dtype: float64))\n",
      "(Timestamp('2009-08-23 00:00:00', freq='D'), Series([], dtype: float64))\n",
      "(Timestamp('2009-08-24 00:00:00', freq='D'), Series([], dtype: float64))\n",
      "(Timestamp('2009-08-25 00:00:00', freq='D'), Series([], dtype: float64))\n",
      "(Timestamp('2009-08-26 00:00:00', freq='D'), Series([], dtype: float64))\n",
      "(Timestamp('2009-08-27 00:00:00', freq='D'), Series([], dtype: float64))\n",
      "(Timestamp('2009-08-28 00:00:00', freq='D'), Series([], dtype: float64))\n",
      "(Timestamp('2009-08-29 00:00:00', freq='D'), Series([], dtype: float64))\n",
      "(Timestamp('2009-08-30 00:00:00', freq='D'), Series([], dtype: float64))\n",
      "(Timestamp('2009-08-31 00:00:00', freq='D'), Series([], dtype: float64))\n",
      "(Timestamp('2009-09-01 00:00:00', freq='D'), Series([], dtype: float64))\n",
      "(Timestamp('2009-09-02 00:00:00', freq='D'), Series([], dtype: float64))\n",
      "(Timestamp('2009-09-03 00:00:00', freq='D'), Series([], dtype: float64))\n",
      "(Timestamp('2009-09-04 00:00:00', freq='D'), Series([], dtype: float64))\n",
      "(Timestamp('2009-09-05 00:00:00', freq='D'), Series([], dtype: float64))\n",
      "(Timestamp('2009-09-06 00:00:00', freq='D'), Series([], dtype: float64))\n",
      "(Timestamp('2009-09-07 00:00:00', freq='D'), Series([], dtype: float64))\n",
      "(Timestamp('2009-09-08 00:00:00', freq='D'), Series([], dtype: float64))\n",
      "(Timestamp('2009-09-09 00:00:00', freq='D'), Series([], dtype: float64))\n",
      "(Timestamp('2009-09-10 00:00:00', freq='D'), Series([], dtype: float64))\n",
      "(Timestamp('2009-09-11 00:00:00', freq='D'), Series([], dtype: float64))\n",
      "(Timestamp('2009-09-12 00:00:00', freq='D'), Series([], dtype: float64))\n",
      "(Timestamp('2009-09-13 00:00:00', freq='D'), Series([], dtype: float64))\n",
      "(Timestamp('2009-09-14 00:00:00', freq='D'), Series([], dtype: float64))\n",
      "(Timestamp('2009-09-15 00:00:00', freq='D'), Series([], dtype: float64))\n",
      "(Timestamp('2009-09-16 00:00:00', freq='D'), Series([], dtype: float64))\n",
      "(Timestamp('2009-09-17 00:00:00', freq='D'), Series([], dtype: float64))\n",
      "(Timestamp('2009-09-18 00:00:00', freq='D'), Series([], dtype: float64))\n",
      "(Timestamp('2009-09-19 00:00:00', freq='D'), Series([], dtype: float64))\n",
      "(Timestamp('2009-09-20 00:00:00', freq='D'), Series([], dtype: float64))\n",
      "(Timestamp('2009-09-21 00:00:00', freq='D'), Series([], dtype: float64))\n",
      "(Timestamp('2009-09-22 00:00:00', freq='D'), Series([], dtype: float64))\n",
      "(Timestamp('2009-09-23 00:00:00', freq='D'), Series([], dtype: float64))\n",
      "(Timestamp('2009-09-24 00:00:00', freq='D'), Series([], dtype: float64))\n",
      "(Timestamp('2009-09-25 00:00:00', freq='D'), Series([], dtype: float64))\n",
      "(Timestamp('2009-09-26 00:00:00', freq='D'), Series([], dtype: float64))\n",
      "(Timestamp('2009-09-27 00:00:00', freq='D'), Series([], dtype: float64))\n",
      "(Timestamp('2009-09-28 00:00:00', freq='D'), Series([], dtype: float64))\n",
      "(Timestamp('2009-09-29 00:00:00', freq='D'), Series([], dtype: float64))\n",
      "(Timestamp('2009-09-30 00:00:00', freq='D'), Series([], dtype: float64))\n",
      "(Timestamp('2009-10-01 00:00:00', freq='D'), Series([], dtype: float64))\n",
      "(Timestamp('2009-10-02 00:00:00', freq='D'), Series([], dtype: float64))\n",
      "(Timestamp('2009-10-03 00:00:00', freq='D'), Series([], dtype: float64))\n",
      "(Timestamp('2009-10-04 00:00:00', freq='D'), Series([], dtype: float64))\n",
      "(Timestamp('2009-10-05 00:00:00', freq='D'), Series([], dtype: float64))\n",
      "(Timestamp('2009-10-06 00:00:00', freq='D'), Series([], dtype: float64))\n",
      "(Timestamp('2009-10-07 00:00:00', freq='D'), Series([], dtype: float64))\n",
      "(Timestamp('2009-10-08 00:00:00', freq='D'), Series([], dtype: float64))\n",
      "(Timestamp('2009-10-09 00:00:00', freq='D'), Series([], dtype: float64))\n",
      "(Timestamp('2009-10-10 00:00:00', freq='D'), Series([], dtype: float64))\n",
      "(Timestamp('2009-10-11 00:00:00', freq='D'), Series([], dtype: float64))\n",
      "(Timestamp('2009-10-12 00:00:00', freq='D'), Series([], dtype: float64))\n",
      "(Timestamp('2009-10-13 00:00:00', freq='D'), Series([], dtype: float64))\n",
      "(Timestamp('2009-10-14 00:00:00', freq='D'), Series([], dtype: float64))\n",
      "(Timestamp('2009-10-15 00:00:00', freq='D'), Series([], dtype: float64))\n",
      "(Timestamp('2009-10-16 00:00:00', freq='D'), Series([], dtype: float64))\n",
      "(Timestamp('2009-10-17 00:00:00', freq='D'), Series([], dtype: float64))\n",
      "(Timestamp('2009-10-18 00:00:00', freq='D'), Series([], dtype: float64))\n",
      "(Timestamp('2009-10-19 00:00:00', freq='D'), Series([], dtype: float64))\n",
      "(Timestamp('2009-10-20 00:00:00', freq='D'), Series([], dtype: float64))\n",
      "(Timestamp('2009-10-21 00:00:00', freq='D'), Series([], dtype: float64))\n",
      "(Timestamp('2009-10-22 00:00:00', freq='D'), Series([], dtype: float64))\n",
      "(Timestamp('2009-10-23 00:00:00', freq='D'), Series([], dtype: float64))\n",
      "(Timestamp('2009-10-24 00:00:00', freq='D'), Series([], dtype: float64))\n",
      "(Timestamp('2009-10-25 00:00:00', freq='D'), Series([], dtype: float64))\n",
      "(Timestamp('2009-10-26 00:00:00', freq='D'), Series([], dtype: float64))\n",
      "(Timestamp('2009-10-27 00:00:00', freq='D'), Series([], dtype: float64))\n",
      "(Timestamp('2009-10-28 00:00:00', freq='D'), Series([], dtype: float64))\n",
      "(Timestamp('2009-10-29 00:00:00', freq='D'), Series([], dtype: float64))\n",
      "(Timestamp('2009-10-30 00:00:00', freq='D'), Series([], dtype: float64))\n",
      "(Timestamp('2009-10-31 00:00:00', freq='D'), Series([], dtype: float64))\n",
      "(Timestamp('2009-11-01 00:00:00', freq='D'), Series([], dtype: float64))\n",
      "(Timestamp('2009-11-02 00:00:00', freq='D'), Series([], dtype: float64))\n",
      "(Timestamp('2009-11-03 00:00:00', freq='D'), Series([], dtype: float64))\n",
      "(Timestamp('2009-11-04 00:00:00', freq='D'), Series([], dtype: float64))\n",
      "(Timestamp('2009-11-05 00:00:00', freq='D'), Series([], dtype: float64))\n",
      "(Timestamp('2009-11-06 00:00:00', freq='D'), Series([], dtype: float64))\n",
      "(Timestamp('2009-11-07 00:00:00', freq='D'), Series([], dtype: float64))\n",
      "(Timestamp('2009-11-08 00:00:00', freq='D'), Series([], dtype: float64))\n",
      "(Timestamp('2009-11-09 00:00:00', freq='D'), Series([], dtype: float64))\n",
      "(Timestamp('2009-11-10 00:00:00', freq='D'), Series([], dtype: float64))\n",
      "(Timestamp('2009-11-11 00:00:00', freq='D'), Series([], dtype: float64))\n",
      "(Timestamp('2009-11-12 00:00:00', freq='D'), Series([], dtype: float64))\n",
      "(Timestamp('2009-11-13 00:00:00', freq='D'), Series([], dtype: float64))\n",
      "(Timestamp('2009-11-14 00:00:00', freq='D'), Series([], dtype: float64))\n",
      "(Timestamp('2009-11-15 00:00:00', freq='D'), Series([], dtype: float64))\n",
      "(Timestamp('2009-11-16 00:00:00', freq='D'), Series([], dtype: float64))\n",
      "(Timestamp('2009-11-17 00:00:00', freq='D'), Series([], dtype: float64))\n",
      "(Timestamp('2009-11-18 00:00:00', freq='D'), Series([], dtype: float64))\n",
      "(Timestamp('2009-11-19 00:00:00', freq='D'), Series([], dtype: float64))\n",
      "(Timestamp('2009-11-20 00:00:00', freq='D'), Series([], dtype: float64))\n",
      "(Timestamp('2009-11-21 00:00:00', freq='D'), Series([], dtype: float64))\n",
      "(Timestamp('2009-11-22 00:00:00', freq='D'), Series([], dtype: float64))\n",
      "(Timestamp('2009-11-23 00:00:00', freq='D'), Series([], dtype: float64))\n",
      "(Timestamp('2009-11-24 00:00:00', freq='D'), Series([], dtype: float64))\n",
      "(Timestamp('2009-11-25 00:00:00', freq='D'), Series([], dtype: float64))\n",
      "(Timestamp('2009-11-26 00:00:00', freq='D'), Series([], dtype: float64))\n",
      "(Timestamp('2009-11-27 00:00:00', freq='D'), Series([], dtype: float64))\n",
      "(Timestamp('2009-11-28 00:00:00', freq='D'), Series([], dtype: float64))\n",
      "(Timestamp('2009-11-29 00:00:00', freq='D'), Series([], dtype: float64))\n",
      "(Timestamp('2009-11-30 00:00:00', freq='D'), Series([], dtype: float64))\n",
      "(Timestamp('2009-12-01 00:00:00', freq='D'), Series([], dtype: float64))\n",
      "(Timestamp('2009-12-02 00:00:00', freq='D'), Series([], dtype: float64))\n",
      "(Timestamp('2009-12-03 00:00:00', freq='D'), Series([], dtype: float64))\n",
      "(Timestamp('2009-12-04 00:00:00', freq='D'), Series([], dtype: float64))\n",
      "(Timestamp('2009-12-05 00:00:00', freq='D'), Series([], dtype: float64))\n",
      "(Timestamp('2009-12-06 00:00:00', freq='D'), Series([], dtype: float64))\n",
      "(Timestamp('2009-12-07 00:00:00', freq='D'), Series([], dtype: float64))\n",
      "(Timestamp('2009-12-08 00:00:00', freq='D'), Series([], dtype: float64))\n",
      "(Timestamp('2009-12-09 00:00:00', freq='D'), Series([], dtype: float64))\n",
      "(Timestamp('2009-12-10 00:00:00', freq='D'), Series([], dtype: float64))\n",
      "(Timestamp('2009-12-11 00:00:00', freq='D'), Series([], dtype: float64))\n",
      "(Timestamp('2009-12-12 00:00:00', freq='D'), Series([], dtype: float64))\n",
      "(Timestamp('2009-12-13 00:00:00', freq='D'), Series([], dtype: float64))\n",
      "(Timestamp('2009-12-14 00:00:00', freq='D'), Series([], dtype: float64))\n",
      "(Timestamp('2009-12-15 00:00:00', freq='D'), Series([], dtype: float64))\n",
      "(Timestamp('2009-12-16 00:00:00', freq='D'), Series([], dtype: float64))\n",
      "(Timestamp('2009-12-17 00:00:00', freq='D'), Series([], dtype: float64))\n",
      "(Timestamp('2009-12-18 00:00:00', freq='D'), Series([], dtype: float64))\n",
      "(Timestamp('2009-12-19 00:00:00', freq='D'), Series([], dtype: float64))\n",
      "(Timestamp('2009-12-20 00:00:00', freq='D'), Series([], dtype: float64))\n",
      "(Timestamp('2009-12-21 00:00:00', freq='D'), Series([], dtype: float64))\n",
      "(Timestamp('2009-12-22 00:00:00', freq='D'), Series([], dtype: float64))\n",
      "(Timestamp('2009-12-23 00:00:00', freq='D'), Series([], dtype: float64))\n",
      "(Timestamp('2009-12-24 00:00:00', freq='D'), Series([], dtype: float64))\n",
      "(Timestamp('2009-12-25 00:00:00', freq='D'), Series([], dtype: float64))\n",
      "(Timestamp('2009-12-26 00:00:00', freq='D'), Series([], dtype: float64))\n",
      "(Timestamp('2009-12-27 00:00:00', freq='D'), Series([], dtype: float64))\n",
      "(Timestamp('2009-12-28 00:00:00', freq='D'), Series([], dtype: float64))\n",
      "(Timestamp('2009-12-29 00:00:00', freq='D'), Series([], dtype: float64))\n",
      "(Timestamp('2009-12-30 00:00:00', freq='D'), Series([], dtype: float64))\n",
      "(Timestamp('2009-12-31 00:00:00', freq='D'), Series([], dtype: float64))\n",
      "(Timestamp('2010-01-01 00:00:00', freq='D'), Series([], dtype: float64))\n",
      "(Timestamp('2010-01-02 00:00:00', freq='D'), Series([], dtype: float64))\n",
      "(Timestamp('2010-01-03 00:00:00', freq='D'), Series([], dtype: float64))\n",
      "(Timestamp('2010-01-04 00:00:00', freq='D'), Series([], dtype: float64))\n",
      "(Timestamp('2010-01-05 00:00:00', freq='D'), Series([], dtype: float64))\n",
      "(Timestamp('2010-01-06 00:00:00', freq='D'), Series([], dtype: float64))\n",
      "(Timestamp('2010-01-07 00:00:00', freq='D'), Series([], dtype: float64))\n",
      "(Timestamp('2010-01-08 00:00:00', freq='D'), Series([], dtype: float64))\n",
      "(Timestamp('2010-01-09 00:00:00', freq='D'), Series([], dtype: float64))\n",
      "(Timestamp('2010-01-10 00:00:00', freq='D'), Series([], dtype: float64))\n",
      "(Timestamp('2010-01-11 00:00:00', freq='D'), Series([], dtype: float64))\n",
      "(Timestamp('2010-01-12 00:00:00', freq='D'), Series([], dtype: float64))\n",
      "(Timestamp('2010-01-13 00:00:00', freq='D'), Series([], dtype: float64))\n",
      "(Timestamp('2010-01-14 00:00:00', freq='D'), Series([], dtype: float64))\n",
      "(Timestamp('2010-01-15 00:00:00', freq='D'), Series([], dtype: float64))\n",
      "(Timestamp('2010-01-16 00:00:00', freq='D'), Series([], dtype: float64))\n",
      "(Timestamp('2010-01-17 00:00:00', freq='D'), Series([], dtype: float64))\n",
      "(Timestamp('2010-01-18 00:00:00', freq='D'), Series([], dtype: float64))\n",
      "(Timestamp('2010-01-19 00:00:00', freq='D'), Series([], dtype: float64))\n",
      "(Timestamp('2010-01-20 00:00:00', freq='D'), Series([], dtype: float64))\n",
      "(Timestamp('2010-01-21 00:00:00', freq='D'), Series([], dtype: float64))\n",
      "(Timestamp('2010-01-22 00:00:00', freq='D'), Series([], dtype: float64))\n",
      "(Timestamp('2010-01-23 00:00:00', freq='D'), Series([], dtype: float64))\n",
      "(Timestamp('2010-01-24 00:00:00', freq='D'), Series([], dtype: float64))\n",
      "(Timestamp('2010-01-25 00:00:00', freq='D'), Series([], dtype: float64))\n",
      "(Timestamp('2010-01-26 00:00:00', freq='D'), Series([], dtype: float64))\n",
      "(Timestamp('2010-01-27 00:00:00', freq='D'), Series([], dtype: float64))\n",
      "(Timestamp('2010-01-28 00:00:00', freq='D'), Series([], dtype: float64))\n",
      "(Timestamp('2010-01-29 00:00:00', freq='D'), Series([], dtype: float64))\n",
      "(Timestamp('2010-01-30 00:00:00', freq='D'), Series([], dtype: float64))\n",
      "(Timestamp('2010-01-31 00:00:00', freq='D'), Series([], dtype: float64))\n",
      "(Timestamp('2010-02-01 00:00:00', freq='D'), Series([], dtype: float64))\n",
      "(Timestamp('2010-02-02 00:00:00', freq='D'), Series([], dtype: float64))\n",
      "(Timestamp('2010-02-03 00:00:00', freq='D'), Series([], dtype: float64))\n",
      "(Timestamp('2010-02-04 00:00:00', freq='D'), Series([], dtype: float64))\n",
      "(Timestamp('2010-02-05 00:00:00', freq='D'), Series([], dtype: float64))\n",
      "(Timestamp('2010-02-06 00:00:00', freq='D'), Series([], dtype: float64))\n",
      "(Timestamp('2010-02-07 00:00:00', freq='D'), Series([], dtype: float64))\n",
      "(Timestamp('2010-02-08 00:00:00', freq='D'), Series([], dtype: float64))\n",
      "(Timestamp('2010-02-09 00:00:00', freq='D'), Series([], dtype: float64))\n",
      "(Timestamp('2010-02-10 00:00:00', freq='D'), Series([], dtype: float64))\n",
      "(Timestamp('2010-02-11 00:00:00', freq='D'), Series([], dtype: float64))\n",
      "(Timestamp('2010-02-12 00:00:00', freq='D'), Series([], dtype: float64))\n",
      "(Timestamp('2010-02-13 00:00:00', freq='D'), Series([], dtype: float64))\n",
      "(Timestamp('2010-02-14 00:00:00', freq='D'), Series([], dtype: float64))\n",
      "(Timestamp('2010-02-15 00:00:00', freq='D'), Series([], dtype: float64))\n",
      "(Timestamp('2010-02-16 00:00:00', freq='D'), Series([], dtype: float64))\n",
      "(Timestamp('2010-02-17 00:00:00', freq='D'), Series([], dtype: float64))\n",
      "(Timestamp('2010-02-18 00:00:00', freq='D'), Series([], dtype: float64))\n",
      "(Timestamp('2010-02-19 00:00:00', freq='D'), Series([], dtype: float64))\n",
      "(Timestamp('2010-02-20 00:00:00', freq='D'), Series([], dtype: float64))\n",
      "(Timestamp('2010-02-21 00:00:00', freq='D'), Series([], dtype: float64))\n",
      "(Timestamp('2010-02-22 00:00:00', freq='D'), Series([], dtype: float64))\n",
      "(Timestamp('2010-02-23 00:00:00', freq='D'), Series([], dtype: float64))\n",
      "(Timestamp('2010-02-24 00:00:00', freq='D'), Series([], dtype: float64))\n",
      "(Timestamp('2010-02-25 00:00:00', freq='D'), Series([], dtype: float64))\n",
      "(Timestamp('2010-02-26 00:00:00', freq='D'), Series([], dtype: float64))\n",
      "(Timestamp('2010-02-27 00:00:00', freq='D'), Series([], dtype: float64))\n",
      "(Timestamp('2010-02-28 00:00:00', freq='D'), Series([], dtype: float64))\n",
      "(Timestamp('2010-03-01 00:00:00', freq='D'), Series([], dtype: float64))\n",
      "(Timestamp('2010-03-02 00:00:00', freq='D'), Series([], dtype: float64))\n",
      "(Timestamp('2010-03-03 00:00:00', freq='D'), Series([], dtype: float64))\n",
      "(Timestamp('2010-03-04 00:00:00', freq='D'), Series([], dtype: float64))\n",
      "(Timestamp('2010-03-05 00:00:00', freq='D'), Series([], dtype: float64))\n",
      "(Timestamp('2010-03-06 00:00:00', freq='D'), Series([], dtype: float64))\n",
      "(Timestamp('2010-03-07 00:00:00', freq='D'), Series([], dtype: float64))\n",
      "(Timestamp('2010-03-08 00:00:00', freq='D'), Series([], dtype: float64))\n",
      "(Timestamp('2010-03-09 00:00:00', freq='D'), Series([], dtype: float64))\n",
      "(Timestamp('2010-03-10 00:00:00', freq='D'), Series([], dtype: float64))\n",
      "(Timestamp('2010-03-11 00:00:00', freq='D'), Series([], dtype: float64))\n",
      "(Timestamp('2010-03-12 00:00:00', freq='D'), Series([], dtype: float64))\n",
      "(Timestamp('2010-03-13 00:00:00', freq='D'), Series([], dtype: float64))\n",
      "(Timestamp('2010-03-14 00:00:00', freq='D'), Series([], dtype: float64))\n",
      "(Timestamp('2010-03-15 00:00:00', freq='D'), Series([], dtype: float64))\n",
      "(Timestamp('2010-03-16 00:00:00', freq='D'), Series([], dtype: float64))\n",
      "(Timestamp('2010-03-17 00:00:00', freq='D'), Series([], dtype: float64))\n",
      "(Timestamp('2010-03-18 00:00:00', freq='D'), Series([], dtype: float64))\n",
      "(Timestamp('2010-03-19 00:00:00', freq='D'), Series([], dtype: float64))\n",
      "(Timestamp('2010-03-20 00:00:00', freq='D'), Series([], dtype: float64))\n",
      "(Timestamp('2010-03-21 00:00:00', freq='D'), Series([], dtype: float64))\n",
      "(Timestamp('2010-03-22 00:00:00', freq='D'), Series([], dtype: float64))\n",
      "(Timestamp('2010-03-23 00:00:00', freq='D'), Series([], dtype: float64))\n",
      "(Timestamp('2010-03-24 00:00:00', freq='D'), Series([], dtype: float64))\n",
      "(Timestamp('2010-03-25 00:00:00', freq='D'), Series([], dtype: float64))\n",
      "(Timestamp('2010-03-26 00:00:00', freq='D'), Series([], dtype: float64))\n",
      "(Timestamp('2010-03-27 00:00:00', freq='D'), Series([], dtype: float64))\n",
      "(Timestamp('2010-03-28 00:00:00', freq='D'), Series([], dtype: float64))\n",
      "(Timestamp('2010-03-29 00:00:00', freq='D'), Series([], dtype: float64))\n",
      "(Timestamp('2010-03-30 00:00:00', freq='D'), Series([], dtype: float64))\n",
      "(Timestamp('2010-03-31 00:00:00', freq='D'), Series([], dtype: float64))\n",
      "(Timestamp('2010-04-01 00:00:00', freq='D'), Series([], dtype: float64))\n",
      "(Timestamp('2010-04-02 00:00:00', freq='D'), Series([], dtype: float64))\n",
      "(Timestamp('2010-04-03 00:00:00', freq='D'), Series([], dtype: float64))\n",
      "(Timestamp('2010-04-04 00:00:00', freq='D'), Series([], dtype: float64))\n",
      "(Timestamp('2010-04-05 00:00:00', freq='D'), Series([], dtype: float64))\n",
      "(Timestamp('2010-04-06 00:00:00', freq='D'), Series([], dtype: float64))\n",
      "(Timestamp('2010-04-07 00:00:00', freq='D'), Series([], dtype: float64))\n",
      "(Timestamp('2010-04-08 00:00:00', freq='D'), Series([], dtype: float64))\n",
      "(Timestamp('2010-04-09 00:00:00', freq='D'), Series([], dtype: float64))\n",
      "(Timestamp('2010-04-10 00:00:00', freq='D'), Series([], dtype: float64))\n",
      "(Timestamp('2010-04-11 00:00:00', freq='D'), Series([], dtype: float64))\n",
      "(Timestamp('2010-04-12 00:00:00', freq='D'), Series([], dtype: float64))\n",
      "(Timestamp('2010-04-13 00:00:00', freq='D'), Series([], dtype: float64))\n",
      "(Timestamp('2010-04-14 00:00:00', freq='D'), Series([], dtype: float64))\n",
      "(Timestamp('2010-04-15 00:00:00', freq='D'), Series([], dtype: float64))\n",
      "(Timestamp('2010-04-16 00:00:00', freq='D'), Series([], dtype: float64))\n",
      "(Timestamp('2010-04-17 00:00:00', freq='D'), Series([], dtype: float64))\n",
      "(Timestamp('2010-04-18 00:00:00', freq='D'), Series([], dtype: float64))\n",
      "(Timestamp('2010-04-19 00:00:00', freq='D'), Series([], dtype: float64))\n",
      "(Timestamp('2010-04-20 00:00:00', freq='D'), Series([], dtype: float64))\n",
      "(Timestamp('2010-04-21 00:00:00', freq='D'), Series([], dtype: float64))\n",
      "(Timestamp('2010-04-22 00:00:00', freq='D'), Series([], dtype: float64))\n",
      "(Timestamp('2010-04-23 00:00:00', freq='D'), Series([], dtype: float64))\n",
      "(Timestamp('2010-04-24 00:00:00', freq='D'), Series([], dtype: float64))\n",
      "(Timestamp('2010-04-25 00:00:00', freq='D'), Series([], dtype: float64))\n",
      "(Timestamp('2010-04-26 00:00:00', freq='D'), Series([], dtype: float64))\n",
      "(Timestamp('2010-04-27 00:00:00', freq='D'), Series([], dtype: float64))\n",
      "(Timestamp('2010-04-28 00:00:00', freq='D'), Series([], dtype: float64))\n",
      "(Timestamp('2010-04-29 00:00:00', freq='D'), Series([], dtype: float64))\n",
      "(Timestamp('2010-04-30 00:00:00', freq='D'), Series([], dtype: float64))\n",
      "(Timestamp('2010-05-01 00:00:00', freq='D'), Series([], dtype: float64))\n",
      "(Timestamp('2010-05-02 00:00:00', freq='D'), Series([], dtype: float64))\n",
      "(Timestamp('2010-05-03 00:00:00', freq='D'), Series([], dtype: float64))\n",
      "(Timestamp('2010-05-04 00:00:00', freq='D'), Series([], dtype: float64))\n",
      "(Timestamp('2010-05-05 00:00:00', freq='D'), Series([], dtype: float64))\n",
      "(Timestamp('2010-05-06 00:00:00', freq='D'), Series([], dtype: float64))\n",
      "(Timestamp('2010-05-07 00:00:00', freq='D'), Series([], dtype: float64))\n",
      "(Timestamp('2010-05-08 00:00:00', freq='D'), Series([], dtype: float64))\n",
      "(Timestamp('2010-05-09 00:00:00', freq='D'), Series([], dtype: float64))\n",
      "(Timestamp('2010-05-10 00:00:00', freq='D'), Series([], dtype: float64))\n",
      "(Timestamp('2010-05-11 00:00:00', freq='D'), Series([], dtype: float64))\n",
      "(Timestamp('2010-05-12 00:00:00', freq='D'), Series([], dtype: float64))\n",
      "(Timestamp('2010-05-13 00:00:00', freq='D'), Series([], dtype: float64))\n",
      "(Timestamp('2010-05-14 00:00:00', freq='D'), Series([], dtype: float64))\n",
      "(Timestamp('2010-05-15 00:00:00', freq='D'), Series([], dtype: float64))\n",
      "(Timestamp('2010-05-16 00:00:00', freq='D'), Series([], dtype: float64))\n",
      "(Timestamp('2010-05-17 00:00:00', freq='D'), Series([], dtype: float64))\n",
      "(Timestamp('2010-05-18 00:00:00', freq='D'), Series([], dtype: float64))\n",
      "(Timestamp('2010-05-19 00:00:00', freq='D'), Series([], dtype: float64))\n",
      "(Timestamp('2010-05-20 00:00:00', freq='D'), Series([], dtype: float64))\n",
      "(Timestamp('2010-05-21 00:00:00', freq='D'), Series([], dtype: float64))\n",
      "(Timestamp('2010-05-22 00:00:00', freq='D'), Series([], dtype: float64))\n",
      "(Timestamp('2010-05-23 00:00:00', freq='D'), Series([], dtype: float64))\n",
      "(Timestamp('2010-05-24 00:00:00', freq='D'), Series([], dtype: float64))\n",
      "(Timestamp('2010-05-25 00:00:00', freq='D'), Series([], dtype: float64))\n",
      "(Timestamp('2010-05-26 00:00:00', freq='D'), Series([], dtype: float64))\n",
      "(Timestamp('2010-05-27 00:00:00', freq='D'), Series([], dtype: float64))\n",
      "(Timestamp('2010-05-28 00:00:00', freq='D'), Series([], dtype: float64))\n",
      "(Timestamp('2010-05-29 00:00:00', freq='D'), Series([], dtype: float64))\n",
      "(Timestamp('2010-05-30 00:00:00', freq='D'), Series([], dtype: float64))\n",
      "(Timestamp('2010-05-31 00:00:00', freq='D'), Series([], dtype: float64))\n",
      "(Timestamp('2010-06-01 00:00:00', freq='D'), Series([], dtype: float64))\n",
      "(Timestamp('2010-06-02 00:00:00', freq='D'), Series([], dtype: float64))\n",
      "(Timestamp('2010-06-03 00:00:00', freq='D'), Series([], dtype: float64))\n",
      "(Timestamp('2010-06-04 00:00:00', freq='D'), Series([], dtype: float64))\n",
      "(Timestamp('2010-06-05 00:00:00', freq='D'), Series([], dtype: float64))\n",
      "(Timestamp('2010-06-06 00:00:00', freq='D'), Series([], dtype: float64))\n",
      "(Timestamp('2010-06-07 00:00:00', freq='D'), Series([], dtype: float64))\n",
      "(Timestamp('2010-06-08 00:00:00', freq='D'), Series([], dtype: float64))\n",
      "(Timestamp('2010-06-09 00:00:00', freq='D'), Series([], dtype: float64))\n",
      "(Timestamp('2010-06-10 00:00:00', freq='D'), Series([], dtype: float64))\n",
      "(Timestamp('2010-06-11 00:00:00', freq='D'), Series([], dtype: float64))\n",
      "(Timestamp('2010-06-12 00:00:00', freq='D'), Series([], dtype: float64))\n",
      "(Timestamp('2010-06-13 00:00:00', freq='D'), Series([], dtype: float64))\n",
      "(Timestamp('2010-06-14 00:00:00', freq='D'), Series([], dtype: float64))\n",
      "(Timestamp('2010-06-15 00:00:00', freq='D'), Series([], dtype: float64))\n",
      "(Timestamp('2010-06-16 00:00:00', freq='D'), Series([], dtype: float64))\n",
      "(Timestamp('2010-06-17 00:00:00', freq='D'), Series([], dtype: float64))\n",
      "(Timestamp('2010-06-18 00:00:00', freq='D'), Series([], dtype: float64))\n",
      "(Timestamp('2010-06-19 00:00:00', freq='D'), Series([], dtype: float64))\n",
      "(Timestamp('2010-06-20 00:00:00', freq='D'), Series([], dtype: float64))\n",
      "(Timestamp('2010-06-21 00:00:00', freq='D'), Series([], dtype: float64))\n",
      "(Timestamp('2010-06-22 00:00:00', freq='D'), Series([], dtype: float64))\n",
      "(Timestamp('2010-06-23 00:00:00', freq='D'), Series([], dtype: float64))\n",
      "(Timestamp('2010-06-24 00:00:00', freq='D'), Series([], dtype: float64))\n",
      "(Timestamp('2010-06-25 00:00:00', freq='D'), Series([], dtype: float64))\n",
      "(Timestamp('2010-06-26 00:00:00', freq='D'), Series([], dtype: float64))\n",
      "(Timestamp('2010-06-27 00:00:00', freq='D'), Series([], dtype: float64))\n",
      "(Timestamp('2010-06-28 00:00:00', freq='D'), Series([], dtype: float64))\n",
      "(Timestamp('2010-06-29 00:00:00', freq='D'), Series([], dtype: float64))\n",
      "(Timestamp('2010-06-30 00:00:00', freq='D'), Series([], dtype: float64))\n",
      "(Timestamp('2010-07-01 00:00:00', freq='D'), Series([], dtype: float64))\n",
      "(Timestamp('2010-07-02 00:00:00', freq='D'), Series([], dtype: float64))\n",
      "(Timestamp('2010-07-03 00:00:00', freq='D'), Series([], dtype: float64))\n",
      "(Timestamp('2010-07-04 00:00:00', freq='D'), Series([], dtype: float64))\n",
      "(Timestamp('2010-07-05 00:00:00', freq='D'), Series([], dtype: float64))\n",
      "(Timestamp('2010-07-06 00:00:00', freq='D'), Series([], dtype: float64))\n",
      "(Timestamp('2010-07-07 00:00:00', freq='D'), Series([], dtype: float64))\n",
      "(Timestamp('2010-07-08 00:00:00', freq='D'), Series([], dtype: float64))\n",
      "(Timestamp('2010-07-09 00:00:00', freq='D'), Series([], dtype: float64))\n",
      "(Timestamp('2010-07-10 00:00:00', freq='D'), Series([], dtype: float64))\n",
      "(Timestamp('2010-07-11 00:00:00', freq='D'), Series([], dtype: float64))\n",
      "(Timestamp('2010-07-12 00:00:00', freq='D'), Series([], dtype: float64))\n",
      "(Timestamp('2010-07-13 00:00:00', freq='D'), Series([], dtype: float64))\n",
      "(Timestamp('2010-07-14 00:00:00', freq='D'), Series([], dtype: float64))\n",
      "(Timestamp('2010-07-15 00:00:00', freq='D'), Series([], dtype: float64))\n",
      "(Timestamp('2010-07-16 00:00:00', freq='D'), Series([], dtype: float64))\n",
      "(Timestamp('2010-07-17 00:00:00', freq='D'), Series([], dtype: float64))\n",
      "(Timestamp('2010-07-18 00:00:00', freq='D'), Series([], dtype: float64))\n",
      "(Timestamp('2010-07-19 00:00:00', freq='D'), Series([], dtype: float64))\n",
      "(Timestamp('2010-07-20 00:00:00', freq='D'), Series([], dtype: float64))\n",
      "(Timestamp('2010-07-21 00:00:00', freq='D'), Series([], dtype: float64))\n",
      "(Timestamp('2010-07-22 00:00:00', freq='D'), Series([], dtype: float64))\n",
      "(Timestamp('2010-07-23 00:00:00', freq='D'), Series([], dtype: float64))\n",
      "(Timestamp('2010-07-24 00:00:00', freq='D'), Series([], dtype: float64))\n",
      "(Timestamp('2010-07-25 00:00:00', freq='D'), Series([], dtype: float64))\n",
      "(Timestamp('2010-07-26 00:00:00', freq='D'), Series([], dtype: float64))\n",
      "(Timestamp('2010-07-27 00:00:00', freq='D'), Series([], dtype: float64))\n",
      "(Timestamp('2010-07-28 00:00:00', freq='D'), Series([], dtype: float64))\n",
      "(Timestamp('2010-07-29 00:00:00', freq='D'), Series([], dtype: float64))\n",
      "(Timestamp('2010-07-30 00:00:00', freq='D'), Series([], dtype: float64))\n",
      "(Timestamp('2010-07-31 00:00:00', freq='D'), Series([], dtype: float64))\n",
      "(Timestamp('2010-08-01 00:00:00', freq='D'), Series([], dtype: float64))\n",
      "(Timestamp('2010-08-02 00:00:00', freq='D'), Series([], dtype: float64))\n",
      "(Timestamp('2010-08-03 00:00:00', freq='D'), Series([], dtype: float64))\n",
      "(Timestamp('2010-08-04 00:00:00', freq='D'), Series([], dtype: float64))\n",
      "(Timestamp('2010-08-05 00:00:00', freq='D'), Series([], dtype: float64))\n",
      "(Timestamp('2010-08-06 00:00:00', freq='D'), Series([], dtype: float64))\n",
      "(Timestamp('2010-08-07 00:00:00', freq='D'), Series([], dtype: float64))\n",
      "(Timestamp('2010-08-08 00:00:00', freq='D'), Series([], dtype: float64))\n",
      "(Timestamp('2010-08-09 00:00:00', freq='D'), Series([], dtype: float64))\n",
      "(Timestamp('2010-08-10 00:00:00', freq='D'), Series([], dtype: float64))\n",
      "(Timestamp('2010-08-11 00:00:00', freq='D'), Series([], dtype: float64))\n",
      "(Timestamp('2010-08-12 00:00:00', freq='D'), Series([], dtype: float64))\n",
      "(Timestamp('2010-08-13 00:00:00', freq='D'), Series([], dtype: float64))\n",
      "(Timestamp('2010-08-14 00:00:00', freq='D'), Series([], dtype: float64))\n",
      "(Timestamp('2010-08-15 00:00:00', freq='D'), Series([], dtype: float64))\n",
      "(Timestamp('2010-08-16 00:00:00', freq='D'), Series([], dtype: float64))\n",
      "(Timestamp('2010-08-17 00:00:00', freq='D'), Series([], dtype: float64))\n",
      "(Timestamp('2010-08-18 00:00:00', freq='D'), Series([], dtype: float64))\n",
      "(Timestamp('2010-08-19 00:00:00', freq='D'), Series([], dtype: float64))\n",
      "(Timestamp('2010-08-20 00:00:00', freq='D'), Series([], dtype: float64))\n",
      "(Timestamp('2010-08-21 00:00:00', freq='D'), Series([], dtype: float64))\n",
      "(Timestamp('2010-08-22 00:00:00', freq='D'), Series([], dtype: float64))\n",
      "(Timestamp('2010-08-23 00:00:00', freq='D'), Series([], dtype: float64))\n",
      "(Timestamp('2010-08-24 00:00:00', freq='D'), Series([], dtype: float64))\n",
      "(Timestamp('2010-08-25 00:00:00', freq='D'), Series([], dtype: float64))\n",
      "(Timestamp('2010-08-26 00:00:00', freq='D'), Series([], dtype: float64))\n",
      "(Timestamp('2010-08-27 00:00:00', freq='D'), Series([], dtype: float64))\n",
      "(Timestamp('2010-08-28 00:00:00', freq='D'), Series([], dtype: float64))\n",
      "(Timestamp('2010-08-29 00:00:00', freq='D'), Series([], dtype: float64))\n",
      "(Timestamp('2010-08-30 00:00:00', freq='D'), Series([], dtype: float64))\n",
      "(Timestamp('2010-08-31 00:00:00', freq='D'), Series([], dtype: float64))\n",
      "(Timestamp('2010-09-01 00:00:00', freq='D'), Series([], dtype: float64))\n",
      "(Timestamp('2010-09-02 00:00:00', freq='D'), Series([], dtype: float64))\n",
      "(Timestamp('2010-09-03 00:00:00', freq='D'), Series([], dtype: float64))\n",
      "(Timestamp('2010-09-04 00:00:00', freq='D'), Series([], dtype: float64))\n",
      "(Timestamp('2010-09-05 00:00:00', freq='D'), Series([], dtype: float64))\n",
      "(Timestamp('2010-09-06 00:00:00', freq='D'), Series([], dtype: float64))\n",
      "(Timestamp('2010-09-07 00:00:00', freq='D'), Series([], dtype: float64))\n",
      "(Timestamp('2010-09-08 00:00:00', freq='D'), Series([], dtype: float64))\n",
      "(Timestamp('2010-09-09 00:00:00', freq='D'), Series([], dtype: float64))\n",
      "(Timestamp('2010-09-10 00:00:00', freq='D'), Series([], dtype: float64))\n",
      "(Timestamp('2010-09-11 00:00:00', freq='D'), Series([], dtype: float64))\n",
      "(Timestamp('2010-09-12 00:00:00', freq='D'), Series([], dtype: float64))\n",
      "(Timestamp('2010-09-13 00:00:00', freq='D'), Series([], dtype: float64))\n",
      "(Timestamp('2010-09-14 00:00:00', freq='D'), Series([], dtype: float64))\n",
      "(Timestamp('2010-09-15 00:00:00', freq='D'), Series([], dtype: float64))\n",
      "(Timestamp('2010-09-16 00:00:00', freq='D'), Series([], dtype: float64))\n",
      "(Timestamp('2010-09-17 00:00:00', freq='D'), Series([], dtype: float64))\n",
      "(Timestamp('2010-09-18 00:00:00', freq='D'), Series([], dtype: float64))\n",
      "(Timestamp('2010-09-19 00:00:00', freq='D'), Series([], dtype: float64))\n",
      "(Timestamp('2010-09-20 00:00:00', freq='D'), Series([], dtype: float64))\n",
      "(Timestamp('2010-09-21 00:00:00', freq='D'), Series([], dtype: float64))\n",
      "(Timestamp('2010-09-22 00:00:00', freq='D'), Series([], dtype: float64))\n",
      "(Timestamp('2010-09-23 00:00:00', freq='D'), Series([], dtype: float64))\n",
      "(Timestamp('2010-09-24 00:00:00', freq='D'), Series([], dtype: float64))\n",
      "(Timestamp('2010-09-25 00:00:00', freq='D'), Series([], dtype: float64))\n",
      "(Timestamp('2010-09-26 00:00:00', freq='D'), Series([], dtype: float64))\n",
      "(Timestamp('2010-09-27 00:00:00', freq='D'), Series([], dtype: float64))\n",
      "(Timestamp('2010-09-28 00:00:00', freq='D'), Series([], dtype: float64))\n",
      "(Timestamp('2010-09-29 00:00:00', freq='D'), Series([], dtype: float64))\n",
      "(Timestamp('2010-09-30 00:00:00', freq='D'), Series([], dtype: float64))\n",
      "(Timestamp('2010-10-01 00:00:00', freq='D'), Series([], dtype: float64))\n",
      "(Timestamp('2010-10-02 00:00:00', freq='D'), Series([], dtype: float64))\n",
      "(Timestamp('2010-10-03 00:00:00', freq='D'), Series([], dtype: float64))\n",
      "(Timestamp('2010-10-04 00:00:00', freq='D'), Series([], dtype: float64))\n",
      "(Timestamp('2010-10-05 00:00:00', freq='D'), Series([], dtype: float64))\n",
      "(Timestamp('2010-10-06 00:00:00', freq='D'), Series([], dtype: float64))\n",
      "(Timestamp('2010-10-07 00:00:00', freq='D'), Series([], dtype: float64))\n",
      "(Timestamp('2010-10-08 00:00:00', freq='D'), Series([], dtype: float64))\n",
      "(Timestamp('2010-10-09 00:00:00', freq='D'), Series([], dtype: float64))\n",
      "(Timestamp('2010-10-10 00:00:00', freq='D'), Series([], dtype: float64))\n",
      "(Timestamp('2010-10-11 00:00:00', freq='D'), Series([], dtype: float64))\n",
      "(Timestamp('2010-10-12 00:00:00', freq='D'), Series([], dtype: float64))\n",
      "(Timestamp('2010-10-13 00:00:00', freq='D'), Series([], dtype: float64))\n",
      "(Timestamp('2010-10-14 00:00:00', freq='D'), Series([], dtype: float64))\n",
      "(Timestamp('2010-10-15 00:00:00', freq='D'), Series([], dtype: float64))\n",
      "(Timestamp('2010-10-16 00:00:00', freq='D'), Series([], dtype: float64))\n",
      "(Timestamp('2010-10-17 00:00:00', freq='D'), Series([], dtype: float64))\n",
      "(Timestamp('2010-10-18 00:00:00', freq='D'), Series([], dtype: float64))\n",
      "(Timestamp('2010-10-19 00:00:00', freq='D'), Series([], dtype: float64))\n",
      "(Timestamp('2010-10-20 00:00:00', freq='D'), Series([], dtype: float64))\n",
      "(Timestamp('2010-10-21 00:00:00', freq='D'), Series([], dtype: float64))\n",
      "(Timestamp('2010-10-22 00:00:00', freq='D'), Series([], dtype: float64))\n",
      "(Timestamp('2010-10-23 00:00:00', freq='D'), Series([], dtype: float64))\n",
      "(Timestamp('2010-10-24 00:00:00', freq='D'), Series([], dtype: float64))\n",
      "(Timestamp('2010-10-25 00:00:00', freq='D'), Series([], dtype: float64))\n",
      "(Timestamp('2010-10-26 00:00:00', freq='D'), Series([], dtype: float64))\n",
      "(Timestamp('2010-10-27 00:00:00', freq='D'), Series([], dtype: float64))\n",
      "(Timestamp('2010-10-28 00:00:00', freq='D'), Series([], dtype: float64))\n",
      "(Timestamp('2010-10-29 00:00:00', freq='D'), Series([], dtype: float64))\n",
      "(Timestamp('2010-10-30 00:00:00', freq='D'), Series([], dtype: float64))\n",
      "(Timestamp('2010-10-31 00:00:00', freq='D'), Series([], dtype: float64))\n",
      "(Timestamp('2010-11-01 00:00:00', freq='D'), Series([], dtype: float64))\n",
      "(Timestamp('2010-11-02 00:00:00', freq='D'), Series([], dtype: float64))\n",
      "(Timestamp('2010-11-03 00:00:00', freq='D'), Series([], dtype: float64))\n",
      "(Timestamp('2010-11-04 00:00:00', freq='D'), Series([], dtype: float64))\n",
      "(Timestamp('2010-11-05 00:00:00', freq='D'), Series([], dtype: float64))\n",
      "(Timestamp('2010-11-06 00:00:00', freq='D'), Series([], dtype: float64))\n",
      "(Timestamp('2010-11-07 00:00:00', freq='D'), Series([], dtype: float64))\n",
      "(Timestamp('2010-11-08 00:00:00', freq='D'), Series([], dtype: float64))\n",
      "(Timestamp('2010-11-09 00:00:00', freq='D'), Series([], dtype: float64))\n",
      "(Timestamp('2010-11-10 00:00:00', freq='D'), Series([], dtype: float64))\n",
      "(Timestamp('2010-11-11 00:00:00', freq='D'), Series([], dtype: float64))\n",
      "(Timestamp('2010-11-12 00:00:00', freq='D'), Series([], dtype: float64))\n",
      "(Timestamp('2010-11-13 00:00:00', freq='D'), Series([], dtype: float64))\n",
      "(Timestamp('2010-11-14 00:00:00', freq='D'), Series([], dtype: float64))\n",
      "(Timestamp('2010-11-15 00:00:00', freq='D'), Series([], dtype: float64))\n",
      "(Timestamp('2010-11-16 00:00:00', freq='D'), Series([], dtype: float64))\n",
      "(Timestamp('2010-11-17 00:00:00', freq='D'), Series([], dtype: float64))\n",
      "(Timestamp('2010-11-18 00:00:00', freq='D'), Series([], dtype: float64))\n",
      "(Timestamp('2010-11-19 00:00:00', freq='D'), Series([], dtype: float64))\n",
      "(Timestamp('2010-11-20 00:00:00', freq='D'), Series([], dtype: float64))\n",
      "(Timestamp('2010-11-21 00:00:00', freq='D'), Series([], dtype: float64))\n",
      "(Timestamp('2010-11-22 00:00:00', freq='D'), Series([], dtype: float64))\n",
      "(Timestamp('2010-11-23 00:00:00', freq='D'), Series([], dtype: float64))\n",
      "(Timestamp('2010-11-24 00:00:00', freq='D'), Series([], dtype: float64))\n",
      "(Timestamp('2010-11-25 00:00:00', freq='D'), Series([], dtype: float64))\n",
      "(Timestamp('2010-11-26 00:00:00', freq='D'), Series([], dtype: float64))\n",
      "(Timestamp('2010-11-27 00:00:00', freq='D'), Series([], dtype: float64))\n",
      "(Timestamp('2010-11-28 00:00:00', freq='D'), Series([], dtype: float64))\n",
      "(Timestamp('2010-11-29 00:00:00', freq='D'), Series([], dtype: float64))\n",
      "(Timestamp('2010-11-30 00:00:00', freq='D'), Series([], dtype: float64))\n",
      "(Timestamp('2010-12-01 00:00:00', freq='D'), Series([], dtype: float64))\n",
      "(Timestamp('2010-12-02 00:00:00', freq='D'), Series([], dtype: float64))\n",
      "(Timestamp('2010-12-03 00:00:00', freq='D'), Series([], dtype: float64))\n",
      "(Timestamp('2010-12-04 00:00:00', freq='D'), Series([], dtype: float64))\n",
      "(Timestamp('2010-12-05 00:00:00', freq='D'), Series([], dtype: float64))\n",
      "(Timestamp('2010-12-06 00:00:00', freq='D'), Series([], dtype: float64))\n",
      "(Timestamp('2010-12-07 00:00:00', freq='D'), Series([], dtype: float64))\n",
      "(Timestamp('2010-12-08 00:00:00', freq='D'), Series([], dtype: float64))\n",
      "(Timestamp('2010-12-09 00:00:00', freq='D'), Series([], dtype: float64))\n",
      "(Timestamp('2010-12-10 00:00:00', freq='D'), Series([], dtype: float64))\n",
      "(Timestamp('2010-12-11 00:00:00', freq='D'), Series([], dtype: float64))\n",
      "(Timestamp('2010-12-12 00:00:00', freq='D'), Series([], dtype: float64))\n",
      "(Timestamp('2010-12-13 00:00:00', freq='D'), Series([], dtype: float64))\n",
      "(Timestamp('2010-12-14 00:00:00', freq='D'), Series([], dtype: float64))\n",
      "(Timestamp('2010-12-15 00:00:00', freq='D'), Series([], dtype: float64))\n",
      "(Timestamp('2010-12-16 00:00:00', freq='D'), Series([], dtype: float64))\n",
      "(Timestamp('2010-12-17 00:00:00', freq='D'), Series([], dtype: float64))\n",
      "(Timestamp('2010-12-18 00:00:00', freq='D'), Series([], dtype: float64))\n",
      "(Timestamp('2010-12-19 00:00:00', freq='D'), Series([], dtype: float64))\n",
      "(Timestamp('2010-12-20 00:00:00', freq='D'), Series([], dtype: float64))\n",
      "(Timestamp('2010-12-21 00:00:00', freq='D'), Series([], dtype: float64))\n",
      "(Timestamp('2010-12-22 00:00:00', freq='D'), Series([], dtype: float64))\n",
      "(Timestamp('2010-12-23 00:00:00', freq='D'), Series([], dtype: float64))\n",
      "(Timestamp('2010-12-24 00:00:00', freq='D'), Series([], dtype: float64))\n",
      "(Timestamp('2010-12-25 00:00:00', freq='D'), Series([], dtype: float64))\n",
      "(Timestamp('2010-12-26 00:00:00', freq='D'), Series([], dtype: float64))\n",
      "(Timestamp('2010-12-27 00:00:00', freq='D'), Series([], dtype: float64))\n",
      "(Timestamp('2010-12-28 00:00:00', freq='D'), Series([], dtype: float64))\n",
      "(Timestamp('2010-12-29 00:00:00', freq='D'), Series([], dtype: float64))\n",
      "(Timestamp('2010-12-30 00:00:00', freq='D'), Series([], dtype: float64))\n",
      "(Timestamp('2010-12-31 00:00:00', freq='D'), Series([], dtype: float64))\n",
      "(Timestamp('2011-01-01 00:00:00', freq='D'), Series([], dtype: float64))\n",
      "(Timestamp('2011-01-02 00:00:00', freq='D'), Series([], dtype: float64))\n",
      "(Timestamp('2011-01-03 00:00:00', freq='D'), Series([], dtype: float64))\n",
      "(Timestamp('2011-01-04 00:00:00', freq='D'), Series([], dtype: float64))\n",
      "(Timestamp('2011-01-05 00:00:00', freq='D'), 2011-01-05   -0.123127\n",
      "dtype: float64)\n",
      "(Timestamp('2011-01-06 00:00:00', freq='D'), Series([], dtype: float64))\n",
      "(Timestamp('2011-01-07 00:00:00', freq='D'), 2011-01-07   -1.622847\n",
      "dtype: float64)\n",
      "(Timestamp('2011-01-08 00:00:00', freq='D'), 2011-01-08   -0.436533\n",
      "dtype: float64)\n",
      "(Timestamp('2011-01-09 00:00:00', freq='D'), 2011-01-09    0.167961\n",
      "dtype: float64)\n"
     ]
    }
   ],
   "source": [
    "for date in resampler:\n",
    "    print(date)"
   ]
  },
  {
   "cell_type": "code",
   "execution_count": 85,
   "id": "c9fc491c",
   "metadata": {},
   "outputs": [],
   "source": [
    "index = pd.date_range('2012-04-01', '2012-06-01')"
   ]
  },
  {
   "cell_type": "code",
   "execution_count": 86,
   "id": "b0bd7113",
   "metadata": {},
   "outputs": [
    {
     "data": {
      "text/plain": [
       "DatetimeIndex(['2012-04-01', '2012-04-02', '2012-04-03', '2012-04-04',\n",
       "               '2012-04-05', '2012-04-06', '2012-04-07', '2012-04-08',\n",
       "               '2012-04-09', '2012-04-10', '2012-04-11', '2012-04-12',\n",
       "               '2012-04-13', '2012-04-14', '2012-04-15', '2012-04-16',\n",
       "               '2012-04-17', '2012-04-18', '2012-04-19', '2012-04-20',\n",
       "               '2012-04-21', '2012-04-22', '2012-04-23', '2012-04-24',\n",
       "               '2012-04-25', '2012-04-26', '2012-04-27', '2012-04-28',\n",
       "               '2012-04-29', '2012-04-30', '2012-05-01', '2012-05-02',\n",
       "               '2012-05-03', '2012-05-04', '2012-05-05', '2012-05-06',\n",
       "               '2012-05-07', '2012-05-08', '2012-05-09', '2012-05-10',\n",
       "               '2012-05-11', '2012-05-12', '2012-05-13', '2012-05-14',\n",
       "               '2012-05-15', '2012-05-16', '2012-05-17', '2012-05-18',\n",
       "               '2012-05-19', '2012-05-20', '2012-05-21', '2012-05-22',\n",
       "               '2012-05-23', '2012-05-24', '2012-05-25', '2012-05-26',\n",
       "               '2012-05-27', '2012-05-28', '2012-05-29', '2012-05-30',\n",
       "               '2012-05-31', '2012-06-01'],\n",
       "              dtype='datetime64[ns]', freq='D')"
      ]
     },
     "execution_count": 86,
     "metadata": {},
     "output_type": "execute_result"
    }
   ],
   "source": [
    "index"
   ]
  },
  {
   "cell_type": "code",
   "execution_count": 87,
   "id": "a4a73c6a",
   "metadata": {},
   "outputs": [
    {
     "data": {
      "text/plain": [
       "DatetimeIndex(['2012-03-13', '2012-03-14', '2012-03-15', '2012-03-16',\n",
       "               '2012-03-17', '2012-03-18', '2012-03-19', '2012-03-20',\n",
       "               '2012-03-21', '2012-03-22', '2012-03-23', '2012-03-24',\n",
       "               '2012-03-25', '2012-03-26', '2012-03-27', '2012-03-28',\n",
       "               '2012-03-29', '2012-03-30', '2012-03-31', '2012-04-01'],\n",
       "              dtype='datetime64[ns]', freq='D')"
      ]
     },
     "execution_count": 87,
     "metadata": {},
     "output_type": "execute_result"
    }
   ],
   "source": [
    "pd.date_range(end='2012-04-01', periods=20) # 还可以向前生成"
   ]
  },
  {
   "cell_type": "code",
   "execution_count": 88,
   "id": "34840b4d",
   "metadata": {},
   "outputs": [
    {
     "data": {
      "text/plain": [
       "DatetimeIndex(['2000-01-01 00:00:00', '2000-01-01 00:00:01',\n",
       "               '2000-01-01 00:00:02', '2000-01-01 00:00:03',\n",
       "               '2000-01-01 00:00:04', '2000-01-01 00:00:05',\n",
       "               '2000-01-01 00:00:06', '2000-01-01 00:00:07',\n",
       "               '2000-01-01 00:00:08', '2000-01-01 00:00:09',\n",
       "               '2000-01-01 00:00:10', '2000-01-01 00:00:11',\n",
       "               '2000-01-01 00:00:12', '2000-01-01 00:00:13',\n",
       "               '2000-01-01 00:00:14', '2000-01-01 00:00:15',\n",
       "               '2000-01-01 00:00:16', '2000-01-01 00:00:17',\n",
       "               '2000-01-01 00:00:18', '2000-01-01 00:00:19',\n",
       "               '2000-01-01 00:00:20', '2000-01-01 00:00:21',\n",
       "               '2000-01-01 00:00:22', '2000-01-01 00:00:23',\n",
       "               '2000-01-01 00:00:24', '2000-01-01 00:00:25',\n",
       "               '2000-01-01 00:00:26', '2000-01-01 00:00:27',\n",
       "               '2000-01-01 00:00:28', '2000-01-01 00:00:29',\n",
       "               '2000-01-01 00:00:30', '2000-01-01 00:00:31',\n",
       "               '2000-01-01 00:00:32', '2000-01-01 00:00:33',\n",
       "               '2000-01-01 00:00:34', '2000-01-01 00:00:35',\n",
       "               '2000-01-01 00:00:36', '2000-01-01 00:00:37',\n",
       "               '2000-01-01 00:00:38', '2000-01-01 00:00:39',\n",
       "               '2000-01-01 00:00:40', '2000-01-01 00:00:41',\n",
       "               '2000-01-01 00:00:42', '2000-01-01 00:00:43',\n",
       "               '2000-01-01 00:00:44', '2000-01-01 00:00:45',\n",
       "               '2000-01-01 00:00:46', '2000-01-01 00:00:47',\n",
       "               '2000-01-01 00:00:48', '2000-01-01 00:00:49',\n",
       "               '2000-01-01 00:00:50', '2000-01-01 00:00:51',\n",
       "               '2000-01-01 00:00:52', '2000-01-01 00:00:53',\n",
       "               '2000-01-01 00:00:54', '2000-01-01 00:00:55',\n",
       "               '2000-01-01 00:00:56', '2000-01-01 00:00:57',\n",
       "               '2000-01-01 00:00:58', '2000-01-01 00:00:59',\n",
       "               '2000-01-01 00:01:00', '2000-01-01 00:01:01',\n",
       "               '2000-01-01 00:01:02', '2000-01-01 00:01:03',\n",
       "               '2000-01-01 00:01:04', '2000-01-01 00:01:05',\n",
       "               '2000-01-01 00:01:06', '2000-01-01 00:01:07',\n",
       "               '2000-01-01 00:01:08', '2000-01-01 00:01:09',\n",
       "               '2000-01-01 00:01:10', '2000-01-01 00:01:11',\n",
       "               '2000-01-01 00:01:12', '2000-01-01 00:01:13',\n",
       "               '2000-01-01 00:01:14', '2000-01-01 00:01:15',\n",
       "               '2000-01-01 00:01:16', '2000-01-01 00:01:17',\n",
       "               '2000-01-01 00:01:18', '2000-01-01 00:01:19',\n",
       "               '2000-01-01 00:01:20', '2000-01-01 00:01:21',\n",
       "               '2000-01-01 00:01:22', '2000-01-01 00:01:23',\n",
       "               '2000-01-01 00:01:24', '2000-01-01 00:01:25',\n",
       "               '2000-01-01 00:01:26', '2000-01-01 00:01:27',\n",
       "               '2000-01-01 00:01:28', '2000-01-01 00:01:29',\n",
       "               '2000-01-01 00:01:30', '2000-01-01 00:01:31',\n",
       "               '2000-01-01 00:01:32', '2000-01-01 00:01:33',\n",
       "               '2000-01-01 00:01:34', '2000-01-01 00:01:35',\n",
       "               '2000-01-01 00:01:36', '2000-01-01 00:01:37',\n",
       "               '2000-01-01 00:01:38', '2000-01-01 00:01:39'],\n",
       "              dtype='datetime64[ns]', freq='S')"
      ]
     },
     "execution_count": 88,
     "metadata": {},
     "output_type": "execute_result"
    }
   ],
   "source": [
    "pd.date_range('2000-01-01', freq='S', periods=100)"
   ]
  },
  {
   "cell_type": "code",
   "execution_count": 89,
   "id": "ec69703b",
   "metadata": {},
   "outputs": [
    {
     "data": {
      "text/plain": [
       "DatetimeIndex(['2012-05-02', '2012-05-03', '2012-05-04', '2012-05-07',\n",
       "               '2012-05-08', '2012-05-09', '2012-05-10', '2012-05-11',\n",
       "               '2012-05-14', '2012-05-15'],\n",
       "              dtype='datetime64[ns]', freq='B')"
      ]
     },
     "execution_count": 89,
     "metadata": {},
     "output_type": "execute_result"
    }
   ],
   "source": [
    "pd.date_range('2012-05-02 12:56:12', periods=10, freq='B', normalize=True) # 是否对时间进行标准化处理"
   ]
  },
  {
   "cell_type": "code",
   "execution_count": 90,
   "id": "a1c5504a",
   "metadata": {},
   "outputs": [],
   "source": [
    "from pandas.tseries.offsets import Hour, Minute"
   ]
  },
  {
   "cell_type": "code",
   "execution_count": 91,
   "id": "a13128e6",
   "metadata": {},
   "outputs": [],
   "source": [
    "hour = Hour()"
   ]
  },
  {
   "cell_type": "code",
   "execution_count": 92,
   "id": "c2b23721",
   "metadata": {},
   "outputs": [
    {
     "data": {
      "text/plain": [
       "<Hour>"
      ]
     },
     "execution_count": 92,
     "metadata": {},
     "output_type": "execute_result"
    }
   ],
   "source": [
    "hour"
   ]
  },
  {
   "cell_type": "code",
   "execution_count": 93,
   "id": "c01966ed",
   "metadata": {},
   "outputs": [],
   "source": [
    "four_hours = Hour(4)"
   ]
  },
  {
   "cell_type": "code",
   "execution_count": 94,
   "id": "8fb8dfd9",
   "metadata": {},
   "outputs": [
    {
     "data": {
      "text/plain": [
       "<4 * Hours>"
      ]
     },
     "execution_count": 94,
     "metadata": {},
     "output_type": "execute_result"
    }
   ],
   "source": [
    "four_hours"
   ]
  },
  {
   "cell_type": "code",
   "execution_count": 95,
   "id": "c7e32df0",
   "metadata": {},
   "outputs": [
    {
     "data": {
      "text/plain": [
       "DatetimeIndex(['2000-01-01 00:00:00', '2000-01-01 04:00:00',\n",
       "               '2000-01-01 08:00:00', '2000-01-01 12:00:00',\n",
       "               '2000-01-01 16:00:00', '2000-01-01 20:00:00',\n",
       "               '2000-01-02 00:00:00', '2000-01-02 04:00:00',\n",
       "               '2000-01-02 08:00:00', '2000-01-02 12:00:00',\n",
       "               '2000-01-02 16:00:00', '2000-01-02 20:00:00',\n",
       "               '2000-01-03 00:00:00'],\n",
       "              dtype='datetime64[ns]', freq='4H')"
      ]
     },
     "execution_count": 95,
     "metadata": {},
     "output_type": "execute_result"
    }
   ],
   "source": [
    "pd.date_range('2000-01-01', '2000-01-03', freq='4h')"
   ]
  },
  {
   "cell_type": "code",
   "execution_count": 96,
   "id": "38800cde",
   "metadata": {},
   "outputs": [
    {
     "data": {
      "text/plain": [
       "<150 * Minutes>"
      ]
     },
     "execution_count": 96,
     "metadata": {},
     "output_type": "execute_result"
    }
   ],
   "source": [
    "Hour(2) + Minute(30)"
   ]
  },
  {
   "cell_type": "code",
   "execution_count": 97,
   "id": "1f499076",
   "metadata": {},
   "outputs": [
    {
     "data": {
      "text/plain": [
       "DatetimeIndex(['2000-01-01 00:00:00', '2000-01-01 02:15:00',\n",
       "               '2000-01-01 04:30:00', '2000-01-01 06:45:00',\n",
       "               '2000-01-01 09:00:00', '2000-01-01 11:15:00',\n",
       "               '2000-01-01 13:30:00', '2000-01-01 15:45:00',\n",
       "               '2000-01-01 18:00:00', '2000-01-01 20:15:00',\n",
       "               '2000-01-01 22:30:00', '2000-01-02 00:45:00',\n",
       "               '2000-01-02 03:00:00', '2000-01-02 05:15:00',\n",
       "               '2000-01-02 07:30:00', '2000-01-02 09:45:00',\n",
       "               '2000-01-02 12:00:00', '2000-01-02 14:15:00',\n",
       "               '2000-01-02 16:30:00', '2000-01-02 18:45:00'],\n",
       "              dtype='datetime64[ns]', freq='135T')"
      ]
     },
     "execution_count": 97,
     "metadata": {},
     "output_type": "execute_result"
    }
   ],
   "source": [
    "pd.date_range('2000-01-01', periods=20, freq='2h15min') # 使用基础类型自定义时间间隔"
   ]
  },
  {
   "cell_type": "code",
   "execution_count": 98,
   "id": "8ad74e52",
   "metadata": {},
   "outputs": [],
   "source": [
    "rng = pd.date_range('2000-01-01', periods=20, freq='WOM-2FRI') # 使用基础类型自定义时间间隔"
   ]
  },
  {
   "cell_type": "code",
   "execution_count": 99,
   "id": "335d6107",
   "metadata": {},
   "outputs": [
    {
     "data": {
      "text/plain": [
       "[Timestamp('2000-01-14 00:00:00', freq='WOM-2FRI'),\n",
       " Timestamp('2000-02-11 00:00:00', freq='WOM-2FRI'),\n",
       " Timestamp('2000-03-10 00:00:00', freq='WOM-2FRI'),\n",
       " Timestamp('2000-04-14 00:00:00', freq='WOM-2FRI'),\n",
       " Timestamp('2000-05-12 00:00:00', freq='WOM-2FRI'),\n",
       " Timestamp('2000-06-09 00:00:00', freq='WOM-2FRI'),\n",
       " Timestamp('2000-07-14 00:00:00', freq='WOM-2FRI'),\n",
       " Timestamp('2000-08-11 00:00:00', freq='WOM-2FRI'),\n",
       " Timestamp('2000-09-08 00:00:00', freq='WOM-2FRI'),\n",
       " Timestamp('2000-10-13 00:00:00', freq='WOM-2FRI'),\n",
       " Timestamp('2000-11-10 00:00:00', freq='WOM-2FRI'),\n",
       " Timestamp('2000-12-08 00:00:00', freq='WOM-2FRI'),\n",
       " Timestamp('2001-01-12 00:00:00', freq='WOM-2FRI'),\n",
       " Timestamp('2001-02-09 00:00:00', freq='WOM-2FRI'),\n",
       " Timestamp('2001-03-09 00:00:00', freq='WOM-2FRI'),\n",
       " Timestamp('2001-04-13 00:00:00', freq='WOM-2FRI'),\n",
       " Timestamp('2001-05-11 00:00:00', freq='WOM-2FRI'),\n",
       " Timestamp('2001-06-08 00:00:00', freq='WOM-2FRI'),\n",
       " Timestamp('2001-07-13 00:00:00', freq='WOM-2FRI'),\n",
       " Timestamp('2001-08-10 00:00:00', freq='WOM-2FRI')]"
      ]
     },
     "execution_count": 99,
     "metadata": {},
     "output_type": "execute_result"
    }
   ],
   "source": [
    "list(rng)"
   ]
  },
  {
   "cell_type": "code",
   "execution_count": 100,
   "id": "068e745f",
   "metadata": {},
   "outputs": [],
   "source": [
    "ts = pd.Series(np.random.randn(4),\n",
    "              index=pd.date_range('1/1/2000', periods=4, freq='M'))"
   ]
  },
  {
   "cell_type": "code",
   "execution_count": 101,
   "id": "25c40c95",
   "metadata": {},
   "outputs": [
    {
     "data": {
      "text/plain": [
       "2000-01-31    1.357191\n",
       "2000-02-29    1.600291\n",
       "2000-03-31   -0.356295\n",
       "2000-04-30    1.071593\n",
       "Freq: M, dtype: float64"
      ]
     },
     "execution_count": 101,
     "metadata": {},
     "output_type": "execute_result"
    }
   ],
   "source": [
    "ts"
   ]
  },
  {
   "cell_type": "code",
   "execution_count": 102,
   "id": "dd178edb",
   "metadata": {},
   "outputs": [
    {
     "data": {
      "text/plain": [
       "2000-01-31         NaN\n",
       "2000-02-29         NaN\n",
       "2000-03-31    1.357191\n",
       "2000-04-30    1.600291\n",
       "Freq: M, dtype: float64"
      ]
     },
     "execution_count": 102,
     "metadata": {},
     "output_type": "execute_result"
    }
   ],
   "source": [
    "ts.shift(2)"
   ]
  },
  {
   "cell_type": "code",
   "execution_count": 103,
   "id": "0ac9dce8",
   "metadata": {},
   "outputs": [
    {
     "data": {
      "text/plain": [
       "2000-02-20    1.357191\n",
       "2000-03-20    1.600291\n",
       "2000-04-20   -0.356295\n",
       "2000-05-20    1.071593\n",
       "dtype: float64"
      ]
     },
     "execution_count": 103,
     "metadata": {},
     "output_type": "execute_result"
    }
   ],
   "source": [
    "ts.shift(freq=timedelta(20))"
   ]
  },
  {
   "cell_type": "code",
   "execution_count": 104,
   "id": "236c1d0f",
   "metadata": {},
   "outputs": [
    {
     "data": {
      "text/plain": [
       "2000-01-31    10.000000\n",
       "2000-02-29    10.000000\n",
       "2000-03-31     1.357191\n",
       "2000-04-30     1.600291\n",
       "Freq: M, dtype: float64"
      ]
     },
     "execution_count": 104,
     "metadata": {},
     "output_type": "execute_result"
    }
   ],
   "source": [
    "ts.shift(2, fill_value=10) # 如果产生了na则用value进行填充"
   ]
  },
  {
   "cell_type": "code",
   "execution_count": 105,
   "id": "e7ad159a",
   "metadata": {},
   "outputs": [
    {
     "data": {
      "text/plain": [
       "2000-01-31         NaN\n",
       "2000-02-29    0.179120\n",
       "2000-03-31   -1.222644\n",
       "2000-04-30   -4.007600\n",
       "Freq: M, dtype: float64"
      ]
     },
     "execution_count": 105,
     "metadata": {},
     "output_type": "execute_result"
    }
   ],
   "source": [
    "ts / ts.shift(1) - 1"
   ]
  },
  {
   "cell_type": "code",
   "execution_count": 106,
   "id": "4d55f65e",
   "metadata": {},
   "outputs": [
    {
     "data": {
      "text/plain": [
       "2000-04-30    1.357191\n",
       "2000-05-31    1.600291\n",
       "2000-06-30   -0.356295\n",
       "2000-07-31    1.071593\n",
       "Freq: M, dtype: float64"
      ]
     },
     "execution_count": 106,
     "metadata": {},
     "output_type": "execute_result"
    }
   ],
   "source": [
    "ts.shift(3, freq='M')"
   ]
  },
  {
   "cell_type": "code",
   "execution_count": 107,
   "id": "00acd019",
   "metadata": {},
   "outputs": [
    {
     "data": {
      "text/plain": [
       "2000-01-31 04:30:00    1.357191\n",
       "2000-02-29 04:30:00    1.600291\n",
       "2000-03-31 04:30:00   -0.356295\n",
       "2000-04-30 04:30:00    1.071593\n",
       "dtype: float64"
      ]
     },
     "execution_count": 107,
     "metadata": {},
     "output_type": "execute_result"
    }
   ],
   "source": [
    "ts.shift(3, freq='90T')"
   ]
  },
  {
   "cell_type": "code",
   "execution_count": 108,
   "id": "b035e0b1",
   "metadata": {},
   "outputs": [],
   "source": [
    "ts.shift?"
   ]
  },
  {
   "cell_type": "code",
   "execution_count": 109,
   "id": "8203cb76",
   "metadata": {},
   "outputs": [],
   "source": [
    "from pandas.tseries.offsets import Day, MonthEnd, Week"
   ]
  },
  {
   "cell_type": "code",
   "execution_count": 110,
   "id": "683037ff",
   "metadata": {},
   "outputs": [],
   "source": [
    "now = datetime(2011, 11, 17)"
   ]
  },
  {
   "cell_type": "code",
   "execution_count": 111,
   "id": "0c552d1d",
   "metadata": {},
   "outputs": [
    {
     "data": {
      "text/plain": [
       "Timestamp('2011-11-20 00:00:00')"
      ]
     },
     "execution_count": 111,
     "metadata": {},
     "output_type": "execute_result"
    }
   ],
   "source": [
    "now + 3 * Day()"
   ]
  },
  {
   "cell_type": "code",
   "execution_count": 112,
   "id": "04700a4c",
   "metadata": {},
   "outputs": [
    {
     "data": {
      "text/plain": [
       "Timestamp('2011-11-20 00:00:00')"
      ]
     },
     "execution_count": 112,
     "metadata": {},
     "output_type": "execute_result"
    }
   ],
   "source": [
    "now + Day(3)"
   ]
  },
  {
   "cell_type": "code",
   "execution_count": 113,
   "id": "a654f48e",
   "metadata": {},
   "outputs": [
    {
     "data": {
      "text/plain": [
       "Timestamp('2011-11-30 00:00:00')"
      ]
     },
     "execution_count": 113,
     "metadata": {},
     "output_type": "execute_result"
    }
   ],
   "source": [
    "now + Week(2, weekday=2)"
   ]
  },
  {
   "cell_type": "code",
   "execution_count": 114,
   "id": "f24b1700",
   "metadata": {},
   "outputs": [],
   "source": [
    "Week?"
   ]
  },
  {
   "cell_type": "code",
   "execution_count": 115,
   "id": "f962f90b",
   "metadata": {},
   "outputs": [],
   "source": [
    "offset = MonthEnd()"
   ]
  },
  {
   "cell_type": "code",
   "execution_count": 116,
   "id": "f0d9b321",
   "metadata": {},
   "outputs": [
    {
     "data": {
      "text/plain": [
       "<MonthEnd>"
      ]
     },
     "execution_count": 116,
     "metadata": {},
     "output_type": "execute_result"
    }
   ],
   "source": [
    "offset"
   ]
  },
  {
   "cell_type": "code",
   "execution_count": 117,
   "id": "4f5ff2c7",
   "metadata": {},
   "outputs": [
    {
     "data": {
      "text/plain": [
       "Timestamp('2011-11-30 00:00:00')"
      ]
     },
     "execution_count": 117,
     "metadata": {},
     "output_type": "execute_result"
    }
   ],
   "source": [
    "offset.rollforward(now)"
   ]
  },
  {
   "cell_type": "code",
   "execution_count": 118,
   "id": "d90015c8",
   "metadata": {},
   "outputs": [
    {
     "data": {
      "text/plain": [
       "Timestamp('2011-10-31 00:00:00')"
      ]
     },
     "execution_count": 118,
     "metadata": {},
     "output_type": "execute_result"
    }
   ],
   "source": [
    "offset.rollback(now)"
   ]
  },
  {
   "cell_type": "code",
   "execution_count": 119,
   "id": "edb22033",
   "metadata": {},
   "outputs": [],
   "source": [
    "ts = pd.Series(np.random.randn(20),\n",
    "              index=pd.date_range('1/15/2000', periods=20, freq='4d'))"
   ]
  },
  {
   "cell_type": "code",
   "execution_count": 120,
   "id": "f65f1f6c",
   "metadata": {},
   "outputs": [
    {
     "data": {
      "text/plain": [
       "2000-01-15   -1.730440\n",
       "2000-01-19    0.404422\n",
       "2000-01-23   -0.139174\n",
       "2000-01-27   -0.117330\n",
       "2000-01-31   -0.339574\n",
       "2000-02-04   -1.583260\n",
       "2000-02-08    0.806698\n",
       "2000-02-12   -0.559944\n",
       "2000-02-16   -0.485259\n",
       "2000-02-20    0.402509\n",
       "2000-02-24    0.227017\n",
       "2000-02-28    0.915633\n",
       "2000-03-03    0.342859\n",
       "2000-03-07    0.479005\n",
       "2000-03-11    0.251633\n",
       "2000-03-15    0.459771\n",
       "2000-03-19    1.106388\n",
       "2000-03-23   -0.752128\n",
       "2000-03-27   -0.282107\n",
       "2000-03-31    0.539594\n",
       "Freq: 4D, dtype: float64"
      ]
     },
     "execution_count": 120,
     "metadata": {},
     "output_type": "execute_result"
    }
   ],
   "source": [
    "ts"
   ]
  },
  {
   "cell_type": "code",
   "execution_count": 121,
   "id": "81f52e25",
   "metadata": {},
   "outputs": [
    {
     "data": {
      "text/plain": [
       "2000-01-31    5\n",
       "2000-02-29    7\n",
       "2000-03-31    8\n",
       "dtype: int64"
      ]
     },
     "execution_count": 121,
     "metadata": {},
     "output_type": "execute_result"
    }
   ],
   "source": [
    "ts.groupby(offset.rollforward).size() # 使用函数进行聚合分组"
   ]
  },
  {
   "cell_type": "code",
   "execution_count": 122,
   "id": "a1dba40d",
   "metadata": {},
   "outputs": [
    {
     "data": {
      "text/plain": [
       "1999-12-31   -0.395631\n",
       "2000-01-31   -0.077022\n",
       "2000-02-29    0.229346\n",
       "2000-03-31    0.539594\n",
       "dtype: float64"
      ]
     },
     "execution_count": 122,
     "metadata": {},
     "output_type": "execute_result"
    }
   ],
   "source": [
    "ts.groupby(offset.rollback).mean()"
   ]
  },
  {
   "cell_type": "code",
   "execution_count": 123,
   "id": "04e03e2d",
   "metadata": {},
   "outputs": [
    {
     "data": {
      "text/plain": [
       "2000-01-31   -0.384419\n",
       "2000-02-29   -0.039515\n",
       "2000-03-31    0.268127\n",
       "Freq: M, dtype: float64"
      ]
     },
     "execution_count": 123,
     "metadata": {},
     "output_type": "execute_result"
    }
   ],
   "source": [
    "ts.resample('M').mean() # 使用偏移量别名进行重采样"
   ]
  },
  {
   "cell_type": "code",
   "execution_count": 124,
   "id": "02a0d8fd",
   "metadata": {},
   "outputs": [],
   "source": [
    "time_index = pd.date_range('2001-1-2', freq='W-WED', periods=10, name='timestamp')"
   ]
  },
  {
   "cell_type": "code",
   "execution_count": 125,
   "id": "63690076",
   "metadata": {},
   "outputs": [],
   "source": [
    "fuck = pd.Series(np.random.randn(10),\n",
    "                index=time_index)"
   ]
  },
  {
   "cell_type": "code",
   "execution_count": 126,
   "id": "0e41ca15",
   "metadata": {},
   "outputs": [
    {
     "data": {
      "text/plain": [
       "timestamp\n",
       "2001-01-03    0.815570\n",
       "2001-01-10    0.120855\n",
       "2001-01-17   -1.542489\n",
       "2001-01-24    0.977886\n",
       "2001-01-31    0.549157\n",
       "2001-02-07   -1.746754\n",
       "2001-02-14   -0.836430\n",
       "2001-02-21   -0.401253\n",
       "2001-02-28    0.011200\n",
       "2001-03-07    0.207839\n",
       "Freq: W-WED, dtype: float64"
      ]
     },
     "execution_count": 126,
     "metadata": {},
     "output_type": "execute_result"
    }
   ],
   "source": [
    "fuck"
   ]
  },
  {
   "cell_type": "code",
   "execution_count": 127,
   "id": "39e2e765",
   "metadata": {},
   "outputs": [],
   "source": [
    "import pytz # pd中内置的处理时间的库"
   ]
  },
  {
   "cell_type": "code",
   "execution_count": 128,
   "id": "acdcedfb",
   "metadata": {},
   "outputs": [
    {
     "data": {
      "text/plain": [
       "['US/Eastern', 'US/Hawaii', 'US/Mountain', 'US/Pacific', 'UTC']"
      ]
     },
     "execution_count": 128,
     "metadata": {},
     "output_type": "execute_result"
    }
   ],
   "source": [
    "pytz.common_timezones[-5:]"
   ]
  },
  {
   "cell_type": "code",
   "execution_count": 129,
   "id": "e68e9714",
   "metadata": {},
   "outputs": [],
   "source": [
    "tz = pytz.timezone('America/New_York')"
   ]
  },
  {
   "cell_type": "code",
   "execution_count": 130,
   "id": "df5efd1c",
   "metadata": {},
   "outputs": [
    {
     "data": {
      "text/plain": [
       "<DstTzInfo 'America/New_York' LMT-1 day, 19:04:00 STD>"
      ]
     },
     "execution_count": 130,
     "metadata": {},
     "output_type": "execute_result"
    }
   ],
   "source": [
    "tz"
   ]
  },
  {
   "cell_type": "code",
   "execution_count": 131,
   "id": "4e27b9c2",
   "metadata": {},
   "outputs": [],
   "source": [
    "rng = pd.date_range('3/9/2012 9:30', periods=6, freq='D')"
   ]
  },
  {
   "cell_type": "code",
   "execution_count": 132,
   "id": "0effc16c",
   "metadata": {},
   "outputs": [
    {
     "data": {
      "text/plain": [
       "DatetimeIndex(['2012-03-09 09:30:00', '2012-03-10 09:30:00',\n",
       "               '2012-03-11 09:30:00', '2012-03-12 09:30:00',\n",
       "               '2012-03-13 09:30:00', '2012-03-14 09:30:00'],\n",
       "              dtype='datetime64[ns]', freq='D')"
      ]
     },
     "execution_count": 132,
     "metadata": {},
     "output_type": "execute_result"
    }
   ],
   "source": [
    "rng"
   ]
  },
  {
   "cell_type": "code",
   "execution_count": 133,
   "id": "b02b6216",
   "metadata": {},
   "outputs": [],
   "source": [
    "ts = pd.Series(np.random.randn(len(rng)), index=rng)"
   ]
  },
  {
   "cell_type": "code",
   "execution_count": 134,
   "id": "4fa59e12",
   "metadata": {},
   "outputs": [
    {
     "data": {
      "text/plain": [
       "2012-03-09 09:30:00    0.505866\n",
       "2012-03-10 09:30:00    0.072117\n",
       "2012-03-11 09:30:00   -0.432261\n",
       "2012-03-12 09:30:00    0.067058\n",
       "2012-03-13 09:30:00   -0.702998\n",
       "2012-03-14 09:30:00    0.784229\n",
       "Freq: D, dtype: float64"
      ]
     },
     "execution_count": 134,
     "metadata": {},
     "output_type": "execute_result"
    }
   ],
   "source": [
    "ts"
   ]
  },
  {
   "cell_type": "code",
   "execution_count": 135,
   "id": "f31800cd",
   "metadata": {},
   "outputs": [
    {
     "name": "stdout",
     "output_type": "stream",
     "text": [
      "None\n"
     ]
    }
   ],
   "source": [
    "print(ts.index.tz)"
   ]
  },
  {
   "cell_type": "code",
   "execution_count": 136,
   "id": "1f542931",
   "metadata": {},
   "outputs": [
    {
     "data": {
      "text/plain": [
       "DatetimeIndex(['2011-03-09 00:00:00+00:00', '2011-03-10 00:00:00+00:00',\n",
       "               '2011-03-11 00:00:00+00:00', '2011-03-12 00:00:00+00:00',\n",
       "               '2011-03-13 00:00:00+00:00', '2011-03-14 00:00:00+00:00',\n",
       "               '2011-03-15 00:00:00+00:00', '2011-03-16 00:00:00+00:00',\n",
       "               '2011-03-17 00:00:00+00:00', '2011-03-18 00:00:00+00:00'],\n",
       "              dtype='datetime64[ns, UTC]', freq='D')"
      ]
     },
     "execution_count": 136,
     "metadata": {},
     "output_type": "execute_result"
    }
   ],
   "source": [
    "pd.date_range('3/9/2011', periods=10, freq='D', tz='UTC') # 特定的时间"
   ]
  },
  {
   "cell_type": "code",
   "execution_count": 137,
   "id": "e9939663",
   "metadata": {},
   "outputs": [
    {
     "data": {
      "text/plain": [
       "2012-03-09 09:30:00    0.505866\n",
       "2012-03-10 09:30:00    0.072117\n",
       "2012-03-11 09:30:00   -0.432261\n",
       "2012-03-12 09:30:00    0.067058\n",
       "2012-03-13 09:30:00   -0.702998\n",
       "2012-03-14 09:30:00    0.784229\n",
       "Freq: D, dtype: float64"
      ]
     },
     "execution_count": 137,
     "metadata": {},
     "output_type": "execute_result"
    }
   ],
   "source": [
    "ts"
   ]
  },
  {
   "cell_type": "code",
   "execution_count": 138,
   "id": "4d803ac8",
   "metadata": {},
   "outputs": [],
   "source": [
    "ts_utc = ts.tz_localize('UTC') # 转换为标准时间UTC"
   ]
  },
  {
   "cell_type": "code",
   "execution_count": 139,
   "id": "a6aabd95",
   "metadata": {},
   "outputs": [
    {
     "data": {
      "text/plain": [
       "2012-03-09 09:30:00+00:00    0.505866\n",
       "2012-03-10 09:30:00+00:00    0.072117\n",
       "2012-03-11 09:30:00+00:00   -0.432261\n",
       "2012-03-12 09:30:00+00:00    0.067058\n",
       "2012-03-13 09:30:00+00:00   -0.702998\n",
       "2012-03-14 09:30:00+00:00    0.784229\n",
       "Freq: D, dtype: float64"
      ]
     },
     "execution_count": 139,
     "metadata": {},
     "output_type": "execute_result"
    }
   ],
   "source": [
    "ts_utc"
   ]
  },
  {
   "cell_type": "code",
   "execution_count": 140,
   "id": "7b28c786",
   "metadata": {},
   "outputs": [
    {
     "data": {
      "text/plain": [
       "DatetimeIndex(['2012-03-09 09:30:00+00:00', '2012-03-10 09:30:00+00:00',\n",
       "               '2012-03-11 09:30:00+00:00', '2012-03-12 09:30:00+00:00',\n",
       "               '2012-03-13 09:30:00+00:00', '2012-03-14 09:30:00+00:00'],\n",
       "              dtype='datetime64[ns, UTC]', freq='D')"
      ]
     },
     "execution_count": 140,
     "metadata": {},
     "output_type": "execute_result"
    }
   ],
   "source": [
    "ts_utc.index"
   ]
  },
  {
   "cell_type": "code",
   "execution_count": 141,
   "id": "55df440d",
   "metadata": {},
   "outputs": [
    {
     "data": {
      "text/plain": [
       "<UTC>"
      ]
     },
     "execution_count": 141,
     "metadata": {},
     "output_type": "execute_result"
    }
   ],
   "source": [
    "ts_utc.index.tz"
   ]
  },
  {
   "cell_type": "code",
   "execution_count": 142,
   "id": "53a7cc6e",
   "metadata": {},
   "outputs": [],
   "source": [
    "ts_eastern = ts.tz_localize('America/Chicago')"
   ]
  },
  {
   "cell_type": "code",
   "execution_count": 143,
   "id": "1a8cc2d9",
   "metadata": {},
   "outputs": [
    {
     "data": {
      "text/plain": [
       "2012-03-09 09:30:00-06:00    0.505866\n",
       "2012-03-10 09:30:00-06:00    0.072117\n",
       "2012-03-11 09:30:00-05:00   -0.432261\n",
       "2012-03-12 09:30:00-05:00    0.067058\n",
       "2012-03-13 09:30:00-05:00   -0.702998\n",
       "2012-03-14 09:30:00-05:00    0.784229\n",
       "dtype: float64"
      ]
     },
     "execution_count": 143,
     "metadata": {},
     "output_type": "execute_result"
    }
   ],
   "source": [
    "ts_eastern"
   ]
  },
  {
   "cell_type": "code",
   "execution_count": 144,
   "id": "6be7ef92",
   "metadata": {},
   "outputs": [
    {
     "data": {
      "text/plain": [
       "2012-03-09 16:30:00+01:00    0.505866\n",
       "2012-03-10 16:30:00+01:00    0.072117\n",
       "2012-03-11 15:30:00+01:00   -0.432261\n",
       "2012-03-12 15:30:00+01:00    0.067058\n",
       "2012-03-13 15:30:00+01:00   -0.702998\n",
       "2012-03-14 15:30:00+01:00    0.784229\n",
       "dtype: float64"
      ]
     },
     "execution_count": 144,
     "metadata": {},
     "output_type": "execute_result"
    }
   ],
   "source": [
    "ts_eastern.tz_convert('Europe/Berlin')"
   ]
  },
  {
   "cell_type": "code",
   "execution_count": 145,
   "id": "5dee5304",
   "metadata": {},
   "outputs": [
    {
     "data": {
      "text/plain": [
       "DatetimeIndex(['2012-03-09 09:30:00', '2012-03-10 09:30:00',\n",
       "               '2012-03-11 09:30:00', '2012-03-12 09:30:00',\n",
       "               '2012-03-13 09:30:00', '2012-03-14 09:30:00'],\n",
       "              dtype='datetime64[ns]', freq='D')"
      ]
     },
     "execution_count": 145,
     "metadata": {},
     "output_type": "execute_result"
    }
   ],
   "source": [
    "ts.index"
   ]
  },
  {
   "cell_type": "code",
   "execution_count": 146,
   "id": "ad69b19b",
   "metadata": {},
   "outputs": [
    {
     "data": {
      "text/plain": [
       "Timestamp('2012-03-09 09:30:00-0500', tz='America/New_York')"
      ]
     },
     "execution_count": 146,
     "metadata": {},
     "output_type": "execute_result"
    }
   ],
   "source": [
    "ts.index.tz_localize('America/New_York')[0]"
   ]
  },
  {
   "cell_type": "code",
   "execution_count": 147,
   "id": "df06032d",
   "metadata": {},
   "outputs": [],
   "source": [
    "stamp = pd.Timestamp('2011-03-12 04:00')"
   ]
  },
  {
   "cell_type": "code",
   "execution_count": 148,
   "id": "c20d7b92",
   "metadata": {},
   "outputs": [],
   "source": [
    "stamp_utc = stamp.tz_localize('utc')"
   ]
  },
  {
   "cell_type": "code",
   "execution_count": 149,
   "id": "25b5efcf",
   "metadata": {},
   "outputs": [
    {
     "data": {
      "text/plain": [
       "Timestamp('2011-03-12 04:00:00+0000', tz='UTC')"
      ]
     },
     "execution_count": 149,
     "metadata": {},
     "output_type": "execute_result"
    }
   ],
   "source": [
    "stamp_utc"
   ]
  },
  {
   "cell_type": "code",
   "execution_count": 150,
   "id": "ee38c54a",
   "metadata": {},
   "outputs": [],
   "source": [
    "stamp_ame = stamp_utc.tz_convert('America/Chicago')"
   ]
  },
  {
   "cell_type": "code",
   "execution_count": 151,
   "id": "a0a13d0e",
   "metadata": {},
   "outputs": [
    {
     "data": {
      "text/plain": [
       "Timestamp('2011-03-11 22:00:00-0600', tz='America/Chicago')"
      ]
     },
     "execution_count": 151,
     "metadata": {},
     "output_type": "execute_result"
    }
   ],
   "source": [
    "stamp_ame"
   ]
  },
  {
   "cell_type": "code",
   "execution_count": 152,
   "id": "b80da672",
   "metadata": {},
   "outputs": [],
   "source": [
    "stamp_moscow = pd.Timestamp('2011-03-12 04:00', tz='Europe/Moscow')"
   ]
  },
  {
   "cell_type": "code",
   "execution_count": 153,
   "id": "c4cd2e27",
   "metadata": {},
   "outputs": [
    {
     "data": {
      "text/plain": [
       "Timestamp('2011-03-12 04:00:00+0300', tz='Europe/Moscow')"
      ]
     },
     "execution_count": 153,
     "metadata": {},
     "output_type": "execute_result"
    }
   ],
   "source": [
    "stamp_moscow"
   ]
  },
  {
   "cell_type": "code",
   "execution_count": 154,
   "id": "54344afd",
   "metadata": {},
   "outputs": [
    {
     "data": {
      "text/plain": [
       "1299902400000000000"
      ]
     },
     "execution_count": 154,
     "metadata": {},
     "output_type": "execute_result"
    }
   ],
   "source": [
    "stamp_utc.value"
   ]
  },
  {
   "cell_type": "code",
   "execution_count": 155,
   "id": "19bc0673",
   "metadata": {},
   "outputs": [
    {
     "data": {
      "text/plain": [
       "1299902400000000000"
      ]
     },
     "execution_count": 155,
     "metadata": {},
     "output_type": "execute_result"
    }
   ],
   "source": [
    "stamp_utc.tz_convert('America/Chicago').value # 值不改变"
   ]
  },
  {
   "cell_type": "code",
   "execution_count": 156,
   "id": "83b3efc3",
   "metadata": {},
   "outputs": [],
   "source": [
    "from pandas.tseries.offsets import Hour"
   ]
  },
  {
   "cell_type": "code",
   "execution_count": 157,
   "id": "a08e5837",
   "metadata": {},
   "outputs": [],
   "source": [
    "stamp = pd.Timestamp('2012-03-12 01:30', tz='US/Eastern')"
   ]
  },
  {
   "cell_type": "code",
   "execution_count": 158,
   "id": "1e96f175",
   "metadata": {},
   "outputs": [
    {
     "data": {
      "text/plain": [
       "Timestamp('2012-03-12 01:30:00-0400', tz='US/Eastern')"
      ]
     },
     "execution_count": 158,
     "metadata": {},
     "output_type": "execute_result"
    }
   ],
   "source": [
    "stamp"
   ]
  },
  {
   "cell_type": "code",
   "execution_count": 159,
   "id": "43cec2d8",
   "metadata": {},
   "outputs": [
    {
     "data": {
      "text/plain": [
       "Timestamp('2012-03-12 02:30:00-0400', tz='US/Eastern')"
      ]
     },
     "execution_count": 159,
     "metadata": {},
     "output_type": "execute_result"
    }
   ],
   "source": [
    "stamp + Hour()"
   ]
  },
  {
   "cell_type": "code",
   "execution_count": 160,
   "id": "01ea2326",
   "metadata": {},
   "outputs": [],
   "source": [
    "stamp = pd.Timestamp('2012-11-04 00:30', tz='US/Eastern')"
   ]
  },
  {
   "cell_type": "code",
   "execution_count": 161,
   "id": "7c196858",
   "metadata": {},
   "outputs": [
    {
     "data": {
      "text/plain": [
       "Timestamp('2012-11-04 00:30:00-0400', tz='US/Eastern')"
      ]
     },
     "execution_count": 161,
     "metadata": {},
     "output_type": "execute_result"
    }
   ],
   "source": [
    "stamp"
   ]
  },
  {
   "cell_type": "code",
   "execution_count": 162,
   "id": "3f708a18",
   "metadata": {},
   "outputs": [
    {
     "data": {
      "text/plain": [
       "Timestamp('2012-11-04 01:30:00-0500', tz='US/Eastern')"
      ]
     },
     "execution_count": 162,
     "metadata": {},
     "output_type": "execute_result"
    }
   ],
   "source": [
    "stamp + Hour(2)"
   ]
  },
  {
   "cell_type": "code",
   "execution_count": 163,
   "id": "a35b08e4",
   "metadata": {},
   "outputs": [],
   "source": [
    "rng = pd.date_range('3/7/2012 9:30', periods=10, freq='B', normalize=True)"
   ]
  },
  {
   "cell_type": "code",
   "execution_count": 164,
   "id": "0e65d077",
   "metadata": {},
   "outputs": [
    {
     "data": {
      "text/plain": [
       "DatetimeIndex(['2012-03-07', '2012-03-08', '2012-03-09', '2012-03-12',\n",
       "               '2012-03-13', '2012-03-14', '2012-03-15', '2012-03-16',\n",
       "               '2012-03-19', '2012-03-20'],\n",
       "              dtype='datetime64[ns]', freq='B')"
      ]
     },
     "execution_count": 164,
     "metadata": {},
     "output_type": "execute_result"
    }
   ],
   "source": [
    "rng"
   ]
  },
  {
   "cell_type": "code",
   "execution_count": 165,
   "id": "0aaed58f",
   "metadata": {},
   "outputs": [],
   "source": [
    "ts = pd.Series(np.random.randn(len(rng)),  index=rng)"
   ]
  },
  {
   "cell_type": "code",
   "execution_count": 166,
   "id": "e972e08d",
   "metadata": {},
   "outputs": [
    {
     "data": {
      "text/plain": [
       "2012-03-07    0.619803\n",
       "2012-03-08    0.076677\n",
       "2012-03-09    0.246713\n",
       "2012-03-12   -1.573888\n",
       "2012-03-13    1.770049\n",
       "2012-03-14    0.907045\n",
       "2012-03-15    0.051099\n",
       "2012-03-16    0.283769\n",
       "2012-03-19    1.459690\n",
       "2012-03-20    0.432297\n",
       "Freq: B, dtype: float64"
      ]
     },
     "execution_count": 166,
     "metadata": {},
     "output_type": "execute_result"
    }
   ],
   "source": [
    "ts"
   ]
  },
  {
   "cell_type": "code",
   "execution_count": 167,
   "id": "653c42f3",
   "metadata": {},
   "outputs": [],
   "source": [
    "ts1 = ts[:7].tz_localize('Europe/London')"
   ]
  },
  {
   "cell_type": "code",
   "execution_count": 168,
   "id": "2a29c335",
   "metadata": {},
   "outputs": [
    {
     "data": {
      "text/plain": [
       "2012-03-07 00:00:00+00:00    0.619803\n",
       "2012-03-08 00:00:00+00:00    0.076677\n",
       "2012-03-09 00:00:00+00:00    0.246713\n",
       "2012-03-12 00:00:00+00:00   -1.573888\n",
       "2012-03-13 00:00:00+00:00    1.770049\n",
       "2012-03-14 00:00:00+00:00    0.907045\n",
       "2012-03-15 00:00:00+00:00    0.051099\n",
       "dtype: float64"
      ]
     },
     "execution_count": 168,
     "metadata": {},
     "output_type": "execute_result"
    }
   ],
   "source": [
    "ts1"
   ]
  },
  {
   "cell_type": "code",
   "execution_count": 169,
   "id": "0f313209",
   "metadata": {},
   "outputs": [],
   "source": [
    "ts2 = ts1[2:].tz_convert('Europe/Moscow')"
   ]
  },
  {
   "cell_type": "code",
   "execution_count": 170,
   "id": "d2727038",
   "metadata": {},
   "outputs": [
    {
     "data": {
      "text/plain": [
       "2012-03-09 04:00:00+04:00    0.246713\n",
       "2012-03-12 04:00:00+04:00   -1.573888\n",
       "2012-03-13 04:00:00+04:00    1.770049\n",
       "2012-03-14 04:00:00+04:00    0.907045\n",
       "2012-03-15 04:00:00+04:00    0.051099\n",
       "dtype: float64"
      ]
     },
     "execution_count": 170,
     "metadata": {},
     "output_type": "execute_result"
    }
   ],
   "source": [
    "ts2"
   ]
  },
  {
   "cell_type": "code",
   "execution_count": 171,
   "id": "ccef15c8",
   "metadata": {},
   "outputs": [],
   "source": [
    "res = ts1 + ts2"
   ]
  },
  {
   "cell_type": "code",
   "execution_count": 172,
   "id": "94af5f41",
   "metadata": {},
   "outputs": [
    {
     "data": {
      "text/plain": [
       "2012-03-07 00:00:00+00:00         NaN\n",
       "2012-03-08 00:00:00+00:00         NaN\n",
       "2012-03-09 00:00:00+00:00    0.493425\n",
       "2012-03-12 00:00:00+00:00   -3.147776\n",
       "2012-03-13 00:00:00+00:00    3.540099\n",
       "2012-03-14 00:00:00+00:00    1.814091\n",
       "2012-03-15 00:00:00+00:00    0.102199\n",
       "dtype: float64"
      ]
     },
     "execution_count": 172,
     "metadata": {},
     "output_type": "execute_result"
    }
   ],
   "source": [
    "res"
   ]
  },
  {
   "cell_type": "code",
   "execution_count": 173,
   "id": "7a3116ff",
   "metadata": {},
   "outputs": [
    {
     "data": {
      "text/plain": [
       "DatetimeIndex(['2012-03-07 00:00:00+00:00', '2012-03-08 00:00:00+00:00',\n",
       "               '2012-03-09 00:00:00+00:00', '2012-03-12 00:00:00+00:00',\n",
       "               '2012-03-13 00:00:00+00:00', '2012-03-14 00:00:00+00:00',\n",
       "               '2012-03-15 00:00:00+00:00'],\n",
       "              dtype='datetime64[ns, UTC]', freq=None)"
      ]
     },
     "execution_count": 173,
     "metadata": {},
     "output_type": "execute_result"
    }
   ],
   "source": [
    "res.index"
   ]
  },
  {
   "cell_type": "code",
   "execution_count": 174,
   "id": "008e7a83",
   "metadata": {},
   "outputs": [],
   "source": [
    "ans = pd.date_range('3/7/2012 9:30', periods=10, freq='B', normalize=True, tz='UTC')"
   ]
  },
  {
   "cell_type": "code",
   "execution_count": 175,
   "id": "53d4ba1c",
   "metadata": {},
   "outputs": [
    {
     "data": {
      "text/plain": [
       "DatetimeIndex(['2012-03-07 00:00:00+00:00', '2012-03-08 00:00:00+00:00',\n",
       "               '2012-03-09 00:00:00+00:00', '2012-03-12 00:00:00+00:00',\n",
       "               '2012-03-13 00:00:00+00:00', '2012-03-14 00:00:00+00:00',\n",
       "               '2012-03-15 00:00:00+00:00', '2012-03-16 00:00:00+00:00',\n",
       "               '2012-03-19 00:00:00+00:00', '2012-03-20 00:00:00+00:00'],\n",
       "              dtype='datetime64[ns, UTC]', freq='B')"
      ]
     },
     "execution_count": 175,
     "metadata": {},
     "output_type": "execute_result"
    }
   ],
   "source": [
    "ans"
   ]
  },
  {
   "cell_type": "code",
   "execution_count": 177,
   "id": "38eb8c5f",
   "metadata": {},
   "outputs": [
    {
     "data": {
      "text/plain": [
       "DatetimeIndex(['2012-03-06 18:00:00-06:00', '2012-03-07 18:00:00-06:00',\n",
       "               '2012-03-08 18:00:00-06:00', '2012-03-11 19:00:00-05:00',\n",
       "               '2012-03-12 19:00:00-05:00', '2012-03-13 19:00:00-05:00',\n",
       "               '2012-03-14 19:00:00-05:00', '2012-03-15 19:00:00-05:00',\n",
       "               '2012-03-18 19:00:00-05:00', '2012-03-19 19:00:00-05:00'],\n",
       "              dtype='datetime64[ns, America/Chicago]', freq='B')"
      ]
     },
     "execution_count": 177,
     "metadata": {},
     "output_type": "execute_result"
    }
   ],
   "source": [
    "ans.tz_convert('America/Chicago')"
   ]
  },
  {
   "cell_type": "code",
   "execution_count": 178,
   "id": "91b4918b",
   "metadata": {},
   "outputs": [],
   "source": [
    "p = pd.Period(2007, freq='A-DEC')"
   ]
  },
  {
   "cell_type": "code",
   "execution_count": 179,
   "id": "1bb41a30",
   "metadata": {},
   "outputs": [
    {
     "data": {
      "text/plain": [
       "Period('2007', 'A-DEC')"
      ]
     },
     "execution_count": 179,
     "metadata": {},
     "output_type": "execute_result"
    }
   ],
   "source": [
    "p"
   ]
  },
  {
   "cell_type": "code",
   "execution_count": 180,
   "id": "d7863f59",
   "metadata": {},
   "outputs": [
    {
     "data": {
      "text/plain": [
       "Period('2012', 'A-DEC')"
      ]
     },
     "execution_count": 180,
     "metadata": {},
     "output_type": "execute_result"
    }
   ],
   "source": [
    "p + 5"
   ]
  },
  {
   "cell_type": "code",
   "execution_count": 181,
   "id": "e6401c17",
   "metadata": {},
   "outputs": [
    {
     "data": {
      "text/plain": [
       "Period('2005', 'A-DEC')"
      ]
     },
     "execution_count": 181,
     "metadata": {},
     "output_type": "execute_result"
    }
   ],
   "source": [
    "p - 2"
   ]
  },
  {
   "cell_type": "code",
   "execution_count": 183,
   "id": "4579b908",
   "metadata": {},
   "outputs": [
    {
     "data": {
      "text/plain": [
       "<7 * YearEnds: month=12>"
      ]
     },
     "execution_count": 183,
     "metadata": {},
     "output_type": "execute_result"
    }
   ],
   "source": [
    "pd.Period('2014', freq='A-DEC') - p"
   ]
  },
  {
   "cell_type": "code",
   "execution_count": 187,
   "id": "24f671fe",
   "metadata": {},
   "outputs": [],
   "source": [
    "rng = pd.period_range('2001-01-01', '2001-06-30', freq='M')"
   ]
  },
  {
   "cell_type": "code",
   "execution_count": 188,
   "id": "5a09a6ac",
   "metadata": {},
   "outputs": [
    {
     "data": {
      "text/plain": [
       "PeriodIndex(['2001-01', '2001-02', '2001-03', '2001-04', '2001-05', '2001-06'], dtype='period[M]')"
      ]
     },
     "execution_count": 188,
     "metadata": {},
     "output_type": "execute_result"
    }
   ],
   "source": [
    "rng"
   ]
  },
  {
   "cell_type": "code",
   "execution_count": 189,
   "id": "572a210d",
   "metadata": {},
   "outputs": [
    {
     "data": {
      "text/plain": [
       "DatetimeIndex(['2001-01-31', '2001-02-28', '2001-03-31', '2001-04-30',\n",
       "               '2001-05-31', '2001-06-30'],\n",
       "              dtype='datetime64[ns]', freq='M')"
      ]
     },
     "execution_count": 189,
     "metadata": {},
     "output_type": "execute_result"
    }
   ],
   "source": [
    "pd.date_range('2001-01-01', '2001-06-30', freq='M')"
   ]
  },
  {
   "cell_type": "code",
   "execution_count": 190,
   "id": "9d88de98",
   "metadata": {},
   "outputs": [
    {
     "data": {
      "text/plain": [
       "2001-01    0.544620\n",
       "2001-02    0.016749\n",
       "2001-03   -0.843102\n",
       "2001-04    1.252328\n",
       "2001-05    0.794001\n",
       "2001-06    0.061557\n",
       "Freq: M, dtype: float64"
      ]
     },
     "execution_count": 190,
     "metadata": {},
     "output_type": "execute_result"
    }
   ],
   "source": [
    "pd.Series(np.random.randn(6), index=rng)"
   ]
  },
  {
   "cell_type": "code",
   "execution_count": 191,
   "id": "9abacb32",
   "metadata": {},
   "outputs": [],
   "source": [
    "values = ['2001Q3', '2002Q2', '2003Q1']"
   ]
  },
  {
   "cell_type": "code",
   "execution_count": 192,
   "id": "1a4c0e54",
   "metadata": {},
   "outputs": [
    {
     "data": {
      "text/plain": [
       "['2001Q3', '2002Q2', '2003Q1']"
      ]
     },
     "execution_count": 192,
     "metadata": {},
     "output_type": "execute_result"
    }
   ],
   "source": [
    "values"
   ]
  },
  {
   "cell_type": "code",
   "execution_count": 193,
   "id": "f140d571",
   "metadata": {},
   "outputs": [],
   "source": [
    "index = pd.PeriodIndex(values, freq='Q-DEC')"
   ]
  },
  {
   "cell_type": "code",
   "execution_count": 194,
   "id": "3466c865",
   "metadata": {},
   "outputs": [
    {
     "data": {
      "text/plain": [
       "PeriodIndex(['2001Q3', '2002Q2', '2003Q1'], dtype='period[Q-DEC]')"
      ]
     },
     "execution_count": 194,
     "metadata": {},
     "output_type": "execute_result"
    }
   ],
   "source": [
    "index"
   ]
  },
  {
   "cell_type": "code",
   "execution_count": 198,
   "id": "00b513f9",
   "metadata": {},
   "outputs": [],
   "source": [
    "ans = pd.Period('2001', freq='A-FEB') # ???"
   ]
  },
  {
   "cell_type": "code",
   "execution_count": 199,
   "id": "8cdacb46",
   "metadata": {},
   "outputs": [
    {
     "data": {
      "text/plain": [
       "Period('2001', 'A-FEB')"
      ]
     },
     "execution_count": 199,
     "metadata": {},
     "output_type": "execute_result"
    }
   ],
   "source": [
    "ans"
   ]
  },
  {
   "cell_type": "code",
   "execution_count": 201,
   "id": "8c7c75d3",
   "metadata": {},
   "outputs": [
    {
     "data": {
      "text/plain": [
       "Timestamp('2000-03-01 00:00:00')"
      ]
     },
     "execution_count": 201,
     "metadata": {},
     "output_type": "execute_result"
    }
   ],
   "source": [
    "ans.start_time"
   ]
  },
  {
   "cell_type": "code",
   "execution_count": 202,
   "id": "132ce210",
   "metadata": {},
   "outputs": [
    {
     "data": {
      "text/plain": [
       "Timestamp('2001-02-28 23:59:59.999999999')"
      ]
     },
     "execution_count": 202,
     "metadata": {},
     "output_type": "execute_result"
    }
   ],
   "source": [
    "ans.end_time"
   ]
  },
  {
   "cell_type": "code",
   "execution_count": 203,
   "id": "c6bc0eaf",
   "metadata": {},
   "outputs": [],
   "source": [
    "ans = pd.Period('2001', freq='A-DEC') # ???"
   ]
  },
  {
   "cell_type": "code",
   "execution_count": 204,
   "id": "0ce354da",
   "metadata": {},
   "outputs": [
    {
     "data": {
      "text/plain": [
       "Timestamp('2001-01-01 00:00:00')"
      ]
     },
     "execution_count": 204,
     "metadata": {},
     "output_type": "execute_result"
    }
   ],
   "source": [
    "ans.start_time"
   ]
  },
  {
   "cell_type": "code",
   "execution_count": 205,
   "id": "631cbaec",
   "metadata": {},
   "outputs": [
    {
     "data": {
      "text/plain": [
       "Period('2007', 'A-DEC')"
      ]
     },
     "execution_count": 205,
     "metadata": {},
     "output_type": "execute_result"
    }
   ],
   "source": [
    "p"
   ]
  },
  {
   "cell_type": "code",
   "execution_count": 206,
   "id": "021d9976",
   "metadata": {},
   "outputs": [
    {
     "data": {
      "text/plain": [
       "Period('2007-01', 'M')"
      ]
     },
     "execution_count": 206,
     "metadata": {},
     "output_type": "execute_result"
    }
   ],
   "source": [
    "p.asfreq('M', how='start')"
   ]
  },
  {
   "cell_type": "code",
   "execution_count": 207,
   "id": "2e50f5d7",
   "metadata": {},
   "outputs": [
    {
     "data": {
      "text/plain": [
       "Period('2007-12', 'M')"
      ]
     },
     "execution_count": 207,
     "metadata": {},
     "output_type": "execute_result"
    }
   ],
   "source": [
    "p.asfreq('M', how='end')"
   ]
  },
  {
   "cell_type": "code",
   "execution_count": 208,
   "id": "cbd24efa",
   "metadata": {},
   "outputs": [],
   "source": [
    "p = pd.Period('2007', freq='A-JUN')"
   ]
  },
  {
   "cell_type": "code",
   "execution_count": 209,
   "id": "1ea00ea1",
   "metadata": {},
   "outputs": [
    {
     "data": {
      "text/plain": [
       "Period('2007', 'A-JUN')"
      ]
     },
     "execution_count": 209,
     "metadata": {},
     "output_type": "execute_result"
    }
   ],
   "source": [
    "p"
   ]
  },
  {
   "cell_type": "code",
   "execution_count": 210,
   "id": "67f019ef",
   "metadata": {},
   "outputs": [
    {
     "data": {
      "text/plain": [
       "Period('2006-07', 'M')"
      ]
     },
     "execution_count": 210,
     "metadata": {},
     "output_type": "execute_result"
    }
   ],
   "source": [
    "p.asfreq('M', how='start')"
   ]
  },
  {
   "cell_type": "code",
   "execution_count": 211,
   "id": "92a4ea85",
   "metadata": {},
   "outputs": [
    {
     "data": {
      "text/plain": [
       "Period('2007-06', 'M')"
      ]
     },
     "execution_count": 211,
     "metadata": {},
     "output_type": "execute_result"
    }
   ],
   "source": [
    "p.asfreq('M', how='end')"
   ]
  },
  {
   "cell_type": "code",
   "execution_count": 212,
   "id": "e4061da7",
   "metadata": {},
   "outputs": [],
   "source": [
    "p.asfreq?"
   ]
  },
  {
   "cell_type": "code",
   "execution_count": 213,
   "id": "873e87fe",
   "metadata": {},
   "outputs": [],
   "source": [
    "p = pd.Period('Aug-2007', 'M')"
   ]
  },
  {
   "cell_type": "code",
   "execution_count": 214,
   "id": "e470cfed",
   "metadata": {},
   "outputs": [
    {
     "data": {
      "text/plain": [
       "Period('2008', 'A-JUN')"
      ]
     },
     "execution_count": 214,
     "metadata": {},
     "output_type": "execute_result"
    }
   ],
   "source": [
    "p.asfreq('A-JUN')"
   ]
  },
  {
   "cell_type": "code",
   "execution_count": 215,
   "id": "b75bd002",
   "metadata": {},
   "outputs": [],
   "source": [
    "rng = pd.period_range('2006', '2009', freq='A-DEC')"
   ]
  },
  {
   "cell_type": "code",
   "execution_count": 216,
   "id": "acd0f42c",
   "metadata": {},
   "outputs": [
    {
     "data": {
      "text/plain": [
       "PeriodIndex(['2006', '2007', '2008', '2009'], dtype='period[A-DEC]')"
      ]
     },
     "execution_count": 216,
     "metadata": {},
     "output_type": "execute_result"
    }
   ],
   "source": [
    "rng"
   ]
  },
  {
   "cell_type": "code",
   "execution_count": 217,
   "id": "1796438a",
   "metadata": {},
   "outputs": [],
   "source": [
    "ts = pd.Series(np.random.randn(len(rng)), index=rng)"
   ]
  },
  {
   "cell_type": "code",
   "execution_count": 218,
   "id": "445c9e7e",
   "metadata": {},
   "outputs": [
    {
     "data": {
      "text/plain": [
       "2006    0.365376\n",
       "2007   -0.613201\n",
       "2008    0.473690\n",
       "2009    2.004424\n",
       "Freq: A-DEC, dtype: float64"
      ]
     },
     "execution_count": 218,
     "metadata": {},
     "output_type": "execute_result"
    }
   ],
   "source": [
    "ts"
   ]
  },
  {
   "cell_type": "code",
   "execution_count": 219,
   "id": "078bd80c",
   "metadata": {},
   "outputs": [
    {
     "data": {
      "text/plain": [
       "PeriodIndex(['2006', '2007', '2008', '2009'], dtype='period[A-DEC]')"
      ]
     },
     "execution_count": 219,
     "metadata": {},
     "output_type": "execute_result"
    }
   ],
   "source": [
    "ts.index"
   ]
  },
  {
   "cell_type": "code",
   "execution_count": 222,
   "id": "9420c352",
   "metadata": {},
   "outputs": [
    {
     "data": {
      "text/plain": [
       "2006-01    0.365376\n",
       "2007-01   -0.613201\n",
       "2008-01    0.473690\n",
       "2009-01    2.004424\n",
       "Freq: M, dtype: float64"
      ]
     },
     "execution_count": 222,
     "metadata": {},
     "output_type": "execute_result"
    }
   ],
   "source": [
    "ts.asfreq('M', how='S')"
   ]
  },
  {
   "cell_type": "code",
   "execution_count": 223,
   "id": "f1ec2424",
   "metadata": {},
   "outputs": [
    {
     "data": {
      "text/plain": [
       "2006-12-29    0.365376\n",
       "2007-12-31   -0.613201\n",
       "2008-12-31    0.473690\n",
       "2009-12-31    2.004424\n",
       "Freq: B, dtype: float64"
      ]
     },
     "execution_count": 223,
     "metadata": {},
     "output_type": "execute_result"
    }
   ],
   "source": [
    "ts.asfreq('B', how='E')"
   ]
  },
  {
   "cell_type": "code",
   "execution_count": 224,
   "id": "76e39a52",
   "metadata": {},
   "outputs": [],
   "source": [
    "p = pd.Period('2012Q4', freq='Q-JAN')"
   ]
  },
  {
   "cell_type": "code",
   "execution_count": 225,
   "id": "9602cd64",
   "metadata": {},
   "outputs": [
    {
     "data": {
      "text/plain": [
       "Period('2012Q4', 'Q-JAN')"
      ]
     },
     "execution_count": 225,
     "metadata": {},
     "output_type": "execute_result"
    }
   ],
   "source": [
    "p"
   ]
  },
  {
   "cell_type": "code",
   "execution_count": 226,
   "id": "ab1ae684",
   "metadata": {},
   "outputs": [
    {
     "data": {
      "text/plain": [
       "Period('2011-11-01', 'D')"
      ]
     },
     "execution_count": 226,
     "metadata": {},
     "output_type": "execute_result"
    }
   ],
   "source": [
    "p.asfreq('D', how='start')"
   ]
  },
  {
   "cell_type": "code",
   "execution_count": 227,
   "id": "6fcaa9e1",
   "metadata": {},
   "outputs": [
    {
     "data": {
      "text/plain": [
       "Period('2012-01-31', 'D')"
      ]
     },
     "execution_count": 227,
     "metadata": {},
     "output_type": "execute_result"
    }
   ],
   "source": [
    "p.asfreq('D', 'end')"
   ]
  },
  {
   "cell_type": "code",
   "execution_count": 228,
   "id": "c137fece",
   "metadata": {},
   "outputs": [
    {
     "data": {
      "text/plain": [
       "Period('2012Q4', 'Q-JAN')"
      ]
     },
     "execution_count": 228,
     "metadata": {},
     "output_type": "execute_result"
    }
   ],
   "source": [
    "p "
   ]
  },
  {
   "cell_type": "code",
   "execution_count": 233,
   "id": "0e34e81a",
   "metadata": {},
   "outputs": [],
   "source": [
    "p4pm = (p.asfreq('B', 'E') -1).asfreq('S', 'S') + 16 * 60 * 60"
   ]
  },
  {
   "cell_type": "code",
   "execution_count": 234,
   "id": "ca8d1eaf",
   "metadata": {},
   "outputs": [
    {
     "data": {
      "text/plain": [
       "Period('2012-01-30 16:00:00', 'S')"
      ]
     },
     "execution_count": 234,
     "metadata": {},
     "output_type": "execute_result"
    }
   ],
   "source": [
    "p4pm"
   ]
  },
  {
   "cell_type": "code",
   "execution_count": 235,
   "id": "d98d5048",
   "metadata": {},
   "outputs": [
    {
     "data": {
      "text/plain": [
       "Timestamp('2012-01-30 16:00:00')"
      ]
     },
     "execution_count": 235,
     "metadata": {},
     "output_type": "execute_result"
    }
   ],
   "source": [
    "p4pm.to_timestamp() # 转为pd内的时间戳"
   ]
  },
  {
   "cell_type": "code",
   "execution_count": 236,
   "id": "fffb27a5",
   "metadata": {},
   "outputs": [],
   "source": [
    "rng = pd.period_range('2011Q3', '2012Q4', freq='Q-JAN')"
   ]
  },
  {
   "cell_type": "code",
   "execution_count": 237,
   "id": "03322d90",
   "metadata": {},
   "outputs": [],
   "source": [
    "ts = pd.Series(np.arange(len(rng)), index=rng)"
   ]
  },
  {
   "cell_type": "code",
   "execution_count": 238,
   "id": "ab4f7788",
   "metadata": {},
   "outputs": [
    {
     "data": {
      "text/plain": [
       "2011Q3    0\n",
       "2011Q4    1\n",
       "2012Q1    2\n",
       "2012Q2    3\n",
       "2012Q3    4\n",
       "2012Q4    5\n",
       "Freq: Q-JAN, dtype: int32"
      ]
     },
     "execution_count": 238,
     "metadata": {},
     "output_type": "execute_result"
    }
   ],
   "source": [
    "ts"
   ]
  },
  {
   "cell_type": "code",
   "execution_count": 239,
   "id": "a0f1036f",
   "metadata": {},
   "outputs": [],
   "source": [
    "new_rng = (rng.asfreq('B', 'E') - 1).asfreq('T', 's') + 16 * 60"
   ]
  },
  {
   "cell_type": "code",
   "execution_count": 240,
   "id": "3a421b5a",
   "metadata": {},
   "outputs": [
    {
     "data": {
      "text/plain": [
       "PeriodIndex(['2010-10-28 16:00', '2011-01-28 16:00', '2011-04-28 16:00',\n",
       "             '2011-07-28 16:00', '2011-10-28 16:00', '2012-01-30 16:00'],\n",
       "            dtype='period[T]')"
      ]
     },
     "execution_count": 240,
     "metadata": {},
     "output_type": "execute_result"
    }
   ],
   "source": [
    "new_rng"
   ]
  },
  {
   "cell_type": "code",
   "execution_count": 241,
   "id": "5ea14268",
   "metadata": {},
   "outputs": [],
   "source": [
    "ts.index = new_rng.to_timestamp()"
   ]
  },
  {
   "cell_type": "code",
   "execution_count": 242,
   "id": "b7eefbcd",
   "metadata": {},
   "outputs": [
    {
     "data": {
      "text/plain": [
       "2010-10-28 16:00:00    0\n",
       "2011-01-28 16:00:00    1\n",
       "2011-04-28 16:00:00    2\n",
       "2011-07-28 16:00:00    3\n",
       "2011-10-28 16:00:00    4\n",
       "2012-01-30 16:00:00    5\n",
       "dtype: int32"
      ]
     },
     "execution_count": 242,
     "metadata": {},
     "output_type": "execute_result"
    }
   ],
   "source": [
    "ts"
   ]
  },
  {
   "cell_type": "code",
   "execution_count": 243,
   "id": "8c6047eb",
   "metadata": {},
   "outputs": [],
   "source": [
    "rng = pd.date_range('2000-01-01', periods=3, freq='M')"
   ]
  },
  {
   "cell_type": "code",
   "execution_count": 244,
   "id": "622e74a3",
   "metadata": {},
   "outputs": [],
   "source": [
    "ts = pd.Series(np.random.randn(3), index=rng)"
   ]
  },
  {
   "cell_type": "code",
   "execution_count": 245,
   "id": "198d7e6b",
   "metadata": {},
   "outputs": [
    {
     "data": {
      "text/plain": [
       "2000-01-31   -1.311915\n",
       "2000-02-29    0.598358\n",
       "2000-03-31   -0.227324\n",
       "Freq: M, dtype: float64"
      ]
     },
     "execution_count": 245,
     "metadata": {},
     "output_type": "execute_result"
    }
   ],
   "source": [
    "ts"
   ]
  },
  {
   "cell_type": "code",
   "execution_count": 246,
   "id": "b59e9a2d",
   "metadata": {},
   "outputs": [],
   "source": [
    "pts = ts.to_period()"
   ]
  },
  {
   "cell_type": "code",
   "execution_count": 247,
   "id": "b4ff53ab",
   "metadata": {},
   "outputs": [
    {
     "data": {
      "text/plain": [
       "2000-01   -1.311915\n",
       "2000-02    0.598358\n",
       "2000-03   -0.227324\n",
       "Freq: M, dtype: float64"
      ]
     },
     "execution_count": 247,
     "metadata": {},
     "output_type": "execute_result"
    }
   ],
   "source": [
    "pts"
   ]
  },
  {
   "cell_type": "code",
   "execution_count": 248,
   "id": "1b94506d",
   "metadata": {},
   "outputs": [],
   "source": [
    "pts.to_timestamp?"
   ]
  },
  {
   "cell_type": "code",
   "execution_count": 249,
   "id": "18020369",
   "metadata": {},
   "outputs": [],
   "source": [
    "rng = pd.date_range('1/29/2000', periods=6, freq='D')"
   ]
  },
  {
   "cell_type": "code",
   "execution_count": 250,
   "id": "e35df48d",
   "metadata": {},
   "outputs": [
    {
     "data": {
      "text/plain": [
       "DatetimeIndex(['2000-01-29', '2000-01-30', '2000-01-31', '2000-02-01',\n",
       "               '2000-02-02', '2000-02-03'],\n",
       "              dtype='datetime64[ns]', freq='D')"
      ]
     },
     "execution_count": 250,
     "metadata": {},
     "output_type": "execute_result"
    }
   ],
   "source": [
    "rng"
   ]
  },
  {
   "cell_type": "code",
   "execution_count": 251,
   "id": "a5f86360",
   "metadata": {},
   "outputs": [],
   "source": [
    "ts2 = pd.Series(np.random.randn(6), index=rng)"
   ]
  },
  {
   "cell_type": "code",
   "execution_count": 252,
   "id": "38cb8786",
   "metadata": {},
   "outputs": [
    {
     "data": {
      "text/plain": [
       "2000-01-29    1.264986\n",
       "2000-01-30    0.356334\n",
       "2000-01-31    0.420648\n",
       "2000-02-01    0.630548\n",
       "2000-02-02    1.016229\n",
       "2000-02-03    0.503837\n",
       "Freq: D, dtype: float64"
      ]
     },
     "execution_count": 252,
     "metadata": {},
     "output_type": "execute_result"
    }
   ],
   "source": [
    "ts2"
   ]
  },
  {
   "cell_type": "code",
   "execution_count": 253,
   "id": "9dbf1d2d",
   "metadata": {},
   "outputs": [
    {
     "data": {
      "text/plain": [
       "2000-01    1.264986\n",
       "2000-01    0.356334\n",
       "2000-01    0.420648\n",
       "2000-02    0.630548\n",
       "2000-02    1.016229\n",
       "2000-02    0.503837\n",
       "Freq: M, dtype: float64"
      ]
     },
     "execution_count": 253,
     "metadata": {},
     "output_type": "execute_result"
    }
   ],
   "source": [
    "ts2.to_period(freq='M')"
   ]
  },
  {
   "cell_type": "code",
   "execution_count": 254,
   "id": "7617ee7d",
   "metadata": {},
   "outputs": [],
   "source": [
    "pts = ts2.to_period('M')"
   ]
  },
  {
   "cell_type": "code",
   "execution_count": 255,
   "id": "eff78f7b",
   "metadata": {},
   "outputs": [
    {
     "data": {
      "text/plain": [
       "2000-01    1.264986\n",
       "2000-01    0.356334\n",
       "2000-01    0.420648\n",
       "2000-02    0.630548\n",
       "2000-02    1.016229\n",
       "2000-02    0.503837\n",
       "Freq: M, dtype: float64"
      ]
     },
     "execution_count": 255,
     "metadata": {},
     "output_type": "execute_result"
    }
   ],
   "source": [
    "pts"
   ]
  },
  {
   "cell_type": "code",
   "execution_count": 259,
   "id": "f9d10a22",
   "metadata": {},
   "outputs": [
    {
     "data": {
      "text/plain": [
       "2000-01-31 23:59:59.999999999    1.264986\n",
       "2000-01-31 23:59:59.999999999    0.356334\n",
       "2000-01-31 23:59:59.999999999    0.420648\n",
       "2000-02-29 23:59:59.999999999    0.630548\n",
       "2000-02-29 23:59:59.999999999    1.016229\n",
       "2000-02-29 23:59:59.999999999    0.503837\n",
       "dtype: float64"
      ]
     },
     "execution_count": 259,
     "metadata": {},
     "output_type": "execute_result"
    }
   ],
   "source": [
    "pts.to_timestamp('D', how='end')"
   ]
  },
  {
   "cell_type": "code",
   "execution_count": 284,
   "id": "dd88b5a1",
   "metadata": {},
   "outputs": [],
   "source": [
    "data = pd.read_csv('examples/macrodata.csv')"
   ]
  },
  {
   "cell_type": "code",
   "execution_count": 280,
   "id": "5211a5d9",
   "metadata": {},
   "outputs": [
    {
     "data": {
      "text/html": [
       "<div>\n",
       "<style scoped>\n",
       "    .dataframe tbody tr th:only-of-type {\n",
       "        vertical-align: middle;\n",
       "    }\n",
       "\n",
       "    .dataframe tbody tr th {\n",
       "        vertical-align: top;\n",
       "    }\n",
       "\n",
       "    .dataframe thead th {\n",
       "        text-align: right;\n",
       "    }\n",
       "</style>\n",
       "<table border=\"1\" class=\"dataframe\">\n",
       "  <thead>\n",
       "    <tr style=\"text-align: right;\">\n",
       "      <th></th>\n",
       "      <th>year</th>\n",
       "      <th>quarter</th>\n",
       "      <th>realgdp</th>\n",
       "      <th>realcons</th>\n",
       "      <th>realinv</th>\n",
       "      <th>realgovt</th>\n",
       "      <th>realdpi</th>\n",
       "      <th>cpi</th>\n",
       "      <th>m1</th>\n",
       "      <th>tbilrate</th>\n",
       "      <th>unemp</th>\n",
       "      <th>pop</th>\n",
       "      <th>infl</th>\n",
       "      <th>realint</th>\n",
       "    </tr>\n",
       "  </thead>\n",
       "  <tbody>\n",
       "    <tr>\n",
       "      <th>0</th>\n",
       "      <td>1959.0</td>\n",
       "      <td>1.0</td>\n",
       "      <td>2710.349</td>\n",
       "      <td>1707.4</td>\n",
       "      <td>286.898</td>\n",
       "      <td>470.045</td>\n",
       "      <td>1886.9</td>\n",
       "      <td>28.980</td>\n",
       "      <td>139.7</td>\n",
       "      <td>2.82</td>\n",
       "      <td>5.8</td>\n",
       "      <td>177.146</td>\n",
       "      <td>0.00</td>\n",
       "      <td>0.00</td>\n",
       "    </tr>\n",
       "    <tr>\n",
       "      <th>1</th>\n",
       "      <td>1959.0</td>\n",
       "      <td>2.0</td>\n",
       "      <td>2778.801</td>\n",
       "      <td>1733.7</td>\n",
       "      <td>310.859</td>\n",
       "      <td>481.301</td>\n",
       "      <td>1919.7</td>\n",
       "      <td>29.150</td>\n",
       "      <td>141.7</td>\n",
       "      <td>3.08</td>\n",
       "      <td>5.1</td>\n",
       "      <td>177.830</td>\n",
       "      <td>2.34</td>\n",
       "      <td>0.74</td>\n",
       "    </tr>\n",
       "    <tr>\n",
       "      <th>2</th>\n",
       "      <td>1959.0</td>\n",
       "      <td>3.0</td>\n",
       "      <td>2775.488</td>\n",
       "      <td>1751.8</td>\n",
       "      <td>289.226</td>\n",
       "      <td>491.260</td>\n",
       "      <td>1916.4</td>\n",
       "      <td>29.350</td>\n",
       "      <td>140.5</td>\n",
       "      <td>3.82</td>\n",
       "      <td>5.3</td>\n",
       "      <td>178.657</td>\n",
       "      <td>2.74</td>\n",
       "      <td>1.09</td>\n",
       "    </tr>\n",
       "    <tr>\n",
       "      <th>3</th>\n",
       "      <td>1959.0</td>\n",
       "      <td>4.0</td>\n",
       "      <td>2785.204</td>\n",
       "      <td>1753.7</td>\n",
       "      <td>299.356</td>\n",
       "      <td>484.052</td>\n",
       "      <td>1931.3</td>\n",
       "      <td>29.370</td>\n",
       "      <td>140.0</td>\n",
       "      <td>4.33</td>\n",
       "      <td>5.6</td>\n",
       "      <td>179.386</td>\n",
       "      <td>0.27</td>\n",
       "      <td>4.06</td>\n",
       "    </tr>\n",
       "    <tr>\n",
       "      <th>4</th>\n",
       "      <td>1960.0</td>\n",
       "      <td>1.0</td>\n",
       "      <td>2847.699</td>\n",
       "      <td>1770.5</td>\n",
       "      <td>331.722</td>\n",
       "      <td>462.199</td>\n",
       "      <td>1955.5</td>\n",
       "      <td>29.540</td>\n",
       "      <td>139.6</td>\n",
       "      <td>3.50</td>\n",
       "      <td>5.2</td>\n",
       "      <td>180.007</td>\n",
       "      <td>2.31</td>\n",
       "      <td>1.19</td>\n",
       "    </tr>\n",
       "    <tr>\n",
       "      <th>...</th>\n",
       "      <td>...</td>\n",
       "      <td>...</td>\n",
       "      <td>...</td>\n",
       "      <td>...</td>\n",
       "      <td>...</td>\n",
       "      <td>...</td>\n",
       "      <td>...</td>\n",
       "      <td>...</td>\n",
       "      <td>...</td>\n",
       "      <td>...</td>\n",
       "      <td>...</td>\n",
       "      <td>...</td>\n",
       "      <td>...</td>\n",
       "      <td>...</td>\n",
       "    </tr>\n",
       "    <tr>\n",
       "      <th>193</th>\n",
       "      <td>2007.0</td>\n",
       "      <td>2.0</td>\n",
       "      <td>13203.977</td>\n",
       "      <td>9291.5</td>\n",
       "      <td>2162.214</td>\n",
       "      <td>898.713</td>\n",
       "      <td>9842.7</td>\n",
       "      <td>207.338</td>\n",
       "      <td>1370.0</td>\n",
       "      <td>4.72</td>\n",
       "      <td>4.5</td>\n",
       "      <td>301.714</td>\n",
       "      <td>2.75</td>\n",
       "      <td>1.97</td>\n",
       "    </tr>\n",
       "    <tr>\n",
       "      <th>194</th>\n",
       "      <td>2007.0</td>\n",
       "      <td>3.0</td>\n",
       "      <td>13321.109</td>\n",
       "      <td>9335.6</td>\n",
       "      <td>2166.491</td>\n",
       "      <td>918.983</td>\n",
       "      <td>9883.9</td>\n",
       "      <td>209.133</td>\n",
       "      <td>1379.2</td>\n",
       "      <td>4.00</td>\n",
       "      <td>4.7</td>\n",
       "      <td>302.509</td>\n",
       "      <td>3.45</td>\n",
       "      <td>0.55</td>\n",
       "    </tr>\n",
       "    <tr>\n",
       "      <th>195</th>\n",
       "      <td>2007.0</td>\n",
       "      <td>4.0</td>\n",
       "      <td>13391.249</td>\n",
       "      <td>9363.6</td>\n",
       "      <td>2123.426</td>\n",
       "      <td>925.110</td>\n",
       "      <td>9886.2</td>\n",
       "      <td>212.495</td>\n",
       "      <td>1377.4</td>\n",
       "      <td>3.01</td>\n",
       "      <td>4.8</td>\n",
       "      <td>303.204</td>\n",
       "      <td>6.38</td>\n",
       "      <td>-3.37</td>\n",
       "    </tr>\n",
       "    <tr>\n",
       "      <th>196</th>\n",
       "      <td>2008.0</td>\n",
       "      <td>1.0</td>\n",
       "      <td>13366.865</td>\n",
       "      <td>9349.6</td>\n",
       "      <td>2082.886</td>\n",
       "      <td>943.372</td>\n",
       "      <td>9826.8</td>\n",
       "      <td>213.997</td>\n",
       "      <td>1384.0</td>\n",
       "      <td>1.56</td>\n",
       "      <td>4.9</td>\n",
       "      <td>303.803</td>\n",
       "      <td>2.82</td>\n",
       "      <td>-1.26</td>\n",
       "    </tr>\n",
       "    <tr>\n",
       "      <th>197</th>\n",
       "      <td>2008.0</td>\n",
       "      <td>2.0</td>\n",
       "      <td>13415.266</td>\n",
       "      <td>9351.0</td>\n",
       "      <td>2026.518</td>\n",
       "      <td>961.280</td>\n",
       "      <td>10059.0</td>\n",
       "      <td>218.610</td>\n",
       "      <td>1409.3</td>\n",
       "      <td>1.74</td>\n",
       "      <td>5.4</td>\n",
       "      <td>304.483</td>\n",
       "      <td>8.53</td>\n",
       "      <td>-6.79</td>\n",
       "    </tr>\n",
       "  </tbody>\n",
       "</table>\n",
       "<p>198 rows × 14 columns</p>\n",
       "</div>"
      ],
      "text/plain": [
       "       year  quarter    realgdp  realcons   realinv  realgovt  realdpi  \\\n",
       "0    1959.0      1.0   2710.349    1707.4   286.898   470.045   1886.9   \n",
       "1    1959.0      2.0   2778.801    1733.7   310.859   481.301   1919.7   \n",
       "2    1959.0      3.0   2775.488    1751.8   289.226   491.260   1916.4   \n",
       "3    1959.0      4.0   2785.204    1753.7   299.356   484.052   1931.3   \n",
       "4    1960.0      1.0   2847.699    1770.5   331.722   462.199   1955.5   \n",
       "..      ...      ...        ...       ...       ...       ...      ...   \n",
       "193  2007.0      2.0  13203.977    9291.5  2162.214   898.713   9842.7   \n",
       "194  2007.0      3.0  13321.109    9335.6  2166.491   918.983   9883.9   \n",
       "195  2007.0      4.0  13391.249    9363.6  2123.426   925.110   9886.2   \n",
       "196  2008.0      1.0  13366.865    9349.6  2082.886   943.372   9826.8   \n",
       "197  2008.0      2.0  13415.266    9351.0  2026.518   961.280  10059.0   \n",
       "\n",
       "         cpi      m1  tbilrate  unemp      pop  infl  realint  \n",
       "0     28.980   139.7      2.82    5.8  177.146  0.00     0.00  \n",
       "1     29.150   141.7      3.08    5.1  177.830  2.34     0.74  \n",
       "2     29.350   140.5      3.82    5.3  178.657  2.74     1.09  \n",
       "3     29.370   140.0      4.33    5.6  179.386  0.27     4.06  \n",
       "4     29.540   139.6      3.50    5.2  180.007  2.31     1.19  \n",
       "..       ...     ...       ...    ...      ...   ...      ...  \n",
       "193  207.338  1370.0      4.72    4.5  301.714  2.75     1.97  \n",
       "194  209.133  1379.2      4.00    4.7  302.509  3.45     0.55  \n",
       "195  212.495  1377.4      3.01    4.8  303.204  6.38    -3.37  \n",
       "196  213.997  1384.0      1.56    4.9  303.803  2.82    -1.26  \n",
       "197  218.610  1409.3      1.74    5.4  304.483  8.53    -6.79  \n",
       "\n",
       "[198 rows x 14 columns]"
      ]
     },
     "execution_count": 280,
     "metadata": {},
     "output_type": "execute_result"
    }
   ],
   "source": [
    "data.head(-5) # 直到-5"
   ]
  },
  {
   "cell_type": "code",
   "execution_count": 263,
   "id": "1531eb33",
   "metadata": {},
   "outputs": [],
   "source": [
    "data.head?"
   ]
  },
  {
   "cell_type": "code",
   "execution_count": 265,
   "id": "bef5d2e4",
   "metadata": {},
   "outputs": [
    {
     "data": {
      "text/plain": [
       "0      1959.0\n",
       "1      1959.0\n",
       "2      1959.0\n",
       "3      1959.0\n",
       "4      1960.0\n",
       "        ...  \n",
       "198    2008.0\n",
       "199    2008.0\n",
       "200    2009.0\n",
       "201    2009.0\n",
       "202    2009.0\n",
       "Name: year, Length: 203, dtype: float64"
      ]
     },
     "execution_count": 265,
     "metadata": {},
     "output_type": "execute_result"
    }
   ],
   "source": [
    "data.year"
   ]
  },
  {
   "cell_type": "code",
   "execution_count": 266,
   "id": "798fbae9",
   "metadata": {},
   "outputs": [
    {
     "data": {
      "text/plain": [
       "0      1.0\n",
       "1      2.0\n",
       "2      3.0\n",
       "3      4.0\n",
       "4      1.0\n",
       "      ... \n",
       "198    3.0\n",
       "199    4.0\n",
       "200    1.0\n",
       "201    2.0\n",
       "202    3.0\n",
       "Name: quarter, Length: 203, dtype: float64"
      ]
     },
     "execution_count": 266,
     "metadata": {},
     "output_type": "execute_result"
    }
   ],
   "source": [
    "data.quarter"
   ]
  },
  {
   "cell_type": "code",
   "execution_count": 287,
   "id": "8f22ec28",
   "metadata": {},
   "outputs": [],
   "source": [
    "# year = data.year.apply(int)\n",
    "index = pd.PeriodIndex(year=data.year, quarter=data.quarter, freq='Q-DEC')"
   ]
  },
  {
   "cell_type": "code",
   "execution_count": 288,
   "id": "1f15ccc6",
   "metadata": {},
   "outputs": [
    {
     "data": {
      "text/plain": [
       "PeriodIndex(['1959Q1', '1959Q2', '1959Q3', '1959Q4', '1960Q1', '1960Q2',\n",
       "             '1960Q3', '1960Q4', '1961Q1', '1961Q2',\n",
       "             ...\n",
       "             '2007Q2', '2007Q3', '2007Q4', '2008Q1', '2008Q2', '2008Q3',\n",
       "             '2008Q4', '2009Q1', '2009Q2', '2009Q3'],\n",
       "            dtype='period[Q-DEC]', length=203)"
      ]
     },
     "execution_count": 288,
     "metadata": {},
     "output_type": "execute_result"
    }
   ],
   "source": [
    "index"
   ]
  },
  {
   "cell_type": "code",
   "execution_count": 289,
   "id": "d54ff74a",
   "metadata": {},
   "outputs": [],
   "source": [
    "data.index = index"
   ]
  },
  {
   "cell_type": "code",
   "execution_count": 290,
   "id": "7bf1de2e",
   "metadata": {},
   "outputs": [
    {
     "data": {
      "text/plain": [
       "1959Q1    0.00\n",
       "1959Q2    2.34\n",
       "1959Q3    2.74\n",
       "1959Q4    0.27\n",
       "1960Q1    2.31\n",
       "          ... \n",
       "2008Q3   -3.16\n",
       "2008Q4   -8.79\n",
       "2009Q1    0.94\n",
       "2009Q2    3.37\n",
       "2009Q3    3.56\n",
       "Freq: Q-DEC, Name: infl, Length: 203, dtype: float64"
      ]
     },
     "execution_count": 290,
     "metadata": {},
     "output_type": "execute_result"
    }
   ],
   "source": [
    "data.infl"
   ]
  },
  {
   "cell_type": "code",
   "execution_count": 291,
   "id": "33318c5e",
   "metadata": {},
   "outputs": [],
   "source": [
    "pd.PeriodIndex?"
   ]
  },
  {
   "cell_type": "code",
   "execution_count": 278,
   "id": "93a4804d",
   "metadata": {},
   "outputs": [
    {
     "data": {
      "text/plain": [
       "1959Q1    1959\n",
       "1959Q2    1959\n",
       "1959Q3    1959\n",
       "1959Q4    1959\n",
       "1960Q1    1960\n",
       "          ... \n",
       "2008Q3    2008\n",
       "2008Q4    2008\n",
       "2009Q1    2009\n",
       "2009Q2    2009\n",
       "2009Q3    2009\n",
       "Freq: Q-DEC, Name: year, Length: 203, dtype: int64"
      ]
     },
     "execution_count": 278,
     "metadata": {},
     "output_type": "execute_result"
    }
   ],
   "source": [
    "year"
   ]
  },
  {
   "cell_type": "code",
   "execution_count": null,
   "id": "9996fded",
   "metadata": {},
   "outputs": [],
   "source": []
  }
 ],
 "metadata": {
  "kernelspec": {
   "display_name": "Python 3 (ipykernel)",
   "language": "python",
   "name": "python3"
  },
  "language_info": {
   "codemirror_mode": {
    "name": "ipython",
    "version": 3
   },
   "file_extension": ".py",
   "mimetype": "text/x-python",
   "name": "python",
   "nbconvert_exporter": "python",
   "pygments_lexer": "ipython3",
   "version": "3.9.7"
  }
 },
 "nbformat": 4,
 "nbformat_minor": 5
}
