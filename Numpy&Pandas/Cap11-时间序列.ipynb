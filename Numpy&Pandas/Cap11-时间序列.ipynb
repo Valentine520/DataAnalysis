{
 "cells": [
  {
   "cell_type": "code",
   "execution_count": 417,
   "id": "3a67510b",
   "metadata": {},
   "outputs": [],
   "source": [
    "# 处理时间序列类型\n",
    "from datetime import datetime\n",
    "from datetime import timedelta # 表示两个时间的差\n",
    "import matplotlib.pyplot as plt\n",
    "import pandas as pd\n",
    "import numpy as np"
   ]
  },
  {
   "cell_type": "code",
   "execution_count": 418,
   "id": "bb26c904",
   "metadata": {},
   "outputs": [],
   "source": [
    "now = datetime.now()"
   ]
  },
  {
   "cell_type": "code",
   "execution_count": 419,
   "id": "428134c1",
   "metadata": {},
   "outputs": [
    {
     "data": {
      "text/plain": [
       "datetime.datetime(2022, 3, 25, 14, 48, 47, 632161)"
      ]
     },
     "execution_count": 419,
     "metadata": {},
     "output_type": "execute_result"
    }
   ],
   "source": [
    "now"
   ]
  },
  {
   "cell_type": "code",
   "execution_count": 420,
   "id": "974442df",
   "metadata": {},
   "outputs": [
    {
     "data": {
      "text/plain": [
       "(2022, 3, 25)"
      ]
     },
     "execution_count": 420,
     "metadata": {},
     "output_type": "execute_result"
    }
   ],
   "source": [
    "now.year, now.month, now.day # 创建年月日元组"
   ]
  },
  {
   "cell_type": "code",
   "execution_count": 421,
   "id": "a4c95c72",
   "metadata": {},
   "outputs": [],
   "source": [
    "delta = datetime(2011, 1, 7) - datetime(2008, 6, 24, 8, 15)"
   ]
  },
  {
   "cell_type": "code",
   "execution_count": 422,
   "id": "b83868da",
   "metadata": {},
   "outputs": [
    {
     "data": {
      "text/plain": [
       "datetime.timedelta(days=926, seconds=56700)"
      ]
     },
     "execution_count": 422,
     "metadata": {},
     "output_type": "execute_result"
    }
   ],
   "source": [
    "delta"
   ]
  },
  {
   "cell_type": "code",
   "execution_count": 423,
   "id": "0a29ab2d",
   "metadata": {},
   "outputs": [],
   "source": [
    "start = datetime(2011, 1, 7)"
   ]
  },
  {
   "cell_type": "code",
   "execution_count": 424,
   "id": "e1bd8916",
   "metadata": {},
   "outputs": [
    {
     "data": {
      "text/plain": [
       "datetime.datetime(2011, 1, 7, 0, 0)"
      ]
     },
     "execution_count": 424,
     "metadata": {},
     "output_type": "execute_result"
    }
   ],
   "source": [
    "start"
   ]
  },
  {
   "cell_type": "code",
   "execution_count": 425,
   "id": "e4f4cd8f",
   "metadata": {},
   "outputs": [
    {
     "data": {
      "text/plain": [
       "datetime.datetime(2011, 1, 7, 0, 0, 12)"
      ]
     },
     "execution_count": 425,
     "metadata": {},
     "output_type": "execute_result"
    }
   ],
   "source": [
    "start + timedelta(seconds=12) # 添加12个间隔 days"
   ]
  },
  {
   "cell_type": "code",
   "execution_count": 426,
   "id": "a5dd7cb1",
   "metadata": {},
   "outputs": [],
   "source": [
    "timedelta?"
   ]
  },
  {
   "cell_type": "code",
   "execution_count": 427,
   "id": "361a8c3a",
   "metadata": {},
   "outputs": [
    {
     "data": {
      "text/plain": [
       "datetime.datetime(2010, 12, 14, 0, 0)"
      ]
     },
     "execution_count": 427,
     "metadata": {},
     "output_type": "execute_result"
    }
   ],
   "source": [
    "start - 2 * timedelta(12)"
   ]
  },
  {
   "cell_type": "code",
   "execution_count": 428,
   "id": "7c92035f",
   "metadata": {},
   "outputs": [],
   "source": [
    "stamp = datetime(2011, 1, 3)"
   ]
  },
  {
   "cell_type": "code",
   "execution_count": 429,
   "id": "b4f0d3f6",
   "metadata": {},
   "outputs": [
    {
     "data": {
      "text/plain": [
       "datetime.datetime(2011, 1, 3, 0, 0)"
      ]
     },
     "execution_count": 429,
     "metadata": {},
     "output_type": "execute_result"
    }
   ],
   "source": [
    "stamp"
   ]
  },
  {
   "cell_type": "code",
   "execution_count": 430,
   "id": "1af8a1a3",
   "metadata": {},
   "outputs": [
    {
     "data": {
      "text/plain": [
       "'2011-01-03-00-00-002011-01-03'"
      ]
     },
     "execution_count": 430,
     "metadata": {},
     "output_type": "execute_result"
    }
   ],
   "source": [
    "stamp.strftime('%Y-%m-%d-%H-%M-%S%F')"
   ]
  },
  {
   "cell_type": "code",
   "execution_count": 431,
   "id": "9727b3d9",
   "metadata": {},
   "outputs": [
    {
     "data": {
      "text/plain": [
       "52.142857142857146"
      ]
     },
     "execution_count": 431,
     "metadata": {},
     "output_type": "execute_result"
    }
   ],
   "source": [
    "365 / 7"
   ]
  },
  {
   "cell_type": "code",
   "execution_count": 432,
   "id": "ff7ae85e",
   "metadata": {},
   "outputs": [],
   "source": [
    "value = '2011-01-03'"
   ]
  },
  {
   "cell_type": "code",
   "execution_count": 433,
   "id": "9fe3d1c8",
   "metadata": {},
   "outputs": [
    {
     "data": {
      "text/plain": [
       "'2011-01-03'"
      ]
     },
     "execution_count": 433,
     "metadata": {},
     "output_type": "execute_result"
    }
   ],
   "source": [
    "value"
   ]
  },
  {
   "cell_type": "code",
   "execution_count": 434,
   "id": "283d4529",
   "metadata": {},
   "outputs": [
    {
     "data": {
      "text/plain": [
       "datetime.datetime(2011, 1, 3, 0, 0)"
      ]
     },
     "execution_count": 434,
     "metadata": {},
     "output_type": "execute_result"
    }
   ],
   "source": [
    "datetime.strptime(value, \"%Y-%m-%d\") # 为什么不能传入%F"
   ]
  },
  {
   "cell_type": "code",
   "execution_count": 435,
   "id": "ae8e4091",
   "metadata": {},
   "outputs": [],
   "source": [
    "datestrs = ['7/6/2011', '8/6/2011']"
   ]
  },
  {
   "cell_type": "code",
   "execution_count": 436,
   "id": "80244134",
   "metadata": {},
   "outputs": [
    {
     "data": {
      "text/plain": [
       "[datetime.datetime(2011, 7, 6, 0, 0), datetime.datetime(2011, 8, 6, 0, 0)]"
      ]
     },
     "execution_count": 436,
     "metadata": {},
     "output_type": "execute_result"
    }
   ],
   "source": [
    "[datetime.strptime(x, '%m/%d/%Y') for x in datestrs]"
   ]
  },
  {
   "cell_type": "code",
   "execution_count": 437,
   "id": "ee39494d",
   "metadata": {},
   "outputs": [],
   "source": [
    "from dateutil.parser import parse"
   ]
  },
  {
   "cell_type": "code",
   "execution_count": 438,
   "id": "8675094c",
   "metadata": {},
   "outputs": [
    {
     "data": {
      "text/plain": [
       "datetime.datetime(2002, 1, 12, 0, 0)"
      ]
     },
     "execution_count": 438,
     "metadata": {},
     "output_type": "execute_result"
    }
   ],
   "source": [
    "parse('2002-1-12')"
   ]
  },
  {
   "cell_type": "code",
   "execution_count": 439,
   "id": "5ae18872",
   "metadata": {},
   "outputs": [
    {
     "data": {
      "text/plain": [
       "datetime.datetime(1997, 1, 31, 22, 45)"
      ]
     },
     "execution_count": 439,
     "metadata": {},
     "output_type": "execute_result"
    }
   ],
   "source": [
    "parse('Jan 31, 1997 10:45 PM')"
   ]
  },
  {
   "cell_type": "code",
   "execution_count": 440,
   "id": "d6dfa806",
   "metadata": {},
   "outputs": [
    {
     "data": {
      "text/plain": [
       "datetime.datetime(2022, 12, 6, 0, 0)"
      ]
     },
     "execution_count": 440,
     "metadata": {},
     "output_type": "execute_result"
    }
   ],
   "source": [
    "parse('6/12/2022', dayfirst=True)"
   ]
  },
  {
   "cell_type": "code",
   "execution_count": 441,
   "id": "59d35e4f",
   "metadata": {},
   "outputs": [],
   "source": [
    "datestrs = ['7/6/2011', '8/6/2011']"
   ]
  },
  {
   "cell_type": "code",
   "execution_count": 442,
   "id": "1ec7a737",
   "metadata": {},
   "outputs": [
    {
     "data": {
      "text/plain": [
       "DatetimeIndex(['2011-07-06', '2011-08-06'], dtype='datetime64[ns]', freq=None)"
      ]
     },
     "execution_count": 442,
     "metadata": {},
     "output_type": "execute_result"
    }
   ],
   "source": [
    "pd.to_datetime(datestrs)"
   ]
  },
  {
   "cell_type": "code",
   "execution_count": 443,
   "id": "bac73f9a",
   "metadata": {},
   "outputs": [],
   "source": [
    "idx = pd.to_datetime(datestrs + [None])"
   ]
  },
  {
   "cell_type": "code",
   "execution_count": 444,
   "id": "8b0303de",
   "metadata": {},
   "outputs": [
    {
     "data": {
      "text/plain": [
       "NaT"
      ]
     },
     "execution_count": 444,
     "metadata": {},
     "output_type": "execute_result"
    }
   ],
   "source": [
    "idx[2]"
   ]
  },
  {
   "cell_type": "code",
   "execution_count": 445,
   "id": "0cfc9b56",
   "metadata": {},
   "outputs": [
    {
     "data": {
      "text/plain": [
       "array([False, False,  True])"
      ]
     },
     "execution_count": 445,
     "metadata": {},
     "output_type": "execute_result"
    }
   ],
   "source": [
    "pd.isnull(idx)"
   ]
  },
  {
   "cell_type": "code",
   "execution_count": 446,
   "id": "f1fd8d22",
   "metadata": {},
   "outputs": [
    {
     "data": {
      "text/plain": [
       "DatetimeIndex(['2011-07-06', '2011-08-06', 'NaT'], dtype='datetime64[ns]', freq=None)"
      ]
     },
     "execution_count": 446,
     "metadata": {},
     "output_type": "execute_result"
    }
   ],
   "source": [
    "idx"
   ]
  },
  {
   "cell_type": "code",
   "execution_count": 447,
   "id": "d6e68c23",
   "metadata": {},
   "outputs": [
    {
     "data": {
      "text/plain": [
       "['07/06/11', '08/06/11']"
      ]
     },
     "execution_count": 447,
     "metadata": {},
     "output_type": "execute_result"
    }
   ],
   "source": [
    "[item.strftime('%x') for item in idx.dropna()]"
   ]
  },
  {
   "cell_type": "code",
   "execution_count": 448,
   "id": "e09f6acd",
   "metadata": {},
   "outputs": [],
   "source": [
    "dates = ['2001-1-2', '2011-1-5', '2011-1-7', '2011-1-8', '2011-1-9']"
   ]
  },
  {
   "cell_type": "code",
   "execution_count": 449,
   "id": "9e9f4c0c",
   "metadata": {},
   "outputs": [],
   "source": [
    "length = len(dates)"
   ]
  },
  {
   "cell_type": "code",
   "execution_count": 450,
   "id": "87df549a",
   "metadata": {},
   "outputs": [],
   "source": [
    "ts = pd.Series(np.random.randn(length), index=dates) # 直接用str生成索引"
   ]
  },
  {
   "cell_type": "code",
   "execution_count": 451,
   "id": "d4e4fdad",
   "metadata": {},
   "outputs": [
    {
     "data": {
      "text/plain": [
       "2001-1-2   -2.339106\n",
       "2011-1-5    0.336486\n",
       "2011-1-7    0.480741\n",
       "2011-1-8   -0.824572\n",
       "2011-1-9    0.592761\n",
       "dtype: float64"
      ]
     },
     "execution_count": 451,
     "metadata": {},
     "output_type": "execute_result"
    }
   ],
   "source": [
    "ts"
   ]
  },
  {
   "cell_type": "code",
   "execution_count": 452,
   "id": "d44b4145",
   "metadata": {},
   "outputs": [
    {
     "data": {
      "text/plain": [
       "Index(['2001-1-2', '2011-1-5', '2011-1-7', '2011-1-8', '2011-1-9'], dtype='object')"
      ]
     },
     "execution_count": 452,
     "metadata": {},
     "output_type": "execute_result"
    }
   ],
   "source": [
    "ts.index"
   ]
  },
  {
   "cell_type": "code",
   "execution_count": 453,
   "id": "b469eca1",
   "metadata": {},
   "outputs": [],
   "source": [
    "dates = list(map(parse, dates))"
   ]
  },
  {
   "cell_type": "code",
   "execution_count": 454,
   "id": "4359cae6",
   "metadata": {},
   "outputs": [
    {
     "data": {
      "text/plain": [
       "[datetime.datetime(2001, 1, 2, 0, 0),\n",
       " datetime.datetime(2011, 1, 5, 0, 0),\n",
       " datetime.datetime(2011, 1, 7, 0, 0),\n",
       " datetime.datetime(2011, 1, 8, 0, 0),\n",
       " datetime.datetime(2011, 1, 9, 0, 0)]"
      ]
     },
     "execution_count": 454,
     "metadata": {},
     "output_type": "execute_result"
    }
   ],
   "source": [
    "dates"
   ]
  },
  {
   "cell_type": "code",
   "execution_count": 455,
   "id": "ea4b684b",
   "metadata": {},
   "outputs": [],
   "source": [
    "ts = pd.Series(np.random.randn(length), index=dates) # 利用datetime对象生成index"
   ]
  },
  {
   "cell_type": "code",
   "execution_count": 456,
   "id": "a7374ede",
   "metadata": {},
   "outputs": [
    {
     "data": {
      "text/plain": [
       "2001-01-02    0.026222\n",
       "2011-01-05   -0.298681\n",
       "2011-01-07   -0.742748\n",
       "2011-01-08    0.415004\n",
       "2011-01-09   -0.634284\n",
       "dtype: float64"
      ]
     },
     "execution_count": 456,
     "metadata": {},
     "output_type": "execute_result"
    }
   ],
   "source": [
    "ts"
   ]
  },
  {
   "cell_type": "code",
   "execution_count": 457,
   "id": "c4013c9e",
   "metadata": {},
   "outputs": [
    {
     "data": {
      "text/plain": [
       "DatetimeIndex(['2001-01-02', '2011-01-05', '2011-01-07', '2011-01-08',\n",
       "               '2011-01-09'],\n",
       "              dtype='datetime64[ns]', freq=None)"
      ]
     },
     "execution_count": 457,
     "metadata": {},
     "output_type": "execute_result"
    }
   ],
   "source": [
    "ts.index"
   ]
  },
  {
   "cell_type": "code",
   "execution_count": 458,
   "id": "998ec83b",
   "metadata": {},
   "outputs": [
    {
     "data": {
      "text/plain": [
       "Timestamp('2001-01-02 00:00:00')"
      ]
     },
     "execution_count": 458,
     "metadata": {},
     "output_type": "execute_result"
    }
   ],
   "source": [
    "ts.index[0]"
   ]
  },
  {
   "cell_type": "code",
   "execution_count": 459,
   "id": "068d66e1",
   "metadata": {},
   "outputs": [
    {
     "data": {
      "text/plain": [
       "2001-01-02    0.052443\n",
       "2011-01-05         NaN\n",
       "2011-01-07   -1.485495\n",
       "2011-01-08         NaN\n",
       "2011-01-09   -1.268569\n",
       "dtype: float64"
      ]
     },
     "execution_count": 459,
     "metadata": {},
     "output_type": "execute_result"
    }
   ],
   "source": [
    "ts + ts[::2]"
   ]
  },
  {
   "cell_type": "code",
   "execution_count": 460,
   "id": "c95f2373",
   "metadata": {},
   "outputs": [
    {
     "data": {
      "text/plain": [
       "2001-01-02    0.026222\n",
       "2011-01-07   -0.742748\n",
       "2011-01-09   -0.634284\n",
       "dtype: float64"
      ]
     },
     "execution_count": 460,
     "metadata": {},
     "output_type": "execute_result"
    }
   ],
   "source": [
    "ts[::2]"
   ]
  },
  {
   "cell_type": "code",
   "execution_count": 461,
   "id": "641fd94e",
   "metadata": {},
   "outputs": [
    {
     "data": {
      "text/plain": [
       "dtype('<M8[ns]')"
      ]
     },
     "execution_count": 461,
     "metadata": {},
     "output_type": "execute_result"
    }
   ],
   "source": [
    "ts.index.dtype"
   ]
  },
  {
   "cell_type": "code",
   "execution_count": 462,
   "id": "4f7e75d4",
   "metadata": {},
   "outputs": [],
   "source": [
    "stamp = ts.index[0]"
   ]
  },
  {
   "cell_type": "code",
   "execution_count": 463,
   "id": "3bb71811",
   "metadata": {},
   "outputs": [
    {
     "data": {
      "text/plain": [
       "Timestamp('2001-01-02 00:00:00')"
      ]
     },
     "execution_count": 463,
     "metadata": {},
     "output_type": "execute_result"
    }
   ],
   "source": [
    "stamp"
   ]
  },
  {
   "cell_type": "code",
   "execution_count": 464,
   "id": "00e3746e",
   "metadata": {},
   "outputs": [
    {
     "data": {
      "text/plain": [
       "0.026221642585764652"
      ]
     },
     "execution_count": 464,
     "metadata": {},
     "output_type": "execute_result"
    }
   ],
   "source": [
    "ts[stamp]"
   ]
  },
  {
   "cell_type": "code",
   "execution_count": 465,
   "id": "c4f45438",
   "metadata": {},
   "outputs": [
    {
     "data": {
      "text/plain": [
       "-0.6342842928838427"
      ]
     },
     "execution_count": 465,
     "metadata": {},
     "output_type": "execute_result"
    }
   ],
   "source": [
    "ts['1/9/2011'] # 可以传入字符串"
   ]
  },
  {
   "cell_type": "code",
   "execution_count": 466,
   "id": "88b6799b",
   "metadata": {},
   "outputs": [
    {
     "data": {
      "text/plain": [
       "-0.6342842928838427"
      ]
     },
     "execution_count": 466,
     "metadata": {},
     "output_type": "execute_result"
    }
   ],
   "source": [
    "ts['2011-1-9']"
   ]
  },
  {
   "cell_type": "code",
   "execution_count": 467,
   "id": "316a3656",
   "metadata": {},
   "outputs": [
    {
     "data": {
      "text/plain": [
       "-0.6342842928838427"
      ]
     },
     "execution_count": 467,
     "metadata": {},
     "output_type": "execute_result"
    }
   ],
   "source": [
    "ts['20110109']"
   ]
  },
  {
   "cell_type": "code",
   "execution_count": 468,
   "id": "0a410221",
   "metadata": {},
   "outputs": [],
   "source": [
    "longer_ts = pd.Series(np.random.randn(1000),\n",
    "                     index=pd.date_range('1/1/2000', periods=1000))"
   ]
  },
  {
   "cell_type": "code",
   "execution_count": 469,
   "id": "d88834d2",
   "metadata": {},
   "outputs": [
    {
     "data": {
      "text/plain": [
       "2000-01-01   -0.085921\n",
       "2000-01-02   -0.252199\n",
       "2000-01-03    0.254667\n",
       "2000-01-04   -0.384802\n",
       "2000-01-05   -0.034181\n",
       "                ...   \n",
       "2002-09-22   -0.213910\n",
       "2002-09-23   -0.446784\n",
       "2002-09-24    0.260135\n",
       "2002-09-25   -1.529848\n",
       "2002-09-26    1.829322\n",
       "Freq: D, Length: 1000, dtype: float64"
      ]
     },
     "execution_count": 469,
     "metadata": {},
     "output_type": "execute_result"
    }
   ],
   "source": [
    "longer_ts"
   ]
  },
  {
   "cell_type": "code",
   "execution_count": 470,
   "id": "2be4c2f7",
   "metadata": {},
   "outputs": [
    {
     "data": {
      "text/plain": [
       "2000-01-01   -0.085921\n",
       "2000-01-02   -0.252199\n",
       "2000-01-03    0.254667\n",
       "2000-01-04   -0.384802\n",
       "2000-01-05   -0.034181\n",
       "2000-01-06   -1.274979\n",
       "2000-01-07    2.219051\n",
       "2000-01-08    0.219170\n",
       "2000-01-09    1.126020\n",
       "2000-01-10   -0.333853\n",
       "2000-01-11    1.614110\n",
       "2000-01-12   -0.044833\n",
       "2000-01-13   -1.419059\n",
       "2000-01-14   -0.481901\n",
       "2000-01-15    0.651236\n",
       "2000-01-16   -0.663967\n",
       "2000-01-17   -0.760575\n",
       "2000-01-18   -0.085874\n",
       "2000-01-19   -0.867828\n",
       "2000-01-20    1.689325\n",
       "2000-01-21    2.093732\n",
       "2000-01-22   -1.535124\n",
       "2000-01-23    1.333096\n",
       "2000-01-24   -1.049463\n",
       "2000-01-25   -0.016907\n",
       "2000-01-26    0.934098\n",
       "2000-01-27    0.337266\n",
       "2000-01-28    0.996175\n",
       "2000-01-29    0.438636\n",
       "2000-01-30    0.029511\n",
       "2000-01-31   -0.090678\n",
       "Freq: D, dtype: float64"
      ]
     },
     "execution_count": 470,
     "metadata": {},
     "output_type": "execute_result"
    }
   ],
   "source": [
    "longer_ts['2000-01']"
   ]
  },
  {
   "cell_type": "code",
   "execution_count": 471,
   "id": "149e98f8",
   "metadata": {},
   "outputs": [
    {
     "data": {
      "text/plain": [
       "-0.04364916890879455"
      ]
     },
     "execution_count": 471,
     "metadata": {},
     "output_type": "execute_result"
    }
   ],
   "source": [
    "longer_ts['2000-05-01']"
   ]
  },
  {
   "cell_type": "code",
   "execution_count": 472,
   "id": "279e4f0e",
   "metadata": {},
   "outputs": [
    {
     "data": {
      "text/plain": [
       "2011-01-07   -0.742748\n",
       "2011-01-08    0.415004\n",
       "2011-01-09   -0.634284\n",
       "dtype: float64"
      ]
     },
     "execution_count": 472,
     "metadata": {},
     "output_type": "execute_result"
    }
   ],
   "source": [
    "ts[datetime(2011, 1, 7):]"
   ]
  },
  {
   "cell_type": "code",
   "execution_count": 473,
   "id": "3f3d624c",
   "metadata": {},
   "outputs": [],
   "source": [
    "longer_ts.rename(index={datetime(2000, 1, 1): datetime(2000, 11, 28)}, inplace=True)"
   ]
  },
  {
   "cell_type": "code",
   "execution_count": 474,
   "id": "b6acc19e",
   "metadata": {},
   "outputs": [
    {
     "data": {
      "text/plain": [
       "2000-11-28   -0.085921\n",
       "2000-11-01   -0.358580\n",
       "2000-11-02   -0.810687\n",
       "2000-11-03   -0.110341\n",
       "2000-11-04   -1.578829\n",
       "2000-11-05   -0.959362\n",
       "2000-11-06    0.799610\n",
       "2000-11-07    1.272507\n",
       "2000-11-08   -2.582143\n",
       "2000-11-09   -0.888821\n",
       "2000-11-10    0.422102\n",
       "2000-11-11    1.719511\n",
       "2000-11-12    0.357575\n",
       "2000-11-13   -0.645702\n",
       "2000-11-14   -0.054557\n",
       "2000-11-15   -0.368118\n",
       "2000-11-16   -0.090841\n",
       "2000-11-17   -1.565108\n",
       "2000-11-18   -0.628493\n",
       "2000-11-19    0.713150\n",
       "2000-11-20   -0.650559\n",
       "2000-11-21   -0.863579\n",
       "2000-11-22   -0.754230\n",
       "2000-11-23    0.673410\n",
       "2000-11-24    0.568168\n",
       "2000-11-25    1.588352\n",
       "2000-11-26   -0.727075\n",
       "2000-11-27   -0.730036\n",
       "2000-11-28    0.332317\n",
       "2000-11-29    1.544249\n",
       "2000-11-30   -0.272757\n",
       "dtype: float64"
      ]
     },
     "execution_count": 474,
     "metadata": {},
     "output_type": "execute_result"
    }
   ],
   "source": [
    "longer_ts['2000-11']"
   ]
  },
  {
   "cell_type": "code",
   "execution_count": 475,
   "id": "8ef0f5fa",
   "metadata": {},
   "outputs": [],
   "source": [
    "longer_ts.sort_index(inplace=True)"
   ]
  },
  {
   "cell_type": "code",
   "execution_count": 476,
   "id": "5e937d1f",
   "metadata": {},
   "outputs": [
    {
     "data": {
      "text/plain": [
       "2000-01-02   -0.252199\n",
       "2000-01-03    0.254667\n",
       "2000-01-04   -0.384802\n",
       "2000-01-05   -0.034181\n",
       "2000-01-06   -1.274979\n",
       "                ...   \n",
       "2002-09-22   -0.213910\n",
       "2002-09-23   -0.446784\n",
       "2002-09-24    0.260135\n",
       "2002-09-25   -1.529848\n",
       "2002-09-26    1.829322\n",
       "Length: 1000, dtype: float64"
      ]
     },
     "execution_count": 476,
     "metadata": {},
     "output_type": "execute_result"
    }
   ],
   "source": [
    "longer_ts"
   ]
  },
  {
   "cell_type": "code",
   "execution_count": 477,
   "id": "a2ce1cf0",
   "metadata": {},
   "outputs": [
    {
     "data": {
      "text/plain": [
       "2011-01-07   -0.742748\n",
       "2011-01-08    0.415004\n",
       "2011-01-09   -0.634284\n",
       "dtype: float64"
      ]
     },
     "execution_count": 477,
     "metadata": {},
     "output_type": "execute_result"
    }
   ],
   "source": [
    "ts['1/6/2011': '1/11/2011'] # 提供范围索引"
   ]
  },
  {
   "cell_type": "code",
   "execution_count": 478,
   "id": "55508aba",
   "metadata": {},
   "outputs": [
    {
     "data": {
      "text/plain": [
       "2001-01-02    0.026222\n",
       "2011-01-05   -0.298681\n",
       "2011-01-07   -0.742748\n",
       "2011-01-08    0.415004\n",
       "2011-01-09   -0.634284\n",
       "dtype: float64"
      ]
     },
     "execution_count": 478,
     "metadata": {},
     "output_type": "execute_result"
    }
   ],
   "source": [
    "ts.truncate()"
   ]
  },
  {
   "cell_type": "code",
   "execution_count": 479,
   "id": "352dbfe3",
   "metadata": {},
   "outputs": [],
   "source": [
    "dates = pd.date_range('1/1/2000', periods=100, freq='W-WED')"
   ]
  },
  {
   "cell_type": "code",
   "execution_count": 480,
   "id": "befaaf1c",
   "metadata": {},
   "outputs": [
    {
     "data": {
      "text/plain": [
       "DatetimeIndex(['2000-01-05', '2000-01-12', '2000-01-19', '2000-01-26',\n",
       "               '2000-02-02', '2000-02-09', '2000-02-16', '2000-02-23',\n",
       "               '2000-03-01', '2000-03-08', '2000-03-15', '2000-03-22',\n",
       "               '2000-03-29', '2000-04-05', '2000-04-12', '2000-04-19',\n",
       "               '2000-04-26', '2000-05-03', '2000-05-10', '2000-05-17',\n",
       "               '2000-05-24', '2000-05-31', '2000-06-07', '2000-06-14',\n",
       "               '2000-06-21', '2000-06-28', '2000-07-05', '2000-07-12',\n",
       "               '2000-07-19', '2000-07-26', '2000-08-02', '2000-08-09',\n",
       "               '2000-08-16', '2000-08-23', '2000-08-30', '2000-09-06',\n",
       "               '2000-09-13', '2000-09-20', '2000-09-27', '2000-10-04',\n",
       "               '2000-10-11', '2000-10-18', '2000-10-25', '2000-11-01',\n",
       "               '2000-11-08', '2000-11-15', '2000-11-22', '2000-11-29',\n",
       "               '2000-12-06', '2000-12-13', '2000-12-20', '2000-12-27',\n",
       "               '2001-01-03', '2001-01-10', '2001-01-17', '2001-01-24',\n",
       "               '2001-01-31', '2001-02-07', '2001-02-14', '2001-02-21',\n",
       "               '2001-02-28', '2001-03-07', '2001-03-14', '2001-03-21',\n",
       "               '2001-03-28', '2001-04-04', '2001-04-11', '2001-04-18',\n",
       "               '2001-04-25', '2001-05-02', '2001-05-09', '2001-05-16',\n",
       "               '2001-05-23', '2001-05-30', '2001-06-06', '2001-06-13',\n",
       "               '2001-06-20', '2001-06-27', '2001-07-04', '2001-07-11',\n",
       "               '2001-07-18', '2001-07-25', '2001-08-01', '2001-08-08',\n",
       "               '2001-08-15', '2001-08-22', '2001-08-29', '2001-09-05',\n",
       "               '2001-09-12', '2001-09-19', '2001-09-26', '2001-10-03',\n",
       "               '2001-10-10', '2001-10-17', '2001-10-24', '2001-10-31',\n",
       "               '2001-11-07', '2001-11-14', '2001-11-21', '2001-11-28'],\n",
       "              dtype='datetime64[ns]', freq='W-WED')"
      ]
     },
     "execution_count": 480,
     "metadata": {},
     "output_type": "execute_result"
    }
   ],
   "source": [
    "dates"
   ]
  },
  {
   "cell_type": "code",
   "execution_count": 481,
   "id": "e14427af",
   "metadata": {},
   "outputs": [],
   "source": [
    "long_df = pd.DataFrame(np.random.randn(100, 4),\n",
    "                      index=dates,\n",
    "                      columns=['Colorado', 'Texas',\n",
    "                              'New York', 'Ohio']) # 使用DatetimeIndex作为index"
   ]
  },
  {
   "cell_type": "code",
   "execution_count": 482,
   "id": "f43279d7",
   "metadata": {},
   "outputs": [
    {
     "data": {
      "text/html": [
       "<div>\n",
       "<style scoped>\n",
       "    .dataframe tbody tr th:only-of-type {\n",
       "        vertical-align: middle;\n",
       "    }\n",
       "\n",
       "    .dataframe tbody tr th {\n",
       "        vertical-align: top;\n",
       "    }\n",
       "\n",
       "    .dataframe thead th {\n",
       "        text-align: right;\n",
       "    }\n",
       "</style>\n",
       "<table border=\"1\" class=\"dataframe\">\n",
       "  <thead>\n",
       "    <tr style=\"text-align: right;\">\n",
       "      <th></th>\n",
       "      <th>Colorado</th>\n",
       "      <th>Texas</th>\n",
       "      <th>New York</th>\n",
       "      <th>Ohio</th>\n",
       "    </tr>\n",
       "  </thead>\n",
       "  <tbody>\n",
       "    <tr>\n",
       "      <th>2000-01-26</th>\n",
       "      <td>-0.271387</td>\n",
       "      <td>0.928776</td>\n",
       "      <td>0.554903</td>\n",
       "      <td>1.459098</td>\n",
       "    </tr>\n",
       "    <tr>\n",
       "      <th>2000-02-02</th>\n",
       "      <td>-0.573899</td>\n",
       "      <td>-0.986972</td>\n",
       "      <td>1.789574</td>\n",
       "      <td>0.488050</td>\n",
       "    </tr>\n",
       "    <tr>\n",
       "      <th>2000-02-09</th>\n",
       "      <td>-0.461666</td>\n",
       "      <td>-1.029339</td>\n",
       "      <td>-1.034419</td>\n",
       "      <td>-1.519995</td>\n",
       "    </tr>\n",
       "    <tr>\n",
       "      <th>2000-02-16</th>\n",
       "      <td>0.607623</td>\n",
       "      <td>0.271955</td>\n",
       "      <td>0.326791</td>\n",
       "      <td>0.662147</td>\n",
       "    </tr>\n",
       "    <tr>\n",
       "      <th>2000-02-23</th>\n",
       "      <td>0.075010</td>\n",
       "      <td>-0.673858</td>\n",
       "      <td>-0.932651</td>\n",
       "      <td>1.760175</td>\n",
       "    </tr>\n",
       "    <tr>\n",
       "      <th>2000-03-01</th>\n",
       "      <td>0.356195</td>\n",
       "      <td>-0.414808</td>\n",
       "      <td>0.321321</td>\n",
       "      <td>0.458839</td>\n",
       "    </tr>\n",
       "    <tr>\n",
       "      <th>2000-03-08</th>\n",
       "      <td>1.642674</td>\n",
       "      <td>0.064072</td>\n",
       "      <td>-0.351758</td>\n",
       "      <td>0.180036</td>\n",
       "    </tr>\n",
       "    <tr>\n",
       "      <th>2000-03-15</th>\n",
       "      <td>-0.007838</td>\n",
       "      <td>-0.127529</td>\n",
       "      <td>0.533082</td>\n",
       "      <td>1.240065</td>\n",
       "    </tr>\n",
       "    <tr>\n",
       "      <th>2000-03-22</th>\n",
       "      <td>-1.466617</td>\n",
       "      <td>-0.257195</td>\n",
       "      <td>2.362501</td>\n",
       "      <td>0.301956</td>\n",
       "    </tr>\n",
       "    <tr>\n",
       "      <th>2000-03-29</th>\n",
       "      <td>-1.647022</td>\n",
       "      <td>-2.671820</td>\n",
       "      <td>0.642316</td>\n",
       "      <td>-0.171572</td>\n",
       "    </tr>\n",
       "    <tr>\n",
       "      <th>2000-04-05</th>\n",
       "      <td>1.696429</td>\n",
       "      <td>0.538362</td>\n",
       "      <td>-0.536735</td>\n",
       "      <td>-0.100830</td>\n",
       "    </tr>\n",
       "    <tr>\n",
       "      <th>2000-04-12</th>\n",
       "      <td>-0.207363</td>\n",
       "      <td>1.377446</td>\n",
       "      <td>0.172665</td>\n",
       "      <td>2.878646</td>\n",
       "    </tr>\n",
       "    <tr>\n",
       "      <th>2000-04-19</th>\n",
       "      <td>1.267187</td>\n",
       "      <td>0.574457</td>\n",
       "      <td>0.630231</td>\n",
       "      <td>0.977654</td>\n",
       "    </tr>\n",
       "    <tr>\n",
       "      <th>2000-04-26</th>\n",
       "      <td>-0.422678</td>\n",
       "      <td>-0.037067</td>\n",
       "      <td>-0.182522</td>\n",
       "      <td>0.161997</td>\n",
       "    </tr>\n",
       "    <tr>\n",
       "      <th>2000-05-03</th>\n",
       "      <td>-0.616118</td>\n",
       "      <td>-1.762071</td>\n",
       "      <td>0.406771</td>\n",
       "      <td>0.531201</td>\n",
       "    </tr>\n",
       "    <tr>\n",
       "      <th>2000-05-10</th>\n",
       "      <td>-1.074650</td>\n",
       "      <td>-0.555885</td>\n",
       "      <td>1.334967</td>\n",
       "      <td>-0.074439</td>\n",
       "    </tr>\n",
       "    <tr>\n",
       "      <th>2000-05-17</th>\n",
       "      <td>-0.589874</td>\n",
       "      <td>1.330315</td>\n",
       "      <td>-0.724163</td>\n",
       "      <td>0.129633</td>\n",
       "    </tr>\n",
       "    <tr>\n",
       "      <th>2000-05-24</th>\n",
       "      <td>0.069545</td>\n",
       "      <td>1.326772</td>\n",
       "      <td>0.038832</td>\n",
       "      <td>0.868753</td>\n",
       "    </tr>\n",
       "    <tr>\n",
       "      <th>2000-05-31</th>\n",
       "      <td>-0.305081</td>\n",
       "      <td>-0.693959</td>\n",
       "      <td>1.500748</td>\n",
       "      <td>-0.488477</td>\n",
       "    </tr>\n",
       "    <tr>\n",
       "      <th>2000-06-07</th>\n",
       "      <td>-0.937299</td>\n",
       "      <td>-0.918887</td>\n",
       "      <td>0.075910</td>\n",
       "      <td>-1.975028</td>\n",
       "    </tr>\n",
       "    <tr>\n",
       "      <th>2000-06-14</th>\n",
       "      <td>0.575625</td>\n",
       "      <td>0.698380</td>\n",
       "      <td>-0.958661</td>\n",
       "      <td>-0.162311</td>\n",
       "    </tr>\n",
       "    <tr>\n",
       "      <th>2000-06-21</th>\n",
       "      <td>0.799594</td>\n",
       "      <td>-0.138621</td>\n",
       "      <td>2.414010</td>\n",
       "      <td>-0.067039</td>\n",
       "    </tr>\n",
       "    <tr>\n",
       "      <th>2000-06-28</th>\n",
       "      <td>-0.200931</td>\n",
       "      <td>0.908016</td>\n",
       "      <td>0.068860</td>\n",
       "      <td>0.429535</td>\n",
       "    </tr>\n",
       "    <tr>\n",
       "      <th>2000-07-05</th>\n",
       "      <td>-0.589590</td>\n",
       "      <td>1.033764</td>\n",
       "      <td>-0.904189</td>\n",
       "      <td>-0.289086</td>\n",
       "    </tr>\n",
       "    <tr>\n",
       "      <th>2000-07-12</th>\n",
       "      <td>-0.605590</td>\n",
       "      <td>0.575955</td>\n",
       "      <td>-0.824312</td>\n",
       "      <td>0.209472</td>\n",
       "    </tr>\n",
       "    <tr>\n",
       "      <th>2000-07-19</th>\n",
       "      <td>-1.131799</td>\n",
       "      <td>0.165112</td>\n",
       "      <td>-1.123723</td>\n",
       "      <td>-1.616731</td>\n",
       "    </tr>\n",
       "    <tr>\n",
       "      <th>2000-07-26</th>\n",
       "      <td>-0.384213</td>\n",
       "      <td>-1.203872</td>\n",
       "      <td>-1.425410</td>\n",
       "      <td>-0.913997</td>\n",
       "    </tr>\n",
       "    <tr>\n",
       "      <th>2000-08-02</th>\n",
       "      <td>-1.743825</td>\n",
       "      <td>-1.466610</td>\n",
       "      <td>-1.882531</td>\n",
       "      <td>-0.457983</td>\n",
       "    </tr>\n",
       "    <tr>\n",
       "      <th>2000-08-09</th>\n",
       "      <td>-0.305343</td>\n",
       "      <td>1.971947</td>\n",
       "      <td>0.810677</td>\n",
       "      <td>-0.453992</td>\n",
       "    </tr>\n",
       "    <tr>\n",
       "      <th>2000-08-16</th>\n",
       "      <td>-1.035549</td>\n",
       "      <td>-0.806193</td>\n",
       "      <td>0.663494</td>\n",
       "      <td>-0.400382</td>\n",
       "    </tr>\n",
       "    <tr>\n",
       "      <th>2000-08-23</th>\n",
       "      <td>-1.573455</td>\n",
       "      <td>1.019493</td>\n",
       "      <td>-0.117845</td>\n",
       "      <td>-1.796221</td>\n",
       "    </tr>\n",
       "    <tr>\n",
       "      <th>2000-08-30</th>\n",
       "      <td>2.135765</td>\n",
       "      <td>-0.078678</td>\n",
       "      <td>-0.868502</td>\n",
       "      <td>-0.621422</td>\n",
       "    </tr>\n",
       "    <tr>\n",
       "      <th>2000-09-06</th>\n",
       "      <td>-0.553770</td>\n",
       "      <td>-2.410085</td>\n",
       "      <td>-1.803900</td>\n",
       "      <td>-1.148802</td>\n",
       "    </tr>\n",
       "    <tr>\n",
       "      <th>2000-09-13</th>\n",
       "      <td>0.413978</td>\n",
       "      <td>0.441741</td>\n",
       "      <td>0.066239</td>\n",
       "      <td>0.092971</td>\n",
       "    </tr>\n",
       "    <tr>\n",
       "      <th>2000-09-20</th>\n",
       "      <td>1.481194</td>\n",
       "      <td>0.764029</td>\n",
       "      <td>0.887933</td>\n",
       "      <td>-0.553614</td>\n",
       "    </tr>\n",
       "    <tr>\n",
       "      <th>2000-09-27</th>\n",
       "      <td>0.812409</td>\n",
       "      <td>-0.867687</td>\n",
       "      <td>-0.893899</td>\n",
       "      <td>0.254335</td>\n",
       "    </tr>\n",
       "    <tr>\n",
       "      <th>2000-10-04</th>\n",
       "      <td>1.412777</td>\n",
       "      <td>-0.791012</td>\n",
       "      <td>0.696236</td>\n",
       "      <td>1.732348</td>\n",
       "    </tr>\n",
       "    <tr>\n",
       "      <th>2000-10-11</th>\n",
       "      <td>-1.559498</td>\n",
       "      <td>-0.856374</td>\n",
       "      <td>-0.140571</td>\n",
       "      <td>0.424388</td>\n",
       "    </tr>\n",
       "    <tr>\n",
       "      <th>2000-10-18</th>\n",
       "      <td>-2.385499</td>\n",
       "      <td>-0.735317</td>\n",
       "      <td>-0.444586</td>\n",
       "      <td>-0.609155</td>\n",
       "    </tr>\n",
       "    <tr>\n",
       "      <th>2000-10-25</th>\n",
       "      <td>0.558004</td>\n",
       "      <td>0.284561</td>\n",
       "      <td>-0.950462</td>\n",
       "      <td>-0.491843</td>\n",
       "    </tr>\n",
       "    <tr>\n",
       "      <th>2000-11-01</th>\n",
       "      <td>1.316337</td>\n",
       "      <td>-0.326043</td>\n",
       "      <td>-0.599947</td>\n",
       "      <td>-0.405277</td>\n",
       "    </tr>\n",
       "    <tr>\n",
       "      <th>2000-11-08</th>\n",
       "      <td>0.972252</td>\n",
       "      <td>0.775957</td>\n",
       "      <td>-0.708210</td>\n",
       "      <td>-0.311810</td>\n",
       "    </tr>\n",
       "    <tr>\n",
       "      <th>2000-11-15</th>\n",
       "      <td>-1.324386</td>\n",
       "      <td>0.528375</td>\n",
       "      <td>-0.819990</td>\n",
       "      <td>-0.805259</td>\n",
       "    </tr>\n",
       "    <tr>\n",
       "      <th>2000-11-22</th>\n",
       "      <td>-2.300463</td>\n",
       "      <td>-1.388676</td>\n",
       "      <td>0.184756</td>\n",
       "      <td>-0.706506</td>\n",
       "    </tr>\n",
       "    <tr>\n",
       "      <th>2000-11-29</th>\n",
       "      <td>-0.471692</td>\n",
       "      <td>0.091599</td>\n",
       "      <td>0.513956</td>\n",
       "      <td>-0.617286</td>\n",
       "    </tr>\n",
       "    <tr>\n",
       "      <th>2000-12-06</th>\n",
       "      <td>0.568663</td>\n",
       "      <td>0.961290</td>\n",
       "      <td>0.158089</td>\n",
       "      <td>-1.031521</td>\n",
       "    </tr>\n",
       "    <tr>\n",
       "      <th>2000-12-13</th>\n",
       "      <td>0.920205</td>\n",
       "      <td>0.868966</td>\n",
       "      <td>0.459660</td>\n",
       "      <td>-1.454854</td>\n",
       "    </tr>\n",
       "    <tr>\n",
       "      <th>2000-12-20</th>\n",
       "      <td>-0.235901</td>\n",
       "      <td>-0.628363</td>\n",
       "      <td>0.233820</td>\n",
       "      <td>0.488758</td>\n",
       "    </tr>\n",
       "    <tr>\n",
       "      <th>2000-12-27</th>\n",
       "      <td>0.330352</td>\n",
       "      <td>-1.304079</td>\n",
       "      <td>2.650926</td>\n",
       "      <td>0.445866</td>\n",
       "    </tr>\n",
       "    <tr>\n",
       "      <th>2001-01-03</th>\n",
       "      <td>0.455227</td>\n",
       "      <td>0.574513</td>\n",
       "      <td>3.005803</td>\n",
       "      <td>0.898955</td>\n",
       "    </tr>\n",
       "  </tbody>\n",
       "</table>\n",
       "</div>"
      ],
      "text/plain": [
       "            Colorado     Texas  New York      Ohio\n",
       "2000-01-26 -0.271387  0.928776  0.554903  1.459098\n",
       "2000-02-02 -0.573899 -0.986972  1.789574  0.488050\n",
       "2000-02-09 -0.461666 -1.029339 -1.034419 -1.519995\n",
       "2000-02-16  0.607623  0.271955  0.326791  0.662147\n",
       "2000-02-23  0.075010 -0.673858 -0.932651  1.760175\n",
       "2000-03-01  0.356195 -0.414808  0.321321  0.458839\n",
       "2000-03-08  1.642674  0.064072 -0.351758  0.180036\n",
       "2000-03-15 -0.007838 -0.127529  0.533082  1.240065\n",
       "2000-03-22 -1.466617 -0.257195  2.362501  0.301956\n",
       "2000-03-29 -1.647022 -2.671820  0.642316 -0.171572\n",
       "2000-04-05  1.696429  0.538362 -0.536735 -0.100830\n",
       "2000-04-12 -0.207363  1.377446  0.172665  2.878646\n",
       "2000-04-19  1.267187  0.574457  0.630231  0.977654\n",
       "2000-04-26 -0.422678 -0.037067 -0.182522  0.161997\n",
       "2000-05-03 -0.616118 -1.762071  0.406771  0.531201\n",
       "2000-05-10 -1.074650 -0.555885  1.334967 -0.074439\n",
       "2000-05-17 -0.589874  1.330315 -0.724163  0.129633\n",
       "2000-05-24  0.069545  1.326772  0.038832  0.868753\n",
       "2000-05-31 -0.305081 -0.693959  1.500748 -0.488477\n",
       "2000-06-07 -0.937299 -0.918887  0.075910 -1.975028\n",
       "2000-06-14  0.575625  0.698380 -0.958661 -0.162311\n",
       "2000-06-21  0.799594 -0.138621  2.414010 -0.067039\n",
       "2000-06-28 -0.200931  0.908016  0.068860  0.429535\n",
       "2000-07-05 -0.589590  1.033764 -0.904189 -0.289086\n",
       "2000-07-12 -0.605590  0.575955 -0.824312  0.209472\n",
       "2000-07-19 -1.131799  0.165112 -1.123723 -1.616731\n",
       "2000-07-26 -0.384213 -1.203872 -1.425410 -0.913997\n",
       "2000-08-02 -1.743825 -1.466610 -1.882531 -0.457983\n",
       "2000-08-09 -0.305343  1.971947  0.810677 -0.453992\n",
       "2000-08-16 -1.035549 -0.806193  0.663494 -0.400382\n",
       "2000-08-23 -1.573455  1.019493 -0.117845 -1.796221\n",
       "2000-08-30  2.135765 -0.078678 -0.868502 -0.621422\n",
       "2000-09-06 -0.553770 -2.410085 -1.803900 -1.148802\n",
       "2000-09-13  0.413978  0.441741  0.066239  0.092971\n",
       "2000-09-20  1.481194  0.764029  0.887933 -0.553614\n",
       "2000-09-27  0.812409 -0.867687 -0.893899  0.254335\n",
       "2000-10-04  1.412777 -0.791012  0.696236  1.732348\n",
       "2000-10-11 -1.559498 -0.856374 -0.140571  0.424388\n",
       "2000-10-18 -2.385499 -0.735317 -0.444586 -0.609155\n",
       "2000-10-25  0.558004  0.284561 -0.950462 -0.491843\n",
       "2000-11-01  1.316337 -0.326043 -0.599947 -0.405277\n",
       "2000-11-08  0.972252  0.775957 -0.708210 -0.311810\n",
       "2000-11-15 -1.324386  0.528375 -0.819990 -0.805259\n",
       "2000-11-22 -2.300463 -1.388676  0.184756 -0.706506\n",
       "2000-11-29 -0.471692  0.091599  0.513956 -0.617286\n",
       "2000-12-06  0.568663  0.961290  0.158089 -1.031521\n",
       "2000-12-13  0.920205  0.868966  0.459660 -1.454854\n",
       "2000-12-20 -0.235901 -0.628363  0.233820  0.488758\n",
       "2000-12-27  0.330352 -1.304079  2.650926  0.445866\n",
       "2001-01-03  0.455227  0.574513  3.005803  0.898955"
      ]
     },
     "execution_count": 482,
     "metadata": {},
     "output_type": "execute_result"
    }
   ],
   "source": [
    "long_df.truncate('2000-1-25', '2001-1-3')"
   ]
  },
  {
   "cell_type": "code",
   "execution_count": 483,
   "id": "7138290b",
   "metadata": {},
   "outputs": [
    {
     "data": {
      "text/html": [
       "<div>\n",
       "<style scoped>\n",
       "    .dataframe tbody tr th:only-of-type {\n",
       "        vertical-align: middle;\n",
       "    }\n",
       "\n",
       "    .dataframe tbody tr th {\n",
       "        vertical-align: top;\n",
       "    }\n",
       "\n",
       "    .dataframe thead th {\n",
       "        text-align: right;\n",
       "    }\n",
       "</style>\n",
       "<table border=\"1\" class=\"dataframe\">\n",
       "  <thead>\n",
       "    <tr style=\"text-align: right;\">\n",
       "      <th></th>\n",
       "      <th>Colorado</th>\n",
       "      <th>Texas</th>\n",
       "      <th>New York</th>\n",
       "      <th>Ohio</th>\n",
       "    </tr>\n",
       "  </thead>\n",
       "  <tbody>\n",
       "    <tr>\n",
       "      <th>2001-05-02</th>\n",
       "      <td>-0.055151</td>\n",
       "      <td>0.012538</td>\n",
       "      <td>0.040637</td>\n",
       "      <td>1.123657</td>\n",
       "    </tr>\n",
       "    <tr>\n",
       "      <th>2001-05-09</th>\n",
       "      <td>0.486312</td>\n",
       "      <td>0.312363</td>\n",
       "      <td>-0.239192</td>\n",
       "      <td>0.436329</td>\n",
       "    </tr>\n",
       "    <tr>\n",
       "      <th>2001-05-16</th>\n",
       "      <td>-0.506337</td>\n",
       "      <td>1.201541</td>\n",
       "      <td>-0.128575</td>\n",
       "      <td>-1.472527</td>\n",
       "    </tr>\n",
       "    <tr>\n",
       "      <th>2001-05-23</th>\n",
       "      <td>-0.538274</td>\n",
       "      <td>1.256275</td>\n",
       "      <td>0.884859</td>\n",
       "      <td>0.426985</td>\n",
       "    </tr>\n",
       "    <tr>\n",
       "      <th>2001-05-30</th>\n",
       "      <td>-1.621941</td>\n",
       "      <td>1.014067</td>\n",
       "      <td>-0.058705</td>\n",
       "      <td>-0.264519</td>\n",
       "    </tr>\n",
       "  </tbody>\n",
       "</table>\n",
       "</div>"
      ],
      "text/plain": [
       "            Colorado     Texas  New York      Ohio\n",
       "2001-05-02 -0.055151  0.012538  0.040637  1.123657\n",
       "2001-05-09  0.486312  0.312363 -0.239192  0.436329\n",
       "2001-05-16 -0.506337  1.201541 -0.128575 -1.472527\n",
       "2001-05-23 -0.538274  1.256275  0.884859  0.426985\n",
       "2001-05-30 -1.621941  1.014067 -0.058705 -0.264519"
      ]
     },
     "execution_count": 483,
     "metadata": {},
     "output_type": "execute_result"
    }
   ],
   "source": [
    "long_df.loc['5-2001']"
   ]
  },
  {
   "cell_type": "code",
   "execution_count": 484,
   "id": "4ac0da8d",
   "metadata": {},
   "outputs": [],
   "source": [
    "dates = pd.DatetimeIndex(['1/1/2000', '1/2/2000', '1/2/2000',\n",
    "                         '1/2/2000', '1/3/2000'])"
   ]
  },
  {
   "cell_type": "code",
   "execution_count": 485,
   "id": "4ed1b7b9",
   "metadata": {},
   "outputs": [
    {
     "data": {
      "text/plain": [
       "DatetimeIndex(['2000-01-01', '2000-01-02', '2000-01-02', '2000-01-02',\n",
       "               '2000-01-03'],\n",
       "              dtype='datetime64[ns]', freq=None)"
      ]
     },
     "execution_count": 485,
     "metadata": {},
     "output_type": "execute_result"
    }
   ],
   "source": [
    "dates"
   ]
  },
  {
   "cell_type": "code",
   "execution_count": 486,
   "id": "4a58ddda",
   "metadata": {},
   "outputs": [],
   "source": [
    "dup_ts = pd.Series(np.arange(5), index=dates)"
   ]
  },
  {
   "cell_type": "code",
   "execution_count": 487,
   "id": "91c1c09e",
   "metadata": {},
   "outputs": [
    {
     "data": {
      "text/plain": [
       "2000-01-01    0\n",
       "2000-01-02    1\n",
       "2000-01-02    2\n",
       "2000-01-02    3\n",
       "2000-01-03    4\n",
       "dtype: int32"
      ]
     },
     "execution_count": 487,
     "metadata": {},
     "output_type": "execute_result"
    }
   ],
   "source": [
    "dup_ts"
   ]
  },
  {
   "cell_type": "code",
   "execution_count": 488,
   "id": "5c87067d",
   "metadata": {},
   "outputs": [
    {
     "data": {
      "text/plain": [
       "DatetimeIndex(['2000-01-01', '2000-01-02', '2000-01-02', '2000-01-02',\n",
       "               '2000-01-03'],\n",
       "              dtype='datetime64[ns]', freq=None)"
      ]
     },
     "execution_count": 488,
     "metadata": {},
     "output_type": "execute_result"
    }
   ],
   "source": [
    "dup_ts.index"
   ]
  },
  {
   "cell_type": "code",
   "execution_count": 489,
   "id": "8a8392d4",
   "metadata": {},
   "outputs": [
    {
     "data": {
      "text/plain": [
       "False"
      ]
     },
     "execution_count": 489,
     "metadata": {},
     "output_type": "execute_result"
    }
   ],
   "source": [
    "dup_ts.index.is_unique"
   ]
  },
  {
   "cell_type": "code",
   "execution_count": 490,
   "id": "8131acf4",
   "metadata": {},
   "outputs": [
    {
     "data": {
      "text/plain": [
       "4"
      ]
     },
     "execution_count": 490,
     "metadata": {},
     "output_type": "execute_result"
    }
   ],
   "source": [
    "dup_ts['1/3/2000']"
   ]
  },
  {
   "cell_type": "code",
   "execution_count": 491,
   "id": "49443cb5",
   "metadata": {},
   "outputs": [
    {
     "data": {
      "text/plain": [
       "2000-01-02    1\n",
       "2000-01-02    2\n",
       "2000-01-02    3\n",
       "dtype: int32"
      ]
     },
     "execution_count": 491,
     "metadata": {},
     "output_type": "execute_result"
    }
   ],
   "source": [
    "dup_ts['1/2/2000'] # 月日年"
   ]
  },
  {
   "cell_type": "code",
   "execution_count": 492,
   "id": "4e55d850",
   "metadata": {},
   "outputs": [
    {
     "data": {
      "text/plain": [
       "2000-01-01    1\n",
       "2000-01-02    3\n",
       "2000-01-03    1\n",
       "dtype: int64"
      ]
     },
     "execution_count": 492,
     "metadata": {},
     "output_type": "execute_result"
    }
   ],
   "source": [
    "dup_ts.groupby(level=0).size()"
   ]
  },
  {
   "cell_type": "code",
   "execution_count": 493,
   "id": "24e3f573",
   "metadata": {},
   "outputs": [],
   "source": [
    "grouped = dup_ts.groupby(level=0)"
   ]
  },
  {
   "cell_type": "code",
   "execution_count": 494,
   "id": "0e76891a",
   "metadata": {},
   "outputs": [
    {
     "data": {
      "text/plain": [
       "2000-01-01    0.0\n",
       "2000-01-02    2.0\n",
       "2000-01-03    4.0\n",
       "dtype: float64"
      ]
     },
     "execution_count": 494,
     "metadata": {},
     "output_type": "execute_result"
    }
   ],
   "source": [
    "grouped.mean()"
   ]
  },
  {
   "cell_type": "code",
   "execution_count": 495,
   "id": "ffabb139",
   "metadata": {},
   "outputs": [
    {
     "data": {
      "text/plain": [
       "2000-01-01    1\n",
       "2000-01-02    3\n",
       "2000-01-03    1\n",
       "dtype: int64"
      ]
     },
     "execution_count": 495,
     "metadata": {},
     "output_type": "execute_result"
    }
   ],
   "source": [
    "grouped.count()"
   ]
  },
  {
   "cell_type": "code",
   "execution_count": 496,
   "id": "918df5a0",
   "metadata": {},
   "outputs": [
    {
     "data": {
      "text/plain": [
       "2001-01-02    0.026222\n",
       "2011-01-05   -0.298681\n",
       "2011-01-07   -0.742748\n",
       "2011-01-08    0.415004\n",
       "2011-01-09   -0.634284\n",
       "dtype: float64"
      ]
     },
     "execution_count": 496,
     "metadata": {},
     "output_type": "execute_result"
    }
   ],
   "source": [
    "ts"
   ]
  },
  {
   "cell_type": "code",
   "execution_count": 497,
   "id": "8380f897",
   "metadata": {},
   "outputs": [],
   "source": [
    "resampler = ts.resample('D')"
   ]
  },
  {
   "cell_type": "code",
   "execution_count": 498,
   "id": "a52a083e",
   "metadata": {},
   "outputs": [
    {
     "data": {
      "text/plain": [
       "<pandas.core.resample.DatetimeIndexResampler object at 0x000001BA66DA0E80>"
      ]
     },
     "execution_count": 498,
     "metadata": {},
     "output_type": "execute_result"
    }
   ],
   "source": [
    "resampler"
   ]
  },
  {
   "cell_type": "code",
   "execution_count": 499,
   "id": "141d8695",
   "metadata": {},
   "outputs": [
    {
     "name": "stdout",
     "output_type": "stream",
     "text": [
      "(Timestamp('2001-01-02 00:00:00', freq='D'), 2001-01-02    0.026222\n",
      "dtype: float64)\n",
      "(Timestamp('2001-01-03 00:00:00', freq='D'), Series([], dtype: float64))\n",
      "(Timestamp('2001-01-04 00:00:00', freq='D'), Series([], dtype: float64))\n",
      "(Timestamp('2001-01-05 00:00:00', freq='D'), Series([], dtype: float64))\n",
      "(Timestamp('2001-01-06 00:00:00', freq='D'), Series([], dtype: float64))\n",
      "(Timestamp('2001-01-07 00:00:00', freq='D'), Series([], dtype: float64))\n",
      "(Timestamp('2001-01-08 00:00:00', freq='D'), Series([], dtype: float64))\n",
      "(Timestamp('2001-01-09 00:00:00', freq='D'), Series([], dtype: float64))\n",
      "(Timestamp('2001-01-10 00:00:00', freq='D'), Series([], dtype: float64))\n",
      "(Timestamp('2001-01-11 00:00:00', freq='D'), Series([], dtype: float64))\n",
      "(Timestamp('2001-01-12 00:00:00', freq='D'), Series([], dtype: float64))\n",
      "(Timestamp('2001-01-13 00:00:00', freq='D'), Series([], dtype: float64))\n",
      "(Timestamp('2001-01-14 00:00:00', freq='D'), Series([], dtype: float64))\n",
      "(Timestamp('2001-01-15 00:00:00', freq='D'), Series([], dtype: float64))\n",
      "(Timestamp('2001-01-16 00:00:00', freq='D'), Series([], dtype: float64))\n",
      "(Timestamp('2001-01-17 00:00:00', freq='D'), Series([], dtype: float64))\n",
      "(Timestamp('2001-01-18 00:00:00', freq='D'), Series([], dtype: float64))\n",
      "(Timestamp('2001-01-19 00:00:00', freq='D'), Series([], dtype: float64))\n",
      "(Timestamp('2001-01-20 00:00:00', freq='D'), Series([], dtype: float64))\n",
      "(Timestamp('2001-01-21 00:00:00', freq='D'), Series([], dtype: float64))\n",
      "(Timestamp('2001-01-22 00:00:00', freq='D'), Series([], dtype: float64))\n",
      "(Timestamp('2001-01-23 00:00:00', freq='D'), Series([], dtype: float64))\n",
      "(Timestamp('2001-01-24 00:00:00', freq='D'), Series([], dtype: float64))\n",
      "(Timestamp('2001-01-25 00:00:00', freq='D'), Series([], dtype: float64))\n",
      "(Timestamp('2001-01-26 00:00:00', freq='D'), Series([], dtype: float64))\n",
      "(Timestamp('2001-01-27 00:00:00', freq='D'), Series([], dtype: float64))\n",
      "(Timestamp('2001-01-28 00:00:00', freq='D'), Series([], dtype: float64))\n",
      "(Timestamp('2001-01-29 00:00:00', freq='D'), Series([], dtype: float64))\n",
      "(Timestamp('2001-01-30 00:00:00', freq='D'), Series([], dtype: float64))\n",
      "(Timestamp('2001-01-31 00:00:00', freq='D'), Series([], dtype: float64))\n",
      "(Timestamp('2001-02-01 00:00:00', freq='D'), Series([], dtype: float64))\n",
      "(Timestamp('2001-02-02 00:00:00', freq='D'), Series([], dtype: float64))\n",
      "(Timestamp('2001-02-03 00:00:00', freq='D'), Series([], dtype: float64))\n",
      "(Timestamp('2001-02-04 00:00:00', freq='D'), Series([], dtype: float64))\n",
      "(Timestamp('2001-02-05 00:00:00', freq='D'), Series([], dtype: float64))\n",
      "(Timestamp('2001-02-06 00:00:00', freq='D'), Series([], dtype: float64))\n",
      "(Timestamp('2001-02-07 00:00:00', freq='D'), Series([], dtype: float64))\n",
      "(Timestamp('2001-02-08 00:00:00', freq='D'), Series([], dtype: float64))\n",
      "(Timestamp('2001-02-09 00:00:00', freq='D'), Series([], dtype: float64))\n",
      "(Timestamp('2001-02-10 00:00:00', freq='D'), Series([], dtype: float64))\n",
      "(Timestamp('2001-02-11 00:00:00', freq='D'), Series([], dtype: float64))\n",
      "(Timestamp('2001-02-12 00:00:00', freq='D'), Series([], dtype: float64))\n",
      "(Timestamp('2001-02-13 00:00:00', freq='D'), Series([], dtype: float64))\n",
      "(Timestamp('2001-02-14 00:00:00', freq='D'), Series([], dtype: float64))\n",
      "(Timestamp('2001-02-15 00:00:00', freq='D'), Series([], dtype: float64))\n",
      "(Timestamp('2001-02-16 00:00:00', freq='D'), Series([], dtype: float64))\n",
      "(Timestamp('2001-02-17 00:00:00', freq='D'), Series([], dtype: float64))\n",
      "(Timestamp('2001-02-18 00:00:00', freq='D'), Series([], dtype: float64))\n",
      "(Timestamp('2001-02-19 00:00:00', freq='D'), Series([], dtype: float64))\n",
      "(Timestamp('2001-02-20 00:00:00', freq='D'), Series([], dtype: float64))\n",
      "(Timestamp('2001-02-21 00:00:00', freq='D'), Series([], dtype: float64))\n",
      "(Timestamp('2001-02-22 00:00:00', freq='D'), Series([], dtype: float64))\n",
      "(Timestamp('2001-02-23 00:00:00', freq='D'), Series([], dtype: float64))\n",
      "(Timestamp('2001-02-24 00:00:00', freq='D'), Series([], dtype: float64))\n",
      "(Timestamp('2001-02-25 00:00:00', freq='D'), Series([], dtype: float64))\n",
      "(Timestamp('2001-02-26 00:00:00', freq='D'), Series([], dtype: float64))\n",
      "(Timestamp('2001-02-27 00:00:00', freq='D'), Series([], dtype: float64))\n",
      "(Timestamp('2001-02-28 00:00:00', freq='D'), Series([], dtype: float64))\n",
      "(Timestamp('2001-03-01 00:00:00', freq='D'), Series([], dtype: float64))\n",
      "(Timestamp('2001-03-02 00:00:00', freq='D'), Series([], dtype: float64))\n",
      "(Timestamp('2001-03-03 00:00:00', freq='D'), Series([], dtype: float64))\n",
      "(Timestamp('2001-03-04 00:00:00', freq='D'), Series([], dtype: float64))\n",
      "(Timestamp('2001-03-05 00:00:00', freq='D'), Series([], dtype: float64))\n",
      "(Timestamp('2001-03-06 00:00:00', freq='D'), Series([], dtype: float64))\n",
      "(Timestamp('2001-03-07 00:00:00', freq='D'), Series([], dtype: float64))\n",
      "(Timestamp('2001-03-08 00:00:00', freq='D'), Series([], dtype: float64))\n",
      "(Timestamp('2001-03-09 00:00:00', freq='D'), Series([], dtype: float64))\n",
      "(Timestamp('2001-03-10 00:00:00', freq='D'), Series([], dtype: float64))\n",
      "(Timestamp('2001-03-11 00:00:00', freq='D'), Series([], dtype: float64))\n",
      "(Timestamp('2001-03-12 00:00:00', freq='D'), Series([], dtype: float64))\n",
      "(Timestamp('2001-03-13 00:00:00', freq='D'), Series([], dtype: float64))\n",
      "(Timestamp('2001-03-14 00:00:00', freq='D'), Series([], dtype: float64))\n",
      "(Timestamp('2001-03-15 00:00:00', freq='D'), Series([], dtype: float64))\n",
      "(Timestamp('2001-03-16 00:00:00', freq='D'), Series([], dtype: float64))\n",
      "(Timestamp('2001-03-17 00:00:00', freq='D'), Series([], dtype: float64))\n",
      "(Timestamp('2001-03-18 00:00:00', freq='D'), Series([], dtype: float64))\n",
      "(Timestamp('2001-03-19 00:00:00', freq='D'), Series([], dtype: float64))\n",
      "(Timestamp('2001-03-20 00:00:00', freq='D'), Series([], dtype: float64))\n",
      "(Timestamp('2001-03-21 00:00:00', freq='D'), Series([], dtype: float64))\n",
      "(Timestamp('2001-03-22 00:00:00', freq='D'), Series([], dtype: float64))\n",
      "(Timestamp('2001-03-23 00:00:00', freq='D'), Series([], dtype: float64))\n",
      "(Timestamp('2001-03-24 00:00:00', freq='D'), Series([], dtype: float64))\n",
      "(Timestamp('2001-03-25 00:00:00', freq='D'), Series([], dtype: float64))\n",
      "(Timestamp('2001-03-26 00:00:00', freq='D'), Series([], dtype: float64))\n",
      "(Timestamp('2001-03-27 00:00:00', freq='D'), Series([], dtype: float64))\n",
      "(Timestamp('2001-03-28 00:00:00', freq='D'), Series([], dtype: float64))\n",
      "(Timestamp('2001-03-29 00:00:00', freq='D'), Series([], dtype: float64))\n",
      "(Timestamp('2001-03-30 00:00:00', freq='D'), Series([], dtype: float64))\n",
      "(Timestamp('2001-03-31 00:00:00', freq='D'), Series([], dtype: float64))\n",
      "(Timestamp('2001-04-01 00:00:00', freq='D'), Series([], dtype: float64))\n",
      "(Timestamp('2001-04-02 00:00:00', freq='D'), Series([], dtype: float64))\n",
      "(Timestamp('2001-04-03 00:00:00', freq='D'), Series([], dtype: float64))\n",
      "(Timestamp('2001-04-04 00:00:00', freq='D'), Series([], dtype: float64))\n",
      "(Timestamp('2001-04-05 00:00:00', freq='D'), Series([], dtype: float64))\n",
      "(Timestamp('2001-04-06 00:00:00', freq='D'), Series([], dtype: float64))\n",
      "(Timestamp('2001-04-07 00:00:00', freq='D'), Series([], dtype: float64))\n",
      "(Timestamp('2001-04-08 00:00:00', freq='D'), Series([], dtype: float64))\n",
      "(Timestamp('2001-04-09 00:00:00', freq='D'), Series([], dtype: float64))\n",
      "(Timestamp('2001-04-10 00:00:00', freq='D'), Series([], dtype: float64))\n",
      "(Timestamp('2001-04-11 00:00:00', freq='D'), Series([], dtype: float64))\n",
      "(Timestamp('2001-04-12 00:00:00', freq='D'), Series([], dtype: float64))\n",
      "(Timestamp('2001-04-13 00:00:00', freq='D'), Series([], dtype: float64))\n",
      "(Timestamp('2001-04-14 00:00:00', freq='D'), Series([], dtype: float64))\n",
      "(Timestamp('2001-04-15 00:00:00', freq='D'), Series([], dtype: float64))\n",
      "(Timestamp('2001-04-16 00:00:00', freq='D'), Series([], dtype: float64))\n",
      "(Timestamp('2001-04-17 00:00:00', freq='D'), Series([], dtype: float64))\n",
      "(Timestamp('2001-04-18 00:00:00', freq='D'), Series([], dtype: float64))\n",
      "(Timestamp('2001-04-19 00:00:00', freq='D'), Series([], dtype: float64))\n",
      "(Timestamp('2001-04-20 00:00:00', freq='D'), Series([], dtype: float64))\n",
      "(Timestamp('2001-04-21 00:00:00', freq='D'), Series([], dtype: float64))\n",
      "(Timestamp('2001-04-22 00:00:00', freq='D'), Series([], dtype: float64))\n",
      "(Timestamp('2001-04-23 00:00:00', freq='D'), Series([], dtype: float64))\n",
      "(Timestamp('2001-04-24 00:00:00', freq='D'), Series([], dtype: float64))\n",
      "(Timestamp('2001-04-25 00:00:00', freq='D'), Series([], dtype: float64))\n",
      "(Timestamp('2001-04-26 00:00:00', freq='D'), Series([], dtype: float64))\n",
      "(Timestamp('2001-04-27 00:00:00', freq='D'), Series([], dtype: float64))\n",
      "(Timestamp('2001-04-28 00:00:00', freq='D'), Series([], dtype: float64))\n",
      "(Timestamp('2001-04-29 00:00:00', freq='D'), Series([], dtype: float64))\n",
      "(Timestamp('2001-04-30 00:00:00', freq='D'), Series([], dtype: float64))\n",
      "(Timestamp('2001-05-01 00:00:00', freq='D'), Series([], dtype: float64))\n",
      "(Timestamp('2001-05-02 00:00:00', freq='D'), Series([], dtype: float64))\n",
      "(Timestamp('2001-05-03 00:00:00', freq='D'), Series([], dtype: float64))\n",
      "(Timestamp('2001-05-04 00:00:00', freq='D'), Series([], dtype: float64))\n",
      "(Timestamp('2001-05-05 00:00:00', freq='D'), Series([], dtype: float64))\n",
      "(Timestamp('2001-05-06 00:00:00', freq='D'), Series([], dtype: float64))\n",
      "(Timestamp('2001-05-07 00:00:00', freq='D'), Series([], dtype: float64))\n",
      "(Timestamp('2001-05-08 00:00:00', freq='D'), Series([], dtype: float64))\n",
      "(Timestamp('2001-05-09 00:00:00', freq='D'), Series([], dtype: float64))\n",
      "(Timestamp('2001-05-10 00:00:00', freq='D'), Series([], dtype: float64))\n",
      "(Timestamp('2001-05-11 00:00:00', freq='D'), Series([], dtype: float64))\n",
      "(Timestamp('2001-05-12 00:00:00', freq='D'), Series([], dtype: float64))\n",
      "(Timestamp('2001-05-13 00:00:00', freq='D'), Series([], dtype: float64))\n",
      "(Timestamp('2001-05-14 00:00:00', freq='D'), Series([], dtype: float64))\n",
      "(Timestamp('2001-05-15 00:00:00', freq='D'), Series([], dtype: float64))\n",
      "(Timestamp('2001-05-16 00:00:00', freq='D'), Series([], dtype: float64))\n",
      "(Timestamp('2001-05-17 00:00:00', freq='D'), Series([], dtype: float64))\n",
      "(Timestamp('2001-05-18 00:00:00', freq='D'), Series([], dtype: float64))\n",
      "(Timestamp('2001-05-19 00:00:00', freq='D'), Series([], dtype: float64))\n",
      "(Timestamp('2001-05-20 00:00:00', freq='D'), Series([], dtype: float64))\n",
      "(Timestamp('2001-05-21 00:00:00', freq='D'), Series([], dtype: float64))\n",
      "(Timestamp('2001-05-22 00:00:00', freq='D'), Series([], dtype: float64))\n",
      "(Timestamp('2001-05-23 00:00:00', freq='D'), Series([], dtype: float64))\n",
      "(Timestamp('2001-05-24 00:00:00', freq='D'), Series([], dtype: float64))\n",
      "(Timestamp('2001-05-25 00:00:00', freq='D'), Series([], dtype: float64))\n",
      "(Timestamp('2001-05-26 00:00:00', freq='D'), Series([], dtype: float64))\n",
      "(Timestamp('2001-05-27 00:00:00', freq='D'), Series([], dtype: float64))\n",
      "(Timestamp('2001-05-28 00:00:00', freq='D'), Series([], dtype: float64))\n",
      "(Timestamp('2001-05-29 00:00:00', freq='D'), Series([], dtype: float64))\n",
      "(Timestamp('2001-05-30 00:00:00', freq='D'), Series([], dtype: float64))\n",
      "(Timestamp('2001-05-31 00:00:00', freq='D'), Series([], dtype: float64))\n",
      "(Timestamp('2001-06-01 00:00:00', freq='D'), Series([], dtype: float64))\n",
      "(Timestamp('2001-06-02 00:00:00', freq='D'), Series([], dtype: float64))\n",
      "(Timestamp('2001-06-03 00:00:00', freq='D'), Series([], dtype: float64))\n",
      "(Timestamp('2001-06-04 00:00:00', freq='D'), Series([], dtype: float64))\n",
      "(Timestamp('2001-06-05 00:00:00', freq='D'), Series([], dtype: float64))\n",
      "(Timestamp('2001-06-06 00:00:00', freq='D'), Series([], dtype: float64))\n",
      "(Timestamp('2001-06-07 00:00:00', freq='D'), Series([], dtype: float64))\n",
      "(Timestamp('2001-06-08 00:00:00', freq='D'), Series([], dtype: float64))\n",
      "(Timestamp('2001-06-09 00:00:00', freq='D'), Series([], dtype: float64))\n",
      "(Timestamp('2001-06-10 00:00:00', freq='D'), Series([], dtype: float64))\n",
      "(Timestamp('2001-06-11 00:00:00', freq='D'), Series([], dtype: float64))\n",
      "(Timestamp('2001-06-12 00:00:00', freq='D'), Series([], dtype: float64))\n",
      "(Timestamp('2001-06-13 00:00:00', freq='D'), Series([], dtype: float64))\n",
      "(Timestamp('2001-06-14 00:00:00', freq='D'), Series([], dtype: float64))\n",
      "(Timestamp('2001-06-15 00:00:00', freq='D'), Series([], dtype: float64))\n",
      "(Timestamp('2001-06-16 00:00:00', freq='D'), Series([], dtype: float64))\n",
      "(Timestamp('2001-06-17 00:00:00', freq='D'), Series([], dtype: float64))\n",
      "(Timestamp('2001-06-18 00:00:00', freq='D'), Series([], dtype: float64))\n",
      "(Timestamp('2001-06-19 00:00:00', freq='D'), Series([], dtype: float64))\n",
      "(Timestamp('2001-06-20 00:00:00', freq='D'), Series([], dtype: float64))\n",
      "(Timestamp('2001-06-21 00:00:00', freq='D'), Series([], dtype: float64))\n",
      "(Timestamp('2001-06-22 00:00:00', freq='D'), Series([], dtype: float64))\n",
      "(Timestamp('2001-06-23 00:00:00', freq='D'), Series([], dtype: float64))\n",
      "(Timestamp('2001-06-24 00:00:00', freq='D'), Series([], dtype: float64))\n",
      "(Timestamp('2001-06-25 00:00:00', freq='D'), Series([], dtype: float64))\n",
      "(Timestamp('2001-06-26 00:00:00', freq='D'), Series([], dtype: float64))\n",
      "(Timestamp('2001-06-27 00:00:00', freq='D'), Series([], dtype: float64))\n",
      "(Timestamp('2001-06-28 00:00:00', freq='D'), Series([], dtype: float64))\n",
      "(Timestamp('2001-06-29 00:00:00', freq='D'), Series([], dtype: float64))\n",
      "(Timestamp('2001-06-30 00:00:00', freq='D'), Series([], dtype: float64))\n",
      "(Timestamp('2001-07-01 00:00:00', freq='D'), Series([], dtype: float64))\n",
      "(Timestamp('2001-07-02 00:00:00', freq='D'), Series([], dtype: float64))\n",
      "(Timestamp('2001-07-03 00:00:00', freq='D'), Series([], dtype: float64))\n",
      "(Timestamp('2001-07-04 00:00:00', freq='D'), Series([], dtype: float64))\n",
      "(Timestamp('2001-07-05 00:00:00', freq='D'), Series([], dtype: float64))\n",
      "(Timestamp('2001-07-06 00:00:00', freq='D'), Series([], dtype: float64))\n",
      "(Timestamp('2001-07-07 00:00:00', freq='D'), Series([], dtype: float64))\n",
      "(Timestamp('2001-07-08 00:00:00', freq='D'), Series([], dtype: float64))\n",
      "(Timestamp('2001-07-09 00:00:00', freq='D'), Series([], dtype: float64))\n",
      "(Timestamp('2001-07-10 00:00:00', freq='D'), Series([], dtype: float64))\n",
      "(Timestamp('2001-07-11 00:00:00', freq='D'), Series([], dtype: float64))\n",
      "(Timestamp('2001-07-12 00:00:00', freq='D'), Series([], dtype: float64))\n",
      "(Timestamp('2001-07-13 00:00:00', freq='D'), Series([], dtype: float64))\n",
      "(Timestamp('2001-07-14 00:00:00', freq='D'), Series([], dtype: float64))\n",
      "(Timestamp('2001-07-15 00:00:00', freq='D'), Series([], dtype: float64))\n",
      "(Timestamp('2001-07-16 00:00:00', freq='D'), Series([], dtype: float64))\n",
      "(Timestamp('2001-07-17 00:00:00', freq='D'), Series([], dtype: float64))\n",
      "(Timestamp('2001-07-18 00:00:00', freq='D'), Series([], dtype: float64))\n",
      "(Timestamp('2001-07-19 00:00:00', freq='D'), Series([], dtype: float64))\n",
      "(Timestamp('2001-07-20 00:00:00', freq='D'), Series([], dtype: float64))\n",
      "(Timestamp('2001-07-21 00:00:00', freq='D'), Series([], dtype: float64))\n",
      "(Timestamp('2001-07-22 00:00:00', freq='D'), Series([], dtype: float64))\n",
      "(Timestamp('2001-07-23 00:00:00', freq='D'), Series([], dtype: float64))\n",
      "(Timestamp('2001-07-24 00:00:00', freq='D'), Series([], dtype: float64))\n",
      "(Timestamp('2001-07-25 00:00:00', freq='D'), Series([], dtype: float64))\n",
      "(Timestamp('2001-07-26 00:00:00', freq='D'), Series([], dtype: float64))\n",
      "(Timestamp('2001-07-27 00:00:00', freq='D'), Series([], dtype: float64))\n",
      "(Timestamp('2001-07-28 00:00:00', freq='D'), Series([], dtype: float64))\n",
      "(Timestamp('2001-07-29 00:00:00', freq='D'), Series([], dtype: float64))\n",
      "(Timestamp('2001-07-30 00:00:00', freq='D'), Series([], dtype: float64))\n",
      "(Timestamp('2001-07-31 00:00:00', freq='D'), Series([], dtype: float64))\n",
      "(Timestamp('2001-08-01 00:00:00', freq='D'), Series([], dtype: float64))\n",
      "(Timestamp('2001-08-02 00:00:00', freq='D'), Series([], dtype: float64))\n",
      "(Timestamp('2001-08-03 00:00:00', freq='D'), Series([], dtype: float64))\n",
      "(Timestamp('2001-08-04 00:00:00', freq='D'), Series([], dtype: float64))\n",
      "(Timestamp('2001-08-05 00:00:00', freq='D'), Series([], dtype: float64))\n",
      "(Timestamp('2001-08-06 00:00:00', freq='D'), Series([], dtype: float64))\n",
      "(Timestamp('2001-08-07 00:00:00', freq='D'), Series([], dtype: float64))\n",
      "(Timestamp('2001-08-08 00:00:00', freq='D'), Series([], dtype: float64))\n",
      "(Timestamp('2001-08-09 00:00:00', freq='D'), Series([], dtype: float64))\n",
      "(Timestamp('2001-08-10 00:00:00', freq='D'), Series([], dtype: float64))\n",
      "(Timestamp('2001-08-11 00:00:00', freq='D'), Series([], dtype: float64))\n",
      "(Timestamp('2001-08-12 00:00:00', freq='D'), Series([], dtype: float64))\n",
      "(Timestamp('2001-08-13 00:00:00', freq='D'), Series([], dtype: float64))\n",
      "(Timestamp('2001-08-14 00:00:00', freq='D'), Series([], dtype: float64))\n",
      "(Timestamp('2001-08-15 00:00:00', freq='D'), Series([], dtype: float64))\n",
      "(Timestamp('2001-08-16 00:00:00', freq='D'), Series([], dtype: float64))\n",
      "(Timestamp('2001-08-17 00:00:00', freq='D'), Series([], dtype: float64))\n",
      "(Timestamp('2001-08-18 00:00:00', freq='D'), Series([], dtype: float64))\n",
      "(Timestamp('2001-08-19 00:00:00', freq='D'), Series([], dtype: float64))\n",
      "(Timestamp('2001-08-20 00:00:00', freq='D'), Series([], dtype: float64))\n",
      "(Timestamp('2001-08-21 00:00:00', freq='D'), Series([], dtype: float64))\n",
      "(Timestamp('2001-08-22 00:00:00', freq='D'), Series([], dtype: float64))\n",
      "(Timestamp('2001-08-23 00:00:00', freq='D'), Series([], dtype: float64))\n",
      "(Timestamp('2001-08-24 00:00:00', freq='D'), Series([], dtype: float64))\n",
      "(Timestamp('2001-08-25 00:00:00', freq='D'), Series([], dtype: float64))\n",
      "(Timestamp('2001-08-26 00:00:00', freq='D'), Series([], dtype: float64))\n",
      "(Timestamp('2001-08-27 00:00:00', freq='D'), Series([], dtype: float64))\n",
      "(Timestamp('2001-08-28 00:00:00', freq='D'), Series([], dtype: float64))\n",
      "(Timestamp('2001-08-29 00:00:00', freq='D'), Series([], dtype: float64))\n",
      "(Timestamp('2001-08-30 00:00:00', freq='D'), Series([], dtype: float64))\n",
      "(Timestamp('2001-08-31 00:00:00', freq='D'), Series([], dtype: float64))\n",
      "(Timestamp('2001-09-01 00:00:00', freq='D'), Series([], dtype: float64))\n",
      "(Timestamp('2001-09-02 00:00:00', freq='D'), Series([], dtype: float64))\n",
      "(Timestamp('2001-09-03 00:00:00', freq='D'), Series([], dtype: float64))\n",
      "(Timestamp('2001-09-04 00:00:00', freq='D'), Series([], dtype: float64))\n",
      "(Timestamp('2001-09-05 00:00:00', freq='D'), Series([], dtype: float64))\n",
      "(Timestamp('2001-09-06 00:00:00', freq='D'), Series([], dtype: float64))\n",
      "(Timestamp('2001-09-07 00:00:00', freq='D'), Series([], dtype: float64))\n",
      "(Timestamp('2001-09-08 00:00:00', freq='D'), Series([], dtype: float64))\n",
      "(Timestamp('2001-09-09 00:00:00', freq='D'), Series([], dtype: float64))\n",
      "(Timestamp('2001-09-10 00:00:00', freq='D'), Series([], dtype: float64))\n",
      "(Timestamp('2001-09-11 00:00:00', freq='D'), Series([], dtype: float64))\n",
      "(Timestamp('2001-09-12 00:00:00', freq='D'), Series([], dtype: float64))\n",
      "(Timestamp('2001-09-13 00:00:00', freq='D'), Series([], dtype: float64))\n",
      "(Timestamp('2001-09-14 00:00:00', freq='D'), Series([], dtype: float64))\n",
      "(Timestamp('2001-09-15 00:00:00', freq='D'), Series([], dtype: float64))\n",
      "(Timestamp('2001-09-16 00:00:00', freq='D'), Series([], dtype: float64))\n",
      "(Timestamp('2001-09-17 00:00:00', freq='D'), Series([], dtype: float64))\n",
      "(Timestamp('2001-09-18 00:00:00', freq='D'), Series([], dtype: float64))\n",
      "(Timestamp('2001-09-19 00:00:00', freq='D'), Series([], dtype: float64))\n",
      "(Timestamp('2001-09-20 00:00:00', freq='D'), Series([], dtype: float64))\n",
      "(Timestamp('2001-09-21 00:00:00', freq='D'), Series([], dtype: float64))\n",
      "(Timestamp('2001-09-22 00:00:00', freq='D'), Series([], dtype: float64))\n",
      "(Timestamp('2001-09-23 00:00:00', freq='D'), Series([], dtype: float64))\n",
      "(Timestamp('2001-09-24 00:00:00', freq='D'), Series([], dtype: float64))\n",
      "(Timestamp('2001-09-25 00:00:00', freq='D'), Series([], dtype: float64))\n",
      "(Timestamp('2001-09-26 00:00:00', freq='D'), Series([], dtype: float64))\n",
      "(Timestamp('2001-09-27 00:00:00', freq='D'), Series([], dtype: float64))\n",
      "(Timestamp('2001-09-28 00:00:00', freq='D'), Series([], dtype: float64))\n",
      "(Timestamp('2001-09-29 00:00:00', freq='D'), Series([], dtype: float64))\n",
      "(Timestamp('2001-09-30 00:00:00', freq='D'), Series([], dtype: float64))\n",
      "(Timestamp('2001-10-01 00:00:00', freq='D'), Series([], dtype: float64))\n",
      "(Timestamp('2001-10-02 00:00:00', freq='D'), Series([], dtype: float64))\n",
      "(Timestamp('2001-10-03 00:00:00', freq='D'), Series([], dtype: float64))\n",
      "(Timestamp('2001-10-04 00:00:00', freq='D'), Series([], dtype: float64))\n",
      "(Timestamp('2001-10-05 00:00:00', freq='D'), Series([], dtype: float64))\n",
      "(Timestamp('2001-10-06 00:00:00', freq='D'), Series([], dtype: float64))\n",
      "(Timestamp('2001-10-07 00:00:00', freq='D'), Series([], dtype: float64))\n",
      "(Timestamp('2001-10-08 00:00:00', freq='D'), Series([], dtype: float64))\n",
      "(Timestamp('2001-10-09 00:00:00', freq='D'), Series([], dtype: float64))\n",
      "(Timestamp('2001-10-10 00:00:00', freq='D'), Series([], dtype: float64))\n",
      "(Timestamp('2001-10-11 00:00:00', freq='D'), Series([], dtype: float64))\n",
      "(Timestamp('2001-10-12 00:00:00', freq='D'), Series([], dtype: float64))\n",
      "(Timestamp('2001-10-13 00:00:00', freq='D'), Series([], dtype: float64))\n",
      "(Timestamp('2001-10-14 00:00:00', freq='D'), Series([], dtype: float64))\n",
      "(Timestamp('2001-10-15 00:00:00', freq='D'), Series([], dtype: float64))\n",
      "(Timestamp('2001-10-16 00:00:00', freq='D'), Series([], dtype: float64))\n",
      "(Timestamp('2001-10-17 00:00:00', freq='D'), Series([], dtype: float64))\n",
      "(Timestamp('2001-10-18 00:00:00', freq='D'), Series([], dtype: float64))\n",
      "(Timestamp('2001-10-19 00:00:00', freq='D'), Series([], dtype: float64))\n",
      "(Timestamp('2001-10-20 00:00:00', freq='D'), Series([], dtype: float64))\n",
      "(Timestamp('2001-10-21 00:00:00', freq='D'), Series([], dtype: float64))\n",
      "(Timestamp('2001-10-22 00:00:00', freq='D'), Series([], dtype: float64))\n",
      "(Timestamp('2001-10-23 00:00:00', freq='D'), Series([], dtype: float64))\n",
      "(Timestamp('2001-10-24 00:00:00', freq='D'), Series([], dtype: float64))\n",
      "(Timestamp('2001-10-25 00:00:00', freq='D'), Series([], dtype: float64))\n",
      "(Timestamp('2001-10-26 00:00:00', freq='D'), Series([], dtype: float64))\n",
      "(Timestamp('2001-10-27 00:00:00', freq='D'), Series([], dtype: float64))\n",
      "(Timestamp('2001-10-28 00:00:00', freq='D'), Series([], dtype: float64))\n",
      "(Timestamp('2001-10-29 00:00:00', freq='D'), Series([], dtype: float64))\n",
      "(Timestamp('2001-10-30 00:00:00', freq='D'), Series([], dtype: float64))\n",
      "(Timestamp('2001-10-31 00:00:00', freq='D'), Series([], dtype: float64))\n",
      "(Timestamp('2001-11-01 00:00:00', freq='D'), Series([], dtype: float64))\n",
      "(Timestamp('2001-11-02 00:00:00', freq='D'), Series([], dtype: float64))\n",
      "(Timestamp('2001-11-03 00:00:00', freq='D'), Series([], dtype: float64))\n",
      "(Timestamp('2001-11-04 00:00:00', freq='D'), Series([], dtype: float64))\n",
      "(Timestamp('2001-11-05 00:00:00', freq='D'), Series([], dtype: float64))\n",
      "(Timestamp('2001-11-06 00:00:00', freq='D'), Series([], dtype: float64))\n",
      "(Timestamp('2001-11-07 00:00:00', freq='D'), Series([], dtype: float64))\n",
      "(Timestamp('2001-11-08 00:00:00', freq='D'), Series([], dtype: float64))\n",
      "(Timestamp('2001-11-09 00:00:00', freq='D'), Series([], dtype: float64))\n",
      "(Timestamp('2001-11-10 00:00:00', freq='D'), Series([], dtype: float64))\n",
      "(Timestamp('2001-11-11 00:00:00', freq='D'), Series([], dtype: float64))\n",
      "(Timestamp('2001-11-12 00:00:00', freq='D'), Series([], dtype: float64))\n",
      "(Timestamp('2001-11-13 00:00:00', freq='D'), Series([], dtype: float64))\n",
      "(Timestamp('2001-11-14 00:00:00', freq='D'), Series([], dtype: float64))\n",
      "(Timestamp('2001-11-15 00:00:00', freq='D'), Series([], dtype: float64))\n",
      "(Timestamp('2001-11-16 00:00:00', freq='D'), Series([], dtype: float64))\n",
      "(Timestamp('2001-11-17 00:00:00', freq='D'), Series([], dtype: float64))\n",
      "(Timestamp('2001-11-18 00:00:00', freq='D'), Series([], dtype: float64))\n",
      "(Timestamp('2001-11-19 00:00:00', freq='D'), Series([], dtype: float64))\n",
      "(Timestamp('2001-11-20 00:00:00', freq='D'), Series([], dtype: float64))\n",
      "(Timestamp('2001-11-21 00:00:00', freq='D'), Series([], dtype: float64))\n",
      "(Timestamp('2001-11-22 00:00:00', freq='D'), Series([], dtype: float64))\n",
      "(Timestamp('2001-11-23 00:00:00', freq='D'), Series([], dtype: float64))\n",
      "(Timestamp('2001-11-24 00:00:00', freq='D'), Series([], dtype: float64))\n",
      "(Timestamp('2001-11-25 00:00:00', freq='D'), Series([], dtype: float64))\n",
      "(Timestamp('2001-11-26 00:00:00', freq='D'), Series([], dtype: float64))\n",
      "(Timestamp('2001-11-27 00:00:00', freq='D'), Series([], dtype: float64))\n",
      "(Timestamp('2001-11-28 00:00:00', freq='D'), Series([], dtype: float64))\n",
      "(Timestamp('2001-11-29 00:00:00', freq='D'), Series([], dtype: float64))\n",
      "(Timestamp('2001-11-30 00:00:00', freq='D'), Series([], dtype: float64))\n",
      "(Timestamp('2001-12-01 00:00:00', freq='D'), Series([], dtype: float64))\n",
      "(Timestamp('2001-12-02 00:00:00', freq='D'), Series([], dtype: float64))\n",
      "(Timestamp('2001-12-03 00:00:00', freq='D'), Series([], dtype: float64))\n",
      "(Timestamp('2001-12-04 00:00:00', freq='D'), Series([], dtype: float64))\n",
      "(Timestamp('2001-12-05 00:00:00', freq='D'), Series([], dtype: float64))\n",
      "(Timestamp('2001-12-06 00:00:00', freq='D'), Series([], dtype: float64))\n",
      "(Timestamp('2001-12-07 00:00:00', freq='D'), Series([], dtype: float64))\n",
      "(Timestamp('2001-12-08 00:00:00', freq='D'), Series([], dtype: float64))\n",
      "(Timestamp('2001-12-09 00:00:00', freq='D'), Series([], dtype: float64))\n",
      "(Timestamp('2001-12-10 00:00:00', freq='D'), Series([], dtype: float64))\n",
      "(Timestamp('2001-12-11 00:00:00', freq='D'), Series([], dtype: float64))\n",
      "(Timestamp('2001-12-12 00:00:00', freq='D'), Series([], dtype: float64))\n",
      "(Timestamp('2001-12-13 00:00:00', freq='D'), Series([], dtype: float64))\n",
      "(Timestamp('2001-12-14 00:00:00', freq='D'), Series([], dtype: float64))\n",
      "(Timestamp('2001-12-15 00:00:00', freq='D'), Series([], dtype: float64))\n",
      "(Timestamp('2001-12-16 00:00:00', freq='D'), Series([], dtype: float64))\n",
      "(Timestamp('2001-12-17 00:00:00', freq='D'), Series([], dtype: float64))\n",
      "(Timestamp('2001-12-18 00:00:00', freq='D'), Series([], dtype: float64))\n",
      "(Timestamp('2001-12-19 00:00:00', freq='D'), Series([], dtype: float64))\n",
      "(Timestamp('2001-12-20 00:00:00', freq='D'), Series([], dtype: float64))\n",
      "(Timestamp('2001-12-21 00:00:00', freq='D'), Series([], dtype: float64))\n",
      "(Timestamp('2001-12-22 00:00:00', freq='D'), Series([], dtype: float64))\n",
      "(Timestamp('2001-12-23 00:00:00', freq='D'), Series([], dtype: float64))\n",
      "(Timestamp('2001-12-24 00:00:00', freq='D'), Series([], dtype: float64))\n",
      "(Timestamp('2001-12-25 00:00:00', freq='D'), Series([], dtype: float64))\n",
      "(Timestamp('2001-12-26 00:00:00', freq='D'), Series([], dtype: float64))\n",
      "(Timestamp('2001-12-27 00:00:00', freq='D'), Series([], dtype: float64))\n",
      "(Timestamp('2001-12-28 00:00:00', freq='D'), Series([], dtype: float64))\n",
      "(Timestamp('2001-12-29 00:00:00', freq='D'), Series([], dtype: float64))\n",
      "(Timestamp('2001-12-30 00:00:00', freq='D'), Series([], dtype: float64))\n",
      "(Timestamp('2001-12-31 00:00:00', freq='D'), Series([], dtype: float64))\n",
      "(Timestamp('2002-01-01 00:00:00', freq='D'), Series([], dtype: float64))\n",
      "(Timestamp('2002-01-02 00:00:00', freq='D'), Series([], dtype: float64))\n",
      "(Timestamp('2002-01-03 00:00:00', freq='D'), Series([], dtype: float64))\n",
      "(Timestamp('2002-01-04 00:00:00', freq='D'), Series([], dtype: float64))\n",
      "(Timestamp('2002-01-05 00:00:00', freq='D'), Series([], dtype: float64))\n",
      "(Timestamp('2002-01-06 00:00:00', freq='D'), Series([], dtype: float64))\n",
      "(Timestamp('2002-01-07 00:00:00', freq='D'), Series([], dtype: float64))\n",
      "(Timestamp('2002-01-08 00:00:00', freq='D'), Series([], dtype: float64))\n",
      "(Timestamp('2002-01-09 00:00:00', freq='D'), Series([], dtype: float64))\n",
      "(Timestamp('2002-01-10 00:00:00', freq='D'), Series([], dtype: float64))\n",
      "(Timestamp('2002-01-11 00:00:00', freq='D'), Series([], dtype: float64))\n",
      "(Timestamp('2002-01-12 00:00:00', freq='D'), Series([], dtype: float64))\n",
      "(Timestamp('2002-01-13 00:00:00', freq='D'), Series([], dtype: float64))\n",
      "(Timestamp('2002-01-14 00:00:00', freq='D'), Series([], dtype: float64))\n",
      "(Timestamp('2002-01-15 00:00:00', freq='D'), Series([], dtype: float64))\n",
      "(Timestamp('2002-01-16 00:00:00', freq='D'), Series([], dtype: float64))\n",
      "(Timestamp('2002-01-17 00:00:00', freq='D'), Series([], dtype: float64))\n",
      "(Timestamp('2002-01-18 00:00:00', freq='D'), Series([], dtype: float64))\n",
      "(Timestamp('2002-01-19 00:00:00', freq='D'), Series([], dtype: float64))\n",
      "(Timestamp('2002-01-20 00:00:00', freq='D'), Series([], dtype: float64))\n",
      "(Timestamp('2002-01-21 00:00:00', freq='D'), Series([], dtype: float64))\n",
      "(Timestamp('2002-01-22 00:00:00', freq='D'), Series([], dtype: float64))\n",
      "(Timestamp('2002-01-23 00:00:00', freq='D'), Series([], dtype: float64))\n",
      "(Timestamp('2002-01-24 00:00:00', freq='D'), Series([], dtype: float64))\n",
      "(Timestamp('2002-01-25 00:00:00', freq='D'), Series([], dtype: float64))\n",
      "(Timestamp('2002-01-26 00:00:00', freq='D'), Series([], dtype: float64))\n",
      "(Timestamp('2002-01-27 00:00:00', freq='D'), Series([], dtype: float64))\n",
      "(Timestamp('2002-01-28 00:00:00', freq='D'), Series([], dtype: float64))\n",
      "(Timestamp('2002-01-29 00:00:00', freq='D'), Series([], dtype: float64))\n",
      "(Timestamp('2002-01-30 00:00:00', freq='D'), Series([], dtype: float64))\n",
      "(Timestamp('2002-01-31 00:00:00', freq='D'), Series([], dtype: float64))\n",
      "(Timestamp('2002-02-01 00:00:00', freq='D'), Series([], dtype: float64))\n",
      "(Timestamp('2002-02-02 00:00:00', freq='D'), Series([], dtype: float64))\n",
      "(Timestamp('2002-02-03 00:00:00', freq='D'), Series([], dtype: float64))\n",
      "(Timestamp('2002-02-04 00:00:00', freq='D'), Series([], dtype: float64))\n",
      "(Timestamp('2002-02-05 00:00:00', freq='D'), Series([], dtype: float64))\n",
      "(Timestamp('2002-02-06 00:00:00', freq='D'), Series([], dtype: float64))\n",
      "(Timestamp('2002-02-07 00:00:00', freq='D'), Series([], dtype: float64))\n",
      "(Timestamp('2002-02-08 00:00:00', freq='D'), Series([], dtype: float64))\n",
      "(Timestamp('2002-02-09 00:00:00', freq='D'), Series([], dtype: float64))\n",
      "(Timestamp('2002-02-10 00:00:00', freq='D'), Series([], dtype: float64))\n",
      "(Timestamp('2002-02-11 00:00:00', freq='D'), Series([], dtype: float64))\n",
      "(Timestamp('2002-02-12 00:00:00', freq='D'), Series([], dtype: float64))\n",
      "(Timestamp('2002-02-13 00:00:00', freq='D'), Series([], dtype: float64))\n",
      "(Timestamp('2002-02-14 00:00:00', freq='D'), Series([], dtype: float64))\n",
      "(Timestamp('2002-02-15 00:00:00', freq='D'), Series([], dtype: float64))\n",
      "(Timestamp('2002-02-16 00:00:00', freq='D'), Series([], dtype: float64))\n",
      "(Timestamp('2002-02-17 00:00:00', freq='D'), Series([], dtype: float64))\n",
      "(Timestamp('2002-02-18 00:00:00', freq='D'), Series([], dtype: float64))\n",
      "(Timestamp('2002-02-19 00:00:00', freq='D'), Series([], dtype: float64))\n",
      "(Timestamp('2002-02-20 00:00:00', freq='D'), Series([], dtype: float64))\n",
      "(Timestamp('2002-02-21 00:00:00', freq='D'), Series([], dtype: float64))\n",
      "(Timestamp('2002-02-22 00:00:00', freq='D'), Series([], dtype: float64))\n",
      "(Timestamp('2002-02-23 00:00:00', freq='D'), Series([], dtype: float64))\n",
      "(Timestamp('2002-02-24 00:00:00', freq='D'), Series([], dtype: float64))\n",
      "(Timestamp('2002-02-25 00:00:00', freq='D'), Series([], dtype: float64))\n",
      "(Timestamp('2002-02-26 00:00:00', freq='D'), Series([], dtype: float64))\n",
      "(Timestamp('2002-02-27 00:00:00', freq='D'), Series([], dtype: float64))\n",
      "(Timestamp('2002-02-28 00:00:00', freq='D'), Series([], dtype: float64))\n",
      "(Timestamp('2002-03-01 00:00:00', freq='D'), Series([], dtype: float64))\n",
      "(Timestamp('2002-03-02 00:00:00', freq='D'), Series([], dtype: float64))\n",
      "(Timestamp('2002-03-03 00:00:00', freq='D'), Series([], dtype: float64))\n",
      "(Timestamp('2002-03-04 00:00:00', freq='D'), Series([], dtype: float64))\n",
      "(Timestamp('2002-03-05 00:00:00', freq='D'), Series([], dtype: float64))\n",
      "(Timestamp('2002-03-06 00:00:00', freq='D'), Series([], dtype: float64))\n",
      "(Timestamp('2002-03-07 00:00:00', freq='D'), Series([], dtype: float64))\n",
      "(Timestamp('2002-03-08 00:00:00', freq='D'), Series([], dtype: float64))\n",
      "(Timestamp('2002-03-09 00:00:00', freq='D'), Series([], dtype: float64))\n",
      "(Timestamp('2002-03-10 00:00:00', freq='D'), Series([], dtype: float64))\n",
      "(Timestamp('2002-03-11 00:00:00', freq='D'), Series([], dtype: float64))\n",
      "(Timestamp('2002-03-12 00:00:00', freq='D'), Series([], dtype: float64))\n",
      "(Timestamp('2002-03-13 00:00:00', freq='D'), Series([], dtype: float64))\n",
      "(Timestamp('2002-03-14 00:00:00', freq='D'), Series([], dtype: float64))\n",
      "(Timestamp('2002-03-15 00:00:00', freq='D'), Series([], dtype: float64))\n",
      "(Timestamp('2002-03-16 00:00:00', freq='D'), Series([], dtype: float64))\n",
      "(Timestamp('2002-03-17 00:00:00', freq='D'), Series([], dtype: float64))\n",
      "(Timestamp('2002-03-18 00:00:00', freq='D'), Series([], dtype: float64))\n",
      "(Timestamp('2002-03-19 00:00:00', freq='D'), Series([], dtype: float64))\n",
      "(Timestamp('2002-03-20 00:00:00', freq='D'), Series([], dtype: float64))\n",
      "(Timestamp('2002-03-21 00:00:00', freq='D'), Series([], dtype: float64))\n",
      "(Timestamp('2002-03-22 00:00:00', freq='D'), Series([], dtype: float64))\n",
      "(Timestamp('2002-03-23 00:00:00', freq='D'), Series([], dtype: float64))\n",
      "(Timestamp('2002-03-24 00:00:00', freq='D'), Series([], dtype: float64))\n",
      "(Timestamp('2002-03-25 00:00:00', freq='D'), Series([], dtype: float64))\n",
      "(Timestamp('2002-03-26 00:00:00', freq='D'), Series([], dtype: float64))\n",
      "(Timestamp('2002-03-27 00:00:00', freq='D'), Series([], dtype: float64))\n",
      "(Timestamp('2002-03-28 00:00:00', freq='D'), Series([], dtype: float64))\n",
      "(Timestamp('2002-03-29 00:00:00', freq='D'), Series([], dtype: float64))\n",
      "(Timestamp('2002-03-30 00:00:00', freq='D'), Series([], dtype: float64))\n",
      "(Timestamp('2002-03-31 00:00:00', freq='D'), Series([], dtype: float64))\n",
      "(Timestamp('2002-04-01 00:00:00', freq='D'), Series([], dtype: float64))\n",
      "(Timestamp('2002-04-02 00:00:00', freq='D'), Series([], dtype: float64))\n",
      "(Timestamp('2002-04-03 00:00:00', freq='D'), Series([], dtype: float64))\n",
      "(Timestamp('2002-04-04 00:00:00', freq='D'), Series([], dtype: float64))\n",
      "(Timestamp('2002-04-05 00:00:00', freq='D'), Series([], dtype: float64))\n",
      "(Timestamp('2002-04-06 00:00:00', freq='D'), Series([], dtype: float64))\n",
      "(Timestamp('2002-04-07 00:00:00', freq='D'), Series([], dtype: float64))\n",
      "(Timestamp('2002-04-08 00:00:00', freq='D'), Series([], dtype: float64))\n",
      "(Timestamp('2002-04-09 00:00:00', freq='D'), Series([], dtype: float64))\n",
      "(Timestamp('2002-04-10 00:00:00', freq='D'), Series([], dtype: float64))\n",
      "(Timestamp('2002-04-11 00:00:00', freq='D'), Series([], dtype: float64))\n",
      "(Timestamp('2002-04-12 00:00:00', freq='D'), Series([], dtype: float64))\n",
      "(Timestamp('2002-04-13 00:00:00', freq='D'), Series([], dtype: float64))\n",
      "(Timestamp('2002-04-14 00:00:00', freq='D'), Series([], dtype: float64))\n",
      "(Timestamp('2002-04-15 00:00:00', freq='D'), Series([], dtype: float64))\n",
      "(Timestamp('2002-04-16 00:00:00', freq='D'), Series([], dtype: float64))\n",
      "(Timestamp('2002-04-17 00:00:00', freq='D'), Series([], dtype: float64))\n",
      "(Timestamp('2002-04-18 00:00:00', freq='D'), Series([], dtype: float64))\n",
      "(Timestamp('2002-04-19 00:00:00', freq='D'), Series([], dtype: float64))\n",
      "(Timestamp('2002-04-20 00:00:00', freq='D'), Series([], dtype: float64))\n",
      "(Timestamp('2002-04-21 00:00:00', freq='D'), Series([], dtype: float64))\n",
      "(Timestamp('2002-04-22 00:00:00', freq='D'), Series([], dtype: float64))\n",
      "(Timestamp('2002-04-23 00:00:00', freq='D'), Series([], dtype: float64))\n",
      "(Timestamp('2002-04-24 00:00:00', freq='D'), Series([], dtype: float64))\n",
      "(Timestamp('2002-04-25 00:00:00', freq='D'), Series([], dtype: float64))\n",
      "(Timestamp('2002-04-26 00:00:00', freq='D'), Series([], dtype: float64))\n",
      "(Timestamp('2002-04-27 00:00:00', freq='D'), Series([], dtype: float64))\n",
      "(Timestamp('2002-04-28 00:00:00', freq='D'), Series([], dtype: float64))\n",
      "(Timestamp('2002-04-29 00:00:00', freq='D'), Series([], dtype: float64))\n",
      "(Timestamp('2002-04-30 00:00:00', freq='D'), Series([], dtype: float64))\n",
      "(Timestamp('2002-05-01 00:00:00', freq='D'), Series([], dtype: float64))\n",
      "(Timestamp('2002-05-02 00:00:00', freq='D'), Series([], dtype: float64))\n",
      "(Timestamp('2002-05-03 00:00:00', freq='D'), Series([], dtype: float64))\n",
      "(Timestamp('2002-05-04 00:00:00', freq='D'), Series([], dtype: float64))\n",
      "(Timestamp('2002-05-05 00:00:00', freq='D'), Series([], dtype: float64))\n",
      "(Timestamp('2002-05-06 00:00:00', freq='D'), Series([], dtype: float64))\n",
      "(Timestamp('2002-05-07 00:00:00', freq='D'), Series([], dtype: float64))\n",
      "(Timestamp('2002-05-08 00:00:00', freq='D'), Series([], dtype: float64))\n",
      "(Timestamp('2002-05-09 00:00:00', freq='D'), Series([], dtype: float64))\n",
      "(Timestamp('2002-05-10 00:00:00', freq='D'), Series([], dtype: float64))\n",
      "(Timestamp('2002-05-11 00:00:00', freq='D'), Series([], dtype: float64))\n",
      "(Timestamp('2002-05-12 00:00:00', freq='D'), Series([], dtype: float64))\n",
      "(Timestamp('2002-05-13 00:00:00', freq='D'), Series([], dtype: float64))\n",
      "(Timestamp('2002-05-14 00:00:00', freq='D'), Series([], dtype: float64))\n",
      "(Timestamp('2002-05-15 00:00:00', freq='D'), Series([], dtype: float64))\n",
      "(Timestamp('2002-05-16 00:00:00', freq='D'), Series([], dtype: float64))\n",
      "(Timestamp('2002-05-17 00:00:00', freq='D'), Series([], dtype: float64))\n",
      "(Timestamp('2002-05-18 00:00:00', freq='D'), Series([], dtype: float64))\n",
      "(Timestamp('2002-05-19 00:00:00', freq='D'), Series([], dtype: float64))\n",
      "(Timestamp('2002-05-20 00:00:00', freq='D'), Series([], dtype: float64))\n",
      "(Timestamp('2002-05-21 00:00:00', freq='D'), Series([], dtype: float64))\n",
      "(Timestamp('2002-05-22 00:00:00', freq='D'), Series([], dtype: float64))\n",
      "(Timestamp('2002-05-23 00:00:00', freq='D'), Series([], dtype: float64))\n",
      "(Timestamp('2002-05-24 00:00:00', freq='D'), Series([], dtype: float64))\n",
      "(Timestamp('2002-05-25 00:00:00', freq='D'), Series([], dtype: float64))\n",
      "(Timestamp('2002-05-26 00:00:00', freq='D'), Series([], dtype: float64))\n",
      "(Timestamp('2002-05-27 00:00:00', freq='D'), Series([], dtype: float64))\n",
      "(Timestamp('2002-05-28 00:00:00', freq='D'), Series([], dtype: float64))\n",
      "(Timestamp('2002-05-29 00:00:00', freq='D'), Series([], dtype: float64))\n",
      "(Timestamp('2002-05-30 00:00:00', freq='D'), Series([], dtype: float64))\n",
      "(Timestamp('2002-05-31 00:00:00', freq='D'), Series([], dtype: float64))\n",
      "(Timestamp('2002-06-01 00:00:00', freq='D'), Series([], dtype: float64))\n",
      "(Timestamp('2002-06-02 00:00:00', freq='D'), Series([], dtype: float64))\n",
      "(Timestamp('2002-06-03 00:00:00', freq='D'), Series([], dtype: float64))\n",
      "(Timestamp('2002-06-04 00:00:00', freq='D'), Series([], dtype: float64))\n",
      "(Timestamp('2002-06-05 00:00:00', freq='D'), Series([], dtype: float64))\n",
      "(Timestamp('2002-06-06 00:00:00', freq='D'), Series([], dtype: float64))\n",
      "(Timestamp('2002-06-07 00:00:00', freq='D'), Series([], dtype: float64))\n",
      "(Timestamp('2002-06-08 00:00:00', freq='D'), Series([], dtype: float64))\n",
      "(Timestamp('2002-06-09 00:00:00', freq='D'), Series([], dtype: float64))\n",
      "(Timestamp('2002-06-10 00:00:00', freq='D'), Series([], dtype: float64))\n",
      "(Timestamp('2002-06-11 00:00:00', freq='D'), Series([], dtype: float64))\n",
      "(Timestamp('2002-06-12 00:00:00', freq='D'), Series([], dtype: float64))\n",
      "(Timestamp('2002-06-13 00:00:00', freq='D'), Series([], dtype: float64))\n",
      "(Timestamp('2002-06-14 00:00:00', freq='D'), Series([], dtype: float64))\n",
      "(Timestamp('2002-06-15 00:00:00', freq='D'), Series([], dtype: float64))\n",
      "(Timestamp('2002-06-16 00:00:00', freq='D'), Series([], dtype: float64))\n",
      "(Timestamp('2002-06-17 00:00:00', freq='D'), Series([], dtype: float64))\n",
      "(Timestamp('2002-06-18 00:00:00', freq='D'), Series([], dtype: float64))\n",
      "(Timestamp('2002-06-19 00:00:00', freq='D'), Series([], dtype: float64))\n",
      "(Timestamp('2002-06-20 00:00:00', freq='D'), Series([], dtype: float64))\n",
      "(Timestamp('2002-06-21 00:00:00', freq='D'), Series([], dtype: float64))\n",
      "(Timestamp('2002-06-22 00:00:00', freq='D'), Series([], dtype: float64))\n",
      "(Timestamp('2002-06-23 00:00:00', freq='D'), Series([], dtype: float64))\n",
      "(Timestamp('2002-06-24 00:00:00', freq='D'), Series([], dtype: float64))\n",
      "(Timestamp('2002-06-25 00:00:00', freq='D'), Series([], dtype: float64))\n",
      "(Timestamp('2002-06-26 00:00:00', freq='D'), Series([], dtype: float64))\n",
      "(Timestamp('2002-06-27 00:00:00', freq='D'), Series([], dtype: float64))\n",
      "(Timestamp('2002-06-28 00:00:00', freq='D'), Series([], dtype: float64))\n",
      "(Timestamp('2002-06-29 00:00:00', freq='D'), Series([], dtype: float64))\n",
      "(Timestamp('2002-06-30 00:00:00', freq='D'), Series([], dtype: float64))\n",
      "(Timestamp('2002-07-01 00:00:00', freq='D'), Series([], dtype: float64))\n",
      "(Timestamp('2002-07-02 00:00:00', freq='D'), Series([], dtype: float64))\n",
      "(Timestamp('2002-07-03 00:00:00', freq='D'), Series([], dtype: float64))\n",
      "(Timestamp('2002-07-04 00:00:00', freq='D'), Series([], dtype: float64))\n",
      "(Timestamp('2002-07-05 00:00:00', freq='D'), Series([], dtype: float64))\n",
      "(Timestamp('2002-07-06 00:00:00', freq='D'), Series([], dtype: float64))\n",
      "(Timestamp('2002-07-07 00:00:00', freq='D'), Series([], dtype: float64))\n",
      "(Timestamp('2002-07-08 00:00:00', freq='D'), Series([], dtype: float64))\n",
      "(Timestamp('2002-07-09 00:00:00', freq='D'), Series([], dtype: float64))\n",
      "(Timestamp('2002-07-10 00:00:00', freq='D'), Series([], dtype: float64))\n",
      "(Timestamp('2002-07-11 00:00:00', freq='D'), Series([], dtype: float64))\n",
      "(Timestamp('2002-07-12 00:00:00', freq='D'), Series([], dtype: float64))\n",
      "(Timestamp('2002-07-13 00:00:00', freq='D'), Series([], dtype: float64))\n",
      "(Timestamp('2002-07-14 00:00:00', freq='D'), Series([], dtype: float64))\n",
      "(Timestamp('2002-07-15 00:00:00', freq='D'), Series([], dtype: float64))\n",
      "(Timestamp('2002-07-16 00:00:00', freq='D'), Series([], dtype: float64))\n",
      "(Timestamp('2002-07-17 00:00:00', freq='D'), Series([], dtype: float64))\n",
      "(Timestamp('2002-07-18 00:00:00', freq='D'), Series([], dtype: float64))\n",
      "(Timestamp('2002-07-19 00:00:00', freq='D'), Series([], dtype: float64))\n",
      "(Timestamp('2002-07-20 00:00:00', freq='D'), Series([], dtype: float64))\n",
      "(Timestamp('2002-07-21 00:00:00', freq='D'), Series([], dtype: float64))\n",
      "(Timestamp('2002-07-22 00:00:00', freq='D'), Series([], dtype: float64))\n",
      "(Timestamp('2002-07-23 00:00:00', freq='D'), Series([], dtype: float64))\n",
      "(Timestamp('2002-07-24 00:00:00', freq='D'), Series([], dtype: float64))\n",
      "(Timestamp('2002-07-25 00:00:00', freq='D'), Series([], dtype: float64))\n",
      "(Timestamp('2002-07-26 00:00:00', freq='D'), Series([], dtype: float64))\n",
      "(Timestamp('2002-07-27 00:00:00', freq='D'), Series([], dtype: float64))\n",
      "(Timestamp('2002-07-28 00:00:00', freq='D'), Series([], dtype: float64))\n",
      "(Timestamp('2002-07-29 00:00:00', freq='D'), Series([], dtype: float64))\n",
      "(Timestamp('2002-07-30 00:00:00', freq='D'), Series([], dtype: float64))\n",
      "(Timestamp('2002-07-31 00:00:00', freq='D'), Series([], dtype: float64))\n",
      "(Timestamp('2002-08-01 00:00:00', freq='D'), Series([], dtype: float64))\n",
      "(Timestamp('2002-08-02 00:00:00', freq='D'), Series([], dtype: float64))\n",
      "(Timestamp('2002-08-03 00:00:00', freq='D'), Series([], dtype: float64))\n",
      "(Timestamp('2002-08-04 00:00:00', freq='D'), Series([], dtype: float64))\n",
      "(Timestamp('2002-08-05 00:00:00', freq='D'), Series([], dtype: float64))\n",
      "(Timestamp('2002-08-06 00:00:00', freq='D'), Series([], dtype: float64))\n",
      "(Timestamp('2002-08-07 00:00:00', freq='D'), Series([], dtype: float64))\n",
      "(Timestamp('2002-08-08 00:00:00', freq='D'), Series([], dtype: float64))\n",
      "(Timestamp('2002-08-09 00:00:00', freq='D'), Series([], dtype: float64))\n",
      "(Timestamp('2002-08-10 00:00:00', freq='D'), Series([], dtype: float64))\n",
      "(Timestamp('2002-08-11 00:00:00', freq='D'), Series([], dtype: float64))\n",
      "(Timestamp('2002-08-12 00:00:00', freq='D'), Series([], dtype: float64))\n",
      "(Timestamp('2002-08-13 00:00:00', freq='D'), Series([], dtype: float64))\n",
      "(Timestamp('2002-08-14 00:00:00', freq='D'), Series([], dtype: float64))\n",
      "(Timestamp('2002-08-15 00:00:00', freq='D'), Series([], dtype: float64))\n",
      "(Timestamp('2002-08-16 00:00:00', freq='D'), Series([], dtype: float64))\n",
      "(Timestamp('2002-08-17 00:00:00', freq='D'), Series([], dtype: float64))\n",
      "(Timestamp('2002-08-18 00:00:00', freq='D'), Series([], dtype: float64))\n",
      "(Timestamp('2002-08-19 00:00:00', freq='D'), Series([], dtype: float64))\n",
      "(Timestamp('2002-08-20 00:00:00', freq='D'), Series([], dtype: float64))\n",
      "(Timestamp('2002-08-21 00:00:00', freq='D'), Series([], dtype: float64))\n",
      "(Timestamp('2002-08-22 00:00:00', freq='D'), Series([], dtype: float64))\n",
      "(Timestamp('2002-08-23 00:00:00', freq='D'), Series([], dtype: float64))\n",
      "(Timestamp('2002-08-24 00:00:00', freq='D'), Series([], dtype: float64))\n",
      "(Timestamp('2002-08-25 00:00:00', freq='D'), Series([], dtype: float64))\n",
      "(Timestamp('2002-08-26 00:00:00', freq='D'), Series([], dtype: float64))\n",
      "(Timestamp('2002-08-27 00:00:00', freq='D'), Series([], dtype: float64))\n",
      "(Timestamp('2002-08-28 00:00:00', freq='D'), Series([], dtype: float64))\n",
      "(Timestamp('2002-08-29 00:00:00', freq='D'), Series([], dtype: float64))\n",
      "(Timestamp('2002-08-30 00:00:00', freq='D'), Series([], dtype: float64))\n",
      "(Timestamp('2002-08-31 00:00:00', freq='D'), Series([], dtype: float64))\n",
      "(Timestamp('2002-09-01 00:00:00', freq='D'), Series([], dtype: float64))\n",
      "(Timestamp('2002-09-02 00:00:00', freq='D'), Series([], dtype: float64))\n",
      "(Timestamp('2002-09-03 00:00:00', freq='D'), Series([], dtype: float64))\n",
      "(Timestamp('2002-09-04 00:00:00', freq='D'), Series([], dtype: float64))\n",
      "(Timestamp('2002-09-05 00:00:00', freq='D'), Series([], dtype: float64))\n",
      "(Timestamp('2002-09-06 00:00:00', freq='D'), Series([], dtype: float64))\n",
      "(Timestamp('2002-09-07 00:00:00', freq='D'), Series([], dtype: float64))\n",
      "(Timestamp('2002-09-08 00:00:00', freq='D'), Series([], dtype: float64))\n",
      "(Timestamp('2002-09-09 00:00:00', freq='D'), Series([], dtype: float64))\n",
      "(Timestamp('2002-09-10 00:00:00', freq='D'), Series([], dtype: float64))\n",
      "(Timestamp('2002-09-11 00:00:00', freq='D'), Series([], dtype: float64))\n",
      "(Timestamp('2002-09-12 00:00:00', freq='D'), Series([], dtype: float64))\n",
      "(Timestamp('2002-09-13 00:00:00', freq='D'), Series([], dtype: float64))\n",
      "(Timestamp('2002-09-14 00:00:00', freq='D'), Series([], dtype: float64))\n",
      "(Timestamp('2002-09-15 00:00:00', freq='D'), Series([], dtype: float64))\n",
      "(Timestamp('2002-09-16 00:00:00', freq='D'), Series([], dtype: float64))\n",
      "(Timestamp('2002-09-17 00:00:00', freq='D'), Series([], dtype: float64))\n",
      "(Timestamp('2002-09-18 00:00:00', freq='D'), Series([], dtype: float64))\n",
      "(Timestamp('2002-09-19 00:00:00', freq='D'), Series([], dtype: float64))\n",
      "(Timestamp('2002-09-20 00:00:00', freq='D'), Series([], dtype: float64))\n",
      "(Timestamp('2002-09-21 00:00:00', freq='D'), Series([], dtype: float64))\n",
      "(Timestamp('2002-09-22 00:00:00', freq='D'), Series([], dtype: float64))\n",
      "(Timestamp('2002-09-23 00:00:00', freq='D'), Series([], dtype: float64))\n",
      "(Timestamp('2002-09-24 00:00:00', freq='D'), Series([], dtype: float64))\n",
      "(Timestamp('2002-09-25 00:00:00', freq='D'), Series([], dtype: float64))\n",
      "(Timestamp('2002-09-26 00:00:00', freq='D'), Series([], dtype: float64))\n",
      "(Timestamp('2002-09-27 00:00:00', freq='D'), Series([], dtype: float64))\n",
      "(Timestamp('2002-09-28 00:00:00', freq='D'), Series([], dtype: float64))\n",
      "(Timestamp('2002-09-29 00:00:00', freq='D'), Series([], dtype: float64))\n",
      "(Timestamp('2002-09-30 00:00:00', freq='D'), Series([], dtype: float64))\n",
      "(Timestamp('2002-10-01 00:00:00', freq='D'), Series([], dtype: float64))\n",
      "(Timestamp('2002-10-02 00:00:00', freq='D'), Series([], dtype: float64))\n",
      "(Timestamp('2002-10-03 00:00:00', freq='D'), Series([], dtype: float64))\n",
      "(Timestamp('2002-10-04 00:00:00', freq='D'), Series([], dtype: float64))\n",
      "(Timestamp('2002-10-05 00:00:00', freq='D'), Series([], dtype: float64))\n",
      "(Timestamp('2002-10-06 00:00:00', freq='D'), Series([], dtype: float64))\n",
      "(Timestamp('2002-10-07 00:00:00', freq='D'), Series([], dtype: float64))\n",
      "(Timestamp('2002-10-08 00:00:00', freq='D'), Series([], dtype: float64))\n",
      "(Timestamp('2002-10-09 00:00:00', freq='D'), Series([], dtype: float64))\n",
      "(Timestamp('2002-10-10 00:00:00', freq='D'), Series([], dtype: float64))\n",
      "(Timestamp('2002-10-11 00:00:00', freq='D'), Series([], dtype: float64))\n",
      "(Timestamp('2002-10-12 00:00:00', freq='D'), Series([], dtype: float64))\n",
      "(Timestamp('2002-10-13 00:00:00', freq='D'), Series([], dtype: float64))\n",
      "(Timestamp('2002-10-14 00:00:00', freq='D'), Series([], dtype: float64))\n",
      "(Timestamp('2002-10-15 00:00:00', freq='D'), Series([], dtype: float64))\n",
      "(Timestamp('2002-10-16 00:00:00', freq='D'), Series([], dtype: float64))\n",
      "(Timestamp('2002-10-17 00:00:00', freq='D'), Series([], dtype: float64))\n",
      "(Timestamp('2002-10-18 00:00:00', freq='D'), Series([], dtype: float64))\n",
      "(Timestamp('2002-10-19 00:00:00', freq='D'), Series([], dtype: float64))\n",
      "(Timestamp('2002-10-20 00:00:00', freq='D'), Series([], dtype: float64))\n",
      "(Timestamp('2002-10-21 00:00:00', freq='D'), Series([], dtype: float64))\n",
      "(Timestamp('2002-10-22 00:00:00', freq='D'), Series([], dtype: float64))\n",
      "(Timestamp('2002-10-23 00:00:00', freq='D'), Series([], dtype: float64))\n",
      "(Timestamp('2002-10-24 00:00:00', freq='D'), Series([], dtype: float64))\n",
      "(Timestamp('2002-10-25 00:00:00', freq='D'), Series([], dtype: float64))\n",
      "(Timestamp('2002-10-26 00:00:00', freq='D'), Series([], dtype: float64))\n",
      "(Timestamp('2002-10-27 00:00:00', freq='D'), Series([], dtype: float64))\n",
      "(Timestamp('2002-10-28 00:00:00', freq='D'), Series([], dtype: float64))\n",
      "(Timestamp('2002-10-29 00:00:00', freq='D'), Series([], dtype: float64))\n",
      "(Timestamp('2002-10-30 00:00:00', freq='D'), Series([], dtype: float64))\n",
      "(Timestamp('2002-10-31 00:00:00', freq='D'), Series([], dtype: float64))\n",
      "(Timestamp('2002-11-01 00:00:00', freq='D'), Series([], dtype: float64))\n",
      "(Timestamp('2002-11-02 00:00:00', freq='D'), Series([], dtype: float64))\n",
      "(Timestamp('2002-11-03 00:00:00', freq='D'), Series([], dtype: float64))\n",
      "(Timestamp('2002-11-04 00:00:00', freq='D'), Series([], dtype: float64))\n",
      "(Timestamp('2002-11-05 00:00:00', freq='D'), Series([], dtype: float64))\n",
      "(Timestamp('2002-11-06 00:00:00', freq='D'), Series([], dtype: float64))\n",
      "(Timestamp('2002-11-07 00:00:00', freq='D'), Series([], dtype: float64))\n",
      "(Timestamp('2002-11-08 00:00:00', freq='D'), Series([], dtype: float64))\n",
      "(Timestamp('2002-11-09 00:00:00', freq='D'), Series([], dtype: float64))\n",
      "(Timestamp('2002-11-10 00:00:00', freq='D'), Series([], dtype: float64))\n",
      "(Timestamp('2002-11-11 00:00:00', freq='D'), Series([], dtype: float64))\n",
      "(Timestamp('2002-11-12 00:00:00', freq='D'), Series([], dtype: float64))\n",
      "(Timestamp('2002-11-13 00:00:00', freq='D'), Series([], dtype: float64))\n",
      "(Timestamp('2002-11-14 00:00:00', freq='D'), Series([], dtype: float64))\n",
      "(Timestamp('2002-11-15 00:00:00', freq='D'), Series([], dtype: float64))\n",
      "(Timestamp('2002-11-16 00:00:00', freq='D'), Series([], dtype: float64))\n",
      "(Timestamp('2002-11-17 00:00:00', freq='D'), Series([], dtype: float64))\n",
      "(Timestamp('2002-11-18 00:00:00', freq='D'), Series([], dtype: float64))\n",
      "(Timestamp('2002-11-19 00:00:00', freq='D'), Series([], dtype: float64))\n",
      "(Timestamp('2002-11-20 00:00:00', freq='D'), Series([], dtype: float64))\n",
      "(Timestamp('2002-11-21 00:00:00', freq='D'), Series([], dtype: float64))\n",
      "(Timestamp('2002-11-22 00:00:00', freq='D'), Series([], dtype: float64))\n",
      "(Timestamp('2002-11-23 00:00:00', freq='D'), Series([], dtype: float64))\n",
      "(Timestamp('2002-11-24 00:00:00', freq='D'), Series([], dtype: float64))\n",
      "(Timestamp('2002-11-25 00:00:00', freq='D'), Series([], dtype: float64))\n",
      "(Timestamp('2002-11-26 00:00:00', freq='D'), Series([], dtype: float64))\n",
      "(Timestamp('2002-11-27 00:00:00', freq='D'), Series([], dtype: float64))\n",
      "(Timestamp('2002-11-28 00:00:00', freq='D'), Series([], dtype: float64))\n",
      "(Timestamp('2002-11-29 00:00:00', freq='D'), Series([], dtype: float64))\n",
      "(Timestamp('2002-11-30 00:00:00', freq='D'), Series([], dtype: float64))\n",
      "(Timestamp('2002-12-01 00:00:00', freq='D'), Series([], dtype: float64))\n",
      "(Timestamp('2002-12-02 00:00:00', freq='D'), Series([], dtype: float64))\n",
      "(Timestamp('2002-12-03 00:00:00', freq='D'), Series([], dtype: float64))\n",
      "(Timestamp('2002-12-04 00:00:00', freq='D'), Series([], dtype: float64))\n",
      "(Timestamp('2002-12-05 00:00:00', freq='D'), Series([], dtype: float64))\n",
      "(Timestamp('2002-12-06 00:00:00', freq='D'), Series([], dtype: float64))\n",
      "(Timestamp('2002-12-07 00:00:00', freq='D'), Series([], dtype: float64))\n",
      "(Timestamp('2002-12-08 00:00:00', freq='D'), Series([], dtype: float64))\n",
      "(Timestamp('2002-12-09 00:00:00', freq='D'), Series([], dtype: float64))\n",
      "(Timestamp('2002-12-10 00:00:00', freq='D'), Series([], dtype: float64))\n",
      "(Timestamp('2002-12-11 00:00:00', freq='D'), Series([], dtype: float64))\n",
      "(Timestamp('2002-12-12 00:00:00', freq='D'), Series([], dtype: float64))\n",
      "(Timestamp('2002-12-13 00:00:00', freq='D'), Series([], dtype: float64))\n",
      "(Timestamp('2002-12-14 00:00:00', freq='D'), Series([], dtype: float64))\n",
      "(Timestamp('2002-12-15 00:00:00', freq='D'), Series([], dtype: float64))\n",
      "(Timestamp('2002-12-16 00:00:00', freq='D'), Series([], dtype: float64))\n",
      "(Timestamp('2002-12-17 00:00:00', freq='D'), Series([], dtype: float64))\n",
      "(Timestamp('2002-12-18 00:00:00', freq='D'), Series([], dtype: float64))\n",
      "(Timestamp('2002-12-19 00:00:00', freq='D'), Series([], dtype: float64))\n",
      "(Timestamp('2002-12-20 00:00:00', freq='D'), Series([], dtype: float64))\n",
      "(Timestamp('2002-12-21 00:00:00', freq='D'), Series([], dtype: float64))\n",
      "(Timestamp('2002-12-22 00:00:00', freq='D'), Series([], dtype: float64))\n",
      "(Timestamp('2002-12-23 00:00:00', freq='D'), Series([], dtype: float64))\n",
      "(Timestamp('2002-12-24 00:00:00', freq='D'), Series([], dtype: float64))\n",
      "(Timestamp('2002-12-25 00:00:00', freq='D'), Series([], dtype: float64))\n",
      "(Timestamp('2002-12-26 00:00:00', freq='D'), Series([], dtype: float64))\n",
      "(Timestamp('2002-12-27 00:00:00', freq='D'), Series([], dtype: float64))\n",
      "(Timestamp('2002-12-28 00:00:00', freq='D'), Series([], dtype: float64))\n",
      "(Timestamp('2002-12-29 00:00:00', freq='D'), Series([], dtype: float64))\n",
      "(Timestamp('2002-12-30 00:00:00', freq='D'), Series([], dtype: float64))\n",
      "(Timestamp('2002-12-31 00:00:00', freq='D'), Series([], dtype: float64))\n",
      "(Timestamp('2003-01-01 00:00:00', freq='D'), Series([], dtype: float64))\n",
      "(Timestamp('2003-01-02 00:00:00', freq='D'), Series([], dtype: float64))\n",
      "(Timestamp('2003-01-03 00:00:00', freq='D'), Series([], dtype: float64))\n",
      "(Timestamp('2003-01-04 00:00:00', freq='D'), Series([], dtype: float64))\n",
      "(Timestamp('2003-01-05 00:00:00', freq='D'), Series([], dtype: float64))\n",
      "(Timestamp('2003-01-06 00:00:00', freq='D'), Series([], dtype: float64))\n",
      "(Timestamp('2003-01-07 00:00:00', freq='D'), Series([], dtype: float64))\n",
      "(Timestamp('2003-01-08 00:00:00', freq='D'), Series([], dtype: float64))\n",
      "(Timestamp('2003-01-09 00:00:00', freq='D'), Series([], dtype: float64))\n",
      "(Timestamp('2003-01-10 00:00:00', freq='D'), Series([], dtype: float64))\n",
      "(Timestamp('2003-01-11 00:00:00', freq='D'), Series([], dtype: float64))\n",
      "(Timestamp('2003-01-12 00:00:00', freq='D'), Series([], dtype: float64))\n",
      "(Timestamp('2003-01-13 00:00:00', freq='D'), Series([], dtype: float64))\n",
      "(Timestamp('2003-01-14 00:00:00', freq='D'), Series([], dtype: float64))\n",
      "(Timestamp('2003-01-15 00:00:00', freq='D'), Series([], dtype: float64))\n",
      "(Timestamp('2003-01-16 00:00:00', freq='D'), Series([], dtype: float64))\n",
      "(Timestamp('2003-01-17 00:00:00', freq='D'), Series([], dtype: float64))\n",
      "(Timestamp('2003-01-18 00:00:00', freq='D'), Series([], dtype: float64))\n",
      "(Timestamp('2003-01-19 00:00:00', freq='D'), Series([], dtype: float64))\n",
      "(Timestamp('2003-01-20 00:00:00', freq='D'), Series([], dtype: float64))\n",
      "(Timestamp('2003-01-21 00:00:00', freq='D'), Series([], dtype: float64))\n",
      "(Timestamp('2003-01-22 00:00:00', freq='D'), Series([], dtype: float64))\n",
      "(Timestamp('2003-01-23 00:00:00', freq='D'), Series([], dtype: float64))\n",
      "(Timestamp('2003-01-24 00:00:00', freq='D'), Series([], dtype: float64))\n",
      "(Timestamp('2003-01-25 00:00:00', freq='D'), Series([], dtype: float64))\n",
      "(Timestamp('2003-01-26 00:00:00', freq='D'), Series([], dtype: float64))\n",
      "(Timestamp('2003-01-27 00:00:00', freq='D'), Series([], dtype: float64))\n",
      "(Timestamp('2003-01-28 00:00:00', freq='D'), Series([], dtype: float64))\n",
      "(Timestamp('2003-01-29 00:00:00', freq='D'), Series([], dtype: float64))\n",
      "(Timestamp('2003-01-30 00:00:00', freq='D'), Series([], dtype: float64))\n",
      "(Timestamp('2003-01-31 00:00:00', freq='D'), Series([], dtype: float64))\n",
      "(Timestamp('2003-02-01 00:00:00', freq='D'), Series([], dtype: float64))\n",
      "(Timestamp('2003-02-02 00:00:00', freq='D'), Series([], dtype: float64))\n",
      "(Timestamp('2003-02-03 00:00:00', freq='D'), Series([], dtype: float64))\n",
      "(Timestamp('2003-02-04 00:00:00', freq='D'), Series([], dtype: float64))\n",
      "(Timestamp('2003-02-05 00:00:00', freq='D'), Series([], dtype: float64))\n",
      "(Timestamp('2003-02-06 00:00:00', freq='D'), Series([], dtype: float64))\n",
      "(Timestamp('2003-02-07 00:00:00', freq='D'), Series([], dtype: float64))\n",
      "(Timestamp('2003-02-08 00:00:00', freq='D'), Series([], dtype: float64))\n",
      "(Timestamp('2003-02-09 00:00:00', freq='D'), Series([], dtype: float64))\n",
      "(Timestamp('2003-02-10 00:00:00', freq='D'), Series([], dtype: float64))\n",
      "(Timestamp('2003-02-11 00:00:00', freq='D'), Series([], dtype: float64))\n",
      "(Timestamp('2003-02-12 00:00:00', freq='D'), Series([], dtype: float64))\n",
      "(Timestamp('2003-02-13 00:00:00', freq='D'), Series([], dtype: float64))\n",
      "(Timestamp('2003-02-14 00:00:00', freq='D'), Series([], dtype: float64))\n",
      "(Timestamp('2003-02-15 00:00:00', freq='D'), Series([], dtype: float64))\n",
      "(Timestamp('2003-02-16 00:00:00', freq='D'), Series([], dtype: float64))\n",
      "(Timestamp('2003-02-17 00:00:00', freq='D'), Series([], dtype: float64))\n",
      "(Timestamp('2003-02-18 00:00:00', freq='D'), Series([], dtype: float64))\n",
      "(Timestamp('2003-02-19 00:00:00', freq='D'), Series([], dtype: float64))\n",
      "(Timestamp('2003-02-20 00:00:00', freq='D'), Series([], dtype: float64))\n",
      "(Timestamp('2003-02-21 00:00:00', freq='D'), Series([], dtype: float64))\n",
      "(Timestamp('2003-02-22 00:00:00', freq='D'), Series([], dtype: float64))\n",
      "(Timestamp('2003-02-23 00:00:00', freq='D'), Series([], dtype: float64))\n",
      "(Timestamp('2003-02-24 00:00:00', freq='D'), Series([], dtype: float64))\n",
      "(Timestamp('2003-02-25 00:00:00', freq='D'), Series([], dtype: float64))\n",
      "(Timestamp('2003-02-26 00:00:00', freq='D'), Series([], dtype: float64))\n",
      "(Timestamp('2003-02-27 00:00:00', freq='D'), Series([], dtype: float64))\n",
      "(Timestamp('2003-02-28 00:00:00', freq='D'), Series([], dtype: float64))\n",
      "(Timestamp('2003-03-01 00:00:00', freq='D'), Series([], dtype: float64))\n",
      "(Timestamp('2003-03-02 00:00:00', freq='D'), Series([], dtype: float64))\n",
      "(Timestamp('2003-03-03 00:00:00', freq='D'), Series([], dtype: float64))\n",
      "(Timestamp('2003-03-04 00:00:00', freq='D'), Series([], dtype: float64))\n",
      "(Timestamp('2003-03-05 00:00:00', freq='D'), Series([], dtype: float64))\n",
      "(Timestamp('2003-03-06 00:00:00', freq='D'), Series([], dtype: float64))\n",
      "(Timestamp('2003-03-07 00:00:00', freq='D'), Series([], dtype: float64))\n",
      "(Timestamp('2003-03-08 00:00:00', freq='D'), Series([], dtype: float64))\n",
      "(Timestamp('2003-03-09 00:00:00', freq='D'), Series([], dtype: float64))\n",
      "(Timestamp('2003-03-10 00:00:00', freq='D'), Series([], dtype: float64))\n",
      "(Timestamp('2003-03-11 00:00:00', freq='D'), Series([], dtype: float64))\n",
      "(Timestamp('2003-03-12 00:00:00', freq='D'), Series([], dtype: float64))\n",
      "(Timestamp('2003-03-13 00:00:00', freq='D'), Series([], dtype: float64))\n",
      "(Timestamp('2003-03-14 00:00:00', freq='D'), Series([], dtype: float64))\n",
      "(Timestamp('2003-03-15 00:00:00', freq='D'), Series([], dtype: float64))\n",
      "(Timestamp('2003-03-16 00:00:00', freq='D'), Series([], dtype: float64))\n",
      "(Timestamp('2003-03-17 00:00:00', freq='D'), Series([], dtype: float64))\n",
      "(Timestamp('2003-03-18 00:00:00', freq='D'), Series([], dtype: float64))\n",
      "(Timestamp('2003-03-19 00:00:00', freq='D'), Series([], dtype: float64))\n",
      "(Timestamp('2003-03-20 00:00:00', freq='D'), Series([], dtype: float64))\n",
      "(Timestamp('2003-03-21 00:00:00', freq='D'), Series([], dtype: float64))\n",
      "(Timestamp('2003-03-22 00:00:00', freq='D'), Series([], dtype: float64))\n",
      "(Timestamp('2003-03-23 00:00:00', freq='D'), Series([], dtype: float64))\n",
      "(Timestamp('2003-03-24 00:00:00', freq='D'), Series([], dtype: float64))\n",
      "(Timestamp('2003-03-25 00:00:00', freq='D'), Series([], dtype: float64))\n",
      "(Timestamp('2003-03-26 00:00:00', freq='D'), Series([], dtype: float64))\n",
      "(Timestamp('2003-03-27 00:00:00', freq='D'), Series([], dtype: float64))\n",
      "(Timestamp('2003-03-28 00:00:00', freq='D'), Series([], dtype: float64))\n",
      "(Timestamp('2003-03-29 00:00:00', freq='D'), Series([], dtype: float64))\n",
      "(Timestamp('2003-03-30 00:00:00', freq='D'), Series([], dtype: float64))\n",
      "(Timestamp('2003-03-31 00:00:00', freq='D'), Series([], dtype: float64))\n",
      "(Timestamp('2003-04-01 00:00:00', freq='D'), Series([], dtype: float64))\n",
      "(Timestamp('2003-04-02 00:00:00', freq='D'), Series([], dtype: float64))\n",
      "(Timestamp('2003-04-03 00:00:00', freq='D'), Series([], dtype: float64))\n",
      "(Timestamp('2003-04-04 00:00:00', freq='D'), Series([], dtype: float64))\n",
      "(Timestamp('2003-04-05 00:00:00', freq='D'), Series([], dtype: float64))\n",
      "(Timestamp('2003-04-06 00:00:00', freq='D'), Series([], dtype: float64))\n",
      "(Timestamp('2003-04-07 00:00:00', freq='D'), Series([], dtype: float64))\n",
      "(Timestamp('2003-04-08 00:00:00', freq='D'), Series([], dtype: float64))\n",
      "(Timestamp('2003-04-09 00:00:00', freq='D'), Series([], dtype: float64))\n",
      "(Timestamp('2003-04-10 00:00:00', freq='D'), Series([], dtype: float64))\n",
      "(Timestamp('2003-04-11 00:00:00', freq='D'), Series([], dtype: float64))\n",
      "(Timestamp('2003-04-12 00:00:00', freq='D'), Series([], dtype: float64))\n",
      "(Timestamp('2003-04-13 00:00:00', freq='D'), Series([], dtype: float64))\n",
      "(Timestamp('2003-04-14 00:00:00', freq='D'), Series([], dtype: float64))\n",
      "(Timestamp('2003-04-15 00:00:00', freq='D'), Series([], dtype: float64))\n",
      "(Timestamp('2003-04-16 00:00:00', freq='D'), Series([], dtype: float64))\n",
      "(Timestamp('2003-04-17 00:00:00', freq='D'), Series([], dtype: float64))\n",
      "(Timestamp('2003-04-18 00:00:00', freq='D'), Series([], dtype: float64))\n",
      "(Timestamp('2003-04-19 00:00:00', freq='D'), Series([], dtype: float64))\n",
      "(Timestamp('2003-04-20 00:00:00', freq='D'), Series([], dtype: float64))\n",
      "(Timestamp('2003-04-21 00:00:00', freq='D'), Series([], dtype: float64))\n",
      "(Timestamp('2003-04-22 00:00:00', freq='D'), Series([], dtype: float64))\n",
      "(Timestamp('2003-04-23 00:00:00', freq='D'), Series([], dtype: float64))\n",
      "(Timestamp('2003-04-24 00:00:00', freq='D'), Series([], dtype: float64))\n",
      "(Timestamp('2003-04-25 00:00:00', freq='D'), Series([], dtype: float64))\n",
      "(Timestamp('2003-04-26 00:00:00', freq='D'), Series([], dtype: float64))\n",
      "(Timestamp('2003-04-27 00:00:00', freq='D'), Series([], dtype: float64))\n",
      "(Timestamp('2003-04-28 00:00:00', freq='D'), Series([], dtype: float64))\n",
      "(Timestamp('2003-04-29 00:00:00', freq='D'), Series([], dtype: float64))\n",
      "(Timestamp('2003-04-30 00:00:00', freq='D'), Series([], dtype: float64))\n",
      "(Timestamp('2003-05-01 00:00:00', freq='D'), Series([], dtype: float64))\n",
      "(Timestamp('2003-05-02 00:00:00', freq='D'), Series([], dtype: float64))\n",
      "(Timestamp('2003-05-03 00:00:00', freq='D'), Series([], dtype: float64))\n",
      "(Timestamp('2003-05-04 00:00:00', freq='D'), Series([], dtype: float64))\n",
      "(Timestamp('2003-05-05 00:00:00', freq='D'), Series([], dtype: float64))\n",
      "(Timestamp('2003-05-06 00:00:00', freq='D'), Series([], dtype: float64))\n",
      "(Timestamp('2003-05-07 00:00:00', freq='D'), Series([], dtype: float64))\n",
      "(Timestamp('2003-05-08 00:00:00', freq='D'), Series([], dtype: float64))\n",
      "(Timestamp('2003-05-09 00:00:00', freq='D'), Series([], dtype: float64))\n",
      "(Timestamp('2003-05-10 00:00:00', freq='D'), Series([], dtype: float64))\n",
      "(Timestamp('2003-05-11 00:00:00', freq='D'), Series([], dtype: float64))\n",
      "(Timestamp('2003-05-12 00:00:00', freq='D'), Series([], dtype: float64))\n",
      "(Timestamp('2003-05-13 00:00:00', freq='D'), Series([], dtype: float64))\n",
      "(Timestamp('2003-05-14 00:00:00', freq='D'), Series([], dtype: float64))\n",
      "(Timestamp('2003-05-15 00:00:00', freq='D'), Series([], dtype: float64))\n",
      "(Timestamp('2003-05-16 00:00:00', freq='D'), Series([], dtype: float64))\n",
      "(Timestamp('2003-05-17 00:00:00', freq='D'), Series([], dtype: float64))\n",
      "(Timestamp('2003-05-18 00:00:00', freq='D'), Series([], dtype: float64))\n",
      "(Timestamp('2003-05-19 00:00:00', freq='D'), Series([], dtype: float64))\n",
      "(Timestamp('2003-05-20 00:00:00', freq='D'), Series([], dtype: float64))\n",
      "(Timestamp('2003-05-21 00:00:00', freq='D'), Series([], dtype: float64))\n",
      "(Timestamp('2003-05-22 00:00:00', freq='D'), Series([], dtype: float64))\n",
      "(Timestamp('2003-05-23 00:00:00', freq='D'), Series([], dtype: float64))\n",
      "(Timestamp('2003-05-24 00:00:00', freq='D'), Series([], dtype: float64))\n",
      "(Timestamp('2003-05-25 00:00:00', freq='D'), Series([], dtype: float64))\n",
      "(Timestamp('2003-05-26 00:00:00', freq='D'), Series([], dtype: float64))\n",
      "(Timestamp('2003-05-27 00:00:00', freq='D'), Series([], dtype: float64))\n",
      "(Timestamp('2003-05-28 00:00:00', freq='D'), Series([], dtype: float64))\n",
      "(Timestamp('2003-05-29 00:00:00', freq='D'), Series([], dtype: float64))\n",
      "(Timestamp('2003-05-30 00:00:00', freq='D'), Series([], dtype: float64))\n",
      "(Timestamp('2003-05-31 00:00:00', freq='D'), Series([], dtype: float64))\n",
      "(Timestamp('2003-06-01 00:00:00', freq='D'), Series([], dtype: float64))\n",
      "(Timestamp('2003-06-02 00:00:00', freq='D'), Series([], dtype: float64))\n",
      "(Timestamp('2003-06-03 00:00:00', freq='D'), Series([], dtype: float64))\n",
      "(Timestamp('2003-06-04 00:00:00', freq='D'), Series([], dtype: float64))\n",
      "(Timestamp('2003-06-05 00:00:00', freq='D'), Series([], dtype: float64))\n",
      "(Timestamp('2003-06-06 00:00:00', freq='D'), Series([], dtype: float64))\n",
      "(Timestamp('2003-06-07 00:00:00', freq='D'), Series([], dtype: float64))\n",
      "(Timestamp('2003-06-08 00:00:00', freq='D'), Series([], dtype: float64))\n",
      "(Timestamp('2003-06-09 00:00:00', freq='D'), Series([], dtype: float64))\n",
      "(Timestamp('2003-06-10 00:00:00', freq='D'), Series([], dtype: float64))\n",
      "(Timestamp('2003-06-11 00:00:00', freq='D'), Series([], dtype: float64))\n",
      "(Timestamp('2003-06-12 00:00:00', freq='D'), Series([], dtype: float64))\n",
      "(Timestamp('2003-06-13 00:00:00', freq='D'), Series([], dtype: float64))\n",
      "(Timestamp('2003-06-14 00:00:00', freq='D'), Series([], dtype: float64))\n",
      "(Timestamp('2003-06-15 00:00:00', freq='D'), Series([], dtype: float64))\n",
      "(Timestamp('2003-06-16 00:00:00', freq='D'), Series([], dtype: float64))\n",
      "(Timestamp('2003-06-17 00:00:00', freq='D'), Series([], dtype: float64))\n",
      "(Timestamp('2003-06-18 00:00:00', freq='D'), Series([], dtype: float64))\n",
      "(Timestamp('2003-06-19 00:00:00', freq='D'), Series([], dtype: float64))\n",
      "(Timestamp('2003-06-20 00:00:00', freq='D'), Series([], dtype: float64))\n",
      "(Timestamp('2003-06-21 00:00:00', freq='D'), Series([], dtype: float64))\n",
      "(Timestamp('2003-06-22 00:00:00', freq='D'), Series([], dtype: float64))\n",
      "(Timestamp('2003-06-23 00:00:00', freq='D'), Series([], dtype: float64))\n"
     ]
    },
    {
     "name": "stdout",
     "output_type": "stream",
     "text": [
      "(Timestamp('2003-06-24 00:00:00', freq='D'), Series([], dtype: float64))\n",
      "(Timestamp('2003-06-25 00:00:00', freq='D'), Series([], dtype: float64))\n",
      "(Timestamp('2003-06-26 00:00:00', freq='D'), Series([], dtype: float64))\n",
      "(Timestamp('2003-06-27 00:00:00', freq='D'), Series([], dtype: float64))\n",
      "(Timestamp('2003-06-28 00:00:00', freq='D'), Series([], dtype: float64))\n",
      "(Timestamp('2003-06-29 00:00:00', freq='D'), Series([], dtype: float64))\n",
      "(Timestamp('2003-06-30 00:00:00', freq='D'), Series([], dtype: float64))\n",
      "(Timestamp('2003-07-01 00:00:00', freq='D'), Series([], dtype: float64))\n",
      "(Timestamp('2003-07-02 00:00:00', freq='D'), Series([], dtype: float64))\n",
      "(Timestamp('2003-07-03 00:00:00', freq='D'), Series([], dtype: float64))\n",
      "(Timestamp('2003-07-04 00:00:00', freq='D'), Series([], dtype: float64))\n",
      "(Timestamp('2003-07-05 00:00:00', freq='D'), Series([], dtype: float64))\n",
      "(Timestamp('2003-07-06 00:00:00', freq='D'), Series([], dtype: float64))\n",
      "(Timestamp('2003-07-07 00:00:00', freq='D'), Series([], dtype: float64))\n",
      "(Timestamp('2003-07-08 00:00:00', freq='D'), Series([], dtype: float64))\n",
      "(Timestamp('2003-07-09 00:00:00', freq='D'), Series([], dtype: float64))\n",
      "(Timestamp('2003-07-10 00:00:00', freq='D'), Series([], dtype: float64))\n",
      "(Timestamp('2003-07-11 00:00:00', freq='D'), Series([], dtype: float64))\n",
      "(Timestamp('2003-07-12 00:00:00', freq='D'), Series([], dtype: float64))\n",
      "(Timestamp('2003-07-13 00:00:00', freq='D'), Series([], dtype: float64))\n",
      "(Timestamp('2003-07-14 00:00:00', freq='D'), Series([], dtype: float64))\n",
      "(Timestamp('2003-07-15 00:00:00', freq='D'), Series([], dtype: float64))\n",
      "(Timestamp('2003-07-16 00:00:00', freq='D'), Series([], dtype: float64))\n",
      "(Timestamp('2003-07-17 00:00:00', freq='D'), Series([], dtype: float64))\n",
      "(Timestamp('2003-07-18 00:00:00', freq='D'), Series([], dtype: float64))\n",
      "(Timestamp('2003-07-19 00:00:00', freq='D'), Series([], dtype: float64))\n",
      "(Timestamp('2003-07-20 00:00:00', freq='D'), Series([], dtype: float64))\n",
      "(Timestamp('2003-07-21 00:00:00', freq='D'), Series([], dtype: float64))\n",
      "(Timestamp('2003-07-22 00:00:00', freq='D'), Series([], dtype: float64))\n",
      "(Timestamp('2003-07-23 00:00:00', freq='D'), Series([], dtype: float64))\n",
      "(Timestamp('2003-07-24 00:00:00', freq='D'), Series([], dtype: float64))\n",
      "(Timestamp('2003-07-25 00:00:00', freq='D'), Series([], dtype: float64))\n",
      "(Timestamp('2003-07-26 00:00:00', freq='D'), Series([], dtype: float64))\n",
      "(Timestamp('2003-07-27 00:00:00', freq='D'), Series([], dtype: float64))\n",
      "(Timestamp('2003-07-28 00:00:00', freq='D'), Series([], dtype: float64))\n",
      "(Timestamp('2003-07-29 00:00:00', freq='D'), Series([], dtype: float64))\n",
      "(Timestamp('2003-07-30 00:00:00', freq='D'), Series([], dtype: float64))\n",
      "(Timestamp('2003-07-31 00:00:00', freq='D'), Series([], dtype: float64))\n",
      "(Timestamp('2003-08-01 00:00:00', freq='D'), Series([], dtype: float64))\n",
      "(Timestamp('2003-08-02 00:00:00', freq='D'), Series([], dtype: float64))\n",
      "(Timestamp('2003-08-03 00:00:00', freq='D'), Series([], dtype: float64))\n",
      "(Timestamp('2003-08-04 00:00:00', freq='D'), Series([], dtype: float64))\n",
      "(Timestamp('2003-08-05 00:00:00', freq='D'), Series([], dtype: float64))\n",
      "(Timestamp('2003-08-06 00:00:00', freq='D'), Series([], dtype: float64))\n",
      "(Timestamp('2003-08-07 00:00:00', freq='D'), Series([], dtype: float64))\n",
      "(Timestamp('2003-08-08 00:00:00', freq='D'), Series([], dtype: float64))\n",
      "(Timestamp('2003-08-09 00:00:00', freq='D'), Series([], dtype: float64))\n",
      "(Timestamp('2003-08-10 00:00:00', freq='D'), Series([], dtype: float64))\n",
      "(Timestamp('2003-08-11 00:00:00', freq='D'), Series([], dtype: float64))\n",
      "(Timestamp('2003-08-12 00:00:00', freq='D'), Series([], dtype: float64))\n",
      "(Timestamp('2003-08-13 00:00:00', freq='D'), Series([], dtype: float64))\n",
      "(Timestamp('2003-08-14 00:00:00', freq='D'), Series([], dtype: float64))\n",
      "(Timestamp('2003-08-15 00:00:00', freq='D'), Series([], dtype: float64))\n",
      "(Timestamp('2003-08-16 00:00:00', freq='D'), Series([], dtype: float64))\n",
      "(Timestamp('2003-08-17 00:00:00', freq='D'), Series([], dtype: float64))\n",
      "(Timestamp('2003-08-18 00:00:00', freq='D'), Series([], dtype: float64))\n",
      "(Timestamp('2003-08-19 00:00:00', freq='D'), Series([], dtype: float64))\n",
      "(Timestamp('2003-08-20 00:00:00', freq='D'), Series([], dtype: float64))\n",
      "(Timestamp('2003-08-21 00:00:00', freq='D'), Series([], dtype: float64))\n",
      "(Timestamp('2003-08-22 00:00:00', freq='D'), Series([], dtype: float64))\n",
      "(Timestamp('2003-08-23 00:00:00', freq='D'), Series([], dtype: float64))\n",
      "(Timestamp('2003-08-24 00:00:00', freq='D'), Series([], dtype: float64))\n",
      "(Timestamp('2003-08-25 00:00:00', freq='D'), Series([], dtype: float64))\n",
      "(Timestamp('2003-08-26 00:00:00', freq='D'), Series([], dtype: float64))\n",
      "(Timestamp('2003-08-27 00:00:00', freq='D'), Series([], dtype: float64))\n",
      "(Timestamp('2003-08-28 00:00:00', freq='D'), Series([], dtype: float64))\n",
      "(Timestamp('2003-08-29 00:00:00', freq='D'), Series([], dtype: float64))\n",
      "(Timestamp('2003-08-30 00:00:00', freq='D'), Series([], dtype: float64))\n",
      "(Timestamp('2003-08-31 00:00:00', freq='D'), Series([], dtype: float64))\n",
      "(Timestamp('2003-09-01 00:00:00', freq='D'), Series([], dtype: float64))\n",
      "(Timestamp('2003-09-02 00:00:00', freq='D'), Series([], dtype: float64))\n",
      "(Timestamp('2003-09-03 00:00:00', freq='D'), Series([], dtype: float64))\n",
      "(Timestamp('2003-09-04 00:00:00', freq='D'), Series([], dtype: float64))\n",
      "(Timestamp('2003-09-05 00:00:00', freq='D'), Series([], dtype: float64))\n",
      "(Timestamp('2003-09-06 00:00:00', freq='D'), Series([], dtype: float64))\n",
      "(Timestamp('2003-09-07 00:00:00', freq='D'), Series([], dtype: float64))\n",
      "(Timestamp('2003-09-08 00:00:00', freq='D'), Series([], dtype: float64))\n",
      "(Timestamp('2003-09-09 00:00:00', freq='D'), Series([], dtype: float64))\n",
      "(Timestamp('2003-09-10 00:00:00', freq='D'), Series([], dtype: float64))\n",
      "(Timestamp('2003-09-11 00:00:00', freq='D'), Series([], dtype: float64))\n",
      "(Timestamp('2003-09-12 00:00:00', freq='D'), Series([], dtype: float64))\n",
      "(Timestamp('2003-09-13 00:00:00', freq='D'), Series([], dtype: float64))\n",
      "(Timestamp('2003-09-14 00:00:00', freq='D'), Series([], dtype: float64))\n",
      "(Timestamp('2003-09-15 00:00:00', freq='D'), Series([], dtype: float64))\n",
      "(Timestamp('2003-09-16 00:00:00', freq='D'), Series([], dtype: float64))\n",
      "(Timestamp('2003-09-17 00:00:00', freq='D'), Series([], dtype: float64))\n",
      "(Timestamp('2003-09-18 00:00:00', freq='D'), Series([], dtype: float64))\n",
      "(Timestamp('2003-09-19 00:00:00', freq='D'), Series([], dtype: float64))\n",
      "(Timestamp('2003-09-20 00:00:00', freq='D'), Series([], dtype: float64))\n",
      "(Timestamp('2003-09-21 00:00:00', freq='D'), Series([], dtype: float64))\n",
      "(Timestamp('2003-09-22 00:00:00', freq='D'), Series([], dtype: float64))\n",
      "(Timestamp('2003-09-23 00:00:00', freq='D'), Series([], dtype: float64))\n",
      "(Timestamp('2003-09-24 00:00:00', freq='D'), Series([], dtype: float64))\n",
      "(Timestamp('2003-09-25 00:00:00', freq='D'), Series([], dtype: float64))\n",
      "(Timestamp('2003-09-26 00:00:00', freq='D'), Series([], dtype: float64))\n",
      "(Timestamp('2003-09-27 00:00:00', freq='D'), Series([], dtype: float64))\n",
      "(Timestamp('2003-09-28 00:00:00', freq='D'), Series([], dtype: float64))\n",
      "(Timestamp('2003-09-29 00:00:00', freq='D'), Series([], dtype: float64))\n",
      "(Timestamp('2003-09-30 00:00:00', freq='D'), Series([], dtype: float64))\n",
      "(Timestamp('2003-10-01 00:00:00', freq='D'), Series([], dtype: float64))\n",
      "(Timestamp('2003-10-02 00:00:00', freq='D'), Series([], dtype: float64))\n",
      "(Timestamp('2003-10-03 00:00:00', freq='D'), Series([], dtype: float64))\n",
      "(Timestamp('2003-10-04 00:00:00', freq='D'), Series([], dtype: float64))\n",
      "(Timestamp('2003-10-05 00:00:00', freq='D'), Series([], dtype: float64))\n",
      "(Timestamp('2003-10-06 00:00:00', freq='D'), Series([], dtype: float64))\n",
      "(Timestamp('2003-10-07 00:00:00', freq='D'), Series([], dtype: float64))\n",
      "(Timestamp('2003-10-08 00:00:00', freq='D'), Series([], dtype: float64))\n",
      "(Timestamp('2003-10-09 00:00:00', freq='D'), Series([], dtype: float64))\n",
      "(Timestamp('2003-10-10 00:00:00', freq='D'), Series([], dtype: float64))\n",
      "(Timestamp('2003-10-11 00:00:00', freq='D'), Series([], dtype: float64))\n",
      "(Timestamp('2003-10-12 00:00:00', freq='D'), Series([], dtype: float64))\n",
      "(Timestamp('2003-10-13 00:00:00', freq='D'), Series([], dtype: float64))\n",
      "(Timestamp('2003-10-14 00:00:00', freq='D'), Series([], dtype: float64))\n",
      "(Timestamp('2003-10-15 00:00:00', freq='D'), Series([], dtype: float64))\n",
      "(Timestamp('2003-10-16 00:00:00', freq='D'), Series([], dtype: float64))\n",
      "(Timestamp('2003-10-17 00:00:00', freq='D'), Series([], dtype: float64))\n",
      "(Timestamp('2003-10-18 00:00:00', freq='D'), Series([], dtype: float64))\n",
      "(Timestamp('2003-10-19 00:00:00', freq='D'), Series([], dtype: float64))\n",
      "(Timestamp('2003-10-20 00:00:00', freq='D'), Series([], dtype: float64))\n",
      "(Timestamp('2003-10-21 00:00:00', freq='D'), Series([], dtype: float64))\n",
      "(Timestamp('2003-10-22 00:00:00', freq='D'), Series([], dtype: float64))\n",
      "(Timestamp('2003-10-23 00:00:00', freq='D'), Series([], dtype: float64))\n",
      "(Timestamp('2003-10-24 00:00:00', freq='D'), Series([], dtype: float64))\n",
      "(Timestamp('2003-10-25 00:00:00', freq='D'), Series([], dtype: float64))\n",
      "(Timestamp('2003-10-26 00:00:00', freq='D'), Series([], dtype: float64))\n",
      "(Timestamp('2003-10-27 00:00:00', freq='D'), Series([], dtype: float64))\n",
      "(Timestamp('2003-10-28 00:00:00', freq='D'), Series([], dtype: float64))\n",
      "(Timestamp('2003-10-29 00:00:00', freq='D'), Series([], dtype: float64))\n",
      "(Timestamp('2003-10-30 00:00:00', freq='D'), Series([], dtype: float64))\n",
      "(Timestamp('2003-10-31 00:00:00', freq='D'), Series([], dtype: float64))\n",
      "(Timestamp('2003-11-01 00:00:00', freq='D'), Series([], dtype: float64))\n",
      "(Timestamp('2003-11-02 00:00:00', freq='D'), Series([], dtype: float64))\n",
      "(Timestamp('2003-11-03 00:00:00', freq='D'), Series([], dtype: float64))\n",
      "(Timestamp('2003-11-04 00:00:00', freq='D'), Series([], dtype: float64))\n",
      "(Timestamp('2003-11-05 00:00:00', freq='D'), Series([], dtype: float64))\n",
      "(Timestamp('2003-11-06 00:00:00', freq='D'), Series([], dtype: float64))\n",
      "(Timestamp('2003-11-07 00:00:00', freq='D'), Series([], dtype: float64))\n",
      "(Timestamp('2003-11-08 00:00:00', freq='D'), Series([], dtype: float64))\n",
      "(Timestamp('2003-11-09 00:00:00', freq='D'), Series([], dtype: float64))\n",
      "(Timestamp('2003-11-10 00:00:00', freq='D'), Series([], dtype: float64))\n",
      "(Timestamp('2003-11-11 00:00:00', freq='D'), Series([], dtype: float64))\n",
      "(Timestamp('2003-11-12 00:00:00', freq='D'), Series([], dtype: float64))\n",
      "(Timestamp('2003-11-13 00:00:00', freq='D'), Series([], dtype: float64))\n",
      "(Timestamp('2003-11-14 00:00:00', freq='D'), Series([], dtype: float64))\n",
      "(Timestamp('2003-11-15 00:00:00', freq='D'), Series([], dtype: float64))\n",
      "(Timestamp('2003-11-16 00:00:00', freq='D'), Series([], dtype: float64))\n",
      "(Timestamp('2003-11-17 00:00:00', freq='D'), Series([], dtype: float64))\n",
      "(Timestamp('2003-11-18 00:00:00', freq='D'), Series([], dtype: float64))\n",
      "(Timestamp('2003-11-19 00:00:00', freq='D'), Series([], dtype: float64))\n",
      "(Timestamp('2003-11-20 00:00:00', freq='D'), Series([], dtype: float64))\n",
      "(Timestamp('2003-11-21 00:00:00', freq='D'), Series([], dtype: float64))\n",
      "(Timestamp('2003-11-22 00:00:00', freq='D'), Series([], dtype: float64))\n",
      "(Timestamp('2003-11-23 00:00:00', freq='D'), Series([], dtype: float64))\n",
      "(Timestamp('2003-11-24 00:00:00', freq='D'), Series([], dtype: float64))\n",
      "(Timestamp('2003-11-25 00:00:00', freq='D'), Series([], dtype: float64))\n",
      "(Timestamp('2003-11-26 00:00:00', freq='D'), Series([], dtype: float64))\n",
      "(Timestamp('2003-11-27 00:00:00', freq='D'), Series([], dtype: float64))\n",
      "(Timestamp('2003-11-28 00:00:00', freq='D'), Series([], dtype: float64))\n",
      "(Timestamp('2003-11-29 00:00:00', freq='D'), Series([], dtype: float64))\n",
      "(Timestamp('2003-11-30 00:00:00', freq='D'), Series([], dtype: float64))\n",
      "(Timestamp('2003-12-01 00:00:00', freq='D'), Series([], dtype: float64))\n",
      "(Timestamp('2003-12-02 00:00:00', freq='D'), Series([], dtype: float64))\n",
      "(Timestamp('2003-12-03 00:00:00', freq='D'), Series([], dtype: float64))\n",
      "(Timestamp('2003-12-04 00:00:00', freq='D'), Series([], dtype: float64))\n",
      "(Timestamp('2003-12-05 00:00:00', freq='D'), Series([], dtype: float64))\n",
      "(Timestamp('2003-12-06 00:00:00', freq='D'), Series([], dtype: float64))\n",
      "(Timestamp('2003-12-07 00:00:00', freq='D'), Series([], dtype: float64))\n",
      "(Timestamp('2003-12-08 00:00:00', freq='D'), Series([], dtype: float64))\n",
      "(Timestamp('2003-12-09 00:00:00', freq='D'), Series([], dtype: float64))\n",
      "(Timestamp('2003-12-10 00:00:00', freq='D'), Series([], dtype: float64))\n",
      "(Timestamp('2003-12-11 00:00:00', freq='D'), Series([], dtype: float64))\n",
      "(Timestamp('2003-12-12 00:00:00', freq='D'), Series([], dtype: float64))\n",
      "(Timestamp('2003-12-13 00:00:00', freq='D'), Series([], dtype: float64))\n",
      "(Timestamp('2003-12-14 00:00:00', freq='D'), Series([], dtype: float64))\n",
      "(Timestamp('2003-12-15 00:00:00', freq='D'), Series([], dtype: float64))\n",
      "(Timestamp('2003-12-16 00:00:00', freq='D'), Series([], dtype: float64))\n",
      "(Timestamp('2003-12-17 00:00:00', freq='D'), Series([], dtype: float64))\n",
      "(Timestamp('2003-12-18 00:00:00', freq='D'), Series([], dtype: float64))\n",
      "(Timestamp('2003-12-19 00:00:00', freq='D'), Series([], dtype: float64))\n",
      "(Timestamp('2003-12-20 00:00:00', freq='D'), Series([], dtype: float64))\n",
      "(Timestamp('2003-12-21 00:00:00', freq='D'), Series([], dtype: float64))\n",
      "(Timestamp('2003-12-22 00:00:00', freq='D'), Series([], dtype: float64))\n",
      "(Timestamp('2003-12-23 00:00:00', freq='D'), Series([], dtype: float64))\n",
      "(Timestamp('2003-12-24 00:00:00', freq='D'), Series([], dtype: float64))\n",
      "(Timestamp('2003-12-25 00:00:00', freq='D'), Series([], dtype: float64))\n",
      "(Timestamp('2003-12-26 00:00:00', freq='D'), Series([], dtype: float64))\n",
      "(Timestamp('2003-12-27 00:00:00', freq='D'), Series([], dtype: float64))\n",
      "(Timestamp('2003-12-28 00:00:00', freq='D'), Series([], dtype: float64))\n",
      "(Timestamp('2003-12-29 00:00:00', freq='D'), Series([], dtype: float64))\n",
      "(Timestamp('2003-12-30 00:00:00', freq='D'), Series([], dtype: float64))\n",
      "(Timestamp('2003-12-31 00:00:00', freq='D'), Series([], dtype: float64))\n",
      "(Timestamp('2004-01-01 00:00:00', freq='D'), Series([], dtype: float64))\n",
      "(Timestamp('2004-01-02 00:00:00', freq='D'), Series([], dtype: float64))\n",
      "(Timestamp('2004-01-03 00:00:00', freq='D'), Series([], dtype: float64))\n",
      "(Timestamp('2004-01-04 00:00:00', freq='D'), Series([], dtype: float64))\n",
      "(Timestamp('2004-01-05 00:00:00', freq='D'), Series([], dtype: float64))\n",
      "(Timestamp('2004-01-06 00:00:00', freq='D'), Series([], dtype: float64))\n",
      "(Timestamp('2004-01-07 00:00:00', freq='D'), Series([], dtype: float64))\n",
      "(Timestamp('2004-01-08 00:00:00', freq='D'), Series([], dtype: float64))\n",
      "(Timestamp('2004-01-09 00:00:00', freq='D'), Series([], dtype: float64))\n",
      "(Timestamp('2004-01-10 00:00:00', freq='D'), Series([], dtype: float64))\n",
      "(Timestamp('2004-01-11 00:00:00', freq='D'), Series([], dtype: float64))\n",
      "(Timestamp('2004-01-12 00:00:00', freq='D'), Series([], dtype: float64))\n",
      "(Timestamp('2004-01-13 00:00:00', freq='D'), Series([], dtype: float64))\n",
      "(Timestamp('2004-01-14 00:00:00', freq='D'), Series([], dtype: float64))\n",
      "(Timestamp('2004-01-15 00:00:00', freq='D'), Series([], dtype: float64))\n",
      "(Timestamp('2004-01-16 00:00:00', freq='D'), Series([], dtype: float64))\n",
      "(Timestamp('2004-01-17 00:00:00', freq='D'), Series([], dtype: float64))\n",
      "(Timestamp('2004-01-18 00:00:00', freq='D'), Series([], dtype: float64))\n",
      "(Timestamp('2004-01-19 00:00:00', freq='D'), Series([], dtype: float64))\n",
      "(Timestamp('2004-01-20 00:00:00', freq='D'), Series([], dtype: float64))\n",
      "(Timestamp('2004-01-21 00:00:00', freq='D'), Series([], dtype: float64))\n",
      "(Timestamp('2004-01-22 00:00:00', freq='D'), Series([], dtype: float64))\n",
      "(Timestamp('2004-01-23 00:00:00', freq='D'), Series([], dtype: float64))\n",
      "(Timestamp('2004-01-24 00:00:00', freq='D'), Series([], dtype: float64))\n",
      "(Timestamp('2004-01-25 00:00:00', freq='D'), Series([], dtype: float64))\n",
      "(Timestamp('2004-01-26 00:00:00', freq='D'), Series([], dtype: float64))\n",
      "(Timestamp('2004-01-27 00:00:00', freq='D'), Series([], dtype: float64))\n",
      "(Timestamp('2004-01-28 00:00:00', freq='D'), Series([], dtype: float64))\n",
      "(Timestamp('2004-01-29 00:00:00', freq='D'), Series([], dtype: float64))\n",
      "(Timestamp('2004-01-30 00:00:00', freq='D'), Series([], dtype: float64))\n",
      "(Timestamp('2004-01-31 00:00:00', freq='D'), Series([], dtype: float64))\n",
      "(Timestamp('2004-02-01 00:00:00', freq='D'), Series([], dtype: float64))\n",
      "(Timestamp('2004-02-02 00:00:00', freq='D'), Series([], dtype: float64))\n",
      "(Timestamp('2004-02-03 00:00:00', freq='D'), Series([], dtype: float64))\n",
      "(Timestamp('2004-02-04 00:00:00', freq='D'), Series([], dtype: float64))\n",
      "(Timestamp('2004-02-05 00:00:00', freq='D'), Series([], dtype: float64))\n",
      "(Timestamp('2004-02-06 00:00:00', freq='D'), Series([], dtype: float64))\n",
      "(Timestamp('2004-02-07 00:00:00', freq='D'), Series([], dtype: float64))\n",
      "(Timestamp('2004-02-08 00:00:00', freq='D'), Series([], dtype: float64))\n",
      "(Timestamp('2004-02-09 00:00:00', freq='D'), Series([], dtype: float64))\n",
      "(Timestamp('2004-02-10 00:00:00', freq='D'), Series([], dtype: float64))\n",
      "(Timestamp('2004-02-11 00:00:00', freq='D'), Series([], dtype: float64))\n",
      "(Timestamp('2004-02-12 00:00:00', freq='D'), Series([], dtype: float64))\n",
      "(Timestamp('2004-02-13 00:00:00', freq='D'), Series([], dtype: float64))\n",
      "(Timestamp('2004-02-14 00:00:00', freq='D'), Series([], dtype: float64))\n",
      "(Timestamp('2004-02-15 00:00:00', freq='D'), Series([], dtype: float64))\n",
      "(Timestamp('2004-02-16 00:00:00', freq='D'), Series([], dtype: float64))\n",
      "(Timestamp('2004-02-17 00:00:00', freq='D'), Series([], dtype: float64))\n",
      "(Timestamp('2004-02-18 00:00:00', freq='D'), Series([], dtype: float64))\n",
      "(Timestamp('2004-02-19 00:00:00', freq='D'), Series([], dtype: float64))\n",
      "(Timestamp('2004-02-20 00:00:00', freq='D'), Series([], dtype: float64))\n",
      "(Timestamp('2004-02-21 00:00:00', freq='D'), Series([], dtype: float64))\n",
      "(Timestamp('2004-02-22 00:00:00', freq='D'), Series([], dtype: float64))\n",
      "(Timestamp('2004-02-23 00:00:00', freq='D'), Series([], dtype: float64))\n",
      "(Timestamp('2004-02-24 00:00:00', freq='D'), Series([], dtype: float64))\n",
      "(Timestamp('2004-02-25 00:00:00', freq='D'), Series([], dtype: float64))\n",
      "(Timestamp('2004-02-26 00:00:00', freq='D'), Series([], dtype: float64))\n",
      "(Timestamp('2004-02-27 00:00:00', freq='D'), Series([], dtype: float64))\n",
      "(Timestamp('2004-02-28 00:00:00', freq='D'), Series([], dtype: float64))\n",
      "(Timestamp('2004-02-29 00:00:00', freq='D'), Series([], dtype: float64))\n",
      "(Timestamp('2004-03-01 00:00:00', freq='D'), Series([], dtype: float64))\n",
      "(Timestamp('2004-03-02 00:00:00', freq='D'), Series([], dtype: float64))\n",
      "(Timestamp('2004-03-03 00:00:00', freq='D'), Series([], dtype: float64))\n",
      "(Timestamp('2004-03-04 00:00:00', freq='D'), Series([], dtype: float64))\n",
      "(Timestamp('2004-03-05 00:00:00', freq='D'), Series([], dtype: float64))\n",
      "(Timestamp('2004-03-06 00:00:00', freq='D'), Series([], dtype: float64))\n",
      "(Timestamp('2004-03-07 00:00:00', freq='D'), Series([], dtype: float64))\n",
      "(Timestamp('2004-03-08 00:00:00', freq='D'), Series([], dtype: float64))\n",
      "(Timestamp('2004-03-09 00:00:00', freq='D'), Series([], dtype: float64))\n",
      "(Timestamp('2004-03-10 00:00:00', freq='D'), Series([], dtype: float64))\n",
      "(Timestamp('2004-03-11 00:00:00', freq='D'), Series([], dtype: float64))\n",
      "(Timestamp('2004-03-12 00:00:00', freq='D'), Series([], dtype: float64))\n",
      "(Timestamp('2004-03-13 00:00:00', freq='D'), Series([], dtype: float64))\n",
      "(Timestamp('2004-03-14 00:00:00', freq='D'), Series([], dtype: float64))\n",
      "(Timestamp('2004-03-15 00:00:00', freq='D'), Series([], dtype: float64))\n",
      "(Timestamp('2004-03-16 00:00:00', freq='D'), Series([], dtype: float64))\n",
      "(Timestamp('2004-03-17 00:00:00', freq='D'), Series([], dtype: float64))\n",
      "(Timestamp('2004-03-18 00:00:00', freq='D'), Series([], dtype: float64))\n",
      "(Timestamp('2004-03-19 00:00:00', freq='D'), Series([], dtype: float64))\n",
      "(Timestamp('2004-03-20 00:00:00', freq='D'), Series([], dtype: float64))\n",
      "(Timestamp('2004-03-21 00:00:00', freq='D'), Series([], dtype: float64))\n",
      "(Timestamp('2004-03-22 00:00:00', freq='D'), Series([], dtype: float64))\n",
      "(Timestamp('2004-03-23 00:00:00', freq='D'), Series([], dtype: float64))\n",
      "(Timestamp('2004-03-24 00:00:00', freq='D'), Series([], dtype: float64))\n",
      "(Timestamp('2004-03-25 00:00:00', freq='D'), Series([], dtype: float64))\n",
      "(Timestamp('2004-03-26 00:00:00', freq='D'), Series([], dtype: float64))\n",
      "(Timestamp('2004-03-27 00:00:00', freq='D'), Series([], dtype: float64))\n",
      "(Timestamp('2004-03-28 00:00:00', freq='D'), Series([], dtype: float64))\n",
      "(Timestamp('2004-03-29 00:00:00', freq='D'), Series([], dtype: float64))\n",
      "(Timestamp('2004-03-30 00:00:00', freq='D'), Series([], dtype: float64))\n",
      "(Timestamp('2004-03-31 00:00:00', freq='D'), Series([], dtype: float64))\n",
      "(Timestamp('2004-04-01 00:00:00', freq='D'), Series([], dtype: float64))\n",
      "(Timestamp('2004-04-02 00:00:00', freq='D'), Series([], dtype: float64))\n",
      "(Timestamp('2004-04-03 00:00:00', freq='D'), Series([], dtype: float64))\n",
      "(Timestamp('2004-04-04 00:00:00', freq='D'), Series([], dtype: float64))\n",
      "(Timestamp('2004-04-05 00:00:00', freq='D'), Series([], dtype: float64))\n",
      "(Timestamp('2004-04-06 00:00:00', freq='D'), Series([], dtype: float64))\n",
      "(Timestamp('2004-04-07 00:00:00', freq='D'), Series([], dtype: float64))\n",
      "(Timestamp('2004-04-08 00:00:00', freq='D'), Series([], dtype: float64))\n",
      "(Timestamp('2004-04-09 00:00:00', freq='D'), Series([], dtype: float64))\n",
      "(Timestamp('2004-04-10 00:00:00', freq='D'), Series([], dtype: float64))\n",
      "(Timestamp('2004-04-11 00:00:00', freq='D'), Series([], dtype: float64))\n",
      "(Timestamp('2004-04-12 00:00:00', freq='D'), Series([], dtype: float64))\n",
      "(Timestamp('2004-04-13 00:00:00', freq='D'), Series([], dtype: float64))\n",
      "(Timestamp('2004-04-14 00:00:00', freq='D'), Series([], dtype: float64))\n",
      "(Timestamp('2004-04-15 00:00:00', freq='D'), Series([], dtype: float64))\n",
      "(Timestamp('2004-04-16 00:00:00', freq='D'), Series([], dtype: float64))\n",
      "(Timestamp('2004-04-17 00:00:00', freq='D'), Series([], dtype: float64))\n",
      "(Timestamp('2004-04-18 00:00:00', freq='D'), Series([], dtype: float64))\n",
      "(Timestamp('2004-04-19 00:00:00', freq='D'), Series([], dtype: float64))\n",
      "(Timestamp('2004-04-20 00:00:00', freq='D'), Series([], dtype: float64))\n",
      "(Timestamp('2004-04-21 00:00:00', freq='D'), Series([], dtype: float64))\n",
      "(Timestamp('2004-04-22 00:00:00', freq='D'), Series([], dtype: float64))\n",
      "(Timestamp('2004-04-23 00:00:00', freq='D'), Series([], dtype: float64))\n",
      "(Timestamp('2004-04-24 00:00:00', freq='D'), Series([], dtype: float64))\n",
      "(Timestamp('2004-04-25 00:00:00', freq='D'), Series([], dtype: float64))\n",
      "(Timestamp('2004-04-26 00:00:00', freq='D'), Series([], dtype: float64))\n",
      "(Timestamp('2004-04-27 00:00:00', freq='D'), Series([], dtype: float64))\n",
      "(Timestamp('2004-04-28 00:00:00', freq='D'), Series([], dtype: float64))\n",
      "(Timestamp('2004-04-29 00:00:00', freq='D'), Series([], dtype: float64))\n",
      "(Timestamp('2004-04-30 00:00:00', freq='D'), Series([], dtype: float64))\n",
      "(Timestamp('2004-05-01 00:00:00', freq='D'), Series([], dtype: float64))\n",
      "(Timestamp('2004-05-02 00:00:00', freq='D'), Series([], dtype: float64))\n",
      "(Timestamp('2004-05-03 00:00:00', freq='D'), Series([], dtype: float64))\n",
      "(Timestamp('2004-05-04 00:00:00', freq='D'), Series([], dtype: float64))\n",
      "(Timestamp('2004-05-05 00:00:00', freq='D'), Series([], dtype: float64))\n",
      "(Timestamp('2004-05-06 00:00:00', freq='D'), Series([], dtype: float64))\n",
      "(Timestamp('2004-05-07 00:00:00', freq='D'), Series([], dtype: float64))\n",
      "(Timestamp('2004-05-08 00:00:00', freq='D'), Series([], dtype: float64))\n",
      "(Timestamp('2004-05-09 00:00:00', freq='D'), Series([], dtype: float64))\n",
      "(Timestamp('2004-05-10 00:00:00', freq='D'), Series([], dtype: float64))\n",
      "(Timestamp('2004-05-11 00:00:00', freq='D'), Series([], dtype: float64))\n",
      "(Timestamp('2004-05-12 00:00:00', freq='D'), Series([], dtype: float64))\n",
      "(Timestamp('2004-05-13 00:00:00', freq='D'), Series([], dtype: float64))\n",
      "(Timestamp('2004-05-14 00:00:00', freq='D'), Series([], dtype: float64))\n",
      "(Timestamp('2004-05-15 00:00:00', freq='D'), Series([], dtype: float64))\n",
      "(Timestamp('2004-05-16 00:00:00', freq='D'), Series([], dtype: float64))\n",
      "(Timestamp('2004-05-17 00:00:00', freq='D'), Series([], dtype: float64))\n",
      "(Timestamp('2004-05-18 00:00:00', freq='D'), Series([], dtype: float64))\n",
      "(Timestamp('2004-05-19 00:00:00', freq='D'), Series([], dtype: float64))\n",
      "(Timestamp('2004-05-20 00:00:00', freq='D'), Series([], dtype: float64))\n",
      "(Timestamp('2004-05-21 00:00:00', freq='D'), Series([], dtype: float64))\n",
      "(Timestamp('2004-05-22 00:00:00', freq='D'), Series([], dtype: float64))\n",
      "(Timestamp('2004-05-23 00:00:00', freq='D'), Series([], dtype: float64))\n",
      "(Timestamp('2004-05-24 00:00:00', freq='D'), Series([], dtype: float64))\n",
      "(Timestamp('2004-05-25 00:00:00', freq='D'), Series([], dtype: float64))\n",
      "(Timestamp('2004-05-26 00:00:00', freq='D'), Series([], dtype: float64))\n",
      "(Timestamp('2004-05-27 00:00:00', freq='D'), Series([], dtype: float64))\n",
      "(Timestamp('2004-05-28 00:00:00', freq='D'), Series([], dtype: float64))\n",
      "(Timestamp('2004-05-29 00:00:00', freq='D'), Series([], dtype: float64))\n",
      "(Timestamp('2004-05-30 00:00:00', freq='D'), Series([], dtype: float64))\n",
      "(Timestamp('2004-05-31 00:00:00', freq='D'), Series([], dtype: float64))\n",
      "(Timestamp('2004-06-01 00:00:00', freq='D'), Series([], dtype: float64))\n",
      "(Timestamp('2004-06-02 00:00:00', freq='D'), Series([], dtype: float64))\n",
      "(Timestamp('2004-06-03 00:00:00', freq='D'), Series([], dtype: float64))\n",
      "(Timestamp('2004-06-04 00:00:00', freq='D'), Series([], dtype: float64))\n",
      "(Timestamp('2004-06-05 00:00:00', freq='D'), Series([], dtype: float64))\n",
      "(Timestamp('2004-06-06 00:00:00', freq='D'), Series([], dtype: float64))\n",
      "(Timestamp('2004-06-07 00:00:00', freq='D'), Series([], dtype: float64))\n",
      "(Timestamp('2004-06-08 00:00:00', freq='D'), Series([], dtype: float64))\n",
      "(Timestamp('2004-06-09 00:00:00', freq='D'), Series([], dtype: float64))\n",
      "(Timestamp('2004-06-10 00:00:00', freq='D'), Series([], dtype: float64))\n",
      "(Timestamp('2004-06-11 00:00:00', freq='D'), Series([], dtype: float64))\n",
      "(Timestamp('2004-06-12 00:00:00', freq='D'), Series([], dtype: float64))\n",
      "(Timestamp('2004-06-13 00:00:00', freq='D'), Series([], dtype: float64))\n",
      "(Timestamp('2004-06-14 00:00:00', freq='D'), Series([], dtype: float64))\n",
      "(Timestamp('2004-06-15 00:00:00', freq='D'), Series([], dtype: float64))\n",
      "(Timestamp('2004-06-16 00:00:00', freq='D'), Series([], dtype: float64))\n",
      "(Timestamp('2004-06-17 00:00:00', freq='D'), Series([], dtype: float64))\n",
      "(Timestamp('2004-06-18 00:00:00', freq='D'), Series([], dtype: float64))\n",
      "(Timestamp('2004-06-19 00:00:00', freq='D'), Series([], dtype: float64))\n",
      "(Timestamp('2004-06-20 00:00:00', freq='D'), Series([], dtype: float64))\n",
      "(Timestamp('2004-06-21 00:00:00', freq='D'), Series([], dtype: float64))\n",
      "(Timestamp('2004-06-22 00:00:00', freq='D'), Series([], dtype: float64))\n",
      "(Timestamp('2004-06-23 00:00:00', freq='D'), Series([], dtype: float64))\n",
      "(Timestamp('2004-06-24 00:00:00', freq='D'), Series([], dtype: float64))\n",
      "(Timestamp('2004-06-25 00:00:00', freq='D'), Series([], dtype: float64))\n",
      "(Timestamp('2004-06-26 00:00:00', freq='D'), Series([], dtype: float64))\n",
      "(Timestamp('2004-06-27 00:00:00', freq='D'), Series([], dtype: float64))\n",
      "(Timestamp('2004-06-28 00:00:00', freq='D'), Series([], dtype: float64))\n",
      "(Timestamp('2004-06-29 00:00:00', freq='D'), Series([], dtype: float64))\n",
      "(Timestamp('2004-06-30 00:00:00', freq='D'), Series([], dtype: float64))\n",
      "(Timestamp('2004-07-01 00:00:00', freq='D'), Series([], dtype: float64))\n",
      "(Timestamp('2004-07-02 00:00:00', freq='D'), Series([], dtype: float64))\n",
      "(Timestamp('2004-07-03 00:00:00', freq='D'), Series([], dtype: float64))\n",
      "(Timestamp('2004-07-04 00:00:00', freq='D'), Series([], dtype: float64))\n",
      "(Timestamp('2004-07-05 00:00:00', freq='D'), Series([], dtype: float64))\n",
      "(Timestamp('2004-07-06 00:00:00', freq='D'), Series([], dtype: float64))\n",
      "(Timestamp('2004-07-07 00:00:00', freq='D'), Series([], dtype: float64))\n",
      "(Timestamp('2004-07-08 00:00:00', freq='D'), Series([], dtype: float64))\n",
      "(Timestamp('2004-07-09 00:00:00', freq='D'), Series([], dtype: float64))\n",
      "(Timestamp('2004-07-10 00:00:00', freq='D'), Series([], dtype: float64))\n",
      "(Timestamp('2004-07-11 00:00:00', freq='D'), Series([], dtype: float64))\n",
      "(Timestamp('2004-07-12 00:00:00', freq='D'), Series([], dtype: float64))\n",
      "(Timestamp('2004-07-13 00:00:00', freq='D'), Series([], dtype: float64))\n",
      "(Timestamp('2004-07-14 00:00:00', freq='D'), Series([], dtype: float64))\n",
      "(Timestamp('2004-07-15 00:00:00', freq='D'), Series([], dtype: float64))\n",
      "(Timestamp('2004-07-16 00:00:00', freq='D'), Series([], dtype: float64))\n",
      "(Timestamp('2004-07-17 00:00:00', freq='D'), Series([], dtype: float64))\n",
      "(Timestamp('2004-07-18 00:00:00', freq='D'), Series([], dtype: float64))\n",
      "(Timestamp('2004-07-19 00:00:00', freq='D'), Series([], dtype: float64))\n",
      "(Timestamp('2004-07-20 00:00:00', freq='D'), Series([], dtype: float64))\n",
      "(Timestamp('2004-07-21 00:00:00', freq='D'), Series([], dtype: float64))\n",
      "(Timestamp('2004-07-22 00:00:00', freq='D'), Series([], dtype: float64))\n",
      "(Timestamp('2004-07-23 00:00:00', freq='D'), Series([], dtype: float64))\n",
      "(Timestamp('2004-07-24 00:00:00', freq='D'), Series([], dtype: float64))\n",
      "(Timestamp('2004-07-25 00:00:00', freq='D'), Series([], dtype: float64))\n",
      "(Timestamp('2004-07-26 00:00:00', freq='D'), Series([], dtype: float64))\n",
      "(Timestamp('2004-07-27 00:00:00', freq='D'), Series([], dtype: float64))\n",
      "(Timestamp('2004-07-28 00:00:00', freq='D'), Series([], dtype: float64))\n",
      "(Timestamp('2004-07-29 00:00:00', freq='D'), Series([], dtype: float64))\n",
      "(Timestamp('2004-07-30 00:00:00', freq='D'), Series([], dtype: float64))\n",
      "(Timestamp('2004-07-31 00:00:00', freq='D'), Series([], dtype: float64))\n",
      "(Timestamp('2004-08-01 00:00:00', freq='D'), Series([], dtype: float64))\n",
      "(Timestamp('2004-08-02 00:00:00', freq='D'), Series([], dtype: float64))\n",
      "(Timestamp('2004-08-03 00:00:00', freq='D'), Series([], dtype: float64))\n",
      "(Timestamp('2004-08-04 00:00:00', freq='D'), Series([], dtype: float64))\n",
      "(Timestamp('2004-08-05 00:00:00', freq='D'), Series([], dtype: float64))\n",
      "(Timestamp('2004-08-06 00:00:00', freq='D'), Series([], dtype: float64))\n",
      "(Timestamp('2004-08-07 00:00:00', freq='D'), Series([], dtype: float64))\n",
      "(Timestamp('2004-08-08 00:00:00', freq='D'), Series([], dtype: float64))\n",
      "(Timestamp('2004-08-09 00:00:00', freq='D'), Series([], dtype: float64))\n",
      "(Timestamp('2004-08-10 00:00:00', freq='D'), Series([], dtype: float64))\n",
      "(Timestamp('2004-08-11 00:00:00', freq='D'), Series([], dtype: float64))\n",
      "(Timestamp('2004-08-12 00:00:00', freq='D'), Series([], dtype: float64))\n",
      "(Timestamp('2004-08-13 00:00:00', freq='D'), Series([], dtype: float64))\n",
      "(Timestamp('2004-08-14 00:00:00', freq='D'), Series([], dtype: float64))\n",
      "(Timestamp('2004-08-15 00:00:00', freq='D'), Series([], dtype: float64))\n",
      "(Timestamp('2004-08-16 00:00:00', freq='D'), Series([], dtype: float64))\n",
      "(Timestamp('2004-08-17 00:00:00', freq='D'), Series([], dtype: float64))\n",
      "(Timestamp('2004-08-18 00:00:00', freq='D'), Series([], dtype: float64))\n",
      "(Timestamp('2004-08-19 00:00:00', freq='D'), Series([], dtype: float64))\n",
      "(Timestamp('2004-08-20 00:00:00', freq='D'), Series([], dtype: float64))\n",
      "(Timestamp('2004-08-21 00:00:00', freq='D'), Series([], dtype: float64))\n",
      "(Timestamp('2004-08-22 00:00:00', freq='D'), Series([], dtype: float64))\n",
      "(Timestamp('2004-08-23 00:00:00', freq='D'), Series([], dtype: float64))\n",
      "(Timestamp('2004-08-24 00:00:00', freq='D'), Series([], dtype: float64))\n",
      "(Timestamp('2004-08-25 00:00:00', freq='D'), Series([], dtype: float64))\n",
      "(Timestamp('2004-08-26 00:00:00', freq='D'), Series([], dtype: float64))\n",
      "(Timestamp('2004-08-27 00:00:00', freq='D'), Series([], dtype: float64))\n",
      "(Timestamp('2004-08-28 00:00:00', freq='D'), Series([], dtype: float64))\n",
      "(Timestamp('2004-08-29 00:00:00', freq='D'), Series([], dtype: float64))\n",
      "(Timestamp('2004-08-30 00:00:00', freq='D'), Series([], dtype: float64))\n",
      "(Timestamp('2004-08-31 00:00:00', freq='D'), Series([], dtype: float64))\n",
      "(Timestamp('2004-09-01 00:00:00', freq='D'), Series([], dtype: float64))\n",
      "(Timestamp('2004-09-02 00:00:00', freq='D'), Series([], dtype: float64))\n",
      "(Timestamp('2004-09-03 00:00:00', freq='D'), Series([], dtype: float64))\n",
      "(Timestamp('2004-09-04 00:00:00', freq='D'), Series([], dtype: float64))\n",
      "(Timestamp('2004-09-05 00:00:00', freq='D'), Series([], dtype: float64))\n",
      "(Timestamp('2004-09-06 00:00:00', freq='D'), Series([], dtype: float64))\n",
      "(Timestamp('2004-09-07 00:00:00', freq='D'), Series([], dtype: float64))\n",
      "(Timestamp('2004-09-08 00:00:00', freq='D'), Series([], dtype: float64))\n",
      "(Timestamp('2004-09-09 00:00:00', freq='D'), Series([], dtype: float64))\n",
      "(Timestamp('2004-09-10 00:00:00', freq='D'), Series([], dtype: float64))\n",
      "(Timestamp('2004-09-11 00:00:00', freq='D'), Series([], dtype: float64))\n",
      "(Timestamp('2004-09-12 00:00:00', freq='D'), Series([], dtype: float64))\n",
      "(Timestamp('2004-09-13 00:00:00', freq='D'), Series([], dtype: float64))\n",
      "(Timestamp('2004-09-14 00:00:00', freq='D'), Series([], dtype: float64))\n",
      "(Timestamp('2004-09-15 00:00:00', freq='D'), Series([], dtype: float64))\n",
      "(Timestamp('2004-09-16 00:00:00', freq='D'), Series([], dtype: float64))\n",
      "(Timestamp('2004-09-17 00:00:00', freq='D'), Series([], dtype: float64))\n",
      "(Timestamp('2004-09-18 00:00:00', freq='D'), Series([], dtype: float64))\n",
      "(Timestamp('2004-09-19 00:00:00', freq='D'), Series([], dtype: float64))\n",
      "(Timestamp('2004-09-20 00:00:00', freq='D'), Series([], dtype: float64))\n",
      "(Timestamp('2004-09-21 00:00:00', freq='D'), Series([], dtype: float64))\n",
      "(Timestamp('2004-09-22 00:00:00', freq='D'), Series([], dtype: float64))\n",
      "(Timestamp('2004-09-23 00:00:00', freq='D'), Series([], dtype: float64))\n",
      "(Timestamp('2004-09-24 00:00:00', freq='D'), Series([], dtype: float64))\n",
      "(Timestamp('2004-09-25 00:00:00', freq='D'), Series([], dtype: float64))\n",
      "(Timestamp('2004-09-26 00:00:00', freq='D'), Series([], dtype: float64))\n",
      "(Timestamp('2004-09-27 00:00:00', freq='D'), Series([], dtype: float64))\n",
      "(Timestamp('2004-09-28 00:00:00', freq='D'), Series([], dtype: float64))\n",
      "(Timestamp('2004-09-29 00:00:00', freq='D'), Series([], dtype: float64))\n",
      "(Timestamp('2004-09-30 00:00:00', freq='D'), Series([], dtype: float64))\n",
      "(Timestamp('2004-10-01 00:00:00', freq='D'), Series([], dtype: float64))\n",
      "(Timestamp('2004-10-02 00:00:00', freq='D'), Series([], dtype: float64))\n",
      "(Timestamp('2004-10-03 00:00:00', freq='D'), Series([], dtype: float64))\n",
      "(Timestamp('2004-10-04 00:00:00', freq='D'), Series([], dtype: float64))\n",
      "(Timestamp('2004-10-05 00:00:00', freq='D'), Series([], dtype: float64))\n",
      "(Timestamp('2004-10-06 00:00:00', freq='D'), Series([], dtype: float64))\n",
      "(Timestamp('2004-10-07 00:00:00', freq='D'), Series([], dtype: float64))\n",
      "(Timestamp('2004-10-08 00:00:00', freq='D'), Series([], dtype: float64))\n",
      "(Timestamp('2004-10-09 00:00:00', freq='D'), Series([], dtype: float64))\n",
      "(Timestamp('2004-10-10 00:00:00', freq='D'), Series([], dtype: float64))\n",
      "(Timestamp('2004-10-11 00:00:00', freq='D'), Series([], dtype: float64))\n",
      "(Timestamp('2004-10-12 00:00:00', freq='D'), Series([], dtype: float64))\n",
      "(Timestamp('2004-10-13 00:00:00', freq='D'), Series([], dtype: float64))\n",
      "(Timestamp('2004-10-14 00:00:00', freq='D'), Series([], dtype: float64))\n",
      "(Timestamp('2004-10-15 00:00:00', freq='D'), Series([], dtype: float64))\n",
      "(Timestamp('2004-10-16 00:00:00', freq='D'), Series([], dtype: float64))\n",
      "(Timestamp('2004-10-17 00:00:00', freq='D'), Series([], dtype: float64))\n",
      "(Timestamp('2004-10-18 00:00:00', freq='D'), Series([], dtype: float64))\n",
      "(Timestamp('2004-10-19 00:00:00', freq='D'), Series([], dtype: float64))\n",
      "(Timestamp('2004-10-20 00:00:00', freq='D'), Series([], dtype: float64))\n",
      "(Timestamp('2004-10-21 00:00:00', freq='D'), Series([], dtype: float64))\n",
      "(Timestamp('2004-10-22 00:00:00', freq='D'), Series([], dtype: float64))\n",
      "(Timestamp('2004-10-23 00:00:00', freq='D'), Series([], dtype: float64))\n",
      "(Timestamp('2004-10-24 00:00:00', freq='D'), Series([], dtype: float64))\n",
      "(Timestamp('2004-10-25 00:00:00', freq='D'), Series([], dtype: float64))\n",
      "(Timestamp('2004-10-26 00:00:00', freq='D'), Series([], dtype: float64))\n",
      "(Timestamp('2004-10-27 00:00:00', freq='D'), Series([], dtype: float64))\n",
      "(Timestamp('2004-10-28 00:00:00', freq='D'), Series([], dtype: float64))\n",
      "(Timestamp('2004-10-29 00:00:00', freq='D'), Series([], dtype: float64))\n",
      "(Timestamp('2004-10-30 00:00:00', freq='D'), Series([], dtype: float64))\n",
      "(Timestamp('2004-10-31 00:00:00', freq='D'), Series([], dtype: float64))\n",
      "(Timestamp('2004-11-01 00:00:00', freq='D'), Series([], dtype: float64))\n",
      "(Timestamp('2004-11-02 00:00:00', freq='D'), Series([], dtype: float64))\n",
      "(Timestamp('2004-11-03 00:00:00', freq='D'), Series([], dtype: float64))\n",
      "(Timestamp('2004-11-04 00:00:00', freq='D'), Series([], dtype: float64))\n",
      "(Timestamp('2004-11-05 00:00:00', freq='D'), Series([], dtype: float64))\n",
      "(Timestamp('2004-11-06 00:00:00', freq='D'), Series([], dtype: float64))\n",
      "(Timestamp('2004-11-07 00:00:00', freq='D'), Series([], dtype: float64))\n",
      "(Timestamp('2004-11-08 00:00:00', freq='D'), Series([], dtype: float64))\n",
      "(Timestamp('2004-11-09 00:00:00', freq='D'), Series([], dtype: float64))\n",
      "(Timestamp('2004-11-10 00:00:00', freq='D'), Series([], dtype: float64))\n",
      "(Timestamp('2004-11-11 00:00:00', freq='D'), Series([], dtype: float64))\n",
      "(Timestamp('2004-11-12 00:00:00', freq='D'), Series([], dtype: float64))\n",
      "(Timestamp('2004-11-13 00:00:00', freq='D'), Series([], dtype: float64))\n",
      "(Timestamp('2004-11-14 00:00:00', freq='D'), Series([], dtype: float64))\n",
      "(Timestamp('2004-11-15 00:00:00', freq='D'), Series([], dtype: float64))\n",
      "(Timestamp('2004-11-16 00:00:00', freq='D'), Series([], dtype: float64))\n",
      "(Timestamp('2004-11-17 00:00:00', freq='D'), Series([], dtype: float64))\n",
      "(Timestamp('2004-11-18 00:00:00', freq='D'), Series([], dtype: float64))\n",
      "(Timestamp('2004-11-19 00:00:00', freq='D'), Series([], dtype: float64))\n",
      "(Timestamp('2004-11-20 00:00:00', freq='D'), Series([], dtype: float64))\n",
      "(Timestamp('2004-11-21 00:00:00', freq='D'), Series([], dtype: float64))\n",
      "(Timestamp('2004-11-22 00:00:00', freq='D'), Series([], dtype: float64))\n",
      "(Timestamp('2004-11-23 00:00:00', freq='D'), Series([], dtype: float64))\n",
      "(Timestamp('2004-11-24 00:00:00', freq='D'), Series([], dtype: float64))\n",
      "(Timestamp('2004-11-25 00:00:00', freq='D'), Series([], dtype: float64))\n",
      "(Timestamp('2004-11-26 00:00:00', freq='D'), Series([], dtype: float64))\n",
      "(Timestamp('2004-11-27 00:00:00', freq='D'), Series([], dtype: float64))\n",
      "(Timestamp('2004-11-28 00:00:00', freq='D'), Series([], dtype: float64))\n",
      "(Timestamp('2004-11-29 00:00:00', freq='D'), Series([], dtype: float64))\n",
      "(Timestamp('2004-11-30 00:00:00', freq='D'), Series([], dtype: float64))\n",
      "(Timestamp('2004-12-01 00:00:00', freq='D'), Series([], dtype: float64))\n",
      "(Timestamp('2004-12-02 00:00:00', freq='D'), Series([], dtype: float64))\n",
      "(Timestamp('2004-12-03 00:00:00', freq='D'), Series([], dtype: float64))\n",
      "(Timestamp('2004-12-04 00:00:00', freq='D'), Series([], dtype: float64))\n",
      "(Timestamp('2004-12-05 00:00:00', freq='D'), Series([], dtype: float64))\n",
      "(Timestamp('2004-12-06 00:00:00', freq='D'), Series([], dtype: float64))\n",
      "(Timestamp('2004-12-07 00:00:00', freq='D'), Series([], dtype: float64))\n",
      "(Timestamp('2004-12-08 00:00:00', freq='D'), Series([], dtype: float64))\n",
      "(Timestamp('2004-12-09 00:00:00', freq='D'), Series([], dtype: float64))\n",
      "(Timestamp('2004-12-10 00:00:00', freq='D'), Series([], dtype: float64))\n",
      "(Timestamp('2004-12-11 00:00:00', freq='D'), Series([], dtype: float64))\n",
      "(Timestamp('2004-12-12 00:00:00', freq='D'), Series([], dtype: float64))\n",
      "(Timestamp('2004-12-13 00:00:00', freq='D'), Series([], dtype: float64))\n",
      "(Timestamp('2004-12-14 00:00:00', freq='D'), Series([], dtype: float64))\n",
      "(Timestamp('2004-12-15 00:00:00', freq='D'), Series([], dtype: float64))\n",
      "(Timestamp('2004-12-16 00:00:00', freq='D'), Series([], dtype: float64))\n",
      "(Timestamp('2004-12-17 00:00:00', freq='D'), Series([], dtype: float64))\n",
      "(Timestamp('2004-12-18 00:00:00', freq='D'), Series([], dtype: float64))\n",
      "(Timestamp('2004-12-19 00:00:00', freq='D'), Series([], dtype: float64))\n",
      "(Timestamp('2004-12-20 00:00:00', freq='D'), Series([], dtype: float64))\n",
      "(Timestamp('2004-12-21 00:00:00', freq='D'), Series([], dtype: float64))\n",
      "(Timestamp('2004-12-22 00:00:00', freq='D'), Series([], dtype: float64))\n",
      "(Timestamp('2004-12-23 00:00:00', freq='D'), Series([], dtype: float64))\n",
      "(Timestamp('2004-12-24 00:00:00', freq='D'), Series([], dtype: float64))\n",
      "(Timestamp('2004-12-25 00:00:00', freq='D'), Series([], dtype: float64))\n",
      "(Timestamp('2004-12-26 00:00:00', freq='D'), Series([], dtype: float64))\n",
      "(Timestamp('2004-12-27 00:00:00', freq='D'), Series([], dtype: float64))\n",
      "(Timestamp('2004-12-28 00:00:00', freq='D'), Series([], dtype: float64))\n",
      "(Timestamp('2004-12-29 00:00:00', freq='D'), Series([], dtype: float64))\n",
      "(Timestamp('2004-12-30 00:00:00', freq='D'), Series([], dtype: float64))\n",
      "(Timestamp('2004-12-31 00:00:00', freq='D'), Series([], dtype: float64))\n",
      "(Timestamp('2005-01-01 00:00:00', freq='D'), Series([], dtype: float64))\n",
      "(Timestamp('2005-01-02 00:00:00', freq='D'), Series([], dtype: float64))\n",
      "(Timestamp('2005-01-03 00:00:00', freq='D'), Series([], dtype: float64))\n",
      "(Timestamp('2005-01-04 00:00:00', freq='D'), Series([], dtype: float64))\n",
      "(Timestamp('2005-01-05 00:00:00', freq='D'), Series([], dtype: float64))\n",
      "(Timestamp('2005-01-06 00:00:00', freq='D'), Series([], dtype: float64))\n",
      "(Timestamp('2005-01-07 00:00:00', freq='D'), Series([], dtype: float64))\n",
      "(Timestamp('2005-01-08 00:00:00', freq='D'), Series([], dtype: float64))\n",
      "(Timestamp('2005-01-09 00:00:00', freq='D'), Series([], dtype: float64))\n",
      "(Timestamp('2005-01-10 00:00:00', freq='D'), Series([], dtype: float64))\n",
      "(Timestamp('2005-01-11 00:00:00', freq='D'), Series([], dtype: float64))\n",
      "(Timestamp('2005-01-12 00:00:00', freq='D'), Series([], dtype: float64))\n",
      "(Timestamp('2005-01-13 00:00:00', freq='D'), Series([], dtype: float64))\n",
      "(Timestamp('2005-01-14 00:00:00', freq='D'), Series([], dtype: float64))\n",
      "(Timestamp('2005-01-15 00:00:00', freq='D'), Series([], dtype: float64))\n",
      "(Timestamp('2005-01-16 00:00:00', freq='D'), Series([], dtype: float64))\n",
      "(Timestamp('2005-01-17 00:00:00', freq='D'), Series([], dtype: float64))\n",
      "(Timestamp('2005-01-18 00:00:00', freq='D'), Series([], dtype: float64))\n",
      "(Timestamp('2005-01-19 00:00:00', freq='D'), Series([], dtype: float64))\n",
      "(Timestamp('2005-01-20 00:00:00', freq='D'), Series([], dtype: float64))\n",
      "(Timestamp('2005-01-21 00:00:00', freq='D'), Series([], dtype: float64))\n",
      "(Timestamp('2005-01-22 00:00:00', freq='D'), Series([], dtype: float64))\n",
      "(Timestamp('2005-01-23 00:00:00', freq='D'), Series([], dtype: float64))\n",
      "(Timestamp('2005-01-24 00:00:00', freq='D'), Series([], dtype: float64))\n",
      "(Timestamp('2005-01-25 00:00:00', freq='D'), Series([], dtype: float64))\n",
      "(Timestamp('2005-01-26 00:00:00', freq='D'), Series([], dtype: float64))\n",
      "(Timestamp('2005-01-27 00:00:00', freq='D'), Series([], dtype: float64))\n",
      "(Timestamp('2005-01-28 00:00:00', freq='D'), Series([], dtype: float64))\n",
      "(Timestamp('2005-01-29 00:00:00', freq='D'), Series([], dtype: float64))\n",
      "(Timestamp('2005-01-30 00:00:00', freq='D'), Series([], dtype: float64))\n",
      "(Timestamp('2005-01-31 00:00:00', freq='D'), Series([], dtype: float64))\n",
      "(Timestamp('2005-02-01 00:00:00', freq='D'), Series([], dtype: float64))\n",
      "(Timestamp('2005-02-02 00:00:00', freq='D'), Series([], dtype: float64))\n",
      "(Timestamp('2005-02-03 00:00:00', freq='D'), Series([], dtype: float64))\n",
      "(Timestamp('2005-02-04 00:00:00', freq='D'), Series([], dtype: float64))\n",
      "(Timestamp('2005-02-05 00:00:00', freq='D'), Series([], dtype: float64))\n",
      "(Timestamp('2005-02-06 00:00:00', freq='D'), Series([], dtype: float64))\n",
      "(Timestamp('2005-02-07 00:00:00', freq='D'), Series([], dtype: float64))\n",
      "(Timestamp('2005-02-08 00:00:00', freq='D'), Series([], dtype: float64))\n",
      "(Timestamp('2005-02-09 00:00:00', freq='D'), Series([], dtype: float64))\n",
      "(Timestamp('2005-02-10 00:00:00', freq='D'), Series([], dtype: float64))\n",
      "(Timestamp('2005-02-11 00:00:00', freq='D'), Series([], dtype: float64))\n",
      "(Timestamp('2005-02-12 00:00:00', freq='D'), Series([], dtype: float64))\n",
      "(Timestamp('2005-02-13 00:00:00', freq='D'), Series([], dtype: float64))\n",
      "(Timestamp('2005-02-14 00:00:00', freq='D'), Series([], dtype: float64))\n",
      "(Timestamp('2005-02-15 00:00:00', freq='D'), Series([], dtype: float64))\n",
      "(Timestamp('2005-02-16 00:00:00', freq='D'), Series([], dtype: float64))\n",
      "(Timestamp('2005-02-17 00:00:00', freq='D'), Series([], dtype: float64))\n",
      "(Timestamp('2005-02-18 00:00:00', freq='D'), Series([], dtype: float64))\n",
      "(Timestamp('2005-02-19 00:00:00', freq='D'), Series([], dtype: float64))\n",
      "(Timestamp('2005-02-20 00:00:00', freq='D'), Series([], dtype: float64))\n",
      "(Timestamp('2005-02-21 00:00:00', freq='D'), Series([], dtype: float64))\n",
      "(Timestamp('2005-02-22 00:00:00', freq='D'), Series([], dtype: float64))\n",
      "(Timestamp('2005-02-23 00:00:00', freq='D'), Series([], dtype: float64))\n",
      "(Timestamp('2005-02-24 00:00:00', freq='D'), Series([], dtype: float64))\n",
      "(Timestamp('2005-02-25 00:00:00', freq='D'), Series([], dtype: float64))\n",
      "(Timestamp('2005-02-26 00:00:00', freq='D'), Series([], dtype: float64))\n",
      "(Timestamp('2005-02-27 00:00:00', freq='D'), Series([], dtype: float64))\n",
      "(Timestamp('2005-02-28 00:00:00', freq='D'), Series([], dtype: float64))\n",
      "(Timestamp('2005-03-01 00:00:00', freq='D'), Series([], dtype: float64))\n",
      "(Timestamp('2005-03-02 00:00:00', freq='D'), Series([], dtype: float64))\n",
      "(Timestamp('2005-03-03 00:00:00', freq='D'), Series([], dtype: float64))\n",
      "(Timestamp('2005-03-04 00:00:00', freq='D'), Series([], dtype: float64))\n",
      "(Timestamp('2005-03-05 00:00:00', freq='D'), Series([], dtype: float64))\n",
      "(Timestamp('2005-03-06 00:00:00', freq='D'), Series([], dtype: float64))\n",
      "(Timestamp('2005-03-07 00:00:00', freq='D'), Series([], dtype: float64))\n",
      "(Timestamp('2005-03-08 00:00:00', freq='D'), Series([], dtype: float64))\n",
      "(Timestamp('2005-03-09 00:00:00', freq='D'), Series([], dtype: float64))\n",
      "(Timestamp('2005-03-10 00:00:00', freq='D'), Series([], dtype: float64))\n",
      "(Timestamp('2005-03-11 00:00:00', freq='D'), Series([], dtype: float64))\n",
      "(Timestamp('2005-03-12 00:00:00', freq='D'), Series([], dtype: float64))\n",
      "(Timestamp('2005-03-13 00:00:00', freq='D'), Series([], dtype: float64))\n",
      "(Timestamp('2005-03-14 00:00:00', freq='D'), Series([], dtype: float64))\n",
      "(Timestamp('2005-03-15 00:00:00', freq='D'), Series([], dtype: float64))\n",
      "(Timestamp('2005-03-16 00:00:00', freq='D'), Series([], dtype: float64))\n",
      "(Timestamp('2005-03-17 00:00:00', freq='D'), Series([], dtype: float64))\n",
      "(Timestamp('2005-03-18 00:00:00', freq='D'), Series([], dtype: float64))\n",
      "(Timestamp('2005-03-19 00:00:00', freq='D'), Series([], dtype: float64))\n",
      "(Timestamp('2005-03-20 00:00:00', freq='D'), Series([], dtype: float64))\n",
      "(Timestamp('2005-03-21 00:00:00', freq='D'), Series([], dtype: float64))\n",
      "(Timestamp('2005-03-22 00:00:00', freq='D'), Series([], dtype: float64))\n",
      "(Timestamp('2005-03-23 00:00:00', freq='D'), Series([], dtype: float64))\n",
      "(Timestamp('2005-03-24 00:00:00', freq='D'), Series([], dtype: float64))\n",
      "(Timestamp('2005-03-25 00:00:00', freq='D'), Series([], dtype: float64))\n",
      "(Timestamp('2005-03-26 00:00:00', freq='D'), Series([], dtype: float64))\n",
      "(Timestamp('2005-03-27 00:00:00', freq='D'), Series([], dtype: float64))\n",
      "(Timestamp('2005-03-28 00:00:00', freq='D'), Series([], dtype: float64))\n",
      "(Timestamp('2005-03-29 00:00:00', freq='D'), Series([], dtype: float64))\n",
      "(Timestamp('2005-03-30 00:00:00', freq='D'), Series([], dtype: float64))\n",
      "(Timestamp('2005-03-31 00:00:00', freq='D'), Series([], dtype: float64))\n",
      "(Timestamp('2005-04-01 00:00:00', freq='D'), Series([], dtype: float64))\n",
      "(Timestamp('2005-04-02 00:00:00', freq='D'), Series([], dtype: float64))\n",
      "(Timestamp('2005-04-03 00:00:00', freq='D'), Series([], dtype: float64))\n",
      "(Timestamp('2005-04-04 00:00:00', freq='D'), Series([], dtype: float64))\n",
      "(Timestamp('2005-04-05 00:00:00', freq='D'), Series([], dtype: float64))\n",
      "(Timestamp('2005-04-06 00:00:00', freq='D'), Series([], dtype: float64))\n",
      "(Timestamp('2005-04-07 00:00:00', freq='D'), Series([], dtype: float64))\n",
      "(Timestamp('2005-04-08 00:00:00', freq='D'), Series([], dtype: float64))\n",
      "(Timestamp('2005-04-09 00:00:00', freq='D'), Series([], dtype: float64))\n",
      "(Timestamp('2005-04-10 00:00:00', freq='D'), Series([], dtype: float64))\n",
      "(Timestamp('2005-04-11 00:00:00', freq='D'), Series([], dtype: float64))\n",
      "(Timestamp('2005-04-12 00:00:00', freq='D'), Series([], dtype: float64))\n",
      "(Timestamp('2005-04-13 00:00:00', freq='D'), Series([], dtype: float64))\n",
      "(Timestamp('2005-04-14 00:00:00', freq='D'), Series([], dtype: float64))\n",
      "(Timestamp('2005-04-15 00:00:00', freq='D'), Series([], dtype: float64))\n",
      "(Timestamp('2005-04-16 00:00:00', freq='D'), Series([], dtype: float64))\n",
      "(Timestamp('2005-04-17 00:00:00', freq='D'), Series([], dtype: float64))\n",
      "(Timestamp('2005-04-18 00:00:00', freq='D'), Series([], dtype: float64))\n",
      "(Timestamp('2005-04-19 00:00:00', freq='D'), Series([], dtype: float64))\n",
      "(Timestamp('2005-04-20 00:00:00', freq='D'), Series([], dtype: float64))\n",
      "(Timestamp('2005-04-21 00:00:00', freq='D'), Series([], dtype: float64))\n",
      "(Timestamp('2005-04-22 00:00:00', freq='D'), Series([], dtype: float64))\n",
      "(Timestamp('2005-04-23 00:00:00', freq='D'), Series([], dtype: float64))\n",
      "(Timestamp('2005-04-24 00:00:00', freq='D'), Series([], dtype: float64))\n",
      "(Timestamp('2005-04-25 00:00:00', freq='D'), Series([], dtype: float64))\n",
      "(Timestamp('2005-04-26 00:00:00', freq='D'), Series([], dtype: float64))\n",
      "(Timestamp('2005-04-27 00:00:00', freq='D'), Series([], dtype: float64))\n",
      "(Timestamp('2005-04-28 00:00:00', freq='D'), Series([], dtype: float64))\n",
      "(Timestamp('2005-04-29 00:00:00', freq='D'), Series([], dtype: float64))\n",
      "(Timestamp('2005-04-30 00:00:00', freq='D'), Series([], dtype: float64))\n",
      "(Timestamp('2005-05-01 00:00:00', freq='D'), Series([], dtype: float64))\n",
      "(Timestamp('2005-05-02 00:00:00', freq='D'), Series([], dtype: float64))\n",
      "(Timestamp('2005-05-03 00:00:00', freq='D'), Series([], dtype: float64))\n",
      "(Timestamp('2005-05-04 00:00:00', freq='D'), Series([], dtype: float64))\n",
      "(Timestamp('2005-05-05 00:00:00', freq='D'), Series([], dtype: float64))\n",
      "(Timestamp('2005-05-06 00:00:00', freq='D'), Series([], dtype: float64))\n",
      "(Timestamp('2005-05-07 00:00:00', freq='D'), Series([], dtype: float64))\n",
      "(Timestamp('2005-05-08 00:00:00', freq='D'), Series([], dtype: float64))\n",
      "(Timestamp('2005-05-09 00:00:00', freq='D'), Series([], dtype: float64))\n",
      "(Timestamp('2005-05-10 00:00:00', freq='D'), Series([], dtype: float64))\n",
      "(Timestamp('2005-05-11 00:00:00', freq='D'), Series([], dtype: float64))\n",
      "(Timestamp('2005-05-12 00:00:00', freq='D'), Series([], dtype: float64))\n",
      "(Timestamp('2005-05-13 00:00:00', freq='D'), Series([], dtype: float64))\n",
      "(Timestamp('2005-05-14 00:00:00', freq='D'), Series([], dtype: float64))\n",
      "(Timestamp('2005-05-15 00:00:00', freq='D'), Series([], dtype: float64))\n",
      "(Timestamp('2005-05-16 00:00:00', freq='D'), Series([], dtype: float64))\n",
      "(Timestamp('2005-05-17 00:00:00', freq='D'), Series([], dtype: float64))\n",
      "(Timestamp('2005-05-18 00:00:00', freq='D'), Series([], dtype: float64))\n",
      "(Timestamp('2005-05-19 00:00:00', freq='D'), Series([], dtype: float64))\n",
      "(Timestamp('2005-05-20 00:00:00', freq='D'), Series([], dtype: float64))\n",
      "(Timestamp('2005-05-21 00:00:00', freq='D'), Series([], dtype: float64))\n",
      "(Timestamp('2005-05-22 00:00:00', freq='D'), Series([], dtype: float64))\n",
      "(Timestamp('2005-05-23 00:00:00', freq='D'), Series([], dtype: float64))\n",
      "(Timestamp('2005-05-24 00:00:00', freq='D'), Series([], dtype: float64))\n",
      "(Timestamp('2005-05-25 00:00:00', freq='D'), Series([], dtype: float64))\n",
      "(Timestamp('2005-05-26 00:00:00', freq='D'), Series([], dtype: float64))\n",
      "(Timestamp('2005-05-27 00:00:00', freq='D'), Series([], dtype: float64))\n",
      "(Timestamp('2005-05-28 00:00:00', freq='D'), Series([], dtype: float64))\n",
      "(Timestamp('2005-05-29 00:00:00', freq='D'), Series([], dtype: float64))\n",
      "(Timestamp('2005-05-30 00:00:00', freq='D'), Series([], dtype: float64))\n",
      "(Timestamp('2005-05-31 00:00:00', freq='D'), Series([], dtype: float64))\n",
      "(Timestamp('2005-06-01 00:00:00', freq='D'), Series([], dtype: float64))\n",
      "(Timestamp('2005-06-02 00:00:00', freq='D'), Series([], dtype: float64))\n",
      "(Timestamp('2005-06-03 00:00:00', freq='D'), Series([], dtype: float64))\n",
      "(Timestamp('2005-06-04 00:00:00', freq='D'), Series([], dtype: float64))\n",
      "(Timestamp('2005-06-05 00:00:00', freq='D'), Series([], dtype: float64))\n",
      "(Timestamp('2005-06-06 00:00:00', freq='D'), Series([], dtype: float64))\n",
      "(Timestamp('2005-06-07 00:00:00', freq='D'), Series([], dtype: float64))\n",
      "(Timestamp('2005-06-08 00:00:00', freq='D'), Series([], dtype: float64))\n",
      "(Timestamp('2005-06-09 00:00:00', freq='D'), Series([], dtype: float64))\n",
      "(Timestamp('2005-06-10 00:00:00', freq='D'), Series([], dtype: float64))\n",
      "(Timestamp('2005-06-11 00:00:00', freq='D'), Series([], dtype: float64))\n",
      "(Timestamp('2005-06-12 00:00:00', freq='D'), Series([], dtype: float64))\n",
      "(Timestamp('2005-06-13 00:00:00', freq='D'), Series([], dtype: float64))\n",
      "(Timestamp('2005-06-14 00:00:00', freq='D'), Series([], dtype: float64))\n",
      "(Timestamp('2005-06-15 00:00:00', freq='D'), Series([], dtype: float64))\n",
      "(Timestamp('2005-06-16 00:00:00', freq='D'), Series([], dtype: float64))\n",
      "(Timestamp('2005-06-17 00:00:00', freq='D'), Series([], dtype: float64))\n",
      "(Timestamp('2005-06-18 00:00:00', freq='D'), Series([], dtype: float64))\n",
      "(Timestamp('2005-06-19 00:00:00', freq='D'), Series([], dtype: float64))\n",
      "(Timestamp('2005-06-20 00:00:00', freq='D'), Series([], dtype: float64))\n",
      "(Timestamp('2005-06-21 00:00:00', freq='D'), Series([], dtype: float64))\n",
      "(Timestamp('2005-06-22 00:00:00', freq='D'), Series([], dtype: float64))\n",
      "(Timestamp('2005-06-23 00:00:00', freq='D'), Series([], dtype: float64))\n",
      "(Timestamp('2005-06-24 00:00:00', freq='D'), Series([], dtype: float64))\n",
      "(Timestamp('2005-06-25 00:00:00', freq='D'), Series([], dtype: float64))\n",
      "(Timestamp('2005-06-26 00:00:00', freq='D'), Series([], dtype: float64))\n",
      "(Timestamp('2005-06-27 00:00:00', freq='D'), Series([], dtype: float64))\n",
      "(Timestamp('2005-06-28 00:00:00', freq='D'), Series([], dtype: float64))\n",
      "(Timestamp('2005-06-29 00:00:00', freq='D'), Series([], dtype: float64))\n",
      "(Timestamp('2005-06-30 00:00:00', freq='D'), Series([], dtype: float64))\n",
      "(Timestamp('2005-07-01 00:00:00', freq='D'), Series([], dtype: float64))\n",
      "(Timestamp('2005-07-02 00:00:00', freq='D'), Series([], dtype: float64))\n",
      "(Timestamp('2005-07-03 00:00:00', freq='D'), Series([], dtype: float64))\n",
      "(Timestamp('2005-07-04 00:00:00', freq='D'), Series([], dtype: float64))\n",
      "(Timestamp('2005-07-05 00:00:00', freq='D'), Series([], dtype: float64))\n",
      "(Timestamp('2005-07-06 00:00:00', freq='D'), Series([], dtype: float64))\n",
      "(Timestamp('2005-07-07 00:00:00', freq='D'), Series([], dtype: float64))\n",
      "(Timestamp('2005-07-08 00:00:00', freq='D'), Series([], dtype: float64))\n",
      "(Timestamp('2005-07-09 00:00:00', freq='D'), Series([], dtype: float64))\n",
      "(Timestamp('2005-07-10 00:00:00', freq='D'), Series([], dtype: float64))\n",
      "(Timestamp('2005-07-11 00:00:00', freq='D'), Series([], dtype: float64))\n",
      "(Timestamp('2005-07-12 00:00:00', freq='D'), Series([], dtype: float64))\n",
      "(Timestamp('2005-07-13 00:00:00', freq='D'), Series([], dtype: float64))\n",
      "(Timestamp('2005-07-14 00:00:00', freq='D'), Series([], dtype: float64))\n",
      "(Timestamp('2005-07-15 00:00:00', freq='D'), Series([], dtype: float64))\n",
      "(Timestamp('2005-07-16 00:00:00', freq='D'), Series([], dtype: float64))\n",
      "(Timestamp('2005-07-17 00:00:00', freq='D'), Series([], dtype: float64))\n",
      "(Timestamp('2005-07-18 00:00:00', freq='D'), Series([], dtype: float64))\n",
      "(Timestamp('2005-07-19 00:00:00', freq='D'), Series([], dtype: float64))\n",
      "(Timestamp('2005-07-20 00:00:00', freq='D'), Series([], dtype: float64))\n",
      "(Timestamp('2005-07-21 00:00:00', freq='D'), Series([], dtype: float64))\n",
      "(Timestamp('2005-07-22 00:00:00', freq='D'), Series([], dtype: float64))\n",
      "(Timestamp('2005-07-23 00:00:00', freq='D'), Series([], dtype: float64))\n",
      "(Timestamp('2005-07-24 00:00:00', freq='D'), Series([], dtype: float64))\n",
      "(Timestamp('2005-07-25 00:00:00', freq='D'), Series([], dtype: float64))\n",
      "(Timestamp('2005-07-26 00:00:00', freq='D'), Series([], dtype: float64))\n",
      "(Timestamp('2005-07-27 00:00:00', freq='D'), Series([], dtype: float64))\n",
      "(Timestamp('2005-07-28 00:00:00', freq='D'), Series([], dtype: float64))\n",
      "(Timestamp('2005-07-29 00:00:00', freq='D'), Series([], dtype: float64))\n",
      "(Timestamp('2005-07-30 00:00:00', freq='D'), Series([], dtype: float64))\n",
      "(Timestamp('2005-07-31 00:00:00', freq='D'), Series([], dtype: float64))\n",
      "(Timestamp('2005-08-01 00:00:00', freq='D'), Series([], dtype: float64))\n",
      "(Timestamp('2005-08-02 00:00:00', freq='D'), Series([], dtype: float64))\n",
      "(Timestamp('2005-08-03 00:00:00', freq='D'), Series([], dtype: float64))\n"
     ]
    },
    {
     "name": "stdout",
     "output_type": "stream",
     "text": [
      "(Timestamp('2005-08-04 00:00:00', freq='D'), Series([], dtype: float64))\n",
      "(Timestamp('2005-08-05 00:00:00', freq='D'), Series([], dtype: float64))\n",
      "(Timestamp('2005-08-06 00:00:00', freq='D'), Series([], dtype: float64))\n",
      "(Timestamp('2005-08-07 00:00:00', freq='D'), Series([], dtype: float64))\n",
      "(Timestamp('2005-08-08 00:00:00', freq='D'), Series([], dtype: float64))\n",
      "(Timestamp('2005-08-09 00:00:00', freq='D'), Series([], dtype: float64))\n",
      "(Timestamp('2005-08-10 00:00:00', freq='D'), Series([], dtype: float64))\n",
      "(Timestamp('2005-08-11 00:00:00', freq='D'), Series([], dtype: float64))\n",
      "(Timestamp('2005-08-12 00:00:00', freq='D'), Series([], dtype: float64))\n",
      "(Timestamp('2005-08-13 00:00:00', freq='D'), Series([], dtype: float64))\n",
      "(Timestamp('2005-08-14 00:00:00', freq='D'), Series([], dtype: float64))\n",
      "(Timestamp('2005-08-15 00:00:00', freq='D'), Series([], dtype: float64))\n",
      "(Timestamp('2005-08-16 00:00:00', freq='D'), Series([], dtype: float64))\n",
      "(Timestamp('2005-08-17 00:00:00', freq='D'), Series([], dtype: float64))\n",
      "(Timestamp('2005-08-18 00:00:00', freq='D'), Series([], dtype: float64))\n",
      "(Timestamp('2005-08-19 00:00:00', freq='D'), Series([], dtype: float64))\n",
      "(Timestamp('2005-08-20 00:00:00', freq='D'), Series([], dtype: float64))\n",
      "(Timestamp('2005-08-21 00:00:00', freq='D'), Series([], dtype: float64))\n",
      "(Timestamp('2005-08-22 00:00:00', freq='D'), Series([], dtype: float64))\n",
      "(Timestamp('2005-08-23 00:00:00', freq='D'), Series([], dtype: float64))\n",
      "(Timestamp('2005-08-24 00:00:00', freq='D'), Series([], dtype: float64))\n",
      "(Timestamp('2005-08-25 00:00:00', freq='D'), Series([], dtype: float64))\n",
      "(Timestamp('2005-08-26 00:00:00', freq='D'), Series([], dtype: float64))\n",
      "(Timestamp('2005-08-27 00:00:00', freq='D'), Series([], dtype: float64))\n",
      "(Timestamp('2005-08-28 00:00:00', freq='D'), Series([], dtype: float64))\n",
      "(Timestamp('2005-08-29 00:00:00', freq='D'), Series([], dtype: float64))\n",
      "(Timestamp('2005-08-30 00:00:00', freq='D'), Series([], dtype: float64))\n",
      "(Timestamp('2005-08-31 00:00:00', freq='D'), Series([], dtype: float64))\n",
      "(Timestamp('2005-09-01 00:00:00', freq='D'), Series([], dtype: float64))\n",
      "(Timestamp('2005-09-02 00:00:00', freq='D'), Series([], dtype: float64))\n",
      "(Timestamp('2005-09-03 00:00:00', freq='D'), Series([], dtype: float64))\n",
      "(Timestamp('2005-09-04 00:00:00', freq='D'), Series([], dtype: float64))\n",
      "(Timestamp('2005-09-05 00:00:00', freq='D'), Series([], dtype: float64))\n",
      "(Timestamp('2005-09-06 00:00:00', freq='D'), Series([], dtype: float64))\n",
      "(Timestamp('2005-09-07 00:00:00', freq='D'), Series([], dtype: float64))\n",
      "(Timestamp('2005-09-08 00:00:00', freq='D'), Series([], dtype: float64))\n",
      "(Timestamp('2005-09-09 00:00:00', freq='D'), Series([], dtype: float64))\n",
      "(Timestamp('2005-09-10 00:00:00', freq='D'), Series([], dtype: float64))\n",
      "(Timestamp('2005-09-11 00:00:00', freq='D'), Series([], dtype: float64))\n",
      "(Timestamp('2005-09-12 00:00:00', freq='D'), Series([], dtype: float64))\n",
      "(Timestamp('2005-09-13 00:00:00', freq='D'), Series([], dtype: float64))\n",
      "(Timestamp('2005-09-14 00:00:00', freq='D'), Series([], dtype: float64))\n",
      "(Timestamp('2005-09-15 00:00:00', freq='D'), Series([], dtype: float64))\n",
      "(Timestamp('2005-09-16 00:00:00', freq='D'), Series([], dtype: float64))\n",
      "(Timestamp('2005-09-17 00:00:00', freq='D'), Series([], dtype: float64))\n",
      "(Timestamp('2005-09-18 00:00:00', freq='D'), Series([], dtype: float64))\n",
      "(Timestamp('2005-09-19 00:00:00', freq='D'), Series([], dtype: float64))\n",
      "(Timestamp('2005-09-20 00:00:00', freq='D'), Series([], dtype: float64))\n",
      "(Timestamp('2005-09-21 00:00:00', freq='D'), Series([], dtype: float64))\n",
      "(Timestamp('2005-09-22 00:00:00', freq='D'), Series([], dtype: float64))\n",
      "(Timestamp('2005-09-23 00:00:00', freq='D'), Series([], dtype: float64))\n",
      "(Timestamp('2005-09-24 00:00:00', freq='D'), Series([], dtype: float64))\n",
      "(Timestamp('2005-09-25 00:00:00', freq='D'), Series([], dtype: float64))\n",
      "(Timestamp('2005-09-26 00:00:00', freq='D'), Series([], dtype: float64))\n",
      "(Timestamp('2005-09-27 00:00:00', freq='D'), Series([], dtype: float64))\n",
      "(Timestamp('2005-09-28 00:00:00', freq='D'), Series([], dtype: float64))\n",
      "(Timestamp('2005-09-29 00:00:00', freq='D'), Series([], dtype: float64))\n",
      "(Timestamp('2005-09-30 00:00:00', freq='D'), Series([], dtype: float64))\n",
      "(Timestamp('2005-10-01 00:00:00', freq='D'), Series([], dtype: float64))\n",
      "(Timestamp('2005-10-02 00:00:00', freq='D'), Series([], dtype: float64))\n",
      "(Timestamp('2005-10-03 00:00:00', freq='D'), Series([], dtype: float64))\n",
      "(Timestamp('2005-10-04 00:00:00', freq='D'), Series([], dtype: float64))\n",
      "(Timestamp('2005-10-05 00:00:00', freq='D'), Series([], dtype: float64))\n",
      "(Timestamp('2005-10-06 00:00:00', freq='D'), Series([], dtype: float64))\n",
      "(Timestamp('2005-10-07 00:00:00', freq='D'), Series([], dtype: float64))\n",
      "(Timestamp('2005-10-08 00:00:00', freq='D'), Series([], dtype: float64))\n",
      "(Timestamp('2005-10-09 00:00:00', freq='D'), Series([], dtype: float64))\n",
      "(Timestamp('2005-10-10 00:00:00', freq='D'), Series([], dtype: float64))\n",
      "(Timestamp('2005-10-11 00:00:00', freq='D'), Series([], dtype: float64))\n",
      "(Timestamp('2005-10-12 00:00:00', freq='D'), Series([], dtype: float64))\n",
      "(Timestamp('2005-10-13 00:00:00', freq='D'), Series([], dtype: float64))\n",
      "(Timestamp('2005-10-14 00:00:00', freq='D'), Series([], dtype: float64))\n",
      "(Timestamp('2005-10-15 00:00:00', freq='D'), Series([], dtype: float64))\n",
      "(Timestamp('2005-10-16 00:00:00', freq='D'), Series([], dtype: float64))\n",
      "(Timestamp('2005-10-17 00:00:00', freq='D'), Series([], dtype: float64))\n",
      "(Timestamp('2005-10-18 00:00:00', freq='D'), Series([], dtype: float64))\n",
      "(Timestamp('2005-10-19 00:00:00', freq='D'), Series([], dtype: float64))\n",
      "(Timestamp('2005-10-20 00:00:00', freq='D'), Series([], dtype: float64))\n",
      "(Timestamp('2005-10-21 00:00:00', freq='D'), Series([], dtype: float64))\n",
      "(Timestamp('2005-10-22 00:00:00', freq='D'), Series([], dtype: float64))\n",
      "(Timestamp('2005-10-23 00:00:00', freq='D'), Series([], dtype: float64))\n",
      "(Timestamp('2005-10-24 00:00:00', freq='D'), Series([], dtype: float64))\n",
      "(Timestamp('2005-10-25 00:00:00', freq='D'), Series([], dtype: float64))\n",
      "(Timestamp('2005-10-26 00:00:00', freq='D'), Series([], dtype: float64))\n",
      "(Timestamp('2005-10-27 00:00:00', freq='D'), Series([], dtype: float64))\n",
      "(Timestamp('2005-10-28 00:00:00', freq='D'), Series([], dtype: float64))\n",
      "(Timestamp('2005-10-29 00:00:00', freq='D'), Series([], dtype: float64))\n",
      "(Timestamp('2005-10-30 00:00:00', freq='D'), Series([], dtype: float64))\n",
      "(Timestamp('2005-10-31 00:00:00', freq='D'), Series([], dtype: float64))\n",
      "(Timestamp('2005-11-01 00:00:00', freq='D'), Series([], dtype: float64))\n",
      "(Timestamp('2005-11-02 00:00:00', freq='D'), Series([], dtype: float64))\n",
      "(Timestamp('2005-11-03 00:00:00', freq='D'), Series([], dtype: float64))\n",
      "(Timestamp('2005-11-04 00:00:00', freq='D'), Series([], dtype: float64))\n",
      "(Timestamp('2005-11-05 00:00:00', freq='D'), Series([], dtype: float64))\n",
      "(Timestamp('2005-11-06 00:00:00', freq='D'), Series([], dtype: float64))\n",
      "(Timestamp('2005-11-07 00:00:00', freq='D'), Series([], dtype: float64))\n",
      "(Timestamp('2005-11-08 00:00:00', freq='D'), Series([], dtype: float64))\n",
      "(Timestamp('2005-11-09 00:00:00', freq='D'), Series([], dtype: float64))\n",
      "(Timestamp('2005-11-10 00:00:00', freq='D'), Series([], dtype: float64))\n",
      "(Timestamp('2005-11-11 00:00:00', freq='D'), Series([], dtype: float64))\n",
      "(Timestamp('2005-11-12 00:00:00', freq='D'), Series([], dtype: float64))\n",
      "(Timestamp('2005-11-13 00:00:00', freq='D'), Series([], dtype: float64))\n",
      "(Timestamp('2005-11-14 00:00:00', freq='D'), Series([], dtype: float64))\n",
      "(Timestamp('2005-11-15 00:00:00', freq='D'), Series([], dtype: float64))\n",
      "(Timestamp('2005-11-16 00:00:00', freq='D'), Series([], dtype: float64))\n",
      "(Timestamp('2005-11-17 00:00:00', freq='D'), Series([], dtype: float64))\n",
      "(Timestamp('2005-11-18 00:00:00', freq='D'), Series([], dtype: float64))\n",
      "(Timestamp('2005-11-19 00:00:00', freq='D'), Series([], dtype: float64))\n",
      "(Timestamp('2005-11-20 00:00:00', freq='D'), Series([], dtype: float64))\n",
      "(Timestamp('2005-11-21 00:00:00', freq='D'), Series([], dtype: float64))\n",
      "(Timestamp('2005-11-22 00:00:00', freq='D'), Series([], dtype: float64))\n",
      "(Timestamp('2005-11-23 00:00:00', freq='D'), Series([], dtype: float64))\n",
      "(Timestamp('2005-11-24 00:00:00', freq='D'), Series([], dtype: float64))\n",
      "(Timestamp('2005-11-25 00:00:00', freq='D'), Series([], dtype: float64))\n",
      "(Timestamp('2005-11-26 00:00:00', freq='D'), Series([], dtype: float64))\n",
      "(Timestamp('2005-11-27 00:00:00', freq='D'), Series([], dtype: float64))\n",
      "(Timestamp('2005-11-28 00:00:00', freq='D'), Series([], dtype: float64))\n",
      "(Timestamp('2005-11-29 00:00:00', freq='D'), Series([], dtype: float64))\n",
      "(Timestamp('2005-11-30 00:00:00', freq='D'), Series([], dtype: float64))\n",
      "(Timestamp('2005-12-01 00:00:00', freq='D'), Series([], dtype: float64))\n",
      "(Timestamp('2005-12-02 00:00:00', freq='D'), Series([], dtype: float64))\n",
      "(Timestamp('2005-12-03 00:00:00', freq='D'), Series([], dtype: float64))\n",
      "(Timestamp('2005-12-04 00:00:00', freq='D'), Series([], dtype: float64))\n",
      "(Timestamp('2005-12-05 00:00:00', freq='D'), Series([], dtype: float64))\n",
      "(Timestamp('2005-12-06 00:00:00', freq='D'), Series([], dtype: float64))\n",
      "(Timestamp('2005-12-07 00:00:00', freq='D'), Series([], dtype: float64))\n",
      "(Timestamp('2005-12-08 00:00:00', freq='D'), Series([], dtype: float64))\n",
      "(Timestamp('2005-12-09 00:00:00', freq='D'), Series([], dtype: float64))\n",
      "(Timestamp('2005-12-10 00:00:00', freq='D'), Series([], dtype: float64))\n",
      "(Timestamp('2005-12-11 00:00:00', freq='D'), Series([], dtype: float64))\n",
      "(Timestamp('2005-12-12 00:00:00', freq='D'), Series([], dtype: float64))\n",
      "(Timestamp('2005-12-13 00:00:00', freq='D'), Series([], dtype: float64))\n",
      "(Timestamp('2005-12-14 00:00:00', freq='D'), Series([], dtype: float64))\n",
      "(Timestamp('2005-12-15 00:00:00', freq='D'), Series([], dtype: float64))\n",
      "(Timestamp('2005-12-16 00:00:00', freq='D'), Series([], dtype: float64))\n",
      "(Timestamp('2005-12-17 00:00:00', freq='D'), Series([], dtype: float64))\n",
      "(Timestamp('2005-12-18 00:00:00', freq='D'), Series([], dtype: float64))\n",
      "(Timestamp('2005-12-19 00:00:00', freq='D'), Series([], dtype: float64))\n",
      "(Timestamp('2005-12-20 00:00:00', freq='D'), Series([], dtype: float64))\n",
      "(Timestamp('2005-12-21 00:00:00', freq='D'), Series([], dtype: float64))\n",
      "(Timestamp('2005-12-22 00:00:00', freq='D'), Series([], dtype: float64))\n",
      "(Timestamp('2005-12-23 00:00:00', freq='D'), Series([], dtype: float64))\n",
      "(Timestamp('2005-12-24 00:00:00', freq='D'), Series([], dtype: float64))\n",
      "(Timestamp('2005-12-25 00:00:00', freq='D'), Series([], dtype: float64))\n",
      "(Timestamp('2005-12-26 00:00:00', freq='D'), Series([], dtype: float64))\n",
      "(Timestamp('2005-12-27 00:00:00', freq='D'), Series([], dtype: float64))\n",
      "(Timestamp('2005-12-28 00:00:00', freq='D'), Series([], dtype: float64))\n",
      "(Timestamp('2005-12-29 00:00:00', freq='D'), Series([], dtype: float64))\n",
      "(Timestamp('2005-12-30 00:00:00', freq='D'), Series([], dtype: float64))\n",
      "(Timestamp('2005-12-31 00:00:00', freq='D'), Series([], dtype: float64))\n",
      "(Timestamp('2006-01-01 00:00:00', freq='D'), Series([], dtype: float64))\n",
      "(Timestamp('2006-01-02 00:00:00', freq='D'), Series([], dtype: float64))\n",
      "(Timestamp('2006-01-03 00:00:00', freq='D'), Series([], dtype: float64))\n",
      "(Timestamp('2006-01-04 00:00:00', freq='D'), Series([], dtype: float64))\n",
      "(Timestamp('2006-01-05 00:00:00', freq='D'), Series([], dtype: float64))\n",
      "(Timestamp('2006-01-06 00:00:00', freq='D'), Series([], dtype: float64))\n",
      "(Timestamp('2006-01-07 00:00:00', freq='D'), Series([], dtype: float64))\n",
      "(Timestamp('2006-01-08 00:00:00', freq='D'), Series([], dtype: float64))\n",
      "(Timestamp('2006-01-09 00:00:00', freq='D'), Series([], dtype: float64))\n",
      "(Timestamp('2006-01-10 00:00:00', freq='D'), Series([], dtype: float64))\n",
      "(Timestamp('2006-01-11 00:00:00', freq='D'), Series([], dtype: float64))\n",
      "(Timestamp('2006-01-12 00:00:00', freq='D'), Series([], dtype: float64))\n",
      "(Timestamp('2006-01-13 00:00:00', freq='D'), Series([], dtype: float64))\n",
      "(Timestamp('2006-01-14 00:00:00', freq='D'), Series([], dtype: float64))\n",
      "(Timestamp('2006-01-15 00:00:00', freq='D'), Series([], dtype: float64))\n",
      "(Timestamp('2006-01-16 00:00:00', freq='D'), Series([], dtype: float64))\n",
      "(Timestamp('2006-01-17 00:00:00', freq='D'), Series([], dtype: float64))\n",
      "(Timestamp('2006-01-18 00:00:00', freq='D'), Series([], dtype: float64))\n",
      "(Timestamp('2006-01-19 00:00:00', freq='D'), Series([], dtype: float64))\n",
      "(Timestamp('2006-01-20 00:00:00', freq='D'), Series([], dtype: float64))\n",
      "(Timestamp('2006-01-21 00:00:00', freq='D'), Series([], dtype: float64))\n",
      "(Timestamp('2006-01-22 00:00:00', freq='D'), Series([], dtype: float64))\n",
      "(Timestamp('2006-01-23 00:00:00', freq='D'), Series([], dtype: float64))\n",
      "(Timestamp('2006-01-24 00:00:00', freq='D'), Series([], dtype: float64))\n",
      "(Timestamp('2006-01-25 00:00:00', freq='D'), Series([], dtype: float64))\n",
      "(Timestamp('2006-01-26 00:00:00', freq='D'), Series([], dtype: float64))\n",
      "(Timestamp('2006-01-27 00:00:00', freq='D'), Series([], dtype: float64))\n",
      "(Timestamp('2006-01-28 00:00:00', freq='D'), Series([], dtype: float64))\n",
      "(Timestamp('2006-01-29 00:00:00', freq='D'), Series([], dtype: float64))\n",
      "(Timestamp('2006-01-30 00:00:00', freq='D'), Series([], dtype: float64))\n",
      "(Timestamp('2006-01-31 00:00:00', freq='D'), Series([], dtype: float64))\n",
      "(Timestamp('2006-02-01 00:00:00', freq='D'), Series([], dtype: float64))\n",
      "(Timestamp('2006-02-02 00:00:00', freq='D'), Series([], dtype: float64))\n",
      "(Timestamp('2006-02-03 00:00:00', freq='D'), Series([], dtype: float64))\n",
      "(Timestamp('2006-02-04 00:00:00', freq='D'), Series([], dtype: float64))\n",
      "(Timestamp('2006-02-05 00:00:00', freq='D'), Series([], dtype: float64))\n",
      "(Timestamp('2006-02-06 00:00:00', freq='D'), Series([], dtype: float64))\n",
      "(Timestamp('2006-02-07 00:00:00', freq='D'), Series([], dtype: float64))\n",
      "(Timestamp('2006-02-08 00:00:00', freq='D'), Series([], dtype: float64))\n",
      "(Timestamp('2006-02-09 00:00:00', freq='D'), Series([], dtype: float64))\n",
      "(Timestamp('2006-02-10 00:00:00', freq='D'), Series([], dtype: float64))\n",
      "(Timestamp('2006-02-11 00:00:00', freq='D'), Series([], dtype: float64))\n",
      "(Timestamp('2006-02-12 00:00:00', freq='D'), Series([], dtype: float64))\n",
      "(Timestamp('2006-02-13 00:00:00', freq='D'), Series([], dtype: float64))\n",
      "(Timestamp('2006-02-14 00:00:00', freq='D'), Series([], dtype: float64))\n",
      "(Timestamp('2006-02-15 00:00:00', freq='D'), Series([], dtype: float64))\n",
      "(Timestamp('2006-02-16 00:00:00', freq='D'), Series([], dtype: float64))\n",
      "(Timestamp('2006-02-17 00:00:00', freq='D'), Series([], dtype: float64))\n",
      "(Timestamp('2006-02-18 00:00:00', freq='D'), Series([], dtype: float64))\n",
      "(Timestamp('2006-02-19 00:00:00', freq='D'), Series([], dtype: float64))\n",
      "(Timestamp('2006-02-20 00:00:00', freq='D'), Series([], dtype: float64))\n",
      "(Timestamp('2006-02-21 00:00:00', freq='D'), Series([], dtype: float64))\n",
      "(Timestamp('2006-02-22 00:00:00', freq='D'), Series([], dtype: float64))\n",
      "(Timestamp('2006-02-23 00:00:00', freq='D'), Series([], dtype: float64))\n",
      "(Timestamp('2006-02-24 00:00:00', freq='D'), Series([], dtype: float64))\n",
      "(Timestamp('2006-02-25 00:00:00', freq='D'), Series([], dtype: float64))\n",
      "(Timestamp('2006-02-26 00:00:00', freq='D'), Series([], dtype: float64))\n",
      "(Timestamp('2006-02-27 00:00:00', freq='D'), Series([], dtype: float64))\n",
      "(Timestamp('2006-02-28 00:00:00', freq='D'), Series([], dtype: float64))\n",
      "(Timestamp('2006-03-01 00:00:00', freq='D'), Series([], dtype: float64))\n",
      "(Timestamp('2006-03-02 00:00:00', freq='D'), Series([], dtype: float64))\n",
      "(Timestamp('2006-03-03 00:00:00', freq='D'), Series([], dtype: float64))\n",
      "(Timestamp('2006-03-04 00:00:00', freq='D'), Series([], dtype: float64))\n",
      "(Timestamp('2006-03-05 00:00:00', freq='D'), Series([], dtype: float64))\n",
      "(Timestamp('2006-03-06 00:00:00', freq='D'), Series([], dtype: float64))\n",
      "(Timestamp('2006-03-07 00:00:00', freq='D'), Series([], dtype: float64))\n",
      "(Timestamp('2006-03-08 00:00:00', freq='D'), Series([], dtype: float64))\n",
      "(Timestamp('2006-03-09 00:00:00', freq='D'), Series([], dtype: float64))\n",
      "(Timestamp('2006-03-10 00:00:00', freq='D'), Series([], dtype: float64))\n",
      "(Timestamp('2006-03-11 00:00:00', freq='D'), Series([], dtype: float64))\n",
      "(Timestamp('2006-03-12 00:00:00', freq='D'), Series([], dtype: float64))\n",
      "(Timestamp('2006-03-13 00:00:00', freq='D'), Series([], dtype: float64))\n",
      "(Timestamp('2006-03-14 00:00:00', freq='D'), Series([], dtype: float64))\n",
      "(Timestamp('2006-03-15 00:00:00', freq='D'), Series([], dtype: float64))\n",
      "(Timestamp('2006-03-16 00:00:00', freq='D'), Series([], dtype: float64))\n",
      "(Timestamp('2006-03-17 00:00:00', freq='D'), Series([], dtype: float64))\n",
      "(Timestamp('2006-03-18 00:00:00', freq='D'), Series([], dtype: float64))\n",
      "(Timestamp('2006-03-19 00:00:00', freq='D'), Series([], dtype: float64))\n",
      "(Timestamp('2006-03-20 00:00:00', freq='D'), Series([], dtype: float64))\n",
      "(Timestamp('2006-03-21 00:00:00', freq='D'), Series([], dtype: float64))\n",
      "(Timestamp('2006-03-22 00:00:00', freq='D'), Series([], dtype: float64))\n",
      "(Timestamp('2006-03-23 00:00:00', freq='D'), Series([], dtype: float64))\n",
      "(Timestamp('2006-03-24 00:00:00', freq='D'), Series([], dtype: float64))\n",
      "(Timestamp('2006-03-25 00:00:00', freq='D'), Series([], dtype: float64))\n",
      "(Timestamp('2006-03-26 00:00:00', freq='D'), Series([], dtype: float64))\n",
      "(Timestamp('2006-03-27 00:00:00', freq='D'), Series([], dtype: float64))\n",
      "(Timestamp('2006-03-28 00:00:00', freq='D'), Series([], dtype: float64))\n",
      "(Timestamp('2006-03-29 00:00:00', freq='D'), Series([], dtype: float64))\n",
      "(Timestamp('2006-03-30 00:00:00', freq='D'), Series([], dtype: float64))\n",
      "(Timestamp('2006-03-31 00:00:00', freq='D'), Series([], dtype: float64))\n",
      "(Timestamp('2006-04-01 00:00:00', freq='D'), Series([], dtype: float64))\n",
      "(Timestamp('2006-04-02 00:00:00', freq='D'), Series([], dtype: float64))\n",
      "(Timestamp('2006-04-03 00:00:00', freq='D'), Series([], dtype: float64))\n",
      "(Timestamp('2006-04-04 00:00:00', freq='D'), Series([], dtype: float64))\n",
      "(Timestamp('2006-04-05 00:00:00', freq='D'), Series([], dtype: float64))\n",
      "(Timestamp('2006-04-06 00:00:00', freq='D'), Series([], dtype: float64))\n",
      "(Timestamp('2006-04-07 00:00:00', freq='D'), Series([], dtype: float64))\n",
      "(Timestamp('2006-04-08 00:00:00', freq='D'), Series([], dtype: float64))\n",
      "(Timestamp('2006-04-09 00:00:00', freq='D'), Series([], dtype: float64))\n",
      "(Timestamp('2006-04-10 00:00:00', freq='D'), Series([], dtype: float64))\n",
      "(Timestamp('2006-04-11 00:00:00', freq='D'), Series([], dtype: float64))\n",
      "(Timestamp('2006-04-12 00:00:00', freq='D'), Series([], dtype: float64))\n",
      "(Timestamp('2006-04-13 00:00:00', freq='D'), Series([], dtype: float64))\n",
      "(Timestamp('2006-04-14 00:00:00', freq='D'), Series([], dtype: float64))\n",
      "(Timestamp('2006-04-15 00:00:00', freq='D'), Series([], dtype: float64))\n",
      "(Timestamp('2006-04-16 00:00:00', freq='D'), Series([], dtype: float64))\n",
      "(Timestamp('2006-04-17 00:00:00', freq='D'), Series([], dtype: float64))\n",
      "(Timestamp('2006-04-18 00:00:00', freq='D'), Series([], dtype: float64))\n",
      "(Timestamp('2006-04-19 00:00:00', freq='D'), Series([], dtype: float64))\n",
      "(Timestamp('2006-04-20 00:00:00', freq='D'), Series([], dtype: float64))\n",
      "(Timestamp('2006-04-21 00:00:00', freq='D'), Series([], dtype: float64))\n",
      "(Timestamp('2006-04-22 00:00:00', freq='D'), Series([], dtype: float64))\n",
      "(Timestamp('2006-04-23 00:00:00', freq='D'), Series([], dtype: float64))\n",
      "(Timestamp('2006-04-24 00:00:00', freq='D'), Series([], dtype: float64))\n",
      "(Timestamp('2006-04-25 00:00:00', freq='D'), Series([], dtype: float64))\n",
      "(Timestamp('2006-04-26 00:00:00', freq='D'), Series([], dtype: float64))\n",
      "(Timestamp('2006-04-27 00:00:00', freq='D'), Series([], dtype: float64))\n",
      "(Timestamp('2006-04-28 00:00:00', freq='D'), Series([], dtype: float64))\n",
      "(Timestamp('2006-04-29 00:00:00', freq='D'), Series([], dtype: float64))\n",
      "(Timestamp('2006-04-30 00:00:00', freq='D'), Series([], dtype: float64))\n",
      "(Timestamp('2006-05-01 00:00:00', freq='D'), Series([], dtype: float64))\n",
      "(Timestamp('2006-05-02 00:00:00', freq='D'), Series([], dtype: float64))\n",
      "(Timestamp('2006-05-03 00:00:00', freq='D'), Series([], dtype: float64))\n",
      "(Timestamp('2006-05-04 00:00:00', freq='D'), Series([], dtype: float64))\n",
      "(Timestamp('2006-05-05 00:00:00', freq='D'), Series([], dtype: float64))\n",
      "(Timestamp('2006-05-06 00:00:00', freq='D'), Series([], dtype: float64))\n",
      "(Timestamp('2006-05-07 00:00:00', freq='D'), Series([], dtype: float64))\n",
      "(Timestamp('2006-05-08 00:00:00', freq='D'), Series([], dtype: float64))\n",
      "(Timestamp('2006-05-09 00:00:00', freq='D'), Series([], dtype: float64))\n",
      "(Timestamp('2006-05-10 00:00:00', freq='D'), Series([], dtype: float64))\n",
      "(Timestamp('2006-05-11 00:00:00', freq='D'), Series([], dtype: float64))\n",
      "(Timestamp('2006-05-12 00:00:00', freq='D'), Series([], dtype: float64))\n",
      "(Timestamp('2006-05-13 00:00:00', freq='D'), Series([], dtype: float64))\n",
      "(Timestamp('2006-05-14 00:00:00', freq='D'), Series([], dtype: float64))\n",
      "(Timestamp('2006-05-15 00:00:00', freq='D'), Series([], dtype: float64))\n",
      "(Timestamp('2006-05-16 00:00:00', freq='D'), Series([], dtype: float64))\n",
      "(Timestamp('2006-05-17 00:00:00', freq='D'), Series([], dtype: float64))\n",
      "(Timestamp('2006-05-18 00:00:00', freq='D'), Series([], dtype: float64))\n",
      "(Timestamp('2006-05-19 00:00:00', freq='D'), Series([], dtype: float64))\n",
      "(Timestamp('2006-05-20 00:00:00', freq='D'), Series([], dtype: float64))\n",
      "(Timestamp('2006-05-21 00:00:00', freq='D'), Series([], dtype: float64))\n",
      "(Timestamp('2006-05-22 00:00:00', freq='D'), Series([], dtype: float64))\n",
      "(Timestamp('2006-05-23 00:00:00', freq='D'), Series([], dtype: float64))\n",
      "(Timestamp('2006-05-24 00:00:00', freq='D'), Series([], dtype: float64))\n",
      "(Timestamp('2006-05-25 00:00:00', freq='D'), Series([], dtype: float64))\n",
      "(Timestamp('2006-05-26 00:00:00', freq='D'), Series([], dtype: float64))\n",
      "(Timestamp('2006-05-27 00:00:00', freq='D'), Series([], dtype: float64))\n",
      "(Timestamp('2006-05-28 00:00:00', freq='D'), Series([], dtype: float64))\n",
      "(Timestamp('2006-05-29 00:00:00', freq='D'), Series([], dtype: float64))\n",
      "(Timestamp('2006-05-30 00:00:00', freq='D'), Series([], dtype: float64))\n",
      "(Timestamp('2006-05-31 00:00:00', freq='D'), Series([], dtype: float64))\n",
      "(Timestamp('2006-06-01 00:00:00', freq='D'), Series([], dtype: float64))\n",
      "(Timestamp('2006-06-02 00:00:00', freq='D'), Series([], dtype: float64))\n",
      "(Timestamp('2006-06-03 00:00:00', freq='D'), Series([], dtype: float64))\n",
      "(Timestamp('2006-06-04 00:00:00', freq='D'), Series([], dtype: float64))\n",
      "(Timestamp('2006-06-05 00:00:00', freq='D'), Series([], dtype: float64))\n",
      "(Timestamp('2006-06-06 00:00:00', freq='D'), Series([], dtype: float64))\n",
      "(Timestamp('2006-06-07 00:00:00', freq='D'), Series([], dtype: float64))\n",
      "(Timestamp('2006-06-08 00:00:00', freq='D'), Series([], dtype: float64))\n",
      "(Timestamp('2006-06-09 00:00:00', freq='D'), Series([], dtype: float64))\n",
      "(Timestamp('2006-06-10 00:00:00', freq='D'), Series([], dtype: float64))\n",
      "(Timestamp('2006-06-11 00:00:00', freq='D'), Series([], dtype: float64))\n",
      "(Timestamp('2006-06-12 00:00:00', freq='D'), Series([], dtype: float64))\n",
      "(Timestamp('2006-06-13 00:00:00', freq='D'), Series([], dtype: float64))\n",
      "(Timestamp('2006-06-14 00:00:00', freq='D'), Series([], dtype: float64))\n",
      "(Timestamp('2006-06-15 00:00:00', freq='D'), Series([], dtype: float64))\n",
      "(Timestamp('2006-06-16 00:00:00', freq='D'), Series([], dtype: float64))\n",
      "(Timestamp('2006-06-17 00:00:00', freq='D'), Series([], dtype: float64))\n",
      "(Timestamp('2006-06-18 00:00:00', freq='D'), Series([], dtype: float64))\n",
      "(Timestamp('2006-06-19 00:00:00', freq='D'), Series([], dtype: float64))\n",
      "(Timestamp('2006-06-20 00:00:00', freq='D'), Series([], dtype: float64))\n",
      "(Timestamp('2006-06-21 00:00:00', freq='D'), Series([], dtype: float64))\n",
      "(Timestamp('2006-06-22 00:00:00', freq='D'), Series([], dtype: float64))\n",
      "(Timestamp('2006-06-23 00:00:00', freq='D'), Series([], dtype: float64))\n",
      "(Timestamp('2006-06-24 00:00:00', freq='D'), Series([], dtype: float64))\n",
      "(Timestamp('2006-06-25 00:00:00', freq='D'), Series([], dtype: float64))\n",
      "(Timestamp('2006-06-26 00:00:00', freq='D'), Series([], dtype: float64))\n",
      "(Timestamp('2006-06-27 00:00:00', freq='D'), Series([], dtype: float64))\n",
      "(Timestamp('2006-06-28 00:00:00', freq='D'), Series([], dtype: float64))\n",
      "(Timestamp('2006-06-29 00:00:00', freq='D'), Series([], dtype: float64))\n",
      "(Timestamp('2006-06-30 00:00:00', freq='D'), Series([], dtype: float64))\n",
      "(Timestamp('2006-07-01 00:00:00', freq='D'), Series([], dtype: float64))\n",
      "(Timestamp('2006-07-02 00:00:00', freq='D'), Series([], dtype: float64))\n",
      "(Timestamp('2006-07-03 00:00:00', freq='D'), Series([], dtype: float64))\n",
      "(Timestamp('2006-07-04 00:00:00', freq='D'), Series([], dtype: float64))\n",
      "(Timestamp('2006-07-05 00:00:00', freq='D'), Series([], dtype: float64))\n",
      "(Timestamp('2006-07-06 00:00:00', freq='D'), Series([], dtype: float64))\n",
      "(Timestamp('2006-07-07 00:00:00', freq='D'), Series([], dtype: float64))\n",
      "(Timestamp('2006-07-08 00:00:00', freq='D'), Series([], dtype: float64))\n",
      "(Timestamp('2006-07-09 00:00:00', freq='D'), Series([], dtype: float64))\n",
      "(Timestamp('2006-07-10 00:00:00', freq='D'), Series([], dtype: float64))\n",
      "(Timestamp('2006-07-11 00:00:00', freq='D'), Series([], dtype: float64))\n",
      "(Timestamp('2006-07-12 00:00:00', freq='D'), Series([], dtype: float64))\n",
      "(Timestamp('2006-07-13 00:00:00', freq='D'), Series([], dtype: float64))\n",
      "(Timestamp('2006-07-14 00:00:00', freq='D'), Series([], dtype: float64))\n",
      "(Timestamp('2006-07-15 00:00:00', freq='D'), Series([], dtype: float64))\n",
      "(Timestamp('2006-07-16 00:00:00', freq='D'), Series([], dtype: float64))\n",
      "(Timestamp('2006-07-17 00:00:00', freq='D'), Series([], dtype: float64))\n",
      "(Timestamp('2006-07-18 00:00:00', freq='D'), Series([], dtype: float64))\n",
      "(Timestamp('2006-07-19 00:00:00', freq='D'), Series([], dtype: float64))\n",
      "(Timestamp('2006-07-20 00:00:00', freq='D'), Series([], dtype: float64))\n",
      "(Timestamp('2006-07-21 00:00:00', freq='D'), Series([], dtype: float64))\n",
      "(Timestamp('2006-07-22 00:00:00', freq='D'), Series([], dtype: float64))\n",
      "(Timestamp('2006-07-23 00:00:00', freq='D'), Series([], dtype: float64))\n",
      "(Timestamp('2006-07-24 00:00:00', freq='D'), Series([], dtype: float64))\n",
      "(Timestamp('2006-07-25 00:00:00', freq='D'), Series([], dtype: float64))\n",
      "(Timestamp('2006-07-26 00:00:00', freq='D'), Series([], dtype: float64))\n",
      "(Timestamp('2006-07-27 00:00:00', freq='D'), Series([], dtype: float64))\n",
      "(Timestamp('2006-07-28 00:00:00', freq='D'), Series([], dtype: float64))\n",
      "(Timestamp('2006-07-29 00:00:00', freq='D'), Series([], dtype: float64))\n",
      "(Timestamp('2006-07-30 00:00:00', freq='D'), Series([], dtype: float64))\n",
      "(Timestamp('2006-07-31 00:00:00', freq='D'), Series([], dtype: float64))\n",
      "(Timestamp('2006-08-01 00:00:00', freq='D'), Series([], dtype: float64))\n",
      "(Timestamp('2006-08-02 00:00:00', freq='D'), Series([], dtype: float64))\n",
      "(Timestamp('2006-08-03 00:00:00', freq='D'), Series([], dtype: float64))\n",
      "(Timestamp('2006-08-04 00:00:00', freq='D'), Series([], dtype: float64))\n",
      "(Timestamp('2006-08-05 00:00:00', freq='D'), Series([], dtype: float64))\n",
      "(Timestamp('2006-08-06 00:00:00', freq='D'), Series([], dtype: float64))\n",
      "(Timestamp('2006-08-07 00:00:00', freq='D'), Series([], dtype: float64))\n",
      "(Timestamp('2006-08-08 00:00:00', freq='D'), Series([], dtype: float64))\n",
      "(Timestamp('2006-08-09 00:00:00', freq='D'), Series([], dtype: float64))\n",
      "(Timestamp('2006-08-10 00:00:00', freq='D'), Series([], dtype: float64))\n",
      "(Timestamp('2006-08-11 00:00:00', freq='D'), Series([], dtype: float64))\n",
      "(Timestamp('2006-08-12 00:00:00', freq='D'), Series([], dtype: float64))\n",
      "(Timestamp('2006-08-13 00:00:00', freq='D'), Series([], dtype: float64))\n",
      "(Timestamp('2006-08-14 00:00:00', freq='D'), Series([], dtype: float64))\n",
      "(Timestamp('2006-08-15 00:00:00', freq='D'), Series([], dtype: float64))\n",
      "(Timestamp('2006-08-16 00:00:00', freq='D'), Series([], dtype: float64))\n",
      "(Timestamp('2006-08-17 00:00:00', freq='D'), Series([], dtype: float64))\n",
      "(Timestamp('2006-08-18 00:00:00', freq='D'), Series([], dtype: float64))\n",
      "(Timestamp('2006-08-19 00:00:00', freq='D'), Series([], dtype: float64))\n",
      "(Timestamp('2006-08-20 00:00:00', freq='D'), Series([], dtype: float64))\n",
      "(Timestamp('2006-08-21 00:00:00', freq='D'), Series([], dtype: float64))\n",
      "(Timestamp('2006-08-22 00:00:00', freq='D'), Series([], dtype: float64))\n",
      "(Timestamp('2006-08-23 00:00:00', freq='D'), Series([], dtype: float64))\n",
      "(Timestamp('2006-08-24 00:00:00', freq='D'), Series([], dtype: float64))\n",
      "(Timestamp('2006-08-25 00:00:00', freq='D'), Series([], dtype: float64))\n",
      "(Timestamp('2006-08-26 00:00:00', freq='D'), Series([], dtype: float64))\n",
      "(Timestamp('2006-08-27 00:00:00', freq='D'), Series([], dtype: float64))\n",
      "(Timestamp('2006-08-28 00:00:00', freq='D'), Series([], dtype: float64))\n",
      "(Timestamp('2006-08-29 00:00:00', freq='D'), Series([], dtype: float64))\n",
      "(Timestamp('2006-08-30 00:00:00', freq='D'), Series([], dtype: float64))\n",
      "(Timestamp('2006-08-31 00:00:00', freq='D'), Series([], dtype: float64))\n",
      "(Timestamp('2006-09-01 00:00:00', freq='D'), Series([], dtype: float64))\n",
      "(Timestamp('2006-09-02 00:00:00', freq='D'), Series([], dtype: float64))\n",
      "(Timestamp('2006-09-03 00:00:00', freq='D'), Series([], dtype: float64))\n",
      "(Timestamp('2006-09-04 00:00:00', freq='D'), Series([], dtype: float64))\n",
      "(Timestamp('2006-09-05 00:00:00', freq='D'), Series([], dtype: float64))\n",
      "(Timestamp('2006-09-06 00:00:00', freq='D'), Series([], dtype: float64))\n",
      "(Timestamp('2006-09-07 00:00:00', freq='D'), Series([], dtype: float64))\n",
      "(Timestamp('2006-09-08 00:00:00', freq='D'), Series([], dtype: float64))\n",
      "(Timestamp('2006-09-09 00:00:00', freq='D'), Series([], dtype: float64))\n",
      "(Timestamp('2006-09-10 00:00:00', freq='D'), Series([], dtype: float64))\n",
      "(Timestamp('2006-09-11 00:00:00', freq='D'), Series([], dtype: float64))\n",
      "(Timestamp('2006-09-12 00:00:00', freq='D'), Series([], dtype: float64))\n",
      "(Timestamp('2006-09-13 00:00:00', freq='D'), Series([], dtype: float64))\n",
      "(Timestamp('2006-09-14 00:00:00', freq='D'), Series([], dtype: float64))\n",
      "(Timestamp('2006-09-15 00:00:00', freq='D'), Series([], dtype: float64))\n",
      "(Timestamp('2006-09-16 00:00:00', freq='D'), Series([], dtype: float64))\n",
      "(Timestamp('2006-09-17 00:00:00', freq='D'), Series([], dtype: float64))\n",
      "(Timestamp('2006-09-18 00:00:00', freq='D'), Series([], dtype: float64))\n",
      "(Timestamp('2006-09-19 00:00:00', freq='D'), Series([], dtype: float64))\n",
      "(Timestamp('2006-09-20 00:00:00', freq='D'), Series([], dtype: float64))\n",
      "(Timestamp('2006-09-21 00:00:00', freq='D'), Series([], dtype: float64))\n",
      "(Timestamp('2006-09-22 00:00:00', freq='D'), Series([], dtype: float64))\n",
      "(Timestamp('2006-09-23 00:00:00', freq='D'), Series([], dtype: float64))\n",
      "(Timestamp('2006-09-24 00:00:00', freq='D'), Series([], dtype: float64))\n",
      "(Timestamp('2006-09-25 00:00:00', freq='D'), Series([], dtype: float64))\n",
      "(Timestamp('2006-09-26 00:00:00', freq='D'), Series([], dtype: float64))\n",
      "(Timestamp('2006-09-27 00:00:00', freq='D'), Series([], dtype: float64))\n",
      "(Timestamp('2006-09-28 00:00:00', freq='D'), Series([], dtype: float64))\n",
      "(Timestamp('2006-09-29 00:00:00', freq='D'), Series([], dtype: float64))\n",
      "(Timestamp('2006-09-30 00:00:00', freq='D'), Series([], dtype: float64))\n",
      "(Timestamp('2006-10-01 00:00:00', freq='D'), Series([], dtype: float64))\n",
      "(Timestamp('2006-10-02 00:00:00', freq='D'), Series([], dtype: float64))\n",
      "(Timestamp('2006-10-03 00:00:00', freq='D'), Series([], dtype: float64))\n",
      "(Timestamp('2006-10-04 00:00:00', freq='D'), Series([], dtype: float64))\n",
      "(Timestamp('2006-10-05 00:00:00', freq='D'), Series([], dtype: float64))\n",
      "(Timestamp('2006-10-06 00:00:00', freq='D'), Series([], dtype: float64))\n",
      "(Timestamp('2006-10-07 00:00:00', freq='D'), Series([], dtype: float64))\n",
      "(Timestamp('2006-10-08 00:00:00', freq='D'), Series([], dtype: float64))\n",
      "(Timestamp('2006-10-09 00:00:00', freq='D'), Series([], dtype: float64))\n",
      "(Timestamp('2006-10-10 00:00:00', freq='D'), Series([], dtype: float64))\n",
      "(Timestamp('2006-10-11 00:00:00', freq='D'), Series([], dtype: float64))\n",
      "(Timestamp('2006-10-12 00:00:00', freq='D'), Series([], dtype: float64))\n",
      "(Timestamp('2006-10-13 00:00:00', freq='D'), Series([], dtype: float64))\n",
      "(Timestamp('2006-10-14 00:00:00', freq='D'), Series([], dtype: float64))\n",
      "(Timestamp('2006-10-15 00:00:00', freq='D'), Series([], dtype: float64))\n",
      "(Timestamp('2006-10-16 00:00:00', freq='D'), Series([], dtype: float64))\n",
      "(Timestamp('2006-10-17 00:00:00', freq='D'), Series([], dtype: float64))\n",
      "(Timestamp('2006-10-18 00:00:00', freq='D'), Series([], dtype: float64))\n",
      "(Timestamp('2006-10-19 00:00:00', freq='D'), Series([], dtype: float64))\n",
      "(Timestamp('2006-10-20 00:00:00', freq='D'), Series([], dtype: float64))\n",
      "(Timestamp('2006-10-21 00:00:00', freq='D'), Series([], dtype: float64))\n",
      "(Timestamp('2006-10-22 00:00:00', freq='D'), Series([], dtype: float64))\n",
      "(Timestamp('2006-10-23 00:00:00', freq='D'), Series([], dtype: float64))\n",
      "(Timestamp('2006-10-24 00:00:00', freq='D'), Series([], dtype: float64))\n",
      "(Timestamp('2006-10-25 00:00:00', freq='D'), Series([], dtype: float64))\n",
      "(Timestamp('2006-10-26 00:00:00', freq='D'), Series([], dtype: float64))\n",
      "(Timestamp('2006-10-27 00:00:00', freq='D'), Series([], dtype: float64))\n",
      "(Timestamp('2006-10-28 00:00:00', freq='D'), Series([], dtype: float64))\n",
      "(Timestamp('2006-10-29 00:00:00', freq='D'), Series([], dtype: float64))\n",
      "(Timestamp('2006-10-30 00:00:00', freq='D'), Series([], dtype: float64))\n",
      "(Timestamp('2006-10-31 00:00:00', freq='D'), Series([], dtype: float64))\n",
      "(Timestamp('2006-11-01 00:00:00', freq='D'), Series([], dtype: float64))\n",
      "(Timestamp('2006-11-02 00:00:00', freq='D'), Series([], dtype: float64))\n",
      "(Timestamp('2006-11-03 00:00:00', freq='D'), Series([], dtype: float64))\n",
      "(Timestamp('2006-11-04 00:00:00', freq='D'), Series([], dtype: float64))\n",
      "(Timestamp('2006-11-05 00:00:00', freq='D'), Series([], dtype: float64))\n",
      "(Timestamp('2006-11-06 00:00:00', freq='D'), Series([], dtype: float64))\n",
      "(Timestamp('2006-11-07 00:00:00', freq='D'), Series([], dtype: float64))\n",
      "(Timestamp('2006-11-08 00:00:00', freq='D'), Series([], dtype: float64))\n",
      "(Timestamp('2006-11-09 00:00:00', freq='D'), Series([], dtype: float64))\n",
      "(Timestamp('2006-11-10 00:00:00', freq='D'), Series([], dtype: float64))\n",
      "(Timestamp('2006-11-11 00:00:00', freq='D'), Series([], dtype: float64))\n",
      "(Timestamp('2006-11-12 00:00:00', freq='D'), Series([], dtype: float64))\n",
      "(Timestamp('2006-11-13 00:00:00', freq='D'), Series([], dtype: float64))\n",
      "(Timestamp('2006-11-14 00:00:00', freq='D'), Series([], dtype: float64))\n",
      "(Timestamp('2006-11-15 00:00:00', freq='D'), Series([], dtype: float64))\n",
      "(Timestamp('2006-11-16 00:00:00', freq='D'), Series([], dtype: float64))\n",
      "(Timestamp('2006-11-17 00:00:00', freq='D'), Series([], dtype: float64))\n",
      "(Timestamp('2006-11-18 00:00:00', freq='D'), Series([], dtype: float64))\n",
      "(Timestamp('2006-11-19 00:00:00', freq='D'), Series([], dtype: float64))\n",
      "(Timestamp('2006-11-20 00:00:00', freq='D'), Series([], dtype: float64))\n",
      "(Timestamp('2006-11-21 00:00:00', freq='D'), Series([], dtype: float64))\n",
      "(Timestamp('2006-11-22 00:00:00', freq='D'), Series([], dtype: float64))\n",
      "(Timestamp('2006-11-23 00:00:00', freq='D'), Series([], dtype: float64))\n",
      "(Timestamp('2006-11-24 00:00:00', freq='D'), Series([], dtype: float64))\n",
      "(Timestamp('2006-11-25 00:00:00', freq='D'), Series([], dtype: float64))\n",
      "(Timestamp('2006-11-26 00:00:00', freq='D'), Series([], dtype: float64))\n",
      "(Timestamp('2006-11-27 00:00:00', freq='D'), Series([], dtype: float64))\n",
      "(Timestamp('2006-11-28 00:00:00', freq='D'), Series([], dtype: float64))\n",
      "(Timestamp('2006-11-29 00:00:00', freq='D'), Series([], dtype: float64))\n",
      "(Timestamp('2006-11-30 00:00:00', freq='D'), Series([], dtype: float64))\n",
      "(Timestamp('2006-12-01 00:00:00', freq='D'), Series([], dtype: float64))\n",
      "(Timestamp('2006-12-02 00:00:00', freq='D'), Series([], dtype: float64))\n",
      "(Timestamp('2006-12-03 00:00:00', freq='D'), Series([], dtype: float64))\n",
      "(Timestamp('2006-12-04 00:00:00', freq='D'), Series([], dtype: float64))\n",
      "(Timestamp('2006-12-05 00:00:00', freq='D'), Series([], dtype: float64))\n",
      "(Timestamp('2006-12-06 00:00:00', freq='D'), Series([], dtype: float64))\n",
      "(Timestamp('2006-12-07 00:00:00', freq='D'), Series([], dtype: float64))\n",
      "(Timestamp('2006-12-08 00:00:00', freq='D'), Series([], dtype: float64))\n",
      "(Timestamp('2006-12-09 00:00:00', freq='D'), Series([], dtype: float64))\n",
      "(Timestamp('2006-12-10 00:00:00', freq='D'), Series([], dtype: float64))\n",
      "(Timestamp('2006-12-11 00:00:00', freq='D'), Series([], dtype: float64))\n",
      "(Timestamp('2006-12-12 00:00:00', freq='D'), Series([], dtype: float64))\n",
      "(Timestamp('2006-12-13 00:00:00', freq='D'), Series([], dtype: float64))\n",
      "(Timestamp('2006-12-14 00:00:00', freq='D'), Series([], dtype: float64))\n",
      "(Timestamp('2006-12-15 00:00:00', freq='D'), Series([], dtype: float64))\n",
      "(Timestamp('2006-12-16 00:00:00', freq='D'), Series([], dtype: float64))\n",
      "(Timestamp('2006-12-17 00:00:00', freq='D'), Series([], dtype: float64))\n",
      "(Timestamp('2006-12-18 00:00:00', freq='D'), Series([], dtype: float64))\n",
      "(Timestamp('2006-12-19 00:00:00', freq='D'), Series([], dtype: float64))\n",
      "(Timestamp('2006-12-20 00:00:00', freq='D'), Series([], dtype: float64))\n",
      "(Timestamp('2006-12-21 00:00:00', freq='D'), Series([], dtype: float64))\n",
      "(Timestamp('2006-12-22 00:00:00', freq='D'), Series([], dtype: float64))\n",
      "(Timestamp('2006-12-23 00:00:00', freq='D'), Series([], dtype: float64))\n",
      "(Timestamp('2006-12-24 00:00:00', freq='D'), Series([], dtype: float64))\n",
      "(Timestamp('2006-12-25 00:00:00', freq='D'), Series([], dtype: float64))\n",
      "(Timestamp('2006-12-26 00:00:00', freq='D'), Series([], dtype: float64))\n",
      "(Timestamp('2006-12-27 00:00:00', freq='D'), Series([], dtype: float64))\n",
      "(Timestamp('2006-12-28 00:00:00', freq='D'), Series([], dtype: float64))\n",
      "(Timestamp('2006-12-29 00:00:00', freq='D'), Series([], dtype: float64))\n",
      "(Timestamp('2006-12-30 00:00:00', freq='D'), Series([], dtype: float64))\n",
      "(Timestamp('2006-12-31 00:00:00', freq='D'), Series([], dtype: float64))\n",
      "(Timestamp('2007-01-01 00:00:00', freq='D'), Series([], dtype: float64))\n",
      "(Timestamp('2007-01-02 00:00:00', freq='D'), Series([], dtype: float64))\n",
      "(Timestamp('2007-01-03 00:00:00', freq='D'), Series([], dtype: float64))\n",
      "(Timestamp('2007-01-04 00:00:00', freq='D'), Series([], dtype: float64))\n",
      "(Timestamp('2007-01-05 00:00:00', freq='D'), Series([], dtype: float64))\n",
      "(Timestamp('2007-01-06 00:00:00', freq='D'), Series([], dtype: float64))\n",
      "(Timestamp('2007-01-07 00:00:00', freq='D'), Series([], dtype: float64))\n",
      "(Timestamp('2007-01-08 00:00:00', freq='D'), Series([], dtype: float64))\n",
      "(Timestamp('2007-01-09 00:00:00', freq='D'), Series([], dtype: float64))\n",
      "(Timestamp('2007-01-10 00:00:00', freq='D'), Series([], dtype: float64))\n",
      "(Timestamp('2007-01-11 00:00:00', freq='D'), Series([], dtype: float64))\n",
      "(Timestamp('2007-01-12 00:00:00', freq='D'), Series([], dtype: float64))\n",
      "(Timestamp('2007-01-13 00:00:00', freq='D'), Series([], dtype: float64))\n",
      "(Timestamp('2007-01-14 00:00:00', freq='D'), Series([], dtype: float64))\n",
      "(Timestamp('2007-01-15 00:00:00', freq='D'), Series([], dtype: float64))\n",
      "(Timestamp('2007-01-16 00:00:00', freq='D'), Series([], dtype: float64))\n",
      "(Timestamp('2007-01-17 00:00:00', freq='D'), Series([], dtype: float64))\n",
      "(Timestamp('2007-01-18 00:00:00', freq='D'), Series([], dtype: float64))\n",
      "(Timestamp('2007-01-19 00:00:00', freq='D'), Series([], dtype: float64))\n",
      "(Timestamp('2007-01-20 00:00:00', freq='D'), Series([], dtype: float64))\n",
      "(Timestamp('2007-01-21 00:00:00', freq='D'), Series([], dtype: float64))\n",
      "(Timestamp('2007-01-22 00:00:00', freq='D'), Series([], dtype: float64))\n",
      "(Timestamp('2007-01-23 00:00:00', freq='D'), Series([], dtype: float64))\n",
      "(Timestamp('2007-01-24 00:00:00', freq='D'), Series([], dtype: float64))\n",
      "(Timestamp('2007-01-25 00:00:00', freq='D'), Series([], dtype: float64))\n",
      "(Timestamp('2007-01-26 00:00:00', freq='D'), Series([], dtype: float64))\n",
      "(Timestamp('2007-01-27 00:00:00', freq='D'), Series([], dtype: float64))\n",
      "(Timestamp('2007-01-28 00:00:00', freq='D'), Series([], dtype: float64))\n",
      "(Timestamp('2007-01-29 00:00:00', freq='D'), Series([], dtype: float64))\n",
      "(Timestamp('2007-01-30 00:00:00', freq='D'), Series([], dtype: float64))\n",
      "(Timestamp('2007-01-31 00:00:00', freq='D'), Series([], dtype: float64))\n",
      "(Timestamp('2007-02-01 00:00:00', freq='D'), Series([], dtype: float64))\n",
      "(Timestamp('2007-02-02 00:00:00', freq='D'), Series([], dtype: float64))\n",
      "(Timestamp('2007-02-03 00:00:00', freq='D'), Series([], dtype: float64))\n",
      "(Timestamp('2007-02-04 00:00:00', freq='D'), Series([], dtype: float64))\n",
      "(Timestamp('2007-02-05 00:00:00', freq='D'), Series([], dtype: float64))\n",
      "(Timestamp('2007-02-06 00:00:00', freq='D'), Series([], dtype: float64))\n",
      "(Timestamp('2007-02-07 00:00:00', freq='D'), Series([], dtype: float64))\n",
      "(Timestamp('2007-02-08 00:00:00', freq='D'), Series([], dtype: float64))\n",
      "(Timestamp('2007-02-09 00:00:00', freq='D'), Series([], dtype: float64))\n",
      "(Timestamp('2007-02-10 00:00:00', freq='D'), Series([], dtype: float64))\n",
      "(Timestamp('2007-02-11 00:00:00', freq='D'), Series([], dtype: float64))\n",
      "(Timestamp('2007-02-12 00:00:00', freq='D'), Series([], dtype: float64))\n",
      "(Timestamp('2007-02-13 00:00:00', freq='D'), Series([], dtype: float64))\n",
      "(Timestamp('2007-02-14 00:00:00', freq='D'), Series([], dtype: float64))\n",
      "(Timestamp('2007-02-15 00:00:00', freq='D'), Series([], dtype: float64))\n",
      "(Timestamp('2007-02-16 00:00:00', freq='D'), Series([], dtype: float64))\n",
      "(Timestamp('2007-02-17 00:00:00', freq='D'), Series([], dtype: float64))\n",
      "(Timestamp('2007-02-18 00:00:00', freq='D'), Series([], dtype: float64))\n",
      "(Timestamp('2007-02-19 00:00:00', freq='D'), Series([], dtype: float64))\n",
      "(Timestamp('2007-02-20 00:00:00', freq='D'), Series([], dtype: float64))\n",
      "(Timestamp('2007-02-21 00:00:00', freq='D'), Series([], dtype: float64))\n",
      "(Timestamp('2007-02-22 00:00:00', freq='D'), Series([], dtype: float64))\n",
      "(Timestamp('2007-02-23 00:00:00', freq='D'), Series([], dtype: float64))\n",
      "(Timestamp('2007-02-24 00:00:00', freq='D'), Series([], dtype: float64))\n",
      "(Timestamp('2007-02-25 00:00:00', freq='D'), Series([], dtype: float64))\n",
      "(Timestamp('2007-02-26 00:00:00', freq='D'), Series([], dtype: float64))\n",
      "(Timestamp('2007-02-27 00:00:00', freq='D'), Series([], dtype: float64))\n",
      "(Timestamp('2007-02-28 00:00:00', freq='D'), Series([], dtype: float64))\n",
      "(Timestamp('2007-03-01 00:00:00', freq='D'), Series([], dtype: float64))\n",
      "(Timestamp('2007-03-02 00:00:00', freq='D'), Series([], dtype: float64))\n",
      "(Timestamp('2007-03-03 00:00:00', freq='D'), Series([], dtype: float64))\n",
      "(Timestamp('2007-03-04 00:00:00', freq='D'), Series([], dtype: float64))\n",
      "(Timestamp('2007-03-05 00:00:00', freq='D'), Series([], dtype: float64))\n",
      "(Timestamp('2007-03-06 00:00:00', freq='D'), Series([], dtype: float64))\n",
      "(Timestamp('2007-03-07 00:00:00', freq='D'), Series([], dtype: float64))\n",
      "(Timestamp('2007-03-08 00:00:00', freq='D'), Series([], dtype: float64))\n",
      "(Timestamp('2007-03-09 00:00:00', freq='D'), Series([], dtype: float64))\n",
      "(Timestamp('2007-03-10 00:00:00', freq='D'), Series([], dtype: float64))\n",
      "(Timestamp('2007-03-11 00:00:00', freq='D'), Series([], dtype: float64))\n",
      "(Timestamp('2007-03-12 00:00:00', freq='D'), Series([], dtype: float64))\n",
      "(Timestamp('2007-03-13 00:00:00', freq='D'), Series([], dtype: float64))\n",
      "(Timestamp('2007-03-14 00:00:00', freq='D'), Series([], dtype: float64))\n",
      "(Timestamp('2007-03-15 00:00:00', freq='D'), Series([], dtype: float64))\n",
      "(Timestamp('2007-03-16 00:00:00', freq='D'), Series([], dtype: float64))\n",
      "(Timestamp('2007-03-17 00:00:00', freq='D'), Series([], dtype: float64))\n",
      "(Timestamp('2007-03-18 00:00:00', freq='D'), Series([], dtype: float64))\n",
      "(Timestamp('2007-03-19 00:00:00', freq='D'), Series([], dtype: float64))\n",
      "(Timestamp('2007-03-20 00:00:00', freq='D'), Series([], dtype: float64))\n",
      "(Timestamp('2007-03-21 00:00:00', freq='D'), Series([], dtype: float64))\n",
      "(Timestamp('2007-03-22 00:00:00', freq='D'), Series([], dtype: float64))\n",
      "(Timestamp('2007-03-23 00:00:00', freq='D'), Series([], dtype: float64))\n",
      "(Timestamp('2007-03-24 00:00:00', freq='D'), Series([], dtype: float64))\n",
      "(Timestamp('2007-03-25 00:00:00', freq='D'), Series([], dtype: float64))\n",
      "(Timestamp('2007-03-26 00:00:00', freq='D'), Series([], dtype: float64))\n",
      "(Timestamp('2007-03-27 00:00:00', freq='D'), Series([], dtype: float64))\n",
      "(Timestamp('2007-03-28 00:00:00', freq='D'), Series([], dtype: float64))\n",
      "(Timestamp('2007-03-29 00:00:00', freq='D'), Series([], dtype: float64))\n",
      "(Timestamp('2007-03-30 00:00:00', freq='D'), Series([], dtype: float64))\n",
      "(Timestamp('2007-03-31 00:00:00', freq='D'), Series([], dtype: float64))\n",
      "(Timestamp('2007-04-01 00:00:00', freq='D'), Series([], dtype: float64))\n",
      "(Timestamp('2007-04-02 00:00:00', freq='D'), Series([], dtype: float64))\n",
      "(Timestamp('2007-04-03 00:00:00', freq='D'), Series([], dtype: float64))\n",
      "(Timestamp('2007-04-04 00:00:00', freq='D'), Series([], dtype: float64))\n",
      "(Timestamp('2007-04-05 00:00:00', freq='D'), Series([], dtype: float64))\n",
      "(Timestamp('2007-04-06 00:00:00', freq='D'), Series([], dtype: float64))\n",
      "(Timestamp('2007-04-07 00:00:00', freq='D'), Series([], dtype: float64))\n",
      "(Timestamp('2007-04-08 00:00:00', freq='D'), Series([], dtype: float64))\n",
      "(Timestamp('2007-04-09 00:00:00', freq='D'), Series([], dtype: float64))\n",
      "(Timestamp('2007-04-10 00:00:00', freq='D'), Series([], dtype: float64))\n",
      "(Timestamp('2007-04-11 00:00:00', freq='D'), Series([], dtype: float64))\n",
      "(Timestamp('2007-04-12 00:00:00', freq='D'), Series([], dtype: float64))\n",
      "(Timestamp('2007-04-13 00:00:00', freq='D'), Series([], dtype: float64))\n",
      "(Timestamp('2007-04-14 00:00:00', freq='D'), Series([], dtype: float64))\n",
      "(Timestamp('2007-04-15 00:00:00', freq='D'), Series([], dtype: float64))\n",
      "(Timestamp('2007-04-16 00:00:00', freq='D'), Series([], dtype: float64))\n",
      "(Timestamp('2007-04-17 00:00:00', freq='D'), Series([], dtype: float64))\n",
      "(Timestamp('2007-04-18 00:00:00', freq='D'), Series([], dtype: float64))\n",
      "(Timestamp('2007-04-19 00:00:00', freq='D'), Series([], dtype: float64))\n",
      "(Timestamp('2007-04-20 00:00:00', freq='D'), Series([], dtype: float64))\n",
      "(Timestamp('2007-04-21 00:00:00', freq='D'), Series([], dtype: float64))\n",
      "(Timestamp('2007-04-22 00:00:00', freq='D'), Series([], dtype: float64))\n",
      "(Timestamp('2007-04-23 00:00:00', freq='D'), Series([], dtype: float64))\n",
      "(Timestamp('2007-04-24 00:00:00', freq='D'), Series([], dtype: float64))\n",
      "(Timestamp('2007-04-25 00:00:00', freq='D'), Series([], dtype: float64))\n",
      "(Timestamp('2007-04-26 00:00:00', freq='D'), Series([], dtype: float64))\n",
      "(Timestamp('2007-04-27 00:00:00', freq='D'), Series([], dtype: float64))\n",
      "(Timestamp('2007-04-28 00:00:00', freq='D'), Series([], dtype: float64))\n",
      "(Timestamp('2007-04-29 00:00:00', freq='D'), Series([], dtype: float64))\n",
      "(Timestamp('2007-04-30 00:00:00', freq='D'), Series([], dtype: float64))\n",
      "(Timestamp('2007-05-01 00:00:00', freq='D'), Series([], dtype: float64))\n",
      "(Timestamp('2007-05-02 00:00:00', freq='D'), Series([], dtype: float64))\n",
      "(Timestamp('2007-05-03 00:00:00', freq='D'), Series([], dtype: float64))\n",
      "(Timestamp('2007-05-04 00:00:00', freq='D'), Series([], dtype: float64))\n",
      "(Timestamp('2007-05-05 00:00:00', freq='D'), Series([], dtype: float64))\n",
      "(Timestamp('2007-05-06 00:00:00', freq='D'), Series([], dtype: float64))\n",
      "(Timestamp('2007-05-07 00:00:00', freq='D'), Series([], dtype: float64))\n",
      "(Timestamp('2007-05-08 00:00:00', freq='D'), Series([], dtype: float64))\n",
      "(Timestamp('2007-05-09 00:00:00', freq='D'), Series([], dtype: float64))\n",
      "(Timestamp('2007-05-10 00:00:00', freq='D'), Series([], dtype: float64))\n",
      "(Timestamp('2007-05-11 00:00:00', freq='D'), Series([], dtype: float64))\n",
      "(Timestamp('2007-05-12 00:00:00', freq='D'), Series([], dtype: float64))\n",
      "(Timestamp('2007-05-13 00:00:00', freq='D'), Series([], dtype: float64))\n",
      "(Timestamp('2007-05-14 00:00:00', freq='D'), Series([], dtype: float64))\n",
      "(Timestamp('2007-05-15 00:00:00', freq='D'), Series([], dtype: float64))\n",
      "(Timestamp('2007-05-16 00:00:00', freq='D'), Series([], dtype: float64))\n",
      "(Timestamp('2007-05-17 00:00:00', freq='D'), Series([], dtype: float64))\n",
      "(Timestamp('2007-05-18 00:00:00', freq='D'), Series([], dtype: float64))\n",
      "(Timestamp('2007-05-19 00:00:00', freq='D'), Series([], dtype: float64))\n",
      "(Timestamp('2007-05-20 00:00:00', freq='D'), Series([], dtype: float64))\n",
      "(Timestamp('2007-05-21 00:00:00', freq='D'), Series([], dtype: float64))\n",
      "(Timestamp('2007-05-22 00:00:00', freq='D'), Series([], dtype: float64))\n",
      "(Timestamp('2007-05-23 00:00:00', freq='D'), Series([], dtype: float64))\n",
      "(Timestamp('2007-05-24 00:00:00', freq='D'), Series([], dtype: float64))\n",
      "(Timestamp('2007-05-25 00:00:00', freq='D'), Series([], dtype: float64))\n",
      "(Timestamp('2007-05-26 00:00:00', freq='D'), Series([], dtype: float64))\n",
      "(Timestamp('2007-05-27 00:00:00', freq='D'), Series([], dtype: float64))\n",
      "(Timestamp('2007-05-28 00:00:00', freq='D'), Series([], dtype: float64))\n",
      "(Timestamp('2007-05-29 00:00:00', freq='D'), Series([], dtype: float64))\n",
      "(Timestamp('2007-05-30 00:00:00', freq='D'), Series([], dtype: float64))\n",
      "(Timestamp('2007-05-31 00:00:00', freq='D'), Series([], dtype: float64))\n",
      "(Timestamp('2007-06-01 00:00:00', freq='D'), Series([], dtype: float64))\n",
      "(Timestamp('2007-06-02 00:00:00', freq='D'), Series([], dtype: float64))\n",
      "(Timestamp('2007-06-03 00:00:00', freq='D'), Series([], dtype: float64))\n",
      "(Timestamp('2007-06-04 00:00:00', freq='D'), Series([], dtype: float64))\n",
      "(Timestamp('2007-06-05 00:00:00', freq='D'), Series([], dtype: float64))\n",
      "(Timestamp('2007-06-06 00:00:00', freq='D'), Series([], dtype: float64))\n",
      "(Timestamp('2007-06-07 00:00:00', freq='D'), Series([], dtype: float64))\n",
      "(Timestamp('2007-06-08 00:00:00', freq='D'), Series([], dtype: float64))\n",
      "(Timestamp('2007-06-09 00:00:00', freq='D'), Series([], dtype: float64))\n",
      "(Timestamp('2007-06-10 00:00:00', freq='D'), Series([], dtype: float64))\n",
      "(Timestamp('2007-06-11 00:00:00', freq='D'), Series([], dtype: float64))\n",
      "(Timestamp('2007-06-12 00:00:00', freq='D'), Series([], dtype: float64))\n",
      "(Timestamp('2007-06-13 00:00:00', freq='D'), Series([], dtype: float64))\n",
      "(Timestamp('2007-06-14 00:00:00', freq='D'), Series([], dtype: float64))\n",
      "(Timestamp('2007-06-15 00:00:00', freq='D'), Series([], dtype: float64))\n",
      "(Timestamp('2007-06-16 00:00:00', freq='D'), Series([], dtype: float64))\n",
      "(Timestamp('2007-06-17 00:00:00', freq='D'), Series([], dtype: float64))\n",
      "(Timestamp('2007-06-18 00:00:00', freq='D'), Series([], dtype: float64))\n",
      "(Timestamp('2007-06-19 00:00:00', freq='D'), Series([], dtype: float64))\n",
      "(Timestamp('2007-06-20 00:00:00', freq='D'), Series([], dtype: float64))\n",
      "(Timestamp('2007-06-21 00:00:00', freq='D'), Series([], dtype: float64))\n",
      "(Timestamp('2007-06-22 00:00:00', freq='D'), Series([], dtype: float64))\n",
      "(Timestamp('2007-06-23 00:00:00', freq='D'), Series([], dtype: float64))\n",
      "(Timestamp('2007-06-24 00:00:00', freq='D'), Series([], dtype: float64))\n",
      "(Timestamp('2007-06-25 00:00:00', freq='D'), Series([], dtype: float64))\n",
      "(Timestamp('2007-06-26 00:00:00', freq='D'), Series([], dtype: float64))\n",
      "(Timestamp('2007-06-27 00:00:00', freq='D'), Series([], dtype: float64))\n",
      "(Timestamp('2007-06-28 00:00:00', freq='D'), Series([], dtype: float64))\n",
      "(Timestamp('2007-06-29 00:00:00', freq='D'), Series([], dtype: float64))\n",
      "(Timestamp('2007-06-30 00:00:00', freq='D'), Series([], dtype: float64))\n",
      "(Timestamp('2007-07-01 00:00:00', freq='D'), Series([], dtype: float64))\n",
      "(Timestamp('2007-07-02 00:00:00', freq='D'), Series([], dtype: float64))\n",
      "(Timestamp('2007-07-03 00:00:00', freq='D'), Series([], dtype: float64))\n",
      "(Timestamp('2007-07-04 00:00:00', freq='D'), Series([], dtype: float64))\n",
      "(Timestamp('2007-07-05 00:00:00', freq='D'), Series([], dtype: float64))\n",
      "(Timestamp('2007-07-06 00:00:00', freq='D'), Series([], dtype: float64))\n",
      "(Timestamp('2007-07-07 00:00:00', freq='D'), Series([], dtype: float64))\n",
      "(Timestamp('2007-07-08 00:00:00', freq='D'), Series([], dtype: float64))\n",
      "(Timestamp('2007-07-09 00:00:00', freq='D'), Series([], dtype: float64))\n",
      "(Timestamp('2007-07-10 00:00:00', freq='D'), Series([], dtype: float64))\n",
      "(Timestamp('2007-07-11 00:00:00', freq='D'), Series([], dtype: float64))\n",
      "(Timestamp('2007-07-12 00:00:00', freq='D'), Series([], dtype: float64))\n",
      "(Timestamp('2007-07-13 00:00:00', freq='D'), Series([], dtype: float64))\n",
      "(Timestamp('2007-07-14 00:00:00', freq='D'), Series([], dtype: float64))\n",
      "(Timestamp('2007-07-15 00:00:00', freq='D'), Series([], dtype: float64))\n",
      "(Timestamp('2007-07-16 00:00:00', freq='D'), Series([], dtype: float64))\n",
      "(Timestamp('2007-07-17 00:00:00', freq='D'), Series([], dtype: float64))\n",
      "(Timestamp('2007-07-18 00:00:00', freq='D'), Series([], dtype: float64))\n",
      "(Timestamp('2007-07-19 00:00:00', freq='D'), Series([], dtype: float64))\n",
      "(Timestamp('2007-07-20 00:00:00', freq='D'), Series([], dtype: float64))\n",
      "(Timestamp('2007-07-21 00:00:00', freq='D'), Series([], dtype: float64))\n",
      "(Timestamp('2007-07-22 00:00:00', freq='D'), Series([], dtype: float64))\n",
      "(Timestamp('2007-07-23 00:00:00', freq='D'), Series([], dtype: float64))\n",
      "(Timestamp('2007-07-24 00:00:00', freq='D'), Series([], dtype: float64))\n",
      "(Timestamp('2007-07-25 00:00:00', freq='D'), Series([], dtype: float64))\n",
      "(Timestamp('2007-07-26 00:00:00', freq='D'), Series([], dtype: float64))\n",
      "(Timestamp('2007-07-27 00:00:00', freq='D'), Series([], dtype: float64))\n",
      "(Timestamp('2007-07-28 00:00:00', freq='D'), Series([], dtype: float64))\n",
      "(Timestamp('2007-07-29 00:00:00', freq='D'), Series([], dtype: float64))\n",
      "(Timestamp('2007-07-30 00:00:00', freq='D'), Series([], dtype: float64))\n",
      "(Timestamp('2007-07-31 00:00:00', freq='D'), Series([], dtype: float64))\n",
      "(Timestamp('2007-08-01 00:00:00', freq='D'), Series([], dtype: float64))\n",
      "(Timestamp('2007-08-02 00:00:00', freq='D'), Series([], dtype: float64))\n",
      "(Timestamp('2007-08-03 00:00:00', freq='D'), Series([], dtype: float64))\n",
      "(Timestamp('2007-08-04 00:00:00', freq='D'), Series([], dtype: float64))\n",
      "(Timestamp('2007-08-05 00:00:00', freq='D'), Series([], dtype: float64))\n",
      "(Timestamp('2007-08-06 00:00:00', freq='D'), Series([], dtype: float64))\n",
      "(Timestamp('2007-08-07 00:00:00', freq='D'), Series([], dtype: float64))\n",
      "(Timestamp('2007-08-08 00:00:00', freq='D'), Series([], dtype: float64))\n",
      "(Timestamp('2007-08-09 00:00:00', freq='D'), Series([], dtype: float64))\n",
      "(Timestamp('2007-08-10 00:00:00', freq='D'), Series([], dtype: float64))\n",
      "(Timestamp('2007-08-11 00:00:00', freq='D'), Series([], dtype: float64))\n",
      "(Timestamp('2007-08-12 00:00:00', freq='D'), Series([], dtype: float64))\n",
      "(Timestamp('2007-08-13 00:00:00', freq='D'), Series([], dtype: float64))\n",
      "(Timestamp('2007-08-14 00:00:00', freq='D'), Series([], dtype: float64))\n",
      "(Timestamp('2007-08-15 00:00:00', freq='D'), Series([], dtype: float64))\n",
      "(Timestamp('2007-08-16 00:00:00', freq='D'), Series([], dtype: float64))\n",
      "(Timestamp('2007-08-17 00:00:00', freq='D'), Series([], dtype: float64))\n",
      "(Timestamp('2007-08-18 00:00:00', freq='D'), Series([], dtype: float64))\n",
      "(Timestamp('2007-08-19 00:00:00', freq='D'), Series([], dtype: float64))\n",
      "(Timestamp('2007-08-20 00:00:00', freq='D'), Series([], dtype: float64))\n",
      "(Timestamp('2007-08-21 00:00:00', freq='D'), Series([], dtype: float64))\n",
      "(Timestamp('2007-08-22 00:00:00', freq='D'), Series([], dtype: float64))\n",
      "(Timestamp('2007-08-23 00:00:00', freq='D'), Series([], dtype: float64))\n",
      "(Timestamp('2007-08-24 00:00:00', freq='D'), Series([], dtype: float64))\n",
      "(Timestamp('2007-08-25 00:00:00', freq='D'), Series([], dtype: float64))\n",
      "(Timestamp('2007-08-26 00:00:00', freq='D'), Series([], dtype: float64))\n",
      "(Timestamp('2007-08-27 00:00:00', freq='D'), Series([], dtype: float64))\n",
      "(Timestamp('2007-08-28 00:00:00', freq='D'), Series([], dtype: float64))\n",
      "(Timestamp('2007-08-29 00:00:00', freq='D'), Series([], dtype: float64))\n",
      "(Timestamp('2007-08-30 00:00:00', freq='D'), Series([], dtype: float64))\n",
      "(Timestamp('2007-08-31 00:00:00', freq='D'), Series([], dtype: float64))\n",
      "(Timestamp('2007-09-01 00:00:00', freq='D'), Series([], dtype: float64))\n",
      "(Timestamp('2007-09-02 00:00:00', freq='D'), Series([], dtype: float64))\n",
      "(Timestamp('2007-09-03 00:00:00', freq='D'), Series([], dtype: float64))\n",
      "(Timestamp('2007-09-04 00:00:00', freq='D'), Series([], dtype: float64))\n",
      "(Timestamp('2007-09-05 00:00:00', freq='D'), Series([], dtype: float64))\n",
      "(Timestamp('2007-09-06 00:00:00', freq='D'), Series([], dtype: float64))\n",
      "(Timestamp('2007-09-07 00:00:00', freq='D'), Series([], dtype: float64))\n",
      "(Timestamp('2007-09-08 00:00:00', freq='D'), Series([], dtype: float64))\n",
      "(Timestamp('2007-09-09 00:00:00', freq='D'), Series([], dtype: float64))\n",
      "(Timestamp('2007-09-10 00:00:00', freq='D'), Series([], dtype: float64))\n",
      "(Timestamp('2007-09-11 00:00:00', freq='D'), Series([], dtype: float64))\n",
      "(Timestamp('2007-09-12 00:00:00', freq='D'), Series([], dtype: float64))\n",
      "(Timestamp('2007-09-13 00:00:00', freq='D'), Series([], dtype: float64))\n",
      "(Timestamp('2007-09-14 00:00:00', freq='D'), Series([], dtype: float64))\n",
      "(Timestamp('2007-09-15 00:00:00', freq='D'), Series([], dtype: float64))\n",
      "(Timestamp('2007-09-16 00:00:00', freq='D'), Series([], dtype: float64))\n",
      "(Timestamp('2007-09-17 00:00:00', freq='D'), Series([], dtype: float64))\n",
      "(Timestamp('2007-09-18 00:00:00', freq='D'), Series([], dtype: float64))\n",
      "(Timestamp('2007-09-19 00:00:00', freq='D'), Series([], dtype: float64))\n",
      "(Timestamp('2007-09-20 00:00:00', freq='D'), Series([], dtype: float64))\n",
      "(Timestamp('2007-09-21 00:00:00', freq='D'), Series([], dtype: float64))\n",
      "(Timestamp('2007-09-22 00:00:00', freq='D'), Series([], dtype: float64))\n",
      "(Timestamp('2007-09-23 00:00:00', freq='D'), Series([], dtype: float64))\n",
      "(Timestamp('2007-09-24 00:00:00', freq='D'), Series([], dtype: float64))\n",
      "(Timestamp('2007-09-25 00:00:00', freq='D'), Series([], dtype: float64))\n",
      "(Timestamp('2007-09-26 00:00:00', freq='D'), Series([], dtype: float64))\n",
      "(Timestamp('2007-09-27 00:00:00', freq='D'), Series([], dtype: float64))\n",
      "(Timestamp('2007-09-28 00:00:00', freq='D'), Series([], dtype: float64))\n",
      "(Timestamp('2007-09-29 00:00:00', freq='D'), Series([], dtype: float64))\n",
      "(Timestamp('2007-09-30 00:00:00', freq='D'), Series([], dtype: float64))\n",
      "(Timestamp('2007-10-01 00:00:00', freq='D'), Series([], dtype: float64))\n",
      "(Timestamp('2007-10-02 00:00:00', freq='D'), Series([], dtype: float64))\n",
      "(Timestamp('2007-10-03 00:00:00', freq='D'), Series([], dtype: float64))\n",
      "(Timestamp('2007-10-04 00:00:00', freq='D'), Series([], dtype: float64))\n",
      "(Timestamp('2007-10-05 00:00:00', freq='D'), Series([], dtype: float64))\n",
      "(Timestamp('2007-10-06 00:00:00', freq='D'), Series([], dtype: float64))\n",
      "(Timestamp('2007-10-07 00:00:00', freq='D'), Series([], dtype: float64))\n",
      "(Timestamp('2007-10-08 00:00:00', freq='D'), Series([], dtype: float64))\n",
      "(Timestamp('2007-10-09 00:00:00', freq='D'), Series([], dtype: float64))\n",
      "(Timestamp('2007-10-10 00:00:00', freq='D'), Series([], dtype: float64))\n",
      "(Timestamp('2007-10-11 00:00:00', freq='D'), Series([], dtype: float64))\n",
      "(Timestamp('2007-10-12 00:00:00', freq='D'), Series([], dtype: float64))\n",
      "(Timestamp('2007-10-13 00:00:00', freq='D'), Series([], dtype: float64))\n",
      "(Timestamp('2007-10-14 00:00:00', freq='D'), Series([], dtype: float64))\n",
      "(Timestamp('2007-10-15 00:00:00', freq='D'), Series([], dtype: float64))\n",
      "(Timestamp('2007-10-16 00:00:00', freq='D'), Series([], dtype: float64))\n",
      "(Timestamp('2007-10-17 00:00:00', freq='D'), Series([], dtype: float64))\n",
      "(Timestamp('2007-10-18 00:00:00', freq='D'), Series([], dtype: float64))\n",
      "(Timestamp('2007-10-19 00:00:00', freq='D'), Series([], dtype: float64))\n",
      "(Timestamp('2007-10-20 00:00:00', freq='D'), Series([], dtype: float64))\n",
      "(Timestamp('2007-10-21 00:00:00', freq='D'), Series([], dtype: float64))\n",
      "(Timestamp('2007-10-22 00:00:00', freq='D'), Series([], dtype: float64))\n",
      "(Timestamp('2007-10-23 00:00:00', freq='D'), Series([], dtype: float64))\n",
      "(Timestamp('2007-10-24 00:00:00', freq='D'), Series([], dtype: float64))\n",
      "(Timestamp('2007-10-25 00:00:00', freq='D'), Series([], dtype: float64))\n",
      "(Timestamp('2007-10-26 00:00:00', freq='D'), Series([], dtype: float64))\n",
      "(Timestamp('2007-10-27 00:00:00', freq='D'), Series([], dtype: float64))\n",
      "(Timestamp('2007-10-28 00:00:00', freq='D'), Series([], dtype: float64))\n",
      "(Timestamp('2007-10-29 00:00:00', freq='D'), Series([], dtype: float64))\n",
      "(Timestamp('2007-10-30 00:00:00', freq='D'), Series([], dtype: float64))\n",
      "(Timestamp('2007-10-31 00:00:00', freq='D'), Series([], dtype: float64))\n",
      "(Timestamp('2007-11-01 00:00:00', freq='D'), Series([], dtype: float64))\n",
      "(Timestamp('2007-11-02 00:00:00', freq='D'), Series([], dtype: float64))\n",
      "(Timestamp('2007-11-03 00:00:00', freq='D'), Series([], dtype: float64))\n",
      "(Timestamp('2007-11-04 00:00:00', freq='D'), Series([], dtype: float64))\n",
      "(Timestamp('2007-11-05 00:00:00', freq='D'), Series([], dtype: float64))\n",
      "(Timestamp('2007-11-06 00:00:00', freq='D'), Series([], dtype: float64))\n",
      "(Timestamp('2007-11-07 00:00:00', freq='D'), Series([], dtype: float64))\n",
      "(Timestamp('2007-11-08 00:00:00', freq='D'), Series([], dtype: float64))\n",
      "(Timestamp('2007-11-09 00:00:00', freq='D'), Series([], dtype: float64))\n",
      "(Timestamp('2007-11-10 00:00:00', freq='D'), Series([], dtype: float64))\n",
      "(Timestamp('2007-11-11 00:00:00', freq='D'), Series([], dtype: float64))\n",
      "(Timestamp('2007-11-12 00:00:00', freq='D'), Series([], dtype: float64))\n",
      "(Timestamp('2007-11-13 00:00:00', freq='D'), Series([], dtype: float64))\n",
      "(Timestamp('2007-11-14 00:00:00', freq='D'), Series([], dtype: float64))\n",
      "(Timestamp('2007-11-15 00:00:00', freq='D'), Series([], dtype: float64))\n",
      "(Timestamp('2007-11-16 00:00:00', freq='D'), Series([], dtype: float64))\n",
      "(Timestamp('2007-11-17 00:00:00', freq='D'), Series([], dtype: float64))\n",
      "(Timestamp('2007-11-18 00:00:00', freq='D'), Series([], dtype: float64))\n",
      "(Timestamp('2007-11-19 00:00:00', freq='D'), Series([], dtype: float64))\n",
      "(Timestamp('2007-11-20 00:00:00', freq='D'), Series([], dtype: float64))\n",
      "(Timestamp('2007-11-21 00:00:00', freq='D'), Series([], dtype: float64))\n",
      "(Timestamp('2007-11-22 00:00:00', freq='D'), Series([], dtype: float64))\n",
      "(Timestamp('2007-11-23 00:00:00', freq='D'), Series([], dtype: float64))\n",
      "(Timestamp('2007-11-24 00:00:00', freq='D'), Series([], dtype: float64))\n",
      "(Timestamp('2007-11-25 00:00:00', freq='D'), Series([], dtype: float64))\n",
      "(Timestamp('2007-11-26 00:00:00', freq='D'), Series([], dtype: float64))\n",
      "(Timestamp('2007-11-27 00:00:00', freq='D'), Series([], dtype: float64))\n",
      "(Timestamp('2007-11-28 00:00:00', freq='D'), Series([], dtype: float64))\n",
      "(Timestamp('2007-11-29 00:00:00', freq='D'), Series([], dtype: float64))\n",
      "(Timestamp('2007-11-30 00:00:00', freq='D'), Series([], dtype: float64))\n",
      "(Timestamp('2007-12-01 00:00:00', freq='D'), Series([], dtype: float64))\n",
      "(Timestamp('2007-12-02 00:00:00', freq='D'), Series([], dtype: float64))\n",
      "(Timestamp('2007-12-03 00:00:00', freq='D'), Series([], dtype: float64))\n",
      "(Timestamp('2007-12-04 00:00:00', freq='D'), Series([], dtype: float64))\n",
      "(Timestamp('2007-12-05 00:00:00', freq='D'), Series([], dtype: float64))\n",
      "(Timestamp('2007-12-06 00:00:00', freq='D'), Series([], dtype: float64))\n",
      "(Timestamp('2007-12-07 00:00:00', freq='D'), Series([], dtype: float64))\n",
      "(Timestamp('2007-12-08 00:00:00', freq='D'), Series([], dtype: float64))\n",
      "(Timestamp('2007-12-09 00:00:00', freq='D'), Series([], dtype: float64))\n",
      "(Timestamp('2007-12-10 00:00:00', freq='D'), Series([], dtype: float64))\n",
      "(Timestamp('2007-12-11 00:00:00', freq='D'), Series([], dtype: float64))\n",
      "(Timestamp('2007-12-12 00:00:00', freq='D'), Series([], dtype: float64))\n",
      "(Timestamp('2007-12-13 00:00:00', freq='D'), Series([], dtype: float64))\n",
      "(Timestamp('2007-12-14 00:00:00', freq='D'), Series([], dtype: float64))\n",
      "(Timestamp('2007-12-15 00:00:00', freq='D'), Series([], dtype: float64))\n",
      "(Timestamp('2007-12-16 00:00:00', freq='D'), Series([], dtype: float64))\n",
      "(Timestamp('2007-12-17 00:00:00', freq='D'), Series([], dtype: float64))\n",
      "(Timestamp('2007-12-18 00:00:00', freq='D'), Series([], dtype: float64))\n",
      "(Timestamp('2007-12-19 00:00:00', freq='D'), Series([], dtype: float64))\n",
      "(Timestamp('2007-12-20 00:00:00', freq='D'), Series([], dtype: float64))\n",
      "(Timestamp('2007-12-21 00:00:00', freq='D'), Series([], dtype: float64))\n",
      "(Timestamp('2007-12-22 00:00:00', freq='D'), Series([], dtype: float64))\n",
      "(Timestamp('2007-12-23 00:00:00', freq='D'), Series([], dtype: float64))\n",
      "(Timestamp('2007-12-24 00:00:00', freq='D'), Series([], dtype: float64))\n",
      "(Timestamp('2007-12-25 00:00:00', freq='D'), Series([], dtype: float64))\n",
      "(Timestamp('2007-12-26 00:00:00', freq='D'), Series([], dtype: float64))\n",
      "(Timestamp('2007-12-27 00:00:00', freq='D'), Series([], dtype: float64))\n",
      "(Timestamp('2007-12-28 00:00:00', freq='D'), Series([], dtype: float64))\n",
      "(Timestamp('2007-12-29 00:00:00', freq='D'), Series([], dtype: float64))\n",
      "(Timestamp('2007-12-30 00:00:00', freq='D'), Series([], dtype: float64))\n",
      "(Timestamp('2007-12-31 00:00:00', freq='D'), Series([], dtype: float64))\n",
      "(Timestamp('2008-01-01 00:00:00', freq='D'), Series([], dtype: float64))\n",
      "(Timestamp('2008-01-02 00:00:00', freq='D'), Series([], dtype: float64))\n",
      "(Timestamp('2008-01-03 00:00:00', freq='D'), Series([], dtype: float64))\n",
      "(Timestamp('2008-01-04 00:00:00', freq='D'), Series([], dtype: float64))\n",
      "(Timestamp('2008-01-05 00:00:00', freq='D'), Series([], dtype: float64))\n",
      "(Timestamp('2008-01-06 00:00:00', freq='D'), Series([], dtype: float64))\n",
      "(Timestamp('2008-01-07 00:00:00', freq='D'), Series([], dtype: float64))\n",
      "(Timestamp('2008-01-08 00:00:00', freq='D'), Series([], dtype: float64))\n",
      "(Timestamp('2008-01-09 00:00:00', freq='D'), Series([], dtype: float64))\n",
      "(Timestamp('2008-01-10 00:00:00', freq='D'), Series([], dtype: float64))\n",
      "(Timestamp('2008-01-11 00:00:00', freq='D'), Series([], dtype: float64))\n",
      "(Timestamp('2008-01-12 00:00:00', freq='D'), Series([], dtype: float64))\n",
      "(Timestamp('2008-01-13 00:00:00', freq='D'), Series([], dtype: float64))\n",
      "(Timestamp('2008-01-14 00:00:00', freq='D'), Series([], dtype: float64))\n",
      "(Timestamp('2008-01-15 00:00:00', freq='D'), Series([], dtype: float64))\n",
      "(Timestamp('2008-01-16 00:00:00', freq='D'), Series([], dtype: float64))\n",
      "(Timestamp('2008-01-17 00:00:00', freq='D'), Series([], dtype: float64))\n",
      "(Timestamp('2008-01-18 00:00:00', freq='D'), Series([], dtype: float64))\n",
      "(Timestamp('2008-01-19 00:00:00', freq='D'), Series([], dtype: float64))\n",
      "(Timestamp('2008-01-20 00:00:00', freq='D'), Series([], dtype: float64))\n",
      "(Timestamp('2008-01-21 00:00:00', freq='D'), Series([], dtype: float64))\n",
      "(Timestamp('2008-01-22 00:00:00', freq='D'), Series([], dtype: float64))\n"
     ]
    },
    {
     "name": "stdout",
     "output_type": "stream",
     "text": [
      "(Timestamp('2008-01-23 00:00:00', freq='D'), Series([], dtype: float64))\n",
      "(Timestamp('2008-01-24 00:00:00', freq='D'), Series([], dtype: float64))\n",
      "(Timestamp('2008-01-25 00:00:00', freq='D'), Series([], dtype: float64))\n",
      "(Timestamp('2008-01-26 00:00:00', freq='D'), Series([], dtype: float64))\n",
      "(Timestamp('2008-01-27 00:00:00', freq='D'), Series([], dtype: float64))\n",
      "(Timestamp('2008-01-28 00:00:00', freq='D'), Series([], dtype: float64))\n",
      "(Timestamp('2008-01-29 00:00:00', freq='D'), Series([], dtype: float64))\n",
      "(Timestamp('2008-01-30 00:00:00', freq='D'), Series([], dtype: float64))\n",
      "(Timestamp('2008-01-31 00:00:00', freq='D'), Series([], dtype: float64))\n",
      "(Timestamp('2008-02-01 00:00:00', freq='D'), Series([], dtype: float64))\n",
      "(Timestamp('2008-02-02 00:00:00', freq='D'), Series([], dtype: float64))\n",
      "(Timestamp('2008-02-03 00:00:00', freq='D'), Series([], dtype: float64))\n",
      "(Timestamp('2008-02-04 00:00:00', freq='D'), Series([], dtype: float64))\n",
      "(Timestamp('2008-02-05 00:00:00', freq='D'), Series([], dtype: float64))\n",
      "(Timestamp('2008-02-06 00:00:00', freq='D'), Series([], dtype: float64))\n",
      "(Timestamp('2008-02-07 00:00:00', freq='D'), Series([], dtype: float64))\n",
      "(Timestamp('2008-02-08 00:00:00', freq='D'), Series([], dtype: float64))\n",
      "(Timestamp('2008-02-09 00:00:00', freq='D'), Series([], dtype: float64))\n",
      "(Timestamp('2008-02-10 00:00:00', freq='D'), Series([], dtype: float64))\n",
      "(Timestamp('2008-02-11 00:00:00', freq='D'), Series([], dtype: float64))\n",
      "(Timestamp('2008-02-12 00:00:00', freq='D'), Series([], dtype: float64))\n",
      "(Timestamp('2008-02-13 00:00:00', freq='D'), Series([], dtype: float64))\n",
      "(Timestamp('2008-02-14 00:00:00', freq='D'), Series([], dtype: float64))\n",
      "(Timestamp('2008-02-15 00:00:00', freq='D'), Series([], dtype: float64))\n",
      "(Timestamp('2008-02-16 00:00:00', freq='D'), Series([], dtype: float64))\n",
      "(Timestamp('2008-02-17 00:00:00', freq='D'), Series([], dtype: float64))\n",
      "(Timestamp('2008-02-18 00:00:00', freq='D'), Series([], dtype: float64))\n",
      "(Timestamp('2008-02-19 00:00:00', freq='D'), Series([], dtype: float64))\n",
      "(Timestamp('2008-02-20 00:00:00', freq='D'), Series([], dtype: float64))\n",
      "(Timestamp('2008-02-21 00:00:00', freq='D'), Series([], dtype: float64))\n",
      "(Timestamp('2008-02-22 00:00:00', freq='D'), Series([], dtype: float64))\n",
      "(Timestamp('2008-02-23 00:00:00', freq='D'), Series([], dtype: float64))\n",
      "(Timestamp('2008-02-24 00:00:00', freq='D'), Series([], dtype: float64))\n",
      "(Timestamp('2008-02-25 00:00:00', freq='D'), Series([], dtype: float64))\n",
      "(Timestamp('2008-02-26 00:00:00', freq='D'), Series([], dtype: float64))\n",
      "(Timestamp('2008-02-27 00:00:00', freq='D'), Series([], dtype: float64))\n",
      "(Timestamp('2008-02-28 00:00:00', freq='D'), Series([], dtype: float64))\n",
      "(Timestamp('2008-02-29 00:00:00', freq='D'), Series([], dtype: float64))\n",
      "(Timestamp('2008-03-01 00:00:00', freq='D'), Series([], dtype: float64))\n",
      "(Timestamp('2008-03-02 00:00:00', freq='D'), Series([], dtype: float64))\n",
      "(Timestamp('2008-03-03 00:00:00', freq='D'), Series([], dtype: float64))\n",
      "(Timestamp('2008-03-04 00:00:00', freq='D'), Series([], dtype: float64))\n",
      "(Timestamp('2008-03-05 00:00:00', freq='D'), Series([], dtype: float64))\n",
      "(Timestamp('2008-03-06 00:00:00', freq='D'), Series([], dtype: float64))\n",
      "(Timestamp('2008-03-07 00:00:00', freq='D'), Series([], dtype: float64))\n",
      "(Timestamp('2008-03-08 00:00:00', freq='D'), Series([], dtype: float64))\n",
      "(Timestamp('2008-03-09 00:00:00', freq='D'), Series([], dtype: float64))\n",
      "(Timestamp('2008-03-10 00:00:00', freq='D'), Series([], dtype: float64))\n",
      "(Timestamp('2008-03-11 00:00:00', freq='D'), Series([], dtype: float64))\n",
      "(Timestamp('2008-03-12 00:00:00', freq='D'), Series([], dtype: float64))\n",
      "(Timestamp('2008-03-13 00:00:00', freq='D'), Series([], dtype: float64))\n",
      "(Timestamp('2008-03-14 00:00:00', freq='D'), Series([], dtype: float64))\n",
      "(Timestamp('2008-03-15 00:00:00', freq='D'), Series([], dtype: float64))\n",
      "(Timestamp('2008-03-16 00:00:00', freq='D'), Series([], dtype: float64))\n",
      "(Timestamp('2008-03-17 00:00:00', freq='D'), Series([], dtype: float64))\n",
      "(Timestamp('2008-03-18 00:00:00', freq='D'), Series([], dtype: float64))\n",
      "(Timestamp('2008-03-19 00:00:00', freq='D'), Series([], dtype: float64))\n",
      "(Timestamp('2008-03-20 00:00:00', freq='D'), Series([], dtype: float64))\n",
      "(Timestamp('2008-03-21 00:00:00', freq='D'), Series([], dtype: float64))\n",
      "(Timestamp('2008-03-22 00:00:00', freq='D'), Series([], dtype: float64))\n",
      "(Timestamp('2008-03-23 00:00:00', freq='D'), Series([], dtype: float64))\n",
      "(Timestamp('2008-03-24 00:00:00', freq='D'), Series([], dtype: float64))\n",
      "(Timestamp('2008-03-25 00:00:00', freq='D'), Series([], dtype: float64))\n",
      "(Timestamp('2008-03-26 00:00:00', freq='D'), Series([], dtype: float64))\n",
      "(Timestamp('2008-03-27 00:00:00', freq='D'), Series([], dtype: float64))\n",
      "(Timestamp('2008-03-28 00:00:00', freq='D'), Series([], dtype: float64))\n",
      "(Timestamp('2008-03-29 00:00:00', freq='D'), Series([], dtype: float64))\n",
      "(Timestamp('2008-03-30 00:00:00', freq='D'), Series([], dtype: float64))\n",
      "(Timestamp('2008-03-31 00:00:00', freq='D'), Series([], dtype: float64))\n",
      "(Timestamp('2008-04-01 00:00:00', freq='D'), Series([], dtype: float64))\n",
      "(Timestamp('2008-04-02 00:00:00', freq='D'), Series([], dtype: float64))\n",
      "(Timestamp('2008-04-03 00:00:00', freq='D'), Series([], dtype: float64))\n",
      "(Timestamp('2008-04-04 00:00:00', freq='D'), Series([], dtype: float64))\n",
      "(Timestamp('2008-04-05 00:00:00', freq='D'), Series([], dtype: float64))\n",
      "(Timestamp('2008-04-06 00:00:00', freq='D'), Series([], dtype: float64))\n",
      "(Timestamp('2008-04-07 00:00:00', freq='D'), Series([], dtype: float64))\n",
      "(Timestamp('2008-04-08 00:00:00', freq='D'), Series([], dtype: float64))\n",
      "(Timestamp('2008-04-09 00:00:00', freq='D'), Series([], dtype: float64))\n",
      "(Timestamp('2008-04-10 00:00:00', freq='D'), Series([], dtype: float64))\n",
      "(Timestamp('2008-04-11 00:00:00', freq='D'), Series([], dtype: float64))\n",
      "(Timestamp('2008-04-12 00:00:00', freq='D'), Series([], dtype: float64))\n",
      "(Timestamp('2008-04-13 00:00:00', freq='D'), Series([], dtype: float64))\n",
      "(Timestamp('2008-04-14 00:00:00', freq='D'), Series([], dtype: float64))\n",
      "(Timestamp('2008-04-15 00:00:00', freq='D'), Series([], dtype: float64))\n",
      "(Timestamp('2008-04-16 00:00:00', freq='D'), Series([], dtype: float64))\n",
      "(Timestamp('2008-04-17 00:00:00', freq='D'), Series([], dtype: float64))\n",
      "(Timestamp('2008-04-18 00:00:00', freq='D'), Series([], dtype: float64))\n",
      "(Timestamp('2008-04-19 00:00:00', freq='D'), Series([], dtype: float64))\n",
      "(Timestamp('2008-04-20 00:00:00', freq='D'), Series([], dtype: float64))\n",
      "(Timestamp('2008-04-21 00:00:00', freq='D'), Series([], dtype: float64))\n",
      "(Timestamp('2008-04-22 00:00:00', freq='D'), Series([], dtype: float64))\n",
      "(Timestamp('2008-04-23 00:00:00', freq='D'), Series([], dtype: float64))\n",
      "(Timestamp('2008-04-24 00:00:00', freq='D'), Series([], dtype: float64))\n",
      "(Timestamp('2008-04-25 00:00:00', freq='D'), Series([], dtype: float64))\n",
      "(Timestamp('2008-04-26 00:00:00', freq='D'), Series([], dtype: float64))\n",
      "(Timestamp('2008-04-27 00:00:00', freq='D'), Series([], dtype: float64))\n",
      "(Timestamp('2008-04-28 00:00:00', freq='D'), Series([], dtype: float64))\n",
      "(Timestamp('2008-04-29 00:00:00', freq='D'), Series([], dtype: float64))\n",
      "(Timestamp('2008-04-30 00:00:00', freq='D'), Series([], dtype: float64))\n",
      "(Timestamp('2008-05-01 00:00:00', freq='D'), Series([], dtype: float64))\n",
      "(Timestamp('2008-05-02 00:00:00', freq='D'), Series([], dtype: float64))\n",
      "(Timestamp('2008-05-03 00:00:00', freq='D'), Series([], dtype: float64))\n",
      "(Timestamp('2008-05-04 00:00:00', freq='D'), Series([], dtype: float64))\n",
      "(Timestamp('2008-05-05 00:00:00', freq='D'), Series([], dtype: float64))\n",
      "(Timestamp('2008-05-06 00:00:00', freq='D'), Series([], dtype: float64))\n",
      "(Timestamp('2008-05-07 00:00:00', freq='D'), Series([], dtype: float64))\n",
      "(Timestamp('2008-05-08 00:00:00', freq='D'), Series([], dtype: float64))\n",
      "(Timestamp('2008-05-09 00:00:00', freq='D'), Series([], dtype: float64))\n",
      "(Timestamp('2008-05-10 00:00:00', freq='D'), Series([], dtype: float64))\n",
      "(Timestamp('2008-05-11 00:00:00', freq='D'), Series([], dtype: float64))\n",
      "(Timestamp('2008-05-12 00:00:00', freq='D'), Series([], dtype: float64))\n",
      "(Timestamp('2008-05-13 00:00:00', freq='D'), Series([], dtype: float64))\n",
      "(Timestamp('2008-05-14 00:00:00', freq='D'), Series([], dtype: float64))\n",
      "(Timestamp('2008-05-15 00:00:00', freq='D'), Series([], dtype: float64))\n",
      "(Timestamp('2008-05-16 00:00:00', freq='D'), Series([], dtype: float64))\n",
      "(Timestamp('2008-05-17 00:00:00', freq='D'), Series([], dtype: float64))\n",
      "(Timestamp('2008-05-18 00:00:00', freq='D'), Series([], dtype: float64))\n",
      "(Timestamp('2008-05-19 00:00:00', freq='D'), Series([], dtype: float64))\n",
      "(Timestamp('2008-05-20 00:00:00', freq='D'), Series([], dtype: float64))\n",
      "(Timestamp('2008-05-21 00:00:00', freq='D'), Series([], dtype: float64))\n",
      "(Timestamp('2008-05-22 00:00:00', freq='D'), Series([], dtype: float64))\n",
      "(Timestamp('2008-05-23 00:00:00', freq='D'), Series([], dtype: float64))\n",
      "(Timestamp('2008-05-24 00:00:00', freq='D'), Series([], dtype: float64))\n",
      "(Timestamp('2008-05-25 00:00:00', freq='D'), Series([], dtype: float64))\n",
      "(Timestamp('2008-05-26 00:00:00', freq='D'), Series([], dtype: float64))\n",
      "(Timestamp('2008-05-27 00:00:00', freq='D'), Series([], dtype: float64))\n",
      "(Timestamp('2008-05-28 00:00:00', freq='D'), Series([], dtype: float64))\n",
      "(Timestamp('2008-05-29 00:00:00', freq='D'), Series([], dtype: float64))\n",
      "(Timestamp('2008-05-30 00:00:00', freq='D'), Series([], dtype: float64))\n",
      "(Timestamp('2008-05-31 00:00:00', freq='D'), Series([], dtype: float64))\n",
      "(Timestamp('2008-06-01 00:00:00', freq='D'), Series([], dtype: float64))\n",
      "(Timestamp('2008-06-02 00:00:00', freq='D'), Series([], dtype: float64))\n",
      "(Timestamp('2008-06-03 00:00:00', freq='D'), Series([], dtype: float64))\n",
      "(Timestamp('2008-06-04 00:00:00', freq='D'), Series([], dtype: float64))\n",
      "(Timestamp('2008-06-05 00:00:00', freq='D'), Series([], dtype: float64))\n",
      "(Timestamp('2008-06-06 00:00:00', freq='D'), Series([], dtype: float64))\n",
      "(Timestamp('2008-06-07 00:00:00', freq='D'), Series([], dtype: float64))\n",
      "(Timestamp('2008-06-08 00:00:00', freq='D'), Series([], dtype: float64))\n",
      "(Timestamp('2008-06-09 00:00:00', freq='D'), Series([], dtype: float64))\n",
      "(Timestamp('2008-06-10 00:00:00', freq='D'), Series([], dtype: float64))\n",
      "(Timestamp('2008-06-11 00:00:00', freq='D'), Series([], dtype: float64))\n",
      "(Timestamp('2008-06-12 00:00:00', freq='D'), Series([], dtype: float64))\n",
      "(Timestamp('2008-06-13 00:00:00', freq='D'), Series([], dtype: float64))\n",
      "(Timestamp('2008-06-14 00:00:00', freq='D'), Series([], dtype: float64))\n",
      "(Timestamp('2008-06-15 00:00:00', freq='D'), Series([], dtype: float64))\n",
      "(Timestamp('2008-06-16 00:00:00', freq='D'), Series([], dtype: float64))\n",
      "(Timestamp('2008-06-17 00:00:00', freq='D'), Series([], dtype: float64))\n",
      "(Timestamp('2008-06-18 00:00:00', freq='D'), Series([], dtype: float64))\n",
      "(Timestamp('2008-06-19 00:00:00', freq='D'), Series([], dtype: float64))\n",
      "(Timestamp('2008-06-20 00:00:00', freq='D'), Series([], dtype: float64))\n",
      "(Timestamp('2008-06-21 00:00:00', freq='D'), Series([], dtype: float64))\n",
      "(Timestamp('2008-06-22 00:00:00', freq='D'), Series([], dtype: float64))\n",
      "(Timestamp('2008-06-23 00:00:00', freq='D'), Series([], dtype: float64))\n",
      "(Timestamp('2008-06-24 00:00:00', freq='D'), Series([], dtype: float64))\n",
      "(Timestamp('2008-06-25 00:00:00', freq='D'), Series([], dtype: float64))\n",
      "(Timestamp('2008-06-26 00:00:00', freq='D'), Series([], dtype: float64))\n",
      "(Timestamp('2008-06-27 00:00:00', freq='D'), Series([], dtype: float64))\n",
      "(Timestamp('2008-06-28 00:00:00', freq='D'), Series([], dtype: float64))\n",
      "(Timestamp('2008-06-29 00:00:00', freq='D'), Series([], dtype: float64))\n",
      "(Timestamp('2008-06-30 00:00:00', freq='D'), Series([], dtype: float64))\n",
      "(Timestamp('2008-07-01 00:00:00', freq='D'), Series([], dtype: float64))\n",
      "(Timestamp('2008-07-02 00:00:00', freq='D'), Series([], dtype: float64))\n",
      "(Timestamp('2008-07-03 00:00:00', freq='D'), Series([], dtype: float64))\n",
      "(Timestamp('2008-07-04 00:00:00', freq='D'), Series([], dtype: float64))\n",
      "(Timestamp('2008-07-05 00:00:00', freq='D'), Series([], dtype: float64))\n",
      "(Timestamp('2008-07-06 00:00:00', freq='D'), Series([], dtype: float64))\n",
      "(Timestamp('2008-07-07 00:00:00', freq='D'), Series([], dtype: float64))\n",
      "(Timestamp('2008-07-08 00:00:00', freq='D'), Series([], dtype: float64))\n",
      "(Timestamp('2008-07-09 00:00:00', freq='D'), Series([], dtype: float64))\n",
      "(Timestamp('2008-07-10 00:00:00', freq='D'), Series([], dtype: float64))\n",
      "(Timestamp('2008-07-11 00:00:00', freq='D'), Series([], dtype: float64))\n",
      "(Timestamp('2008-07-12 00:00:00', freq='D'), Series([], dtype: float64))\n",
      "(Timestamp('2008-07-13 00:00:00', freq='D'), Series([], dtype: float64))\n",
      "(Timestamp('2008-07-14 00:00:00', freq='D'), Series([], dtype: float64))\n",
      "(Timestamp('2008-07-15 00:00:00', freq='D'), Series([], dtype: float64))\n",
      "(Timestamp('2008-07-16 00:00:00', freq='D'), Series([], dtype: float64))\n",
      "(Timestamp('2008-07-17 00:00:00', freq='D'), Series([], dtype: float64))\n",
      "(Timestamp('2008-07-18 00:00:00', freq='D'), Series([], dtype: float64))\n",
      "(Timestamp('2008-07-19 00:00:00', freq='D'), Series([], dtype: float64))\n",
      "(Timestamp('2008-07-20 00:00:00', freq='D'), Series([], dtype: float64))\n",
      "(Timestamp('2008-07-21 00:00:00', freq='D'), Series([], dtype: float64))\n",
      "(Timestamp('2008-07-22 00:00:00', freq='D'), Series([], dtype: float64))\n",
      "(Timestamp('2008-07-23 00:00:00', freq='D'), Series([], dtype: float64))\n",
      "(Timestamp('2008-07-24 00:00:00', freq='D'), Series([], dtype: float64))\n",
      "(Timestamp('2008-07-25 00:00:00', freq='D'), Series([], dtype: float64))\n",
      "(Timestamp('2008-07-26 00:00:00', freq='D'), Series([], dtype: float64))\n",
      "(Timestamp('2008-07-27 00:00:00', freq='D'), Series([], dtype: float64))\n",
      "(Timestamp('2008-07-28 00:00:00', freq='D'), Series([], dtype: float64))\n",
      "(Timestamp('2008-07-29 00:00:00', freq='D'), Series([], dtype: float64))\n",
      "(Timestamp('2008-07-30 00:00:00', freq='D'), Series([], dtype: float64))\n",
      "(Timestamp('2008-07-31 00:00:00', freq='D'), Series([], dtype: float64))\n",
      "(Timestamp('2008-08-01 00:00:00', freq='D'), Series([], dtype: float64))\n",
      "(Timestamp('2008-08-02 00:00:00', freq='D'), Series([], dtype: float64))\n",
      "(Timestamp('2008-08-03 00:00:00', freq='D'), Series([], dtype: float64))\n",
      "(Timestamp('2008-08-04 00:00:00', freq='D'), Series([], dtype: float64))\n",
      "(Timestamp('2008-08-05 00:00:00', freq='D'), Series([], dtype: float64))\n",
      "(Timestamp('2008-08-06 00:00:00', freq='D'), Series([], dtype: float64))\n",
      "(Timestamp('2008-08-07 00:00:00', freq='D'), Series([], dtype: float64))\n",
      "(Timestamp('2008-08-08 00:00:00', freq='D'), Series([], dtype: float64))\n",
      "(Timestamp('2008-08-09 00:00:00', freq='D'), Series([], dtype: float64))\n",
      "(Timestamp('2008-08-10 00:00:00', freq='D'), Series([], dtype: float64))\n",
      "(Timestamp('2008-08-11 00:00:00', freq='D'), Series([], dtype: float64))\n",
      "(Timestamp('2008-08-12 00:00:00', freq='D'), Series([], dtype: float64))\n",
      "(Timestamp('2008-08-13 00:00:00', freq='D'), Series([], dtype: float64))\n",
      "(Timestamp('2008-08-14 00:00:00', freq='D'), Series([], dtype: float64))\n",
      "(Timestamp('2008-08-15 00:00:00', freq='D'), Series([], dtype: float64))\n",
      "(Timestamp('2008-08-16 00:00:00', freq='D'), Series([], dtype: float64))\n",
      "(Timestamp('2008-08-17 00:00:00', freq='D'), Series([], dtype: float64))\n",
      "(Timestamp('2008-08-18 00:00:00', freq='D'), Series([], dtype: float64))\n",
      "(Timestamp('2008-08-19 00:00:00', freq='D'), Series([], dtype: float64))\n",
      "(Timestamp('2008-08-20 00:00:00', freq='D'), Series([], dtype: float64))\n",
      "(Timestamp('2008-08-21 00:00:00', freq='D'), Series([], dtype: float64))\n",
      "(Timestamp('2008-08-22 00:00:00', freq='D'), Series([], dtype: float64))\n",
      "(Timestamp('2008-08-23 00:00:00', freq='D'), Series([], dtype: float64))\n",
      "(Timestamp('2008-08-24 00:00:00', freq='D'), Series([], dtype: float64))\n",
      "(Timestamp('2008-08-25 00:00:00', freq='D'), Series([], dtype: float64))\n",
      "(Timestamp('2008-08-26 00:00:00', freq='D'), Series([], dtype: float64))\n",
      "(Timestamp('2008-08-27 00:00:00', freq='D'), Series([], dtype: float64))\n",
      "(Timestamp('2008-08-28 00:00:00', freq='D'), Series([], dtype: float64))\n",
      "(Timestamp('2008-08-29 00:00:00', freq='D'), Series([], dtype: float64))\n",
      "(Timestamp('2008-08-30 00:00:00', freq='D'), Series([], dtype: float64))\n",
      "(Timestamp('2008-08-31 00:00:00', freq='D'), Series([], dtype: float64))\n",
      "(Timestamp('2008-09-01 00:00:00', freq='D'), Series([], dtype: float64))\n",
      "(Timestamp('2008-09-02 00:00:00', freq='D'), Series([], dtype: float64))\n",
      "(Timestamp('2008-09-03 00:00:00', freq='D'), Series([], dtype: float64))\n",
      "(Timestamp('2008-09-04 00:00:00', freq='D'), Series([], dtype: float64))\n",
      "(Timestamp('2008-09-05 00:00:00', freq='D'), Series([], dtype: float64))\n",
      "(Timestamp('2008-09-06 00:00:00', freq='D'), Series([], dtype: float64))\n",
      "(Timestamp('2008-09-07 00:00:00', freq='D'), Series([], dtype: float64))\n",
      "(Timestamp('2008-09-08 00:00:00', freq='D'), Series([], dtype: float64))\n",
      "(Timestamp('2008-09-09 00:00:00', freq='D'), Series([], dtype: float64))\n",
      "(Timestamp('2008-09-10 00:00:00', freq='D'), Series([], dtype: float64))\n",
      "(Timestamp('2008-09-11 00:00:00', freq='D'), Series([], dtype: float64))\n",
      "(Timestamp('2008-09-12 00:00:00', freq='D'), Series([], dtype: float64))\n",
      "(Timestamp('2008-09-13 00:00:00', freq='D'), Series([], dtype: float64))\n",
      "(Timestamp('2008-09-14 00:00:00', freq='D'), Series([], dtype: float64))\n",
      "(Timestamp('2008-09-15 00:00:00', freq='D'), Series([], dtype: float64))\n",
      "(Timestamp('2008-09-16 00:00:00', freq='D'), Series([], dtype: float64))\n",
      "(Timestamp('2008-09-17 00:00:00', freq='D'), Series([], dtype: float64))\n",
      "(Timestamp('2008-09-18 00:00:00', freq='D'), Series([], dtype: float64))\n",
      "(Timestamp('2008-09-19 00:00:00', freq='D'), Series([], dtype: float64))\n",
      "(Timestamp('2008-09-20 00:00:00', freq='D'), Series([], dtype: float64))\n",
      "(Timestamp('2008-09-21 00:00:00', freq='D'), Series([], dtype: float64))\n",
      "(Timestamp('2008-09-22 00:00:00', freq='D'), Series([], dtype: float64))\n",
      "(Timestamp('2008-09-23 00:00:00', freq='D'), Series([], dtype: float64))\n",
      "(Timestamp('2008-09-24 00:00:00', freq='D'), Series([], dtype: float64))\n",
      "(Timestamp('2008-09-25 00:00:00', freq='D'), Series([], dtype: float64))\n",
      "(Timestamp('2008-09-26 00:00:00', freq='D'), Series([], dtype: float64))\n",
      "(Timestamp('2008-09-27 00:00:00', freq='D'), Series([], dtype: float64))\n",
      "(Timestamp('2008-09-28 00:00:00', freq='D'), Series([], dtype: float64))\n",
      "(Timestamp('2008-09-29 00:00:00', freq='D'), Series([], dtype: float64))\n",
      "(Timestamp('2008-09-30 00:00:00', freq='D'), Series([], dtype: float64))\n",
      "(Timestamp('2008-10-01 00:00:00', freq='D'), Series([], dtype: float64))\n",
      "(Timestamp('2008-10-02 00:00:00', freq='D'), Series([], dtype: float64))\n",
      "(Timestamp('2008-10-03 00:00:00', freq='D'), Series([], dtype: float64))\n",
      "(Timestamp('2008-10-04 00:00:00', freq='D'), Series([], dtype: float64))\n",
      "(Timestamp('2008-10-05 00:00:00', freq='D'), Series([], dtype: float64))\n",
      "(Timestamp('2008-10-06 00:00:00', freq='D'), Series([], dtype: float64))\n",
      "(Timestamp('2008-10-07 00:00:00', freq='D'), Series([], dtype: float64))\n",
      "(Timestamp('2008-10-08 00:00:00', freq='D'), Series([], dtype: float64))\n",
      "(Timestamp('2008-10-09 00:00:00', freq='D'), Series([], dtype: float64))\n",
      "(Timestamp('2008-10-10 00:00:00', freq='D'), Series([], dtype: float64))\n",
      "(Timestamp('2008-10-11 00:00:00', freq='D'), Series([], dtype: float64))\n",
      "(Timestamp('2008-10-12 00:00:00', freq='D'), Series([], dtype: float64))\n",
      "(Timestamp('2008-10-13 00:00:00', freq='D'), Series([], dtype: float64))\n",
      "(Timestamp('2008-10-14 00:00:00', freq='D'), Series([], dtype: float64))\n",
      "(Timestamp('2008-10-15 00:00:00', freq='D'), Series([], dtype: float64))\n",
      "(Timestamp('2008-10-16 00:00:00', freq='D'), Series([], dtype: float64))\n",
      "(Timestamp('2008-10-17 00:00:00', freq='D'), Series([], dtype: float64))\n",
      "(Timestamp('2008-10-18 00:00:00', freq='D'), Series([], dtype: float64))\n",
      "(Timestamp('2008-10-19 00:00:00', freq='D'), Series([], dtype: float64))\n",
      "(Timestamp('2008-10-20 00:00:00', freq='D'), Series([], dtype: float64))\n",
      "(Timestamp('2008-10-21 00:00:00', freq='D'), Series([], dtype: float64))\n",
      "(Timestamp('2008-10-22 00:00:00', freq='D'), Series([], dtype: float64))\n",
      "(Timestamp('2008-10-23 00:00:00', freq='D'), Series([], dtype: float64))\n",
      "(Timestamp('2008-10-24 00:00:00', freq='D'), Series([], dtype: float64))\n",
      "(Timestamp('2008-10-25 00:00:00', freq='D'), Series([], dtype: float64))\n",
      "(Timestamp('2008-10-26 00:00:00', freq='D'), Series([], dtype: float64))\n",
      "(Timestamp('2008-10-27 00:00:00', freq='D'), Series([], dtype: float64))\n",
      "(Timestamp('2008-10-28 00:00:00', freq='D'), Series([], dtype: float64))\n",
      "(Timestamp('2008-10-29 00:00:00', freq='D'), Series([], dtype: float64))\n",
      "(Timestamp('2008-10-30 00:00:00', freq='D'), Series([], dtype: float64))\n",
      "(Timestamp('2008-10-31 00:00:00', freq='D'), Series([], dtype: float64))\n",
      "(Timestamp('2008-11-01 00:00:00', freq='D'), Series([], dtype: float64))\n",
      "(Timestamp('2008-11-02 00:00:00', freq='D'), Series([], dtype: float64))\n",
      "(Timestamp('2008-11-03 00:00:00', freq='D'), Series([], dtype: float64))\n",
      "(Timestamp('2008-11-04 00:00:00', freq='D'), Series([], dtype: float64))\n",
      "(Timestamp('2008-11-05 00:00:00', freq='D'), Series([], dtype: float64))\n",
      "(Timestamp('2008-11-06 00:00:00', freq='D'), Series([], dtype: float64))\n",
      "(Timestamp('2008-11-07 00:00:00', freq='D'), Series([], dtype: float64))\n",
      "(Timestamp('2008-11-08 00:00:00', freq='D'), Series([], dtype: float64))\n",
      "(Timestamp('2008-11-09 00:00:00', freq='D'), Series([], dtype: float64))\n",
      "(Timestamp('2008-11-10 00:00:00', freq='D'), Series([], dtype: float64))\n",
      "(Timestamp('2008-11-11 00:00:00', freq='D'), Series([], dtype: float64))\n",
      "(Timestamp('2008-11-12 00:00:00', freq='D'), Series([], dtype: float64))\n",
      "(Timestamp('2008-11-13 00:00:00', freq='D'), Series([], dtype: float64))\n",
      "(Timestamp('2008-11-14 00:00:00', freq='D'), Series([], dtype: float64))\n",
      "(Timestamp('2008-11-15 00:00:00', freq='D'), Series([], dtype: float64))\n",
      "(Timestamp('2008-11-16 00:00:00', freq='D'), Series([], dtype: float64))\n",
      "(Timestamp('2008-11-17 00:00:00', freq='D'), Series([], dtype: float64))\n",
      "(Timestamp('2008-11-18 00:00:00', freq='D'), Series([], dtype: float64))\n",
      "(Timestamp('2008-11-19 00:00:00', freq='D'), Series([], dtype: float64))\n",
      "(Timestamp('2008-11-20 00:00:00', freq='D'), Series([], dtype: float64))\n",
      "(Timestamp('2008-11-21 00:00:00', freq='D'), Series([], dtype: float64))\n",
      "(Timestamp('2008-11-22 00:00:00', freq='D'), Series([], dtype: float64))\n",
      "(Timestamp('2008-11-23 00:00:00', freq='D'), Series([], dtype: float64))\n",
      "(Timestamp('2008-11-24 00:00:00', freq='D'), Series([], dtype: float64))\n",
      "(Timestamp('2008-11-25 00:00:00', freq='D'), Series([], dtype: float64))\n",
      "(Timestamp('2008-11-26 00:00:00', freq='D'), Series([], dtype: float64))\n",
      "(Timestamp('2008-11-27 00:00:00', freq='D'), Series([], dtype: float64))\n",
      "(Timestamp('2008-11-28 00:00:00', freq='D'), Series([], dtype: float64))\n",
      "(Timestamp('2008-11-29 00:00:00', freq='D'), Series([], dtype: float64))\n",
      "(Timestamp('2008-11-30 00:00:00', freq='D'), Series([], dtype: float64))\n",
      "(Timestamp('2008-12-01 00:00:00', freq='D'), Series([], dtype: float64))\n",
      "(Timestamp('2008-12-02 00:00:00', freq='D'), Series([], dtype: float64))\n",
      "(Timestamp('2008-12-03 00:00:00', freq='D'), Series([], dtype: float64))\n",
      "(Timestamp('2008-12-04 00:00:00', freq='D'), Series([], dtype: float64))\n",
      "(Timestamp('2008-12-05 00:00:00', freq='D'), Series([], dtype: float64))\n",
      "(Timestamp('2008-12-06 00:00:00', freq='D'), Series([], dtype: float64))\n",
      "(Timestamp('2008-12-07 00:00:00', freq='D'), Series([], dtype: float64))\n",
      "(Timestamp('2008-12-08 00:00:00', freq='D'), Series([], dtype: float64))\n",
      "(Timestamp('2008-12-09 00:00:00', freq='D'), Series([], dtype: float64))\n",
      "(Timestamp('2008-12-10 00:00:00', freq='D'), Series([], dtype: float64))\n",
      "(Timestamp('2008-12-11 00:00:00', freq='D'), Series([], dtype: float64))\n",
      "(Timestamp('2008-12-12 00:00:00', freq='D'), Series([], dtype: float64))\n",
      "(Timestamp('2008-12-13 00:00:00', freq='D'), Series([], dtype: float64))\n",
      "(Timestamp('2008-12-14 00:00:00', freq='D'), Series([], dtype: float64))\n",
      "(Timestamp('2008-12-15 00:00:00', freq='D'), Series([], dtype: float64))\n",
      "(Timestamp('2008-12-16 00:00:00', freq='D'), Series([], dtype: float64))\n",
      "(Timestamp('2008-12-17 00:00:00', freq='D'), Series([], dtype: float64))\n",
      "(Timestamp('2008-12-18 00:00:00', freq='D'), Series([], dtype: float64))\n",
      "(Timestamp('2008-12-19 00:00:00', freq='D'), Series([], dtype: float64))\n",
      "(Timestamp('2008-12-20 00:00:00', freq='D'), Series([], dtype: float64))\n",
      "(Timestamp('2008-12-21 00:00:00', freq='D'), Series([], dtype: float64))\n",
      "(Timestamp('2008-12-22 00:00:00', freq='D'), Series([], dtype: float64))\n",
      "(Timestamp('2008-12-23 00:00:00', freq='D'), Series([], dtype: float64))\n",
      "(Timestamp('2008-12-24 00:00:00', freq='D'), Series([], dtype: float64))\n",
      "(Timestamp('2008-12-25 00:00:00', freq='D'), Series([], dtype: float64))\n",
      "(Timestamp('2008-12-26 00:00:00', freq='D'), Series([], dtype: float64))\n",
      "(Timestamp('2008-12-27 00:00:00', freq='D'), Series([], dtype: float64))\n",
      "(Timestamp('2008-12-28 00:00:00', freq='D'), Series([], dtype: float64))\n",
      "(Timestamp('2008-12-29 00:00:00', freq='D'), Series([], dtype: float64))\n",
      "(Timestamp('2008-12-30 00:00:00', freq='D'), Series([], dtype: float64))\n",
      "(Timestamp('2008-12-31 00:00:00', freq='D'), Series([], dtype: float64))\n",
      "(Timestamp('2009-01-01 00:00:00', freq='D'), Series([], dtype: float64))\n",
      "(Timestamp('2009-01-02 00:00:00', freq='D'), Series([], dtype: float64))\n",
      "(Timestamp('2009-01-03 00:00:00', freq='D'), Series([], dtype: float64))\n",
      "(Timestamp('2009-01-04 00:00:00', freq='D'), Series([], dtype: float64))\n",
      "(Timestamp('2009-01-05 00:00:00', freq='D'), Series([], dtype: float64))\n",
      "(Timestamp('2009-01-06 00:00:00', freq='D'), Series([], dtype: float64))\n",
      "(Timestamp('2009-01-07 00:00:00', freq='D'), Series([], dtype: float64))\n",
      "(Timestamp('2009-01-08 00:00:00', freq='D'), Series([], dtype: float64))\n",
      "(Timestamp('2009-01-09 00:00:00', freq='D'), Series([], dtype: float64))\n",
      "(Timestamp('2009-01-10 00:00:00', freq='D'), Series([], dtype: float64))\n",
      "(Timestamp('2009-01-11 00:00:00', freq='D'), Series([], dtype: float64))\n",
      "(Timestamp('2009-01-12 00:00:00', freq='D'), Series([], dtype: float64))\n",
      "(Timestamp('2009-01-13 00:00:00', freq='D'), Series([], dtype: float64))\n",
      "(Timestamp('2009-01-14 00:00:00', freq='D'), Series([], dtype: float64))\n",
      "(Timestamp('2009-01-15 00:00:00', freq='D'), Series([], dtype: float64))\n",
      "(Timestamp('2009-01-16 00:00:00', freq='D'), Series([], dtype: float64))\n",
      "(Timestamp('2009-01-17 00:00:00', freq='D'), Series([], dtype: float64))\n",
      "(Timestamp('2009-01-18 00:00:00', freq='D'), Series([], dtype: float64))\n",
      "(Timestamp('2009-01-19 00:00:00', freq='D'), Series([], dtype: float64))\n",
      "(Timestamp('2009-01-20 00:00:00', freq='D'), Series([], dtype: float64))\n",
      "(Timestamp('2009-01-21 00:00:00', freq='D'), Series([], dtype: float64))\n",
      "(Timestamp('2009-01-22 00:00:00', freq='D'), Series([], dtype: float64))\n",
      "(Timestamp('2009-01-23 00:00:00', freq='D'), Series([], dtype: float64))\n",
      "(Timestamp('2009-01-24 00:00:00', freq='D'), Series([], dtype: float64))\n",
      "(Timestamp('2009-01-25 00:00:00', freq='D'), Series([], dtype: float64))\n",
      "(Timestamp('2009-01-26 00:00:00', freq='D'), Series([], dtype: float64))\n",
      "(Timestamp('2009-01-27 00:00:00', freq='D'), Series([], dtype: float64))\n",
      "(Timestamp('2009-01-28 00:00:00', freq='D'), Series([], dtype: float64))\n",
      "(Timestamp('2009-01-29 00:00:00', freq='D'), Series([], dtype: float64))\n",
      "(Timestamp('2009-01-30 00:00:00', freq='D'), Series([], dtype: float64))\n",
      "(Timestamp('2009-01-31 00:00:00', freq='D'), Series([], dtype: float64))\n",
      "(Timestamp('2009-02-01 00:00:00', freq='D'), Series([], dtype: float64))\n",
      "(Timestamp('2009-02-02 00:00:00', freq='D'), Series([], dtype: float64))\n",
      "(Timestamp('2009-02-03 00:00:00', freq='D'), Series([], dtype: float64))\n",
      "(Timestamp('2009-02-04 00:00:00', freq='D'), Series([], dtype: float64))\n",
      "(Timestamp('2009-02-05 00:00:00', freq='D'), Series([], dtype: float64))\n",
      "(Timestamp('2009-02-06 00:00:00', freq='D'), Series([], dtype: float64))\n",
      "(Timestamp('2009-02-07 00:00:00', freq='D'), Series([], dtype: float64))\n",
      "(Timestamp('2009-02-08 00:00:00', freq='D'), Series([], dtype: float64))\n",
      "(Timestamp('2009-02-09 00:00:00', freq='D'), Series([], dtype: float64))\n",
      "(Timestamp('2009-02-10 00:00:00', freq='D'), Series([], dtype: float64))\n",
      "(Timestamp('2009-02-11 00:00:00', freq='D'), Series([], dtype: float64))\n",
      "(Timestamp('2009-02-12 00:00:00', freq='D'), Series([], dtype: float64))\n",
      "(Timestamp('2009-02-13 00:00:00', freq='D'), Series([], dtype: float64))\n",
      "(Timestamp('2009-02-14 00:00:00', freq='D'), Series([], dtype: float64))\n",
      "(Timestamp('2009-02-15 00:00:00', freq='D'), Series([], dtype: float64))\n",
      "(Timestamp('2009-02-16 00:00:00', freq='D'), Series([], dtype: float64))\n",
      "(Timestamp('2009-02-17 00:00:00', freq='D'), Series([], dtype: float64))\n",
      "(Timestamp('2009-02-18 00:00:00', freq='D'), Series([], dtype: float64))\n",
      "(Timestamp('2009-02-19 00:00:00', freq='D'), Series([], dtype: float64))\n",
      "(Timestamp('2009-02-20 00:00:00', freq='D'), Series([], dtype: float64))\n",
      "(Timestamp('2009-02-21 00:00:00', freq='D'), Series([], dtype: float64))\n",
      "(Timestamp('2009-02-22 00:00:00', freq='D'), Series([], dtype: float64))\n",
      "(Timestamp('2009-02-23 00:00:00', freq='D'), Series([], dtype: float64))\n",
      "(Timestamp('2009-02-24 00:00:00', freq='D'), Series([], dtype: float64))\n",
      "(Timestamp('2009-02-25 00:00:00', freq='D'), Series([], dtype: float64))\n",
      "(Timestamp('2009-02-26 00:00:00', freq='D'), Series([], dtype: float64))\n",
      "(Timestamp('2009-02-27 00:00:00', freq='D'), Series([], dtype: float64))\n",
      "(Timestamp('2009-02-28 00:00:00', freq='D'), Series([], dtype: float64))\n",
      "(Timestamp('2009-03-01 00:00:00', freq='D'), Series([], dtype: float64))\n",
      "(Timestamp('2009-03-02 00:00:00', freq='D'), Series([], dtype: float64))\n",
      "(Timestamp('2009-03-03 00:00:00', freq='D'), Series([], dtype: float64))\n",
      "(Timestamp('2009-03-04 00:00:00', freq='D'), Series([], dtype: float64))\n",
      "(Timestamp('2009-03-05 00:00:00', freq='D'), Series([], dtype: float64))\n",
      "(Timestamp('2009-03-06 00:00:00', freq='D'), Series([], dtype: float64))\n",
      "(Timestamp('2009-03-07 00:00:00', freq='D'), Series([], dtype: float64))\n",
      "(Timestamp('2009-03-08 00:00:00', freq='D'), Series([], dtype: float64))\n",
      "(Timestamp('2009-03-09 00:00:00', freq='D'), Series([], dtype: float64))\n",
      "(Timestamp('2009-03-10 00:00:00', freq='D'), Series([], dtype: float64))\n",
      "(Timestamp('2009-03-11 00:00:00', freq='D'), Series([], dtype: float64))\n",
      "(Timestamp('2009-03-12 00:00:00', freq='D'), Series([], dtype: float64))\n",
      "(Timestamp('2009-03-13 00:00:00', freq='D'), Series([], dtype: float64))\n",
      "(Timestamp('2009-03-14 00:00:00', freq='D'), Series([], dtype: float64))\n",
      "(Timestamp('2009-03-15 00:00:00', freq='D'), Series([], dtype: float64))\n",
      "(Timestamp('2009-03-16 00:00:00', freq='D'), Series([], dtype: float64))\n",
      "(Timestamp('2009-03-17 00:00:00', freq='D'), Series([], dtype: float64))\n",
      "(Timestamp('2009-03-18 00:00:00', freq='D'), Series([], dtype: float64))\n",
      "(Timestamp('2009-03-19 00:00:00', freq='D'), Series([], dtype: float64))\n",
      "(Timestamp('2009-03-20 00:00:00', freq='D'), Series([], dtype: float64))\n",
      "(Timestamp('2009-03-21 00:00:00', freq='D'), Series([], dtype: float64))\n",
      "(Timestamp('2009-03-22 00:00:00', freq='D'), Series([], dtype: float64))\n",
      "(Timestamp('2009-03-23 00:00:00', freq='D'), Series([], dtype: float64))\n",
      "(Timestamp('2009-03-24 00:00:00', freq='D'), Series([], dtype: float64))\n",
      "(Timestamp('2009-03-25 00:00:00', freq='D'), Series([], dtype: float64))\n",
      "(Timestamp('2009-03-26 00:00:00', freq='D'), Series([], dtype: float64))\n",
      "(Timestamp('2009-03-27 00:00:00', freq='D'), Series([], dtype: float64))\n",
      "(Timestamp('2009-03-28 00:00:00', freq='D'), Series([], dtype: float64))\n",
      "(Timestamp('2009-03-29 00:00:00', freq='D'), Series([], dtype: float64))\n",
      "(Timestamp('2009-03-30 00:00:00', freq='D'), Series([], dtype: float64))\n",
      "(Timestamp('2009-03-31 00:00:00', freq='D'), Series([], dtype: float64))\n",
      "(Timestamp('2009-04-01 00:00:00', freq='D'), Series([], dtype: float64))\n",
      "(Timestamp('2009-04-02 00:00:00', freq='D'), Series([], dtype: float64))\n",
      "(Timestamp('2009-04-03 00:00:00', freq='D'), Series([], dtype: float64))\n",
      "(Timestamp('2009-04-04 00:00:00', freq='D'), Series([], dtype: float64))\n",
      "(Timestamp('2009-04-05 00:00:00', freq='D'), Series([], dtype: float64))\n",
      "(Timestamp('2009-04-06 00:00:00', freq='D'), Series([], dtype: float64))\n",
      "(Timestamp('2009-04-07 00:00:00', freq='D'), Series([], dtype: float64))\n",
      "(Timestamp('2009-04-08 00:00:00', freq='D'), Series([], dtype: float64))\n",
      "(Timestamp('2009-04-09 00:00:00', freq='D'), Series([], dtype: float64))\n",
      "(Timestamp('2009-04-10 00:00:00', freq='D'), Series([], dtype: float64))\n",
      "(Timestamp('2009-04-11 00:00:00', freq='D'), Series([], dtype: float64))\n",
      "(Timestamp('2009-04-12 00:00:00', freq='D'), Series([], dtype: float64))\n",
      "(Timestamp('2009-04-13 00:00:00', freq='D'), Series([], dtype: float64))\n",
      "(Timestamp('2009-04-14 00:00:00', freq='D'), Series([], dtype: float64))\n",
      "(Timestamp('2009-04-15 00:00:00', freq='D'), Series([], dtype: float64))\n",
      "(Timestamp('2009-04-16 00:00:00', freq='D'), Series([], dtype: float64))\n",
      "(Timestamp('2009-04-17 00:00:00', freq='D'), Series([], dtype: float64))\n",
      "(Timestamp('2009-04-18 00:00:00', freq='D'), Series([], dtype: float64))\n",
      "(Timestamp('2009-04-19 00:00:00', freq='D'), Series([], dtype: float64))\n",
      "(Timestamp('2009-04-20 00:00:00', freq='D'), Series([], dtype: float64))\n",
      "(Timestamp('2009-04-21 00:00:00', freq='D'), Series([], dtype: float64))\n",
      "(Timestamp('2009-04-22 00:00:00', freq='D'), Series([], dtype: float64))\n",
      "(Timestamp('2009-04-23 00:00:00', freq='D'), Series([], dtype: float64))\n",
      "(Timestamp('2009-04-24 00:00:00', freq='D'), Series([], dtype: float64))\n",
      "(Timestamp('2009-04-25 00:00:00', freq='D'), Series([], dtype: float64))\n",
      "(Timestamp('2009-04-26 00:00:00', freq='D'), Series([], dtype: float64))\n",
      "(Timestamp('2009-04-27 00:00:00', freq='D'), Series([], dtype: float64))\n",
      "(Timestamp('2009-04-28 00:00:00', freq='D'), Series([], dtype: float64))\n",
      "(Timestamp('2009-04-29 00:00:00', freq='D'), Series([], dtype: float64))\n",
      "(Timestamp('2009-04-30 00:00:00', freq='D'), Series([], dtype: float64))\n",
      "(Timestamp('2009-05-01 00:00:00', freq='D'), Series([], dtype: float64))\n",
      "(Timestamp('2009-05-02 00:00:00', freq='D'), Series([], dtype: float64))\n",
      "(Timestamp('2009-05-03 00:00:00', freq='D'), Series([], dtype: float64))\n",
      "(Timestamp('2009-05-04 00:00:00', freq='D'), Series([], dtype: float64))\n",
      "(Timestamp('2009-05-05 00:00:00', freq='D'), Series([], dtype: float64))\n",
      "(Timestamp('2009-05-06 00:00:00', freq='D'), Series([], dtype: float64))\n",
      "(Timestamp('2009-05-07 00:00:00', freq='D'), Series([], dtype: float64))\n",
      "(Timestamp('2009-05-08 00:00:00', freq='D'), Series([], dtype: float64))\n",
      "(Timestamp('2009-05-09 00:00:00', freq='D'), Series([], dtype: float64))\n",
      "(Timestamp('2009-05-10 00:00:00', freq='D'), Series([], dtype: float64))\n",
      "(Timestamp('2009-05-11 00:00:00', freq='D'), Series([], dtype: float64))\n",
      "(Timestamp('2009-05-12 00:00:00', freq='D'), Series([], dtype: float64))\n",
      "(Timestamp('2009-05-13 00:00:00', freq='D'), Series([], dtype: float64))\n",
      "(Timestamp('2009-05-14 00:00:00', freq='D'), Series([], dtype: float64))\n",
      "(Timestamp('2009-05-15 00:00:00', freq='D'), Series([], dtype: float64))\n",
      "(Timestamp('2009-05-16 00:00:00', freq='D'), Series([], dtype: float64))\n",
      "(Timestamp('2009-05-17 00:00:00', freq='D'), Series([], dtype: float64))\n",
      "(Timestamp('2009-05-18 00:00:00', freq='D'), Series([], dtype: float64))\n",
      "(Timestamp('2009-05-19 00:00:00', freq='D'), Series([], dtype: float64))\n",
      "(Timestamp('2009-05-20 00:00:00', freq='D'), Series([], dtype: float64))\n",
      "(Timestamp('2009-05-21 00:00:00', freq='D'), Series([], dtype: float64))\n",
      "(Timestamp('2009-05-22 00:00:00', freq='D'), Series([], dtype: float64))\n",
      "(Timestamp('2009-05-23 00:00:00', freq='D'), Series([], dtype: float64))\n",
      "(Timestamp('2009-05-24 00:00:00', freq='D'), Series([], dtype: float64))\n",
      "(Timestamp('2009-05-25 00:00:00', freq='D'), Series([], dtype: float64))\n",
      "(Timestamp('2009-05-26 00:00:00', freq='D'), Series([], dtype: float64))\n",
      "(Timestamp('2009-05-27 00:00:00', freq='D'), Series([], dtype: float64))\n",
      "(Timestamp('2009-05-28 00:00:00', freq='D'), Series([], dtype: float64))\n",
      "(Timestamp('2009-05-29 00:00:00', freq='D'), Series([], dtype: float64))\n",
      "(Timestamp('2009-05-30 00:00:00', freq='D'), Series([], dtype: float64))\n",
      "(Timestamp('2009-05-31 00:00:00', freq='D'), Series([], dtype: float64))\n",
      "(Timestamp('2009-06-01 00:00:00', freq='D'), Series([], dtype: float64))\n",
      "(Timestamp('2009-06-02 00:00:00', freq='D'), Series([], dtype: float64))\n",
      "(Timestamp('2009-06-03 00:00:00', freq='D'), Series([], dtype: float64))\n",
      "(Timestamp('2009-06-04 00:00:00', freq='D'), Series([], dtype: float64))\n",
      "(Timestamp('2009-06-05 00:00:00', freq='D'), Series([], dtype: float64))\n",
      "(Timestamp('2009-06-06 00:00:00', freq='D'), Series([], dtype: float64))\n",
      "(Timestamp('2009-06-07 00:00:00', freq='D'), Series([], dtype: float64))\n",
      "(Timestamp('2009-06-08 00:00:00', freq='D'), Series([], dtype: float64))\n",
      "(Timestamp('2009-06-09 00:00:00', freq='D'), Series([], dtype: float64))\n",
      "(Timestamp('2009-06-10 00:00:00', freq='D'), Series([], dtype: float64))\n",
      "(Timestamp('2009-06-11 00:00:00', freq='D'), Series([], dtype: float64))\n",
      "(Timestamp('2009-06-12 00:00:00', freq='D'), Series([], dtype: float64))\n",
      "(Timestamp('2009-06-13 00:00:00', freq='D'), Series([], dtype: float64))\n",
      "(Timestamp('2009-06-14 00:00:00', freq='D'), Series([], dtype: float64))\n",
      "(Timestamp('2009-06-15 00:00:00', freq='D'), Series([], dtype: float64))\n",
      "(Timestamp('2009-06-16 00:00:00', freq='D'), Series([], dtype: float64))\n",
      "(Timestamp('2009-06-17 00:00:00', freq='D'), Series([], dtype: float64))\n",
      "(Timestamp('2009-06-18 00:00:00', freq='D'), Series([], dtype: float64))\n",
      "(Timestamp('2009-06-19 00:00:00', freq='D'), Series([], dtype: float64))\n",
      "(Timestamp('2009-06-20 00:00:00', freq='D'), Series([], dtype: float64))\n",
      "(Timestamp('2009-06-21 00:00:00', freq='D'), Series([], dtype: float64))\n",
      "(Timestamp('2009-06-22 00:00:00', freq='D'), Series([], dtype: float64))\n",
      "(Timestamp('2009-06-23 00:00:00', freq='D'), Series([], dtype: float64))\n",
      "(Timestamp('2009-06-24 00:00:00', freq='D'), Series([], dtype: float64))\n",
      "(Timestamp('2009-06-25 00:00:00', freq='D'), Series([], dtype: float64))\n",
      "(Timestamp('2009-06-26 00:00:00', freq='D'), Series([], dtype: float64))\n",
      "(Timestamp('2009-06-27 00:00:00', freq='D'), Series([], dtype: float64))\n",
      "(Timestamp('2009-06-28 00:00:00', freq='D'), Series([], dtype: float64))\n",
      "(Timestamp('2009-06-29 00:00:00', freq='D'), Series([], dtype: float64))\n",
      "(Timestamp('2009-06-30 00:00:00', freq='D'), Series([], dtype: float64))\n",
      "(Timestamp('2009-07-01 00:00:00', freq='D'), Series([], dtype: float64))\n",
      "(Timestamp('2009-07-02 00:00:00', freq='D'), Series([], dtype: float64))\n",
      "(Timestamp('2009-07-03 00:00:00', freq='D'), Series([], dtype: float64))\n",
      "(Timestamp('2009-07-04 00:00:00', freq='D'), Series([], dtype: float64))\n",
      "(Timestamp('2009-07-05 00:00:00', freq='D'), Series([], dtype: float64))\n",
      "(Timestamp('2009-07-06 00:00:00', freq='D'), Series([], dtype: float64))\n",
      "(Timestamp('2009-07-07 00:00:00', freq='D'), Series([], dtype: float64))\n",
      "(Timestamp('2009-07-08 00:00:00', freq='D'), Series([], dtype: float64))\n",
      "(Timestamp('2009-07-09 00:00:00', freq='D'), Series([], dtype: float64))\n",
      "(Timestamp('2009-07-10 00:00:00', freq='D'), Series([], dtype: float64))\n",
      "(Timestamp('2009-07-11 00:00:00', freq='D'), Series([], dtype: float64))\n",
      "(Timestamp('2009-07-12 00:00:00', freq='D'), Series([], dtype: float64))\n",
      "(Timestamp('2009-07-13 00:00:00', freq='D'), Series([], dtype: float64))\n",
      "(Timestamp('2009-07-14 00:00:00', freq='D'), Series([], dtype: float64))\n",
      "(Timestamp('2009-07-15 00:00:00', freq='D'), Series([], dtype: float64))\n",
      "(Timestamp('2009-07-16 00:00:00', freq='D'), Series([], dtype: float64))\n",
      "(Timestamp('2009-07-17 00:00:00', freq='D'), Series([], dtype: float64))\n",
      "(Timestamp('2009-07-18 00:00:00', freq='D'), Series([], dtype: float64))\n",
      "(Timestamp('2009-07-19 00:00:00', freq='D'), Series([], dtype: float64))\n",
      "(Timestamp('2009-07-20 00:00:00', freq='D'), Series([], dtype: float64))\n",
      "(Timestamp('2009-07-21 00:00:00', freq='D'), Series([], dtype: float64))\n",
      "(Timestamp('2009-07-22 00:00:00', freq='D'), Series([], dtype: float64))\n",
      "(Timestamp('2009-07-23 00:00:00', freq='D'), Series([], dtype: float64))\n",
      "(Timestamp('2009-07-24 00:00:00', freq='D'), Series([], dtype: float64))\n",
      "(Timestamp('2009-07-25 00:00:00', freq='D'), Series([], dtype: float64))\n",
      "(Timestamp('2009-07-26 00:00:00', freq='D'), Series([], dtype: float64))\n",
      "(Timestamp('2009-07-27 00:00:00', freq='D'), Series([], dtype: float64))\n",
      "(Timestamp('2009-07-28 00:00:00', freq='D'), Series([], dtype: float64))\n",
      "(Timestamp('2009-07-29 00:00:00', freq='D'), Series([], dtype: float64))\n",
      "(Timestamp('2009-07-30 00:00:00', freq='D'), Series([], dtype: float64))\n",
      "(Timestamp('2009-07-31 00:00:00', freq='D'), Series([], dtype: float64))\n",
      "(Timestamp('2009-08-01 00:00:00', freq='D'), Series([], dtype: float64))\n",
      "(Timestamp('2009-08-02 00:00:00', freq='D'), Series([], dtype: float64))\n",
      "(Timestamp('2009-08-03 00:00:00', freq='D'), Series([], dtype: float64))\n",
      "(Timestamp('2009-08-04 00:00:00', freq='D'), Series([], dtype: float64))\n",
      "(Timestamp('2009-08-05 00:00:00', freq='D'), Series([], dtype: float64))\n",
      "(Timestamp('2009-08-06 00:00:00', freq='D'), Series([], dtype: float64))\n",
      "(Timestamp('2009-08-07 00:00:00', freq='D'), Series([], dtype: float64))\n",
      "(Timestamp('2009-08-08 00:00:00', freq='D'), Series([], dtype: float64))\n",
      "(Timestamp('2009-08-09 00:00:00', freq='D'), Series([], dtype: float64))\n",
      "(Timestamp('2009-08-10 00:00:00', freq='D'), Series([], dtype: float64))\n",
      "(Timestamp('2009-08-11 00:00:00', freq='D'), Series([], dtype: float64))\n",
      "(Timestamp('2009-08-12 00:00:00', freq='D'), Series([], dtype: float64))\n",
      "(Timestamp('2009-08-13 00:00:00', freq='D'), Series([], dtype: float64))\n",
      "(Timestamp('2009-08-14 00:00:00', freq='D'), Series([], dtype: float64))\n",
      "(Timestamp('2009-08-15 00:00:00', freq='D'), Series([], dtype: float64))\n",
      "(Timestamp('2009-08-16 00:00:00', freq='D'), Series([], dtype: float64))\n",
      "(Timestamp('2009-08-17 00:00:00', freq='D'), Series([], dtype: float64))\n",
      "(Timestamp('2009-08-18 00:00:00', freq='D'), Series([], dtype: float64))\n",
      "(Timestamp('2009-08-19 00:00:00', freq='D'), Series([], dtype: float64))\n",
      "(Timestamp('2009-08-20 00:00:00', freq='D'), Series([], dtype: float64))\n",
      "(Timestamp('2009-08-21 00:00:00', freq='D'), Series([], dtype: float64))\n",
      "(Timestamp('2009-08-22 00:00:00', freq='D'), Series([], dtype: float64))\n",
      "(Timestamp('2009-08-23 00:00:00', freq='D'), Series([], dtype: float64))\n",
      "(Timestamp('2009-08-24 00:00:00', freq='D'), Series([], dtype: float64))\n",
      "(Timestamp('2009-08-25 00:00:00', freq='D'), Series([], dtype: float64))\n",
      "(Timestamp('2009-08-26 00:00:00', freq='D'), Series([], dtype: float64))\n",
      "(Timestamp('2009-08-27 00:00:00', freq='D'), Series([], dtype: float64))\n",
      "(Timestamp('2009-08-28 00:00:00', freq='D'), Series([], dtype: float64))\n",
      "(Timestamp('2009-08-29 00:00:00', freq='D'), Series([], dtype: float64))\n",
      "(Timestamp('2009-08-30 00:00:00', freq='D'), Series([], dtype: float64))\n",
      "(Timestamp('2009-08-31 00:00:00', freq='D'), Series([], dtype: float64))\n",
      "(Timestamp('2009-09-01 00:00:00', freq='D'), Series([], dtype: float64))\n",
      "(Timestamp('2009-09-02 00:00:00', freq='D'), Series([], dtype: float64))\n",
      "(Timestamp('2009-09-03 00:00:00', freq='D'), Series([], dtype: float64))\n",
      "(Timestamp('2009-09-04 00:00:00', freq='D'), Series([], dtype: float64))\n",
      "(Timestamp('2009-09-05 00:00:00', freq='D'), Series([], dtype: float64))\n",
      "(Timestamp('2009-09-06 00:00:00', freq='D'), Series([], dtype: float64))\n",
      "(Timestamp('2009-09-07 00:00:00', freq='D'), Series([], dtype: float64))\n",
      "(Timestamp('2009-09-08 00:00:00', freq='D'), Series([], dtype: float64))\n",
      "(Timestamp('2009-09-09 00:00:00', freq='D'), Series([], dtype: float64))\n",
      "(Timestamp('2009-09-10 00:00:00', freq='D'), Series([], dtype: float64))\n",
      "(Timestamp('2009-09-11 00:00:00', freq='D'), Series([], dtype: float64))\n",
      "(Timestamp('2009-09-12 00:00:00', freq='D'), Series([], dtype: float64))\n",
      "(Timestamp('2009-09-13 00:00:00', freq='D'), Series([], dtype: float64))\n",
      "(Timestamp('2009-09-14 00:00:00', freq='D'), Series([], dtype: float64))\n",
      "(Timestamp('2009-09-15 00:00:00', freq='D'), Series([], dtype: float64))\n",
      "(Timestamp('2009-09-16 00:00:00', freq='D'), Series([], dtype: float64))\n",
      "(Timestamp('2009-09-17 00:00:00', freq='D'), Series([], dtype: float64))\n",
      "(Timestamp('2009-09-18 00:00:00', freq='D'), Series([], dtype: float64))\n",
      "(Timestamp('2009-09-19 00:00:00', freq='D'), Series([], dtype: float64))\n",
      "(Timestamp('2009-09-20 00:00:00', freq='D'), Series([], dtype: float64))\n",
      "(Timestamp('2009-09-21 00:00:00', freq='D'), Series([], dtype: float64))\n",
      "(Timestamp('2009-09-22 00:00:00', freq='D'), Series([], dtype: float64))\n",
      "(Timestamp('2009-09-23 00:00:00', freq='D'), Series([], dtype: float64))\n",
      "(Timestamp('2009-09-24 00:00:00', freq='D'), Series([], dtype: float64))\n",
      "(Timestamp('2009-09-25 00:00:00', freq='D'), Series([], dtype: float64))\n",
      "(Timestamp('2009-09-26 00:00:00', freq='D'), Series([], dtype: float64))\n",
      "(Timestamp('2009-09-27 00:00:00', freq='D'), Series([], dtype: float64))\n",
      "(Timestamp('2009-09-28 00:00:00', freq='D'), Series([], dtype: float64))\n",
      "(Timestamp('2009-09-29 00:00:00', freq='D'), Series([], dtype: float64))\n",
      "(Timestamp('2009-09-30 00:00:00', freq='D'), Series([], dtype: float64))\n",
      "(Timestamp('2009-10-01 00:00:00', freq='D'), Series([], dtype: float64))\n",
      "(Timestamp('2009-10-02 00:00:00', freq='D'), Series([], dtype: float64))\n",
      "(Timestamp('2009-10-03 00:00:00', freq='D'), Series([], dtype: float64))\n",
      "(Timestamp('2009-10-04 00:00:00', freq='D'), Series([], dtype: float64))\n",
      "(Timestamp('2009-10-05 00:00:00', freq='D'), Series([], dtype: float64))\n",
      "(Timestamp('2009-10-06 00:00:00', freq='D'), Series([], dtype: float64))\n",
      "(Timestamp('2009-10-07 00:00:00', freq='D'), Series([], dtype: float64))\n",
      "(Timestamp('2009-10-08 00:00:00', freq='D'), Series([], dtype: float64))\n",
      "(Timestamp('2009-10-09 00:00:00', freq='D'), Series([], dtype: float64))\n",
      "(Timestamp('2009-10-10 00:00:00', freq='D'), Series([], dtype: float64))\n",
      "(Timestamp('2009-10-11 00:00:00', freq='D'), Series([], dtype: float64))\n",
      "(Timestamp('2009-10-12 00:00:00', freq='D'), Series([], dtype: float64))\n",
      "(Timestamp('2009-10-13 00:00:00', freq='D'), Series([], dtype: float64))\n",
      "(Timestamp('2009-10-14 00:00:00', freq='D'), Series([], dtype: float64))\n",
      "(Timestamp('2009-10-15 00:00:00', freq='D'), Series([], dtype: float64))\n",
      "(Timestamp('2009-10-16 00:00:00', freq='D'), Series([], dtype: float64))\n",
      "(Timestamp('2009-10-17 00:00:00', freq='D'), Series([], dtype: float64))\n",
      "(Timestamp('2009-10-18 00:00:00', freq='D'), Series([], dtype: float64))\n",
      "(Timestamp('2009-10-19 00:00:00', freq='D'), Series([], dtype: float64))\n",
      "(Timestamp('2009-10-20 00:00:00', freq='D'), Series([], dtype: float64))\n",
      "(Timestamp('2009-10-21 00:00:00', freq='D'), Series([], dtype: float64))\n",
      "(Timestamp('2009-10-22 00:00:00', freq='D'), Series([], dtype: float64))\n",
      "(Timestamp('2009-10-23 00:00:00', freq='D'), Series([], dtype: float64))\n",
      "(Timestamp('2009-10-24 00:00:00', freq='D'), Series([], dtype: float64))\n",
      "(Timestamp('2009-10-25 00:00:00', freq='D'), Series([], dtype: float64))\n",
      "(Timestamp('2009-10-26 00:00:00', freq='D'), Series([], dtype: float64))\n",
      "(Timestamp('2009-10-27 00:00:00', freq='D'), Series([], dtype: float64))\n",
      "(Timestamp('2009-10-28 00:00:00', freq='D'), Series([], dtype: float64))\n",
      "(Timestamp('2009-10-29 00:00:00', freq='D'), Series([], dtype: float64))\n",
      "(Timestamp('2009-10-30 00:00:00', freq='D'), Series([], dtype: float64))\n",
      "(Timestamp('2009-10-31 00:00:00', freq='D'), Series([], dtype: float64))\n",
      "(Timestamp('2009-11-01 00:00:00', freq='D'), Series([], dtype: float64))\n",
      "(Timestamp('2009-11-02 00:00:00', freq='D'), Series([], dtype: float64))\n",
      "(Timestamp('2009-11-03 00:00:00', freq='D'), Series([], dtype: float64))\n",
      "(Timestamp('2009-11-04 00:00:00', freq='D'), Series([], dtype: float64))\n",
      "(Timestamp('2009-11-05 00:00:00', freq='D'), Series([], dtype: float64))\n",
      "(Timestamp('2009-11-06 00:00:00', freq='D'), Series([], dtype: float64))\n",
      "(Timestamp('2009-11-07 00:00:00', freq='D'), Series([], dtype: float64))\n",
      "(Timestamp('2009-11-08 00:00:00', freq='D'), Series([], dtype: float64))\n",
      "(Timestamp('2009-11-09 00:00:00', freq='D'), Series([], dtype: float64))\n",
      "(Timestamp('2009-11-10 00:00:00', freq='D'), Series([], dtype: float64))\n",
      "(Timestamp('2009-11-11 00:00:00', freq='D'), Series([], dtype: float64))\n",
      "(Timestamp('2009-11-12 00:00:00', freq='D'), Series([], dtype: float64))\n",
      "(Timestamp('2009-11-13 00:00:00', freq='D'), Series([], dtype: float64))\n",
      "(Timestamp('2009-11-14 00:00:00', freq='D'), Series([], dtype: float64))\n",
      "(Timestamp('2009-11-15 00:00:00', freq='D'), Series([], dtype: float64))\n",
      "(Timestamp('2009-11-16 00:00:00', freq='D'), Series([], dtype: float64))\n",
      "(Timestamp('2009-11-17 00:00:00', freq='D'), Series([], dtype: float64))\n",
      "(Timestamp('2009-11-18 00:00:00', freq='D'), Series([], dtype: float64))\n",
      "(Timestamp('2009-11-19 00:00:00', freq='D'), Series([], dtype: float64))\n",
      "(Timestamp('2009-11-20 00:00:00', freq='D'), Series([], dtype: float64))\n",
      "(Timestamp('2009-11-21 00:00:00', freq='D'), Series([], dtype: float64))\n",
      "(Timestamp('2009-11-22 00:00:00', freq='D'), Series([], dtype: float64))\n",
      "(Timestamp('2009-11-23 00:00:00', freq='D'), Series([], dtype: float64))\n",
      "(Timestamp('2009-11-24 00:00:00', freq='D'), Series([], dtype: float64))\n",
      "(Timestamp('2009-11-25 00:00:00', freq='D'), Series([], dtype: float64))\n",
      "(Timestamp('2009-11-26 00:00:00', freq='D'), Series([], dtype: float64))\n",
      "(Timestamp('2009-11-27 00:00:00', freq='D'), Series([], dtype: float64))\n",
      "(Timestamp('2009-11-28 00:00:00', freq='D'), Series([], dtype: float64))\n",
      "(Timestamp('2009-11-29 00:00:00', freq='D'), Series([], dtype: float64))\n",
      "(Timestamp('2009-11-30 00:00:00', freq='D'), Series([], dtype: float64))\n",
      "(Timestamp('2009-12-01 00:00:00', freq='D'), Series([], dtype: float64))\n",
      "(Timestamp('2009-12-02 00:00:00', freq='D'), Series([], dtype: float64))\n",
      "(Timestamp('2009-12-03 00:00:00', freq='D'), Series([], dtype: float64))\n",
      "(Timestamp('2009-12-04 00:00:00', freq='D'), Series([], dtype: float64))\n",
      "(Timestamp('2009-12-05 00:00:00', freq='D'), Series([], dtype: float64))\n",
      "(Timestamp('2009-12-06 00:00:00', freq='D'), Series([], dtype: float64))\n",
      "(Timestamp('2009-12-07 00:00:00', freq='D'), Series([], dtype: float64))\n",
      "(Timestamp('2009-12-08 00:00:00', freq='D'), Series([], dtype: float64))\n",
      "(Timestamp('2009-12-09 00:00:00', freq='D'), Series([], dtype: float64))\n",
      "(Timestamp('2009-12-10 00:00:00', freq='D'), Series([], dtype: float64))\n",
      "(Timestamp('2009-12-11 00:00:00', freq='D'), Series([], dtype: float64))\n",
      "(Timestamp('2009-12-12 00:00:00', freq='D'), Series([], dtype: float64))\n",
      "(Timestamp('2009-12-13 00:00:00', freq='D'), Series([], dtype: float64))\n",
      "(Timestamp('2009-12-14 00:00:00', freq='D'), Series([], dtype: float64))\n",
      "(Timestamp('2009-12-15 00:00:00', freq='D'), Series([], dtype: float64))\n",
      "(Timestamp('2009-12-16 00:00:00', freq='D'), Series([], dtype: float64))\n",
      "(Timestamp('2009-12-17 00:00:00', freq='D'), Series([], dtype: float64))\n",
      "(Timestamp('2009-12-18 00:00:00', freq='D'), Series([], dtype: float64))\n",
      "(Timestamp('2009-12-19 00:00:00', freq='D'), Series([], dtype: float64))\n",
      "(Timestamp('2009-12-20 00:00:00', freq='D'), Series([], dtype: float64))\n",
      "(Timestamp('2009-12-21 00:00:00', freq='D'), Series([], dtype: float64))\n",
      "(Timestamp('2009-12-22 00:00:00', freq='D'), Series([], dtype: float64))\n",
      "(Timestamp('2009-12-23 00:00:00', freq='D'), Series([], dtype: float64))\n",
      "(Timestamp('2009-12-24 00:00:00', freq='D'), Series([], dtype: float64))\n",
      "(Timestamp('2009-12-25 00:00:00', freq='D'), Series([], dtype: float64))\n",
      "(Timestamp('2009-12-26 00:00:00', freq='D'), Series([], dtype: float64))\n",
      "(Timestamp('2009-12-27 00:00:00', freq='D'), Series([], dtype: float64))\n",
      "(Timestamp('2009-12-28 00:00:00', freq='D'), Series([], dtype: float64))\n",
      "(Timestamp('2009-12-29 00:00:00', freq='D'), Series([], dtype: float64))\n",
      "(Timestamp('2009-12-30 00:00:00', freq='D'), Series([], dtype: float64))\n",
      "(Timestamp('2009-12-31 00:00:00', freq='D'), Series([], dtype: float64))\n",
      "(Timestamp('2010-01-01 00:00:00', freq='D'), Series([], dtype: float64))\n",
      "(Timestamp('2010-01-02 00:00:00', freq='D'), Series([], dtype: float64))\n",
      "(Timestamp('2010-01-03 00:00:00', freq='D'), Series([], dtype: float64))\n",
      "(Timestamp('2010-01-04 00:00:00', freq='D'), Series([], dtype: float64))\n",
      "(Timestamp('2010-01-05 00:00:00', freq='D'), Series([], dtype: float64))\n",
      "(Timestamp('2010-01-06 00:00:00', freq='D'), Series([], dtype: float64))\n",
      "(Timestamp('2010-01-07 00:00:00', freq='D'), Series([], dtype: float64))\n",
      "(Timestamp('2010-01-08 00:00:00', freq='D'), Series([], dtype: float64))\n",
      "(Timestamp('2010-01-09 00:00:00', freq='D'), Series([], dtype: float64))\n",
      "(Timestamp('2010-01-10 00:00:00', freq='D'), Series([], dtype: float64))\n",
      "(Timestamp('2010-01-11 00:00:00', freq='D'), Series([], dtype: float64))\n",
      "(Timestamp('2010-01-12 00:00:00', freq='D'), Series([], dtype: float64))\n",
      "(Timestamp('2010-01-13 00:00:00', freq='D'), Series([], dtype: float64))\n",
      "(Timestamp('2010-01-14 00:00:00', freq='D'), Series([], dtype: float64))\n",
      "(Timestamp('2010-01-15 00:00:00', freq='D'), Series([], dtype: float64))\n",
      "(Timestamp('2010-01-16 00:00:00', freq='D'), Series([], dtype: float64))\n",
      "(Timestamp('2010-01-17 00:00:00', freq='D'), Series([], dtype: float64))\n",
      "(Timestamp('2010-01-18 00:00:00', freq='D'), Series([], dtype: float64))\n",
      "(Timestamp('2010-01-19 00:00:00', freq='D'), Series([], dtype: float64))\n",
      "(Timestamp('2010-01-20 00:00:00', freq='D'), Series([], dtype: float64))\n",
      "(Timestamp('2010-01-21 00:00:00', freq='D'), Series([], dtype: float64))\n",
      "(Timestamp('2010-01-22 00:00:00', freq='D'), Series([], dtype: float64))\n",
      "(Timestamp('2010-01-23 00:00:00', freq='D'), Series([], dtype: float64))\n",
      "(Timestamp('2010-01-24 00:00:00', freq='D'), Series([], dtype: float64))\n",
      "(Timestamp('2010-01-25 00:00:00', freq='D'), Series([], dtype: float64))\n",
      "(Timestamp('2010-01-26 00:00:00', freq='D'), Series([], dtype: float64))\n",
      "(Timestamp('2010-01-27 00:00:00', freq='D'), Series([], dtype: float64))\n",
      "(Timestamp('2010-01-28 00:00:00', freq='D'), Series([], dtype: float64))\n",
      "(Timestamp('2010-01-29 00:00:00', freq='D'), Series([], dtype: float64))\n",
      "(Timestamp('2010-01-30 00:00:00', freq='D'), Series([], dtype: float64))\n",
      "(Timestamp('2010-01-31 00:00:00', freq='D'), Series([], dtype: float64))\n",
      "(Timestamp('2010-02-01 00:00:00', freq='D'), Series([], dtype: float64))\n",
      "(Timestamp('2010-02-02 00:00:00', freq='D'), Series([], dtype: float64))\n",
      "(Timestamp('2010-02-03 00:00:00', freq='D'), Series([], dtype: float64))\n",
      "(Timestamp('2010-02-04 00:00:00', freq='D'), Series([], dtype: float64))\n",
      "(Timestamp('2010-02-05 00:00:00', freq='D'), Series([], dtype: float64))\n",
      "(Timestamp('2010-02-06 00:00:00', freq='D'), Series([], dtype: float64))\n",
      "(Timestamp('2010-02-07 00:00:00', freq='D'), Series([], dtype: float64))\n",
      "(Timestamp('2010-02-08 00:00:00', freq='D'), Series([], dtype: float64))\n",
      "(Timestamp('2010-02-09 00:00:00', freq='D'), Series([], dtype: float64))\n",
      "(Timestamp('2010-02-10 00:00:00', freq='D'), Series([], dtype: float64))\n",
      "(Timestamp('2010-02-11 00:00:00', freq='D'), Series([], dtype: float64))\n",
      "(Timestamp('2010-02-12 00:00:00', freq='D'), Series([], dtype: float64))\n",
      "(Timestamp('2010-02-13 00:00:00', freq='D'), Series([], dtype: float64))\n",
      "(Timestamp('2010-02-14 00:00:00', freq='D'), Series([], dtype: float64))\n",
      "(Timestamp('2010-02-15 00:00:00', freq='D'), Series([], dtype: float64))\n",
      "(Timestamp('2010-02-16 00:00:00', freq='D'), Series([], dtype: float64))\n",
      "(Timestamp('2010-02-17 00:00:00', freq='D'), Series([], dtype: float64))\n",
      "(Timestamp('2010-02-18 00:00:00', freq='D'), Series([], dtype: float64))\n",
      "(Timestamp('2010-02-19 00:00:00', freq='D'), Series([], dtype: float64))\n",
      "(Timestamp('2010-02-20 00:00:00', freq='D'), Series([], dtype: float64))\n",
      "(Timestamp('2010-02-21 00:00:00', freq='D'), Series([], dtype: float64))\n",
      "(Timestamp('2010-02-22 00:00:00', freq='D'), Series([], dtype: float64))\n",
      "(Timestamp('2010-02-23 00:00:00', freq='D'), Series([], dtype: float64))\n",
      "(Timestamp('2010-02-24 00:00:00', freq='D'), Series([], dtype: float64))\n",
      "(Timestamp('2010-02-25 00:00:00', freq='D'), Series([], dtype: float64))\n",
      "(Timestamp('2010-02-26 00:00:00', freq='D'), Series([], dtype: float64))\n",
      "(Timestamp('2010-02-27 00:00:00', freq='D'), Series([], dtype: float64))\n",
      "(Timestamp('2010-02-28 00:00:00', freq='D'), Series([], dtype: float64))\n",
      "(Timestamp('2010-03-01 00:00:00', freq='D'), Series([], dtype: float64))\n",
      "(Timestamp('2010-03-02 00:00:00', freq='D'), Series([], dtype: float64))\n",
      "(Timestamp('2010-03-03 00:00:00', freq='D'), Series([], dtype: float64))\n",
      "(Timestamp('2010-03-04 00:00:00', freq='D'), Series([], dtype: float64))\n",
      "(Timestamp('2010-03-05 00:00:00', freq='D'), Series([], dtype: float64))\n",
      "(Timestamp('2010-03-06 00:00:00', freq='D'), Series([], dtype: float64))\n",
      "(Timestamp('2010-03-07 00:00:00', freq='D'), Series([], dtype: float64))\n",
      "(Timestamp('2010-03-08 00:00:00', freq='D'), Series([], dtype: float64))\n",
      "(Timestamp('2010-03-09 00:00:00', freq='D'), Series([], dtype: float64))\n",
      "(Timestamp('2010-03-10 00:00:00', freq='D'), Series([], dtype: float64))\n",
      "(Timestamp('2010-03-11 00:00:00', freq='D'), Series([], dtype: float64))\n",
      "(Timestamp('2010-03-12 00:00:00', freq='D'), Series([], dtype: float64))\n",
      "(Timestamp('2010-03-13 00:00:00', freq='D'), Series([], dtype: float64))\n",
      "(Timestamp('2010-03-14 00:00:00', freq='D'), Series([], dtype: float64))\n",
      "(Timestamp('2010-03-15 00:00:00', freq='D'), Series([], dtype: float64))\n",
      "(Timestamp('2010-03-16 00:00:00', freq='D'), Series([], dtype: float64))\n",
      "(Timestamp('2010-03-17 00:00:00', freq='D'), Series([], dtype: float64))\n",
      "(Timestamp('2010-03-18 00:00:00', freq='D'), Series([], dtype: float64))\n",
      "(Timestamp('2010-03-19 00:00:00', freq='D'), Series([], dtype: float64))\n",
      "(Timestamp('2010-03-20 00:00:00', freq='D'), Series([], dtype: float64))\n",
      "(Timestamp('2010-03-21 00:00:00', freq='D'), Series([], dtype: float64))\n",
      "(Timestamp('2010-03-22 00:00:00', freq='D'), Series([], dtype: float64))\n",
      "(Timestamp('2010-03-23 00:00:00', freq='D'), Series([], dtype: float64))\n",
      "(Timestamp('2010-03-24 00:00:00', freq='D'), Series([], dtype: float64))\n",
      "(Timestamp('2010-03-25 00:00:00', freq='D'), Series([], dtype: float64))\n",
      "(Timestamp('2010-03-26 00:00:00', freq='D'), Series([], dtype: float64))\n",
      "(Timestamp('2010-03-27 00:00:00', freq='D'), Series([], dtype: float64))\n"
     ]
    },
    {
     "name": "stdout",
     "output_type": "stream",
     "text": [
      "(Timestamp('2010-03-28 00:00:00', freq='D'), Series([], dtype: float64))\n",
      "(Timestamp('2010-03-29 00:00:00', freq='D'), Series([], dtype: float64))\n",
      "(Timestamp('2010-03-30 00:00:00', freq='D'), Series([], dtype: float64))\n",
      "(Timestamp('2010-03-31 00:00:00', freq='D'), Series([], dtype: float64))\n",
      "(Timestamp('2010-04-01 00:00:00', freq='D'), Series([], dtype: float64))\n",
      "(Timestamp('2010-04-02 00:00:00', freq='D'), Series([], dtype: float64))\n",
      "(Timestamp('2010-04-03 00:00:00', freq='D'), Series([], dtype: float64))\n",
      "(Timestamp('2010-04-04 00:00:00', freq='D'), Series([], dtype: float64))\n",
      "(Timestamp('2010-04-05 00:00:00', freq='D'), Series([], dtype: float64))\n",
      "(Timestamp('2010-04-06 00:00:00', freq='D'), Series([], dtype: float64))\n",
      "(Timestamp('2010-04-07 00:00:00', freq='D'), Series([], dtype: float64))\n",
      "(Timestamp('2010-04-08 00:00:00', freq='D'), Series([], dtype: float64))\n",
      "(Timestamp('2010-04-09 00:00:00', freq='D'), Series([], dtype: float64))\n",
      "(Timestamp('2010-04-10 00:00:00', freq='D'), Series([], dtype: float64))\n",
      "(Timestamp('2010-04-11 00:00:00', freq='D'), Series([], dtype: float64))\n",
      "(Timestamp('2010-04-12 00:00:00', freq='D'), Series([], dtype: float64))\n",
      "(Timestamp('2010-04-13 00:00:00', freq='D'), Series([], dtype: float64))\n",
      "(Timestamp('2010-04-14 00:00:00', freq='D'), Series([], dtype: float64))\n",
      "(Timestamp('2010-04-15 00:00:00', freq='D'), Series([], dtype: float64))\n",
      "(Timestamp('2010-04-16 00:00:00', freq='D'), Series([], dtype: float64))\n",
      "(Timestamp('2010-04-17 00:00:00', freq='D'), Series([], dtype: float64))\n",
      "(Timestamp('2010-04-18 00:00:00', freq='D'), Series([], dtype: float64))\n",
      "(Timestamp('2010-04-19 00:00:00', freq='D'), Series([], dtype: float64))\n",
      "(Timestamp('2010-04-20 00:00:00', freq='D'), Series([], dtype: float64))\n",
      "(Timestamp('2010-04-21 00:00:00', freq='D'), Series([], dtype: float64))\n",
      "(Timestamp('2010-04-22 00:00:00', freq='D'), Series([], dtype: float64))\n",
      "(Timestamp('2010-04-23 00:00:00', freq='D'), Series([], dtype: float64))\n",
      "(Timestamp('2010-04-24 00:00:00', freq='D'), Series([], dtype: float64))\n",
      "(Timestamp('2010-04-25 00:00:00', freq='D'), Series([], dtype: float64))\n",
      "(Timestamp('2010-04-26 00:00:00', freq='D'), Series([], dtype: float64))\n",
      "(Timestamp('2010-04-27 00:00:00', freq='D'), Series([], dtype: float64))\n",
      "(Timestamp('2010-04-28 00:00:00', freq='D'), Series([], dtype: float64))\n",
      "(Timestamp('2010-04-29 00:00:00', freq='D'), Series([], dtype: float64))\n",
      "(Timestamp('2010-04-30 00:00:00', freq='D'), Series([], dtype: float64))\n",
      "(Timestamp('2010-05-01 00:00:00', freq='D'), Series([], dtype: float64))\n",
      "(Timestamp('2010-05-02 00:00:00', freq='D'), Series([], dtype: float64))\n",
      "(Timestamp('2010-05-03 00:00:00', freq='D'), Series([], dtype: float64))\n",
      "(Timestamp('2010-05-04 00:00:00', freq='D'), Series([], dtype: float64))\n",
      "(Timestamp('2010-05-05 00:00:00', freq='D'), Series([], dtype: float64))\n",
      "(Timestamp('2010-05-06 00:00:00', freq='D'), Series([], dtype: float64))\n",
      "(Timestamp('2010-05-07 00:00:00', freq='D'), Series([], dtype: float64))\n",
      "(Timestamp('2010-05-08 00:00:00', freq='D'), Series([], dtype: float64))\n",
      "(Timestamp('2010-05-09 00:00:00', freq='D'), Series([], dtype: float64))\n",
      "(Timestamp('2010-05-10 00:00:00', freq='D'), Series([], dtype: float64))\n",
      "(Timestamp('2010-05-11 00:00:00', freq='D'), Series([], dtype: float64))\n",
      "(Timestamp('2010-05-12 00:00:00', freq='D'), Series([], dtype: float64))\n",
      "(Timestamp('2010-05-13 00:00:00', freq='D'), Series([], dtype: float64))\n",
      "(Timestamp('2010-05-14 00:00:00', freq='D'), Series([], dtype: float64))\n",
      "(Timestamp('2010-05-15 00:00:00', freq='D'), Series([], dtype: float64))\n",
      "(Timestamp('2010-05-16 00:00:00', freq='D'), Series([], dtype: float64))\n",
      "(Timestamp('2010-05-17 00:00:00', freq='D'), Series([], dtype: float64))\n",
      "(Timestamp('2010-05-18 00:00:00', freq='D'), Series([], dtype: float64))\n",
      "(Timestamp('2010-05-19 00:00:00', freq='D'), Series([], dtype: float64))\n",
      "(Timestamp('2010-05-20 00:00:00', freq='D'), Series([], dtype: float64))\n",
      "(Timestamp('2010-05-21 00:00:00', freq='D'), Series([], dtype: float64))\n",
      "(Timestamp('2010-05-22 00:00:00', freq='D'), Series([], dtype: float64))\n",
      "(Timestamp('2010-05-23 00:00:00', freq='D'), Series([], dtype: float64))\n",
      "(Timestamp('2010-05-24 00:00:00', freq='D'), Series([], dtype: float64))\n",
      "(Timestamp('2010-05-25 00:00:00', freq='D'), Series([], dtype: float64))\n",
      "(Timestamp('2010-05-26 00:00:00', freq='D'), Series([], dtype: float64))\n",
      "(Timestamp('2010-05-27 00:00:00', freq='D'), Series([], dtype: float64))\n",
      "(Timestamp('2010-05-28 00:00:00', freq='D'), Series([], dtype: float64))\n",
      "(Timestamp('2010-05-29 00:00:00', freq='D'), Series([], dtype: float64))\n",
      "(Timestamp('2010-05-30 00:00:00', freq='D'), Series([], dtype: float64))\n",
      "(Timestamp('2010-05-31 00:00:00', freq='D'), Series([], dtype: float64))\n",
      "(Timestamp('2010-06-01 00:00:00', freq='D'), Series([], dtype: float64))\n",
      "(Timestamp('2010-06-02 00:00:00', freq='D'), Series([], dtype: float64))\n",
      "(Timestamp('2010-06-03 00:00:00', freq='D'), Series([], dtype: float64))\n",
      "(Timestamp('2010-06-04 00:00:00', freq='D'), Series([], dtype: float64))\n",
      "(Timestamp('2010-06-05 00:00:00', freq='D'), Series([], dtype: float64))\n",
      "(Timestamp('2010-06-06 00:00:00', freq='D'), Series([], dtype: float64))\n",
      "(Timestamp('2010-06-07 00:00:00', freq='D'), Series([], dtype: float64))\n",
      "(Timestamp('2010-06-08 00:00:00', freq='D'), Series([], dtype: float64))\n",
      "(Timestamp('2010-06-09 00:00:00', freq='D'), Series([], dtype: float64))\n",
      "(Timestamp('2010-06-10 00:00:00', freq='D'), Series([], dtype: float64))\n",
      "(Timestamp('2010-06-11 00:00:00', freq='D'), Series([], dtype: float64))\n",
      "(Timestamp('2010-06-12 00:00:00', freq='D'), Series([], dtype: float64))\n",
      "(Timestamp('2010-06-13 00:00:00', freq='D'), Series([], dtype: float64))\n",
      "(Timestamp('2010-06-14 00:00:00', freq='D'), Series([], dtype: float64))\n",
      "(Timestamp('2010-06-15 00:00:00', freq='D'), Series([], dtype: float64))\n",
      "(Timestamp('2010-06-16 00:00:00', freq='D'), Series([], dtype: float64))\n",
      "(Timestamp('2010-06-17 00:00:00', freq='D'), Series([], dtype: float64))\n",
      "(Timestamp('2010-06-18 00:00:00', freq='D'), Series([], dtype: float64))\n",
      "(Timestamp('2010-06-19 00:00:00', freq='D'), Series([], dtype: float64))\n",
      "(Timestamp('2010-06-20 00:00:00', freq='D'), Series([], dtype: float64))\n",
      "(Timestamp('2010-06-21 00:00:00', freq='D'), Series([], dtype: float64))\n",
      "(Timestamp('2010-06-22 00:00:00', freq='D'), Series([], dtype: float64))\n",
      "(Timestamp('2010-06-23 00:00:00', freq='D'), Series([], dtype: float64))\n",
      "(Timestamp('2010-06-24 00:00:00', freq='D'), Series([], dtype: float64))\n",
      "(Timestamp('2010-06-25 00:00:00', freq='D'), Series([], dtype: float64))\n",
      "(Timestamp('2010-06-26 00:00:00', freq='D'), Series([], dtype: float64))\n",
      "(Timestamp('2010-06-27 00:00:00', freq='D'), Series([], dtype: float64))\n",
      "(Timestamp('2010-06-28 00:00:00', freq='D'), Series([], dtype: float64))\n",
      "(Timestamp('2010-06-29 00:00:00', freq='D'), Series([], dtype: float64))\n",
      "(Timestamp('2010-06-30 00:00:00', freq='D'), Series([], dtype: float64))\n",
      "(Timestamp('2010-07-01 00:00:00', freq='D'), Series([], dtype: float64))\n",
      "(Timestamp('2010-07-02 00:00:00', freq='D'), Series([], dtype: float64))\n",
      "(Timestamp('2010-07-03 00:00:00', freq='D'), Series([], dtype: float64))\n",
      "(Timestamp('2010-07-04 00:00:00', freq='D'), Series([], dtype: float64))\n",
      "(Timestamp('2010-07-05 00:00:00', freq='D'), Series([], dtype: float64))\n",
      "(Timestamp('2010-07-06 00:00:00', freq='D'), Series([], dtype: float64))\n",
      "(Timestamp('2010-07-07 00:00:00', freq='D'), Series([], dtype: float64))\n",
      "(Timestamp('2010-07-08 00:00:00', freq='D'), Series([], dtype: float64))\n",
      "(Timestamp('2010-07-09 00:00:00', freq='D'), Series([], dtype: float64))\n",
      "(Timestamp('2010-07-10 00:00:00', freq='D'), Series([], dtype: float64))\n",
      "(Timestamp('2010-07-11 00:00:00', freq='D'), Series([], dtype: float64))\n",
      "(Timestamp('2010-07-12 00:00:00', freq='D'), Series([], dtype: float64))\n",
      "(Timestamp('2010-07-13 00:00:00', freq='D'), Series([], dtype: float64))\n",
      "(Timestamp('2010-07-14 00:00:00', freq='D'), Series([], dtype: float64))\n",
      "(Timestamp('2010-07-15 00:00:00', freq='D'), Series([], dtype: float64))\n",
      "(Timestamp('2010-07-16 00:00:00', freq='D'), Series([], dtype: float64))\n",
      "(Timestamp('2010-07-17 00:00:00', freq='D'), Series([], dtype: float64))\n",
      "(Timestamp('2010-07-18 00:00:00', freq='D'), Series([], dtype: float64))\n",
      "(Timestamp('2010-07-19 00:00:00', freq='D'), Series([], dtype: float64))\n",
      "(Timestamp('2010-07-20 00:00:00', freq='D'), Series([], dtype: float64))\n",
      "(Timestamp('2010-07-21 00:00:00', freq='D'), Series([], dtype: float64))\n",
      "(Timestamp('2010-07-22 00:00:00', freq='D'), Series([], dtype: float64))\n",
      "(Timestamp('2010-07-23 00:00:00', freq='D'), Series([], dtype: float64))\n",
      "(Timestamp('2010-07-24 00:00:00', freq='D'), Series([], dtype: float64))\n",
      "(Timestamp('2010-07-25 00:00:00', freq='D'), Series([], dtype: float64))\n",
      "(Timestamp('2010-07-26 00:00:00', freq='D'), Series([], dtype: float64))\n",
      "(Timestamp('2010-07-27 00:00:00', freq='D'), Series([], dtype: float64))\n",
      "(Timestamp('2010-07-28 00:00:00', freq='D'), Series([], dtype: float64))\n",
      "(Timestamp('2010-07-29 00:00:00', freq='D'), Series([], dtype: float64))\n",
      "(Timestamp('2010-07-30 00:00:00', freq='D'), Series([], dtype: float64))\n",
      "(Timestamp('2010-07-31 00:00:00', freq='D'), Series([], dtype: float64))\n",
      "(Timestamp('2010-08-01 00:00:00', freq='D'), Series([], dtype: float64))\n",
      "(Timestamp('2010-08-02 00:00:00', freq='D'), Series([], dtype: float64))\n",
      "(Timestamp('2010-08-03 00:00:00', freq='D'), Series([], dtype: float64))\n",
      "(Timestamp('2010-08-04 00:00:00', freq='D'), Series([], dtype: float64))\n",
      "(Timestamp('2010-08-05 00:00:00', freq='D'), Series([], dtype: float64))\n",
      "(Timestamp('2010-08-06 00:00:00', freq='D'), Series([], dtype: float64))\n",
      "(Timestamp('2010-08-07 00:00:00', freq='D'), Series([], dtype: float64))\n",
      "(Timestamp('2010-08-08 00:00:00', freq='D'), Series([], dtype: float64))\n",
      "(Timestamp('2010-08-09 00:00:00', freq='D'), Series([], dtype: float64))\n",
      "(Timestamp('2010-08-10 00:00:00', freq='D'), Series([], dtype: float64))\n",
      "(Timestamp('2010-08-11 00:00:00', freq='D'), Series([], dtype: float64))\n",
      "(Timestamp('2010-08-12 00:00:00', freq='D'), Series([], dtype: float64))\n",
      "(Timestamp('2010-08-13 00:00:00', freq='D'), Series([], dtype: float64))\n",
      "(Timestamp('2010-08-14 00:00:00', freq='D'), Series([], dtype: float64))\n",
      "(Timestamp('2010-08-15 00:00:00', freq='D'), Series([], dtype: float64))\n",
      "(Timestamp('2010-08-16 00:00:00', freq='D'), Series([], dtype: float64))\n",
      "(Timestamp('2010-08-17 00:00:00', freq='D'), Series([], dtype: float64))\n",
      "(Timestamp('2010-08-18 00:00:00', freq='D'), Series([], dtype: float64))\n",
      "(Timestamp('2010-08-19 00:00:00', freq='D'), Series([], dtype: float64))\n",
      "(Timestamp('2010-08-20 00:00:00', freq='D'), Series([], dtype: float64))\n",
      "(Timestamp('2010-08-21 00:00:00', freq='D'), Series([], dtype: float64))\n",
      "(Timestamp('2010-08-22 00:00:00', freq='D'), Series([], dtype: float64))\n",
      "(Timestamp('2010-08-23 00:00:00', freq='D'), Series([], dtype: float64))\n",
      "(Timestamp('2010-08-24 00:00:00', freq='D'), Series([], dtype: float64))\n",
      "(Timestamp('2010-08-25 00:00:00', freq='D'), Series([], dtype: float64))\n",
      "(Timestamp('2010-08-26 00:00:00', freq='D'), Series([], dtype: float64))\n",
      "(Timestamp('2010-08-27 00:00:00', freq='D'), Series([], dtype: float64))\n",
      "(Timestamp('2010-08-28 00:00:00', freq='D'), Series([], dtype: float64))\n",
      "(Timestamp('2010-08-29 00:00:00', freq='D'), Series([], dtype: float64))\n",
      "(Timestamp('2010-08-30 00:00:00', freq='D'), Series([], dtype: float64))\n",
      "(Timestamp('2010-08-31 00:00:00', freq='D'), Series([], dtype: float64))\n",
      "(Timestamp('2010-09-01 00:00:00', freq='D'), Series([], dtype: float64))\n",
      "(Timestamp('2010-09-02 00:00:00', freq='D'), Series([], dtype: float64))\n",
      "(Timestamp('2010-09-03 00:00:00', freq='D'), Series([], dtype: float64))\n",
      "(Timestamp('2010-09-04 00:00:00', freq='D'), Series([], dtype: float64))\n",
      "(Timestamp('2010-09-05 00:00:00', freq='D'), Series([], dtype: float64))\n",
      "(Timestamp('2010-09-06 00:00:00', freq='D'), Series([], dtype: float64))\n",
      "(Timestamp('2010-09-07 00:00:00', freq='D'), Series([], dtype: float64))\n",
      "(Timestamp('2010-09-08 00:00:00', freq='D'), Series([], dtype: float64))\n",
      "(Timestamp('2010-09-09 00:00:00', freq='D'), Series([], dtype: float64))\n",
      "(Timestamp('2010-09-10 00:00:00', freq='D'), Series([], dtype: float64))\n",
      "(Timestamp('2010-09-11 00:00:00', freq='D'), Series([], dtype: float64))\n",
      "(Timestamp('2010-09-12 00:00:00', freq='D'), Series([], dtype: float64))\n",
      "(Timestamp('2010-09-13 00:00:00', freq='D'), Series([], dtype: float64))\n",
      "(Timestamp('2010-09-14 00:00:00', freq='D'), Series([], dtype: float64))\n",
      "(Timestamp('2010-09-15 00:00:00', freq='D'), Series([], dtype: float64))\n",
      "(Timestamp('2010-09-16 00:00:00', freq='D'), Series([], dtype: float64))\n",
      "(Timestamp('2010-09-17 00:00:00', freq='D'), Series([], dtype: float64))\n",
      "(Timestamp('2010-09-18 00:00:00', freq='D'), Series([], dtype: float64))\n",
      "(Timestamp('2010-09-19 00:00:00', freq='D'), Series([], dtype: float64))\n",
      "(Timestamp('2010-09-20 00:00:00', freq='D'), Series([], dtype: float64))\n",
      "(Timestamp('2010-09-21 00:00:00', freq='D'), Series([], dtype: float64))\n",
      "(Timestamp('2010-09-22 00:00:00', freq='D'), Series([], dtype: float64))\n",
      "(Timestamp('2010-09-23 00:00:00', freq='D'), Series([], dtype: float64))\n",
      "(Timestamp('2010-09-24 00:00:00', freq='D'), Series([], dtype: float64))\n",
      "(Timestamp('2010-09-25 00:00:00', freq='D'), Series([], dtype: float64))\n",
      "(Timestamp('2010-09-26 00:00:00', freq='D'), Series([], dtype: float64))\n",
      "(Timestamp('2010-09-27 00:00:00', freq='D'), Series([], dtype: float64))\n",
      "(Timestamp('2010-09-28 00:00:00', freq='D'), Series([], dtype: float64))\n",
      "(Timestamp('2010-09-29 00:00:00', freq='D'), Series([], dtype: float64))\n",
      "(Timestamp('2010-09-30 00:00:00', freq='D'), Series([], dtype: float64))\n",
      "(Timestamp('2010-10-01 00:00:00', freq='D'), Series([], dtype: float64))\n",
      "(Timestamp('2010-10-02 00:00:00', freq='D'), Series([], dtype: float64))\n",
      "(Timestamp('2010-10-03 00:00:00', freq='D'), Series([], dtype: float64))\n",
      "(Timestamp('2010-10-04 00:00:00', freq='D'), Series([], dtype: float64))\n",
      "(Timestamp('2010-10-05 00:00:00', freq='D'), Series([], dtype: float64))\n",
      "(Timestamp('2010-10-06 00:00:00', freq='D'), Series([], dtype: float64))\n",
      "(Timestamp('2010-10-07 00:00:00', freq='D'), Series([], dtype: float64))\n",
      "(Timestamp('2010-10-08 00:00:00', freq='D'), Series([], dtype: float64))\n",
      "(Timestamp('2010-10-09 00:00:00', freq='D'), Series([], dtype: float64))\n",
      "(Timestamp('2010-10-10 00:00:00', freq='D'), Series([], dtype: float64))\n",
      "(Timestamp('2010-10-11 00:00:00', freq='D'), Series([], dtype: float64))\n",
      "(Timestamp('2010-10-12 00:00:00', freq='D'), Series([], dtype: float64))\n",
      "(Timestamp('2010-10-13 00:00:00', freq='D'), Series([], dtype: float64))\n",
      "(Timestamp('2010-10-14 00:00:00', freq='D'), Series([], dtype: float64))\n",
      "(Timestamp('2010-10-15 00:00:00', freq='D'), Series([], dtype: float64))\n",
      "(Timestamp('2010-10-16 00:00:00', freq='D'), Series([], dtype: float64))\n",
      "(Timestamp('2010-10-17 00:00:00', freq='D'), Series([], dtype: float64))\n",
      "(Timestamp('2010-10-18 00:00:00', freq='D'), Series([], dtype: float64))\n",
      "(Timestamp('2010-10-19 00:00:00', freq='D'), Series([], dtype: float64))\n",
      "(Timestamp('2010-10-20 00:00:00', freq='D'), Series([], dtype: float64))\n",
      "(Timestamp('2010-10-21 00:00:00', freq='D'), Series([], dtype: float64))\n",
      "(Timestamp('2010-10-22 00:00:00', freq='D'), Series([], dtype: float64))\n",
      "(Timestamp('2010-10-23 00:00:00', freq='D'), Series([], dtype: float64))\n",
      "(Timestamp('2010-10-24 00:00:00', freq='D'), Series([], dtype: float64))\n",
      "(Timestamp('2010-10-25 00:00:00', freq='D'), Series([], dtype: float64))\n",
      "(Timestamp('2010-10-26 00:00:00', freq='D'), Series([], dtype: float64))\n",
      "(Timestamp('2010-10-27 00:00:00', freq='D'), Series([], dtype: float64))\n",
      "(Timestamp('2010-10-28 00:00:00', freq='D'), Series([], dtype: float64))\n",
      "(Timestamp('2010-10-29 00:00:00', freq='D'), Series([], dtype: float64))\n",
      "(Timestamp('2010-10-30 00:00:00', freq='D'), Series([], dtype: float64))\n",
      "(Timestamp('2010-10-31 00:00:00', freq='D'), Series([], dtype: float64))\n",
      "(Timestamp('2010-11-01 00:00:00', freq='D'), Series([], dtype: float64))\n",
      "(Timestamp('2010-11-02 00:00:00', freq='D'), Series([], dtype: float64))\n",
      "(Timestamp('2010-11-03 00:00:00', freq='D'), Series([], dtype: float64))\n",
      "(Timestamp('2010-11-04 00:00:00', freq='D'), Series([], dtype: float64))\n",
      "(Timestamp('2010-11-05 00:00:00', freq='D'), Series([], dtype: float64))\n",
      "(Timestamp('2010-11-06 00:00:00', freq='D'), Series([], dtype: float64))\n",
      "(Timestamp('2010-11-07 00:00:00', freq='D'), Series([], dtype: float64))\n",
      "(Timestamp('2010-11-08 00:00:00', freq='D'), Series([], dtype: float64))\n",
      "(Timestamp('2010-11-09 00:00:00', freq='D'), Series([], dtype: float64))\n",
      "(Timestamp('2010-11-10 00:00:00', freq='D'), Series([], dtype: float64))\n",
      "(Timestamp('2010-11-11 00:00:00', freq='D'), Series([], dtype: float64))\n",
      "(Timestamp('2010-11-12 00:00:00', freq='D'), Series([], dtype: float64))\n",
      "(Timestamp('2010-11-13 00:00:00', freq='D'), Series([], dtype: float64))\n",
      "(Timestamp('2010-11-14 00:00:00', freq='D'), Series([], dtype: float64))\n",
      "(Timestamp('2010-11-15 00:00:00', freq='D'), Series([], dtype: float64))\n",
      "(Timestamp('2010-11-16 00:00:00', freq='D'), Series([], dtype: float64))\n",
      "(Timestamp('2010-11-17 00:00:00', freq='D'), Series([], dtype: float64))\n",
      "(Timestamp('2010-11-18 00:00:00', freq='D'), Series([], dtype: float64))\n",
      "(Timestamp('2010-11-19 00:00:00', freq='D'), Series([], dtype: float64))\n",
      "(Timestamp('2010-11-20 00:00:00', freq='D'), Series([], dtype: float64))\n",
      "(Timestamp('2010-11-21 00:00:00', freq='D'), Series([], dtype: float64))\n",
      "(Timestamp('2010-11-22 00:00:00', freq='D'), Series([], dtype: float64))\n",
      "(Timestamp('2010-11-23 00:00:00', freq='D'), Series([], dtype: float64))\n",
      "(Timestamp('2010-11-24 00:00:00', freq='D'), Series([], dtype: float64))\n",
      "(Timestamp('2010-11-25 00:00:00', freq='D'), Series([], dtype: float64))\n",
      "(Timestamp('2010-11-26 00:00:00', freq='D'), Series([], dtype: float64))\n",
      "(Timestamp('2010-11-27 00:00:00', freq='D'), Series([], dtype: float64))\n",
      "(Timestamp('2010-11-28 00:00:00', freq='D'), Series([], dtype: float64))\n",
      "(Timestamp('2010-11-29 00:00:00', freq='D'), Series([], dtype: float64))\n",
      "(Timestamp('2010-11-30 00:00:00', freq='D'), Series([], dtype: float64))\n",
      "(Timestamp('2010-12-01 00:00:00', freq='D'), Series([], dtype: float64))\n",
      "(Timestamp('2010-12-02 00:00:00', freq='D'), Series([], dtype: float64))\n",
      "(Timestamp('2010-12-03 00:00:00', freq='D'), Series([], dtype: float64))\n",
      "(Timestamp('2010-12-04 00:00:00', freq='D'), Series([], dtype: float64))\n",
      "(Timestamp('2010-12-05 00:00:00', freq='D'), Series([], dtype: float64))\n",
      "(Timestamp('2010-12-06 00:00:00', freq='D'), Series([], dtype: float64))\n",
      "(Timestamp('2010-12-07 00:00:00', freq='D'), Series([], dtype: float64))\n",
      "(Timestamp('2010-12-08 00:00:00', freq='D'), Series([], dtype: float64))\n",
      "(Timestamp('2010-12-09 00:00:00', freq='D'), Series([], dtype: float64))\n",
      "(Timestamp('2010-12-10 00:00:00', freq='D'), Series([], dtype: float64))\n",
      "(Timestamp('2010-12-11 00:00:00', freq='D'), Series([], dtype: float64))\n",
      "(Timestamp('2010-12-12 00:00:00', freq='D'), Series([], dtype: float64))\n",
      "(Timestamp('2010-12-13 00:00:00', freq='D'), Series([], dtype: float64))\n",
      "(Timestamp('2010-12-14 00:00:00', freq='D'), Series([], dtype: float64))\n",
      "(Timestamp('2010-12-15 00:00:00', freq='D'), Series([], dtype: float64))\n",
      "(Timestamp('2010-12-16 00:00:00', freq='D'), Series([], dtype: float64))\n",
      "(Timestamp('2010-12-17 00:00:00', freq='D'), Series([], dtype: float64))\n",
      "(Timestamp('2010-12-18 00:00:00', freq='D'), Series([], dtype: float64))\n",
      "(Timestamp('2010-12-19 00:00:00', freq='D'), Series([], dtype: float64))\n",
      "(Timestamp('2010-12-20 00:00:00', freq='D'), Series([], dtype: float64))\n",
      "(Timestamp('2010-12-21 00:00:00', freq='D'), Series([], dtype: float64))\n",
      "(Timestamp('2010-12-22 00:00:00', freq='D'), Series([], dtype: float64))\n",
      "(Timestamp('2010-12-23 00:00:00', freq='D'), Series([], dtype: float64))\n",
      "(Timestamp('2010-12-24 00:00:00', freq='D'), Series([], dtype: float64))\n",
      "(Timestamp('2010-12-25 00:00:00', freq='D'), Series([], dtype: float64))\n",
      "(Timestamp('2010-12-26 00:00:00', freq='D'), Series([], dtype: float64))\n",
      "(Timestamp('2010-12-27 00:00:00', freq='D'), Series([], dtype: float64))\n",
      "(Timestamp('2010-12-28 00:00:00', freq='D'), Series([], dtype: float64))\n",
      "(Timestamp('2010-12-29 00:00:00', freq='D'), Series([], dtype: float64))\n",
      "(Timestamp('2010-12-30 00:00:00', freq='D'), Series([], dtype: float64))\n",
      "(Timestamp('2010-12-31 00:00:00', freq='D'), Series([], dtype: float64))\n",
      "(Timestamp('2011-01-01 00:00:00', freq='D'), Series([], dtype: float64))\n",
      "(Timestamp('2011-01-02 00:00:00', freq='D'), Series([], dtype: float64))\n",
      "(Timestamp('2011-01-03 00:00:00', freq='D'), Series([], dtype: float64))\n",
      "(Timestamp('2011-01-04 00:00:00', freq='D'), Series([], dtype: float64))\n",
      "(Timestamp('2011-01-05 00:00:00', freq='D'), 2011-01-05   -0.298681\n",
      "dtype: float64)\n",
      "(Timestamp('2011-01-06 00:00:00', freq='D'), Series([], dtype: float64))\n",
      "(Timestamp('2011-01-07 00:00:00', freq='D'), 2011-01-07   -0.742748\n",
      "dtype: float64)\n",
      "(Timestamp('2011-01-08 00:00:00', freq='D'), 2011-01-08    0.415004\n",
      "dtype: float64)\n",
      "(Timestamp('2011-01-09 00:00:00', freq='D'), 2011-01-09   -0.634284\n",
      "dtype: float64)\n"
     ]
    }
   ],
   "source": [
    "for date in resampler:\n",
    "    print(date)"
   ]
  },
  {
   "cell_type": "code",
   "execution_count": 500,
   "id": "c9fc491c",
   "metadata": {},
   "outputs": [],
   "source": [
    "index = pd.date_range('2012-04-01', '2012-06-01')"
   ]
  },
  {
   "cell_type": "code",
   "execution_count": 501,
   "id": "b0bd7113",
   "metadata": {},
   "outputs": [
    {
     "data": {
      "text/plain": [
       "DatetimeIndex(['2012-04-01', '2012-04-02', '2012-04-03', '2012-04-04',\n",
       "               '2012-04-05', '2012-04-06', '2012-04-07', '2012-04-08',\n",
       "               '2012-04-09', '2012-04-10', '2012-04-11', '2012-04-12',\n",
       "               '2012-04-13', '2012-04-14', '2012-04-15', '2012-04-16',\n",
       "               '2012-04-17', '2012-04-18', '2012-04-19', '2012-04-20',\n",
       "               '2012-04-21', '2012-04-22', '2012-04-23', '2012-04-24',\n",
       "               '2012-04-25', '2012-04-26', '2012-04-27', '2012-04-28',\n",
       "               '2012-04-29', '2012-04-30', '2012-05-01', '2012-05-02',\n",
       "               '2012-05-03', '2012-05-04', '2012-05-05', '2012-05-06',\n",
       "               '2012-05-07', '2012-05-08', '2012-05-09', '2012-05-10',\n",
       "               '2012-05-11', '2012-05-12', '2012-05-13', '2012-05-14',\n",
       "               '2012-05-15', '2012-05-16', '2012-05-17', '2012-05-18',\n",
       "               '2012-05-19', '2012-05-20', '2012-05-21', '2012-05-22',\n",
       "               '2012-05-23', '2012-05-24', '2012-05-25', '2012-05-26',\n",
       "               '2012-05-27', '2012-05-28', '2012-05-29', '2012-05-30',\n",
       "               '2012-05-31', '2012-06-01'],\n",
       "              dtype='datetime64[ns]', freq='D')"
      ]
     },
     "execution_count": 501,
     "metadata": {},
     "output_type": "execute_result"
    }
   ],
   "source": [
    "index"
   ]
  },
  {
   "cell_type": "code",
   "execution_count": 502,
   "id": "a4a73c6a",
   "metadata": {},
   "outputs": [
    {
     "data": {
      "text/plain": [
       "DatetimeIndex(['2012-03-13', '2012-03-14', '2012-03-15', '2012-03-16',\n",
       "               '2012-03-17', '2012-03-18', '2012-03-19', '2012-03-20',\n",
       "               '2012-03-21', '2012-03-22', '2012-03-23', '2012-03-24',\n",
       "               '2012-03-25', '2012-03-26', '2012-03-27', '2012-03-28',\n",
       "               '2012-03-29', '2012-03-30', '2012-03-31', '2012-04-01'],\n",
       "              dtype='datetime64[ns]', freq='D')"
      ]
     },
     "execution_count": 502,
     "metadata": {},
     "output_type": "execute_result"
    }
   ],
   "source": [
    "pd.date_range(end='2012-04-01', periods=20) # 还可以向前生成"
   ]
  },
  {
   "cell_type": "code",
   "execution_count": 503,
   "id": "34840b4d",
   "metadata": {},
   "outputs": [
    {
     "data": {
      "text/plain": [
       "DatetimeIndex(['2000-01-01 00:00:00', '2000-01-01 00:00:01',\n",
       "               '2000-01-01 00:00:02', '2000-01-01 00:00:03',\n",
       "               '2000-01-01 00:00:04', '2000-01-01 00:00:05',\n",
       "               '2000-01-01 00:00:06', '2000-01-01 00:00:07',\n",
       "               '2000-01-01 00:00:08', '2000-01-01 00:00:09',\n",
       "               '2000-01-01 00:00:10', '2000-01-01 00:00:11',\n",
       "               '2000-01-01 00:00:12', '2000-01-01 00:00:13',\n",
       "               '2000-01-01 00:00:14', '2000-01-01 00:00:15',\n",
       "               '2000-01-01 00:00:16', '2000-01-01 00:00:17',\n",
       "               '2000-01-01 00:00:18', '2000-01-01 00:00:19',\n",
       "               '2000-01-01 00:00:20', '2000-01-01 00:00:21',\n",
       "               '2000-01-01 00:00:22', '2000-01-01 00:00:23',\n",
       "               '2000-01-01 00:00:24', '2000-01-01 00:00:25',\n",
       "               '2000-01-01 00:00:26', '2000-01-01 00:00:27',\n",
       "               '2000-01-01 00:00:28', '2000-01-01 00:00:29',\n",
       "               '2000-01-01 00:00:30', '2000-01-01 00:00:31',\n",
       "               '2000-01-01 00:00:32', '2000-01-01 00:00:33',\n",
       "               '2000-01-01 00:00:34', '2000-01-01 00:00:35',\n",
       "               '2000-01-01 00:00:36', '2000-01-01 00:00:37',\n",
       "               '2000-01-01 00:00:38', '2000-01-01 00:00:39',\n",
       "               '2000-01-01 00:00:40', '2000-01-01 00:00:41',\n",
       "               '2000-01-01 00:00:42', '2000-01-01 00:00:43',\n",
       "               '2000-01-01 00:00:44', '2000-01-01 00:00:45',\n",
       "               '2000-01-01 00:00:46', '2000-01-01 00:00:47',\n",
       "               '2000-01-01 00:00:48', '2000-01-01 00:00:49',\n",
       "               '2000-01-01 00:00:50', '2000-01-01 00:00:51',\n",
       "               '2000-01-01 00:00:52', '2000-01-01 00:00:53',\n",
       "               '2000-01-01 00:00:54', '2000-01-01 00:00:55',\n",
       "               '2000-01-01 00:00:56', '2000-01-01 00:00:57',\n",
       "               '2000-01-01 00:00:58', '2000-01-01 00:00:59',\n",
       "               '2000-01-01 00:01:00', '2000-01-01 00:01:01',\n",
       "               '2000-01-01 00:01:02', '2000-01-01 00:01:03',\n",
       "               '2000-01-01 00:01:04', '2000-01-01 00:01:05',\n",
       "               '2000-01-01 00:01:06', '2000-01-01 00:01:07',\n",
       "               '2000-01-01 00:01:08', '2000-01-01 00:01:09',\n",
       "               '2000-01-01 00:01:10', '2000-01-01 00:01:11',\n",
       "               '2000-01-01 00:01:12', '2000-01-01 00:01:13',\n",
       "               '2000-01-01 00:01:14', '2000-01-01 00:01:15',\n",
       "               '2000-01-01 00:01:16', '2000-01-01 00:01:17',\n",
       "               '2000-01-01 00:01:18', '2000-01-01 00:01:19',\n",
       "               '2000-01-01 00:01:20', '2000-01-01 00:01:21',\n",
       "               '2000-01-01 00:01:22', '2000-01-01 00:01:23',\n",
       "               '2000-01-01 00:01:24', '2000-01-01 00:01:25',\n",
       "               '2000-01-01 00:01:26', '2000-01-01 00:01:27',\n",
       "               '2000-01-01 00:01:28', '2000-01-01 00:01:29',\n",
       "               '2000-01-01 00:01:30', '2000-01-01 00:01:31',\n",
       "               '2000-01-01 00:01:32', '2000-01-01 00:01:33',\n",
       "               '2000-01-01 00:01:34', '2000-01-01 00:01:35',\n",
       "               '2000-01-01 00:01:36', '2000-01-01 00:01:37',\n",
       "               '2000-01-01 00:01:38', '2000-01-01 00:01:39'],\n",
       "              dtype='datetime64[ns]', freq='S')"
      ]
     },
     "execution_count": 503,
     "metadata": {},
     "output_type": "execute_result"
    }
   ],
   "source": [
    "pd.date_range('2000-01-01', freq='S', periods=100)"
   ]
  },
  {
   "cell_type": "code",
   "execution_count": 504,
   "id": "ec69703b",
   "metadata": {},
   "outputs": [
    {
     "data": {
      "text/plain": [
       "DatetimeIndex(['2012-05-02', '2012-05-03', '2012-05-04', '2012-05-07',\n",
       "               '2012-05-08', '2012-05-09', '2012-05-10', '2012-05-11',\n",
       "               '2012-05-14', '2012-05-15'],\n",
       "              dtype='datetime64[ns]', freq='B')"
      ]
     },
     "execution_count": 504,
     "metadata": {},
     "output_type": "execute_result"
    }
   ],
   "source": [
    "pd.date_range('2012-05-02 12:56:12', periods=10, freq='B', normalize=True) # 是否对时间进行标准化处理"
   ]
  },
  {
   "cell_type": "code",
   "execution_count": 505,
   "id": "a1c5504a",
   "metadata": {},
   "outputs": [],
   "source": [
    "from pandas.tseries.offsets import Hour, Minute"
   ]
  },
  {
   "cell_type": "code",
   "execution_count": 506,
   "id": "a13128e6",
   "metadata": {},
   "outputs": [],
   "source": [
    "hour = Hour()"
   ]
  },
  {
   "cell_type": "code",
   "execution_count": 507,
   "id": "c2b23721",
   "metadata": {},
   "outputs": [
    {
     "data": {
      "text/plain": [
       "<Hour>"
      ]
     },
     "execution_count": 507,
     "metadata": {},
     "output_type": "execute_result"
    }
   ],
   "source": [
    "hour"
   ]
  },
  {
   "cell_type": "code",
   "execution_count": 508,
   "id": "c01966ed",
   "metadata": {},
   "outputs": [],
   "source": [
    "four_hours = Hour(4)"
   ]
  },
  {
   "cell_type": "code",
   "execution_count": 509,
   "id": "8fb8dfd9",
   "metadata": {},
   "outputs": [
    {
     "data": {
      "text/plain": [
       "<4 * Hours>"
      ]
     },
     "execution_count": 509,
     "metadata": {},
     "output_type": "execute_result"
    }
   ],
   "source": [
    "four_hours"
   ]
  },
  {
   "cell_type": "code",
   "execution_count": 510,
   "id": "c7e32df0",
   "metadata": {},
   "outputs": [
    {
     "data": {
      "text/plain": [
       "DatetimeIndex(['2000-01-01 00:00:00', '2000-01-01 04:00:00',\n",
       "               '2000-01-01 08:00:00', '2000-01-01 12:00:00',\n",
       "               '2000-01-01 16:00:00', '2000-01-01 20:00:00',\n",
       "               '2000-01-02 00:00:00', '2000-01-02 04:00:00',\n",
       "               '2000-01-02 08:00:00', '2000-01-02 12:00:00',\n",
       "               '2000-01-02 16:00:00', '2000-01-02 20:00:00',\n",
       "               '2000-01-03 00:00:00'],\n",
       "              dtype='datetime64[ns]', freq='4H')"
      ]
     },
     "execution_count": 510,
     "metadata": {},
     "output_type": "execute_result"
    }
   ],
   "source": [
    "pd.date_range('2000-01-01', '2000-01-03', freq='4h')"
   ]
  },
  {
   "cell_type": "code",
   "execution_count": 511,
   "id": "38800cde",
   "metadata": {},
   "outputs": [
    {
     "data": {
      "text/plain": [
       "<150 * Minutes>"
      ]
     },
     "execution_count": 511,
     "metadata": {},
     "output_type": "execute_result"
    }
   ],
   "source": [
    "Hour(2) + Minute(30)"
   ]
  },
  {
   "cell_type": "code",
   "execution_count": 512,
   "id": "1f499076",
   "metadata": {},
   "outputs": [
    {
     "data": {
      "text/plain": [
       "DatetimeIndex(['2000-01-01 00:00:00', '2000-01-01 02:15:00',\n",
       "               '2000-01-01 04:30:00', '2000-01-01 06:45:00',\n",
       "               '2000-01-01 09:00:00', '2000-01-01 11:15:00',\n",
       "               '2000-01-01 13:30:00', '2000-01-01 15:45:00',\n",
       "               '2000-01-01 18:00:00', '2000-01-01 20:15:00',\n",
       "               '2000-01-01 22:30:00', '2000-01-02 00:45:00',\n",
       "               '2000-01-02 03:00:00', '2000-01-02 05:15:00',\n",
       "               '2000-01-02 07:30:00', '2000-01-02 09:45:00',\n",
       "               '2000-01-02 12:00:00', '2000-01-02 14:15:00',\n",
       "               '2000-01-02 16:30:00', '2000-01-02 18:45:00'],\n",
       "              dtype='datetime64[ns]', freq='135T')"
      ]
     },
     "execution_count": 512,
     "metadata": {},
     "output_type": "execute_result"
    }
   ],
   "source": [
    "pd.date_range('2000-01-01', periods=20, freq='2h15min') # 使用基础类型自定义时间间隔"
   ]
  },
  {
   "cell_type": "code",
   "execution_count": 513,
   "id": "8ad74e52",
   "metadata": {},
   "outputs": [],
   "source": [
    "rng = pd.date_range('2000-01-01', periods=20, freq='WOM-2FRI') # 使用基础类型自定义时间间隔"
   ]
  },
  {
   "cell_type": "code",
   "execution_count": 514,
   "id": "335d6107",
   "metadata": {},
   "outputs": [
    {
     "data": {
      "text/plain": [
       "[Timestamp('2000-01-14 00:00:00', freq='WOM-2FRI'),\n",
       " Timestamp('2000-02-11 00:00:00', freq='WOM-2FRI'),\n",
       " Timestamp('2000-03-10 00:00:00', freq='WOM-2FRI'),\n",
       " Timestamp('2000-04-14 00:00:00', freq='WOM-2FRI'),\n",
       " Timestamp('2000-05-12 00:00:00', freq='WOM-2FRI'),\n",
       " Timestamp('2000-06-09 00:00:00', freq='WOM-2FRI'),\n",
       " Timestamp('2000-07-14 00:00:00', freq='WOM-2FRI'),\n",
       " Timestamp('2000-08-11 00:00:00', freq='WOM-2FRI'),\n",
       " Timestamp('2000-09-08 00:00:00', freq='WOM-2FRI'),\n",
       " Timestamp('2000-10-13 00:00:00', freq='WOM-2FRI'),\n",
       " Timestamp('2000-11-10 00:00:00', freq='WOM-2FRI'),\n",
       " Timestamp('2000-12-08 00:00:00', freq='WOM-2FRI'),\n",
       " Timestamp('2001-01-12 00:00:00', freq='WOM-2FRI'),\n",
       " Timestamp('2001-02-09 00:00:00', freq='WOM-2FRI'),\n",
       " Timestamp('2001-03-09 00:00:00', freq='WOM-2FRI'),\n",
       " Timestamp('2001-04-13 00:00:00', freq='WOM-2FRI'),\n",
       " Timestamp('2001-05-11 00:00:00', freq='WOM-2FRI'),\n",
       " Timestamp('2001-06-08 00:00:00', freq='WOM-2FRI'),\n",
       " Timestamp('2001-07-13 00:00:00', freq='WOM-2FRI'),\n",
       " Timestamp('2001-08-10 00:00:00', freq='WOM-2FRI')]"
      ]
     },
     "execution_count": 514,
     "metadata": {},
     "output_type": "execute_result"
    }
   ],
   "source": [
    "list(rng)"
   ]
  },
  {
   "cell_type": "code",
   "execution_count": 515,
   "id": "068e745f",
   "metadata": {},
   "outputs": [],
   "source": [
    "ts = pd.Series(np.random.randn(4),\n",
    "              index=pd.date_range('1/1/2000', periods=4, freq='M'))"
   ]
  },
  {
   "cell_type": "code",
   "execution_count": 516,
   "id": "25c40c95",
   "metadata": {},
   "outputs": [
    {
     "data": {
      "text/plain": [
       "2000-01-31   -0.808680\n",
       "2000-02-29    4.088670\n",
       "2000-03-31   -0.585777\n",
       "2000-04-30    1.378128\n",
       "Freq: M, dtype: float64"
      ]
     },
     "execution_count": 516,
     "metadata": {},
     "output_type": "execute_result"
    }
   ],
   "source": [
    "ts"
   ]
  },
  {
   "cell_type": "code",
   "execution_count": 517,
   "id": "dd178edb",
   "metadata": {},
   "outputs": [
    {
     "data": {
      "text/plain": [
       "2000-01-31        NaN\n",
       "2000-02-29        NaN\n",
       "2000-03-31   -0.80868\n",
       "2000-04-30    4.08867\n",
       "Freq: M, dtype: float64"
      ]
     },
     "execution_count": 517,
     "metadata": {},
     "output_type": "execute_result"
    }
   ],
   "source": [
    "ts.shift(2)"
   ]
  },
  {
   "cell_type": "code",
   "execution_count": 518,
   "id": "0ac9dce8",
   "metadata": {},
   "outputs": [
    {
     "data": {
      "text/plain": [
       "2000-02-20   -0.808680\n",
       "2000-03-20    4.088670\n",
       "2000-04-20   -0.585777\n",
       "2000-05-20    1.378128\n",
       "dtype: float64"
      ]
     },
     "execution_count": 518,
     "metadata": {},
     "output_type": "execute_result"
    }
   ],
   "source": [
    "ts.shift(freq=timedelta(20))"
   ]
  },
  {
   "cell_type": "code",
   "execution_count": 519,
   "id": "236c1d0f",
   "metadata": {},
   "outputs": [
    {
     "data": {
      "text/plain": [
       "2000-01-31    10.00000\n",
       "2000-02-29    10.00000\n",
       "2000-03-31    -0.80868\n",
       "2000-04-30     4.08867\n",
       "Freq: M, dtype: float64"
      ]
     },
     "execution_count": 519,
     "metadata": {},
     "output_type": "execute_result"
    }
   ],
   "source": [
    "ts.shift(2, fill_value=10) # 如果产生了na则用value进行填充"
   ]
  },
  {
   "cell_type": "code",
   "execution_count": 520,
   "id": "e7ad159a",
   "metadata": {},
   "outputs": [
    {
     "data": {
      "text/plain": [
       "2000-01-31         NaN\n",
       "2000-02-29   -6.055978\n",
       "2000-03-31   -1.143268\n",
       "2000-04-30   -3.352650\n",
       "Freq: M, dtype: float64"
      ]
     },
     "execution_count": 520,
     "metadata": {},
     "output_type": "execute_result"
    }
   ],
   "source": [
    "ts / ts.shift(1) - 1"
   ]
  },
  {
   "cell_type": "code",
   "execution_count": 521,
   "id": "4d55f65e",
   "metadata": {},
   "outputs": [
    {
     "data": {
      "text/plain": [
       "2000-04-30   -0.808680\n",
       "2000-05-31    4.088670\n",
       "2000-06-30   -0.585777\n",
       "2000-07-31    1.378128\n",
       "Freq: M, dtype: float64"
      ]
     },
     "execution_count": 521,
     "metadata": {},
     "output_type": "execute_result"
    }
   ],
   "source": [
    "ts.shift(3, freq='M')"
   ]
  },
  {
   "cell_type": "code",
   "execution_count": 522,
   "id": "00acd019",
   "metadata": {},
   "outputs": [
    {
     "data": {
      "text/plain": [
       "2000-01-31 04:30:00   -0.808680\n",
       "2000-02-29 04:30:00    4.088670\n",
       "2000-03-31 04:30:00   -0.585777\n",
       "2000-04-30 04:30:00    1.378128\n",
       "dtype: float64"
      ]
     },
     "execution_count": 522,
     "metadata": {},
     "output_type": "execute_result"
    }
   ],
   "source": [
    "ts.shift(3, freq='90T')"
   ]
  },
  {
   "cell_type": "code",
   "execution_count": 523,
   "id": "b035e0b1",
   "metadata": {},
   "outputs": [],
   "source": [
    "ts.shift?"
   ]
  },
  {
   "cell_type": "code",
   "execution_count": 524,
   "id": "8203cb76",
   "metadata": {},
   "outputs": [],
   "source": [
    "from pandas.tseries.offsets import Day, MonthEnd, Week"
   ]
  },
  {
   "cell_type": "code",
   "execution_count": 525,
   "id": "683037ff",
   "metadata": {},
   "outputs": [],
   "source": [
    "now = datetime(2011, 11, 17)"
   ]
  },
  {
   "cell_type": "code",
   "execution_count": 526,
   "id": "0c552d1d",
   "metadata": {},
   "outputs": [
    {
     "data": {
      "text/plain": [
       "Timestamp('2011-11-20 00:00:00')"
      ]
     },
     "execution_count": 526,
     "metadata": {},
     "output_type": "execute_result"
    }
   ],
   "source": [
    "now + 3 * Day()"
   ]
  },
  {
   "cell_type": "code",
   "execution_count": 527,
   "id": "04700a4c",
   "metadata": {},
   "outputs": [
    {
     "data": {
      "text/plain": [
       "Timestamp('2011-11-20 00:00:00')"
      ]
     },
     "execution_count": 527,
     "metadata": {},
     "output_type": "execute_result"
    }
   ],
   "source": [
    "now + Day(3)"
   ]
  },
  {
   "cell_type": "code",
   "execution_count": 528,
   "id": "a654f48e",
   "metadata": {},
   "outputs": [
    {
     "data": {
      "text/plain": [
       "Timestamp('2011-11-30 00:00:00')"
      ]
     },
     "execution_count": 528,
     "metadata": {},
     "output_type": "execute_result"
    }
   ],
   "source": [
    "now + Week(2, weekday=2)"
   ]
  },
  {
   "cell_type": "code",
   "execution_count": 529,
   "id": "f24b1700",
   "metadata": {},
   "outputs": [],
   "source": [
    "Week?"
   ]
  },
  {
   "cell_type": "code",
   "execution_count": 530,
   "id": "f962f90b",
   "metadata": {},
   "outputs": [],
   "source": [
    "offset = MonthEnd()"
   ]
  },
  {
   "cell_type": "code",
   "execution_count": 531,
   "id": "f0d9b321",
   "metadata": {},
   "outputs": [
    {
     "data": {
      "text/plain": [
       "<MonthEnd>"
      ]
     },
     "execution_count": 531,
     "metadata": {},
     "output_type": "execute_result"
    }
   ],
   "source": [
    "offset"
   ]
  },
  {
   "cell_type": "code",
   "execution_count": 532,
   "id": "4f5ff2c7",
   "metadata": {},
   "outputs": [
    {
     "data": {
      "text/plain": [
       "Timestamp('2011-11-30 00:00:00')"
      ]
     },
     "execution_count": 532,
     "metadata": {},
     "output_type": "execute_result"
    }
   ],
   "source": [
    "offset.rollforward(now)"
   ]
  },
  {
   "cell_type": "code",
   "execution_count": 533,
   "id": "d90015c8",
   "metadata": {},
   "outputs": [
    {
     "data": {
      "text/plain": [
       "Timestamp('2011-10-31 00:00:00')"
      ]
     },
     "execution_count": 533,
     "metadata": {},
     "output_type": "execute_result"
    }
   ],
   "source": [
    "offset.rollback(now)"
   ]
  },
  {
   "cell_type": "code",
   "execution_count": 534,
   "id": "edb22033",
   "metadata": {},
   "outputs": [],
   "source": [
    "ts = pd.Series(np.random.randn(20),\n",
    "              index=pd.date_range('1/15/2000', periods=20, freq='4d'))"
   ]
  },
  {
   "cell_type": "code",
   "execution_count": 535,
   "id": "f65f1f6c",
   "metadata": {},
   "outputs": [
    {
     "data": {
      "text/plain": [
       "2000-01-15   -0.989638\n",
       "2000-01-19   -1.576289\n",
       "2000-01-23    0.943236\n",
       "2000-01-27   -1.869848\n",
       "2000-01-31    0.229202\n",
       "2000-02-04    0.910688\n",
       "2000-02-08   -0.342363\n",
       "2000-02-12    0.027314\n",
       "2000-02-16    1.351024\n",
       "2000-02-20    0.205908\n",
       "2000-02-24   -0.191507\n",
       "2000-02-28    1.065240\n",
       "2000-03-03   -0.766763\n",
       "2000-03-07    0.417287\n",
       "2000-03-11   -1.094728\n",
       "2000-03-15   -0.103215\n",
       "2000-03-19    0.080008\n",
       "2000-03-23    0.119817\n",
       "2000-03-27   -1.607080\n",
       "2000-03-31    0.792189\n",
       "Freq: 4D, dtype: float64"
      ]
     },
     "execution_count": 535,
     "metadata": {},
     "output_type": "execute_result"
    }
   ],
   "source": [
    "ts"
   ]
  },
  {
   "cell_type": "code",
   "execution_count": 536,
   "id": "81f52e25",
   "metadata": {},
   "outputs": [
    {
     "data": {
      "text/plain": [
       "2000-01-31    5\n",
       "2000-02-29    7\n",
       "2000-03-31    8\n",
       "dtype: int64"
      ]
     },
     "execution_count": 536,
     "metadata": {},
     "output_type": "execute_result"
    }
   ],
   "source": [
    "ts.groupby(offset.rollforward).size() # 使用函数进行聚合分组"
   ]
  },
  {
   "cell_type": "code",
   "execution_count": 537,
   "id": "a1dba40d",
   "metadata": {},
   "outputs": [
    {
     "data": {
      "text/plain": [
       "1999-12-31   -0.873135\n",
       "2000-01-31    0.406938\n",
       "2000-02-29   -0.422096\n",
       "2000-03-31    0.792189\n",
       "dtype: float64"
      ]
     },
     "execution_count": 537,
     "metadata": {},
     "output_type": "execute_result"
    }
   ],
   "source": [
    "ts.groupby(offset.rollback).mean()"
   ]
  },
  {
   "cell_type": "code",
   "execution_count": 538,
   "id": "04e03e2d",
   "metadata": {},
   "outputs": [
    {
     "data": {
      "text/plain": [
       "2000-01-31   -0.652668\n",
       "2000-02-29    0.432329\n",
       "2000-03-31   -0.270311\n",
       "Freq: M, dtype: float64"
      ]
     },
     "execution_count": 538,
     "metadata": {},
     "output_type": "execute_result"
    }
   ],
   "source": [
    "ts.resample('M').mean() # 使用偏移量别名进行重采样"
   ]
  },
  {
   "cell_type": "code",
   "execution_count": 539,
   "id": "02a0d8fd",
   "metadata": {},
   "outputs": [],
   "source": [
    "time_index = pd.date_range('2001-1-2', freq='W-WED', periods=10, name='timestamp')"
   ]
  },
  {
   "cell_type": "code",
   "execution_count": 540,
   "id": "63690076",
   "metadata": {},
   "outputs": [],
   "source": [
    "fuck = pd.Series(np.random.randn(10),\n",
    "                index=time_index)"
   ]
  },
  {
   "cell_type": "code",
   "execution_count": 541,
   "id": "0e41ca15",
   "metadata": {},
   "outputs": [
    {
     "data": {
      "text/plain": [
       "timestamp\n",
       "2001-01-03    1.089857\n",
       "2001-01-10   -0.606623\n",
       "2001-01-17   -1.201038\n",
       "2001-01-24   -2.064195\n",
       "2001-01-31   -0.884930\n",
       "2001-02-07    1.027207\n",
       "2001-02-14    0.485353\n",
       "2001-02-21   -0.326898\n",
       "2001-02-28   -0.326974\n",
       "2001-03-07   -0.002921\n",
       "Freq: W-WED, dtype: float64"
      ]
     },
     "execution_count": 541,
     "metadata": {},
     "output_type": "execute_result"
    }
   ],
   "source": [
    "fuck"
   ]
  },
  {
   "cell_type": "code",
   "execution_count": 542,
   "id": "39e2e765",
   "metadata": {},
   "outputs": [],
   "source": [
    "import pytz # pd中内置的处理时间的库"
   ]
  },
  {
   "cell_type": "code",
   "execution_count": 543,
   "id": "acdcedfb",
   "metadata": {},
   "outputs": [
    {
     "data": {
      "text/plain": [
       "['US/Eastern', 'US/Hawaii', 'US/Mountain', 'US/Pacific', 'UTC']"
      ]
     },
     "execution_count": 543,
     "metadata": {},
     "output_type": "execute_result"
    }
   ],
   "source": [
    "pytz.common_timezones[-5:]"
   ]
  },
  {
   "cell_type": "code",
   "execution_count": 544,
   "id": "e68e9714",
   "metadata": {},
   "outputs": [],
   "source": [
    "tz = pytz.timezone('America/New_York')"
   ]
  },
  {
   "cell_type": "code",
   "execution_count": 545,
   "id": "df5efd1c",
   "metadata": {},
   "outputs": [
    {
     "data": {
      "text/plain": [
       "<DstTzInfo 'America/New_York' LMT-1 day, 19:04:00 STD>"
      ]
     },
     "execution_count": 545,
     "metadata": {},
     "output_type": "execute_result"
    }
   ],
   "source": [
    "tz"
   ]
  },
  {
   "cell_type": "code",
   "execution_count": 546,
   "id": "4e27b9c2",
   "metadata": {},
   "outputs": [],
   "source": [
    "rng = pd.date_range('3/9/2012 9:30', periods=6, freq='D')"
   ]
  },
  {
   "cell_type": "code",
   "execution_count": 547,
   "id": "0effc16c",
   "metadata": {},
   "outputs": [
    {
     "data": {
      "text/plain": [
       "DatetimeIndex(['2012-03-09 09:30:00', '2012-03-10 09:30:00',\n",
       "               '2012-03-11 09:30:00', '2012-03-12 09:30:00',\n",
       "               '2012-03-13 09:30:00', '2012-03-14 09:30:00'],\n",
       "              dtype='datetime64[ns]', freq='D')"
      ]
     },
     "execution_count": 547,
     "metadata": {},
     "output_type": "execute_result"
    }
   ],
   "source": [
    "rng"
   ]
  },
  {
   "cell_type": "code",
   "execution_count": 548,
   "id": "b02b6216",
   "metadata": {},
   "outputs": [],
   "source": [
    "ts = pd.Series(np.random.randn(len(rng)), index=rng)"
   ]
  },
  {
   "cell_type": "code",
   "execution_count": 549,
   "id": "4fa59e12",
   "metadata": {},
   "outputs": [
    {
     "data": {
      "text/plain": [
       "2012-03-09 09:30:00   -0.460510\n",
       "2012-03-10 09:30:00   -0.693685\n",
       "2012-03-11 09:30:00    0.269148\n",
       "2012-03-12 09:30:00    1.526435\n",
       "2012-03-13 09:30:00   -0.206243\n",
       "2012-03-14 09:30:00    0.540750\n",
       "Freq: D, dtype: float64"
      ]
     },
     "execution_count": 549,
     "metadata": {},
     "output_type": "execute_result"
    }
   ],
   "source": [
    "ts"
   ]
  },
  {
   "cell_type": "code",
   "execution_count": 550,
   "id": "f31800cd",
   "metadata": {},
   "outputs": [
    {
     "name": "stdout",
     "output_type": "stream",
     "text": [
      "None\n"
     ]
    }
   ],
   "source": [
    "print(ts.index.tz)"
   ]
  },
  {
   "cell_type": "code",
   "execution_count": 551,
   "id": "1f542931",
   "metadata": {},
   "outputs": [
    {
     "data": {
      "text/plain": [
       "DatetimeIndex(['2011-03-09 00:00:00+00:00', '2011-03-10 00:00:00+00:00',\n",
       "               '2011-03-11 00:00:00+00:00', '2011-03-12 00:00:00+00:00',\n",
       "               '2011-03-13 00:00:00+00:00', '2011-03-14 00:00:00+00:00',\n",
       "               '2011-03-15 00:00:00+00:00', '2011-03-16 00:00:00+00:00',\n",
       "               '2011-03-17 00:00:00+00:00', '2011-03-18 00:00:00+00:00'],\n",
       "              dtype='datetime64[ns, UTC]', freq='D')"
      ]
     },
     "execution_count": 551,
     "metadata": {},
     "output_type": "execute_result"
    }
   ],
   "source": [
    "pd.date_range('3/9/2011', periods=10, freq='D', tz='UTC') # 特定的时间"
   ]
  },
  {
   "cell_type": "code",
   "execution_count": 552,
   "id": "e9939663",
   "metadata": {},
   "outputs": [
    {
     "data": {
      "text/plain": [
       "2012-03-09 09:30:00   -0.460510\n",
       "2012-03-10 09:30:00   -0.693685\n",
       "2012-03-11 09:30:00    0.269148\n",
       "2012-03-12 09:30:00    1.526435\n",
       "2012-03-13 09:30:00   -0.206243\n",
       "2012-03-14 09:30:00    0.540750\n",
       "Freq: D, dtype: float64"
      ]
     },
     "execution_count": 552,
     "metadata": {},
     "output_type": "execute_result"
    }
   ],
   "source": [
    "ts"
   ]
  },
  {
   "cell_type": "code",
   "execution_count": 553,
   "id": "4d803ac8",
   "metadata": {},
   "outputs": [],
   "source": [
    "ts_utc = ts.tz_localize('UTC') # 转换为标准时间UTC"
   ]
  },
  {
   "cell_type": "code",
   "execution_count": 554,
   "id": "a6aabd95",
   "metadata": {},
   "outputs": [
    {
     "data": {
      "text/plain": [
       "2012-03-09 09:30:00+00:00   -0.460510\n",
       "2012-03-10 09:30:00+00:00   -0.693685\n",
       "2012-03-11 09:30:00+00:00    0.269148\n",
       "2012-03-12 09:30:00+00:00    1.526435\n",
       "2012-03-13 09:30:00+00:00   -0.206243\n",
       "2012-03-14 09:30:00+00:00    0.540750\n",
       "Freq: D, dtype: float64"
      ]
     },
     "execution_count": 554,
     "metadata": {},
     "output_type": "execute_result"
    }
   ],
   "source": [
    "ts_utc"
   ]
  },
  {
   "cell_type": "code",
   "execution_count": 555,
   "id": "7b28c786",
   "metadata": {},
   "outputs": [
    {
     "data": {
      "text/plain": [
       "DatetimeIndex(['2012-03-09 09:30:00+00:00', '2012-03-10 09:30:00+00:00',\n",
       "               '2012-03-11 09:30:00+00:00', '2012-03-12 09:30:00+00:00',\n",
       "               '2012-03-13 09:30:00+00:00', '2012-03-14 09:30:00+00:00'],\n",
       "              dtype='datetime64[ns, UTC]', freq='D')"
      ]
     },
     "execution_count": 555,
     "metadata": {},
     "output_type": "execute_result"
    }
   ],
   "source": [
    "ts_utc.index"
   ]
  },
  {
   "cell_type": "code",
   "execution_count": 556,
   "id": "55df440d",
   "metadata": {},
   "outputs": [
    {
     "data": {
      "text/plain": [
       "<UTC>"
      ]
     },
     "execution_count": 556,
     "metadata": {},
     "output_type": "execute_result"
    }
   ],
   "source": [
    "ts_utc.index.tz"
   ]
  },
  {
   "cell_type": "code",
   "execution_count": 557,
   "id": "53a7cc6e",
   "metadata": {},
   "outputs": [],
   "source": [
    "ts_eastern = ts.tz_localize('America/Chicago')"
   ]
  },
  {
   "cell_type": "code",
   "execution_count": 558,
   "id": "1a8cc2d9",
   "metadata": {},
   "outputs": [
    {
     "data": {
      "text/plain": [
       "2012-03-09 09:30:00-06:00   -0.460510\n",
       "2012-03-10 09:30:00-06:00   -0.693685\n",
       "2012-03-11 09:30:00-05:00    0.269148\n",
       "2012-03-12 09:30:00-05:00    1.526435\n",
       "2012-03-13 09:30:00-05:00   -0.206243\n",
       "2012-03-14 09:30:00-05:00    0.540750\n",
       "dtype: float64"
      ]
     },
     "execution_count": 558,
     "metadata": {},
     "output_type": "execute_result"
    }
   ],
   "source": [
    "ts_eastern"
   ]
  },
  {
   "cell_type": "code",
   "execution_count": 559,
   "id": "6be7ef92",
   "metadata": {},
   "outputs": [
    {
     "data": {
      "text/plain": [
       "2012-03-09 16:30:00+01:00   -0.460510\n",
       "2012-03-10 16:30:00+01:00   -0.693685\n",
       "2012-03-11 15:30:00+01:00    0.269148\n",
       "2012-03-12 15:30:00+01:00    1.526435\n",
       "2012-03-13 15:30:00+01:00   -0.206243\n",
       "2012-03-14 15:30:00+01:00    0.540750\n",
       "dtype: float64"
      ]
     },
     "execution_count": 559,
     "metadata": {},
     "output_type": "execute_result"
    }
   ],
   "source": [
    "ts_eastern.tz_convert('Europe/Berlin')"
   ]
  },
  {
   "cell_type": "code",
   "execution_count": 560,
   "id": "5dee5304",
   "metadata": {},
   "outputs": [
    {
     "data": {
      "text/plain": [
       "DatetimeIndex(['2012-03-09 09:30:00', '2012-03-10 09:30:00',\n",
       "               '2012-03-11 09:30:00', '2012-03-12 09:30:00',\n",
       "               '2012-03-13 09:30:00', '2012-03-14 09:30:00'],\n",
       "              dtype='datetime64[ns]', freq='D')"
      ]
     },
     "execution_count": 560,
     "metadata": {},
     "output_type": "execute_result"
    }
   ],
   "source": [
    "ts.index"
   ]
  },
  {
   "cell_type": "code",
   "execution_count": 561,
   "id": "ad69b19b",
   "metadata": {},
   "outputs": [
    {
     "data": {
      "text/plain": [
       "Timestamp('2012-03-09 09:30:00-0500', tz='America/New_York')"
      ]
     },
     "execution_count": 561,
     "metadata": {},
     "output_type": "execute_result"
    }
   ],
   "source": [
    "ts.index.tz_localize('America/New_York')[0]"
   ]
  },
  {
   "cell_type": "code",
   "execution_count": 562,
   "id": "df06032d",
   "metadata": {},
   "outputs": [],
   "source": [
    "stamp = pd.Timestamp('2011-03-12 04:00')"
   ]
  },
  {
   "cell_type": "code",
   "execution_count": 563,
   "id": "c20d7b92",
   "metadata": {},
   "outputs": [],
   "source": [
    "stamp_utc = stamp.tz_localize('utc')"
   ]
  },
  {
   "cell_type": "code",
   "execution_count": 564,
   "id": "25b5efcf",
   "metadata": {},
   "outputs": [
    {
     "data": {
      "text/plain": [
       "Timestamp('2011-03-12 04:00:00+0000', tz='UTC')"
      ]
     },
     "execution_count": 564,
     "metadata": {},
     "output_type": "execute_result"
    }
   ],
   "source": [
    "stamp_utc"
   ]
  },
  {
   "cell_type": "code",
   "execution_count": 565,
   "id": "ee38c54a",
   "metadata": {},
   "outputs": [],
   "source": [
    "stamp_ame = stamp_utc.tz_convert('America/Chicago')"
   ]
  },
  {
   "cell_type": "code",
   "execution_count": 566,
   "id": "a0a13d0e",
   "metadata": {},
   "outputs": [
    {
     "data": {
      "text/plain": [
       "Timestamp('2011-03-11 22:00:00-0600', tz='America/Chicago')"
      ]
     },
     "execution_count": 566,
     "metadata": {},
     "output_type": "execute_result"
    }
   ],
   "source": [
    "stamp_ame"
   ]
  },
  {
   "cell_type": "code",
   "execution_count": 567,
   "id": "b80da672",
   "metadata": {},
   "outputs": [],
   "source": [
    "stamp_moscow = pd.Timestamp('2011-03-12 04:00', tz='Europe/Moscow')"
   ]
  },
  {
   "cell_type": "code",
   "execution_count": 568,
   "id": "c4cd2e27",
   "metadata": {},
   "outputs": [
    {
     "data": {
      "text/plain": [
       "Timestamp('2011-03-12 04:00:00+0300', tz='Europe/Moscow')"
      ]
     },
     "execution_count": 568,
     "metadata": {},
     "output_type": "execute_result"
    }
   ],
   "source": [
    "stamp_moscow"
   ]
  },
  {
   "cell_type": "code",
   "execution_count": 569,
   "id": "54344afd",
   "metadata": {},
   "outputs": [
    {
     "data": {
      "text/plain": [
       "1299902400000000000"
      ]
     },
     "execution_count": 569,
     "metadata": {},
     "output_type": "execute_result"
    }
   ],
   "source": [
    "stamp_utc.value"
   ]
  },
  {
   "cell_type": "code",
   "execution_count": 570,
   "id": "19bc0673",
   "metadata": {},
   "outputs": [
    {
     "data": {
      "text/plain": [
       "1299902400000000000"
      ]
     },
     "execution_count": 570,
     "metadata": {},
     "output_type": "execute_result"
    }
   ],
   "source": [
    "stamp_utc.tz_convert('America/Chicago').value # 值不改变"
   ]
  },
  {
   "cell_type": "code",
   "execution_count": 571,
   "id": "83b3efc3",
   "metadata": {},
   "outputs": [],
   "source": [
    "from pandas.tseries.offsets import Hour"
   ]
  },
  {
   "cell_type": "code",
   "execution_count": 572,
   "id": "a08e5837",
   "metadata": {},
   "outputs": [],
   "source": [
    "stamp = pd.Timestamp('2012-03-12 01:30', tz='US/Eastern')"
   ]
  },
  {
   "cell_type": "code",
   "execution_count": 573,
   "id": "1e96f175",
   "metadata": {},
   "outputs": [
    {
     "data": {
      "text/plain": [
       "Timestamp('2012-03-12 01:30:00-0400', tz='US/Eastern')"
      ]
     },
     "execution_count": 573,
     "metadata": {},
     "output_type": "execute_result"
    }
   ],
   "source": [
    "stamp"
   ]
  },
  {
   "cell_type": "code",
   "execution_count": 574,
   "id": "43cec2d8",
   "metadata": {},
   "outputs": [
    {
     "data": {
      "text/plain": [
       "Timestamp('2012-03-12 02:30:00-0400', tz='US/Eastern')"
      ]
     },
     "execution_count": 574,
     "metadata": {},
     "output_type": "execute_result"
    }
   ],
   "source": [
    "stamp + Hour()"
   ]
  },
  {
   "cell_type": "code",
   "execution_count": 575,
   "id": "01ea2326",
   "metadata": {},
   "outputs": [],
   "source": [
    "stamp = pd.Timestamp('2012-11-04 00:30', tz='US/Eastern')"
   ]
  },
  {
   "cell_type": "code",
   "execution_count": 576,
   "id": "7c196858",
   "metadata": {},
   "outputs": [
    {
     "data": {
      "text/plain": [
       "Timestamp('2012-11-04 00:30:00-0400', tz='US/Eastern')"
      ]
     },
     "execution_count": 576,
     "metadata": {},
     "output_type": "execute_result"
    }
   ],
   "source": [
    "stamp"
   ]
  },
  {
   "cell_type": "code",
   "execution_count": 577,
   "id": "3f708a18",
   "metadata": {},
   "outputs": [
    {
     "data": {
      "text/plain": [
       "Timestamp('2012-11-04 01:30:00-0500', tz='US/Eastern')"
      ]
     },
     "execution_count": 577,
     "metadata": {},
     "output_type": "execute_result"
    }
   ],
   "source": [
    "stamp + Hour(2)"
   ]
  },
  {
   "cell_type": "code",
   "execution_count": 578,
   "id": "a35b08e4",
   "metadata": {},
   "outputs": [],
   "source": [
    "rng = pd.date_range('3/7/2012 9:30', periods=10, freq='B', normalize=True)"
   ]
  },
  {
   "cell_type": "code",
   "execution_count": 579,
   "id": "0e65d077",
   "metadata": {},
   "outputs": [
    {
     "data": {
      "text/plain": [
       "DatetimeIndex(['2012-03-07', '2012-03-08', '2012-03-09', '2012-03-12',\n",
       "               '2012-03-13', '2012-03-14', '2012-03-15', '2012-03-16',\n",
       "               '2012-03-19', '2012-03-20'],\n",
       "              dtype='datetime64[ns]', freq='B')"
      ]
     },
     "execution_count": 579,
     "metadata": {},
     "output_type": "execute_result"
    }
   ],
   "source": [
    "rng"
   ]
  },
  {
   "cell_type": "code",
   "execution_count": 580,
   "id": "0aaed58f",
   "metadata": {},
   "outputs": [],
   "source": [
    "ts = pd.Series(np.random.randn(len(rng)),  index=rng)"
   ]
  },
  {
   "cell_type": "code",
   "execution_count": 581,
   "id": "e972e08d",
   "metadata": {},
   "outputs": [
    {
     "data": {
      "text/plain": [
       "2012-03-07   -0.114744\n",
       "2012-03-08   -0.423979\n",
       "2012-03-09   -0.934279\n",
       "2012-03-12    0.171683\n",
       "2012-03-13   -0.109898\n",
       "2012-03-14   -1.292099\n",
       "2012-03-15    1.081825\n",
       "2012-03-16    1.533134\n",
       "2012-03-19    0.560774\n",
       "2012-03-20   -1.560111\n",
       "Freq: B, dtype: float64"
      ]
     },
     "execution_count": 581,
     "metadata": {},
     "output_type": "execute_result"
    }
   ],
   "source": [
    "ts"
   ]
  },
  {
   "cell_type": "code",
   "execution_count": 582,
   "id": "653c42f3",
   "metadata": {},
   "outputs": [],
   "source": [
    "ts1 = ts[:7].tz_localize('Europe/London')"
   ]
  },
  {
   "cell_type": "code",
   "execution_count": 583,
   "id": "2a29c335",
   "metadata": {},
   "outputs": [
    {
     "data": {
      "text/plain": [
       "2012-03-07 00:00:00+00:00   -0.114744\n",
       "2012-03-08 00:00:00+00:00   -0.423979\n",
       "2012-03-09 00:00:00+00:00   -0.934279\n",
       "2012-03-12 00:00:00+00:00    0.171683\n",
       "2012-03-13 00:00:00+00:00   -0.109898\n",
       "2012-03-14 00:00:00+00:00   -1.292099\n",
       "2012-03-15 00:00:00+00:00    1.081825\n",
       "dtype: float64"
      ]
     },
     "execution_count": 583,
     "metadata": {},
     "output_type": "execute_result"
    }
   ],
   "source": [
    "ts1"
   ]
  },
  {
   "cell_type": "code",
   "execution_count": 584,
   "id": "0f313209",
   "metadata": {},
   "outputs": [],
   "source": [
    "ts2 = ts1[2:].tz_convert('Europe/Moscow')"
   ]
  },
  {
   "cell_type": "code",
   "execution_count": 585,
   "id": "d2727038",
   "metadata": {},
   "outputs": [
    {
     "data": {
      "text/plain": [
       "2012-03-09 04:00:00+04:00   -0.934279\n",
       "2012-03-12 04:00:00+04:00    0.171683\n",
       "2012-03-13 04:00:00+04:00   -0.109898\n",
       "2012-03-14 04:00:00+04:00   -1.292099\n",
       "2012-03-15 04:00:00+04:00    1.081825\n",
       "dtype: float64"
      ]
     },
     "execution_count": 585,
     "metadata": {},
     "output_type": "execute_result"
    }
   ],
   "source": [
    "ts2"
   ]
  },
  {
   "cell_type": "code",
   "execution_count": 586,
   "id": "ccef15c8",
   "metadata": {},
   "outputs": [],
   "source": [
    "res = ts1 + ts2"
   ]
  },
  {
   "cell_type": "code",
   "execution_count": 587,
   "id": "94af5f41",
   "metadata": {},
   "outputs": [
    {
     "data": {
      "text/plain": [
       "2012-03-07 00:00:00+00:00         NaN\n",
       "2012-03-08 00:00:00+00:00         NaN\n",
       "2012-03-09 00:00:00+00:00   -1.868558\n",
       "2012-03-12 00:00:00+00:00    0.343367\n",
       "2012-03-13 00:00:00+00:00   -0.219797\n",
       "2012-03-14 00:00:00+00:00   -2.584197\n",
       "2012-03-15 00:00:00+00:00    2.163650\n",
       "dtype: float64"
      ]
     },
     "execution_count": 587,
     "metadata": {},
     "output_type": "execute_result"
    }
   ],
   "source": [
    "res"
   ]
  },
  {
   "cell_type": "code",
   "execution_count": 588,
   "id": "7a3116ff",
   "metadata": {},
   "outputs": [
    {
     "data": {
      "text/plain": [
       "DatetimeIndex(['2012-03-07 00:00:00+00:00', '2012-03-08 00:00:00+00:00',\n",
       "               '2012-03-09 00:00:00+00:00', '2012-03-12 00:00:00+00:00',\n",
       "               '2012-03-13 00:00:00+00:00', '2012-03-14 00:00:00+00:00',\n",
       "               '2012-03-15 00:00:00+00:00'],\n",
       "              dtype='datetime64[ns, UTC]', freq=None)"
      ]
     },
     "execution_count": 588,
     "metadata": {},
     "output_type": "execute_result"
    }
   ],
   "source": [
    "res.index"
   ]
  },
  {
   "cell_type": "code",
   "execution_count": 589,
   "id": "008e7a83",
   "metadata": {},
   "outputs": [],
   "source": [
    "ans = pd.date_range('3/7/2012 9:30', periods=10, freq='B', normalize=True, tz='UTC')"
   ]
  },
  {
   "cell_type": "code",
   "execution_count": 590,
   "id": "53d4ba1c",
   "metadata": {},
   "outputs": [
    {
     "data": {
      "text/plain": [
       "DatetimeIndex(['2012-03-07 00:00:00+00:00', '2012-03-08 00:00:00+00:00',\n",
       "               '2012-03-09 00:00:00+00:00', '2012-03-12 00:00:00+00:00',\n",
       "               '2012-03-13 00:00:00+00:00', '2012-03-14 00:00:00+00:00',\n",
       "               '2012-03-15 00:00:00+00:00', '2012-03-16 00:00:00+00:00',\n",
       "               '2012-03-19 00:00:00+00:00', '2012-03-20 00:00:00+00:00'],\n",
       "              dtype='datetime64[ns, UTC]', freq='B')"
      ]
     },
     "execution_count": 590,
     "metadata": {},
     "output_type": "execute_result"
    }
   ],
   "source": [
    "ans"
   ]
  },
  {
   "cell_type": "code",
   "execution_count": 591,
   "id": "38eb8c5f",
   "metadata": {},
   "outputs": [
    {
     "data": {
      "text/plain": [
       "DatetimeIndex(['2012-03-06 18:00:00-06:00', '2012-03-07 18:00:00-06:00',\n",
       "               '2012-03-08 18:00:00-06:00', '2012-03-11 19:00:00-05:00',\n",
       "               '2012-03-12 19:00:00-05:00', '2012-03-13 19:00:00-05:00',\n",
       "               '2012-03-14 19:00:00-05:00', '2012-03-15 19:00:00-05:00',\n",
       "               '2012-03-18 19:00:00-05:00', '2012-03-19 19:00:00-05:00'],\n",
       "              dtype='datetime64[ns, America/Chicago]', freq='B')"
      ]
     },
     "execution_count": 591,
     "metadata": {},
     "output_type": "execute_result"
    }
   ],
   "source": [
    "ans.tz_convert('America/Chicago')"
   ]
  },
  {
   "cell_type": "code",
   "execution_count": 592,
   "id": "91b4918b",
   "metadata": {},
   "outputs": [],
   "source": [
    "p = pd.Period(2007, freq='A-DEC')"
   ]
  },
  {
   "cell_type": "code",
   "execution_count": 593,
   "id": "1bb41a30",
   "metadata": {},
   "outputs": [
    {
     "data": {
      "text/plain": [
       "Period('2007', 'A-DEC')"
      ]
     },
     "execution_count": 593,
     "metadata": {},
     "output_type": "execute_result"
    }
   ],
   "source": [
    "p"
   ]
  },
  {
   "cell_type": "code",
   "execution_count": 594,
   "id": "d7863f59",
   "metadata": {},
   "outputs": [
    {
     "data": {
      "text/plain": [
       "Period('2012', 'A-DEC')"
      ]
     },
     "execution_count": 594,
     "metadata": {},
     "output_type": "execute_result"
    }
   ],
   "source": [
    "p + 5"
   ]
  },
  {
   "cell_type": "code",
   "execution_count": 595,
   "id": "e6401c17",
   "metadata": {},
   "outputs": [
    {
     "data": {
      "text/plain": [
       "Period('2005', 'A-DEC')"
      ]
     },
     "execution_count": 595,
     "metadata": {},
     "output_type": "execute_result"
    }
   ],
   "source": [
    "p - 2"
   ]
  },
  {
   "cell_type": "code",
   "execution_count": 596,
   "id": "4579b908",
   "metadata": {},
   "outputs": [
    {
     "data": {
      "text/plain": [
       "<7 * YearEnds: month=12>"
      ]
     },
     "execution_count": 596,
     "metadata": {},
     "output_type": "execute_result"
    }
   ],
   "source": [
    "pd.Period('2014', freq='A-DEC') - p"
   ]
  },
  {
   "cell_type": "code",
   "execution_count": 597,
   "id": "24f671fe",
   "metadata": {},
   "outputs": [],
   "source": [
    "rng = pd.period_range('2001-01-01', '2001-06-30', freq='M')"
   ]
  },
  {
   "cell_type": "code",
   "execution_count": 598,
   "id": "5a09a6ac",
   "metadata": {},
   "outputs": [
    {
     "data": {
      "text/plain": [
       "PeriodIndex(['2001-01', '2001-02', '2001-03', '2001-04', '2001-05', '2001-06'], dtype='period[M]')"
      ]
     },
     "execution_count": 598,
     "metadata": {},
     "output_type": "execute_result"
    }
   ],
   "source": [
    "rng"
   ]
  },
  {
   "cell_type": "code",
   "execution_count": 599,
   "id": "572a210d",
   "metadata": {},
   "outputs": [
    {
     "data": {
      "text/plain": [
       "DatetimeIndex(['2001-01-31', '2001-02-28', '2001-03-31', '2001-04-30',\n",
       "               '2001-05-31', '2001-06-30'],\n",
       "              dtype='datetime64[ns]', freq='M')"
      ]
     },
     "execution_count": 599,
     "metadata": {},
     "output_type": "execute_result"
    }
   ],
   "source": [
    "pd.date_range('2001-01-01', '2001-06-30', freq='M')"
   ]
  },
  {
   "cell_type": "code",
   "execution_count": 600,
   "id": "9d88de98",
   "metadata": {},
   "outputs": [
    {
     "data": {
      "text/plain": [
       "2001-01   -0.414789\n",
       "2001-02   -0.407511\n",
       "2001-03   -0.536177\n",
       "2001-04   -0.065750\n",
       "2001-05    0.082154\n",
       "2001-06   -0.897354\n",
       "Freq: M, dtype: float64"
      ]
     },
     "execution_count": 600,
     "metadata": {},
     "output_type": "execute_result"
    }
   ],
   "source": [
    "pd.Series(np.random.randn(6), index=rng)"
   ]
  },
  {
   "cell_type": "code",
   "execution_count": 601,
   "id": "9abacb32",
   "metadata": {},
   "outputs": [],
   "source": [
    "values = ['2001Q3', '2002Q2', '2003Q1']"
   ]
  },
  {
   "cell_type": "code",
   "execution_count": 602,
   "id": "1a4c0e54",
   "metadata": {},
   "outputs": [
    {
     "data": {
      "text/plain": [
       "['2001Q3', '2002Q2', '2003Q1']"
      ]
     },
     "execution_count": 602,
     "metadata": {},
     "output_type": "execute_result"
    }
   ],
   "source": [
    "values"
   ]
  },
  {
   "cell_type": "code",
   "execution_count": 603,
   "id": "f140d571",
   "metadata": {},
   "outputs": [],
   "source": [
    "index = pd.PeriodIndex(values, freq='Q-DEC')"
   ]
  },
  {
   "cell_type": "code",
   "execution_count": 604,
   "id": "3466c865",
   "metadata": {},
   "outputs": [
    {
     "data": {
      "text/plain": [
       "PeriodIndex(['2001Q3', '2002Q2', '2003Q1'], dtype='period[Q-DEC]')"
      ]
     },
     "execution_count": 604,
     "metadata": {},
     "output_type": "execute_result"
    }
   ],
   "source": [
    "index"
   ]
  },
  {
   "cell_type": "code",
   "execution_count": 605,
   "id": "00b513f9",
   "metadata": {},
   "outputs": [],
   "source": [
    "ans = pd.Period('2001', freq='A-FEB') # ???"
   ]
  },
  {
   "cell_type": "code",
   "execution_count": 606,
   "id": "8cdacb46",
   "metadata": {},
   "outputs": [
    {
     "data": {
      "text/plain": [
       "Period('2001', 'A-FEB')"
      ]
     },
     "execution_count": 606,
     "metadata": {},
     "output_type": "execute_result"
    }
   ],
   "source": [
    "ans"
   ]
  },
  {
   "cell_type": "code",
   "execution_count": 607,
   "id": "8c7c75d3",
   "metadata": {},
   "outputs": [
    {
     "data": {
      "text/plain": [
       "Timestamp('2000-03-01 00:00:00')"
      ]
     },
     "execution_count": 607,
     "metadata": {},
     "output_type": "execute_result"
    }
   ],
   "source": [
    "ans.start_time"
   ]
  },
  {
   "cell_type": "code",
   "execution_count": 608,
   "id": "132ce210",
   "metadata": {},
   "outputs": [
    {
     "data": {
      "text/plain": [
       "Timestamp('2001-02-28 23:59:59.999999999')"
      ]
     },
     "execution_count": 608,
     "metadata": {},
     "output_type": "execute_result"
    }
   ],
   "source": [
    "ans.end_time"
   ]
  },
  {
   "cell_type": "code",
   "execution_count": 609,
   "id": "c6bc0eaf",
   "metadata": {},
   "outputs": [],
   "source": [
    "ans = pd.Period('2001', freq='A-DEC') # ???"
   ]
  },
  {
   "cell_type": "code",
   "execution_count": 610,
   "id": "0ce354da",
   "metadata": {},
   "outputs": [
    {
     "data": {
      "text/plain": [
       "Timestamp('2001-01-01 00:00:00')"
      ]
     },
     "execution_count": 610,
     "metadata": {},
     "output_type": "execute_result"
    }
   ],
   "source": [
    "ans.start_time"
   ]
  },
  {
   "cell_type": "code",
   "execution_count": 611,
   "id": "631cbaec",
   "metadata": {},
   "outputs": [
    {
     "data": {
      "text/plain": [
       "Period('2007', 'A-DEC')"
      ]
     },
     "execution_count": 611,
     "metadata": {},
     "output_type": "execute_result"
    }
   ],
   "source": [
    "p"
   ]
  },
  {
   "cell_type": "code",
   "execution_count": 612,
   "id": "021d9976",
   "metadata": {},
   "outputs": [
    {
     "data": {
      "text/plain": [
       "Period('2007-01', 'M')"
      ]
     },
     "execution_count": 612,
     "metadata": {},
     "output_type": "execute_result"
    }
   ],
   "source": [
    "p.asfreq('M', how='start')"
   ]
  },
  {
   "cell_type": "code",
   "execution_count": 613,
   "id": "2e50f5d7",
   "metadata": {},
   "outputs": [
    {
     "data": {
      "text/plain": [
       "Period('2007-12', 'M')"
      ]
     },
     "execution_count": 613,
     "metadata": {},
     "output_type": "execute_result"
    }
   ],
   "source": [
    "p.asfreq('M', how='end')"
   ]
  },
  {
   "cell_type": "code",
   "execution_count": 614,
   "id": "cbd24efa",
   "metadata": {},
   "outputs": [],
   "source": [
    "p = pd.Period('2007', freq='A-JUN')"
   ]
  },
  {
   "cell_type": "code",
   "execution_count": 615,
   "id": "1ea00ea1",
   "metadata": {},
   "outputs": [
    {
     "data": {
      "text/plain": [
       "Period('2007', 'A-JUN')"
      ]
     },
     "execution_count": 615,
     "metadata": {},
     "output_type": "execute_result"
    }
   ],
   "source": [
    "p"
   ]
  },
  {
   "cell_type": "code",
   "execution_count": 616,
   "id": "67f019ef",
   "metadata": {},
   "outputs": [
    {
     "data": {
      "text/plain": [
       "Period('2006-07', 'M')"
      ]
     },
     "execution_count": 616,
     "metadata": {},
     "output_type": "execute_result"
    }
   ],
   "source": [
    "p.asfreq('M', how='start')"
   ]
  },
  {
   "cell_type": "code",
   "execution_count": 617,
   "id": "92a4ea85",
   "metadata": {},
   "outputs": [
    {
     "data": {
      "text/plain": [
       "Period('2007-06', 'M')"
      ]
     },
     "execution_count": 617,
     "metadata": {},
     "output_type": "execute_result"
    }
   ],
   "source": [
    "p.asfreq('M', how='end')"
   ]
  },
  {
   "cell_type": "code",
   "execution_count": 618,
   "id": "e4061da7",
   "metadata": {},
   "outputs": [],
   "source": [
    "p.asfreq?"
   ]
  },
  {
   "cell_type": "code",
   "execution_count": 619,
   "id": "873e87fe",
   "metadata": {},
   "outputs": [],
   "source": [
    "p = pd.Period('Aug-2007', 'M')"
   ]
  },
  {
   "cell_type": "code",
   "execution_count": 620,
   "id": "e470cfed",
   "metadata": {},
   "outputs": [
    {
     "data": {
      "text/plain": [
       "Period('2008', 'A-JUN')"
      ]
     },
     "execution_count": 620,
     "metadata": {},
     "output_type": "execute_result"
    }
   ],
   "source": [
    "p.asfreq('A-JUN')"
   ]
  },
  {
   "cell_type": "code",
   "execution_count": 621,
   "id": "b75bd002",
   "metadata": {},
   "outputs": [],
   "source": [
    "rng = pd.period_range('2006', '2009', freq='A-DEC')"
   ]
  },
  {
   "cell_type": "code",
   "execution_count": 622,
   "id": "acd0f42c",
   "metadata": {},
   "outputs": [
    {
     "data": {
      "text/plain": [
       "PeriodIndex(['2006', '2007', '2008', '2009'], dtype='period[A-DEC]')"
      ]
     },
     "execution_count": 622,
     "metadata": {},
     "output_type": "execute_result"
    }
   ],
   "source": [
    "rng"
   ]
  },
  {
   "cell_type": "code",
   "execution_count": 623,
   "id": "1796438a",
   "metadata": {},
   "outputs": [],
   "source": [
    "ts = pd.Series(np.random.randn(len(rng)), index=rng)"
   ]
  },
  {
   "cell_type": "code",
   "execution_count": 624,
   "id": "445c9e7e",
   "metadata": {},
   "outputs": [
    {
     "data": {
      "text/plain": [
       "2006    0.364882\n",
       "2007   -0.583535\n",
       "2008    0.315270\n",
       "2009    1.681286\n",
       "Freq: A-DEC, dtype: float64"
      ]
     },
     "execution_count": 624,
     "metadata": {},
     "output_type": "execute_result"
    }
   ],
   "source": [
    "ts"
   ]
  },
  {
   "cell_type": "code",
   "execution_count": 625,
   "id": "078bd80c",
   "metadata": {},
   "outputs": [
    {
     "data": {
      "text/plain": [
       "PeriodIndex(['2006', '2007', '2008', '2009'], dtype='period[A-DEC]')"
      ]
     },
     "execution_count": 625,
     "metadata": {},
     "output_type": "execute_result"
    }
   ],
   "source": [
    "ts.index"
   ]
  },
  {
   "cell_type": "code",
   "execution_count": 626,
   "id": "9420c352",
   "metadata": {},
   "outputs": [
    {
     "data": {
      "text/plain": [
       "2006-01    0.364882\n",
       "2007-01   -0.583535\n",
       "2008-01    0.315270\n",
       "2009-01    1.681286\n",
       "Freq: M, dtype: float64"
      ]
     },
     "execution_count": 626,
     "metadata": {},
     "output_type": "execute_result"
    }
   ],
   "source": [
    "ts.asfreq('M', how='S')"
   ]
  },
  {
   "cell_type": "code",
   "execution_count": 627,
   "id": "f1ec2424",
   "metadata": {},
   "outputs": [
    {
     "data": {
      "text/plain": [
       "2006-12-29    0.364882\n",
       "2007-12-31   -0.583535\n",
       "2008-12-31    0.315270\n",
       "2009-12-31    1.681286\n",
       "Freq: B, dtype: float64"
      ]
     },
     "execution_count": 627,
     "metadata": {},
     "output_type": "execute_result"
    }
   ],
   "source": [
    "ts.asfreq('B', how='E')"
   ]
  },
  {
   "cell_type": "code",
   "execution_count": 628,
   "id": "76e39a52",
   "metadata": {},
   "outputs": [],
   "source": [
    "p = pd.Period('2012Q4', freq='Q-JAN')"
   ]
  },
  {
   "cell_type": "code",
   "execution_count": 629,
   "id": "9602cd64",
   "metadata": {},
   "outputs": [
    {
     "data": {
      "text/plain": [
       "Period('2012Q4', 'Q-JAN')"
      ]
     },
     "execution_count": 629,
     "metadata": {},
     "output_type": "execute_result"
    }
   ],
   "source": [
    "p"
   ]
  },
  {
   "cell_type": "code",
   "execution_count": 630,
   "id": "ab1ae684",
   "metadata": {},
   "outputs": [
    {
     "data": {
      "text/plain": [
       "Period('2011-11-01', 'D')"
      ]
     },
     "execution_count": 630,
     "metadata": {},
     "output_type": "execute_result"
    }
   ],
   "source": [
    "p.asfreq('D', how='start')"
   ]
  },
  {
   "cell_type": "code",
   "execution_count": 631,
   "id": "6fcaa9e1",
   "metadata": {},
   "outputs": [
    {
     "data": {
      "text/plain": [
       "Period('2012-01-31', 'D')"
      ]
     },
     "execution_count": 631,
     "metadata": {},
     "output_type": "execute_result"
    }
   ],
   "source": [
    "p.asfreq('D', 'end')"
   ]
  },
  {
   "cell_type": "code",
   "execution_count": 632,
   "id": "c137fece",
   "metadata": {},
   "outputs": [
    {
     "data": {
      "text/plain": [
       "Period('2012Q4', 'Q-JAN')"
      ]
     },
     "execution_count": 632,
     "metadata": {},
     "output_type": "execute_result"
    }
   ],
   "source": [
    "p "
   ]
  },
  {
   "cell_type": "code",
   "execution_count": 633,
   "id": "0e34e81a",
   "metadata": {},
   "outputs": [],
   "source": [
    "p4pm = (p.asfreq('B', 'E') -1).asfreq('S', 'S') + 16 * 60 * 60"
   ]
  },
  {
   "cell_type": "code",
   "execution_count": 634,
   "id": "ca8d1eaf",
   "metadata": {},
   "outputs": [
    {
     "data": {
      "text/plain": [
       "Period('2012-01-30 16:00:00', 'S')"
      ]
     },
     "execution_count": 634,
     "metadata": {},
     "output_type": "execute_result"
    }
   ],
   "source": [
    "p4pm"
   ]
  },
  {
   "cell_type": "code",
   "execution_count": 635,
   "id": "d98d5048",
   "metadata": {},
   "outputs": [
    {
     "data": {
      "text/plain": [
       "Timestamp('2012-01-30 16:00:00')"
      ]
     },
     "execution_count": 635,
     "metadata": {},
     "output_type": "execute_result"
    }
   ],
   "source": [
    "p4pm.to_timestamp() # 转为pd内的时间戳"
   ]
  },
  {
   "cell_type": "code",
   "execution_count": 636,
   "id": "fffb27a5",
   "metadata": {},
   "outputs": [],
   "source": [
    "rng = pd.period_range('2011Q3', '2012Q4', freq='Q-JAN')"
   ]
  },
  {
   "cell_type": "code",
   "execution_count": 637,
   "id": "03322d90",
   "metadata": {},
   "outputs": [],
   "source": [
    "ts = pd.Series(np.arange(len(rng)), index=rng)"
   ]
  },
  {
   "cell_type": "code",
   "execution_count": 638,
   "id": "ab4f7788",
   "metadata": {},
   "outputs": [
    {
     "data": {
      "text/plain": [
       "2011Q3    0\n",
       "2011Q4    1\n",
       "2012Q1    2\n",
       "2012Q2    3\n",
       "2012Q3    4\n",
       "2012Q4    5\n",
       "Freq: Q-JAN, dtype: int32"
      ]
     },
     "execution_count": 638,
     "metadata": {},
     "output_type": "execute_result"
    }
   ],
   "source": [
    "ts"
   ]
  },
  {
   "cell_type": "code",
   "execution_count": 639,
   "id": "a0f1036f",
   "metadata": {},
   "outputs": [],
   "source": [
    "new_rng = (rng.asfreq('B', 'E') - 1).asfreq('T', 's') + 16 * 60"
   ]
  },
  {
   "cell_type": "code",
   "execution_count": 640,
   "id": "3a421b5a",
   "metadata": {},
   "outputs": [
    {
     "data": {
      "text/plain": [
       "PeriodIndex(['2010-10-28 16:00', '2011-01-28 16:00', '2011-04-28 16:00',\n",
       "             '2011-07-28 16:00', '2011-10-28 16:00', '2012-01-30 16:00'],\n",
       "            dtype='period[T]')"
      ]
     },
     "execution_count": 640,
     "metadata": {},
     "output_type": "execute_result"
    }
   ],
   "source": [
    "new_rng"
   ]
  },
  {
   "cell_type": "code",
   "execution_count": 641,
   "id": "5ea14268",
   "metadata": {},
   "outputs": [],
   "source": [
    "ts.index = new_rng.to_timestamp()"
   ]
  },
  {
   "cell_type": "code",
   "execution_count": 642,
   "id": "b7eefbcd",
   "metadata": {},
   "outputs": [
    {
     "data": {
      "text/plain": [
       "2010-10-28 16:00:00    0\n",
       "2011-01-28 16:00:00    1\n",
       "2011-04-28 16:00:00    2\n",
       "2011-07-28 16:00:00    3\n",
       "2011-10-28 16:00:00    4\n",
       "2012-01-30 16:00:00    5\n",
       "dtype: int32"
      ]
     },
     "execution_count": 642,
     "metadata": {},
     "output_type": "execute_result"
    }
   ],
   "source": [
    "ts"
   ]
  },
  {
   "cell_type": "code",
   "execution_count": 643,
   "id": "8c6047eb",
   "metadata": {},
   "outputs": [],
   "source": [
    "rng = pd.date_range('2000-01-01', periods=3, freq='M')"
   ]
  },
  {
   "cell_type": "code",
   "execution_count": 644,
   "id": "622e74a3",
   "metadata": {},
   "outputs": [],
   "source": [
    "ts = pd.Series(np.random.randn(3), index=rng)"
   ]
  },
  {
   "cell_type": "code",
   "execution_count": 645,
   "id": "198d7e6b",
   "metadata": {},
   "outputs": [
    {
     "data": {
      "text/plain": [
       "2000-01-31    1.951195\n",
       "2000-02-29    0.025991\n",
       "2000-03-31   -2.358415\n",
       "Freq: M, dtype: float64"
      ]
     },
     "execution_count": 645,
     "metadata": {},
     "output_type": "execute_result"
    }
   ],
   "source": [
    "ts"
   ]
  },
  {
   "cell_type": "code",
   "execution_count": 646,
   "id": "b59e9a2d",
   "metadata": {},
   "outputs": [],
   "source": [
    "pts = ts.to_period()"
   ]
  },
  {
   "cell_type": "code",
   "execution_count": 647,
   "id": "b4ff53ab",
   "metadata": {},
   "outputs": [
    {
     "data": {
      "text/plain": [
       "2000-01    1.951195\n",
       "2000-02    0.025991\n",
       "2000-03   -2.358415\n",
       "Freq: M, dtype: float64"
      ]
     },
     "execution_count": 647,
     "metadata": {},
     "output_type": "execute_result"
    }
   ],
   "source": [
    "pts"
   ]
  },
  {
   "cell_type": "code",
   "execution_count": 648,
   "id": "1b94506d",
   "metadata": {},
   "outputs": [],
   "source": [
    "pts.to_timestamp?"
   ]
  },
  {
   "cell_type": "code",
   "execution_count": 649,
   "id": "18020369",
   "metadata": {},
   "outputs": [],
   "source": [
    "rng = pd.date_range('1/29/2000', periods=6, freq='D')"
   ]
  },
  {
   "cell_type": "code",
   "execution_count": 650,
   "id": "e35df48d",
   "metadata": {},
   "outputs": [
    {
     "data": {
      "text/plain": [
       "DatetimeIndex(['2000-01-29', '2000-01-30', '2000-01-31', '2000-02-01',\n",
       "               '2000-02-02', '2000-02-03'],\n",
       "              dtype='datetime64[ns]', freq='D')"
      ]
     },
     "execution_count": 650,
     "metadata": {},
     "output_type": "execute_result"
    }
   ],
   "source": [
    "rng"
   ]
  },
  {
   "cell_type": "code",
   "execution_count": 651,
   "id": "a5f86360",
   "metadata": {},
   "outputs": [],
   "source": [
    "ts2 = pd.Series(np.random.randn(6), index=rng)"
   ]
  },
  {
   "cell_type": "code",
   "execution_count": 652,
   "id": "38cb8786",
   "metadata": {},
   "outputs": [
    {
     "data": {
      "text/plain": [
       "2000-01-29   -0.439342\n",
       "2000-01-30    1.370520\n",
       "2000-01-31   -1.359911\n",
       "2000-02-01   -1.000019\n",
       "2000-02-02   -1.093034\n",
       "2000-02-03    1.425702\n",
       "Freq: D, dtype: float64"
      ]
     },
     "execution_count": 652,
     "metadata": {},
     "output_type": "execute_result"
    }
   ],
   "source": [
    "ts2"
   ]
  },
  {
   "cell_type": "code",
   "execution_count": 653,
   "id": "9dbf1d2d",
   "metadata": {},
   "outputs": [
    {
     "data": {
      "text/plain": [
       "2000-01   -0.439342\n",
       "2000-01    1.370520\n",
       "2000-01   -1.359911\n",
       "2000-02   -1.000019\n",
       "2000-02   -1.093034\n",
       "2000-02    1.425702\n",
       "Freq: M, dtype: float64"
      ]
     },
     "execution_count": 653,
     "metadata": {},
     "output_type": "execute_result"
    }
   ],
   "source": [
    "ts2.to_period(freq='M')"
   ]
  },
  {
   "cell_type": "code",
   "execution_count": 654,
   "id": "7617ee7d",
   "metadata": {},
   "outputs": [],
   "source": [
    "pts = ts2.to_period('M')"
   ]
  },
  {
   "cell_type": "code",
   "execution_count": 655,
   "id": "eff78f7b",
   "metadata": {},
   "outputs": [
    {
     "data": {
      "text/plain": [
       "2000-01   -0.439342\n",
       "2000-01    1.370520\n",
       "2000-01   -1.359911\n",
       "2000-02   -1.000019\n",
       "2000-02   -1.093034\n",
       "2000-02    1.425702\n",
       "Freq: M, dtype: float64"
      ]
     },
     "execution_count": 655,
     "metadata": {},
     "output_type": "execute_result"
    }
   ],
   "source": [
    "pts"
   ]
  },
  {
   "cell_type": "code",
   "execution_count": 656,
   "id": "f9d10a22",
   "metadata": {},
   "outputs": [
    {
     "data": {
      "text/plain": [
       "2000-01-31 23:59:59.999999999   -0.439342\n",
       "2000-01-31 23:59:59.999999999    1.370520\n",
       "2000-01-31 23:59:59.999999999   -1.359911\n",
       "2000-02-29 23:59:59.999999999   -1.000019\n",
       "2000-02-29 23:59:59.999999999   -1.093034\n",
       "2000-02-29 23:59:59.999999999    1.425702\n",
       "dtype: float64"
      ]
     },
     "execution_count": 656,
     "metadata": {},
     "output_type": "execute_result"
    }
   ],
   "source": [
    "pts.to_timestamp('D', how='end')"
   ]
  },
  {
   "cell_type": "code",
   "execution_count": 657,
   "id": "dd88b5a1",
   "metadata": {},
   "outputs": [],
   "source": [
    "data = pd.read_csv('examples/macrodata.csv')"
   ]
  },
  {
   "cell_type": "code",
   "execution_count": 658,
   "id": "5211a5d9",
   "metadata": {},
   "outputs": [
    {
     "data": {
      "text/html": [
       "<div>\n",
       "<style scoped>\n",
       "    .dataframe tbody tr th:only-of-type {\n",
       "        vertical-align: middle;\n",
       "    }\n",
       "\n",
       "    .dataframe tbody tr th {\n",
       "        vertical-align: top;\n",
       "    }\n",
       "\n",
       "    .dataframe thead th {\n",
       "        text-align: right;\n",
       "    }\n",
       "</style>\n",
       "<table border=\"1\" class=\"dataframe\">\n",
       "  <thead>\n",
       "    <tr style=\"text-align: right;\">\n",
       "      <th></th>\n",
       "      <th>year</th>\n",
       "      <th>quarter</th>\n",
       "      <th>realgdp</th>\n",
       "      <th>realcons</th>\n",
       "      <th>realinv</th>\n",
       "      <th>realgovt</th>\n",
       "      <th>realdpi</th>\n",
       "      <th>cpi</th>\n",
       "      <th>m1</th>\n",
       "      <th>tbilrate</th>\n",
       "      <th>unemp</th>\n",
       "      <th>pop</th>\n",
       "      <th>infl</th>\n",
       "      <th>realint</th>\n",
       "    </tr>\n",
       "  </thead>\n",
       "  <tbody>\n",
       "    <tr>\n",
       "      <th>0</th>\n",
       "      <td>1959.0</td>\n",
       "      <td>1.0</td>\n",
       "      <td>2710.349</td>\n",
       "      <td>1707.4</td>\n",
       "      <td>286.898</td>\n",
       "      <td>470.045</td>\n",
       "      <td>1886.9</td>\n",
       "      <td>28.980</td>\n",
       "      <td>139.7</td>\n",
       "      <td>2.82</td>\n",
       "      <td>5.8</td>\n",
       "      <td>177.146</td>\n",
       "      <td>0.00</td>\n",
       "      <td>0.00</td>\n",
       "    </tr>\n",
       "    <tr>\n",
       "      <th>1</th>\n",
       "      <td>1959.0</td>\n",
       "      <td>2.0</td>\n",
       "      <td>2778.801</td>\n",
       "      <td>1733.7</td>\n",
       "      <td>310.859</td>\n",
       "      <td>481.301</td>\n",
       "      <td>1919.7</td>\n",
       "      <td>29.150</td>\n",
       "      <td>141.7</td>\n",
       "      <td>3.08</td>\n",
       "      <td>5.1</td>\n",
       "      <td>177.830</td>\n",
       "      <td>2.34</td>\n",
       "      <td>0.74</td>\n",
       "    </tr>\n",
       "    <tr>\n",
       "      <th>2</th>\n",
       "      <td>1959.0</td>\n",
       "      <td>3.0</td>\n",
       "      <td>2775.488</td>\n",
       "      <td>1751.8</td>\n",
       "      <td>289.226</td>\n",
       "      <td>491.260</td>\n",
       "      <td>1916.4</td>\n",
       "      <td>29.350</td>\n",
       "      <td>140.5</td>\n",
       "      <td>3.82</td>\n",
       "      <td>5.3</td>\n",
       "      <td>178.657</td>\n",
       "      <td>2.74</td>\n",
       "      <td>1.09</td>\n",
       "    </tr>\n",
       "    <tr>\n",
       "      <th>3</th>\n",
       "      <td>1959.0</td>\n",
       "      <td>4.0</td>\n",
       "      <td>2785.204</td>\n",
       "      <td>1753.7</td>\n",
       "      <td>299.356</td>\n",
       "      <td>484.052</td>\n",
       "      <td>1931.3</td>\n",
       "      <td>29.370</td>\n",
       "      <td>140.0</td>\n",
       "      <td>4.33</td>\n",
       "      <td>5.6</td>\n",
       "      <td>179.386</td>\n",
       "      <td>0.27</td>\n",
       "      <td>4.06</td>\n",
       "    </tr>\n",
       "    <tr>\n",
       "      <th>4</th>\n",
       "      <td>1960.0</td>\n",
       "      <td>1.0</td>\n",
       "      <td>2847.699</td>\n",
       "      <td>1770.5</td>\n",
       "      <td>331.722</td>\n",
       "      <td>462.199</td>\n",
       "      <td>1955.5</td>\n",
       "      <td>29.540</td>\n",
       "      <td>139.6</td>\n",
       "      <td>3.50</td>\n",
       "      <td>5.2</td>\n",
       "      <td>180.007</td>\n",
       "      <td>2.31</td>\n",
       "      <td>1.19</td>\n",
       "    </tr>\n",
       "    <tr>\n",
       "      <th>...</th>\n",
       "      <td>...</td>\n",
       "      <td>...</td>\n",
       "      <td>...</td>\n",
       "      <td>...</td>\n",
       "      <td>...</td>\n",
       "      <td>...</td>\n",
       "      <td>...</td>\n",
       "      <td>...</td>\n",
       "      <td>...</td>\n",
       "      <td>...</td>\n",
       "      <td>...</td>\n",
       "      <td>...</td>\n",
       "      <td>...</td>\n",
       "      <td>...</td>\n",
       "    </tr>\n",
       "    <tr>\n",
       "      <th>193</th>\n",
       "      <td>2007.0</td>\n",
       "      <td>2.0</td>\n",
       "      <td>13203.977</td>\n",
       "      <td>9291.5</td>\n",
       "      <td>2162.214</td>\n",
       "      <td>898.713</td>\n",
       "      <td>9842.7</td>\n",
       "      <td>207.338</td>\n",
       "      <td>1370.0</td>\n",
       "      <td>4.72</td>\n",
       "      <td>4.5</td>\n",
       "      <td>301.714</td>\n",
       "      <td>2.75</td>\n",
       "      <td>1.97</td>\n",
       "    </tr>\n",
       "    <tr>\n",
       "      <th>194</th>\n",
       "      <td>2007.0</td>\n",
       "      <td>3.0</td>\n",
       "      <td>13321.109</td>\n",
       "      <td>9335.6</td>\n",
       "      <td>2166.491</td>\n",
       "      <td>918.983</td>\n",
       "      <td>9883.9</td>\n",
       "      <td>209.133</td>\n",
       "      <td>1379.2</td>\n",
       "      <td>4.00</td>\n",
       "      <td>4.7</td>\n",
       "      <td>302.509</td>\n",
       "      <td>3.45</td>\n",
       "      <td>0.55</td>\n",
       "    </tr>\n",
       "    <tr>\n",
       "      <th>195</th>\n",
       "      <td>2007.0</td>\n",
       "      <td>4.0</td>\n",
       "      <td>13391.249</td>\n",
       "      <td>9363.6</td>\n",
       "      <td>2123.426</td>\n",
       "      <td>925.110</td>\n",
       "      <td>9886.2</td>\n",
       "      <td>212.495</td>\n",
       "      <td>1377.4</td>\n",
       "      <td>3.01</td>\n",
       "      <td>4.8</td>\n",
       "      <td>303.204</td>\n",
       "      <td>6.38</td>\n",
       "      <td>-3.37</td>\n",
       "    </tr>\n",
       "    <tr>\n",
       "      <th>196</th>\n",
       "      <td>2008.0</td>\n",
       "      <td>1.0</td>\n",
       "      <td>13366.865</td>\n",
       "      <td>9349.6</td>\n",
       "      <td>2082.886</td>\n",
       "      <td>943.372</td>\n",
       "      <td>9826.8</td>\n",
       "      <td>213.997</td>\n",
       "      <td>1384.0</td>\n",
       "      <td>1.56</td>\n",
       "      <td>4.9</td>\n",
       "      <td>303.803</td>\n",
       "      <td>2.82</td>\n",
       "      <td>-1.26</td>\n",
       "    </tr>\n",
       "    <tr>\n",
       "      <th>197</th>\n",
       "      <td>2008.0</td>\n",
       "      <td>2.0</td>\n",
       "      <td>13415.266</td>\n",
       "      <td>9351.0</td>\n",
       "      <td>2026.518</td>\n",
       "      <td>961.280</td>\n",
       "      <td>10059.0</td>\n",
       "      <td>218.610</td>\n",
       "      <td>1409.3</td>\n",
       "      <td>1.74</td>\n",
       "      <td>5.4</td>\n",
       "      <td>304.483</td>\n",
       "      <td>8.53</td>\n",
       "      <td>-6.79</td>\n",
       "    </tr>\n",
       "  </tbody>\n",
       "</table>\n",
       "<p>198 rows × 14 columns</p>\n",
       "</div>"
      ],
      "text/plain": [
       "       year  quarter    realgdp  realcons   realinv  realgovt  realdpi  \\\n",
       "0    1959.0      1.0   2710.349    1707.4   286.898   470.045   1886.9   \n",
       "1    1959.0      2.0   2778.801    1733.7   310.859   481.301   1919.7   \n",
       "2    1959.0      3.0   2775.488    1751.8   289.226   491.260   1916.4   \n",
       "3    1959.0      4.0   2785.204    1753.7   299.356   484.052   1931.3   \n",
       "4    1960.0      1.0   2847.699    1770.5   331.722   462.199   1955.5   \n",
       "..      ...      ...        ...       ...       ...       ...      ...   \n",
       "193  2007.0      2.0  13203.977    9291.5  2162.214   898.713   9842.7   \n",
       "194  2007.0      3.0  13321.109    9335.6  2166.491   918.983   9883.9   \n",
       "195  2007.0      4.0  13391.249    9363.6  2123.426   925.110   9886.2   \n",
       "196  2008.0      1.0  13366.865    9349.6  2082.886   943.372   9826.8   \n",
       "197  2008.0      2.0  13415.266    9351.0  2026.518   961.280  10059.0   \n",
       "\n",
       "         cpi      m1  tbilrate  unemp      pop  infl  realint  \n",
       "0     28.980   139.7      2.82    5.8  177.146  0.00     0.00  \n",
       "1     29.150   141.7      3.08    5.1  177.830  2.34     0.74  \n",
       "2     29.350   140.5      3.82    5.3  178.657  2.74     1.09  \n",
       "3     29.370   140.0      4.33    5.6  179.386  0.27     4.06  \n",
       "4     29.540   139.6      3.50    5.2  180.007  2.31     1.19  \n",
       "..       ...     ...       ...    ...      ...   ...      ...  \n",
       "193  207.338  1370.0      4.72    4.5  301.714  2.75     1.97  \n",
       "194  209.133  1379.2      4.00    4.7  302.509  3.45     0.55  \n",
       "195  212.495  1377.4      3.01    4.8  303.204  6.38    -3.37  \n",
       "196  213.997  1384.0      1.56    4.9  303.803  2.82    -1.26  \n",
       "197  218.610  1409.3      1.74    5.4  304.483  8.53    -6.79  \n",
       "\n",
       "[198 rows x 14 columns]"
      ]
     },
     "execution_count": 658,
     "metadata": {},
     "output_type": "execute_result"
    }
   ],
   "source": [
    "data.head(-5) # 直到-5"
   ]
  },
  {
   "cell_type": "code",
   "execution_count": 659,
   "id": "1531eb33",
   "metadata": {},
   "outputs": [],
   "source": [
    "data.head?"
   ]
  },
  {
   "cell_type": "code",
   "execution_count": 660,
   "id": "bef5d2e4",
   "metadata": {},
   "outputs": [
    {
     "data": {
      "text/plain": [
       "0      1959.0\n",
       "1      1959.0\n",
       "2      1959.0\n",
       "3      1959.0\n",
       "4      1960.0\n",
       "        ...  \n",
       "198    2008.0\n",
       "199    2008.0\n",
       "200    2009.0\n",
       "201    2009.0\n",
       "202    2009.0\n",
       "Name: year, Length: 203, dtype: float64"
      ]
     },
     "execution_count": 660,
     "metadata": {},
     "output_type": "execute_result"
    }
   ],
   "source": [
    "data.year"
   ]
  },
  {
   "cell_type": "code",
   "execution_count": 661,
   "id": "798fbae9",
   "metadata": {},
   "outputs": [
    {
     "data": {
      "text/plain": [
       "0      1.0\n",
       "1      2.0\n",
       "2      3.0\n",
       "3      4.0\n",
       "4      1.0\n",
       "      ... \n",
       "198    3.0\n",
       "199    4.0\n",
       "200    1.0\n",
       "201    2.0\n",
       "202    3.0\n",
       "Name: quarter, Length: 203, dtype: float64"
      ]
     },
     "execution_count": 661,
     "metadata": {},
     "output_type": "execute_result"
    }
   ],
   "source": [
    "data.quarter"
   ]
  },
  {
   "cell_type": "code",
   "execution_count": 662,
   "id": "8f22ec28",
   "metadata": {},
   "outputs": [],
   "source": [
    "# year = data.year.apply(int)\n",
    "index = pd.PeriodIndex(year=data.year, quarter=data.quarter, freq='Q-DEC')"
   ]
  },
  {
   "cell_type": "code",
   "execution_count": 663,
   "id": "1f15ccc6",
   "metadata": {},
   "outputs": [
    {
     "data": {
      "text/plain": [
       "PeriodIndex(['1959Q1', '1959Q2', '1959Q3', '1959Q4', '1960Q1', '1960Q2',\n",
       "             '1960Q3', '1960Q4', '1961Q1', '1961Q2',\n",
       "             ...\n",
       "             '2007Q2', '2007Q3', '2007Q4', '2008Q1', '2008Q2', '2008Q3',\n",
       "             '2008Q4', '2009Q1', '2009Q2', '2009Q3'],\n",
       "            dtype='period[Q-DEC]', length=203)"
      ]
     },
     "execution_count": 663,
     "metadata": {},
     "output_type": "execute_result"
    }
   ],
   "source": [
    "index"
   ]
  },
  {
   "cell_type": "code",
   "execution_count": 664,
   "id": "d54ff74a",
   "metadata": {},
   "outputs": [],
   "source": [
    "data.index = index"
   ]
  },
  {
   "cell_type": "code",
   "execution_count": 665,
   "id": "7bf1de2e",
   "metadata": {},
   "outputs": [
    {
     "data": {
      "text/plain": [
       "1959Q1    0.00\n",
       "1959Q2    2.34\n",
       "1959Q3    2.74\n",
       "1959Q4    0.27\n",
       "1960Q1    2.31\n",
       "          ... \n",
       "2008Q3   -3.16\n",
       "2008Q4   -8.79\n",
       "2009Q1    0.94\n",
       "2009Q2    3.37\n",
       "2009Q3    3.56\n",
       "Freq: Q-DEC, Name: infl, Length: 203, dtype: float64"
      ]
     },
     "execution_count": 665,
     "metadata": {},
     "output_type": "execute_result"
    }
   ],
   "source": [
    "data.infl"
   ]
  },
  {
   "cell_type": "code",
   "execution_count": 666,
   "id": "33318c5e",
   "metadata": {},
   "outputs": [],
   "source": [
    "pd.PeriodIndex?"
   ]
  },
  {
   "cell_type": "code",
   "execution_count": 667,
   "id": "93a4804d",
   "metadata": {},
   "outputs": [
    {
     "data": {
      "text/plain": [
       "0      1959\n",
       "1      1959\n",
       "2      1959\n",
       "3      1959\n",
       "4      1960\n",
       "       ... \n",
       "198    2008\n",
       "199    2008\n",
       "200    2009\n",
       "201    2009\n",
       "202    2009\n",
       "Name: year, Length: 203, dtype: int64"
      ]
     },
     "execution_count": 667,
     "metadata": {},
     "output_type": "execute_result"
    }
   ],
   "source": [
    "year"
   ]
  },
  {
   "cell_type": "code",
   "execution_count": 668,
   "id": "9996fded",
   "metadata": {},
   "outputs": [],
   "source": [
    "rng = pd.date_range('2000-01-01', periods=100, freq='D')"
   ]
  },
  {
   "cell_type": "code",
   "execution_count": 669,
   "id": "17f50652",
   "metadata": {},
   "outputs": [
    {
     "data": {
      "text/plain": [
       "DatetimeIndex(['2000-01-01', '2000-01-02', '2000-01-03', '2000-01-04',\n",
       "               '2000-01-05', '2000-01-06', '2000-01-07', '2000-01-08',\n",
       "               '2000-01-09', '2000-01-10', '2000-01-11', '2000-01-12',\n",
       "               '2000-01-13', '2000-01-14', '2000-01-15', '2000-01-16',\n",
       "               '2000-01-17', '2000-01-18', '2000-01-19', '2000-01-20',\n",
       "               '2000-01-21', '2000-01-22', '2000-01-23', '2000-01-24',\n",
       "               '2000-01-25', '2000-01-26', '2000-01-27', '2000-01-28',\n",
       "               '2000-01-29', '2000-01-30', '2000-01-31', '2000-02-01',\n",
       "               '2000-02-02', '2000-02-03', '2000-02-04', '2000-02-05',\n",
       "               '2000-02-06', '2000-02-07', '2000-02-08', '2000-02-09',\n",
       "               '2000-02-10', '2000-02-11', '2000-02-12', '2000-02-13',\n",
       "               '2000-02-14', '2000-02-15', '2000-02-16', '2000-02-17',\n",
       "               '2000-02-18', '2000-02-19', '2000-02-20', '2000-02-21',\n",
       "               '2000-02-22', '2000-02-23', '2000-02-24', '2000-02-25',\n",
       "               '2000-02-26', '2000-02-27', '2000-02-28', '2000-02-29',\n",
       "               '2000-03-01', '2000-03-02', '2000-03-03', '2000-03-04',\n",
       "               '2000-03-05', '2000-03-06', '2000-03-07', '2000-03-08',\n",
       "               '2000-03-09', '2000-03-10', '2000-03-11', '2000-03-12',\n",
       "               '2000-03-13', '2000-03-14', '2000-03-15', '2000-03-16',\n",
       "               '2000-03-17', '2000-03-18', '2000-03-19', '2000-03-20',\n",
       "               '2000-03-21', '2000-03-22', '2000-03-23', '2000-03-24',\n",
       "               '2000-03-25', '2000-03-26', '2000-03-27', '2000-03-28',\n",
       "               '2000-03-29', '2000-03-30', '2000-03-31', '2000-04-01',\n",
       "               '2000-04-02', '2000-04-03', '2000-04-04', '2000-04-05',\n",
       "               '2000-04-06', '2000-04-07', '2000-04-08', '2000-04-09'],\n",
       "              dtype='datetime64[ns]', freq='D')"
      ]
     },
     "execution_count": 669,
     "metadata": {},
     "output_type": "execute_result"
    }
   ],
   "source": [
    "rng"
   ]
  },
  {
   "cell_type": "code",
   "execution_count": 670,
   "id": "1345d9c7",
   "metadata": {},
   "outputs": [],
   "source": [
    "ts = pd.Series(np.random.randn(len(rng)), index=rng)"
   ]
  },
  {
   "cell_type": "code",
   "execution_count": 671,
   "id": "c1acafa7",
   "metadata": {},
   "outputs": [
    {
     "data": {
      "text/plain": [
       "2000-01-01   -0.082315\n",
       "2000-01-02    0.000885\n",
       "2000-01-03   -0.934279\n",
       "2000-01-04   -0.228177\n",
       "2000-01-05    1.443534\n",
       "                ...   \n",
       "2000-04-05   -0.026759\n",
       "2000-04-06    1.971764\n",
       "2000-04-07   -0.104328\n",
       "2000-04-08   -1.626647\n",
       "2000-04-09    0.600250\n",
       "Freq: D, Length: 100, dtype: float64"
      ]
     },
     "execution_count": 671,
     "metadata": {},
     "output_type": "execute_result"
    }
   ],
   "source": [
    "ts"
   ]
  },
  {
   "cell_type": "code",
   "execution_count": 672,
   "id": "0f89023a",
   "metadata": {},
   "outputs": [
    {
     "data": {
      "text/plain": [
       "2000-01-31   -0.221192\n",
       "2000-02-29    0.161404\n",
       "2000-03-31   -0.102247\n",
       "2000-04-30   -0.005224\n",
       "Freq: M, dtype: float64"
      ]
     },
     "execution_count": 672,
     "metadata": {},
     "output_type": "execute_result"
    }
   ],
   "source": [
    "ts.resample('M').mean() # 按照月向下采样 然后使用mean聚合函数"
   ]
  },
  {
   "cell_type": "code",
   "execution_count": 673,
   "id": "d09404f4",
   "metadata": {},
   "outputs": [
    {
     "data": {
      "text/plain": [
       "2000-01   -0.221192\n",
       "2000-02    0.161404\n",
       "2000-03   -0.102247\n",
       "2000-04   -0.005224\n",
       "Freq: M, dtype: float64"
      ]
     },
     "execution_count": 673,
     "metadata": {},
     "output_type": "execute_result"
    }
   ],
   "source": [
    "ts.resample('M', kind='period').mean()"
   ]
  },
  {
   "cell_type": "code",
   "execution_count": 674,
   "id": "05940561",
   "metadata": {},
   "outputs": [],
   "source": [
    "rng = pd.date_range('2000-01-01', periods=12, freq='T')"
   ]
  },
  {
   "cell_type": "code",
   "execution_count": 675,
   "id": "8f16e95c",
   "metadata": {},
   "outputs": [
    {
     "data": {
      "text/plain": [
       "DatetimeIndex(['2000-01-01 00:00:00', '2000-01-01 00:01:00',\n",
       "               '2000-01-01 00:02:00', '2000-01-01 00:03:00',\n",
       "               '2000-01-01 00:04:00', '2000-01-01 00:05:00',\n",
       "               '2000-01-01 00:06:00', '2000-01-01 00:07:00',\n",
       "               '2000-01-01 00:08:00', '2000-01-01 00:09:00',\n",
       "               '2000-01-01 00:10:00', '2000-01-01 00:11:00'],\n",
       "              dtype='datetime64[ns]', freq='T')"
      ]
     },
     "execution_count": 675,
     "metadata": {},
     "output_type": "execute_result"
    }
   ],
   "source": [
    "rng"
   ]
  },
  {
   "cell_type": "code",
   "execution_count": 676,
   "id": "515aebe3",
   "metadata": {},
   "outputs": [],
   "source": [
    "ts = pd.Series(np.arange(12), index=rng)"
   ]
  },
  {
   "cell_type": "code",
   "execution_count": 677,
   "id": "7dbfd04c",
   "metadata": {},
   "outputs": [
    {
     "data": {
      "text/plain": [
       "2000-01-01 00:00:00     0\n",
       "2000-01-01 00:01:00     1\n",
       "2000-01-01 00:02:00     2\n",
       "2000-01-01 00:03:00     3\n",
       "2000-01-01 00:04:00     4\n",
       "2000-01-01 00:05:00     5\n",
       "2000-01-01 00:06:00     6\n",
       "2000-01-01 00:07:00     7\n",
       "2000-01-01 00:08:00     8\n",
       "2000-01-01 00:09:00     9\n",
       "2000-01-01 00:10:00    10\n",
       "2000-01-01 00:11:00    11\n",
       "Freq: T, dtype: int32"
      ]
     },
     "execution_count": 677,
     "metadata": {},
     "output_type": "execute_result"
    }
   ],
   "source": [
    "ts"
   ]
  },
  {
   "cell_type": "code",
   "execution_count": 678,
   "id": "f1f72d2c",
   "metadata": {},
   "outputs": [
    {
     "data": {
      "text/plain": [
       "1999-12-31 23:55:00     0.0\n",
       "2000-01-01 00:00:00     3.0\n",
       "2000-01-01 00:05:00     8.0\n",
       "2000-01-01 00:10:00    11.0\n",
       "Freq: 5T, dtype: float64"
      ]
     },
     "execution_count": 678,
     "metadata": {},
     "output_type": "execute_result"
    }
   ],
   "source": [
    "ts.resample('5min', closed='right', label='left').mean()"
   ]
  },
  {
   "cell_type": "code",
   "execution_count": 679,
   "id": "d6082f7d",
   "metadata": {},
   "outputs": [
    {
     "data": {
      "text/plain": [
       "2000-01-01 00:01:00     0\n",
       "2000-01-01 00:02:00     1\n",
       "2000-01-01 00:03:00     2\n",
       "2000-01-01 00:04:00     3\n",
       "2000-01-01 00:05:00     4\n",
       "2000-01-01 00:06:00     5\n",
       "2000-01-01 00:07:00     6\n",
       "2000-01-01 00:08:00     7\n",
       "2000-01-01 00:09:00     8\n",
       "2000-01-01 00:10:00     9\n",
       "2000-01-01 00:11:00    10\n",
       "2000-01-01 00:12:00    11\n",
       "Freq: T, dtype: int32"
      ]
     },
     "execution_count": 679,
     "metadata": {},
     "output_type": "execute_result"
    }
   ],
   "source": [
    "ts.resample('1min', closed='left', label='right').sum()"
   ]
  },
  {
   "cell_type": "code",
   "execution_count": 680,
   "id": "245ac05b",
   "metadata": {},
   "outputs": [
    {
     "name": "stderr",
     "output_type": "stream",
     "text": [
      "C:\\Users\\zhaolei\\AppData\\Local\\Temp/ipykernel_29180/649735751.py:1: FutureWarning: 'loffset' in .resample() and in Grouper() is deprecated.\n",
      "\n",
      ">>> df.resample(freq=\"3s\", loffset=\"8H\")\n",
      "\n",
      "becomes:\n",
      "\n",
      ">>> from pandas.tseries.frequencies import to_offset\n",
      ">>> df = df.resample(freq=\"3s\").mean()\n",
      ">>> df.index = df.index.to_timestamp() + to_offset(\"8H\")\n",
      "\n",
      "  ts.resample('5min', closed='right', label='right', loffset='-1s').sum()\n"
     ]
    },
    {
     "data": {
      "text/plain": [
       "1999-12-31 23:59:59     0\n",
       "2000-01-01 00:04:59    15\n",
       "2000-01-01 00:09:59    40\n",
       "2000-01-01 00:14:59    11\n",
       "Freq: 5T, dtype: int32"
      ]
     },
     "execution_count": 680,
     "metadata": {},
     "output_type": "execute_result"
    }
   ],
   "source": [
    "ts.resample('5min', closed='right', label='right', loffset='-1s').sum()"
   ]
  },
  {
   "cell_type": "code",
   "execution_count": 681,
   "id": "a9433e5d",
   "metadata": {},
   "outputs": [
    {
     "data": {
      "text/plain": [
       "1999-12-31 23:59:59     0\n",
       "2000-01-01 00:04:59    15\n",
       "2000-01-01 00:09:59    40\n",
       "2000-01-01 00:14:59    11\n",
       "Freq: 5T, dtype: int32"
      ]
     },
     "execution_count": 681,
     "metadata": {},
     "output_type": "execute_result"
    }
   ],
   "source": [
    "ts.resample('5min', closed='right', label='right').sum().shift(-1, 'S')"
   ]
  },
  {
   "cell_type": "code",
   "execution_count": 682,
   "id": "6f14786d",
   "metadata": {},
   "outputs": [
    {
     "data": {
      "text/html": [
       "<div>\n",
       "<style scoped>\n",
       "    .dataframe tbody tr th:only-of-type {\n",
       "        vertical-align: middle;\n",
       "    }\n",
       "\n",
       "    .dataframe tbody tr th {\n",
       "        vertical-align: top;\n",
       "    }\n",
       "\n",
       "    .dataframe thead th {\n",
       "        text-align: right;\n",
       "    }\n",
       "</style>\n",
       "<table border=\"1\" class=\"dataframe\">\n",
       "  <thead>\n",
       "    <tr style=\"text-align: right;\">\n",
       "      <th></th>\n",
       "      <th>open</th>\n",
       "      <th>high</th>\n",
       "      <th>low</th>\n",
       "      <th>close</th>\n",
       "    </tr>\n",
       "  </thead>\n",
       "  <tbody>\n",
       "    <tr>\n",
       "      <th>2000-01-01 00:00:00</th>\n",
       "      <td>0</td>\n",
       "      <td>0</td>\n",
       "      <td>0</td>\n",
       "      <td>0</td>\n",
       "    </tr>\n",
       "    <tr>\n",
       "      <th>2000-01-01 00:05:00</th>\n",
       "      <td>1</td>\n",
       "      <td>5</td>\n",
       "      <td>1</td>\n",
       "      <td>5</td>\n",
       "    </tr>\n",
       "    <tr>\n",
       "      <th>2000-01-01 00:10:00</th>\n",
       "      <td>6</td>\n",
       "      <td>10</td>\n",
       "      <td>6</td>\n",
       "      <td>10</td>\n",
       "    </tr>\n",
       "    <tr>\n",
       "      <th>2000-01-01 00:15:00</th>\n",
       "      <td>11</td>\n",
       "      <td>11</td>\n",
       "      <td>11</td>\n",
       "      <td>11</td>\n",
       "    </tr>\n",
       "  </tbody>\n",
       "</table>\n",
       "</div>"
      ],
      "text/plain": [
       "                     open  high  low  close\n",
       "2000-01-01 00:00:00     0     0    0      0\n",
       "2000-01-01 00:05:00     1     5    1      5\n",
       "2000-01-01 00:10:00     6    10    6     10\n",
       "2000-01-01 00:15:00    11    11   11     11"
      ]
     },
     "execution_count": 682,
     "metadata": {},
     "output_type": "execute_result"
    }
   ],
   "source": [
    "ts.resample('5min', closed='right', label='right').ohlc() # 聚合函数 用于生成开始 结束 最高 最低 四个值"
   ]
  },
  {
   "cell_type": "code",
   "execution_count": 683,
   "id": "d6d66530",
   "metadata": {},
   "outputs": [],
   "source": [
    "frame = pd.DataFrame(np.random.randn(2, 4),\n",
    "                    index=pd.date_range('1/1/2000', periods=2,\n",
    "                                       freq='W-WED'),\n",
    "                    columns=['Colorado', 'Texas', 'New York', 'Ohio'])"
   ]
  },
  {
   "cell_type": "code",
   "execution_count": 684,
   "id": "7e68c9d3",
   "metadata": {},
   "outputs": [
    {
     "data": {
      "text/html": [
       "<div>\n",
       "<style scoped>\n",
       "    .dataframe tbody tr th:only-of-type {\n",
       "        vertical-align: middle;\n",
       "    }\n",
       "\n",
       "    .dataframe tbody tr th {\n",
       "        vertical-align: top;\n",
       "    }\n",
       "\n",
       "    .dataframe thead th {\n",
       "        text-align: right;\n",
       "    }\n",
       "</style>\n",
       "<table border=\"1\" class=\"dataframe\">\n",
       "  <thead>\n",
       "    <tr style=\"text-align: right;\">\n",
       "      <th></th>\n",
       "      <th>Colorado</th>\n",
       "      <th>Texas</th>\n",
       "      <th>New York</th>\n",
       "      <th>Ohio</th>\n",
       "    </tr>\n",
       "  </thead>\n",
       "  <tbody>\n",
       "    <tr>\n",
       "      <th>2000-01-05</th>\n",
       "      <td>-1.742216</td>\n",
       "      <td>0.183349</td>\n",
       "      <td>0.515472</td>\n",
       "      <td>-1.362250</td>\n",
       "    </tr>\n",
       "    <tr>\n",
       "      <th>2000-01-12</th>\n",
       "      <td>0.812571</td>\n",
       "      <td>-0.135668</td>\n",
       "      <td>2.191437</td>\n",
       "      <td>-1.698932</td>\n",
       "    </tr>\n",
       "  </tbody>\n",
       "</table>\n",
       "</div>"
      ],
      "text/plain": [
       "            Colorado     Texas  New York      Ohio\n",
       "2000-01-05 -1.742216  0.183349  0.515472 -1.362250\n",
       "2000-01-12  0.812571 -0.135668  2.191437 -1.698932"
      ]
     },
     "execution_count": 684,
     "metadata": {},
     "output_type": "execute_result"
    }
   ],
   "source": [
    "frame"
   ]
  },
  {
   "cell_type": "code",
   "execution_count": 685,
   "id": "5d59c346",
   "metadata": {},
   "outputs": [],
   "source": [
    "df_daily = frame.resample('D').asfreq()"
   ]
  },
  {
   "cell_type": "code",
   "execution_count": 686,
   "id": "a17e8a7f",
   "metadata": {},
   "outputs": [
    {
     "data": {
      "text/html": [
       "<div>\n",
       "<style scoped>\n",
       "    .dataframe tbody tr th:only-of-type {\n",
       "        vertical-align: middle;\n",
       "    }\n",
       "\n",
       "    .dataframe tbody tr th {\n",
       "        vertical-align: top;\n",
       "    }\n",
       "\n",
       "    .dataframe thead th {\n",
       "        text-align: right;\n",
       "    }\n",
       "</style>\n",
       "<table border=\"1\" class=\"dataframe\">\n",
       "  <thead>\n",
       "    <tr style=\"text-align: right;\">\n",
       "      <th></th>\n",
       "      <th>Colorado</th>\n",
       "      <th>Texas</th>\n",
       "      <th>New York</th>\n",
       "      <th>Ohio</th>\n",
       "    </tr>\n",
       "  </thead>\n",
       "  <tbody>\n",
       "    <tr>\n",
       "      <th>2000-01-05</th>\n",
       "      <td>-1.742216</td>\n",
       "      <td>0.183349</td>\n",
       "      <td>0.515472</td>\n",
       "      <td>-1.362250</td>\n",
       "    </tr>\n",
       "    <tr>\n",
       "      <th>2000-01-06</th>\n",
       "      <td>NaN</td>\n",
       "      <td>NaN</td>\n",
       "      <td>NaN</td>\n",
       "      <td>NaN</td>\n",
       "    </tr>\n",
       "    <tr>\n",
       "      <th>2000-01-07</th>\n",
       "      <td>NaN</td>\n",
       "      <td>NaN</td>\n",
       "      <td>NaN</td>\n",
       "      <td>NaN</td>\n",
       "    </tr>\n",
       "    <tr>\n",
       "      <th>2000-01-08</th>\n",
       "      <td>NaN</td>\n",
       "      <td>NaN</td>\n",
       "      <td>NaN</td>\n",
       "      <td>NaN</td>\n",
       "    </tr>\n",
       "    <tr>\n",
       "      <th>2000-01-09</th>\n",
       "      <td>NaN</td>\n",
       "      <td>NaN</td>\n",
       "      <td>NaN</td>\n",
       "      <td>NaN</td>\n",
       "    </tr>\n",
       "    <tr>\n",
       "      <th>2000-01-10</th>\n",
       "      <td>NaN</td>\n",
       "      <td>NaN</td>\n",
       "      <td>NaN</td>\n",
       "      <td>NaN</td>\n",
       "    </tr>\n",
       "    <tr>\n",
       "      <th>2000-01-11</th>\n",
       "      <td>NaN</td>\n",
       "      <td>NaN</td>\n",
       "      <td>NaN</td>\n",
       "      <td>NaN</td>\n",
       "    </tr>\n",
       "    <tr>\n",
       "      <th>2000-01-12</th>\n",
       "      <td>0.812571</td>\n",
       "      <td>-0.135668</td>\n",
       "      <td>2.191437</td>\n",
       "      <td>-1.698932</td>\n",
       "    </tr>\n",
       "  </tbody>\n",
       "</table>\n",
       "</div>"
      ],
      "text/plain": [
       "            Colorado     Texas  New York      Ohio\n",
       "2000-01-05 -1.742216  0.183349  0.515472 -1.362250\n",
       "2000-01-06       NaN       NaN       NaN       NaN\n",
       "2000-01-07       NaN       NaN       NaN       NaN\n",
       "2000-01-08       NaN       NaN       NaN       NaN\n",
       "2000-01-09       NaN       NaN       NaN       NaN\n",
       "2000-01-10       NaN       NaN       NaN       NaN\n",
       "2000-01-11       NaN       NaN       NaN       NaN\n",
       "2000-01-12  0.812571 -0.135668  2.191437 -1.698932"
      ]
     },
     "execution_count": 686,
     "metadata": {},
     "output_type": "execute_result"
    }
   ],
   "source": [
    "df_daily"
   ]
  },
  {
   "cell_type": "code",
   "execution_count": 687,
   "id": "49d45f55",
   "metadata": {},
   "outputs": [
    {
     "data": {
      "text/html": [
       "<div>\n",
       "<style scoped>\n",
       "    .dataframe tbody tr th:only-of-type {\n",
       "        vertical-align: middle;\n",
       "    }\n",
       "\n",
       "    .dataframe tbody tr th {\n",
       "        vertical-align: top;\n",
       "    }\n",
       "\n",
       "    .dataframe thead th {\n",
       "        text-align: right;\n",
       "    }\n",
       "</style>\n",
       "<table border=\"1\" class=\"dataframe\">\n",
       "  <thead>\n",
       "    <tr style=\"text-align: right;\">\n",
       "      <th></th>\n",
       "      <th>Colorado</th>\n",
       "      <th>Texas</th>\n",
       "      <th>New York</th>\n",
       "      <th>Ohio</th>\n",
       "    </tr>\n",
       "  </thead>\n",
       "  <tbody>\n",
       "    <tr>\n",
       "      <th>2000-01-05</th>\n",
       "      <td>-1.742216</td>\n",
       "      <td>0.183349</td>\n",
       "      <td>0.515472</td>\n",
       "      <td>-1.362250</td>\n",
       "    </tr>\n",
       "    <tr>\n",
       "      <th>2000-01-06</th>\n",
       "      <td>-1.742216</td>\n",
       "      <td>0.183349</td>\n",
       "      <td>0.515472</td>\n",
       "      <td>-1.362250</td>\n",
       "    </tr>\n",
       "    <tr>\n",
       "      <th>2000-01-07</th>\n",
       "      <td>-1.742216</td>\n",
       "      <td>0.183349</td>\n",
       "      <td>0.515472</td>\n",
       "      <td>-1.362250</td>\n",
       "    </tr>\n",
       "    <tr>\n",
       "      <th>2000-01-08</th>\n",
       "      <td>-1.742216</td>\n",
       "      <td>0.183349</td>\n",
       "      <td>0.515472</td>\n",
       "      <td>-1.362250</td>\n",
       "    </tr>\n",
       "    <tr>\n",
       "      <th>2000-01-09</th>\n",
       "      <td>-1.742216</td>\n",
       "      <td>0.183349</td>\n",
       "      <td>0.515472</td>\n",
       "      <td>-1.362250</td>\n",
       "    </tr>\n",
       "    <tr>\n",
       "      <th>2000-01-10</th>\n",
       "      <td>-1.742216</td>\n",
       "      <td>0.183349</td>\n",
       "      <td>0.515472</td>\n",
       "      <td>-1.362250</td>\n",
       "    </tr>\n",
       "    <tr>\n",
       "      <th>2000-01-11</th>\n",
       "      <td>-1.742216</td>\n",
       "      <td>0.183349</td>\n",
       "      <td>0.515472</td>\n",
       "      <td>-1.362250</td>\n",
       "    </tr>\n",
       "    <tr>\n",
       "      <th>2000-01-12</th>\n",
       "      <td>0.812571</td>\n",
       "      <td>-0.135668</td>\n",
       "      <td>2.191437</td>\n",
       "      <td>-1.698932</td>\n",
       "    </tr>\n",
       "  </tbody>\n",
       "</table>\n",
       "</div>"
      ],
      "text/plain": [
       "            Colorado     Texas  New York      Ohio\n",
       "2000-01-05 -1.742216  0.183349  0.515472 -1.362250\n",
       "2000-01-06 -1.742216  0.183349  0.515472 -1.362250\n",
       "2000-01-07 -1.742216  0.183349  0.515472 -1.362250\n",
       "2000-01-08 -1.742216  0.183349  0.515472 -1.362250\n",
       "2000-01-09 -1.742216  0.183349  0.515472 -1.362250\n",
       "2000-01-10 -1.742216  0.183349  0.515472 -1.362250\n",
       "2000-01-11 -1.742216  0.183349  0.515472 -1.362250\n",
       "2000-01-12  0.812571 -0.135668  2.191437 -1.698932"
      ]
     },
     "execution_count": 687,
     "metadata": {},
     "output_type": "execute_result"
    }
   ],
   "source": [
    "frame.resample('D').ffill()"
   ]
  },
  {
   "cell_type": "code",
   "execution_count": 688,
   "id": "69fc6a2a",
   "metadata": {},
   "outputs": [
    {
     "data": {
      "text/html": [
       "<div>\n",
       "<style scoped>\n",
       "    .dataframe tbody tr th:only-of-type {\n",
       "        vertical-align: middle;\n",
       "    }\n",
       "\n",
       "    .dataframe tbody tr th {\n",
       "        vertical-align: top;\n",
       "    }\n",
       "\n",
       "    .dataframe thead th {\n",
       "        text-align: right;\n",
       "    }\n",
       "</style>\n",
       "<table border=\"1\" class=\"dataframe\">\n",
       "  <thead>\n",
       "    <tr style=\"text-align: right;\">\n",
       "      <th></th>\n",
       "      <th>Colorado</th>\n",
       "      <th>Texas</th>\n",
       "      <th>New York</th>\n",
       "      <th>Ohio</th>\n",
       "    </tr>\n",
       "  </thead>\n",
       "  <tbody>\n",
       "    <tr>\n",
       "      <th>2000-01-05</th>\n",
       "      <td>-1.742216</td>\n",
       "      <td>0.183349</td>\n",
       "      <td>0.515472</td>\n",
       "      <td>-1.362250</td>\n",
       "    </tr>\n",
       "    <tr>\n",
       "      <th>2000-01-06</th>\n",
       "      <td>-1.742216</td>\n",
       "      <td>0.183349</td>\n",
       "      <td>0.515472</td>\n",
       "      <td>-1.362250</td>\n",
       "    </tr>\n",
       "    <tr>\n",
       "      <th>2000-01-07</th>\n",
       "      <td>-1.742216</td>\n",
       "      <td>0.183349</td>\n",
       "      <td>0.515472</td>\n",
       "      <td>-1.362250</td>\n",
       "    </tr>\n",
       "    <tr>\n",
       "      <th>2000-01-08</th>\n",
       "      <td>NaN</td>\n",
       "      <td>NaN</td>\n",
       "      <td>NaN</td>\n",
       "      <td>NaN</td>\n",
       "    </tr>\n",
       "    <tr>\n",
       "      <th>2000-01-09</th>\n",
       "      <td>NaN</td>\n",
       "      <td>NaN</td>\n",
       "      <td>NaN</td>\n",
       "      <td>NaN</td>\n",
       "    </tr>\n",
       "    <tr>\n",
       "      <th>2000-01-10</th>\n",
       "      <td>NaN</td>\n",
       "      <td>NaN</td>\n",
       "      <td>NaN</td>\n",
       "      <td>NaN</td>\n",
       "    </tr>\n",
       "    <tr>\n",
       "      <th>2000-01-11</th>\n",
       "      <td>NaN</td>\n",
       "      <td>NaN</td>\n",
       "      <td>NaN</td>\n",
       "      <td>NaN</td>\n",
       "    </tr>\n",
       "    <tr>\n",
       "      <th>2000-01-12</th>\n",
       "      <td>0.812571</td>\n",
       "      <td>-0.135668</td>\n",
       "      <td>2.191437</td>\n",
       "      <td>-1.698932</td>\n",
       "    </tr>\n",
       "  </tbody>\n",
       "</table>\n",
       "</div>"
      ],
      "text/plain": [
       "            Colorado     Texas  New York      Ohio\n",
       "2000-01-05 -1.742216  0.183349  0.515472 -1.362250\n",
       "2000-01-06 -1.742216  0.183349  0.515472 -1.362250\n",
       "2000-01-07 -1.742216  0.183349  0.515472 -1.362250\n",
       "2000-01-08       NaN       NaN       NaN       NaN\n",
       "2000-01-09       NaN       NaN       NaN       NaN\n",
       "2000-01-10       NaN       NaN       NaN       NaN\n",
       "2000-01-11       NaN       NaN       NaN       NaN\n",
       "2000-01-12  0.812571 -0.135668  2.191437 -1.698932"
      ]
     },
     "execution_count": 688,
     "metadata": {},
     "output_type": "execute_result"
    }
   ],
   "source": [
    "frame.resample('D').ffill(limit=2)"
   ]
  },
  {
   "cell_type": "code",
   "execution_count": 689,
   "id": "2def9ab4",
   "metadata": {},
   "outputs": [
    {
     "data": {
      "text/html": [
       "<div>\n",
       "<style scoped>\n",
       "    .dataframe tbody tr th:only-of-type {\n",
       "        vertical-align: middle;\n",
       "    }\n",
       "\n",
       "    .dataframe tbody tr th {\n",
       "        vertical-align: top;\n",
       "    }\n",
       "\n",
       "    .dataframe thead th {\n",
       "        text-align: right;\n",
       "    }\n",
       "</style>\n",
       "<table border=\"1\" class=\"dataframe\">\n",
       "  <thead>\n",
       "    <tr style=\"text-align: right;\">\n",
       "      <th></th>\n",
       "      <th>Colorado</th>\n",
       "      <th>Texas</th>\n",
       "      <th>New York</th>\n",
       "      <th>Ohio</th>\n",
       "    </tr>\n",
       "  </thead>\n",
       "  <tbody>\n",
       "    <tr>\n",
       "      <th>2000-01-06</th>\n",
       "      <td>-1.742216</td>\n",
       "      <td>0.183349</td>\n",
       "      <td>0.515472</td>\n",
       "      <td>-1.362250</td>\n",
       "    </tr>\n",
       "    <tr>\n",
       "      <th>2000-01-13</th>\n",
       "      <td>0.812571</td>\n",
       "      <td>-0.135668</td>\n",
       "      <td>2.191437</td>\n",
       "      <td>-1.698932</td>\n",
       "    </tr>\n",
       "  </tbody>\n",
       "</table>\n",
       "</div>"
      ],
      "text/plain": [
       "            Colorado     Texas  New York      Ohio\n",
       "2000-01-06 -1.742216  0.183349  0.515472 -1.362250\n",
       "2000-01-13  0.812571 -0.135668  2.191437 -1.698932"
      ]
     },
     "execution_count": 689,
     "metadata": {},
     "output_type": "execute_result"
    }
   ],
   "source": [
    "frame.resample('W-THU').ffill()"
   ]
  },
  {
   "cell_type": "code",
   "execution_count": 690,
   "id": "e1afff1b",
   "metadata": {},
   "outputs": [
    {
     "data": {
      "text/html": [
       "<div>\n",
       "<style scoped>\n",
       "    .dataframe tbody tr th:only-of-type {\n",
       "        vertical-align: middle;\n",
       "    }\n",
       "\n",
       "    .dataframe tbody tr th {\n",
       "        vertical-align: top;\n",
       "    }\n",
       "\n",
       "    .dataframe thead th {\n",
       "        text-align: right;\n",
       "    }\n",
       "</style>\n",
       "<table border=\"1\" class=\"dataframe\">\n",
       "  <thead>\n",
       "    <tr style=\"text-align: right;\">\n",
       "      <th></th>\n",
       "      <th>Colorado</th>\n",
       "      <th>Texas</th>\n",
       "      <th>New York</th>\n",
       "      <th>Ohio</th>\n",
       "    </tr>\n",
       "  </thead>\n",
       "  <tbody>\n",
       "    <tr>\n",
       "      <th>2000-01-06</th>\n",
       "      <td>-1.742216</td>\n",
       "      <td>0.183349</td>\n",
       "      <td>0.515472</td>\n",
       "      <td>-1.362250</td>\n",
       "    </tr>\n",
       "    <tr>\n",
       "      <th>2000-01-13</th>\n",
       "      <td>0.812571</td>\n",
       "      <td>-0.135668</td>\n",
       "      <td>2.191437</td>\n",
       "      <td>-1.698932</td>\n",
       "    </tr>\n",
       "  </tbody>\n",
       "</table>\n",
       "</div>"
      ],
      "text/plain": [
       "            Colorado     Texas  New York      Ohio\n",
       "2000-01-06 -1.742216  0.183349  0.515472 -1.362250\n",
       "2000-01-13  0.812571 -0.135668  2.191437 -1.698932"
      ]
     },
     "execution_count": 690,
     "metadata": {},
     "output_type": "execute_result"
    }
   ],
   "source": [
    "frame.resample('W-THU').mean()"
   ]
  },
  {
   "cell_type": "code",
   "execution_count": 691,
   "id": "5359833a",
   "metadata": {},
   "outputs": [],
   "source": [
    "# 使用period区间进行重新采样\n",
    "frame = pd.DataFrame(np.random.randn(24, 4),\n",
    "                    index=pd.period_range('1-2000', '12-2001', freq='M'),\n",
    "                    columns=['Colorado', 'Texas', 'New York', 'Ohio'])"
   ]
  },
  {
   "cell_type": "code",
   "execution_count": 692,
   "id": "91641c47",
   "metadata": {},
   "outputs": [
    {
     "data": {
      "text/html": [
       "<div>\n",
       "<style scoped>\n",
       "    .dataframe tbody tr th:only-of-type {\n",
       "        vertical-align: middle;\n",
       "    }\n",
       "\n",
       "    .dataframe tbody tr th {\n",
       "        vertical-align: top;\n",
       "    }\n",
       "\n",
       "    .dataframe thead th {\n",
       "        text-align: right;\n",
       "    }\n",
       "</style>\n",
       "<table border=\"1\" class=\"dataframe\">\n",
       "  <thead>\n",
       "    <tr style=\"text-align: right;\">\n",
       "      <th></th>\n",
       "      <th>Colorado</th>\n",
       "      <th>Texas</th>\n",
       "      <th>New York</th>\n",
       "      <th>Ohio</th>\n",
       "    </tr>\n",
       "  </thead>\n",
       "  <tbody>\n",
       "    <tr>\n",
       "      <th>2000-01</th>\n",
       "      <td>0.204866</td>\n",
       "      <td>-0.244962</td>\n",
       "      <td>-0.984873</td>\n",
       "      <td>1.986051</td>\n",
       "    </tr>\n",
       "    <tr>\n",
       "      <th>2000-02</th>\n",
       "      <td>0.238704</td>\n",
       "      <td>-0.944444</td>\n",
       "      <td>-0.741541</td>\n",
       "      <td>0.610210</td>\n",
       "    </tr>\n",
       "    <tr>\n",
       "      <th>2000-03</th>\n",
       "      <td>-0.469340</td>\n",
       "      <td>-1.171231</td>\n",
       "      <td>0.970922</td>\n",
       "      <td>-0.071799</td>\n",
       "    </tr>\n",
       "    <tr>\n",
       "      <th>2000-04</th>\n",
       "      <td>-0.598728</td>\n",
       "      <td>-0.745714</td>\n",
       "      <td>1.219769</td>\n",
       "      <td>-1.828258</td>\n",
       "    </tr>\n",
       "    <tr>\n",
       "      <th>2000-05</th>\n",
       "      <td>0.705699</td>\n",
       "      <td>-1.232511</td>\n",
       "      <td>-0.927379</td>\n",
       "      <td>-1.274875</td>\n",
       "    </tr>\n",
       "    <tr>\n",
       "      <th>2000-06</th>\n",
       "      <td>1.648706</td>\n",
       "      <td>-0.595390</td>\n",
       "      <td>0.179179</td>\n",
       "      <td>0.515397</td>\n",
       "    </tr>\n",
       "    <tr>\n",
       "      <th>2000-07</th>\n",
       "      <td>0.038607</td>\n",
       "      <td>0.490923</td>\n",
       "      <td>-0.114176</td>\n",
       "      <td>-1.969891</td>\n",
       "    </tr>\n",
       "    <tr>\n",
       "      <th>2000-08</th>\n",
       "      <td>0.258799</td>\n",
       "      <td>-0.239241</td>\n",
       "      <td>0.224461</td>\n",
       "      <td>-0.102257</td>\n",
       "    </tr>\n",
       "    <tr>\n",
       "      <th>2000-09</th>\n",
       "      <td>-0.620724</td>\n",
       "      <td>-0.164456</td>\n",
       "      <td>0.900968</td>\n",
       "      <td>0.528511</td>\n",
       "    </tr>\n",
       "    <tr>\n",
       "      <th>2000-10</th>\n",
       "      <td>1.247615</td>\n",
       "      <td>-0.470984</td>\n",
       "      <td>-0.237720</td>\n",
       "      <td>1.126974</td>\n",
       "    </tr>\n",
       "    <tr>\n",
       "      <th>2000-11</th>\n",
       "      <td>0.644313</td>\n",
       "      <td>0.592275</td>\n",
       "      <td>-1.389211</td>\n",
       "      <td>-0.376285</td>\n",
       "    </tr>\n",
       "    <tr>\n",
       "      <th>2000-12</th>\n",
       "      <td>1.561129</td>\n",
       "      <td>0.912883</td>\n",
       "      <td>-0.439596</td>\n",
       "      <td>1.919201</td>\n",
       "    </tr>\n",
       "    <tr>\n",
       "      <th>2001-01</th>\n",
       "      <td>0.453277</td>\n",
       "      <td>-0.143370</td>\n",
       "      <td>-0.514144</td>\n",
       "      <td>-0.173965</td>\n",
       "    </tr>\n",
       "    <tr>\n",
       "      <th>2001-02</th>\n",
       "      <td>0.828390</td>\n",
       "      <td>0.088319</td>\n",
       "      <td>-1.482284</td>\n",
       "      <td>0.759591</td>\n",
       "    </tr>\n",
       "    <tr>\n",
       "      <th>2001-03</th>\n",
       "      <td>0.106441</td>\n",
       "      <td>0.399604</td>\n",
       "      <td>0.045165</td>\n",
       "      <td>-0.854533</td>\n",
       "    </tr>\n",
       "    <tr>\n",
       "      <th>2001-04</th>\n",
       "      <td>1.032440</td>\n",
       "      <td>1.258303</td>\n",
       "      <td>0.498190</td>\n",
       "      <td>-0.900774</td>\n",
       "    </tr>\n",
       "    <tr>\n",
       "      <th>2001-05</th>\n",
       "      <td>-1.186735</td>\n",
       "      <td>-0.408423</td>\n",
       "      <td>0.803861</td>\n",
       "      <td>-0.962630</td>\n",
       "    </tr>\n",
       "    <tr>\n",
       "      <th>2001-06</th>\n",
       "      <td>2.443648</td>\n",
       "      <td>-0.500566</td>\n",
       "      <td>0.602119</td>\n",
       "      <td>1.060760</td>\n",
       "    </tr>\n",
       "    <tr>\n",
       "      <th>2001-07</th>\n",
       "      <td>0.685708</td>\n",
       "      <td>-0.450793</td>\n",
       "      <td>1.564671</td>\n",
       "      <td>0.374940</td>\n",
       "    </tr>\n",
       "    <tr>\n",
       "      <th>2001-08</th>\n",
       "      <td>1.518688</td>\n",
       "      <td>0.489743</td>\n",
       "      <td>1.299598</td>\n",
       "      <td>0.025564</td>\n",
       "    </tr>\n",
       "    <tr>\n",
       "      <th>2001-09</th>\n",
       "      <td>0.948190</td>\n",
       "      <td>-1.064199</td>\n",
       "      <td>-1.716966</td>\n",
       "      <td>-0.134728</td>\n",
       "    </tr>\n",
       "    <tr>\n",
       "      <th>2001-10</th>\n",
       "      <td>0.113095</td>\n",
       "      <td>0.774198</td>\n",
       "      <td>-1.121499</td>\n",
       "      <td>1.589866</td>\n",
       "    </tr>\n",
       "    <tr>\n",
       "      <th>2001-11</th>\n",
       "      <td>-1.034403</td>\n",
       "      <td>-0.638792</td>\n",
       "      <td>-1.744674</td>\n",
       "      <td>0.060175</td>\n",
       "    </tr>\n",
       "    <tr>\n",
       "      <th>2001-12</th>\n",
       "      <td>0.014136</td>\n",
       "      <td>1.064359</td>\n",
       "      <td>-2.872558</td>\n",
       "      <td>-0.946015</td>\n",
       "    </tr>\n",
       "  </tbody>\n",
       "</table>\n",
       "</div>"
      ],
      "text/plain": [
       "         Colorado     Texas  New York      Ohio\n",
       "2000-01  0.204866 -0.244962 -0.984873  1.986051\n",
       "2000-02  0.238704 -0.944444 -0.741541  0.610210\n",
       "2000-03 -0.469340 -1.171231  0.970922 -0.071799\n",
       "2000-04 -0.598728 -0.745714  1.219769 -1.828258\n",
       "2000-05  0.705699 -1.232511 -0.927379 -1.274875\n",
       "2000-06  1.648706 -0.595390  0.179179  0.515397\n",
       "2000-07  0.038607  0.490923 -0.114176 -1.969891\n",
       "2000-08  0.258799 -0.239241  0.224461 -0.102257\n",
       "2000-09 -0.620724 -0.164456  0.900968  0.528511\n",
       "2000-10  1.247615 -0.470984 -0.237720  1.126974\n",
       "2000-11  0.644313  0.592275 -1.389211 -0.376285\n",
       "2000-12  1.561129  0.912883 -0.439596  1.919201\n",
       "2001-01  0.453277 -0.143370 -0.514144 -0.173965\n",
       "2001-02  0.828390  0.088319 -1.482284  0.759591\n",
       "2001-03  0.106441  0.399604  0.045165 -0.854533\n",
       "2001-04  1.032440  1.258303  0.498190 -0.900774\n",
       "2001-05 -1.186735 -0.408423  0.803861 -0.962630\n",
       "2001-06  2.443648 -0.500566  0.602119  1.060760\n",
       "2001-07  0.685708 -0.450793  1.564671  0.374940\n",
       "2001-08  1.518688  0.489743  1.299598  0.025564\n",
       "2001-09  0.948190 -1.064199 -1.716966 -0.134728\n",
       "2001-10  0.113095  0.774198 -1.121499  1.589866\n",
       "2001-11 -1.034403 -0.638792 -1.744674  0.060175\n",
       "2001-12  0.014136  1.064359 -2.872558 -0.946015"
      ]
     },
     "execution_count": 692,
     "metadata": {},
     "output_type": "execute_result"
    }
   ],
   "source": [
    "frame"
   ]
  },
  {
   "cell_type": "code",
   "execution_count": 693,
   "id": "6c6b6fcd",
   "metadata": {},
   "outputs": [],
   "source": [
    "annual_frame = frame.resample('A-DEC').mean()"
   ]
  },
  {
   "cell_type": "code",
   "execution_count": 694,
   "id": "52402bf9",
   "metadata": {},
   "outputs": [
    {
     "data": {
      "text/html": [
       "<div>\n",
       "<style scoped>\n",
       "    .dataframe tbody tr th:only-of-type {\n",
       "        vertical-align: middle;\n",
       "    }\n",
       "\n",
       "    .dataframe tbody tr th {\n",
       "        vertical-align: top;\n",
       "    }\n",
       "\n",
       "    .dataframe thead th {\n",
       "        text-align: right;\n",
       "    }\n",
       "</style>\n",
       "<table border=\"1\" class=\"dataframe\">\n",
       "  <thead>\n",
       "    <tr style=\"text-align: right;\">\n",
       "      <th></th>\n",
       "      <th>Colorado</th>\n",
       "      <th>Texas</th>\n",
       "      <th>New York</th>\n",
       "      <th>Ohio</th>\n",
       "    </tr>\n",
       "  </thead>\n",
       "  <tbody>\n",
       "    <tr>\n",
       "      <th>2000</th>\n",
       "      <td>0.404971</td>\n",
       "      <td>-0.317738</td>\n",
       "      <td>-0.111600</td>\n",
       "      <td>0.088582</td>\n",
       "    </tr>\n",
       "    <tr>\n",
       "      <th>2001</th>\n",
       "      <td>0.493573</td>\n",
       "      <td>0.072365</td>\n",
       "      <td>-0.386543</td>\n",
       "      <td>-0.008479</td>\n",
       "    </tr>\n",
       "  </tbody>\n",
       "</table>\n",
       "</div>"
      ],
      "text/plain": [
       "      Colorado     Texas  New York      Ohio\n",
       "2000  0.404971 -0.317738 -0.111600  0.088582\n",
       "2001  0.493573  0.072365 -0.386543 -0.008479"
      ]
     },
     "execution_count": 694,
     "metadata": {},
     "output_type": "execute_result"
    }
   ],
   "source": [
    "annual_frame"
   ]
  },
  {
   "cell_type": "code",
   "execution_count": 695,
   "id": "c0b1dfeb",
   "metadata": {},
   "outputs": [
    {
     "data": {
      "text/html": [
       "<div>\n",
       "<style scoped>\n",
       "    .dataframe tbody tr th:only-of-type {\n",
       "        vertical-align: middle;\n",
       "    }\n",
       "\n",
       "    .dataframe tbody tr th {\n",
       "        vertical-align: top;\n",
       "    }\n",
       "\n",
       "    .dataframe thead th {\n",
       "        text-align: right;\n",
       "    }\n",
       "</style>\n",
       "<table border=\"1\" class=\"dataframe\">\n",
       "  <thead>\n",
       "    <tr style=\"text-align: right;\">\n",
       "      <th></th>\n",
       "      <th>Colorado</th>\n",
       "      <th>Texas</th>\n",
       "      <th>New York</th>\n",
       "      <th>Ohio</th>\n",
       "    </tr>\n",
       "  </thead>\n",
       "  <tbody>\n",
       "    <tr>\n",
       "      <th>2001Q3</th>\n",
       "      <td>0.404971</td>\n",
       "      <td>-0.317738</td>\n",
       "      <td>-0.111600</td>\n",
       "      <td>0.088582</td>\n",
       "    </tr>\n",
       "    <tr>\n",
       "      <th>2001Q4</th>\n",
       "      <td>0.404971</td>\n",
       "      <td>-0.317738</td>\n",
       "      <td>-0.111600</td>\n",
       "      <td>0.088582</td>\n",
       "    </tr>\n",
       "    <tr>\n",
       "      <th>2002Q1</th>\n",
       "      <td>0.404971</td>\n",
       "      <td>-0.317738</td>\n",
       "      <td>-0.111600</td>\n",
       "      <td>0.088582</td>\n",
       "    </tr>\n",
       "    <tr>\n",
       "      <th>2002Q2</th>\n",
       "      <td>0.404971</td>\n",
       "      <td>-0.317738</td>\n",
       "      <td>-0.111600</td>\n",
       "      <td>0.088582</td>\n",
       "    </tr>\n",
       "    <tr>\n",
       "      <th>2002Q3</th>\n",
       "      <td>0.493573</td>\n",
       "      <td>0.072365</td>\n",
       "      <td>-0.386543</td>\n",
       "      <td>-0.008479</td>\n",
       "    </tr>\n",
       "  </tbody>\n",
       "</table>\n",
       "</div>"
      ],
      "text/plain": [
       "        Colorado     Texas  New York      Ohio\n",
       "2001Q3  0.404971 -0.317738 -0.111600  0.088582\n",
       "2001Q4  0.404971 -0.317738 -0.111600  0.088582\n",
       "2002Q1  0.404971 -0.317738 -0.111600  0.088582\n",
       "2002Q2  0.404971 -0.317738 -0.111600  0.088582\n",
       "2002Q3  0.493573  0.072365 -0.386543 -0.008479"
      ]
     },
     "execution_count": 695,
     "metadata": {},
     "output_type": "execute_result"
    }
   ],
   "source": [
    "annual_frame.resample('Q-MAR', convention='end').ffill()"
   ]
  },
  {
   "cell_type": "code",
   "execution_count": 696,
   "id": "a91c820e",
   "metadata": {},
   "outputs": [],
   "source": [
    "close_px_all = pd.read_csv('examples/stock_px_2.csv',\n",
    "                          parse_dates=True, index_col=0)"
   ]
  },
  {
   "cell_type": "code",
   "execution_count": 697,
   "id": "47efdb0e",
   "metadata": {},
   "outputs": [
    {
     "data": {
      "text/html": [
       "<div>\n",
       "<style scoped>\n",
       "    .dataframe tbody tr th:only-of-type {\n",
       "        vertical-align: middle;\n",
       "    }\n",
       "\n",
       "    .dataframe tbody tr th {\n",
       "        vertical-align: top;\n",
       "    }\n",
       "\n",
       "    .dataframe thead th {\n",
       "        text-align: right;\n",
       "    }\n",
       "</style>\n",
       "<table border=\"1\" class=\"dataframe\">\n",
       "  <thead>\n",
       "    <tr style=\"text-align: right;\">\n",
       "      <th></th>\n",
       "      <th>AAPL</th>\n",
       "      <th>MSFT</th>\n",
       "      <th>XOM</th>\n",
       "      <th>SPX</th>\n",
       "    </tr>\n",
       "  </thead>\n",
       "  <tbody>\n",
       "    <tr>\n",
       "      <th>2003-01-02</th>\n",
       "      <td>7.40</td>\n",
       "      <td>21.11</td>\n",
       "      <td>29.22</td>\n",
       "      <td>909.03</td>\n",
       "    </tr>\n",
       "    <tr>\n",
       "      <th>2003-01-03</th>\n",
       "      <td>7.45</td>\n",
       "      <td>21.14</td>\n",
       "      <td>29.24</td>\n",
       "      <td>908.59</td>\n",
       "    </tr>\n",
       "    <tr>\n",
       "      <th>2003-01-06</th>\n",
       "      <td>7.45</td>\n",
       "      <td>21.52</td>\n",
       "      <td>29.96</td>\n",
       "      <td>929.01</td>\n",
       "    </tr>\n",
       "    <tr>\n",
       "      <th>2003-01-07</th>\n",
       "      <td>7.43</td>\n",
       "      <td>21.93</td>\n",
       "      <td>28.95</td>\n",
       "      <td>922.93</td>\n",
       "    </tr>\n",
       "    <tr>\n",
       "      <th>2003-01-08</th>\n",
       "      <td>7.28</td>\n",
       "      <td>21.31</td>\n",
       "      <td>28.83</td>\n",
       "      <td>909.93</td>\n",
       "    </tr>\n",
       "    <tr>\n",
       "      <th>...</th>\n",
       "      <td>...</td>\n",
       "      <td>...</td>\n",
       "      <td>...</td>\n",
       "      <td>...</td>\n",
       "    </tr>\n",
       "    <tr>\n",
       "      <th>2011-10-10</th>\n",
       "      <td>388.81</td>\n",
       "      <td>26.94</td>\n",
       "      <td>76.28</td>\n",
       "      <td>1194.89</td>\n",
       "    </tr>\n",
       "    <tr>\n",
       "      <th>2011-10-11</th>\n",
       "      <td>400.29</td>\n",
       "      <td>27.00</td>\n",
       "      <td>76.27</td>\n",
       "      <td>1195.54</td>\n",
       "    </tr>\n",
       "    <tr>\n",
       "      <th>2011-10-12</th>\n",
       "      <td>402.19</td>\n",
       "      <td>26.96</td>\n",
       "      <td>77.16</td>\n",
       "      <td>1207.25</td>\n",
       "    </tr>\n",
       "    <tr>\n",
       "      <th>2011-10-13</th>\n",
       "      <td>408.43</td>\n",
       "      <td>27.18</td>\n",
       "      <td>76.37</td>\n",
       "      <td>1203.66</td>\n",
       "    </tr>\n",
       "    <tr>\n",
       "      <th>2011-10-14</th>\n",
       "      <td>422.00</td>\n",
       "      <td>27.27</td>\n",
       "      <td>78.11</td>\n",
       "      <td>1224.58</td>\n",
       "    </tr>\n",
       "  </tbody>\n",
       "</table>\n",
       "<p>2214 rows × 4 columns</p>\n",
       "</div>"
      ],
      "text/plain": [
       "              AAPL   MSFT    XOM      SPX\n",
       "2003-01-02    7.40  21.11  29.22   909.03\n",
       "2003-01-03    7.45  21.14  29.24   908.59\n",
       "2003-01-06    7.45  21.52  29.96   929.01\n",
       "2003-01-07    7.43  21.93  28.95   922.93\n",
       "2003-01-08    7.28  21.31  28.83   909.93\n",
       "...            ...    ...    ...      ...\n",
       "2011-10-10  388.81  26.94  76.28  1194.89\n",
       "2011-10-11  400.29  27.00  76.27  1195.54\n",
       "2011-10-12  402.19  26.96  77.16  1207.25\n",
       "2011-10-13  408.43  27.18  76.37  1203.66\n",
       "2011-10-14  422.00  27.27  78.11  1224.58\n",
       "\n",
       "[2214 rows x 4 columns]"
      ]
     },
     "execution_count": 697,
     "metadata": {},
     "output_type": "execute_result"
    }
   ],
   "source": [
    "close_px_all"
   ]
  },
  {
   "cell_type": "code",
   "execution_count": 698,
   "id": "1d00c124",
   "metadata": {},
   "outputs": [],
   "source": [
    "close_px = close_px_all[['AAPL', 'MSFT', 'XOM']]"
   ]
  },
  {
   "cell_type": "code",
   "execution_count": 699,
   "id": "73b5aa76",
   "metadata": {},
   "outputs": [
    {
     "data": {
      "text/html": [
       "<div>\n",
       "<style scoped>\n",
       "    .dataframe tbody tr th:only-of-type {\n",
       "        vertical-align: middle;\n",
       "    }\n",
       "\n",
       "    .dataframe tbody tr th {\n",
       "        vertical-align: top;\n",
       "    }\n",
       "\n",
       "    .dataframe thead th {\n",
       "        text-align: right;\n",
       "    }\n",
       "</style>\n",
       "<table border=\"1\" class=\"dataframe\">\n",
       "  <thead>\n",
       "    <tr style=\"text-align: right;\">\n",
       "      <th></th>\n",
       "      <th>AAPL</th>\n",
       "      <th>MSFT</th>\n",
       "      <th>XOM</th>\n",
       "    </tr>\n",
       "  </thead>\n",
       "  <tbody>\n",
       "    <tr>\n",
       "      <th>2003-01-02</th>\n",
       "      <td>7.40</td>\n",
       "      <td>21.11</td>\n",
       "      <td>29.22</td>\n",
       "    </tr>\n",
       "    <tr>\n",
       "      <th>2003-01-03</th>\n",
       "      <td>7.45</td>\n",
       "      <td>21.14</td>\n",
       "      <td>29.24</td>\n",
       "    </tr>\n",
       "    <tr>\n",
       "      <th>2003-01-06</th>\n",
       "      <td>7.45</td>\n",
       "      <td>21.52</td>\n",
       "      <td>29.96</td>\n",
       "    </tr>\n",
       "    <tr>\n",
       "      <th>2003-01-07</th>\n",
       "      <td>7.43</td>\n",
       "      <td>21.93</td>\n",
       "      <td>28.95</td>\n",
       "    </tr>\n",
       "    <tr>\n",
       "      <th>2003-01-08</th>\n",
       "      <td>7.28</td>\n",
       "      <td>21.31</td>\n",
       "      <td>28.83</td>\n",
       "    </tr>\n",
       "    <tr>\n",
       "      <th>...</th>\n",
       "      <td>...</td>\n",
       "      <td>...</td>\n",
       "      <td>...</td>\n",
       "    </tr>\n",
       "    <tr>\n",
       "      <th>2011-10-10</th>\n",
       "      <td>388.81</td>\n",
       "      <td>26.94</td>\n",
       "      <td>76.28</td>\n",
       "    </tr>\n",
       "    <tr>\n",
       "      <th>2011-10-11</th>\n",
       "      <td>400.29</td>\n",
       "      <td>27.00</td>\n",
       "      <td>76.27</td>\n",
       "    </tr>\n",
       "    <tr>\n",
       "      <th>2011-10-12</th>\n",
       "      <td>402.19</td>\n",
       "      <td>26.96</td>\n",
       "      <td>77.16</td>\n",
       "    </tr>\n",
       "    <tr>\n",
       "      <th>2011-10-13</th>\n",
       "      <td>408.43</td>\n",
       "      <td>27.18</td>\n",
       "      <td>76.37</td>\n",
       "    </tr>\n",
       "    <tr>\n",
       "      <th>2011-10-14</th>\n",
       "      <td>422.00</td>\n",
       "      <td>27.27</td>\n",
       "      <td>78.11</td>\n",
       "    </tr>\n",
       "  </tbody>\n",
       "</table>\n",
       "<p>2214 rows × 3 columns</p>\n",
       "</div>"
      ],
      "text/plain": [
       "              AAPL   MSFT    XOM\n",
       "2003-01-02    7.40  21.11  29.22\n",
       "2003-01-03    7.45  21.14  29.24\n",
       "2003-01-06    7.45  21.52  29.96\n",
       "2003-01-07    7.43  21.93  28.95\n",
       "2003-01-08    7.28  21.31  28.83\n",
       "...            ...    ...    ...\n",
       "2011-10-10  388.81  26.94  76.28\n",
       "2011-10-11  400.29  27.00  76.27\n",
       "2011-10-12  402.19  26.96  77.16\n",
       "2011-10-13  408.43  27.18  76.37\n",
       "2011-10-14  422.00  27.27  78.11\n",
       "\n",
       "[2214 rows x 3 columns]"
      ]
     },
     "execution_count": 699,
     "metadata": {},
     "output_type": "execute_result"
    }
   ],
   "source": [
    "close_px"
   ]
  },
  {
   "cell_type": "code",
   "execution_count": 700,
   "id": "3a10b5c1",
   "metadata": {},
   "outputs": [
    {
     "data": {
      "text/html": [
       "<div>\n",
       "<style scoped>\n",
       "    .dataframe tbody tr th:only-of-type {\n",
       "        vertical-align: middle;\n",
       "    }\n",
       "\n",
       "    .dataframe tbody tr th {\n",
       "        vertical-align: top;\n",
       "    }\n",
       "\n",
       "    .dataframe thead th {\n",
       "        text-align: right;\n",
       "    }\n",
       "</style>\n",
       "<table border=\"1\" class=\"dataframe\">\n",
       "  <thead>\n",
       "    <tr style=\"text-align: right;\">\n",
       "      <th></th>\n",
       "      <th>AAPL</th>\n",
       "      <th>MSFT</th>\n",
       "      <th>XOM</th>\n",
       "    </tr>\n",
       "  </thead>\n",
       "  <tbody>\n",
       "    <tr>\n",
       "      <th>2003-01-02</th>\n",
       "      <td>7.40</td>\n",
       "      <td>21.11</td>\n",
       "      <td>29.22</td>\n",
       "    </tr>\n",
       "    <tr>\n",
       "      <th>2003-01-03</th>\n",
       "      <td>7.45</td>\n",
       "      <td>21.14</td>\n",
       "      <td>29.24</td>\n",
       "    </tr>\n",
       "    <tr>\n",
       "      <th>2003-01-06</th>\n",
       "      <td>7.45</td>\n",
       "      <td>21.52</td>\n",
       "      <td>29.96</td>\n",
       "    </tr>\n",
       "    <tr>\n",
       "      <th>2003-01-07</th>\n",
       "      <td>7.43</td>\n",
       "      <td>21.93</td>\n",
       "      <td>28.95</td>\n",
       "    </tr>\n",
       "    <tr>\n",
       "      <th>2003-01-08</th>\n",
       "      <td>7.28</td>\n",
       "      <td>21.31</td>\n",
       "      <td>28.83</td>\n",
       "    </tr>\n",
       "    <tr>\n",
       "      <th>...</th>\n",
       "      <td>...</td>\n",
       "      <td>...</td>\n",
       "      <td>...</td>\n",
       "    </tr>\n",
       "    <tr>\n",
       "      <th>2011-10-10</th>\n",
       "      <td>388.81</td>\n",
       "      <td>26.94</td>\n",
       "      <td>76.28</td>\n",
       "    </tr>\n",
       "    <tr>\n",
       "      <th>2011-10-11</th>\n",
       "      <td>400.29</td>\n",
       "      <td>27.00</td>\n",
       "      <td>76.27</td>\n",
       "    </tr>\n",
       "    <tr>\n",
       "      <th>2011-10-12</th>\n",
       "      <td>402.19</td>\n",
       "      <td>26.96</td>\n",
       "      <td>77.16</td>\n",
       "    </tr>\n",
       "    <tr>\n",
       "      <th>2011-10-13</th>\n",
       "      <td>408.43</td>\n",
       "      <td>27.18</td>\n",
       "      <td>76.37</td>\n",
       "    </tr>\n",
       "    <tr>\n",
       "      <th>2011-10-14</th>\n",
       "      <td>422.00</td>\n",
       "      <td>27.27</td>\n",
       "      <td>78.11</td>\n",
       "    </tr>\n",
       "  </tbody>\n",
       "</table>\n",
       "<p>2292 rows × 3 columns</p>\n",
       "</div>"
      ],
      "text/plain": [
       "              AAPL   MSFT    XOM\n",
       "2003-01-02    7.40  21.11  29.22\n",
       "2003-01-03    7.45  21.14  29.24\n",
       "2003-01-06    7.45  21.52  29.96\n",
       "2003-01-07    7.43  21.93  28.95\n",
       "2003-01-08    7.28  21.31  28.83\n",
       "...            ...    ...    ...\n",
       "2011-10-10  388.81  26.94  76.28\n",
       "2011-10-11  400.29  27.00  76.27\n",
       "2011-10-12  402.19  26.96  77.16\n",
       "2011-10-13  408.43  27.18  76.37\n",
       "2011-10-14  422.00  27.27  78.11\n",
       "\n",
       "[2292 rows x 3 columns]"
      ]
     },
     "execution_count": 700,
     "metadata": {},
     "output_type": "execute_result"
    }
   ],
   "source": [
    "close_px.resample('B').ffill()  # 按照工作日进行划分"
   ]
  },
  {
   "cell_type": "code",
   "execution_count": 701,
   "id": "89f5691f",
   "metadata": {},
   "outputs": [
    {
     "data": {
      "text/plain": [
       "<AxesSubplot:>"
      ]
     },
     "execution_count": 701,
     "metadata": {},
     "output_type": "execute_result"
    },
    {
     "data": {
      "image/png": "[encoded data removed]",
      "text/plain": [
       "<Figure size 432x288 with 1 Axes>"
      ]
     },
     "metadata": {
      "needs_background": "light"
     },
     "output_type": "display_data"
    }
   ],
   "source": [
    "close_px.AAPL.plot() # 对该行进行plot"
   ]
  },
  {
   "cell_type": "code",
   "execution_count": 702,
   "id": "3078c1a8",
   "metadata": {},
   "outputs": [
    {
     "data": {
      "text/plain": [
       "<AxesSubplot:>"
      ]
     },
     "execution_count": 702,
     "metadata": {},
     "output_type": "execute_result"
    },
    {
     "data": {
      "image/png": "[encoded data removed]",
      "text/plain": [
       "<Figure size 432x288 with 1 Axes>"
      ]
     },
     "metadata": {
      "needs_background": "light"
     },
     "output_type": "display_data"
    }
   ],
   "source": [
    "close_px.AAPL.rolling(250).mean().plot() # 图像更加平滑"
   ]
  },
  {
   "cell_type": "code",
   "execution_count": 703,
   "id": "9ee65255",
   "metadata": {},
   "outputs": [
    {
     "data": {
      "text/plain": [
       "<AxesSubplot:>"
      ]
     },
     "execution_count": 703,
     "metadata": {},
     "output_type": "execute_result"
    },
    {
     "data": {
      "image/png": "[encoded data removed]",
      "text/plain": [
       "<Figure size 432x288 with 1 Axes>"
      ]
     },
     "metadata": {
      "needs_background": "light"
     },
     "output_type": "display_data"
    }
   ],
   "source": [
    "close_px.AAPL.rolling(1000).mean().plot() # 图像更加平滑"
   ]
  },
  {
   "cell_type": "code",
   "execution_count": 704,
   "id": "94309ca0",
   "metadata": {},
   "outputs": [],
   "source": [
    "appl_std250 = close_px.AAPL.rolling(250, min_periods=10).std() # ???"
   ]
  },
  {
   "cell_type": "code",
   "execution_count": 705,
   "id": "41253b2f",
   "metadata": {},
   "outputs": [
    {
     "data": {
      "text/plain": [
       "2003-01-02          NaN\n",
       "2003-01-03          NaN\n",
       "2003-01-06          NaN\n",
       "2003-01-07          NaN\n",
       "2003-01-08          NaN\n",
       "                ...    \n",
       "2011-10-10    26.102069\n",
       "2011-10-11    26.170785\n",
       "2011-10-12    26.322769\n",
       "2011-10-13    26.539215\n",
       "2011-10-14    26.841851\n",
       "Name: AAPL, Length: 2214, dtype: float64"
      ]
     },
     "execution_count": 705,
     "metadata": {},
     "output_type": "execute_result"
    }
   ],
   "source": [
    "appl_std250"
   ]
  },
  {
   "cell_type": "code",
   "execution_count": 706,
   "id": "a98c4150",
   "metadata": {},
   "outputs": [
    {
     "data": {
      "text/plain": [
       "<AxesSubplot:>"
      ]
     },
     "execution_count": 706,
     "metadata": {},
     "output_type": "execute_result"
    },
    {
     "data": {
      "image/png": "[encoded data removed]",
      "text/plain": [
       "<Figure size 432x288 with 1 Axes>"
      ]
     },
     "metadata": {
      "needs_background": "light"
     },
     "output_type": "display_data"
    }
   ],
   "source": [
    "appl_std250.plot()"
   ]
  },
  {
   "cell_type": "code",
   "execution_count": 707,
   "id": "7e6393c8",
   "metadata": {},
   "outputs": [],
   "source": [
    "expanding_mean = appl_std250.expanding().mean()"
   ]
  },
  {
   "cell_type": "code",
   "execution_count": 708,
   "id": "0a32e933",
   "metadata": {},
   "outputs": [
    {
     "data": {
      "text/plain": [
       "2003-01-02          NaN\n",
       "2003-01-03          NaN\n",
       "2003-01-06          NaN\n",
       "2003-01-07          NaN\n",
       "2003-01-08          NaN\n",
       "                ...    \n",
       "2011-10-10    18.862318\n",
       "2011-10-11    18.865637\n",
       "2011-10-12    18.869022\n",
       "2011-10-13    18.872503\n",
       "2011-10-14    18.876117\n",
       "Name: AAPL, Length: 2214, dtype: float64"
      ]
     },
     "execution_count": 708,
     "metadata": {},
     "output_type": "execute_result"
    }
   ],
   "source": [
    "expanding_mean"
   ]
  },
  {
   "cell_type": "code",
   "execution_count": 709,
   "id": "757730b6",
   "metadata": {},
   "outputs": [
    {
     "data": {
      "text/plain": [
       "<AxesSubplot:>"
      ]
     },
     "execution_count": 709,
     "metadata": {},
     "output_type": "execute_result"
    },
    {
     "data": {
      "image/png": "[encoded data removed]",
      "text/plain": [
       "<Figure size 432x288 with 1 Axes>"
      ]
     },
     "metadata": {
      "needs_background": "light"
     },
     "output_type": "display_data"
    }
   ],
   "source": [
    "close_px.rolling(60).mean().plot(logy=True)"
   ]
  },
  {
   "cell_type": "code",
   "execution_count": 710,
   "id": "3ee162d5",
   "metadata": {},
   "outputs": [
    {
     "data": {
      "text/plain": [
       "<AxesSubplot:>"
      ]
     },
     "execution_count": 710,
     "metadata": {},
     "output_type": "execute_result"
    },
    {
     "data": {
      "image/png": "[encoded data removed]",
      "text/plain": [
       "<Figure size 432x288 with 1 Axes>"
      ]
     },
     "metadata": {
      "needs_background": "light"
     },
     "output_type": "display_data"
    }
   ],
   "source": [
    "close_px.rolling(60).mean().plot(logy=True)"
   ]
  },
  {
   "cell_type": "code",
   "execution_count": 711,
   "id": "2eb62afa",
   "metadata": {},
   "outputs": [
    {
     "data": {
      "text/html": [
       "<div>\n",
       "<style scoped>\n",
       "    .dataframe tbody tr th:only-of-type {\n",
       "        vertical-align: middle;\n",
       "    }\n",
       "\n",
       "    .dataframe tbody tr th {\n",
       "        vertical-align: top;\n",
       "    }\n",
       "\n",
       "    .dataframe thead th {\n",
       "        text-align: right;\n",
       "    }\n",
       "</style>\n",
       "<table border=\"1\" class=\"dataframe\">\n",
       "  <thead>\n",
       "    <tr style=\"text-align: right;\">\n",
       "      <th></th>\n",
       "      <th>AAPL</th>\n",
       "      <th>MSFT</th>\n",
       "      <th>XOM</th>\n",
       "    </tr>\n",
       "  </thead>\n",
       "  <tbody>\n",
       "    <tr>\n",
       "      <th>2003-01-02</th>\n",
       "      <td>7.40</td>\n",
       "      <td>21.11</td>\n",
       "      <td>29.22</td>\n",
       "    </tr>\n",
       "    <tr>\n",
       "      <th>2003-01-03</th>\n",
       "      <td>7.45</td>\n",
       "      <td>21.14</td>\n",
       "      <td>29.24</td>\n",
       "    </tr>\n",
       "    <tr>\n",
       "      <th>2003-01-06</th>\n",
       "      <td>7.45</td>\n",
       "      <td>21.52</td>\n",
       "      <td>29.96</td>\n",
       "    </tr>\n",
       "    <tr>\n",
       "      <th>2003-01-07</th>\n",
       "      <td>7.43</td>\n",
       "      <td>21.93</td>\n",
       "      <td>28.95</td>\n",
       "    </tr>\n",
       "    <tr>\n",
       "      <th>2003-01-08</th>\n",
       "      <td>7.28</td>\n",
       "      <td>21.31</td>\n",
       "      <td>28.83</td>\n",
       "    </tr>\n",
       "    <tr>\n",
       "      <th>...</th>\n",
       "      <td>...</td>\n",
       "      <td>...</td>\n",
       "      <td>...</td>\n",
       "    </tr>\n",
       "    <tr>\n",
       "      <th>2011-10-10</th>\n",
       "      <td>388.81</td>\n",
       "      <td>26.94</td>\n",
       "      <td>76.28</td>\n",
       "    </tr>\n",
       "    <tr>\n",
       "      <th>2011-10-11</th>\n",
       "      <td>400.29</td>\n",
       "      <td>27.00</td>\n",
       "      <td>76.27</td>\n",
       "    </tr>\n",
       "    <tr>\n",
       "      <th>2011-10-12</th>\n",
       "      <td>402.19</td>\n",
       "      <td>26.96</td>\n",
       "      <td>77.16</td>\n",
       "    </tr>\n",
       "    <tr>\n",
       "      <th>2011-10-13</th>\n",
       "      <td>408.43</td>\n",
       "      <td>27.18</td>\n",
       "      <td>76.37</td>\n",
       "    </tr>\n",
       "    <tr>\n",
       "      <th>2011-10-14</th>\n",
       "      <td>422.00</td>\n",
       "      <td>27.27</td>\n",
       "      <td>78.11</td>\n",
       "    </tr>\n",
       "  </tbody>\n",
       "</table>\n",
       "<p>2214 rows × 3 columns</p>\n",
       "</div>"
      ],
      "text/plain": [
       "              AAPL   MSFT    XOM\n",
       "2003-01-02    7.40  21.11  29.22\n",
       "2003-01-03    7.45  21.14  29.24\n",
       "2003-01-06    7.45  21.52  29.96\n",
       "2003-01-07    7.43  21.93  28.95\n",
       "2003-01-08    7.28  21.31  28.83\n",
       "...            ...    ...    ...\n",
       "2011-10-10  388.81  26.94  76.28\n",
       "2011-10-11  400.29  27.00  76.27\n",
       "2011-10-12  402.19  26.96  77.16\n",
       "2011-10-13  408.43  27.18  76.37\n",
       "2011-10-14  422.00  27.27  78.11\n",
       "\n",
       "[2214 rows x 3 columns]"
      ]
     },
     "execution_count": 711,
     "metadata": {},
     "output_type": "execute_result"
    }
   ],
   "source": [
    "close_px"
   ]
  },
  {
   "cell_type": "code",
   "execution_count": 712,
   "id": "93b6d87c",
   "metadata": {},
   "outputs": [
    {
     "data": {
      "text/html": [
       "<div>\n",
       "<style scoped>\n",
       "    .dataframe tbody tr th:only-of-type {\n",
       "        vertical-align: middle;\n",
       "    }\n",
       "\n",
       "    .dataframe tbody tr th {\n",
       "        vertical-align: top;\n",
       "    }\n",
       "\n",
       "    .dataframe thead th {\n",
       "        text-align: right;\n",
       "    }\n",
       "</style>\n",
       "<table border=\"1\" class=\"dataframe\">\n",
       "  <thead>\n",
       "    <tr style=\"text-align: right;\">\n",
       "      <th></th>\n",
       "      <th>AAPL</th>\n",
       "      <th>MSFT</th>\n",
       "      <th>XOM</th>\n",
       "    </tr>\n",
       "  </thead>\n",
       "  <tbody>\n",
       "    <tr>\n",
       "      <th>2010-12-10</th>\n",
       "      <td>14.0</td>\n",
       "      <td>14.0</td>\n",
       "      <td>14.0</td>\n",
       "    </tr>\n",
       "    <tr>\n",
       "      <th>2010-12-13</th>\n",
       "      <td>13.0</td>\n",
       "      <td>13.0</td>\n",
       "      <td>13.0</td>\n",
       "    </tr>\n",
       "    <tr>\n",
       "      <th>2010-12-14</th>\n",
       "      <td>13.0</td>\n",
       "      <td>13.0</td>\n",
       "      <td>13.0</td>\n",
       "    </tr>\n",
       "    <tr>\n",
       "      <th>2010-12-15</th>\n",
       "      <td>14.0</td>\n",
       "      <td>14.0</td>\n",
       "      <td>14.0</td>\n",
       "    </tr>\n",
       "    <tr>\n",
       "      <th>2010-12-16</th>\n",
       "      <td>14.0</td>\n",
       "      <td>14.0</td>\n",
       "      <td>14.0</td>\n",
       "    </tr>\n",
       "    <tr>\n",
       "      <th>...</th>\n",
       "      <td>...</td>\n",
       "      <td>...</td>\n",
       "      <td>...</td>\n",
       "    </tr>\n",
       "    <tr>\n",
       "      <th>2011-10-10</th>\n",
       "      <td>14.0</td>\n",
       "      <td>14.0</td>\n",
       "      <td>14.0</td>\n",
       "    </tr>\n",
       "    <tr>\n",
       "      <th>2011-10-11</th>\n",
       "      <td>14.0</td>\n",
       "      <td>14.0</td>\n",
       "      <td>14.0</td>\n",
       "    </tr>\n",
       "    <tr>\n",
       "      <th>2011-10-12</th>\n",
       "      <td>14.0</td>\n",
       "      <td>14.0</td>\n",
       "      <td>14.0</td>\n",
       "    </tr>\n",
       "    <tr>\n",
       "      <th>2011-10-13</th>\n",
       "      <td>14.0</td>\n",
       "      <td>14.0</td>\n",
       "      <td>14.0</td>\n",
       "    </tr>\n",
       "    <tr>\n",
       "      <th>2011-10-14</th>\n",
       "      <td>15.0</td>\n",
       "      <td>15.0</td>\n",
       "      <td>15.0</td>\n",
       "    </tr>\n",
       "  </tbody>\n",
       "</table>\n",
       "<p>214 rows × 3 columns</p>\n",
       "</div>"
      ],
      "text/plain": [
       "            AAPL  MSFT   XOM\n",
       "2010-12-10  14.0  14.0  14.0\n",
       "2010-12-13  13.0  13.0  13.0\n",
       "2010-12-14  13.0  13.0  13.0\n",
       "2010-12-15  14.0  14.0  14.0\n",
       "2010-12-16  14.0  14.0  14.0\n",
       "...          ...   ...   ...\n",
       "2011-10-10  14.0  14.0  14.0\n",
       "2011-10-11  14.0  14.0  14.0\n",
       "2011-10-12  14.0  14.0  14.0\n",
       "2011-10-13  14.0  14.0  14.0\n",
       "2011-10-14  15.0  15.0  15.0\n",
       "\n",
       "[214 rows x 3 columns]"
      ]
     },
     "execution_count": 712,
     "metadata": {},
     "output_type": "execute_result"
    }
   ],
   "source": [
    "close_px.rolling('20D').count()[2000:] # ?? "
   ]
  },
  {
   "cell_type": "code",
   "execution_count": 713,
   "id": "6fe84da7",
   "metadata": {},
   "outputs": [],
   "source": [
    "aapl_px = close_px.AAPL['2006':'2007'] # 对时间序列进行切片索引"
   ]
  },
  {
   "cell_type": "code",
   "execution_count": 714,
   "id": "ad835837",
   "metadata": {},
   "outputs": [
    {
     "data": {
      "text/plain": [
       "2006-01-03     74.75\n",
       "2006-01-04     74.97\n",
       "2006-01-05     74.38\n",
       "2006-01-06     76.30\n",
       "2006-01-09     76.05\n",
       "               ...  \n",
       "2007-12-24    198.80\n",
       "2007-12-26    198.95\n",
       "2007-12-27    198.57\n",
       "2007-12-28    199.83\n",
       "2007-12-31    198.08\n",
       "Name: AAPL, Length: 502, dtype: float64"
      ]
     },
     "execution_count": 714,
     "metadata": {},
     "output_type": "execute_result"
    }
   ],
   "source": [
    "aapl_px"
   ]
  },
  {
   "cell_type": "code",
   "execution_count": 715,
   "id": "ca20e2ea",
   "metadata": {},
   "outputs": [],
   "source": [
    "ma60 = aapl_px.rolling(30, min_periods=20).mean()\n",
    "ewma60 = aapl_px.ewm(span=30).mean()"
   ]
  },
  {
   "cell_type": "code",
   "execution_count": 716,
   "id": "21fc4bc8",
   "metadata": {},
   "outputs": [
    {
     "data": {
      "text/plain": [
       "<matplotlib.legend.Legend at 0x1ba68438100>"
      ]
     },
     "execution_count": 716,
     "metadata": {},
     "output_type": "execute_result"
    },
    {
     "data": {
      "image/png": "[encoded data removed]",
      "text/plain": [
       "<Figure size 432x288 with 1 Axes>"
      ]
     },
     "metadata": {
      "needs_background": "light"
     },
     "output_type": "display_data"
    }
   ],
   "source": [
    "ma60.plot(style='k--', label='Simple MA')\n",
    "ewma60.plot(style='k-', label='EW MA')\n",
    "plt.legend(loc='upper left') # 显示图例"
   ]
  },
  {
   "cell_type": "code",
   "execution_count": 717,
   "id": "741099f4",
   "metadata": {},
   "outputs": [],
   "source": [
    "spx_px = close_px_all['SPX']"
   ]
  },
  {
   "cell_type": "code",
   "execution_count": 718,
   "id": "47a70390",
   "metadata": {},
   "outputs": [],
   "source": [
    "spx_px = spx_px.pct_change()"
   ]
  },
  {
   "cell_type": "code",
   "execution_count": 719,
   "id": "f8fc2810",
   "metadata": {},
   "outputs": [],
   "source": [
    "returns = close_px.pct_change()"
   ]
  },
  {
   "cell_type": "code",
   "execution_count": 720,
   "id": "284e1aaa",
   "metadata": {},
   "outputs": [
    {
     "data": {
      "text/html": [
       "<div>\n",
       "<style scoped>\n",
       "    .dataframe tbody tr th:only-of-type {\n",
       "        vertical-align: middle;\n",
       "    }\n",
       "\n",
       "    .dataframe tbody tr th {\n",
       "        vertical-align: top;\n",
       "    }\n",
       "\n",
       "    .dataframe thead th {\n",
       "        text-align: right;\n",
       "    }\n",
       "</style>\n",
       "<table border=\"1\" class=\"dataframe\">\n",
       "  <thead>\n",
       "    <tr style=\"text-align: right;\">\n",
       "      <th></th>\n",
       "      <th>AAPL</th>\n",
       "      <th>MSFT</th>\n",
       "      <th>XOM</th>\n",
       "    </tr>\n",
       "  </thead>\n",
       "  <tbody>\n",
       "    <tr>\n",
       "      <th>2003-01-02</th>\n",
       "      <td>NaN</td>\n",
       "      <td>NaN</td>\n",
       "      <td>NaN</td>\n",
       "    </tr>\n",
       "    <tr>\n",
       "      <th>2003-01-03</th>\n",
       "      <td>0.006757</td>\n",
       "      <td>0.001421</td>\n",
       "      <td>0.000684</td>\n",
       "    </tr>\n",
       "    <tr>\n",
       "      <th>2003-01-06</th>\n",
       "      <td>0.000000</td>\n",
       "      <td>0.017975</td>\n",
       "      <td>0.024624</td>\n",
       "    </tr>\n",
       "    <tr>\n",
       "      <th>2003-01-07</th>\n",
       "      <td>-0.002685</td>\n",
       "      <td>0.019052</td>\n",
       "      <td>-0.033712</td>\n",
       "    </tr>\n",
       "    <tr>\n",
       "      <th>2003-01-08</th>\n",
       "      <td>-0.020188</td>\n",
       "      <td>-0.028272</td>\n",
       "      <td>-0.004145</td>\n",
       "    </tr>\n",
       "    <tr>\n",
       "      <th>...</th>\n",
       "      <td>...</td>\n",
       "      <td>...</td>\n",
       "      <td>...</td>\n",
       "    </tr>\n",
       "    <tr>\n",
       "      <th>2011-10-10</th>\n",
       "      <td>0.051406</td>\n",
       "      <td>0.026286</td>\n",
       "      <td>0.036977</td>\n",
       "    </tr>\n",
       "    <tr>\n",
       "      <th>2011-10-11</th>\n",
       "      <td>0.029526</td>\n",
       "      <td>0.002227</td>\n",
       "      <td>-0.000131</td>\n",
       "    </tr>\n",
       "    <tr>\n",
       "      <th>2011-10-12</th>\n",
       "      <td>0.004747</td>\n",
       "      <td>-0.001481</td>\n",
       "      <td>0.011669</td>\n",
       "    </tr>\n",
       "    <tr>\n",
       "      <th>2011-10-13</th>\n",
       "      <td>0.015515</td>\n",
       "      <td>0.008160</td>\n",
       "      <td>-0.010238</td>\n",
       "    </tr>\n",
       "    <tr>\n",
       "      <th>2011-10-14</th>\n",
       "      <td>0.033225</td>\n",
       "      <td>0.003311</td>\n",
       "      <td>0.022784</td>\n",
       "    </tr>\n",
       "  </tbody>\n",
       "</table>\n",
       "<p>2214 rows × 3 columns</p>\n",
       "</div>"
      ],
      "text/plain": [
       "                AAPL      MSFT       XOM\n",
       "2003-01-02       NaN       NaN       NaN\n",
       "2003-01-03  0.006757  0.001421  0.000684\n",
       "2003-01-06  0.000000  0.017975  0.024624\n",
       "2003-01-07 -0.002685  0.019052 -0.033712\n",
       "2003-01-08 -0.020188 -0.028272 -0.004145\n",
       "...              ...       ...       ...\n",
       "2011-10-10  0.051406  0.026286  0.036977\n",
       "2011-10-11  0.029526  0.002227 -0.000131\n",
       "2011-10-12  0.004747 -0.001481  0.011669\n",
       "2011-10-13  0.015515  0.008160 -0.010238\n",
       "2011-10-14  0.033225  0.003311  0.022784\n",
       "\n",
       "[2214 rows x 3 columns]"
      ]
     },
     "execution_count": 720,
     "metadata": {},
     "output_type": "execute_result"
    }
   ],
   "source": [
    "returns"
   ]
  },
  {
   "cell_type": "code",
   "execution_count": 721,
   "id": "596b5f81",
   "metadata": {},
   "outputs": [],
   "source": [
    "df = pd.DataFrame({\n",
    "    'FR': [4.0405, 4.0963, 4.3149, 4.0963],\n",
    "    'GR': [1.7246, 1.7482, 1.8519, 1.7482],\n",
    "    'IT': [804.74, 810.01, 860.13, 810.01]},\n",
    "    index=['1980-01-01', '1980-02-01', '1980-03-01', '1980-03-02'])"
   ]
  },
  {
   "cell_type": "code",
   "execution_count": 722,
   "id": "53ddc2f6",
   "metadata": {},
   "outputs": [
    {
     "data": {
      "text/html": [
       "<div>\n",
       "<style scoped>\n",
       "    .dataframe tbody tr th:only-of-type {\n",
       "        vertical-align: middle;\n",
       "    }\n",
       "\n",
       "    .dataframe tbody tr th {\n",
       "        vertical-align: top;\n",
       "    }\n",
       "\n",
       "    .dataframe thead th {\n",
       "        text-align: right;\n",
       "    }\n",
       "</style>\n",
       "<table border=\"1\" class=\"dataframe\">\n",
       "  <thead>\n",
       "    <tr style=\"text-align: right;\">\n",
       "      <th></th>\n",
       "      <th>FR</th>\n",
       "      <th>GR</th>\n",
       "      <th>IT</th>\n",
       "    </tr>\n",
       "  </thead>\n",
       "  <tbody>\n",
       "    <tr>\n",
       "      <th>1980-01-01</th>\n",
       "      <td>NaN</td>\n",
       "      <td>NaN</td>\n",
       "      <td>NaN</td>\n",
       "    </tr>\n",
       "    <tr>\n",
       "      <th>1980-02-01</th>\n",
       "      <td>NaN</td>\n",
       "      <td>NaN</td>\n",
       "      <td>NaN</td>\n",
       "    </tr>\n",
       "    <tr>\n",
       "      <th>1980-03-01</th>\n",
       "      <td>0.067912</td>\n",
       "      <td>0.073814</td>\n",
       "      <td>0.06883</td>\n",
       "    </tr>\n",
       "    <tr>\n",
       "      <th>1980-03-02</th>\n",
       "      <td>0.000000</td>\n",
       "      <td>0.000000</td>\n",
       "      <td>0.00000</td>\n",
       "    </tr>\n",
       "  </tbody>\n",
       "</table>\n",
       "</div>"
      ],
      "text/plain": [
       "                  FR        GR       IT\n",
       "1980-01-01       NaN       NaN      NaN\n",
       "1980-02-01       NaN       NaN      NaN\n",
       "1980-03-01  0.067912  0.073814  0.06883\n",
       "1980-03-02  0.000000  0.000000  0.00000"
      ]
     },
     "execution_count": 722,
     "metadata": {},
     "output_type": "execute_result"
    }
   ],
   "source": [
    "df.pct_change(2)"
   ]
  },
  {
   "cell_type": "code",
   "execution_count": 723,
   "id": "89e5edd1",
   "metadata": {},
   "outputs": [
    {
     "data": {
      "text/html": [
       "<div>\n",
       "<style scoped>\n",
       "    .dataframe tbody tr th:only-of-type {\n",
       "        vertical-align: middle;\n",
       "    }\n",
       "\n",
       "    .dataframe tbody tr th {\n",
       "        vertical-align: top;\n",
       "    }\n",
       "\n",
       "    .dataframe thead th {\n",
       "        text-align: right;\n",
       "    }\n",
       "</style>\n",
       "<table border=\"1\" class=\"dataframe\">\n",
       "  <thead>\n",
       "    <tr style=\"text-align: right;\">\n",
       "      <th></th>\n",
       "      <th>FR</th>\n",
       "      <th>GR</th>\n",
       "      <th>IT</th>\n",
       "    </tr>\n",
       "  </thead>\n",
       "  <tbody>\n",
       "    <tr>\n",
       "      <th>1980-01-01</th>\n",
       "      <td>4.0405</td>\n",
       "      <td>1.7246</td>\n",
       "      <td>804.74</td>\n",
       "    </tr>\n",
       "    <tr>\n",
       "      <th>1980-02-01</th>\n",
       "      <td>4.0963</td>\n",
       "      <td>1.7482</td>\n",
       "      <td>810.01</td>\n",
       "    </tr>\n",
       "    <tr>\n",
       "      <th>1980-03-01</th>\n",
       "      <td>4.3149</td>\n",
       "      <td>1.8519</td>\n",
       "      <td>860.13</td>\n",
       "    </tr>\n",
       "    <tr>\n",
       "      <th>1980-03-02</th>\n",
       "      <td>4.0963</td>\n",
       "      <td>1.7482</td>\n",
       "      <td>810.01</td>\n",
       "    </tr>\n",
       "  </tbody>\n",
       "</table>\n",
       "</div>"
      ],
      "text/plain": [
       "                FR      GR      IT\n",
       "1980-01-01  4.0405  1.7246  804.74\n",
       "1980-02-01  4.0963  1.7482  810.01\n",
       "1980-03-01  4.3149  1.8519  860.13\n",
       "1980-03-02  4.0963  1.7482  810.01"
      ]
     },
     "execution_count": 723,
     "metadata": {},
     "output_type": "execute_result"
    }
   ],
   "source": [
    "df"
   ]
  },
  {
   "cell_type": "code",
   "execution_count": 724,
   "id": "01d2e7a0",
   "metadata": {},
   "outputs": [],
   "source": [
    "spx_px = close_px_all['SPX']"
   ]
  },
  {
   "cell_type": "code",
   "execution_count": 725,
   "id": "1491ce20",
   "metadata": {},
   "outputs": [
    {
     "data": {
      "text/plain": [
       "2003-01-02     909.03\n",
       "2003-01-03     908.59\n",
       "2003-01-06     929.01\n",
       "2003-01-07     922.93\n",
       "2003-01-08     909.93\n",
       "               ...   \n",
       "2011-10-10    1194.89\n",
       "2011-10-11    1195.54\n",
       "2011-10-12    1207.25\n",
       "2011-10-13    1203.66\n",
       "2011-10-14    1224.58\n",
       "Name: SPX, Length: 2214, dtype: float64"
      ]
     },
     "execution_count": 725,
     "metadata": {},
     "output_type": "execute_result"
    }
   ],
   "source": [
    "spx_px"
   ]
  },
  {
   "cell_type": "code",
   "execution_count": 726,
   "id": "20e270d3",
   "metadata": {},
   "outputs": [],
   "source": [
    "spx_rets = spx_px.pct_change()"
   ]
  },
  {
   "cell_type": "code",
   "execution_count": 727,
   "id": "437bda92",
   "metadata": {},
   "outputs": [
    {
     "data": {
      "text/plain": [
       "2003-01-02         NaN\n",
       "2003-01-03   -0.000484\n",
       "2003-01-06    0.022474\n",
       "2003-01-07   -0.006545\n",
       "2003-01-08   -0.014086\n",
       "                ...   \n",
       "2011-10-10    0.034125\n",
       "2011-10-11    0.000544\n",
       "2011-10-12    0.009795\n",
       "2011-10-13   -0.002974\n",
       "2011-10-14    0.017380\n",
       "Name: SPX, Length: 2214, dtype: float64"
      ]
     },
     "execution_count": 727,
     "metadata": {},
     "output_type": "execute_result"
    }
   ],
   "source": [
    "spx_rets"
   ]
  },
  {
   "cell_type": "code",
   "execution_count": 728,
   "id": "8d9acccf",
   "metadata": {},
   "outputs": [],
   "source": [
    "corr = returns.AAPL.rolling(125, min_periods=100).corr(spx_rets)"
   ]
  },
  {
   "cell_type": "code",
   "execution_count": 729,
   "id": "6d2902ea",
   "metadata": {},
   "outputs": [
    {
     "data": {
      "text/plain": [
       "<AxesSubplot:>"
      ]
     },
     "execution_count": 729,
     "metadata": {},
     "output_type": "execute_result"
    },
    {
     "data": {
      "image/png": "[encoded data removed]",
      "text/plain": [
       "<Figure size 432x288 with 1 Axes>"
      ]
     },
     "metadata": {
      "needs_background": "light"
     },
     "output_type": "display_data"
    }
   ],
   "source": [
    "corr.plot()"
   ]
  },
  {
   "cell_type": "code",
   "execution_count": 730,
   "id": "680b68fc",
   "metadata": {},
   "outputs": [],
   "source": [
    "corr = returns.rolling(125, min_periods=100).corr(spx_rets)"
   ]
  },
  {
   "cell_type": "code",
   "execution_count": 731,
   "id": "cca92c57",
   "metadata": {},
   "outputs": [
    {
     "data": {
      "text/plain": [
       "<AxesSubplot:>"
      ]
     },
     "execution_count": 731,
     "metadata": {},
     "output_type": "execute_result"
    },
    {
     "data": {
      "image/png": "[encoded data removed]",
      "text/plain": [
       "<Figure size 432x288 with 1 Axes>"
      ]
     },
     "metadata": {
      "needs_background": "light"
     },
     "output_type": "display_data"
    }
   ],
   "source": [
    "corr.plot()"
   ]
  },
  {
   "cell_type": "code",
   "execution_count": 732,
   "id": "3acd33d1",
   "metadata": {},
   "outputs": [],
   "source": [
    "from scipy.stats import percentileofscore"
   ]
  },
  {
   "cell_type": "code",
   "execution_count": 733,
   "id": "c28b4b68",
   "metadata": {},
   "outputs": [],
   "source": [
    "score_at_2percent = lambda x: percentileofscore(x, 0.02)"
   ]
  },
  {
   "cell_type": "code",
   "execution_count": 734,
   "id": "e89a1237",
   "metadata": {},
   "outputs": [],
   "source": [
    "res = returns['AAPL'].rolling(250).apply(score_at_2percent) # 对划分的窗口数据进行操作"
   ]
  },
  {
   "cell_type": "code",
   "execution_count": 735,
   "id": "556269cc",
   "metadata": {},
   "outputs": [
    {
     "data": {
      "text/plain": [
       "2003-01-02     NaN\n",
       "2003-01-03     NaN\n",
       "2003-01-06     NaN\n",
       "2003-01-07     NaN\n",
       "2003-01-08     NaN\n",
       "              ... \n",
       "2011-10-10    92.0\n",
       "2011-10-11    91.6\n",
       "2011-10-12    92.0\n",
       "2011-10-13    92.0\n",
       "2011-10-14    91.6\n",
       "Name: AAPL, Length: 2214, dtype: float64"
      ]
     },
     "execution_count": 735,
     "metadata": {},
     "output_type": "execute_result"
    }
   ],
   "source": [
    "res"
   ]
  },
  {
   "cell_type": "code",
   "execution_count": 736,
   "id": "c54fb07a",
   "metadata": {},
   "outputs": [
    {
     "data": {
      "text/plain": [
       "<AxesSubplot:>"
      ]
     },
     "execution_count": 736,
     "metadata": {},
     "output_type": "execute_result"
    },
    {
     "data": {
      "image/png": "[encoded data removed]",
      "text/plain": [
       "<Figure size 432x288 with 1 Axes>"
      ]
     },
     "metadata": {
      "needs_background": "light"
     },
     "output_type": "display_data"
    }
   ],
   "source": [
    "res.plot()"
   ]
  },
  {
   "cell_type": "code",
   "execution_count": 737,
   "id": "88822ef1",
   "metadata": {},
   "outputs": [],
   "source": [
    "# 完结 一头雾水"
   ]
  }
 ],
 "metadata": {
  "kernelspec": {
   "display_name": "Python 3 (ipykernel)",
   "language": "python",
   "name": "python3"
  },
  "language_info": {
   "codemirror_mode": {
    "name": "ipython",
    "version": 3
   },
   "file_extension": ".py",
   "mimetype": "text/x-python",
   "name": "python",
   "nbconvert_exporter": "python",
   "pygments_lexer": "ipython3",
   "version": "3.9.7"
  }
 },
 "nbformat": 4,
 "nbformat_minor": 5
}
