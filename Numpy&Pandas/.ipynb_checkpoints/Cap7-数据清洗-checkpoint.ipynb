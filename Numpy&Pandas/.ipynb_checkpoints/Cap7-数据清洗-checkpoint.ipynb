{
 "cells": [
  {
   "cell_type": "code",
   "execution_count": 2,
   "id": "8a883081",
   "metadata": {},
   "outputs": [],
   "source": [
    "# 数据清洗包含了缺失值、重复值、字符串操作等等内容 是数据预处理中重要的一部分\n",
    "import pandas as pd\n",
    "import numpy as np\n",
    "from numpy import nan as NULL\n",
    "from numpy import nan as NA\n",
    "from pandas import DataFrame, Series"
   ]
  },
  {
   "cell_type": "code",
   "execution_count": 3,
   "id": "a7d50fc3",
   "metadata": {},
   "outputs": [],
   "source": [
    "string_data = pd.Series(['aardvark', 'artichoke', np.nan, 'avocado'])"
   ]
  },
  {
   "cell_type": "code",
   "execution_count": 4,
   "id": "a6e6c2bc",
   "metadata": {},
   "outputs": [
    {
     "data": {
      "text/plain": [
       "0     aardvark\n",
       "1    artichoke\n",
       "2          NaN\n",
       "3      avocado\n",
       "dtype: object"
      ]
     },
     "execution_count": 4,
     "metadata": {},
     "output_type": "execute_result"
    }
   ],
   "source": [
    "string_data"
   ]
  },
  {
   "cell_type": "code",
   "execution_count": 5,
   "id": "d0356b83",
   "metadata": {},
   "outputs": [
    {
     "data": {
      "text/plain": [
       "0    False\n",
       "1    False\n",
       "2     True\n",
       "3    False\n",
       "dtype: bool"
      ]
     },
     "execution_count": 5,
     "metadata": {},
     "output_type": "execute_result"
    }
   ],
   "source": [
    "string_data.isnull()"
   ]
  },
  {
   "cell_type": "code",
   "execution_count": 6,
   "id": "e2fc1cbb",
   "metadata": {},
   "outputs": [],
   "source": [
    "string_data[0] = None"
   ]
  },
  {
   "cell_type": "code",
   "execution_count": 7,
   "id": "ac6a4cce",
   "metadata": {},
   "outputs": [
    {
     "data": {
      "text/plain": [
       "0         None\n",
       "1    artichoke\n",
       "2          NaN\n",
       "3      avocado\n",
       "dtype: object"
      ]
     },
     "execution_count": 7,
     "metadata": {},
     "output_type": "execute_result"
    }
   ],
   "source": [
    "string_data"
   ]
  },
  {
   "cell_type": "code",
   "execution_count": 8,
   "id": "20fc329d",
   "metadata": {},
   "outputs": [
    {
     "data": {
      "text/plain": [
       "0     True\n",
       "1    False\n",
       "2     True\n",
       "3    False\n",
       "dtype: bool"
      ]
     },
     "execution_count": 8,
     "metadata": {},
     "output_type": "execute_result"
    }
   ],
   "source": [
    "string_data.isnull()"
   ]
  },
  {
   "cell_type": "code",
   "execution_count": 9,
   "id": "fa9a2420",
   "metadata": {},
   "outputs": [
    {
     "data": {
      "text/plain": [
       "1    artichoke\n",
       "3      avocado\n",
       "dtype: object"
      ]
     },
     "execution_count": 9,
     "metadata": {},
     "output_type": "execute_result"
    }
   ],
   "source": [
    "string_data.dropna()"
   ]
  },
  {
   "cell_type": "code",
   "execution_count": 10,
   "id": "1baf62fe",
   "metadata": {},
   "outputs": [
    {
     "data": {
      "text/plain": [
       "0    False\n",
       "1     True\n",
       "2    False\n",
       "3     True\n",
       "dtype: bool"
      ]
     },
     "execution_count": 10,
     "metadata": {},
     "output_type": "execute_result"
    }
   ],
   "source": [
    "string_data.notna()"
   ]
  },
  {
   "cell_type": "code",
   "execution_count": 11,
   "id": "189c01c2",
   "metadata": {},
   "outputs": [],
   "source": [
    "string_data.fillna?"
   ]
  },
  {
   "cell_type": "code",
   "execution_count": 12,
   "id": "d55d181c",
   "metadata": {},
   "outputs": [
    {
     "name": "stdout",
     "output_type": "stream",
     "text": [
      "Object `reindex` not found.\n"
     ]
    }
   ],
   "source": [
    "df = DataFrame([1,2]).reindex?"
   ]
  },
  {
   "cell_type": "code",
   "execution_count": null,
   "id": "71776a23",
   "metadata": {},
   "outputs": [],
   "source": [
    "df = DataFrame([1,2]).reindex"
   ]
  },
  {
   "cell_type": "code",
   "execution_count": null,
   "id": "9c2609b2",
   "metadata": {},
   "outputs": [],
   "source": []
  },
  {
   "cell_type": "code",
   "execution_count": 13,
   "id": "a4dd4764",
   "metadata": {},
   "outputs": [],
   "source": [
    "df = DataFrame(np.arange(10))"
   ]
  },
  {
   "cell_type": "code",
   "execution_count": 14,
   "id": "7b571c74",
   "metadata": {},
   "outputs": [],
   "source": [
    "df.reindex?"
   ]
  },
  {
   "cell_type": "code",
   "execution_count": 15,
   "id": "1812d5a0",
   "metadata": {},
   "outputs": [
    {
     "data": {
      "text/plain": [
       "0         None\n",
       "1    artichoke\n",
       "2    artichoke\n",
       "3      avocado\n",
       "dtype: object"
      ]
     },
     "execution_count": 15,
     "metadata": {},
     "output_type": "execute_result"
    }
   ],
   "source": [
    "string_data.fillna(method='ffill')"
   ]
  },
  {
   "cell_type": "code",
   "execution_count": 16,
   "id": "7c7efeaa",
   "metadata": {},
   "outputs": [],
   "source": [
    "data = pd.Series([1, NA, 3.5, NA, 7])"
   ]
  },
  {
   "cell_type": "code",
   "execution_count": 17,
   "id": "bd1dc6b6",
   "metadata": {},
   "outputs": [
    {
     "data": {
      "text/plain": [
       "0    1.0\n",
       "2    3.5\n",
       "4    7.0\n",
       "dtype: float64"
      ]
     },
     "execution_count": 17,
     "metadata": {},
     "output_type": "execute_result"
    }
   ],
   "source": [
    "data.dropna() # remove缺失值"
   ]
  },
  {
   "cell_type": "code",
   "execution_count": 18,
   "id": "86b75955",
   "metadata": {},
   "outputs": [],
   "source": [
    "data = pd.DataFrame([[1., 6.5, 3.], [1., NA, NA],\n",
    "                   [NA, NA, NA], [NA, 6.5, 3.]], columns=list('abc'))"
   ]
  },
  {
   "cell_type": "code",
   "execution_count": 19,
   "id": "0bc1987e",
   "metadata": {},
   "outputs": [
    {
     "data": {
      "text/html": [
       "<div>\n",
       "<style scoped>\n",
       "    .dataframe tbody tr th:only-of-type {\n",
       "        vertical-align: middle;\n",
       "    }\n",
       "\n",
       "    .dataframe tbody tr th {\n",
       "        vertical-align: top;\n",
       "    }\n",
       "\n",
       "    .dataframe thead th {\n",
       "        text-align: right;\n",
       "    }\n",
       "</style>\n",
       "<table border=\"1\" class=\"dataframe\">\n",
       "  <thead>\n",
       "    <tr style=\"text-align: right;\">\n",
       "      <th></th>\n",
       "      <th>a</th>\n",
       "      <th>b</th>\n",
       "      <th>c</th>\n",
       "    </tr>\n",
       "  </thead>\n",
       "  <tbody>\n",
       "    <tr>\n",
       "      <th>0</th>\n",
       "      <td>1.0</td>\n",
       "      <td>6.5</td>\n",
       "      <td>3.0</td>\n",
       "    </tr>\n",
       "    <tr>\n",
       "      <th>1</th>\n",
       "      <td>1.0</td>\n",
       "      <td>NaN</td>\n",
       "      <td>NaN</td>\n",
       "    </tr>\n",
       "    <tr>\n",
       "      <th>2</th>\n",
       "      <td>NaN</td>\n",
       "      <td>NaN</td>\n",
       "      <td>NaN</td>\n",
       "    </tr>\n",
       "    <tr>\n",
       "      <th>3</th>\n",
       "      <td>NaN</td>\n",
       "      <td>6.5</td>\n",
       "      <td>3.0</td>\n",
       "    </tr>\n",
       "  </tbody>\n",
       "</table>\n",
       "</div>"
      ],
      "text/plain": [
       "     a    b    c\n",
       "0  1.0  6.5  3.0\n",
       "1  1.0  NaN  NaN\n",
       "2  NaN  NaN  NaN\n",
       "3  NaN  6.5  3.0"
      ]
     },
     "execution_count": 19,
     "metadata": {},
     "output_type": "execute_result"
    }
   ],
   "source": [
    "data"
   ]
  },
  {
   "cell_type": "code",
   "execution_count": 20,
   "id": "b8ac3c49",
   "metadata": {},
   "outputs": [],
   "source": [
    "cleaned = data.dropna(how='all') # 当所有值都是NA才删除"
   ]
  },
  {
   "cell_type": "code",
   "execution_count": 21,
   "id": "3f76c4c5",
   "metadata": {},
   "outputs": [
    {
     "data": {
      "text/html": [
       "<div>\n",
       "<style scoped>\n",
       "    .dataframe tbody tr th:only-of-type {\n",
       "        vertical-align: middle;\n",
       "    }\n",
       "\n",
       "    .dataframe tbody tr th {\n",
       "        vertical-align: top;\n",
       "    }\n",
       "\n",
       "    .dataframe thead th {\n",
       "        text-align: right;\n",
       "    }\n",
       "</style>\n",
       "<table border=\"1\" class=\"dataframe\">\n",
       "  <thead>\n",
       "    <tr style=\"text-align: right;\">\n",
       "      <th></th>\n",
       "      <th>a</th>\n",
       "      <th>b</th>\n",
       "      <th>c</th>\n",
       "    </tr>\n",
       "  </thead>\n",
       "  <tbody>\n",
       "    <tr>\n",
       "      <th>0</th>\n",
       "      <td>1.0</td>\n",
       "      <td>6.5</td>\n",
       "      <td>3.0</td>\n",
       "    </tr>\n",
       "    <tr>\n",
       "      <th>1</th>\n",
       "      <td>1.0</td>\n",
       "      <td>NaN</td>\n",
       "      <td>NaN</td>\n",
       "    </tr>\n",
       "    <tr>\n",
       "      <th>3</th>\n",
       "      <td>NaN</td>\n",
       "      <td>6.5</td>\n",
       "      <td>3.0</td>\n",
       "    </tr>\n",
       "  </tbody>\n",
       "</table>\n",
       "</div>"
      ],
      "text/plain": [
       "     a    b    c\n",
       "0  1.0  6.5  3.0\n",
       "1  1.0  NaN  NaN\n",
       "3  NaN  6.5  3.0"
      ]
     },
     "execution_count": 21,
     "metadata": {},
     "output_type": "execute_result"
    }
   ],
   "source": [
    "cleaned"
   ]
  },
  {
   "cell_type": "code",
   "execution_count": 22,
   "id": "72359d9a",
   "metadata": {},
   "outputs": [],
   "source": [
    "data['a'][1] = NA"
   ]
  },
  {
   "cell_type": "code",
   "execution_count": 23,
   "id": "add3175d",
   "metadata": {},
   "outputs": [],
   "source": [
    "data.dropna?"
   ]
  },
  {
   "cell_type": "code",
   "execution_count": 24,
   "id": "a66d48ed",
   "metadata": {},
   "outputs": [],
   "source": [
    "data[4] = NA"
   ]
  },
  {
   "cell_type": "code",
   "execution_count": 25,
   "id": "18f3cfd1",
   "metadata": {},
   "outputs": [
    {
     "data": {
      "text/html": [
       "<div>\n",
       "<style scoped>\n",
       "    .dataframe tbody tr th:only-of-type {\n",
       "        vertical-align: middle;\n",
       "    }\n",
       "\n",
       "    .dataframe tbody tr th {\n",
       "        vertical-align: top;\n",
       "    }\n",
       "\n",
       "    .dataframe thead th {\n",
       "        text-align: right;\n",
       "    }\n",
       "</style>\n",
       "<table border=\"1\" class=\"dataframe\">\n",
       "  <thead>\n",
       "    <tr style=\"text-align: right;\">\n",
       "      <th></th>\n",
       "      <th>a</th>\n",
       "      <th>b</th>\n",
       "      <th>c</th>\n",
       "      <th>4</th>\n",
       "    </tr>\n",
       "  </thead>\n",
       "  <tbody>\n",
       "    <tr>\n",
       "      <th>0</th>\n",
       "      <td>1.0</td>\n",
       "      <td>6.5</td>\n",
       "      <td>3.0</td>\n",
       "      <td>NaN</td>\n",
       "    </tr>\n",
       "    <tr>\n",
       "      <th>1</th>\n",
       "      <td>NaN</td>\n",
       "      <td>NaN</td>\n",
       "      <td>NaN</td>\n",
       "      <td>NaN</td>\n",
       "    </tr>\n",
       "    <tr>\n",
       "      <th>2</th>\n",
       "      <td>NaN</td>\n",
       "      <td>NaN</td>\n",
       "      <td>NaN</td>\n",
       "      <td>NaN</td>\n",
       "    </tr>\n",
       "    <tr>\n",
       "      <th>3</th>\n",
       "      <td>NaN</td>\n",
       "      <td>6.5</td>\n",
       "      <td>3.0</td>\n",
       "      <td>NaN</td>\n",
       "    </tr>\n",
       "  </tbody>\n",
       "</table>\n",
       "</div>"
      ],
      "text/plain": [
       "     a    b    c   4\n",
       "0  1.0  6.5  3.0 NaN\n",
       "1  NaN  NaN  NaN NaN\n",
       "2  NaN  NaN  NaN NaN\n",
       "3  NaN  6.5  3.0 NaN"
      ]
     },
     "execution_count": 25,
     "metadata": {},
     "output_type": "execute_result"
    }
   ],
   "source": [
    "data"
   ]
  },
  {
   "cell_type": "code",
   "execution_count": 26,
   "id": "b1bf5e5a",
   "metadata": {},
   "outputs": [
    {
     "data": {
      "text/html": [
       "<div>\n",
       "<style scoped>\n",
       "    .dataframe tbody tr th:only-of-type {\n",
       "        vertical-align: middle;\n",
       "    }\n",
       "\n",
       "    .dataframe tbody tr th {\n",
       "        vertical-align: top;\n",
       "    }\n",
       "\n",
       "    .dataframe thead th {\n",
       "        text-align: right;\n",
       "    }\n",
       "</style>\n",
       "<table border=\"1\" class=\"dataframe\">\n",
       "  <thead>\n",
       "    <tr style=\"text-align: right;\">\n",
       "      <th></th>\n",
       "      <th>a</th>\n",
       "      <th>b</th>\n",
       "      <th>c</th>\n",
       "    </tr>\n",
       "  </thead>\n",
       "  <tbody>\n",
       "    <tr>\n",
       "      <th>0</th>\n",
       "      <td>1.0</td>\n",
       "      <td>6.5</td>\n",
       "      <td>3.0</td>\n",
       "    </tr>\n",
       "    <tr>\n",
       "      <th>1</th>\n",
       "      <td>NaN</td>\n",
       "      <td>NaN</td>\n",
       "      <td>NaN</td>\n",
       "    </tr>\n",
       "    <tr>\n",
       "      <th>2</th>\n",
       "      <td>NaN</td>\n",
       "      <td>NaN</td>\n",
       "      <td>NaN</td>\n",
       "    </tr>\n",
       "    <tr>\n",
       "      <th>3</th>\n",
       "      <td>NaN</td>\n",
       "      <td>6.5</td>\n",
       "      <td>3.0</td>\n",
       "    </tr>\n",
       "  </tbody>\n",
       "</table>\n",
       "</div>"
      ],
      "text/plain": [
       "     a    b    c\n",
       "0  1.0  6.5  3.0\n",
       "1  NaN  NaN  NaN\n",
       "2  NaN  NaN  NaN\n",
       "3  NaN  6.5  3.0"
      ]
     },
     "execution_count": 26,
     "metadata": {},
     "output_type": "execute_result"
    }
   ],
   "source": [
    "data.dropna(axis=1, how='all')"
   ]
  },
  {
   "cell_type": "code",
   "execution_count": 27,
   "id": "0342a19d",
   "metadata": {},
   "outputs": [],
   "source": [
    "data.drop?"
   ]
  },
  {
   "cell_type": "code",
   "execution_count": 28,
   "id": "68114e06",
   "metadata": {},
   "outputs": [
    {
     "data": {
      "text/html": [
       "<div>\n",
       "<style scoped>\n",
       "    .dataframe tbody tr th:only-of-type {\n",
       "        vertical-align: middle;\n",
       "    }\n",
       "\n",
       "    .dataframe tbody tr th {\n",
       "        vertical-align: top;\n",
       "    }\n",
       "\n",
       "    .dataframe thead th {\n",
       "        text-align: right;\n",
       "    }\n",
       "</style>\n",
       "<table border=\"1\" class=\"dataframe\">\n",
       "  <thead>\n",
       "    <tr style=\"text-align: right;\">\n",
       "      <th></th>\n",
       "      <th>a</th>\n",
       "      <th>b</th>\n",
       "      <th>c</th>\n",
       "      <th>4</th>\n",
       "    </tr>\n",
       "  </thead>\n",
       "  <tbody>\n",
       "    <tr>\n",
       "      <th>1</th>\n",
       "      <td>NaN</td>\n",
       "      <td>NaN</td>\n",
       "      <td>NaN</td>\n",
       "      <td>NaN</td>\n",
       "    </tr>\n",
       "    <tr>\n",
       "      <th>2</th>\n",
       "      <td>NaN</td>\n",
       "      <td>NaN</td>\n",
       "      <td>NaN</td>\n",
       "      <td>NaN</td>\n",
       "    </tr>\n",
       "    <tr>\n",
       "      <th>3</th>\n",
       "      <td>NaN</td>\n",
       "      <td>6.5</td>\n",
       "      <td>3.0</td>\n",
       "      <td>NaN</td>\n",
       "    </tr>\n",
       "  </tbody>\n",
       "</table>\n",
       "</div>"
      ],
      "text/plain": [
       "    a    b    c   4\n",
       "1 NaN  NaN  NaN NaN\n",
       "2 NaN  NaN  NaN NaN\n",
       "3 NaN  6.5  3.0 NaN"
      ]
     },
     "execution_count": 28,
     "metadata": {},
     "output_type": "execute_result"
    }
   ],
   "source": [
    "data.drop(0)"
   ]
  },
  {
   "cell_type": "code",
   "execution_count": 29,
   "id": "55a5a9a2",
   "metadata": {},
   "outputs": [],
   "source": [
    "df = pd.DataFrame(np.random.randn(7, 3))"
   ]
  },
  {
   "cell_type": "code",
   "execution_count": 30,
   "id": "7aaa0f80",
   "metadata": {},
   "outputs": [],
   "source": [
    "df.iloc[:4, 1] = NA"
   ]
  },
  {
   "cell_type": "code",
   "execution_count": 31,
   "id": "0b3ed691",
   "metadata": {},
   "outputs": [],
   "source": [
    "df.iloc[:2, 2] = NA"
   ]
  },
  {
   "cell_type": "code",
   "execution_count": 32,
   "id": "03a76f45",
   "metadata": {},
   "outputs": [
    {
     "data": {
      "text/html": [
       "<div>\n",
       "<style scoped>\n",
       "    .dataframe tbody tr th:only-of-type {\n",
       "        vertical-align: middle;\n",
       "    }\n",
       "\n",
       "    .dataframe tbody tr th {\n",
       "        vertical-align: top;\n",
       "    }\n",
       "\n",
       "    .dataframe thead th {\n",
       "        text-align: right;\n",
       "    }\n",
       "</style>\n",
       "<table border=\"1\" class=\"dataframe\">\n",
       "  <thead>\n",
       "    <tr style=\"text-align: right;\">\n",
       "      <th></th>\n",
       "      <th>0</th>\n",
       "      <th>1</th>\n",
       "      <th>2</th>\n",
       "    </tr>\n",
       "  </thead>\n",
       "  <tbody>\n",
       "    <tr>\n",
       "      <th>0</th>\n",
       "      <td>0.727225</td>\n",
       "      <td>NaN</td>\n",
       "      <td>NaN</td>\n",
       "    </tr>\n",
       "    <tr>\n",
       "      <th>1</th>\n",
       "      <td>0.496073</td>\n",
       "      <td>NaN</td>\n",
       "      <td>NaN</td>\n",
       "    </tr>\n",
       "    <tr>\n",
       "      <th>2</th>\n",
       "      <td>-1.586515</td>\n",
       "      <td>NaN</td>\n",
       "      <td>0.809692</td>\n",
       "    </tr>\n",
       "    <tr>\n",
       "      <th>3</th>\n",
       "      <td>-0.226916</td>\n",
       "      <td>NaN</td>\n",
       "      <td>1.214560</td>\n",
       "    </tr>\n",
       "    <tr>\n",
       "      <th>4</th>\n",
       "      <td>-0.832148</td>\n",
       "      <td>-0.416649</td>\n",
       "      <td>-0.495800</td>\n",
       "    </tr>\n",
       "    <tr>\n",
       "      <th>5</th>\n",
       "      <td>-0.428583</td>\n",
       "      <td>1.449043</td>\n",
       "      <td>0.538643</td>\n",
       "    </tr>\n",
       "    <tr>\n",
       "      <th>6</th>\n",
       "      <td>-1.934541</td>\n",
       "      <td>0.331900</td>\n",
       "      <td>-0.253213</td>\n",
       "    </tr>\n",
       "  </tbody>\n",
       "</table>\n",
       "</div>"
      ],
      "text/plain": [
       "          0         1         2\n",
       "0  0.727225       NaN       NaN\n",
       "1  0.496073       NaN       NaN\n",
       "2 -1.586515       NaN  0.809692\n",
       "3 -0.226916       NaN  1.214560\n",
       "4 -0.832148 -0.416649 -0.495800\n",
       "5 -0.428583  1.449043  0.538643\n",
       "6 -1.934541  0.331900 -0.253213"
      ]
     },
     "execution_count": 32,
     "metadata": {},
     "output_type": "execute_result"
    }
   ],
   "source": [
    "df"
   ]
  },
  {
   "cell_type": "code",
   "execution_count": 33,
   "id": "32130c0e",
   "metadata": {},
   "outputs": [
    {
     "data": {
      "text/html": [
       "<div>\n",
       "<style scoped>\n",
       "    .dataframe tbody tr th:only-of-type {\n",
       "        vertical-align: middle;\n",
       "    }\n",
       "\n",
       "    .dataframe tbody tr th {\n",
       "        vertical-align: top;\n",
       "    }\n",
       "\n",
       "    .dataframe thead th {\n",
       "        text-align: right;\n",
       "    }\n",
       "</style>\n",
       "<table border=\"1\" class=\"dataframe\">\n",
       "  <thead>\n",
       "    <tr style=\"text-align: right;\">\n",
       "      <th></th>\n",
       "      <th>0</th>\n",
       "      <th>1</th>\n",
       "      <th>2</th>\n",
       "    </tr>\n",
       "  </thead>\n",
       "  <tbody>\n",
       "    <tr>\n",
       "      <th>4</th>\n",
       "      <td>-0.832148</td>\n",
       "      <td>-0.416649</td>\n",
       "      <td>-0.495800</td>\n",
       "    </tr>\n",
       "    <tr>\n",
       "      <th>5</th>\n",
       "      <td>-0.428583</td>\n",
       "      <td>1.449043</td>\n",
       "      <td>0.538643</td>\n",
       "    </tr>\n",
       "    <tr>\n",
       "      <th>6</th>\n",
       "      <td>-1.934541</td>\n",
       "      <td>0.331900</td>\n",
       "      <td>-0.253213</td>\n",
       "    </tr>\n",
       "  </tbody>\n",
       "</table>\n",
       "</div>"
      ],
      "text/plain": [
       "          0         1         2\n",
       "4 -0.832148 -0.416649 -0.495800\n",
       "5 -0.428583  1.449043  0.538643\n",
       "6 -1.934541  0.331900 -0.253213"
      ]
     },
     "execution_count": 33,
     "metadata": {},
     "output_type": "execute_result"
    }
   ],
   "source": [
    "df.dropna()"
   ]
  },
  {
   "cell_type": "code",
   "execution_count": 34,
   "id": "6118e441",
   "metadata": {},
   "outputs": [
    {
     "data": {
      "text/html": [
       "<div>\n",
       "<style scoped>\n",
       "    .dataframe tbody tr th:only-of-type {\n",
       "        vertical-align: middle;\n",
       "    }\n",
       "\n",
       "    .dataframe tbody tr th {\n",
       "        vertical-align: top;\n",
       "    }\n",
       "\n",
       "    .dataframe thead th {\n",
       "        text-align: right;\n",
       "    }\n",
       "</style>\n",
       "<table border=\"1\" class=\"dataframe\">\n",
       "  <thead>\n",
       "    <tr style=\"text-align: right;\">\n",
       "      <th></th>\n",
       "      <th>0</th>\n",
       "    </tr>\n",
       "  </thead>\n",
       "  <tbody>\n",
       "    <tr>\n",
       "      <th>0</th>\n",
       "      <td>0.727225</td>\n",
       "    </tr>\n",
       "    <tr>\n",
       "      <th>1</th>\n",
       "      <td>0.496073</td>\n",
       "    </tr>\n",
       "    <tr>\n",
       "      <th>2</th>\n",
       "      <td>-1.586515</td>\n",
       "    </tr>\n",
       "    <tr>\n",
       "      <th>3</th>\n",
       "      <td>-0.226916</td>\n",
       "    </tr>\n",
       "    <tr>\n",
       "      <th>4</th>\n",
       "      <td>-0.832148</td>\n",
       "    </tr>\n",
       "    <tr>\n",
       "      <th>5</th>\n",
       "      <td>-0.428583</td>\n",
       "    </tr>\n",
       "    <tr>\n",
       "      <th>6</th>\n",
       "      <td>-1.934541</td>\n",
       "    </tr>\n",
       "  </tbody>\n",
       "</table>\n",
       "</div>"
      ],
      "text/plain": [
       "          0\n",
       "0  0.727225\n",
       "1  0.496073\n",
       "2 -1.586515\n",
       "3 -0.226916\n",
       "4 -0.832148\n",
       "5 -0.428583\n",
       "6 -1.934541"
      ]
     },
     "execution_count": 34,
     "metadata": {},
     "output_type": "execute_result"
    }
   ],
   "source": [
    "df.dropna(axis=1)"
   ]
  },
  {
   "cell_type": "code",
   "execution_count": 35,
   "id": "7c7a003f",
   "metadata": {},
   "outputs": [
    {
     "data": {
      "text/html": [
       "<div>\n",
       "<style scoped>\n",
       "    .dataframe tbody tr th:only-of-type {\n",
       "        vertical-align: middle;\n",
       "    }\n",
       "\n",
       "    .dataframe tbody tr th {\n",
       "        vertical-align: top;\n",
       "    }\n",
       "\n",
       "    .dataframe thead th {\n",
       "        text-align: right;\n",
       "    }\n",
       "</style>\n",
       "<table border=\"1\" class=\"dataframe\">\n",
       "  <thead>\n",
       "    <tr style=\"text-align: right;\">\n",
       "      <th></th>\n",
       "      <th>0</th>\n",
       "      <th>1</th>\n",
       "      <th>2</th>\n",
       "    </tr>\n",
       "  </thead>\n",
       "  <tbody>\n",
       "    <tr>\n",
       "      <th>2</th>\n",
       "      <td>-1.586515</td>\n",
       "      <td>NaN</td>\n",
       "      <td>0.809692</td>\n",
       "    </tr>\n",
       "    <tr>\n",
       "      <th>3</th>\n",
       "      <td>-0.226916</td>\n",
       "      <td>NaN</td>\n",
       "      <td>1.214560</td>\n",
       "    </tr>\n",
       "    <tr>\n",
       "      <th>4</th>\n",
       "      <td>-0.832148</td>\n",
       "      <td>-0.416649</td>\n",
       "      <td>-0.495800</td>\n",
       "    </tr>\n",
       "    <tr>\n",
       "      <th>5</th>\n",
       "      <td>-0.428583</td>\n",
       "      <td>1.449043</td>\n",
       "      <td>0.538643</td>\n",
       "    </tr>\n",
       "    <tr>\n",
       "      <th>6</th>\n",
       "      <td>-1.934541</td>\n",
       "      <td>0.331900</td>\n",
       "      <td>-0.253213</td>\n",
       "    </tr>\n",
       "  </tbody>\n",
       "</table>\n",
       "</div>"
      ],
      "text/plain": [
       "          0         1         2\n",
       "2 -1.586515       NaN  0.809692\n",
       "3 -0.226916       NaN  1.214560\n",
       "4 -0.832148 -0.416649 -0.495800\n",
       "5 -0.428583  1.449043  0.538643\n",
       "6 -1.934541  0.331900 -0.253213"
      ]
     },
     "execution_count": 35,
     "metadata": {},
     "output_type": "execute_result"
    }
   ],
   "source": [
    "df.dropna(thresh=2, inplace=False)"
   ]
  },
  {
   "cell_type": "code",
   "execution_count": 36,
   "id": "4d096f60",
   "metadata": {},
   "outputs": [
    {
     "data": {
      "text/html": [
       "<div>\n",
       "<style scoped>\n",
       "    .dataframe tbody tr th:only-of-type {\n",
       "        vertical-align: middle;\n",
       "    }\n",
       "\n",
       "    .dataframe tbody tr th {\n",
       "        vertical-align: top;\n",
       "    }\n",
       "\n",
       "    .dataframe thead th {\n",
       "        text-align: right;\n",
       "    }\n",
       "</style>\n",
       "<table border=\"1\" class=\"dataframe\">\n",
       "  <thead>\n",
       "    <tr style=\"text-align: right;\">\n",
       "      <th></th>\n",
       "      <th>0</th>\n",
       "      <th>1</th>\n",
       "      <th>2</th>\n",
       "    </tr>\n",
       "  </thead>\n",
       "  <tbody>\n",
       "    <tr>\n",
       "      <th>0</th>\n",
       "      <td>0.727225</td>\n",
       "      <td>NaN</td>\n",
       "      <td>NaN</td>\n",
       "    </tr>\n",
       "    <tr>\n",
       "      <th>1</th>\n",
       "      <td>0.496073</td>\n",
       "      <td>NaN</td>\n",
       "      <td>NaN</td>\n",
       "    </tr>\n",
       "    <tr>\n",
       "      <th>2</th>\n",
       "      <td>-1.586515</td>\n",
       "      <td>NaN</td>\n",
       "      <td>0.809692</td>\n",
       "    </tr>\n",
       "    <tr>\n",
       "      <th>3</th>\n",
       "      <td>-0.226916</td>\n",
       "      <td>NaN</td>\n",
       "      <td>1.214560</td>\n",
       "    </tr>\n",
       "    <tr>\n",
       "      <th>4</th>\n",
       "      <td>-0.832148</td>\n",
       "      <td>-0.416649</td>\n",
       "      <td>-0.495800</td>\n",
       "    </tr>\n",
       "    <tr>\n",
       "      <th>5</th>\n",
       "      <td>-0.428583</td>\n",
       "      <td>1.449043</td>\n",
       "      <td>0.538643</td>\n",
       "    </tr>\n",
       "    <tr>\n",
       "      <th>6</th>\n",
       "      <td>-1.934541</td>\n",
       "      <td>0.331900</td>\n",
       "      <td>-0.253213</td>\n",
       "    </tr>\n",
       "  </tbody>\n",
       "</table>\n",
       "</div>"
      ],
      "text/plain": [
       "          0         1         2\n",
       "0  0.727225       NaN       NaN\n",
       "1  0.496073       NaN       NaN\n",
       "2 -1.586515       NaN  0.809692\n",
       "3 -0.226916       NaN  1.214560\n",
       "4 -0.832148 -0.416649 -0.495800\n",
       "5 -0.428583  1.449043  0.538643\n",
       "6 -1.934541  0.331900 -0.253213"
      ]
     },
     "execution_count": 36,
     "metadata": {},
     "output_type": "execute_result"
    }
   ],
   "source": [
    "df"
   ]
  },
  {
   "cell_type": "code",
   "execution_count": 37,
   "id": "312128f4",
   "metadata": {},
   "outputs": [
    {
     "data": {
      "text/html": [
       "<div>\n",
       "<style scoped>\n",
       "    .dataframe tbody tr th:only-of-type {\n",
       "        vertical-align: middle;\n",
       "    }\n",
       "\n",
       "    .dataframe tbody tr th {\n",
       "        vertical-align: top;\n",
       "    }\n",
       "\n",
       "    .dataframe thead th {\n",
       "        text-align: right;\n",
       "    }\n",
       "</style>\n",
       "<table border=\"1\" class=\"dataframe\">\n",
       "  <thead>\n",
       "    <tr style=\"text-align: right;\">\n",
       "      <th></th>\n",
       "      <th>0</th>\n",
       "      <th>1</th>\n",
       "      <th>2</th>\n",
       "    </tr>\n",
       "  </thead>\n",
       "  <tbody>\n",
       "    <tr>\n",
       "      <th>0</th>\n",
       "      <td>0.727225</td>\n",
       "      <td>NaN</td>\n",
       "      <td>NaN</td>\n",
       "    </tr>\n",
       "    <tr>\n",
       "      <th>1</th>\n",
       "      <td>0.496073</td>\n",
       "      <td>NaN</td>\n",
       "      <td>NaN</td>\n",
       "    </tr>\n",
       "    <tr>\n",
       "      <th>2</th>\n",
       "      <td>-1.586515</td>\n",
       "      <td>NaN</td>\n",
       "      <td>0.809692</td>\n",
       "    </tr>\n",
       "    <tr>\n",
       "      <th>3</th>\n",
       "      <td>-0.226916</td>\n",
       "      <td>NaN</td>\n",
       "      <td>1.214560</td>\n",
       "    </tr>\n",
       "    <tr>\n",
       "      <th>4</th>\n",
       "      <td>-0.832148</td>\n",
       "      <td>-0.416649</td>\n",
       "      <td>-0.495800</td>\n",
       "    </tr>\n",
       "    <tr>\n",
       "      <th>5</th>\n",
       "      <td>-0.428583</td>\n",
       "      <td>1.449043</td>\n",
       "      <td>0.538643</td>\n",
       "    </tr>\n",
       "    <tr>\n",
       "      <th>6</th>\n",
       "      <td>-1.934541</td>\n",
       "      <td>0.331900</td>\n",
       "      <td>-0.253213</td>\n",
       "    </tr>\n",
       "  </tbody>\n",
       "</table>\n",
       "</div>"
      ],
      "text/plain": [
       "          0         1         2\n",
       "0  0.727225       NaN       NaN\n",
       "1  0.496073       NaN       NaN\n",
       "2 -1.586515       NaN  0.809692\n",
       "3 -0.226916       NaN  1.214560\n",
       "4 -0.832148 -0.416649 -0.495800\n",
       "5 -0.428583  1.449043  0.538643\n",
       "6 -1.934541  0.331900 -0.253213"
      ]
     },
     "execution_count": 37,
     "metadata": {},
     "output_type": "execute_result"
    }
   ],
   "source": [
    "df"
   ]
  },
  {
   "cell_type": "code",
   "execution_count": 38,
   "id": "4cac2ce3",
   "metadata": {},
   "outputs": [
    {
     "data": {
      "text/html": [
       "<div>\n",
       "<style scoped>\n",
       "    .dataframe tbody tr th:only-of-type {\n",
       "        vertical-align: middle;\n",
       "    }\n",
       "\n",
       "    .dataframe tbody tr th {\n",
       "        vertical-align: top;\n",
       "    }\n",
       "\n",
       "    .dataframe thead th {\n",
       "        text-align: right;\n",
       "    }\n",
       "</style>\n",
       "<table border=\"1\" class=\"dataframe\">\n",
       "  <thead>\n",
       "    <tr style=\"text-align: right;\">\n",
       "      <th></th>\n",
       "      <th>0</th>\n",
       "      <th>1</th>\n",
       "      <th>2</th>\n",
       "    </tr>\n",
       "  </thead>\n",
       "  <tbody>\n",
       "    <tr>\n",
       "      <th>0</th>\n",
       "      <td>0.727225</td>\n",
       "      <td>0.500000</td>\n",
       "      <td>0.000000</td>\n",
       "    </tr>\n",
       "    <tr>\n",
       "      <th>1</th>\n",
       "      <td>0.496073</td>\n",
       "      <td>0.500000</td>\n",
       "      <td>0.000000</td>\n",
       "    </tr>\n",
       "    <tr>\n",
       "      <th>2</th>\n",
       "      <td>-1.586515</td>\n",
       "      <td>0.500000</td>\n",
       "      <td>0.809692</td>\n",
       "    </tr>\n",
       "    <tr>\n",
       "      <th>3</th>\n",
       "      <td>-0.226916</td>\n",
       "      <td>0.500000</td>\n",
       "      <td>1.214560</td>\n",
       "    </tr>\n",
       "    <tr>\n",
       "      <th>4</th>\n",
       "      <td>-0.832148</td>\n",
       "      <td>-0.416649</td>\n",
       "      <td>-0.495800</td>\n",
       "    </tr>\n",
       "    <tr>\n",
       "      <th>5</th>\n",
       "      <td>-0.428583</td>\n",
       "      <td>1.449043</td>\n",
       "      <td>0.538643</td>\n",
       "    </tr>\n",
       "    <tr>\n",
       "      <th>6</th>\n",
       "      <td>-1.934541</td>\n",
       "      <td>0.331900</td>\n",
       "      <td>-0.253213</td>\n",
       "    </tr>\n",
       "  </tbody>\n",
       "</table>\n",
       "</div>"
      ],
      "text/plain": [
       "          0         1         2\n",
       "0  0.727225  0.500000  0.000000\n",
       "1  0.496073  0.500000  0.000000\n",
       "2 -1.586515  0.500000  0.809692\n",
       "3 -0.226916  0.500000  1.214560\n",
       "4 -0.832148 -0.416649 -0.495800\n",
       "5 -0.428583  1.449043  0.538643\n",
       "6 -1.934541  0.331900 -0.253213"
      ]
     },
     "execution_count": 38,
     "metadata": {},
     "output_type": "execute_result"
    }
   ],
   "source": [
    "df.fillna({1: 0.5, 2: 0}) # 使用字典分别指定不同列的处理方法"
   ]
  },
  {
   "cell_type": "code",
   "execution_count": 39,
   "id": "b2c07adc",
   "metadata": {},
   "outputs": [],
   "source": [
    "df.fillna(limit=2, method='bfill', inplace=True)"
   ]
  },
  {
   "cell_type": "code",
   "execution_count": 40,
   "id": "0a1957c3",
   "metadata": {},
   "outputs": [],
   "source": [
    "df.fillna(limit=2, method='ffill', inplace=True)"
   ]
  },
  {
   "cell_type": "code",
   "execution_count": 41,
   "id": "4669caf2",
   "metadata": {},
   "outputs": [
    {
     "data": {
      "text/html": [
       "<div>\n",
       "<style scoped>\n",
       "    .dataframe tbody tr th:only-of-type {\n",
       "        vertical-align: middle;\n",
       "    }\n",
       "\n",
       "    .dataframe tbody tr th {\n",
       "        vertical-align: top;\n",
       "    }\n",
       "\n",
       "    .dataframe thead th {\n",
       "        text-align: right;\n",
       "    }\n",
       "</style>\n",
       "<table border=\"1\" class=\"dataframe\">\n",
       "  <thead>\n",
       "    <tr style=\"text-align: right;\">\n",
       "      <th></th>\n",
       "      <th>0</th>\n",
       "      <th>1</th>\n",
       "      <th>2</th>\n",
       "    </tr>\n",
       "  </thead>\n",
       "  <tbody>\n",
       "    <tr>\n",
       "      <th>0</th>\n",
       "      <td>0.727225</td>\n",
       "      <td>NaN</td>\n",
       "      <td>0.809692</td>\n",
       "    </tr>\n",
       "    <tr>\n",
       "      <th>1</th>\n",
       "      <td>0.496073</td>\n",
       "      <td>NaN</td>\n",
       "      <td>0.809692</td>\n",
       "    </tr>\n",
       "    <tr>\n",
       "      <th>2</th>\n",
       "      <td>-1.586515</td>\n",
       "      <td>-0.416649</td>\n",
       "      <td>0.809692</td>\n",
       "    </tr>\n",
       "    <tr>\n",
       "      <th>3</th>\n",
       "      <td>-0.226916</td>\n",
       "      <td>-0.416649</td>\n",
       "      <td>1.214560</td>\n",
       "    </tr>\n",
       "    <tr>\n",
       "      <th>4</th>\n",
       "      <td>-0.832148</td>\n",
       "      <td>-0.416649</td>\n",
       "      <td>-0.495800</td>\n",
       "    </tr>\n",
       "    <tr>\n",
       "      <th>5</th>\n",
       "      <td>-0.428583</td>\n",
       "      <td>1.449043</td>\n",
       "      <td>0.538643</td>\n",
       "    </tr>\n",
       "    <tr>\n",
       "      <th>6</th>\n",
       "      <td>-1.934541</td>\n",
       "      <td>0.331900</td>\n",
       "      <td>-0.253213</td>\n",
       "    </tr>\n",
       "  </tbody>\n",
       "</table>\n",
       "</div>"
      ],
      "text/plain": [
       "          0         1         2\n",
       "0  0.727225       NaN  0.809692\n",
       "1  0.496073       NaN  0.809692\n",
       "2 -1.586515 -0.416649  0.809692\n",
       "3 -0.226916 -0.416649  1.214560\n",
       "4 -0.832148 -0.416649 -0.495800\n",
       "5 -0.428583  1.449043  0.538643\n",
       "6 -1.934541  0.331900 -0.253213"
      ]
     },
     "execution_count": 41,
     "metadata": {},
     "output_type": "execute_result"
    }
   ],
   "source": [
    "df"
   ]
  },
  {
   "cell_type": "code",
   "execution_count": 42,
   "id": "7a6c1a6c",
   "metadata": {},
   "outputs": [],
   "source": [
    "data = pd.Series([1., NA, 3.5, NA, 7])"
   ]
  },
  {
   "cell_type": "code",
   "execution_count": 43,
   "id": "fe1f1127",
   "metadata": {},
   "outputs": [
    {
     "data": {
      "text/plain": [
       "0    1.0\n",
       "1    NaN\n",
       "2    3.5\n",
       "3    NaN\n",
       "4    7.0\n",
       "dtype: float64"
      ]
     },
     "execution_count": 43,
     "metadata": {},
     "output_type": "execute_result"
    }
   ],
   "source": [
    "data"
   ]
  },
  {
   "cell_type": "code",
   "execution_count": 44,
   "id": "af5f53eb",
   "metadata": {},
   "outputs": [
    {
     "data": {
      "text/plain": [
       "0    1.000000\n",
       "1    3.833333\n",
       "2    3.500000\n",
       "3    3.833333\n",
       "4    7.000000\n",
       "dtype: float64"
      ]
     },
     "execution_count": 44,
     "metadata": {},
     "output_type": "execute_result"
    }
   ],
   "source": [
    "data.fillna(data.mean()) # 使用平均值进行填充"
   ]
  },
  {
   "cell_type": "code",
   "execution_count": 45,
   "id": "8704597d",
   "metadata": {},
   "outputs": [
    {
     "data": {
      "text/plain": [
       "0    1.0\n",
       "1    NaN\n",
       "2    3.5\n",
       "3    NaN\n",
       "4    7.0\n",
       "dtype: float64"
      ]
     },
     "execution_count": 45,
     "metadata": {},
     "output_type": "execute_result"
    }
   ],
   "source": [
    "data"
   ]
  },
  {
   "cell_type": "code",
   "execution_count": 46,
   "id": "71c9fd2a",
   "metadata": {},
   "outputs": [],
   "source": [
    "data = pd.DataFrame({'k1': ['one', 'two'] * 3 + ['two'],\n",
    "                    'k2': [1, 1, 2, 3, 3, 4, 4]})"
   ]
  },
  {
   "cell_type": "code",
   "execution_count": 47,
   "id": "027eaaf4",
   "metadata": {},
   "outputs": [
    {
     "data": {
      "text/html": [
       "<div>\n",
       "<style scoped>\n",
       "    .dataframe tbody tr th:only-of-type {\n",
       "        vertical-align: middle;\n",
       "    }\n",
       "\n",
       "    .dataframe tbody tr th {\n",
       "        vertical-align: top;\n",
       "    }\n",
       "\n",
       "    .dataframe thead th {\n",
       "        text-align: right;\n",
       "    }\n",
       "</style>\n",
       "<table border=\"1\" class=\"dataframe\">\n",
       "  <thead>\n",
       "    <tr style=\"text-align: right;\">\n",
       "      <th></th>\n",
       "      <th>k1</th>\n",
       "      <th>k2</th>\n",
       "    </tr>\n",
       "  </thead>\n",
       "  <tbody>\n",
       "    <tr>\n",
       "      <th>0</th>\n",
       "      <td>one</td>\n",
       "      <td>1</td>\n",
       "    </tr>\n",
       "    <tr>\n",
       "      <th>1</th>\n",
       "      <td>two</td>\n",
       "      <td>1</td>\n",
       "    </tr>\n",
       "    <tr>\n",
       "      <th>2</th>\n",
       "      <td>one</td>\n",
       "      <td>2</td>\n",
       "    </tr>\n",
       "    <tr>\n",
       "      <th>3</th>\n",
       "      <td>two</td>\n",
       "      <td>3</td>\n",
       "    </tr>\n",
       "    <tr>\n",
       "      <th>4</th>\n",
       "      <td>one</td>\n",
       "      <td>3</td>\n",
       "    </tr>\n",
       "    <tr>\n",
       "      <th>5</th>\n",
       "      <td>two</td>\n",
       "      <td>4</td>\n",
       "    </tr>\n",
       "    <tr>\n",
       "      <th>6</th>\n",
       "      <td>two</td>\n",
       "      <td>4</td>\n",
       "    </tr>\n",
       "  </tbody>\n",
       "</table>\n",
       "</div>"
      ],
      "text/plain": [
       "    k1  k2\n",
       "0  one   1\n",
       "1  two   1\n",
       "2  one   2\n",
       "3  two   3\n",
       "4  one   3\n",
       "5  two   4\n",
       "6  two   4"
      ]
     },
     "execution_count": 47,
     "metadata": {},
     "output_type": "execute_result"
    }
   ],
   "source": [
    "data"
   ]
  },
  {
   "cell_type": "code",
   "execution_count": 48,
   "id": "2a3ef3c4",
   "metadata": {},
   "outputs": [
    {
     "data": {
      "text/plain": [
       "0    False\n",
       "1    False\n",
       "2    False\n",
       "3    False\n",
       "4    False\n",
       "5    False\n",
       "6     True\n",
       "dtype: bool"
      ]
     },
     "execution_count": 48,
     "metadata": {},
     "output_type": "execute_result"
    }
   ],
   "source": [
    "data.duplicated()"
   ]
  },
  {
   "cell_type": "code",
   "execution_count": 49,
   "id": "59381a77",
   "metadata": {},
   "outputs": [
    {
     "data": {
      "text/html": [
       "<div>\n",
       "<style scoped>\n",
       "    .dataframe tbody tr th:only-of-type {\n",
       "        vertical-align: middle;\n",
       "    }\n",
       "\n",
       "    .dataframe tbody tr th {\n",
       "        vertical-align: top;\n",
       "    }\n",
       "\n",
       "    .dataframe thead th {\n",
       "        text-align: right;\n",
       "    }\n",
       "</style>\n",
       "<table border=\"1\" class=\"dataframe\">\n",
       "  <thead>\n",
       "    <tr style=\"text-align: right;\">\n",
       "      <th></th>\n",
       "      <th>k1</th>\n",
       "      <th>k2</th>\n",
       "    </tr>\n",
       "  </thead>\n",
       "  <tbody>\n",
       "    <tr>\n",
       "      <th>0</th>\n",
       "      <td>one</td>\n",
       "      <td>1</td>\n",
       "    </tr>\n",
       "    <tr>\n",
       "      <th>1</th>\n",
       "      <td>two</td>\n",
       "      <td>1</td>\n",
       "    </tr>\n",
       "    <tr>\n",
       "      <th>2</th>\n",
       "      <td>one</td>\n",
       "      <td>2</td>\n",
       "    </tr>\n",
       "    <tr>\n",
       "      <th>3</th>\n",
       "      <td>two</td>\n",
       "      <td>3</td>\n",
       "    </tr>\n",
       "    <tr>\n",
       "      <th>4</th>\n",
       "      <td>one</td>\n",
       "      <td>3</td>\n",
       "    </tr>\n",
       "    <tr>\n",
       "      <th>5</th>\n",
       "      <td>two</td>\n",
       "      <td>4</td>\n",
       "    </tr>\n",
       "  </tbody>\n",
       "</table>\n",
       "</div>"
      ],
      "text/plain": [
       "    k1  k2\n",
       "0  one   1\n",
       "1  two   1\n",
       "2  one   2\n",
       "3  two   3\n",
       "4  one   3\n",
       "5  two   4"
      ]
     },
     "execution_count": 49,
     "metadata": {},
     "output_type": "execute_result"
    }
   ],
   "source": [
    "data.drop_duplicates()"
   ]
  },
  {
   "cell_type": "code",
   "execution_count": 50,
   "id": "dcdeb276",
   "metadata": {},
   "outputs": [],
   "source": [
    "data['k3'] = range(7)"
   ]
  },
  {
   "cell_type": "code",
   "execution_count": 51,
   "id": "43072a44",
   "metadata": {},
   "outputs": [
    {
     "data": {
      "text/html": [
       "<div>\n",
       "<style scoped>\n",
       "    .dataframe tbody tr th:only-of-type {\n",
       "        vertical-align: middle;\n",
       "    }\n",
       "\n",
       "    .dataframe tbody tr th {\n",
       "        vertical-align: top;\n",
       "    }\n",
       "\n",
       "    .dataframe thead th {\n",
       "        text-align: right;\n",
       "    }\n",
       "</style>\n",
       "<table border=\"1\" class=\"dataframe\">\n",
       "  <thead>\n",
       "    <tr style=\"text-align: right;\">\n",
       "      <th></th>\n",
       "      <th>k1</th>\n",
       "      <th>k2</th>\n",
       "      <th>k3</th>\n",
       "    </tr>\n",
       "  </thead>\n",
       "  <tbody>\n",
       "    <tr>\n",
       "      <th>0</th>\n",
       "      <td>one</td>\n",
       "      <td>1</td>\n",
       "      <td>0</td>\n",
       "    </tr>\n",
       "    <tr>\n",
       "      <th>1</th>\n",
       "      <td>two</td>\n",
       "      <td>1</td>\n",
       "      <td>1</td>\n",
       "    </tr>\n",
       "    <tr>\n",
       "      <th>2</th>\n",
       "      <td>one</td>\n",
       "      <td>2</td>\n",
       "      <td>2</td>\n",
       "    </tr>\n",
       "    <tr>\n",
       "      <th>3</th>\n",
       "      <td>two</td>\n",
       "      <td>3</td>\n",
       "      <td>3</td>\n",
       "    </tr>\n",
       "    <tr>\n",
       "      <th>4</th>\n",
       "      <td>one</td>\n",
       "      <td>3</td>\n",
       "      <td>4</td>\n",
       "    </tr>\n",
       "    <tr>\n",
       "      <th>5</th>\n",
       "      <td>two</td>\n",
       "      <td>4</td>\n",
       "      <td>5</td>\n",
       "    </tr>\n",
       "    <tr>\n",
       "      <th>6</th>\n",
       "      <td>two</td>\n",
       "      <td>4</td>\n",
       "      <td>6</td>\n",
       "    </tr>\n",
       "  </tbody>\n",
       "</table>\n",
       "</div>"
      ],
      "text/plain": [
       "    k1  k2  k3\n",
       "0  one   1   0\n",
       "1  two   1   1\n",
       "2  one   2   2\n",
       "3  two   3   3\n",
       "4  one   3   4\n",
       "5  two   4   5\n",
       "6  two   4   6"
      ]
     },
     "execution_count": 51,
     "metadata": {},
     "output_type": "execute_result"
    }
   ],
   "source": [
    "data"
   ]
  },
  {
   "cell_type": "code",
   "execution_count": 52,
   "id": "d37ff864",
   "metadata": {},
   "outputs": [
    {
     "data": {
      "text/html": [
       "<div>\n",
       "<style scoped>\n",
       "    .dataframe tbody tr th:only-of-type {\n",
       "        vertical-align: middle;\n",
       "    }\n",
       "\n",
       "    .dataframe tbody tr th {\n",
       "        vertical-align: top;\n",
       "    }\n",
       "\n",
       "    .dataframe thead th {\n",
       "        text-align: right;\n",
       "    }\n",
       "</style>\n",
       "<table border=\"1\" class=\"dataframe\">\n",
       "  <thead>\n",
       "    <tr style=\"text-align: right;\">\n",
       "      <th></th>\n",
       "      <th>k1</th>\n",
       "      <th>k2</th>\n",
       "      <th>k3</th>\n",
       "    </tr>\n",
       "  </thead>\n",
       "  <tbody>\n",
       "    <tr>\n",
       "      <th>0</th>\n",
       "      <td>one</td>\n",
       "      <td>1</td>\n",
       "      <td>0</td>\n",
       "    </tr>\n",
       "    <tr>\n",
       "      <th>1</th>\n",
       "      <td>two</td>\n",
       "      <td>1</td>\n",
       "      <td>1</td>\n",
       "    </tr>\n",
       "    <tr>\n",
       "      <th>2</th>\n",
       "      <td>one</td>\n",
       "      <td>2</td>\n",
       "      <td>2</td>\n",
       "    </tr>\n",
       "    <tr>\n",
       "      <th>3</th>\n",
       "      <td>two</td>\n",
       "      <td>3</td>\n",
       "      <td>3</td>\n",
       "    </tr>\n",
       "    <tr>\n",
       "      <th>4</th>\n",
       "      <td>one</td>\n",
       "      <td>3</td>\n",
       "      <td>4</td>\n",
       "    </tr>\n",
       "  </tbody>\n",
       "</table>\n",
       "</div>"
      ],
      "text/plain": [
       "    k1  k2  k3\n",
       "0  one   1   0\n",
       "1  two   1   1\n",
       "2  one   2   2\n",
       "3  two   3   3\n",
       "4  one   3   4"
      ]
     },
     "execution_count": 52,
     "metadata": {},
     "output_type": "execute_result"
    }
   ],
   "source": [
    "data.drop_duplicates(['k1', 'k2'], keep=False)"
   ]
  },
  {
   "cell_type": "code",
   "execution_count": 53,
   "id": "35cdcc4f",
   "metadata": {},
   "outputs": [
    {
     "data": {
      "text/plain": [
       "0    One\n",
       "1    Two\n",
       "2    One\n",
       "3    Two\n",
       "4    One\n",
       "5    Two\n",
       "6    Two\n",
       "Name: k1, dtype: object"
      ]
     },
     "execution_count": 53,
     "metadata": {},
     "output_type": "execute_result"
    }
   ],
   "source": [
    "data['k1'].str.title() # 创建字符串 然后使用字符串的内置函数对其进行操作"
   ]
  },
  {
   "cell_type": "code",
   "execution_count": 54,
   "id": "4ddf1e23",
   "metadata": {},
   "outputs": [],
   "source": [
    "data = pd.DataFrame({'food': ['bacon', 'pulled pork', 'bacon',\n",
    "                             'Pastrami', 'corned beef', 'Bacon',\n",
    "                             'pastrami', 'honey ham', 'nova lox'],\n",
    "                    'ounces': [4, 3, 12, 6, 7.5, 8, 3, 5, 6]})"
   ]
  },
  {
   "cell_type": "code",
   "execution_count": 55,
   "id": "e195d381",
   "metadata": {},
   "outputs": [
    {
     "data": {
      "text/html": [
       "<div>\n",
       "<style scoped>\n",
       "    .dataframe tbody tr th:only-of-type {\n",
       "        vertical-align: middle;\n",
       "    }\n",
       "\n",
       "    .dataframe tbody tr th {\n",
       "        vertical-align: top;\n",
       "    }\n",
       "\n",
       "    .dataframe thead th {\n",
       "        text-align: right;\n",
       "    }\n",
       "</style>\n",
       "<table border=\"1\" class=\"dataframe\">\n",
       "  <thead>\n",
       "    <tr style=\"text-align: right;\">\n",
       "      <th></th>\n",
       "      <th>food</th>\n",
       "      <th>ounces</th>\n",
       "    </tr>\n",
       "  </thead>\n",
       "  <tbody>\n",
       "    <tr>\n",
       "      <th>0</th>\n",
       "      <td>bacon</td>\n",
       "      <td>4.0</td>\n",
       "    </tr>\n",
       "    <tr>\n",
       "      <th>1</th>\n",
       "      <td>pulled pork</td>\n",
       "      <td>3.0</td>\n",
       "    </tr>\n",
       "    <tr>\n",
       "      <th>2</th>\n",
       "      <td>bacon</td>\n",
       "      <td>12.0</td>\n",
       "    </tr>\n",
       "    <tr>\n",
       "      <th>3</th>\n",
       "      <td>Pastrami</td>\n",
       "      <td>6.0</td>\n",
       "    </tr>\n",
       "    <tr>\n",
       "      <th>4</th>\n",
       "      <td>corned beef</td>\n",
       "      <td>7.5</td>\n",
       "    </tr>\n",
       "    <tr>\n",
       "      <th>5</th>\n",
       "      <td>Bacon</td>\n",
       "      <td>8.0</td>\n",
       "    </tr>\n",
       "    <tr>\n",
       "      <th>6</th>\n",
       "      <td>pastrami</td>\n",
       "      <td>3.0</td>\n",
       "    </tr>\n",
       "    <tr>\n",
       "      <th>7</th>\n",
       "      <td>honey ham</td>\n",
       "      <td>5.0</td>\n",
       "    </tr>\n",
       "    <tr>\n",
       "      <th>8</th>\n",
       "      <td>nova lox</td>\n",
       "      <td>6.0</td>\n",
       "    </tr>\n",
       "  </tbody>\n",
       "</table>\n",
       "</div>"
      ],
      "text/plain": [
       "          food  ounces\n",
       "0        bacon     4.0\n",
       "1  pulled pork     3.0\n",
       "2        bacon    12.0\n",
       "3     Pastrami     6.0\n",
       "4  corned beef     7.5\n",
       "5        Bacon     8.0\n",
       "6     pastrami     3.0\n",
       "7    honey ham     5.0\n",
       "8     nova lox     6.0"
      ]
     },
     "execution_count": 55,
     "metadata": {},
     "output_type": "execute_result"
    }
   ],
   "source": [
    "data"
   ]
  },
  {
   "cell_type": "code",
   "execution_count": 56,
   "id": "3d23ea86",
   "metadata": {},
   "outputs": [],
   "source": [
    "meat_to_animal = {\n",
    "    'bacon': 'pig',\n",
    "    'pulled pork': 'pig',\n",
    "    'pastrami': 'cow',\n",
    "    'corned beef': 'cow',\n",
    "    'honey ham': 'pig',\n",
    "    'nova lox': 'salmon'\n",
    "}"
   ]
  },
  {
   "cell_type": "code",
   "execution_count": 57,
   "id": "8967480b",
   "metadata": {},
   "outputs": [
    {
     "data": {
      "text/plain": [
       "{'bacon': 'pig',\n",
       " 'pulled pork': 'pig',\n",
       " 'pastrami': 'cow',\n",
       " 'corned beef': 'cow',\n",
       " 'honey ham': 'pig',\n",
       " 'nova lox': 'salmon'}"
      ]
     },
     "execution_count": 57,
     "metadata": {},
     "output_type": "execute_result"
    }
   ],
   "source": [
    "meat_to_animal"
   ]
  },
  {
   "cell_type": "code",
   "execution_count": 58,
   "id": "8a26b4c2",
   "metadata": {},
   "outputs": [],
   "source": [
    "lowercased = data['food'].str.lower()"
   ]
  },
  {
   "cell_type": "code",
   "execution_count": 59,
   "id": "1c04f936",
   "metadata": {},
   "outputs": [
    {
     "data": {
      "text/plain": [
       "0          bacon\n",
       "1    pulled pork\n",
       "2          bacon\n",
       "3       pastrami\n",
       "4    corned beef\n",
       "5          bacon\n",
       "6       pastrami\n",
       "7      honey ham\n",
       "8       nova lox\n",
       "Name: food, dtype: object"
      ]
     },
     "execution_count": 59,
     "metadata": {},
     "output_type": "execute_result"
    }
   ],
   "source": [
    "lowercased"
   ]
  },
  {
   "cell_type": "code",
   "execution_count": 60,
   "id": "7b7819f0",
   "metadata": {},
   "outputs": [],
   "source": [
    "data['animal'] = lowercased.map(meat_to_animal) # 使用map方法 获取键值对的映射"
   ]
  },
  {
   "cell_type": "code",
   "execution_count": 61,
   "id": "fb9d3d92",
   "metadata": {},
   "outputs": [
    {
     "data": {
      "text/html": [
       "<div>\n",
       "<style scoped>\n",
       "    .dataframe tbody tr th:only-of-type {\n",
       "        vertical-align: middle;\n",
       "    }\n",
       "\n",
       "    .dataframe tbody tr th {\n",
       "        vertical-align: top;\n",
       "    }\n",
       "\n",
       "    .dataframe thead th {\n",
       "        text-align: right;\n",
       "    }\n",
       "</style>\n",
       "<table border=\"1\" class=\"dataframe\">\n",
       "  <thead>\n",
       "    <tr style=\"text-align: right;\">\n",
       "      <th></th>\n",
       "      <th>food</th>\n",
       "      <th>ounces</th>\n",
       "    </tr>\n",
       "  </thead>\n",
       "  <tbody>\n",
       "    <tr>\n",
       "      <th>0</th>\n",
       "      <td>bacon</td>\n",
       "      <td>4.0</td>\n",
       "    </tr>\n",
       "    <tr>\n",
       "      <th>1</th>\n",
       "      <td>pulled pork</td>\n",
       "      <td>3.0</td>\n",
       "    </tr>\n",
       "    <tr>\n",
       "      <th>2</th>\n",
       "      <td>bacon</td>\n",
       "      <td>12.0</td>\n",
       "    </tr>\n",
       "    <tr>\n",
       "      <th>3</th>\n",
       "      <td>Pastrami</td>\n",
       "      <td>6.0</td>\n",
       "    </tr>\n",
       "    <tr>\n",
       "      <th>4</th>\n",
       "      <td>corned beef</td>\n",
       "      <td>7.5</td>\n",
       "    </tr>\n",
       "    <tr>\n",
       "      <th>5</th>\n",
       "      <td>Bacon</td>\n",
       "      <td>8.0</td>\n",
       "    </tr>\n",
       "    <tr>\n",
       "      <th>6</th>\n",
       "      <td>pastrami</td>\n",
       "      <td>3.0</td>\n",
       "    </tr>\n",
       "    <tr>\n",
       "      <th>7</th>\n",
       "      <td>honey ham</td>\n",
       "      <td>5.0</td>\n",
       "    </tr>\n",
       "    <tr>\n",
       "      <th>8</th>\n",
       "      <td>nova lox</td>\n",
       "      <td>6.0</td>\n",
       "    </tr>\n",
       "  </tbody>\n",
       "</table>\n",
       "</div>"
      ],
      "text/plain": [
       "          food  ounces\n",
       "0        bacon     4.0\n",
       "1  pulled pork     3.0\n",
       "2        bacon    12.0\n",
       "3     Pastrami     6.0\n",
       "4  corned beef     7.5\n",
       "5        Bacon     8.0\n",
       "6     pastrami     3.0\n",
       "7    honey ham     5.0\n",
       "8     nova lox     6.0"
      ]
     },
     "execution_count": 61,
     "metadata": {},
     "output_type": "execute_result"
    }
   ],
   "source": [
    "data.drop('animal', axis=1) "
   ]
  },
  {
   "cell_type": "code",
   "execution_count": 62,
   "id": "2a5cc3fc",
   "metadata": {},
   "outputs": [],
   "source": [
    "data['animal'] = lowercased.map(lambda x: meat_to_animal[x.lower()]) # 定义lambda函数 处理键值对的映射"
   ]
  },
  {
   "cell_type": "code",
   "execution_count": 63,
   "id": "70eadc4c",
   "metadata": {},
   "outputs": [
    {
     "data": {
      "text/html": [
       "<div>\n",
       "<style scoped>\n",
       "    .dataframe tbody tr th:only-of-type {\n",
       "        vertical-align: middle;\n",
       "    }\n",
       "\n",
       "    .dataframe tbody tr th {\n",
       "        vertical-align: top;\n",
       "    }\n",
       "\n",
       "    .dataframe thead th {\n",
       "        text-align: right;\n",
       "    }\n",
       "</style>\n",
       "<table border=\"1\" class=\"dataframe\">\n",
       "  <thead>\n",
       "    <tr style=\"text-align: right;\">\n",
       "      <th></th>\n",
       "      <th>food</th>\n",
       "      <th>ounces</th>\n",
       "      <th>animal</th>\n",
       "    </tr>\n",
       "  </thead>\n",
       "  <tbody>\n",
       "    <tr>\n",
       "      <th>0</th>\n",
       "      <td>bacon</td>\n",
       "      <td>4.0</td>\n",
       "      <td>pig</td>\n",
       "    </tr>\n",
       "    <tr>\n",
       "      <th>1</th>\n",
       "      <td>pulled pork</td>\n",
       "      <td>3.0</td>\n",
       "      <td>pig</td>\n",
       "    </tr>\n",
       "    <tr>\n",
       "      <th>2</th>\n",
       "      <td>bacon</td>\n",
       "      <td>12.0</td>\n",
       "      <td>pig</td>\n",
       "    </tr>\n",
       "    <tr>\n",
       "      <th>3</th>\n",
       "      <td>Pastrami</td>\n",
       "      <td>6.0</td>\n",
       "      <td>cow</td>\n",
       "    </tr>\n",
       "    <tr>\n",
       "      <th>4</th>\n",
       "      <td>corned beef</td>\n",
       "      <td>7.5</td>\n",
       "      <td>cow</td>\n",
       "    </tr>\n",
       "    <tr>\n",
       "      <th>5</th>\n",
       "      <td>Bacon</td>\n",
       "      <td>8.0</td>\n",
       "      <td>pig</td>\n",
       "    </tr>\n",
       "    <tr>\n",
       "      <th>6</th>\n",
       "      <td>pastrami</td>\n",
       "      <td>3.0</td>\n",
       "      <td>cow</td>\n",
       "    </tr>\n",
       "    <tr>\n",
       "      <th>7</th>\n",
       "      <td>honey ham</td>\n",
       "      <td>5.0</td>\n",
       "      <td>pig</td>\n",
       "    </tr>\n",
       "    <tr>\n",
       "      <th>8</th>\n",
       "      <td>nova lox</td>\n",
       "      <td>6.0</td>\n",
       "      <td>salmon</td>\n",
       "    </tr>\n",
       "  </tbody>\n",
       "</table>\n",
       "</div>"
      ],
      "text/plain": [
       "          food  ounces  animal\n",
       "0        bacon     4.0     pig\n",
       "1  pulled pork     3.0     pig\n",
       "2        bacon    12.0     pig\n",
       "3     Pastrami     6.0     cow\n",
       "4  corned beef     7.5     cow\n",
       "5        Bacon     8.0     pig\n",
       "6     pastrami     3.0     cow\n",
       "7    honey ham     5.0     pig\n",
       "8     nova lox     6.0  salmon"
      ]
     },
     "execution_count": 63,
     "metadata": {},
     "output_type": "execute_result"
    }
   ],
   "source": [
    "data"
   ]
  },
  {
   "cell_type": "code",
   "execution_count": 64,
   "id": "f3405728",
   "metadata": {},
   "outputs": [],
   "source": [
    "data = pd.Series([1., -999., 2., -999., -1000., 3.])"
   ]
  },
  {
   "cell_type": "code",
   "execution_count": 65,
   "id": "1297d088",
   "metadata": {},
   "outputs": [
    {
     "data": {
      "text/plain": [
       "0       1.0\n",
       "1    -999.0\n",
       "2       2.0\n",
       "3    -999.0\n",
       "4   -1000.0\n",
       "5       3.0\n",
       "dtype: float64"
      ]
     },
     "execution_count": 65,
     "metadata": {},
     "output_type": "execute_result"
    }
   ],
   "source": [
    "data"
   ]
  },
  {
   "cell_type": "code",
   "execution_count": 66,
   "id": "9d1ce16f",
   "metadata": {},
   "outputs": [
    {
     "data": {
      "text/plain": [
       "0       1.0\n",
       "1       NaN\n",
       "2       2.0\n",
       "3       NaN\n",
       "4   -1000.0\n",
       "5       3.0\n",
       "dtype: float64"
      ]
     },
     "execution_count": 66,
     "metadata": {},
     "output_type": "execute_result"
    }
   ],
   "source": [
    "data.replace(-999, NA)"
   ]
  },
  {
   "cell_type": "code",
   "execution_count": 67,
   "id": "afdf3f76",
   "metadata": {},
   "outputs": [
    {
     "data": {
      "text/plain": [
       "0       1.0\n",
       "1       NaN\n",
       "2       2.0\n",
       "3       NaN\n",
       "4   -1000.0\n",
       "5       3.0\n",
       "dtype: float64"
      ]
     },
     "execution_count": 67,
     "metadata": {},
     "output_type": "execute_result"
    }
   ],
   "source": [
    "data.replace([1000, -999], NA)"
   ]
  },
  {
   "cell_type": "code",
   "execution_count": 68,
   "id": "b3c64687",
   "metadata": {},
   "outputs": [
    {
     "data": {
      "text/plain": [
       "0    1.0\n",
       "1    NaN\n",
       "2    2.0\n",
       "3    NaN\n",
       "4    0.0\n",
       "5    3.0\n",
       "dtype: float64"
      ]
     },
     "execution_count": 68,
     "metadata": {},
     "output_type": "execute_result"
    }
   ],
   "source": [
    "data.replace([-1000, -999], [0, NA])"
   ]
  },
  {
   "cell_type": "code",
   "execution_count": 69,
   "id": "4612b3e0",
   "metadata": {},
   "outputs": [
    {
     "data": {
      "text/plain": [
       "0    1.0\n",
       "1    NaN\n",
       "2    2.0\n",
       "3    NaN\n",
       "4    0.0\n",
       "5    3.0\n",
       "dtype: float64"
      ]
     },
     "execution_count": 69,
     "metadata": {},
     "output_type": "execute_result"
    }
   ],
   "source": [
    "data.replace({-1000: 0, -999: NA})"
   ]
  },
  {
   "cell_type": "code",
   "execution_count": 70,
   "id": "a15e3156",
   "metadata": {},
   "outputs": [
    {
     "data": {
      "text/plain": [
       "0       1.0\n",
       "1    -999.0\n",
       "2       2.0\n",
       "3    -999.0\n",
       "4   -1000.0\n",
       "5       3.0\n",
       "dtype: float64"
      ]
     },
     "execution_count": 70,
     "metadata": {},
     "output_type": "execute_result"
    }
   ],
   "source": [
    "data"
   ]
  },
  {
   "cell_type": "code",
   "execution_count": 71,
   "id": "889d27ec",
   "metadata": {},
   "outputs": [],
   "source": [
    "data.replace?"
   ]
  },
  {
   "cell_type": "code",
   "execution_count": 72,
   "id": "8b06da3a",
   "metadata": {},
   "outputs": [
    {
     "data": {
      "text/plain": [
       "0       1.0\n",
       "1    -999.0\n",
       "2       2.0\n",
       "3    -999.0\n",
       "4   -1000.0\n",
       "5       3.0\n",
       "dtype: float64"
      ]
     },
     "execution_count": 72,
     "metadata": {},
     "output_type": "execute_result"
    }
   ],
   "source": [
    "data.replace(None, method='ffill')"
   ]
  },
  {
   "cell_type": "code",
   "execution_count": 73,
   "id": "8c3966a5",
   "metadata": {},
   "outputs": [
    {
     "data": {
      "text/plain": [
       "'fucklo world'"
      ]
     },
     "execution_count": 73,
     "metadata": {},
     "output_type": "execute_result"
    }
   ],
   "source": [
    "str1 = 'hello world'\n",
    "str1.replace('hel', 'fuck')"
   ]
  },
  {
   "cell_type": "code",
   "execution_count": 74,
   "id": "eb3c850f",
   "metadata": {},
   "outputs": [
    {
     "data": {
      "text/plain": [
       "'hello world'"
      ]
     },
     "execution_count": 74,
     "metadata": {},
     "output_type": "execute_result"
    }
   ],
   "source": [
    "str1"
   ]
  },
  {
   "cell_type": "code",
   "execution_count": 75,
   "id": "1d4dae0a",
   "metadata": {},
   "outputs": [],
   "source": [
    "str.replace?"
   ]
  },
  {
   "cell_type": "code",
   "execution_count": 76,
   "id": "f9ababd3",
   "metadata": {},
   "outputs": [],
   "source": [
    "data = pd.DataFrame(np.arange(12).reshape((3, 4)),\n",
    "                   index=['Ohio', 'Colorado', 'New York'],\n",
    "                   columns=['one', 'two', 'three', 'four'])"
   ]
  },
  {
   "cell_type": "code",
   "execution_count": 77,
   "id": "c8826320",
   "metadata": {},
   "outputs": [
    {
     "data": {
      "text/html": [
       "<div>\n",
       "<style scoped>\n",
       "    .dataframe tbody tr th:only-of-type {\n",
       "        vertical-align: middle;\n",
       "    }\n",
       "\n",
       "    .dataframe tbody tr th {\n",
       "        vertical-align: top;\n",
       "    }\n",
       "\n",
       "    .dataframe thead th {\n",
       "        text-align: right;\n",
       "    }\n",
       "</style>\n",
       "<table border=\"1\" class=\"dataframe\">\n",
       "  <thead>\n",
       "    <tr style=\"text-align: right;\">\n",
       "      <th></th>\n",
       "      <th>one</th>\n",
       "      <th>two</th>\n",
       "      <th>three</th>\n",
       "      <th>four</th>\n",
       "    </tr>\n",
       "  </thead>\n",
       "  <tbody>\n",
       "    <tr>\n",
       "      <th>Ohio</th>\n",
       "      <td>0</td>\n",
       "      <td>1</td>\n",
       "      <td>2</td>\n",
       "      <td>3</td>\n",
       "    </tr>\n",
       "    <tr>\n",
       "      <th>Colorado</th>\n",
       "      <td>4</td>\n",
       "      <td>5</td>\n",
       "      <td>6</td>\n",
       "      <td>7</td>\n",
       "    </tr>\n",
       "    <tr>\n",
       "      <th>New York</th>\n",
       "      <td>8</td>\n",
       "      <td>9</td>\n",
       "      <td>10</td>\n",
       "      <td>11</td>\n",
       "    </tr>\n",
       "  </tbody>\n",
       "</table>\n",
       "</div>"
      ],
      "text/plain": [
       "          one  two  three  four\n",
       "Ohio        0    1      2     3\n",
       "Colorado    4    5      6     7\n",
       "New York    8    9     10    11"
      ]
     },
     "execution_count": 77,
     "metadata": {},
     "output_type": "execute_result"
    }
   ],
   "source": [
    "data"
   ]
  },
  {
   "cell_type": "code",
   "execution_count": 78,
   "id": "243affc1",
   "metadata": {},
   "outputs": [],
   "source": [
    "transform = lambda x: x[:4].upper()"
   ]
  },
  {
   "cell_type": "code",
   "execution_count": 79,
   "id": "c2d45348",
   "metadata": {},
   "outputs": [
    {
     "data": {
      "text/plain": [
       "<function __main__.<lambda>(x)>"
      ]
     },
     "execution_count": 79,
     "metadata": {},
     "output_type": "execute_result"
    }
   ],
   "source": [
    "transform"
   ]
  },
  {
   "cell_type": "code",
   "execution_count": 80,
   "id": "62746c94",
   "metadata": {},
   "outputs": [
    {
     "data": {
      "text/plain": [
       "Index(['OHIO', 'COLO', 'NEW '], dtype='object')"
      ]
     },
     "execution_count": 80,
     "metadata": {},
     "output_type": "execute_result"
    }
   ],
   "source": [
    "data.index.map(transform)"
   ]
  },
  {
   "cell_type": "code",
   "execution_count": 81,
   "id": "5e5e72ca",
   "metadata": {},
   "outputs": [],
   "source": [
    "data.index = data.index.map(transform)"
   ]
  },
  {
   "cell_type": "code",
   "execution_count": 82,
   "id": "8775cb5f",
   "metadata": {},
   "outputs": [
    {
     "data": {
      "text/html": [
       "<div>\n",
       "<style scoped>\n",
       "    .dataframe tbody tr th:only-of-type {\n",
       "        vertical-align: middle;\n",
       "    }\n",
       "\n",
       "    .dataframe tbody tr th {\n",
       "        vertical-align: top;\n",
       "    }\n",
       "\n",
       "    .dataframe thead th {\n",
       "        text-align: right;\n",
       "    }\n",
       "</style>\n",
       "<table border=\"1\" class=\"dataframe\">\n",
       "  <thead>\n",
       "    <tr style=\"text-align: right;\">\n",
       "      <th></th>\n",
       "      <th>one</th>\n",
       "      <th>two</th>\n",
       "      <th>three</th>\n",
       "      <th>four</th>\n",
       "    </tr>\n",
       "  </thead>\n",
       "  <tbody>\n",
       "    <tr>\n",
       "      <th>OHIO</th>\n",
       "      <td>0</td>\n",
       "      <td>1</td>\n",
       "      <td>2</td>\n",
       "      <td>3</td>\n",
       "    </tr>\n",
       "    <tr>\n",
       "      <th>COLO</th>\n",
       "      <td>4</td>\n",
       "      <td>5</td>\n",
       "      <td>6</td>\n",
       "      <td>7</td>\n",
       "    </tr>\n",
       "    <tr>\n",
       "      <th>NEW</th>\n",
       "      <td>8</td>\n",
       "      <td>9</td>\n",
       "      <td>10</td>\n",
       "      <td>11</td>\n",
       "    </tr>\n",
       "  </tbody>\n",
       "</table>\n",
       "</div>"
      ],
      "text/plain": [
       "      one  two  three  four\n",
       "OHIO    0    1      2     3\n",
       "COLO    4    5      6     7\n",
       "NEW     8    9     10    11"
      ]
     },
     "execution_count": 82,
     "metadata": {},
     "output_type": "execute_result"
    }
   ],
   "source": [
    "data"
   ]
  },
  {
   "cell_type": "code",
   "execution_count": 83,
   "id": "c16fff75",
   "metadata": {},
   "outputs": [],
   "source": [
    "data.index = data.index.str.title()"
   ]
  },
  {
   "cell_type": "code",
   "execution_count": 84,
   "id": "a9943449",
   "metadata": {},
   "outputs": [
    {
     "data": {
      "text/html": [
       "<div>\n",
       "<style scoped>\n",
       "    .dataframe tbody tr th:only-of-type {\n",
       "        vertical-align: middle;\n",
       "    }\n",
       "\n",
       "    .dataframe tbody tr th {\n",
       "        vertical-align: top;\n",
       "    }\n",
       "\n",
       "    .dataframe thead th {\n",
       "        text-align: right;\n",
       "    }\n",
       "</style>\n",
       "<table border=\"1\" class=\"dataframe\">\n",
       "  <thead>\n",
       "    <tr style=\"text-align: right;\">\n",
       "      <th></th>\n",
       "      <th>one</th>\n",
       "      <th>two</th>\n",
       "      <th>three</th>\n",
       "      <th>four</th>\n",
       "    </tr>\n",
       "  </thead>\n",
       "  <tbody>\n",
       "    <tr>\n",
       "      <th>Ohio</th>\n",
       "      <td>0</td>\n",
       "      <td>1</td>\n",
       "      <td>2</td>\n",
       "      <td>3</td>\n",
       "    </tr>\n",
       "    <tr>\n",
       "      <th>Colo</th>\n",
       "      <td>4</td>\n",
       "      <td>5</td>\n",
       "      <td>6</td>\n",
       "      <td>7</td>\n",
       "    </tr>\n",
       "    <tr>\n",
       "      <th>New</th>\n",
       "      <td>8</td>\n",
       "      <td>9</td>\n",
       "      <td>10</td>\n",
       "      <td>11</td>\n",
       "    </tr>\n",
       "  </tbody>\n",
       "</table>\n",
       "</div>"
      ],
      "text/plain": [
       "      one  two  three  four\n",
       "Ohio    0    1      2     3\n",
       "Colo    4    5      6     7\n",
       "New     8    9     10    11"
      ]
     },
     "execution_count": 84,
     "metadata": {},
     "output_type": "execute_result"
    }
   ],
   "source": [
    "data"
   ]
  },
  {
   "cell_type": "code",
   "execution_count": 85,
   "id": "82188358",
   "metadata": {},
   "outputs": [
    {
     "data": {
      "text/plain": [
       "Index(['one', 'two', 'three', 'four'], dtype='object')"
      ]
     },
     "execution_count": 85,
     "metadata": {},
     "output_type": "execute_result"
    }
   ],
   "source": [
    "data.columns"
   ]
  },
  {
   "cell_type": "code",
   "execution_count": 86,
   "id": "795eceb9",
   "metadata": {},
   "outputs": [],
   "source": [
    "data.columns = data.columns.str.upper()"
   ]
  },
  {
   "cell_type": "code",
   "execution_count": 87,
   "id": "b6995642",
   "metadata": {},
   "outputs": [
    {
     "data": {
      "text/html": [
       "<div>\n",
       "<style scoped>\n",
       "    .dataframe tbody tr th:only-of-type {\n",
       "        vertical-align: middle;\n",
       "    }\n",
       "\n",
       "    .dataframe tbody tr th {\n",
       "        vertical-align: top;\n",
       "    }\n",
       "\n",
       "    .dataframe thead th {\n",
       "        text-align: right;\n",
       "    }\n",
       "</style>\n",
       "<table border=\"1\" class=\"dataframe\">\n",
       "  <thead>\n",
       "    <tr style=\"text-align: right;\">\n",
       "      <th></th>\n",
       "      <th>ONE</th>\n",
       "      <th>TWO</th>\n",
       "      <th>THREE</th>\n",
       "      <th>FOUR</th>\n",
       "    </tr>\n",
       "  </thead>\n",
       "  <tbody>\n",
       "    <tr>\n",
       "      <th>Ohio</th>\n",
       "      <td>0</td>\n",
       "      <td>1</td>\n",
       "      <td>2</td>\n",
       "      <td>3</td>\n",
       "    </tr>\n",
       "    <tr>\n",
       "      <th>Colo</th>\n",
       "      <td>4</td>\n",
       "      <td>5</td>\n",
       "      <td>6</td>\n",
       "      <td>7</td>\n",
       "    </tr>\n",
       "    <tr>\n",
       "      <th>New</th>\n",
       "      <td>8</td>\n",
       "      <td>9</td>\n",
       "      <td>10</td>\n",
       "      <td>11</td>\n",
       "    </tr>\n",
       "  </tbody>\n",
       "</table>\n",
       "</div>"
      ],
      "text/plain": [
       "      ONE  TWO  THREE  FOUR\n",
       "Ohio    0    1      2     3\n",
       "Colo    4    5      6     7\n",
       "New     8    9     10    11"
      ]
     },
     "execution_count": 87,
     "metadata": {},
     "output_type": "execute_result"
    }
   ],
   "source": [
    "data"
   ]
  },
  {
   "cell_type": "code",
   "execution_count": 88,
   "id": "8a78deff",
   "metadata": {},
   "outputs": [],
   "source": [
    "data.rename?"
   ]
  },
  {
   "cell_type": "code",
   "execution_count": 89,
   "id": "3869de40",
   "metadata": {},
   "outputs": [
    {
     "data": {
      "text/html": [
       "<div>\n",
       "<style scoped>\n",
       "    .dataframe tbody tr th:only-of-type {\n",
       "        vertical-align: middle;\n",
       "    }\n",
       "\n",
       "    .dataframe tbody tr th {\n",
       "        vertical-align: top;\n",
       "    }\n",
       "\n",
       "    .dataframe thead th {\n",
       "        text-align: right;\n",
       "    }\n",
       "</style>\n",
       "<table border=\"1\" class=\"dataframe\">\n",
       "  <thead>\n",
       "    <tr style=\"text-align: right;\">\n",
       "      <th></th>\n",
       "      <th>ONE</th>\n",
       "      <th>TWO</th>\n",
       "      <th>THREE</th>\n",
       "      <th>FOUR</th>\n",
       "    </tr>\n",
       "  </thead>\n",
       "  <tbody>\n",
       "    <tr>\n",
       "      <th>Ohio</th>\n",
       "      <td>0</td>\n",
       "      <td>1</td>\n",
       "      <td>2</td>\n",
       "      <td>3</td>\n",
       "    </tr>\n",
       "    <tr>\n",
       "      <th>Colo</th>\n",
       "      <td>4</td>\n",
       "      <td>5</td>\n",
       "      <td>6</td>\n",
       "      <td>7</td>\n",
       "    </tr>\n",
       "    <tr>\n",
       "      <th>New</th>\n",
       "      <td>8</td>\n",
       "      <td>9</td>\n",
       "      <td>10</td>\n",
       "      <td>11</td>\n",
       "    </tr>\n",
       "  </tbody>\n",
       "</table>\n",
       "</div>"
      ],
      "text/plain": [
       "      ONE  TWO  THREE  FOUR\n",
       "Ohio    0    1      2     3\n",
       "Colo    4    5      6     7\n",
       "New     8    9     10    11"
      ]
     },
     "execution_count": 89,
     "metadata": {},
     "output_type": "execute_result"
    }
   ],
   "source": [
    "# data.rename(index=str.title, columns=str.upper) # ?\n",
    "data"
   ]
  },
  {
   "cell_type": "code",
   "execution_count": 90,
   "id": "e2d80d77",
   "metadata": {},
   "outputs": [],
   "source": [
    "data.rename(index={'Ohio': \"INDIANA\"},\n",
    "           columns={'THREEE': 'peekaboo'}, inplace=True)"
   ]
  },
  {
   "cell_type": "code",
   "execution_count": 91,
   "id": "17dd9afb",
   "metadata": {},
   "outputs": [
    {
     "data": {
      "text/html": [
       "<div>\n",
       "<style scoped>\n",
       "    .dataframe tbody tr th:only-of-type {\n",
       "        vertical-align: middle;\n",
       "    }\n",
       "\n",
       "    .dataframe tbody tr th {\n",
       "        vertical-align: top;\n",
       "    }\n",
       "\n",
       "    .dataframe thead th {\n",
       "        text-align: right;\n",
       "    }\n",
       "</style>\n",
       "<table border=\"1\" class=\"dataframe\">\n",
       "  <thead>\n",
       "    <tr style=\"text-align: right;\">\n",
       "      <th></th>\n",
       "      <th>ONE</th>\n",
       "      <th>TWO</th>\n",
       "      <th>THREE</th>\n",
       "      <th>FOUR</th>\n",
       "    </tr>\n",
       "  </thead>\n",
       "  <tbody>\n",
       "    <tr>\n",
       "      <th>INDIANA</th>\n",
       "      <td>0</td>\n",
       "      <td>1</td>\n",
       "      <td>2</td>\n",
       "      <td>3</td>\n",
       "    </tr>\n",
       "    <tr>\n",
       "      <th>Colo</th>\n",
       "      <td>4</td>\n",
       "      <td>5</td>\n",
       "      <td>6</td>\n",
       "      <td>7</td>\n",
       "    </tr>\n",
       "    <tr>\n",
       "      <th>New</th>\n",
       "      <td>8</td>\n",
       "      <td>9</td>\n",
       "      <td>10</td>\n",
       "      <td>11</td>\n",
       "    </tr>\n",
       "  </tbody>\n",
       "</table>\n",
       "</div>"
      ],
      "text/plain": [
       "         ONE  TWO  THREE  FOUR\n",
       "INDIANA    0    1      2     3\n",
       "Colo       4    5      6     7\n",
       "New        8    9     10    11"
      ]
     },
     "execution_count": 91,
     "metadata": {},
     "output_type": "execute_result"
    }
   ],
   "source": [
    "data"
   ]
  },
  {
   "cell_type": "code",
   "execution_count": 92,
   "id": "8dbb2ad8",
   "metadata": {},
   "outputs": [],
   "source": [
    "ages = [20, 22, 25, 27, 21, 23, 37, 31, 61, 45, 41, 32]"
   ]
  },
  {
   "cell_type": "code",
   "execution_count": 93,
   "id": "e3f349e2",
   "metadata": {},
   "outputs": [
    {
     "data": {
      "text/plain": [
       "[20, 22, 25, 27, 21, 23, 37, 31, 61, 45, 41, 32]"
      ]
     },
     "execution_count": 93,
     "metadata": {},
     "output_type": "execute_result"
    }
   ],
   "source": [
    "ages"
   ]
  },
  {
   "cell_type": "code",
   "execution_count": 94,
   "id": "84c5bdbc",
   "metadata": {},
   "outputs": [],
   "source": [
    "bins = [18, 25, 35, 60, 100]"
   ]
  },
  {
   "cell_type": "code",
   "execution_count": 95,
   "id": "89947ad2",
   "metadata": {},
   "outputs": [],
   "source": [
    "cats = pd.cut(ages, bins, right=True)"
   ]
  },
  {
   "cell_type": "code",
   "execution_count": 96,
   "id": "8d9483c3",
   "metadata": {},
   "outputs": [
    {
     "data": {
      "text/plain": [
       "[(18, 25], (18, 25], (18, 25], (25, 35], (18, 25], ..., (25, 35], (60, 100], (35, 60], (35, 60], (25, 35]]\n",
       "Length: 12\n",
       "Categories (4, interval[int64, right]): [(18, 25] < (25, 35] < (35, 60] < (60, 100]]"
      ]
     },
     "execution_count": 96,
     "metadata": {},
     "output_type": "execute_result"
    }
   ],
   "source": [
    "cats"
   ]
  },
  {
   "cell_type": "code",
   "execution_count": 97,
   "id": "32606dd9",
   "metadata": {},
   "outputs": [
    {
     "data": {
      "text/plain": [
       "array([0, 0, 0, 1, 0, 0, 2, 1, 3, 2, 2, 1], dtype=int8)"
      ]
     },
     "execution_count": 97,
     "metadata": {},
     "output_type": "execute_result"
    }
   ],
   "source": [
    "cats.codes # 获取值所属的箱位"
   ]
  },
  {
   "cell_type": "code",
   "execution_count": 98,
   "id": "6c6804f5",
   "metadata": {},
   "outputs": [
    {
     "data": {
      "text/plain": [
       "IntervalIndex([(18, 25], (25, 35], (35, 60], (60, 100]], dtype='interval[int64, right]')"
      ]
     },
     "execution_count": 98,
     "metadata": {},
     "output_type": "execute_result"
    }
   ],
   "source": [
    "cats.categories"
   ]
  },
  {
   "cell_type": "code",
   "execution_count": 99,
   "id": "4a384a37",
   "metadata": {},
   "outputs": [
    {
     "data": {
      "text/plain": [
       "(18, 25]     5\n",
       "(25, 35]     3\n",
       "(35, 60]     3\n",
       "(60, 100]    1\n",
       "dtype: int64"
      ]
     },
     "execution_count": 99,
     "metadata": {},
     "output_type": "execute_result"
    }
   ],
   "source": [
    "pd.value_counts(cats) # 箱也可以算作是一种数据值"
   ]
  },
  {
   "cell_type": "code",
   "execution_count": 100,
   "id": "b1004db4",
   "metadata": {},
   "outputs": [],
   "source": [
    "group_names = ['Youth', 'YoungAdult', 'MiddleAged', 'Senior']"
   ]
  },
  {
   "cell_type": "code",
   "execution_count": 101,
   "id": "5c350c61",
   "metadata": {},
   "outputs": [
    {
     "data": {
      "text/plain": [
       "['Youth', 'Youth', 'Youth', 'YoungAdult', 'Youth', ..., 'YoungAdult', 'Senior', 'MiddleAged', 'MiddleAged', 'YoungAdult']\n",
       "Length: 12\n",
       "Categories (4, object): ['Youth' < 'YoungAdult' < 'MiddleAged' < 'Senior']"
      ]
     },
     "execution_count": 101,
     "metadata": {},
     "output_type": "execute_result"
    }
   ],
   "source": [
    "pd.cut(ages, bins, right=True, labels=group_names)"
   ]
  },
  {
   "cell_type": "code",
   "execution_count": 102,
   "id": "d03c64db",
   "metadata": {},
   "outputs": [],
   "source": [
    "data = np.random.randn(20)"
   ]
  },
  {
   "cell_type": "code",
   "execution_count": 103,
   "id": "4c2ed2b8",
   "metadata": {},
   "outputs": [
    {
     "data": {
      "text/plain": [
       "[(-0.24, 0.59], (0.59, 1.42], (-0.24, 0.59], (-1.9, -1.07], (-0.24, 0.59], ..., (-1.07, -0.24], (-0.24, 0.59], (0.59, 1.42], (-1.07, -0.24], (-1.07, -0.24]]\n",
       "Length: 20\n",
       "Categories (4, interval[float64, right]): [(-1.9, -1.07] < (-1.07, -0.24] < (-0.24, 0.59] < (0.59, 1.42]]"
      ]
     },
     "execution_count": 103,
     "metadata": {},
     "output_type": "execute_result"
    }
   ],
   "source": [
    "pd.cut(data, 4, precision=2)"
   ]
  },
  {
   "cell_type": "code",
   "execution_count": 104,
   "id": "4d3cc700",
   "metadata": {},
   "outputs": [],
   "source": [
    "data = np.random.randn(1000) # 正态分布"
   ]
  },
  {
   "cell_type": "code",
   "execution_count": 105,
   "id": "daf8f818",
   "metadata": {},
   "outputs": [
    {
     "data": {
      "text/plain": [
       "array([ 8.28890430e-02, -3.11980723e-01,  6.52038980e-01,  3.27540172e-01,\n",
       "        6.22801635e-01, -4.59826110e-01,  6.30370139e-01,  4.97524637e-01,\n",
       "        1.57123825e+00, -8.51726788e-02, -2.86554472e-01, -8.60400276e-02,\n",
       "       -1.92654921e-01,  6.65039524e-01,  2.86645438e-01,  1.29877878e+00,\n",
       "       -1.18754350e+00,  4.27347247e-01, -6.27760868e-01,  1.06212582e+00,\n",
       "       -6.08162988e-01,  5.86627641e-01, -8.00059066e-02, -5.42740341e-02,\n",
       "        2.07136610e-01, -9.54810201e-01, -5.01747534e-01,  5.77396376e-01,\n",
       "        7.82664717e-01, -3.04528384e-01,  1.30028407e+00, -4.13133697e-01,\n",
       "        5.15342443e-01,  1.78477402e+00, -6.84189677e-01,  4.83548985e-01,\n",
       "       -1.09514614e-01, -7.63092306e-01, -8.97839105e-01, -1.14168726e+00,\n",
       "        7.57656126e-01, -1.80005178e+00,  1.47035510e-01, -6.63472615e-01,\n",
       "       -1.92227358e+00, -7.27827949e-01, -1.00769733e+00, -1.05924973e+00,\n",
       "       -1.17308708e+00, -1.84394431e-01,  1.85241045e-03, -1.12042582e+00,\n",
       "       -3.77420898e-01,  1.06864808e+00, -2.07867087e+00, -1.09609033e-01,\n",
       "        1.32250871e+00,  1.30358760e+00, -6.94414594e-02, -7.95662875e-01,\n",
       "       -3.38919641e-01, -1.68107769e+00, -1.94070487e+00, -1.97000430e-02,\n",
       "       -4.61891635e-01,  1.67164286e+00,  2.63944574e+00, -6.99519212e-01,\n",
       "        8.86420262e-01, -3.10087187e-01,  9.72012799e-01,  1.56405893e+00,\n",
       "       -1.75722951e-01,  1.55947843e+00, -1.27794491e-01, -7.22269547e-01,\n",
       "       -9.60853994e-01, -1.13355692e+00, -1.06299867e+00, -1.09604226e+00,\n",
       "       -3.19369669e-01, -2.01010733e+00, -6.24108390e-01, -1.24536586e+00,\n",
       "       -9.54269275e-01,  1.24132338e+00,  8.24477914e-01,  8.18126968e-01,\n",
       "        9.77046700e-01,  2.63054739e-01,  1.23755311e+00, -6.03756953e-02,\n",
       "        7.51764619e-01,  5.84991973e-01,  8.41600955e-02,  3.39622249e-01,\n",
       "       -9.54247602e-01, -3.20988249e-01, -1.17730453e+00,  1.76121589e+00,\n",
       "       -1.32579516e+00,  8.52940184e-01,  1.92643304e+00,  3.53365490e-01,\n",
       "        2.04388563e+00,  6.92338524e-01,  1.95295274e+00,  2.60376173e+00,\n",
       "        1.22995536e-01,  8.55162708e-02,  1.44404164e+00, -4.71414810e-01,\n",
       "        6.75308673e-01,  1.70325476e+00, -3.54763955e-01, -1.70408499e+00,\n",
       "        1.84796224e-01,  1.42642845e+00,  1.33230351e+00,  3.94943903e-01,\n",
       "       -1.42318653e+00, -1.45348222e-01,  3.12528456e-01, -2.20799226e-01,\n",
       "        6.78434484e-01,  9.19905987e-01,  1.27686382e+00,  1.36134001e+00,\n",
       "       -7.88061347e-01, -3.76846432e-01,  1.93256508e-01, -2.89390728e-01,\n",
       "       -7.79282543e-02,  1.41095942e+00,  5.77940089e-01,  3.68408870e-01,\n",
       "        2.34030823e-01,  5.74841253e-01,  1.53050404e+00,  1.16609670e+00,\n",
       "       -3.04256507e-01,  2.96598767e-01, -2.07475405e+00,  8.32848290e-01,\n",
       "        8.80067035e-01, -6.72920270e-01, -3.38054941e-02,  5.46985675e-01,\n",
       "       -1.91132802e+00,  1.68010910e+00, -1.06252774e+00,  8.57146940e-01,\n",
       "       -3.21673172e-01, -5.53836630e-01,  3.66682745e+00, -6.17213266e-01,\n",
       "       -1.34896737e+00,  1.52541418e-01, -1.58715732e-02, -1.14438280e-01,\n",
       "       -4.33970004e-01,  4.39178577e-01,  8.92013463e-02,  7.06531204e-01,\n",
       "        2.45036072e-01,  9.37830434e-02, -1.48210708e-01,  3.02024628e-01,\n",
       "       -2.01303766e+00, -1.96098152e+00, -6.14281600e-02, -3.10143625e-01,\n",
       "        8.00838392e-01,  6.96222819e-01,  1.09623445e-01,  1.11229928e+00,\n",
       "        5.18463049e-02,  5.75124519e-01, -1.82865552e-01, -4.30451755e-01,\n",
       "       -9.18945258e-02,  1.38416508e-01,  1.37209426e+00, -4.86729667e-02,\n",
       "        2.71259904e-01, -4.41426354e-01,  4.81071558e-01, -8.64068856e-01,\n",
       "        9.55877462e-01,  1.43342868e+00,  6.45160298e-01, -1.19616593e+00,\n",
       "       -7.93653885e-01,  2.47262950e-01,  6.34623808e-01, -7.02202228e-01,\n",
       "       -1.28453929e-01, -1.57389889e+00,  2.97857269e-01,  1.40737775e+00,\n",
       "       -8.55015997e-01,  1.19875827e-01, -1.09579803e-01,  1.50732925e+00,\n",
       "        3.91045157e-01, -3.41124668e-02, -8.31715470e-01,  4.71807843e-01,\n",
       "       -2.04274647e+00, -8.41778238e-02, -1.48622390e-01, -4.42596183e-01,\n",
       "        1.94845887e-01, -1.86964847e+00,  9.08870745e-01, -2.74227071e+00,\n",
       "       -2.04577290e+00,  1.44217027e+00, -1.16649594e-01, -8.07572547e-01,\n",
       "        6.78520529e-01,  7.59512836e-01, -3.48692216e-01,  8.80677636e-01,\n",
       "       -3.99951897e-01,  3.79484810e-01, -4.06772260e-01,  2.25453852e-01,\n",
       "       -3.99316528e-01, -1.68265723e+00,  6.09721671e-01,  2.44086603e-01,\n",
       "        3.08424707e-01, -1.13011436e+00, -7.88860908e-01, -1.23865225e+00,\n",
       "        1.13410065e+00,  1.47847823e+00, -2.18212770e+00,  1.37938263e+00,\n",
       "       -3.29748328e-03,  8.38193452e-02,  8.72911841e-01, -4.30015348e-01,\n",
       "        2.50256752e+00,  1.59282617e-01,  1.26443433e+00,  8.51113504e-01,\n",
       "        1.36322276e+00,  8.57283618e-01,  5.41994483e-01,  3.33901991e-01,\n",
       "        1.46803882e+00, -6.89064661e-02,  1.97359020e-02, -4.27333761e-01,\n",
       "       -5.60928758e-01,  9.65335897e-01, -1.68847398e-01,  1.24029775e+00,\n",
       "        9.87981595e-01, -4.88441577e-01, -1.65908115e+00,  9.24432282e-02,\n",
       "        9.43793767e-01,  1.19019161e-01,  1.32785382e+00,  5.65672527e-01,\n",
       "        1.65006036e-01,  1.45584804e-01, -1.36983924e+00,  8.53307542e-01,\n",
       "       -7.65757856e-01, -9.63904488e-02, -1.05058721e+00,  2.96668530e-01,\n",
       "       -2.07541427e-01,  1.48166294e+00, -5.95740202e-01,  1.07130632e+00,\n",
       "        8.19678091e-01,  9.11096265e-01,  9.14472878e-01,  9.74186178e-01,\n",
       "        1.37193623e+00, -5.05982171e-01, -3.18230023e-01,  1.57409272e+00,\n",
       "        1.50779383e+00, -1.76760129e+00, -2.08485713e-01, -7.73779072e-01,\n",
       "        1.32374756e-01,  5.40931436e-01,  5.89175569e-01,  3.87145773e-01,\n",
       "        6.97763730e-01, -1.79184228e-01,  1.56075755e+00, -6.55394047e-01,\n",
       "       -1.25897552e+00,  1.53929320e+00, -8.95930061e-01,  1.31704693e+00,\n",
       "        2.85539719e-01,  1.14338930e+00, -8.42438717e-01, -7.77164757e-01,\n",
       "       -1.28700017e-01, -1.03826364e+00, -1.29094457e+00,  7.03958020e-01,\n",
       "       -1.53670462e+00, -1.98166505e+00, -6.47843496e-01,  3.34221565e-01,\n",
       "       -3.94618502e-01,  6.03917637e-02,  1.11084803e+00,  1.17754038e-01,\n",
       "       -1.27229462e-01,  3.90558128e-01, -3.57125015e-02,  7.78973082e-01,\n",
       "       -1.99086813e-01, -3.85319019e-01, -1.97846331e-02, -7.15988211e-01,\n",
       "       -5.46508782e-02,  8.51791332e-01, -2.43231532e+00,  1.86737819e+00,\n",
       "        3.04389737e-01,  1.49757566e-01,  4.86527290e-01, -1.43044186e-01,\n",
       "       -1.76365306e+00,  6.12783945e-01,  1.17552708e+00, -4.25591735e-01,\n",
       "       -2.38603197e-01, -2.48448830e-01,  6.78991918e-01, -4.42256730e-01,\n",
       "        9.66078058e-01,  5.85508640e-01,  3.08588477e+00,  2.95505014e-01,\n",
       "       -4.78385848e-01, -4.59161453e-01, -3.48253641e-01, -1.14609224e+00,\n",
       "        1.82537330e+00,  9.09646044e-01,  4.97846899e-01,  1.62327408e-01,\n",
       "        1.20483231e+00, -1.08047174e+00, -1.07708298e+00, -5.15594990e-01,\n",
       "       -1.19458902e+00, -1.47718484e+00, -1.16525341e+00,  1.76603523e+00,\n",
       "       -6.13894696e-01, -1.73649193e+00, -4.58198845e-02,  1.24054104e+00,\n",
       "       -1.20484651e+00, -1.15130137e+00, -1.53511564e-01, -8.63660037e-01,\n",
       "       -3.56885254e-01,  4.08486356e-01,  1.02330030e+00, -1.68575770e+00,\n",
       "       -7.98132474e-01, -1.74924264e-01, -1.15898405e+00,  5.09340087e-01,\n",
       "       -2.73519051e+00,  3.85768112e-01, -1.19898927e+00,  1.02833819e+00,\n",
       "        3.69762059e-01, -1.67025444e-01,  7.09047206e-01,  1.82174386e+00,\n",
       "       -5.68673198e-01,  1.60734604e+00, -1.53711375e-01,  2.37173508e-01,\n",
       "        1.03648139e+00, -5.16948400e-01,  7.25286672e-01, -7.14145764e-01,\n",
       "        7.48037367e-02,  1.52623636e+00, -5.25740674e-01, -1.00496768e+00,\n",
       "       -2.04186637e+00,  8.83574692e-01, -3.80298890e-01, -2.30477019e-02,\n",
       "       -1.36322608e-01, -8.94126320e-01, -2.29773254e-02,  9.13174203e-01,\n",
       "        7.14408740e-01,  3.51838445e-01,  6.00256572e-01,  5.12902235e-02,\n",
       "        1.35346507e+00, -1.11881733e+00, -1.34866945e+00,  3.39540351e-01,\n",
       "        1.00424668e+00, -1.74546532e+00, -5.03521991e-01, -2.05081118e+00,\n",
       "       -1.12392990e+00, -1.69716494e+00, -6.02774126e-01, -1.18906194e+00,\n",
       "       -3.04961582e-01,  8.75302495e-01, -1.79953693e-01,  1.43894500e+00,\n",
       "        6.59279149e-01, -1.31511001e+00, -2.87311024e-01,  1.24534793e+00,\n",
       "       -5.16414426e-01, -1.22308555e-01, -4.21003721e-01,  1.39407898e+00,\n",
       "        1.79909896e+00, -1.80871112e-01, -3.34128781e+00,  8.55315450e-01,\n",
       "       -1.27370259e+00, -1.18954146e+00, -1.41977794e-01, -3.25516776e-01,\n",
       "       -1.78027072e+00, -4.79924612e-01, -1.59727474e+00,  1.46322409e-01,\n",
       "       -1.37460132e+00, -7.12869192e-01, -5.98287527e-01, -5.40629801e-01,\n",
       "        9.37408966e-01,  3.22830994e-01,  9.83000902e-01, -1.14115425e+00,\n",
       "       -9.21647483e-01, -6.78599399e-02,  1.06479446e+00, -8.46157708e-02,\n",
       "        1.05730140e+00,  8.52297646e-02,  1.51104563e+00,  1.12018958e+00,\n",
       "       -8.79836388e-01,  8.66463665e-01, -3.28036564e-01, -9.75325484e-01,\n",
       "        5.45102357e-01,  9.75723076e-02,  3.93767672e-01,  1.52040874e-02,\n",
       "       -5.42404020e-01,  2.39605662e-01,  1.43769365e+00,  2.06940045e-01,\n",
       "        3.61637021e-01,  1.81493341e+00, -2.05613603e-01, -1.92172185e-01,\n",
       "       -6.12061020e-01,  5.20397486e-01, -6.87656532e-01,  1.10453513e+00,\n",
       "       -4.39107150e-01, -3.69044383e-01,  1.61413100e+00,  2.34029622e-01,\n",
       "        3.02358620e-01,  4.60993664e-01, -1.86774966e+00, -5.22768669e-02,\n",
       "       -2.05440323e-01, -2.27521249e-01,  6.78594659e-01,  8.92923896e-01,\n",
       "        8.55376628e-02, -3.86607530e-01, -1.10514190e+00,  7.62854970e-01,\n",
       "        6.69235520e-01,  4.28068994e-01, -1.16579561e+00,  4.31272893e-01,\n",
       "       -1.13877240e-02,  1.07406155e-01,  4.79593697e-01, -3.13390512e-01,\n",
       "        8.64123102e-01, -2.81066256e-01,  4.68308925e-01, -1.25082300e+00,\n",
       "       -2.21606127e+00, -1.80676595e+00,  8.74519377e-01, -1.00586629e+00,\n",
       "       -1.69513449e+00,  9.07924827e-01,  7.73181645e-01, -9.50898128e-01,\n",
       "        8.48494787e-03,  1.59731318e+00,  1.23573484e+00, -5.29757052e-01,\n",
       "        8.38511030e-02, -1.10033848e+00,  1.11974280e+00, -6.42432529e-01,\n",
       "        6.56243299e-01, -1.54844495e-01, -1.70373648e-01,  7.43361592e-02,\n",
       "       -1.47802368e+00, -1.76449513e+00, -1.45600711e+00,  6.72840954e-01,\n",
       "        6.04474010e-04, -1.94731910e-01,  1.46315899e-01,  5.53737775e-01,\n",
       "        7.06798544e-02,  6.10961568e-01,  2.97379572e-01, -1.66196495e+00,\n",
       "       -2.10057031e+00, -2.34275093e-01,  1.62130044e+00,  2.06204854e+00,\n",
       "        8.47391968e-01, -9.24703797e-01, -5.06307478e-01, -1.42870371e+00,\n",
       "       -9.49788671e-01,  1.23007226e-01,  4.57073701e-01,  2.10057432e-01,\n",
       "       -1.07898149e+00, -1.28636853e+00,  2.28484390e-01, -5.61850785e-01,\n",
       "        2.66958775e-01,  1.19272524e+00, -6.75582067e-01, -6.84223871e-01,\n",
       "        1.90194313e+00, -8.95806159e-01, -5.54929134e-01, -7.54655568e-01,\n",
       "        5.84777888e-01,  5.59968696e-02,  9.40965341e-02,  8.61729212e-01,\n",
       "       -5.28887140e-01,  7.57865051e-02,  7.98451775e-01, -1.12719249e+00,\n",
       "        2.55165181e-01, -1.69611488e+00, -6.18277438e-01,  1.07398101e+00,\n",
       "        1.28801488e+00,  1.79462024e-01, -7.59091097e-01, -5.84499265e-01,\n",
       "        5.19077942e-01, -8.14594405e-01,  6.36046627e-01,  5.16885246e-01,\n",
       "       -4.94928681e-01, -5.88694922e-01, -1.28286522e+00,  2.12789750e-01,\n",
       "       -1.90901274e-01,  1.84438911e-01,  2.30888306e+00, -5.76051431e-01,\n",
       "        1.61690948e-02,  4.73729360e-01, -1.23004336e+00,  8.71594532e-01,\n",
       "        7.82155354e-01, -1.34807430e+00,  2.67905138e-01,  2.84661230e-01,\n",
       "        1.18731186e-01, -1.27438691e+00,  8.14807005e-01, -2.45852712e-01,\n",
       "        9.16787310e-02, -8.54952213e-01, -7.45769223e-01,  5.50152406e-01,\n",
       "       -2.25188193e-01, -1.32439188e-01, -1.39151847e+00,  6.89488418e-01,\n",
       "        9.67359836e-01, -8.78223259e-01,  1.10797809e+00,  1.78327944e-01,\n",
       "        3.76391986e-01,  8.69086970e-01, -5.71044792e-01,  5.21747781e-01,\n",
       "        3.72257775e-01, -8.91684122e-01, -1.68112247e+00,  7.39820833e-01,\n",
       "       -5.61878470e-01, -1.21568227e+00, -8.14870102e-01, -8.64914474e-01,\n",
       "        1.86949462e-01,  3.09937423e-02, -3.80905880e-01, -3.87366915e-01,\n",
       "        8.87618985e-01,  1.27824038e+00, -2.00118043e+00, -5.61795924e-01,\n",
       "       -1.99197405e+00,  1.57044094e-01,  2.70702722e-01, -2.92957728e-01,\n",
       "       -1.05775334e+00, -1.94671194e+00, -3.77213607e-01, -4.14979829e-01,\n",
       "       -6.58036309e-01,  7.92607351e-02,  2.88364865e-01,  1.11264771e+00,\n",
       "       -5.01042941e-01,  5.48609815e-01,  1.28241827e+00,  1.40406978e+00,\n",
       "        6.08591663e-01, -1.00688436e+00,  8.27724417e-01,  1.74107833e+00,\n",
       "        4.37032799e-01,  1.53565803e-01, -2.31733907e+00,  2.00565205e-01,\n",
       "       -1.05274494e+00,  1.02046719e+00,  6.72780848e-01, -1.61800897e+00,\n",
       "        9.64077798e-01, -1.69707385e+00, -1.03474438e+00, -2.29125095e+00,\n",
       "       -6.50260751e-01, -2.24472382e-01,  5.18656258e-01, -6.49663468e-01,\n",
       "        6.24274134e-01,  1.38177062e+00, -2.71247532e-01,  4.53765490e-02,\n",
       "        8.48758810e-01,  4.34728258e-01,  7.11661656e-01,  4.50795106e-01,\n",
       "        2.29069464e-01, -8.54853160e-01, -1.13397403e-01, -1.14771585e+00,\n",
       "        2.01466692e-01,  6.50135161e-01,  1.34165044e+00, -4.86580342e-01,\n",
       "       -8.36520282e-01,  9.45124895e-01, -9.23727309e-01,  8.70028959e-02,\n",
       "        1.12010515e-01,  1.80494300e+00, -2.38672925e+00,  3.43378750e-01,\n",
       "       -3.70984637e-01,  6.96353798e-01,  2.39888847e-01, -6.76081286e-01,\n",
       "        7.14420540e-01, -2.10770407e+00, -1.50199907e+00, -5.98721923e-01,\n",
       "       -7.71814033e-01,  1.77139270e-01,  9.85705787e-01,  5.19588013e-01,\n",
       "        1.83757030e-02,  8.27846790e-01, -1.95554531e-01,  1.15418666e-01,\n",
       "        1.08879573e+00, -2.48173262e+00,  2.88737269e-01, -2.78248939e-01,\n",
       "        7.65673500e-01, -2.76561605e+00, -1.07500872e+00,  2.18570547e-01,\n",
       "       -1.39896778e+00, -6.04588712e-01,  5.49079241e-01,  1.15813116e+00,\n",
       "       -1.54821114e+00,  1.61937105e+00,  2.77004331e-01,  6.48372628e-02,\n",
       "        6.25939164e-01, -8.36022646e-01, -1.41156923e+00, -1.85841197e+00,\n",
       "        1.06063251e-01,  4.79761561e-01,  6.19123920e-01, -6.52894551e-01,\n",
       "        3.58603595e-01, -3.87552810e-01, -2.28247929e-01,  4.37615236e-01,\n",
       "        3.60595535e-01, -1.88004252e-01, -4.24979203e-01,  1.94368532e-01,\n",
       "        6.88495799e-01,  2.49047689e-01,  1.07406289e-01,  2.70637024e-01,\n",
       "       -8.85937764e-01, -1.82032607e+00,  1.67201366e+00, -7.76254607e-01,\n",
       "        3.08239734e-01,  5.49880969e-02, -1.79764646e+00, -1.14656073e+00,\n",
       "       -1.35484019e+00,  1.89909115e+00,  6.81562970e-02,  9.66559353e-01,\n",
       "        6.37394009e-01,  3.75480075e-01,  6.33033684e-01,  1.51394667e+00,\n",
       "        1.32721500e-01, -1.37576134e+00,  8.78796303e-01,  9.51608373e-01,\n",
       "       -1.82113919e+00, -9.22046848e-01, -1.56313066e+00, -1.20694243e+00,\n",
       "        8.50402671e-01,  5.91756754e-01, -1.34449724e-01, -7.04122932e-02,\n",
       "       -4.71851376e-01,  4.36528421e-03,  2.83695283e-01, -2.98453634e-01,\n",
       "       -2.70441408e-01, -1.03887585e+00,  3.66199962e-01, -2.73305248e-01,\n",
       "        9.89657898e-01, -8.22282944e-01,  6.97591345e-01,  1.61870885e-01,\n",
       "       -7.53932364e-01,  1.87200573e-02, -5.92027745e-01,  1.77587430e-01,\n",
       "       -4.34318302e-01, -6.28436130e-01,  7.38889448e-01,  3.85058537e-01,\n",
       "        9.38130775e-01,  1.70602432e+00, -1.12601501e+00, -6.56061901e-01,\n",
       "       -1.83325139e+00,  4.63951822e-01,  5.07829016e-01,  9.42620915e-01,\n",
       "        3.67169620e-01, -3.05577906e-01,  5.99921566e-01, -2.12795953e+00,\n",
       "        1.91933079e+00, -2.11262545e-01, -6.07360987e-01,  3.83426496e-02,\n",
       "       -6.44264250e-01,  5.56518161e-02,  1.00025005e+00,  1.04404286e+00,\n",
       "        4.13492831e-01,  1.97198809e+00, -1.60127878e+00,  2.81924870e-01,\n",
       "        3.91597487e-01,  1.86481047e+00, -1.54804716e+00, -1.18850775e+00,\n",
       "        2.20654639e+00, -4.32574048e-01, -2.03183297e+00,  8.02220447e-01,\n",
       "        2.07102720e-01,  7.89558562e-01, -1.34500229e+00, -7.33607643e-01,\n",
       "       -1.52088283e-01,  8.76197729e-01, -1.80451291e-01, -1.60103062e+00,\n",
       "        1.18345725e+00,  1.16205011e-01, -9.74473713e-02,  3.45764935e-02,\n",
       "       -9.66754635e-01,  1.13359018e+00, -2.45109172e-01,  2.62208761e-01,\n",
       "       -6.33912805e-01, -1.81747915e+00, -7.94188155e-01,  7.69326426e-01,\n",
       "       -3.71932031e-01,  2.31770139e+00, -2.62763769e-01,  1.59274079e+00,\n",
       "       -2.68439836e-03,  4.80211925e-01, -1.89166585e+00,  9.26834266e-01,\n",
       "        1.94319319e-01,  7.43469682e-01,  2.86344300e+00, -1.40163795e-01,\n",
       "        3.95822358e-01, -1.54955409e-01, -8.57673332e-01, -4.75012119e-01,\n",
       "        6.17040390e-01,  1.40851300e-01,  1.89422396e+00, -7.32016031e-01,\n",
       "        2.16988962e-01,  3.95835192e-01,  1.26748301e+00, -7.98603131e-01,\n",
       "        1.15127125e+00, -1.79884946e+00,  9.70963335e-01, -5.67316435e-01,\n",
       "       -1.53892909e+00,  7.69683553e-01, -1.77860056e+00, -7.57772202e-01,\n",
       "       -1.61849199e-02,  8.66191084e-01,  6.29421849e-01, -6.52808553e-01,\n",
       "       -2.43018240e+00, -2.32726763e-01,  3.80919773e-01,  1.99377775e+00,\n",
       "        1.74355798e-01, -7.69756729e-02, -1.81588013e-01,  1.06438550e+00,\n",
       "       -2.22361995e+00,  6.99820763e-02,  1.27456623e+00,  1.92351734e-02,\n",
       "        1.41304546e-01,  6.43803220e-01, -7.67490471e-01,  4.36509065e-01,\n",
       "       -1.22472070e+00,  1.20319247e+00, -8.02537520e-01, -1.83189158e+00,\n",
       "       -1.08780765e+00, -1.23364838e-02, -3.38843460e-02, -1.08198216e+00,\n",
       "       -8.33355828e-01,  1.92510836e-01,  1.43257057e+00,  4.42331872e-01,\n",
       "        4.24548924e-01, -8.25760098e-01, -6.22547641e-02, -9.85603753e-01,\n",
       "        1.41383573e+00, -8.96559837e-03,  8.34973654e-01,  4.43502725e-01,\n",
       "       -4.03430908e-01,  6.94280052e-01,  1.48816024e+00,  1.52637692e+00,\n",
       "       -6.39413179e-01,  2.58407394e-01,  1.03606338e+00,  7.18467729e-01,\n",
       "        4.87232402e-01,  7.20624369e-01, -7.16575043e-02,  2.77024965e-01,\n",
       "        1.49879645e+00,  7.04635564e-01,  4.61343326e-01,  2.97163662e-01,\n",
       "       -5.11290559e-01, -3.30797543e-01,  1.14468562e+00, -6.80630036e-01,\n",
       "        3.36343206e-01,  1.55546583e+00,  7.79747598e-02,  1.39732358e+00,\n",
       "       -1.59106154e-01, -1.96047169e-01, -1.48150594e+00, -4.53640583e-01,\n",
       "       -2.22235414e-01, -1.17090495e+00,  2.19429150e+00, -9.55286995e-01,\n",
       "       -6.54132578e-01, -8.30108189e-01, -2.59325946e-01,  7.30876973e-01,\n",
       "        2.14800173e-01, -2.28288154e-02,  1.53220008e-01,  1.68319997e+00,\n",
       "        1.30934107e+00,  9.48058563e-01,  7.93593951e-01, -6.14707329e-02,\n",
       "       -1.05477799e+00,  1.19727352e+00,  4.50325930e-01, -6.88056184e-02,\n",
       "       -1.94415030e+00, -2.37943159e-01,  1.79077684e+00, -1.11473829e+00,\n",
       "        1.93732945e+00, -3.36752573e-03,  2.12285845e-01,  4.45754600e-01,\n",
       "        2.01633229e-01, -1.84723206e+00,  1.05289726e+00, -1.68027899e-01,\n",
       "       -7.06828753e-01,  1.29574924e+00,  1.81932041e+00, -1.61445110e+00,\n",
       "        1.15503700e+00, -1.68710531e+00,  5.24199501e-03,  5.39848464e-01,\n",
       "       -4.04726594e-01,  1.16707191e+00,  9.79445050e-01, -1.22580848e+00,\n",
       "       -2.30062535e-01,  1.00383029e+00, -7.34646677e-01, -8.26878016e-01])"
      ]
     },
     "execution_count": 105,
     "metadata": {},
     "output_type": "execute_result"
    }
   ],
   "source": [
    "data"
   ]
  },
  {
   "cell_type": "code",
   "execution_count": 106,
   "id": "75848f45",
   "metadata": {},
   "outputs": [],
   "source": [
    "cats = pd.qcut(data, 4)"
   ]
  },
  {
   "cell_type": "code",
   "execution_count": 107,
   "id": "cbb501b0",
   "metadata": {},
   "outputs": [
    {
     "data": {
      "text/plain": [
       "[(0.0553, 0.689], (-0.65, 0.0553], (0.0553, 0.689], (0.0553, 0.689], (0.0553, 0.689], ..., (-3.342, -0.65], (-0.65, 0.0553], (0.689, 3.667], (-3.342, -0.65], (-3.342, -0.65]]\n",
       "Length: 1000\n",
       "Categories (4, interval[float64, right]): [(-3.342, -0.65] < (-0.65, 0.0553] < (0.0553, 0.689] < (0.689, 3.667]]"
      ]
     },
     "execution_count": 107,
     "metadata": {},
     "output_type": "execute_result"
    }
   ],
   "source": [
    "cats"
   ]
  },
  {
   "cell_type": "code",
   "execution_count": 108,
   "id": "f3e63c48",
   "metadata": {},
   "outputs": [
    {
     "data": {
      "text/plain": [
       "(-3.342, -0.65]    250\n",
       "(-0.65, 0.0553]    250\n",
       "(0.0553, 0.689]    250\n",
       "(0.689, 3.667]     250\n",
       "dtype: int64"
      ]
     },
     "execution_count": 108,
     "metadata": {},
     "output_type": "execute_result"
    }
   ],
   "source": [
    "pd.value_counts(cats)"
   ]
  },
  {
   "cell_type": "code",
   "execution_count": 109,
   "id": "3d1f8bf4",
   "metadata": {},
   "outputs": [],
   "source": [
    "cats = pd.cut(data, 4, precision=2)"
   ]
  },
  {
   "cell_type": "code",
   "execution_count": 110,
   "id": "ce9b7328",
   "metadata": {},
   "outputs": [
    {
     "data": {
      "text/plain": [
       "(-1.59, 0.16]     484\n",
       "(0.16, 1.91]      426\n",
       "(-3.35, -1.59]     72\n",
       "(1.91, 3.67]       18\n",
       "dtype: int64"
      ]
     },
     "execution_count": 110,
     "metadata": {},
     "output_type": "execute_result"
    }
   ],
   "source": [
    "pd.value_counts(cats) # 不是均匀分布的个数"
   ]
  },
  {
   "cell_type": "code",
   "execution_count": 111,
   "id": "9a15481d",
   "metadata": {},
   "outputs": [],
   "source": [
    "cats = pd.qcut(data, [0, 0.1, 0.5, 0.9, 1.0])"
   ]
  },
  {
   "cell_type": "code",
   "execution_count": 112,
   "id": "5b889ca9",
   "metadata": {},
   "outputs": [
    {
     "data": {
      "text/plain": [
       "[(0.0553, 1.268], (-1.283, 0.0553], (0.0553, 1.268], (0.0553, 1.268], (0.0553, 1.268], ..., (-1.283, 0.0553], (-1.283, 0.0553], (0.0553, 1.268], (-1.283, 0.0553], (-1.283, 0.0553]]\n",
       "Length: 1000\n",
       "Categories (4, interval[float64, right]): [(-3.342, -1.283] < (-1.283, 0.0553] < (0.0553, 1.268] < (1.268, 3.667]]"
      ]
     },
     "execution_count": 112,
     "metadata": {},
     "output_type": "execute_result"
    }
   ],
   "source": [
    "cats"
   ]
  },
  {
   "cell_type": "code",
   "execution_count": 113,
   "id": "de4fe9c3",
   "metadata": {},
   "outputs": [
    {
     "data": {
      "text/plain": [
       "(-1.283, 0.0553]    400\n",
       "(0.0553, 1.268]     400\n",
       "(-3.342, -1.283]    100\n",
       "(1.268, 3.667]      100\n",
       "dtype: int64"
      ]
     },
     "execution_count": 113,
     "metadata": {},
     "output_type": "execute_result"
    }
   ],
   "source": [
    "pd.value_counts(cats)"
   ]
  },
  {
   "cell_type": "code",
   "execution_count": null,
   "id": "9f0c5e9e",
   "metadata": {},
   "outputs": [],
   "source": []
  }
 ],
 "metadata": {
  "kernelspec": {
   "display_name": "Python 3 (ipykernel)",
   "language": "python",
   "name": "python3"
  },
  "language_info": {
   "codemirror_mode": {
    "name": "ipython",
    "version": 3
   },
   "file_extension": ".py",
   "mimetype": "text/x-python",
   "name": "python",
   "nbconvert_exporter": "python",
   "pygments_lexer": "ipython3",
   "version": "3.9.7"
  }
 },
 "nbformat": 4,
 "nbformat_minor": 5
}
