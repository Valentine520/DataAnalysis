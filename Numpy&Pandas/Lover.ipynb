{
 "cells": [
  {
   "cell_type": "code",
   "execution_count": 39,
   "id": "8ad6a3f4",
   "metadata": {},
   "outputs": [
    {
     "name": "stdout",
     "output_type": "stream",
     "text": [
      "程孜文是小猪猪\n"
     ]
    }
   ],
   "source": [
    "print('程孜文是小猪猪')"
   ]
  },
  {
   "cell_type": "code",
   "execution_count": 40,
   "id": "c5a58793",
   "metadata": {},
   "outputs": [
    {
     "name": "stdout",
     "output_type": "stream",
     "text": [
      "7\n"
     ]
    }
   ],
   "source": [
    "x = -3\n",
    "y = x+10\n",
    "print(y)"
   ]
  },
  {
   "cell_type": "code",
   "execution_count": 41,
   "id": "41d1b668",
   "metadata": {},
   "outputs": [
    {
     "name": "stdout",
     "output_type": "stream",
     "text": [
      "['a1', 'b2', 'c3', 'd4', 'e5']\n",
      "a1;b2;c3;d4;e5\n"
     ]
    }
   ],
   "source": [
    "a = ['a1', 'b2', 'c3', 'd4', 'e5']\n",
    "b = ';'.join(a)\n",
    "print(a)\n",
    "print(b)"
   ]
  },
  {
   "cell_type": "code",
   "execution_count": 42,
   "id": "631c66a5",
   "metadata": {},
   "outputs": [
    {
     "name": "stdout",
     "output_type": "stream",
     "text": [
      "['a1', 'b2', 'c3', 'd4', 'e5']\n"
     ]
    }
   ],
   "source": [
    "c = b.split(';')\n",
    "print(c)"
   ]
  },
  {
   "cell_type": "code",
   "execution_count": 43,
   "id": "0e0a106a",
   "metadata": {},
   "outputs": [
    {
     "name": "stdout",
     "output_type": "stream",
     "text": [
      "71\n"
     ]
    }
   ],
   "source": [
    "dic = {'Alpha': 332, 'Beta': 420, 'Gamma': 71}\n",
    "print(dic.get('Gamma'))"
   ]
  },
  {
   "cell_type": "code",
   "execution_count": 44,
   "id": "65141192",
   "metadata": {},
   "outputs": [
    {
     "name": "stdout",
     "output_type": "stream",
     "text": [
      "合适\n",
      "太大\n"
     ]
    }
   ],
   "source": [
    "def x_function(x):\n",
    "    if x > 1000:\n",
    "        print('太大')\n",
    "    else:\n",
    "        print('合适')\n",
    "\n",
    "# 函数调用\n",
    "x_function(1000)\n",
    "x_function(2000)"
   ]
  },
  {
   "cell_type": "code",
   "execution_count": 45,
   "id": "cadd7139",
   "metadata": {},
   "outputs": [
    {
     "name": "stdout",
     "output_type": "stream",
     "text": [
      "1 2 3 4 5 6 7 8 9 "
     ]
    }
   ],
   "source": [
    "index = 1\n",
    "while index < 10:\n",
    "    print(index, end=' ')\n",
    "    index = index+1"
   ]
  },
  {
   "cell_type": "code",
   "execution_count": 46,
   "id": "2ac29bee",
   "metadata": {},
   "outputs": [
    {
     "name": "stdout",
     "output_type": "stream",
     "text": [
      "100\n",
      "2025\n",
      "4624\n"
     ]
    }
   ],
   "source": [
    "def square_function(x1, x2):\n",
    "    \"\"\"求解参数的平方\"\"\"\n",
    "    return x1 * x2\n",
    "\n",
    "# 函数调用\n",
    "lst = [10, 45, 68]\n",
    "res = []\n",
    "for item in lst:\n",
    "    res.append(square_function(item, item))\n",
    "for item in res:\n",
    "    print(item)"
   ]
  },
  {
   "cell_type": "code",
   "execution_count": 47,
   "id": "1da92191",
   "metadata": {},
   "outputs": [
    {
     "name": "stdout",
     "output_type": "stream",
     "text": [
      "结果为: [10000, 5041, 7921, 15159303417273129, 443556]\n"
     ]
    }
   ],
   "source": [
    "def lst_square_function(lst):\n",
    "    \"\"\"传入列表求解 列表内数据的平方\"\"\"\n",
    "    res = []\n",
    "    for item in lst:\n",
    "        res.append(item ** 2)\n",
    "    return res\n",
    "\n",
    "# 函数调用\n",
    "t = [100, 71, 89, 123123123, 666]\n",
    "res = lst_square_function(t)\n",
    "print('结果为:', res)"
   ]
  },
  {
   "cell_type": "code",
   "execution_count": 48,
   "id": "3de6fe38",
   "metadata": {},
   "outputs": [
    {
     "name": "stdout",
     "output_type": "stream",
     "text": [
      "我爱你\n"
     ]
    }
   ],
   "source": [
    "print('我恨你'.replace('我恨你', '我爱你'))"
   ]
  },
  {
   "cell_type": "code",
   "execution_count": 49,
   "id": "015a10e5",
   "metadata": {},
   "outputs": [
    {
     "name": "stdout",
     "output_type": "stream",
     "text": [
      "9\n"
     ]
    }
   ],
   "source": [
    "lst = [1, 2, 3, 5, 6, 7, 8, 9, 0]\n",
    "print(len(lst))"
   ]
  },
  {
   "cell_type": "code",
   "execution_count": 50,
   "id": "37dcd832",
   "metadata": {},
   "outputs": [
    {
     "name": "stdout",
     "output_type": "stream",
     "text": [
      "当前时间为: 2022-03-22 16:17:04.135032\n"
     ]
    }
   ],
   "source": [
    "from datetime import datetime\n",
    "print('当前时间为:', datetime.now())"
   ]
  },
  {
   "cell_type": "code",
   "execution_count": null,
   "id": "b084034a",
   "metadata": {},
   "outputs": [],
   "source": []
  }
 ],
 "metadata": {
  "kernelspec": {
   "display_name": "Python 3 (ipykernel)",
   "language": "python",
   "name": "python3"
  },
  "language_info": {
   "codemirror_mode": {
    "name": "ipython",
    "version": 3
   },
   "file_extension": ".py",
   "mimetype": "text/x-python",
   "name": "python",
   "nbconvert_exporter": "python",
   "pygments_lexer": "ipython3",
   "version": "3.9.7"
  }
 },
 "nbformat": 4,
 "nbformat_minor": 5
}
