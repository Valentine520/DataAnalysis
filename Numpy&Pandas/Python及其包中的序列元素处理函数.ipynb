{
 "cells": [
  {
   "cell_type": "code",
   "execution_count": 7,
   "id": "717dff06",
   "metadata": {},
   "outputs": [],
   "source": [
    "# 5种利用自定义函数批量处理元素方法介绍\n",
    "\n",
    "# 导入相关的库和包\n",
    "import numpy as np\n",
    "import pandas as pd\n",
    "from pandas import DataFrame, Series"
   ]
  },
  {
   "cell_type": "code",
   "execution_count": 8,
   "id": "1de2b534",
   "metadata": {},
   "outputs": [
    {
     "name": "stdout",
     "output_type": "stream",
     "text": [
      "[10, 20, 30]\n"
     ]
    }
   ],
   "source": [
    "#1.python内置的map函数\n",
    "\n",
    "lst = [1,2,3]\n",
    "f = lambda x: x * 10\n",
    "lst2 = list(map(f, lst))\n",
    "np.disp(lst2) # 显示元素"
   ]
  },
  {
   "cell_type": "code",
   "execution_count": 9,
   "id": "16fcb6ea",
   "metadata": {},
   "outputs": [
    {
     "name": "stdout",
     "output_type": "stream",
     "text": [
      "0    1.00\n",
      "1    2.00\n",
      "2    3.00\n",
      "dtype: object\n"
     ]
    }
   ],
   "source": [
    "#2.Series中的map函数\n",
    "# 和python中的map相似 只不过输入Series的一个方法\n",
    "\n",
    "series = Series([1,2,3])\n",
    "f2 = lambda x: \"%.2f\" %x\n",
    "np.disp(series.map(f2)) # 设置格式 "
   ]
  },
  {
   "cell_type": "code",
   "execution_count": 10,
   "id": "c86997fe",
   "metadata": {},
   "outputs": [
    {
     "name": "stdout",
     "output_type": "stream",
     "text": [
      "0    1.00\n",
      "1    2.00\n",
      "2    3.00\n",
      "dtype: object\n"
     ]
    }
   ],
   "source": [
    "#3.Series中的apply函数\n",
    "# 自由度更高的一种\n",
    "np.disp(series.apply(f2))"
   ]
  },
  {
   "cell_type": "code",
   "execution_count": 11,
   "id": "cc6cec69",
   "metadata": {},
   "outputs": [
    {
     "data": {
      "text/html": [
       "<div>\n",
       "<style scoped>\n",
       "    .dataframe tbody tr th:only-of-type {\n",
       "        vertical-align: middle;\n",
       "    }\n",
       "\n",
       "    .dataframe tbody tr th {\n",
       "        vertical-align: top;\n",
       "    }\n",
       "\n",
       "    .dataframe thead th {\n",
       "        text-align: right;\n",
       "    }\n",
       "</style>\n",
       "<table border=\"1\" class=\"dataframe\">\n",
       "  <thead>\n",
       "    <tr style=\"text-align: right;\">\n",
       "      <th></th>\n",
       "      <th>b</th>\n",
       "      <th>d</th>\n",
       "      <th>e</th>\n",
       "    </tr>\n",
       "  </thead>\n",
       "  <tbody>\n",
       "    <tr>\n",
       "      <th>min</th>\n",
       "      <td>0.0</td>\n",
       "      <td>1.0</td>\n",
       "      <td>2.0</td>\n",
       "    </tr>\n",
       "    <tr>\n",
       "      <th>max</th>\n",
       "      <td>9.0</td>\n",
       "      <td>10.0</td>\n",
       "      <td>11.0</td>\n",
       "    </tr>\n",
       "  </tbody>\n",
       "</table>\n",
       "</div>"
      ],
      "text/plain": [
       "       b     d     e\n",
       "min  0.0   1.0   2.0\n",
       "max  9.0  10.0  11.0"
      ]
     },
     "execution_count": 11,
     "metadata": {},
     "output_type": "execute_result"
    }
   ],
   "source": [
    "#4.DataFrame中的apply函数\n",
    "\"\"\"\n",
    "func:传入的函数，多为自定义的lambda函数\n",
    "axis:可以指定对行或者列的操作 默认为沿着行的方向(axis='index'/0)\n",
    "raw:以Series的方式传入False(default)还是转换成ndarray(True)再传入\n",
    "\"\"\"\n",
    "frame = pd.DataFrame(np.arange(12.).reshape((4, 3)),\n",
    "                    columns=list('bde'),\n",
    "                    index=['Utah', 'Ohio', 'Texas', 'Oregon'])\n",
    "frame.apply(lambda x: min(x), axis='index', raw=True) # 计算每列的最小值\n",
    "# 其返回值不一定是一个标量 也可以生成一个dataframe 但要构建新的Series\n",
    "def f(x):\n",
    "    return pd.Series([x.min(), x.max()], index=['min', 'max'])\n",
    "frame.apply(f, axis=0) # 对每一个列都返回一个Series 索引为行"
   ]
  },
  {
   "cell_type": "code",
   "execution_count": 12,
   "id": "88984a69",
   "metadata": {},
   "outputs": [
    {
     "data": {
      "text/html": [
       "<div>\n",
       "<style scoped>\n",
       "    .dataframe tbody tr th:only-of-type {\n",
       "        vertical-align: middle;\n",
       "    }\n",
       "\n",
       "    .dataframe tbody tr th {\n",
       "        vertical-align: top;\n",
       "    }\n",
       "\n",
       "    .dataframe thead th {\n",
       "        text-align: right;\n",
       "    }\n",
       "</style>\n",
       "<table border=\"1\" class=\"dataframe\">\n",
       "  <thead>\n",
       "    <tr style=\"text-align: right;\">\n",
       "      <th></th>\n",
       "      <th>b</th>\n",
       "      <th>d</th>\n",
       "      <th>e</th>\n",
       "    </tr>\n",
       "  </thead>\n",
       "  <tbody>\n",
       "    <tr>\n",
       "      <th>Utah</th>\n",
       "      <td>0.00</td>\n",
       "      <td>1.00</td>\n",
       "      <td>2.00</td>\n",
       "    </tr>\n",
       "    <tr>\n",
       "      <th>Ohio</th>\n",
       "      <td>3.00</td>\n",
       "      <td>4.00</td>\n",
       "      <td>5.00</td>\n",
       "    </tr>\n",
       "    <tr>\n",
       "      <th>Texas</th>\n",
       "      <td>6.00</td>\n",
       "      <td>7.00</td>\n",
       "      <td>8.00</td>\n",
       "    </tr>\n",
       "    <tr>\n",
       "      <th>Oregon</th>\n",
       "      <td>9.00</td>\n",
       "      <td>10.00</td>\n",
       "      <td>11.00</td>\n",
       "    </tr>\n",
       "  </tbody>\n",
       "</table>\n",
       "</div>"
      ],
      "text/plain": [
       "           b      d      e\n",
       "Utah    0.00   1.00   2.00\n",
       "Ohio    3.00   4.00   5.00\n",
       "Texas   6.00   7.00   8.00\n",
       "Oregon  9.00  10.00  11.00"
      ]
     },
     "execution_count": 12,
     "metadata": {},
     "output_type": "execute_result"
    }
   ],
   "source": [
    "#5.DataFrame中的applymap函\n",
    "\"\"\"\n",
    "为了和Series中的map区别开 applymap是元素级函数 操作frame中的每个元素\n",
    "在函数定义时 就不再是apply那样以一个Series传入了 而是一个single value\n",
    "在定义函数时要注意不要使用sum、min等这样只针对Series适用的函数\n",
    "\"\"\"\n",
    "frame.applymap(lambda x: '%.2f' %x) # 逐元素操作"
   ]
  },
  {
   "cell_type": "code",
   "execution_count": null,
   "id": "bf167cb7",
   "metadata": {},
   "outputs": [],
   "source": []
  },
  {
   "cell_type": "code",
   "execution_count": null,
   "id": "93c78542",
   "metadata": {},
   "outputs": [],
   "source": []
  }
 ],
 "metadata": {
  "kernelspec": {
   "display_name": "Python 3 (ipykernel)",
   "language": "python",
   "name": "python3"
  },
  "language_info": {
   "codemirror_mode": {
    "name": "ipython",
    "version": 3
   },
   "file_extension": ".py",
   "mimetype": "text/x-python",
   "name": "python",
   "nbconvert_exporter": "python",
   "pygments_lexer": "ipython3",
   "version": "3.9.7"
  }
 },
 "nbformat": 4,
 "nbformat_minor": 5
}
