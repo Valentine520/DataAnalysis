{
 "cells": [
  {
   "cell_type": "code",
   "execution_count": 2,
   "id": "8a883081",
   "metadata": {},
   "outputs": [],
   "source": [
    "# 数据清洗包含了缺失值、重复值、字符串操作等等内容 是数据预处理中重要的一部分\n",
    "import pandas as pd\n",
    "import numpy as np\n",
    "from numpy import nan as NULL\n",
    "from numpy import nan as NA\n",
    "from pandas import DataFrame, Series"
   ]
  },
  {
   "cell_type": "code",
   "execution_count": 31,
   "id": "a7d50fc3",
   "metadata": {},
   "outputs": [],
   "source": [
    "string_data = pd.Series(['aardvark', 'artichoke', np.nan, 'avocado'])"
   ]
  },
  {
   "cell_type": "code",
   "execution_count": 32,
   "id": "a6e6c2bc",
   "metadata": {},
   "outputs": [
    {
     "data": {
      "text/plain": [
       "0     aardvark\n",
       "1    artichoke\n",
       "2          NaN\n",
       "3      avocado\n",
       "dtype: object"
      ]
     },
     "execution_count": 32,
     "metadata": {},
     "output_type": "execute_result"
    }
   ],
   "source": [
    "string_data"
   ]
  },
  {
   "cell_type": "code",
   "execution_count": 4,
   "id": "d0356b83",
   "metadata": {},
   "outputs": [
    {
     "data": {
      "text/plain": [
       "0    False\n",
       "1    False\n",
       "2     True\n",
       "3    False\n",
       "dtype: bool"
      ]
     },
     "execution_count": 4,
     "metadata": {},
     "output_type": "execute_result"
    }
   ],
   "source": [
    "string_data.isnull()"
   ]
  },
  {
   "cell_type": "code",
   "execution_count": 5,
   "id": "e2fc1cbb",
   "metadata": {},
   "outputs": [],
   "source": [
    "string_data[0] = None"
   ]
  },
  {
   "cell_type": "code",
   "execution_count": 6,
   "id": "ac6a4cce",
   "metadata": {},
   "outputs": [
    {
     "data": {
      "text/plain": [
       "0         None\n",
       "1    artichoke\n",
       "2          NaN\n",
       "3      avocado\n",
       "dtype: object"
      ]
     },
     "execution_count": 6,
     "metadata": {},
     "output_type": "execute_result"
    }
   ],
   "source": [
    "string_data"
   ]
  },
  {
   "cell_type": "code",
   "execution_count": 7,
   "id": "20fc329d",
   "metadata": {},
   "outputs": [
    {
     "data": {
      "text/plain": [
       "0     True\n",
       "1    False\n",
       "2     True\n",
       "3    False\n",
       "dtype: bool"
      ]
     },
     "execution_count": 7,
     "metadata": {},
     "output_type": "execute_result"
    }
   ],
   "source": [
    "string_data.isnull()"
   ]
  },
  {
   "cell_type": "code",
   "execution_count": 10,
   "id": "fa9a2420",
   "metadata": {},
   "outputs": [
    {
     "data": {
      "text/plain": [
       "1    artichoke\n",
       "3      avocado\n",
       "dtype: object"
      ]
     },
     "execution_count": 10,
     "metadata": {},
     "output_type": "execute_result"
    }
   ],
   "source": [
    "string_data.dropna()"
   ]
  },
  {
   "cell_type": "code",
   "execution_count": 12,
   "id": "1baf62fe",
   "metadata": {},
   "outputs": [
    {
     "data": {
      "text/plain": [
       "0    False\n",
       "1     True\n",
       "2    False\n",
       "3     True\n",
       "dtype: bool"
      ]
     },
     "execution_count": 12,
     "metadata": {},
     "output_type": "execute_result"
    }
   ],
   "source": [
    "string_data.notna()"
   ]
  },
  {
   "cell_type": "code",
   "execution_count": 24,
   "id": "189c01c2",
   "metadata": {},
   "outputs": [],
   "source": [
    "string_data.fillna?"
   ]
  },
  {
   "cell_type": "code",
   "execution_count": 17,
   "id": "d55d181c",
   "metadata": {},
   "outputs": [
    {
     "name": "stdout",
     "output_type": "stream",
     "text": [
      "Object `reindex` not found.\n"
     ]
    }
   ],
   "source": [
    "df = DataFrame([1,2]).reindex?"
   ]
  },
  {
   "cell_type": "code",
   "execution_count": null,
   "id": "9c2609b2",
   "metadata": {},
   "outputs": [],
   "source": []
  },
  {
   "cell_type": "code",
   "execution_count": 21,
   "id": "a4dd4764",
   "metadata": {},
   "outputs": [],
   "source": [
    "df = DataFrame(np.arange(10))"
   ]
  },
  {
   "cell_type": "code",
   "execution_count": 23,
   "id": "7b571c74",
   "metadata": {},
   "outputs": [],
   "source": [
    "df.reindex?"
   ]
  },
  {
   "cell_type": "code",
   "execution_count": 36,
   "id": "1812d5a0",
   "metadata": {},
   "outputs": [
    {
     "data": {
      "text/plain": [
       "0     aardvark\n",
       "1    artichoke\n",
       "2    artichoke\n",
       "3      avocado\n",
       "dtype: object"
      ]
     },
     "execution_count": 36,
     "metadata": {},
     "output_type": "execute_result"
    }
   ],
   "source": [
    "string_data.fillna(method='ffill')"
   ]
  },
  {
   "cell_type": "code",
   "execution_count": 33,
   "id": "7c7efeaa",
   "metadata": {},
   "outputs": [],
   "source": [
    "data = pd.Series([1, NA, 3.5, NA, 7])"
   ]
  },
  {
   "cell_type": "code",
   "execution_count": 38,
   "id": "bd1dc6b6",
   "metadata": {},
   "outputs": [
    {
     "data": {
      "text/plain": [
       "0    1.0\n",
       "2    3.5\n",
       "4    7.0\n",
       "dtype: float64"
      ]
     },
     "execution_count": 38,
     "metadata": {},
     "output_type": "execute_result"
    }
   ],
   "source": [
    "data.dropna() # remove缺失值"
   ]
  },
  {
   "cell_type": "code",
   "execution_count": 43,
   "id": "86b75955",
   "metadata": {},
   "outputs": [],
   "source": [
    "data = pd.DataFrame([[1., 6.5, 3.], [1., NA, NA],\n",
    "                   [NA, NA, NA], [NA, 6.5, 3.]], columns=list('abc'))"
   ]
  },
  {
   "cell_type": "code",
   "execution_count": 44,
   "id": "0bc1987e",
   "metadata": {},
   "outputs": [
    {
     "data": {
      "text/html": [
       "<div>\n",
       "<style scoped>\n",
       "    .dataframe tbody tr th:only-of-type {\n",
       "        vertical-align: middle;\n",
       "    }\n",
       "\n",
       "    .dataframe tbody tr th {\n",
       "        vertical-align: top;\n",
       "    }\n",
       "\n",
       "    .dataframe thead th {\n",
       "        text-align: right;\n",
       "    }\n",
       "</style>\n",
       "<table border=\"1\" class=\"dataframe\">\n",
       "  <thead>\n",
       "    <tr style=\"text-align: right;\">\n",
       "      <th></th>\n",
       "      <th>a</th>\n",
       "      <th>b</th>\n",
       "      <th>c</th>\n",
       "    </tr>\n",
       "  </thead>\n",
       "  <tbody>\n",
       "    <tr>\n",
       "      <th>0</th>\n",
       "      <td>1.0</td>\n",
       "      <td>6.5</td>\n",
       "      <td>3.0</td>\n",
       "    </tr>\n",
       "    <tr>\n",
       "      <th>1</th>\n",
       "      <td>1.0</td>\n",
       "      <td>NaN</td>\n",
       "      <td>NaN</td>\n",
       "    </tr>\n",
       "    <tr>\n",
       "      <th>2</th>\n",
       "      <td>NaN</td>\n",
       "      <td>NaN</td>\n",
       "      <td>NaN</td>\n",
       "    </tr>\n",
       "    <tr>\n",
       "      <th>3</th>\n",
       "      <td>NaN</td>\n",
       "      <td>6.5</td>\n",
       "      <td>3.0</td>\n",
       "    </tr>\n",
       "  </tbody>\n",
       "</table>\n",
       "</div>"
      ],
      "text/plain": [
       "     a    b    c\n",
       "0  1.0  6.5  3.0\n",
       "1  1.0  NaN  NaN\n",
       "2  NaN  NaN  NaN\n",
       "3  NaN  6.5  3.0"
      ]
     },
     "execution_count": 44,
     "metadata": {},
     "output_type": "execute_result"
    }
   ],
   "source": [
    "data"
   ]
  },
  {
   "cell_type": "code",
   "execution_count": 49,
   "id": "b8ac3c49",
   "metadata": {},
   "outputs": [],
   "source": [
    "cleaned = data.dropna(how='all') # 当所有值都是NA才删除"
   ]
  },
  {
   "cell_type": "code",
   "execution_count": 50,
   "id": "3f76c4c5",
   "metadata": {},
   "outputs": [
    {
     "data": {
      "text/html": [
       "<div>\n",
       "<style scoped>\n",
       "    .dataframe tbody tr th:only-of-type {\n",
       "        vertical-align: middle;\n",
       "    }\n",
       "\n",
       "    .dataframe tbody tr th {\n",
       "        vertical-align: top;\n",
       "    }\n",
       "\n",
       "    .dataframe thead th {\n",
       "        text-align: right;\n",
       "    }\n",
       "</style>\n",
       "<table border=\"1\" class=\"dataframe\">\n",
       "  <thead>\n",
       "    <tr style=\"text-align: right;\">\n",
       "      <th></th>\n",
       "      <th>a</th>\n",
       "      <th>b</th>\n",
       "      <th>c</th>\n",
       "    </tr>\n",
       "  </thead>\n",
       "  <tbody>\n",
       "    <tr>\n",
       "      <th>0</th>\n",
       "      <td>1.0</td>\n",
       "      <td>6.5</td>\n",
       "      <td>3.0</td>\n",
       "    </tr>\n",
       "    <tr>\n",
       "      <th>1</th>\n",
       "      <td>1.0</td>\n",
       "      <td>NaN</td>\n",
       "      <td>NaN</td>\n",
       "    </tr>\n",
       "    <tr>\n",
       "      <th>3</th>\n",
       "      <td>NaN</td>\n",
       "      <td>6.5</td>\n",
       "      <td>3.0</td>\n",
       "    </tr>\n",
       "  </tbody>\n",
       "</table>\n",
       "</div>"
      ],
      "text/plain": [
       "     a    b    c\n",
       "0  1.0  6.5  3.0\n",
       "1  1.0  NaN  NaN\n",
       "3  NaN  6.5  3.0"
      ]
     },
     "execution_count": 50,
     "metadata": {},
     "output_type": "execute_result"
    }
   ],
   "source": [
    "cleaned"
   ]
  },
  {
   "cell_type": "code",
   "execution_count": 51,
   "id": "72359d9a",
   "metadata": {},
   "outputs": [],
   "source": [
    "data['a'][1] = NA"
   ]
  },
  {
   "cell_type": "code",
   "execution_count": 58,
   "id": "add3175d",
   "metadata": {},
   "outputs": [],
   "source": [
    "data.dropna?"
   ]
  },
  {
   "cell_type": "code",
   "execution_count": 59,
   "id": "a66d48ed",
   "metadata": {},
   "outputs": [],
   "source": [
    "data[4] = NA"
   ]
  },
  {
   "cell_type": "code",
   "execution_count": 60,
   "id": "18f3cfd1",
   "metadata": {},
   "outputs": [
    {
     "data": {
      "text/html": [
       "<div>\n",
       "<style scoped>\n",
       "    .dataframe tbody tr th:only-of-type {\n",
       "        vertical-align: middle;\n",
       "    }\n",
       "\n",
       "    .dataframe tbody tr th {\n",
       "        vertical-align: top;\n",
       "    }\n",
       "\n",
       "    .dataframe thead th {\n",
       "        text-align: right;\n",
       "    }\n",
       "</style>\n",
       "<table border=\"1\" class=\"dataframe\">\n",
       "  <thead>\n",
       "    <tr style=\"text-align: right;\">\n",
       "      <th></th>\n",
       "      <th>a</th>\n",
       "      <th>b</th>\n",
       "      <th>c</th>\n",
       "      <th>4</th>\n",
       "    </tr>\n",
       "  </thead>\n",
       "  <tbody>\n",
       "    <tr>\n",
       "      <th>0</th>\n",
       "      <td>1.0</td>\n",
       "      <td>6.5</td>\n",
       "      <td>3.0</td>\n",
       "      <td>NaN</td>\n",
       "    </tr>\n",
       "    <tr>\n",
       "      <th>1</th>\n",
       "      <td>NaN</td>\n",
       "      <td>NaN</td>\n",
       "      <td>NaN</td>\n",
       "      <td>NaN</td>\n",
       "    </tr>\n",
       "    <tr>\n",
       "      <th>2</th>\n",
       "      <td>NaN</td>\n",
       "      <td>NaN</td>\n",
       "      <td>NaN</td>\n",
       "      <td>NaN</td>\n",
       "    </tr>\n",
       "    <tr>\n",
       "      <th>3</th>\n",
       "      <td>NaN</td>\n",
       "      <td>6.5</td>\n",
       "      <td>3.0</td>\n",
       "      <td>NaN</td>\n",
       "    </tr>\n",
       "  </tbody>\n",
       "</table>\n",
       "</div>"
      ],
      "text/plain": [
       "     a    b    c   4\n",
       "0  1.0  6.5  3.0 NaN\n",
       "1  NaN  NaN  NaN NaN\n",
       "2  NaN  NaN  NaN NaN\n",
       "3  NaN  6.5  3.0 NaN"
      ]
     },
     "execution_count": 60,
     "metadata": {},
     "output_type": "execute_result"
    }
   ],
   "source": [
    "data"
   ]
  },
  {
   "cell_type": "code",
   "execution_count": 62,
   "id": "b1bf5e5a",
   "metadata": {},
   "outputs": [
    {
     "data": {
      "text/html": [
       "<div>\n",
       "<style scoped>\n",
       "    .dataframe tbody tr th:only-of-type {\n",
       "        vertical-align: middle;\n",
       "    }\n",
       "\n",
       "    .dataframe tbody tr th {\n",
       "        vertical-align: top;\n",
       "    }\n",
       "\n",
       "    .dataframe thead th {\n",
       "        text-align: right;\n",
       "    }\n",
       "</style>\n",
       "<table border=\"1\" class=\"dataframe\">\n",
       "  <thead>\n",
       "    <tr style=\"text-align: right;\">\n",
       "      <th></th>\n",
       "      <th>a</th>\n",
       "      <th>b</th>\n",
       "      <th>c</th>\n",
       "    </tr>\n",
       "  </thead>\n",
       "  <tbody>\n",
       "    <tr>\n",
       "      <th>0</th>\n",
       "      <td>1.0</td>\n",
       "      <td>6.5</td>\n",
       "      <td>3.0</td>\n",
       "    </tr>\n",
       "    <tr>\n",
       "      <th>1</th>\n",
       "      <td>NaN</td>\n",
       "      <td>NaN</td>\n",
       "      <td>NaN</td>\n",
       "    </tr>\n",
       "    <tr>\n",
       "      <th>2</th>\n",
       "      <td>NaN</td>\n",
       "      <td>NaN</td>\n",
       "      <td>NaN</td>\n",
       "    </tr>\n",
       "    <tr>\n",
       "      <th>3</th>\n",
       "      <td>NaN</td>\n",
       "      <td>6.5</td>\n",
       "      <td>3.0</td>\n",
       "    </tr>\n",
       "  </tbody>\n",
       "</table>\n",
       "</div>"
      ],
      "text/plain": [
       "     a    b    c\n",
       "0  1.0  6.5  3.0\n",
       "1  NaN  NaN  NaN\n",
       "2  NaN  NaN  NaN\n",
       "3  NaN  6.5  3.0"
      ]
     },
     "execution_count": 62,
     "metadata": {},
     "output_type": "execute_result"
    }
   ],
   "source": [
    "data.dropna(axis=1, how='all')"
   ]
  },
  {
   "cell_type": "code",
   "execution_count": 64,
   "id": "0342a19d",
   "metadata": {},
   "outputs": [],
   "source": [
    "data.drop?"
   ]
  },
  {
   "cell_type": "code",
   "execution_count": 65,
   "id": "68114e06",
   "metadata": {},
   "outputs": [
    {
     "data": {
      "text/html": [
       "<div>\n",
       "<style scoped>\n",
       "    .dataframe tbody tr th:only-of-type {\n",
       "        vertical-align: middle;\n",
       "    }\n",
       "\n",
       "    .dataframe tbody tr th {\n",
       "        vertical-align: top;\n",
       "    }\n",
       "\n",
       "    .dataframe thead th {\n",
       "        text-align: right;\n",
       "    }\n",
       "</style>\n",
       "<table border=\"1\" class=\"dataframe\">\n",
       "  <thead>\n",
       "    <tr style=\"text-align: right;\">\n",
       "      <th></th>\n",
       "      <th>a</th>\n",
       "      <th>b</th>\n",
       "      <th>c</th>\n",
       "      <th>4</th>\n",
       "    </tr>\n",
       "  </thead>\n",
       "  <tbody>\n",
       "    <tr>\n",
       "      <th>1</th>\n",
       "      <td>NaN</td>\n",
       "      <td>NaN</td>\n",
       "      <td>NaN</td>\n",
       "      <td>NaN</td>\n",
       "    </tr>\n",
       "    <tr>\n",
       "      <th>2</th>\n",
       "      <td>NaN</td>\n",
       "      <td>NaN</td>\n",
       "      <td>NaN</td>\n",
       "      <td>NaN</td>\n",
       "    </tr>\n",
       "    <tr>\n",
       "      <th>3</th>\n",
       "      <td>NaN</td>\n",
       "      <td>6.5</td>\n",
       "      <td>3.0</td>\n",
       "      <td>NaN</td>\n",
       "    </tr>\n",
       "  </tbody>\n",
       "</table>\n",
       "</div>"
      ],
      "text/plain": [
       "    a    b    c   4\n",
       "1 NaN  NaN  NaN NaN\n",
       "2 NaN  NaN  NaN NaN\n",
       "3 NaN  6.5  3.0 NaN"
      ]
     },
     "execution_count": 65,
     "metadata": {},
     "output_type": "execute_result"
    }
   ],
   "source": [
    "data.drop(0)"
   ]
  },
  {
   "cell_type": "code",
   "execution_count": 103,
   "id": "55a5a9a2",
   "metadata": {},
   "outputs": [],
   "source": [
    "df = pd.DataFrame(np.random.randn(7, 3))"
   ]
  },
  {
   "cell_type": "code",
   "execution_count": 104,
   "id": "7aaa0f80",
   "metadata": {},
   "outputs": [],
   "source": [
    "df.iloc[:4, 1] = NA"
   ]
  },
  {
   "cell_type": "code",
   "execution_count": 105,
   "id": "0b3ed691",
   "metadata": {},
   "outputs": [],
   "source": [
    "df.iloc[:2, 2] = NA"
   ]
  },
  {
   "cell_type": "code",
   "execution_count": 106,
   "id": "03a76f45",
   "metadata": {},
   "outputs": [
    {
     "data": {
      "text/html": [
       "<div>\n",
       "<style scoped>\n",
       "    .dataframe tbody tr th:only-of-type {\n",
       "        vertical-align: middle;\n",
       "    }\n",
       "\n",
       "    .dataframe tbody tr th {\n",
       "        vertical-align: top;\n",
       "    }\n",
       "\n",
       "    .dataframe thead th {\n",
       "        text-align: right;\n",
       "    }\n",
       "</style>\n",
       "<table border=\"1\" class=\"dataframe\">\n",
       "  <thead>\n",
       "    <tr style=\"text-align: right;\">\n",
       "      <th></th>\n",
       "      <th>0</th>\n",
       "      <th>1</th>\n",
       "      <th>2</th>\n",
       "    </tr>\n",
       "  </thead>\n",
       "  <tbody>\n",
       "    <tr>\n",
       "      <th>0</th>\n",
       "      <td>1.475162</td>\n",
       "      <td>NaN</td>\n",
       "      <td>NaN</td>\n",
       "    </tr>\n",
       "    <tr>\n",
       "      <th>1</th>\n",
       "      <td>1.094550</td>\n",
       "      <td>NaN</td>\n",
       "      <td>NaN</td>\n",
       "    </tr>\n",
       "    <tr>\n",
       "      <th>2</th>\n",
       "      <td>-0.542647</td>\n",
       "      <td>NaN</td>\n",
       "      <td>1.558080</td>\n",
       "    </tr>\n",
       "    <tr>\n",
       "      <th>3</th>\n",
       "      <td>2.064381</td>\n",
       "      <td>NaN</td>\n",
       "      <td>1.260885</td>\n",
       "    </tr>\n",
       "    <tr>\n",
       "      <th>4</th>\n",
       "      <td>-0.879697</td>\n",
       "      <td>0.987806</td>\n",
       "      <td>0.313529</td>\n",
       "    </tr>\n",
       "    <tr>\n",
       "      <th>5</th>\n",
       "      <td>0.121124</td>\n",
       "      <td>-0.021943</td>\n",
       "      <td>-0.268673</td>\n",
       "    </tr>\n",
       "    <tr>\n",
       "      <th>6</th>\n",
       "      <td>0.791605</td>\n",
       "      <td>0.749020</td>\n",
       "      <td>-1.565092</td>\n",
       "    </tr>\n",
       "  </tbody>\n",
       "</table>\n",
       "</div>"
      ],
      "text/plain": [
       "          0         1         2\n",
       "0  1.475162       NaN       NaN\n",
       "1  1.094550       NaN       NaN\n",
       "2 -0.542647       NaN  1.558080\n",
       "3  2.064381       NaN  1.260885\n",
       "4 -0.879697  0.987806  0.313529\n",
       "5  0.121124 -0.021943 -0.268673\n",
       "6  0.791605  0.749020 -1.565092"
      ]
     },
     "execution_count": 106,
     "metadata": {},
     "output_type": "execute_result"
    }
   ],
   "source": [
    "df"
   ]
  },
  {
   "cell_type": "code",
   "execution_count": 107,
   "id": "32130c0e",
   "metadata": {},
   "outputs": [
    {
     "data": {
      "text/html": [
       "<div>\n",
       "<style scoped>\n",
       "    .dataframe tbody tr th:only-of-type {\n",
       "        vertical-align: middle;\n",
       "    }\n",
       "\n",
       "    .dataframe tbody tr th {\n",
       "        vertical-align: top;\n",
       "    }\n",
       "\n",
       "    .dataframe thead th {\n",
       "        text-align: right;\n",
       "    }\n",
       "</style>\n",
       "<table border=\"1\" class=\"dataframe\">\n",
       "  <thead>\n",
       "    <tr style=\"text-align: right;\">\n",
       "      <th></th>\n",
       "      <th>0</th>\n",
       "      <th>1</th>\n",
       "      <th>2</th>\n",
       "    </tr>\n",
       "  </thead>\n",
       "  <tbody>\n",
       "    <tr>\n",
       "      <th>4</th>\n",
       "      <td>-0.879697</td>\n",
       "      <td>0.987806</td>\n",
       "      <td>0.313529</td>\n",
       "    </tr>\n",
       "    <tr>\n",
       "      <th>5</th>\n",
       "      <td>0.121124</td>\n",
       "      <td>-0.021943</td>\n",
       "      <td>-0.268673</td>\n",
       "    </tr>\n",
       "    <tr>\n",
       "      <th>6</th>\n",
       "      <td>0.791605</td>\n",
       "      <td>0.749020</td>\n",
       "      <td>-1.565092</td>\n",
       "    </tr>\n",
       "  </tbody>\n",
       "</table>\n",
       "</div>"
      ],
      "text/plain": [
       "          0         1         2\n",
       "4 -0.879697  0.987806  0.313529\n",
       "5  0.121124 -0.021943 -0.268673\n",
       "6  0.791605  0.749020 -1.565092"
      ]
     },
     "execution_count": 107,
     "metadata": {},
     "output_type": "execute_result"
    }
   ],
   "source": [
    "df.dropna()"
   ]
  },
  {
   "cell_type": "code",
   "execution_count": 108,
   "id": "6118e441",
   "metadata": {},
   "outputs": [
    {
     "data": {
      "text/html": [
       "<div>\n",
       "<style scoped>\n",
       "    .dataframe tbody tr th:only-of-type {\n",
       "        vertical-align: middle;\n",
       "    }\n",
       "\n",
       "    .dataframe tbody tr th {\n",
       "        vertical-align: top;\n",
       "    }\n",
       "\n",
       "    .dataframe thead th {\n",
       "        text-align: right;\n",
       "    }\n",
       "</style>\n",
       "<table border=\"1\" class=\"dataframe\">\n",
       "  <thead>\n",
       "    <tr style=\"text-align: right;\">\n",
       "      <th></th>\n",
       "      <th>0</th>\n",
       "    </tr>\n",
       "  </thead>\n",
       "  <tbody>\n",
       "    <tr>\n",
       "      <th>0</th>\n",
       "      <td>1.475162</td>\n",
       "    </tr>\n",
       "    <tr>\n",
       "      <th>1</th>\n",
       "      <td>1.094550</td>\n",
       "    </tr>\n",
       "    <tr>\n",
       "      <th>2</th>\n",
       "      <td>-0.542647</td>\n",
       "    </tr>\n",
       "    <tr>\n",
       "      <th>3</th>\n",
       "      <td>2.064381</td>\n",
       "    </tr>\n",
       "    <tr>\n",
       "      <th>4</th>\n",
       "      <td>-0.879697</td>\n",
       "    </tr>\n",
       "    <tr>\n",
       "      <th>5</th>\n",
       "      <td>0.121124</td>\n",
       "    </tr>\n",
       "    <tr>\n",
       "      <th>6</th>\n",
       "      <td>0.791605</td>\n",
       "    </tr>\n",
       "  </tbody>\n",
       "</table>\n",
       "</div>"
      ],
      "text/plain": [
       "          0\n",
       "0  1.475162\n",
       "1  1.094550\n",
       "2 -0.542647\n",
       "3  2.064381\n",
       "4 -0.879697\n",
       "5  0.121124\n",
       "6  0.791605"
      ]
     },
     "execution_count": 108,
     "metadata": {},
     "output_type": "execute_result"
    }
   ],
   "source": [
    "df.dropna(axis=1)"
   ]
  },
  {
   "cell_type": "code",
   "execution_count": 121,
   "id": "7c7a003f",
   "metadata": {},
   "outputs": [
    {
     "data": {
      "text/html": [
       "<div>\n",
       "<style scoped>\n",
       "    .dataframe tbody tr th:only-of-type {\n",
       "        vertical-align: middle;\n",
       "    }\n",
       "\n",
       "    .dataframe tbody tr th {\n",
       "        vertical-align: top;\n",
       "    }\n",
       "\n",
       "    .dataframe thead th {\n",
       "        text-align: right;\n",
       "    }\n",
       "</style>\n",
       "<table border=\"1\" class=\"dataframe\">\n",
       "  <thead>\n",
       "    <tr style=\"text-align: right;\">\n",
       "      <th></th>\n",
       "      <th>0</th>\n",
       "      <th>1</th>\n",
       "      <th>2</th>\n",
       "    </tr>\n",
       "  </thead>\n",
       "  <tbody>\n",
       "    <tr>\n",
       "      <th>2</th>\n",
       "      <td>-0.542647</td>\n",
       "      <td>NaN</td>\n",
       "      <td>1.558080</td>\n",
       "    </tr>\n",
       "    <tr>\n",
       "      <th>3</th>\n",
       "      <td>2.064381</td>\n",
       "      <td>NaN</td>\n",
       "      <td>1.260885</td>\n",
       "    </tr>\n",
       "    <tr>\n",
       "      <th>4</th>\n",
       "      <td>-0.879697</td>\n",
       "      <td>0.987806</td>\n",
       "      <td>0.313529</td>\n",
       "    </tr>\n",
       "    <tr>\n",
       "      <th>5</th>\n",
       "      <td>0.121124</td>\n",
       "      <td>-0.021943</td>\n",
       "      <td>-0.268673</td>\n",
       "    </tr>\n",
       "    <tr>\n",
       "      <th>6</th>\n",
       "      <td>0.791605</td>\n",
       "      <td>0.749020</td>\n",
       "      <td>-1.565092</td>\n",
       "    </tr>\n",
       "  </tbody>\n",
       "</table>\n",
       "</div>"
      ],
      "text/plain": [
       "          0         1         2\n",
       "2 -0.542647       NaN  1.558080\n",
       "3  2.064381       NaN  1.260885\n",
       "4 -0.879697  0.987806  0.313529\n",
       "5  0.121124 -0.021943 -0.268673\n",
       "6  0.791605  0.749020 -1.565092"
      ]
     },
     "execution_count": 121,
     "metadata": {},
     "output_type": "execute_result"
    }
   ],
   "source": [
    "df.dropna(thresh=2, inplace=False)"
   ]
  },
  {
   "cell_type": "code",
   "execution_count": 116,
   "id": "4d096f60",
   "metadata": {},
   "outputs": [
    {
     "data": {
      "text/html": [
       "<div>\n",
       "<style scoped>\n",
       "    .dataframe tbody tr th:only-of-type {\n",
       "        vertical-align: middle;\n",
       "    }\n",
       "\n",
       "    .dataframe tbody tr th {\n",
       "        vertical-align: top;\n",
       "    }\n",
       "\n",
       "    .dataframe thead th {\n",
       "        text-align: right;\n",
       "    }\n",
       "</style>\n",
       "<table border=\"1\" class=\"dataframe\">\n",
       "  <thead>\n",
       "    <tr style=\"text-align: right;\">\n",
       "      <th></th>\n",
       "      <th>0</th>\n",
       "      <th>1</th>\n",
       "      <th>2</th>\n",
       "    </tr>\n",
       "  </thead>\n",
       "  <tbody>\n",
       "    <tr>\n",
       "      <th>0</th>\n",
       "      <td>1.475162</td>\n",
       "      <td>NaN</td>\n",
       "      <td>NaN</td>\n",
       "    </tr>\n",
       "    <tr>\n",
       "      <th>1</th>\n",
       "      <td>1.094550</td>\n",
       "      <td>NaN</td>\n",
       "      <td>NaN</td>\n",
       "    </tr>\n",
       "    <tr>\n",
       "      <th>2</th>\n",
       "      <td>-0.542647</td>\n",
       "      <td>NaN</td>\n",
       "      <td>1.558080</td>\n",
       "    </tr>\n",
       "    <tr>\n",
       "      <th>3</th>\n",
       "      <td>2.064381</td>\n",
       "      <td>NaN</td>\n",
       "      <td>1.260885</td>\n",
       "    </tr>\n",
       "    <tr>\n",
       "      <th>4</th>\n",
       "      <td>-0.879697</td>\n",
       "      <td>0.987806</td>\n",
       "      <td>0.313529</td>\n",
       "    </tr>\n",
       "    <tr>\n",
       "      <th>5</th>\n",
       "      <td>0.121124</td>\n",
       "      <td>-0.021943</td>\n",
       "      <td>-0.268673</td>\n",
       "    </tr>\n",
       "    <tr>\n",
       "      <th>6</th>\n",
       "      <td>0.791605</td>\n",
       "      <td>0.749020</td>\n",
       "      <td>-1.565092</td>\n",
       "    </tr>\n",
       "  </tbody>\n",
       "</table>\n",
       "</div>"
      ],
      "text/plain": [
       "          0         1         2\n",
       "0  1.475162       NaN       NaN\n",
       "1  1.094550       NaN       NaN\n",
       "2 -0.542647       NaN  1.558080\n",
       "3  2.064381       NaN  1.260885\n",
       "4 -0.879697  0.987806  0.313529\n",
       "5  0.121124 -0.021943 -0.268673\n",
       "6  0.791605  0.749020 -1.565092"
      ]
     },
     "execution_count": 116,
     "metadata": {},
     "output_type": "execute_result"
    }
   ],
   "source": [
    "df"
   ]
  },
  {
   "cell_type": "code",
   "execution_count": 122,
   "id": "312128f4",
   "metadata": {},
   "outputs": [
    {
     "data": {
      "text/html": [
       "<div>\n",
       "<style scoped>\n",
       "    .dataframe tbody tr th:only-of-type {\n",
       "        vertical-align: middle;\n",
       "    }\n",
       "\n",
       "    .dataframe tbody tr th {\n",
       "        vertical-align: top;\n",
       "    }\n",
       "\n",
       "    .dataframe thead th {\n",
       "        text-align: right;\n",
       "    }\n",
       "</style>\n",
       "<table border=\"1\" class=\"dataframe\">\n",
       "  <thead>\n",
       "    <tr style=\"text-align: right;\">\n",
       "      <th></th>\n",
       "      <th>0</th>\n",
       "      <th>1</th>\n",
       "      <th>2</th>\n",
       "    </tr>\n",
       "  </thead>\n",
       "  <tbody>\n",
       "    <tr>\n",
       "      <th>0</th>\n",
       "      <td>1.475162</td>\n",
       "      <td>NaN</td>\n",
       "      <td>NaN</td>\n",
       "    </tr>\n",
       "    <tr>\n",
       "      <th>1</th>\n",
       "      <td>1.094550</td>\n",
       "      <td>NaN</td>\n",
       "      <td>NaN</td>\n",
       "    </tr>\n",
       "    <tr>\n",
       "      <th>2</th>\n",
       "      <td>-0.542647</td>\n",
       "      <td>NaN</td>\n",
       "      <td>1.558080</td>\n",
       "    </tr>\n",
       "    <tr>\n",
       "      <th>3</th>\n",
       "      <td>2.064381</td>\n",
       "      <td>NaN</td>\n",
       "      <td>1.260885</td>\n",
       "    </tr>\n",
       "    <tr>\n",
       "      <th>4</th>\n",
       "      <td>-0.879697</td>\n",
       "      <td>0.987806</td>\n",
       "      <td>0.313529</td>\n",
       "    </tr>\n",
       "    <tr>\n",
       "      <th>5</th>\n",
       "      <td>0.121124</td>\n",
       "      <td>-0.021943</td>\n",
       "      <td>-0.268673</td>\n",
       "    </tr>\n",
       "    <tr>\n",
       "      <th>6</th>\n",
       "      <td>0.791605</td>\n",
       "      <td>0.749020</td>\n",
       "      <td>-1.565092</td>\n",
       "    </tr>\n",
       "  </tbody>\n",
       "</table>\n",
       "</div>"
      ],
      "text/plain": [
       "          0         1         2\n",
       "0  1.475162       NaN       NaN\n",
       "1  1.094550       NaN       NaN\n",
       "2 -0.542647       NaN  1.558080\n",
       "3  2.064381       NaN  1.260885\n",
       "4 -0.879697  0.987806  0.313529\n",
       "5  0.121124 -0.021943 -0.268673\n",
       "6  0.791605  0.749020 -1.565092"
      ]
     },
     "execution_count": 122,
     "metadata": {},
     "output_type": "execute_result"
    }
   ],
   "source": [
    "df"
   ]
  },
  {
   "cell_type": "code",
   "execution_count": 123,
   "id": "4cac2ce3",
   "metadata": {},
   "outputs": [
    {
     "data": {
      "text/html": [
       "<div>\n",
       "<style scoped>\n",
       "    .dataframe tbody tr th:only-of-type {\n",
       "        vertical-align: middle;\n",
       "    }\n",
       "\n",
       "    .dataframe tbody tr th {\n",
       "        vertical-align: top;\n",
       "    }\n",
       "\n",
       "    .dataframe thead th {\n",
       "        text-align: right;\n",
       "    }\n",
       "</style>\n",
       "<table border=\"1\" class=\"dataframe\">\n",
       "  <thead>\n",
       "    <tr style=\"text-align: right;\">\n",
       "      <th></th>\n",
       "      <th>0</th>\n",
       "      <th>1</th>\n",
       "      <th>2</th>\n",
       "    </tr>\n",
       "  </thead>\n",
       "  <tbody>\n",
       "    <tr>\n",
       "      <th>0</th>\n",
       "      <td>1.475162</td>\n",
       "      <td>0.500000</td>\n",
       "      <td>0.000000</td>\n",
       "    </tr>\n",
       "    <tr>\n",
       "      <th>1</th>\n",
       "      <td>1.094550</td>\n",
       "      <td>0.500000</td>\n",
       "      <td>0.000000</td>\n",
       "    </tr>\n",
       "    <tr>\n",
       "      <th>2</th>\n",
       "      <td>-0.542647</td>\n",
       "      <td>0.500000</td>\n",
       "      <td>1.558080</td>\n",
       "    </tr>\n",
       "    <tr>\n",
       "      <th>3</th>\n",
       "      <td>2.064381</td>\n",
       "      <td>0.500000</td>\n",
       "      <td>1.260885</td>\n",
       "    </tr>\n",
       "    <tr>\n",
       "      <th>4</th>\n",
       "      <td>-0.879697</td>\n",
       "      <td>0.987806</td>\n",
       "      <td>0.313529</td>\n",
       "    </tr>\n",
       "    <tr>\n",
       "      <th>5</th>\n",
       "      <td>0.121124</td>\n",
       "      <td>-0.021943</td>\n",
       "      <td>-0.268673</td>\n",
       "    </tr>\n",
       "    <tr>\n",
       "      <th>6</th>\n",
       "      <td>0.791605</td>\n",
       "      <td>0.749020</td>\n",
       "      <td>-1.565092</td>\n",
       "    </tr>\n",
       "  </tbody>\n",
       "</table>\n",
       "</div>"
      ],
      "text/plain": [
       "          0         1         2\n",
       "0  1.475162  0.500000  0.000000\n",
       "1  1.094550  0.500000  0.000000\n",
       "2 -0.542647  0.500000  1.558080\n",
       "3  2.064381  0.500000  1.260885\n",
       "4 -0.879697  0.987806  0.313529\n",
       "5  0.121124 -0.021943 -0.268673\n",
       "6  0.791605  0.749020 -1.565092"
      ]
     },
     "execution_count": 123,
     "metadata": {},
     "output_type": "execute_result"
    }
   ],
   "source": [
    "df.fillna({1: 0.5, 2: 0}) # 使用字典分别指定不同列的处理方法"
   ]
  },
  {
   "cell_type": "code",
   "execution_count": 128,
   "id": "b2c07adc",
   "metadata": {},
   "outputs": [],
   "source": [
    "df.fillna(limit=2, method='bfill', inplace=True)"
   ]
  },
  {
   "cell_type": "code",
   "execution_count": 129,
   "id": "0a1957c3",
   "metadata": {},
   "outputs": [],
   "source": [
    "df.fillna(limit=2, method='ffill', inplace=True)"
   ]
  },
  {
   "cell_type": "code",
   "execution_count": 130,
   "id": "4669caf2",
   "metadata": {},
   "outputs": [
    {
     "data": {
      "text/html": [
       "<div>\n",
       "<style scoped>\n",
       "    .dataframe tbody tr th:only-of-type {\n",
       "        vertical-align: middle;\n",
       "    }\n",
       "\n",
       "    .dataframe tbody tr th {\n",
       "        vertical-align: top;\n",
       "    }\n",
       "\n",
       "    .dataframe thead th {\n",
       "        text-align: right;\n",
       "    }\n",
       "</style>\n",
       "<table border=\"1\" class=\"dataframe\">\n",
       "  <thead>\n",
       "    <tr style=\"text-align: right;\">\n",
       "      <th></th>\n",
       "      <th>0</th>\n",
       "      <th>1</th>\n",
       "      <th>2</th>\n",
       "    </tr>\n",
       "  </thead>\n",
       "  <tbody>\n",
       "    <tr>\n",
       "      <th>0</th>\n",
       "      <td>1.475162</td>\n",
       "      <td>0.987806</td>\n",
       "      <td>1.558080</td>\n",
       "    </tr>\n",
       "    <tr>\n",
       "      <th>1</th>\n",
       "      <td>1.094550</td>\n",
       "      <td>0.987806</td>\n",
       "      <td>1.558080</td>\n",
       "    </tr>\n",
       "    <tr>\n",
       "      <th>2</th>\n",
       "      <td>-0.542647</td>\n",
       "      <td>0.987806</td>\n",
       "      <td>1.558080</td>\n",
       "    </tr>\n",
       "    <tr>\n",
       "      <th>3</th>\n",
       "      <td>2.064381</td>\n",
       "      <td>0.987806</td>\n",
       "      <td>1.260885</td>\n",
       "    </tr>\n",
       "    <tr>\n",
       "      <th>4</th>\n",
       "      <td>-0.879697</td>\n",
       "      <td>0.987806</td>\n",
       "      <td>0.313529</td>\n",
       "    </tr>\n",
       "    <tr>\n",
       "      <th>5</th>\n",
       "      <td>0.121124</td>\n",
       "      <td>-0.021943</td>\n",
       "      <td>-0.268673</td>\n",
       "    </tr>\n",
       "    <tr>\n",
       "      <th>6</th>\n",
       "      <td>0.791605</td>\n",
       "      <td>0.749020</td>\n",
       "      <td>-1.565092</td>\n",
       "    </tr>\n",
       "  </tbody>\n",
       "</table>\n",
       "</div>"
      ],
      "text/plain": [
       "          0         1         2\n",
       "0  1.475162  0.987806  1.558080\n",
       "1  1.094550  0.987806  1.558080\n",
       "2 -0.542647  0.987806  1.558080\n",
       "3  2.064381  0.987806  1.260885\n",
       "4 -0.879697  0.987806  0.313529\n",
       "5  0.121124 -0.021943 -0.268673\n",
       "6  0.791605  0.749020 -1.565092"
      ]
     },
     "execution_count": 130,
     "metadata": {},
     "output_type": "execute_result"
    }
   ],
   "source": [
    "df"
   ]
  },
  {
   "cell_type": "code",
   "execution_count": 135,
   "id": "7a6c1a6c",
   "metadata": {},
   "outputs": [],
   "source": [
    "data = pd.Series([1., NA, 3.5, NA, 7])"
   ]
  },
  {
   "cell_type": "code",
   "execution_count": 136,
   "id": "fe1f1127",
   "metadata": {},
   "outputs": [
    {
     "data": {
      "text/plain": [
       "0    1.0\n",
       "1    NaN\n",
       "2    3.5\n",
       "3    NaN\n",
       "4    7.0\n",
       "dtype: float64"
      ]
     },
     "execution_count": 136,
     "metadata": {},
     "output_type": "execute_result"
    }
   ],
   "source": [
    "data"
   ]
  },
  {
   "cell_type": "code",
   "execution_count": 139,
   "id": "af5f53eb",
   "metadata": {},
   "outputs": [
    {
     "data": {
      "text/plain": [
       "0    1.000000\n",
       "1    3.833333\n",
       "2    3.500000\n",
       "3    3.833333\n",
       "4    7.000000\n",
       "dtype: float64"
      ]
     },
     "execution_count": 139,
     "metadata": {},
     "output_type": "execute_result"
    }
   ],
   "source": [
    "data.fillna(data.mean()) # 使用平均值进行填充"
   ]
  },
  {
   "cell_type": "code",
   "execution_count": 140,
   "id": "8704597d",
   "metadata": {},
   "outputs": [
    {
     "data": {
      "text/plain": [
       "0    1.0\n",
       "1    NaN\n",
       "2    3.5\n",
       "3    NaN\n",
       "4    7.0\n",
       "dtype: float64"
      ]
     },
     "execution_count": 140,
     "metadata": {},
     "output_type": "execute_result"
    }
   ],
   "source": [
    "data"
   ]
  },
  {
   "cell_type": "code",
   "execution_count": 4,
   "id": "71c9fd2a",
   "metadata": {},
   "outputs": [],
   "source": [
    "data = pd.DataFrame({'k1': ['one', 'two'] * 3 + ['two'],\n",
    "                    'k2': [1, 1, 2, 3, 3, 4, 4]})"
   ]
  },
  {
   "cell_type": "code",
   "execution_count": 5,
   "id": "027eaaf4",
   "metadata": {},
   "outputs": [
    {
     "data": {
      "text/html": [
       "<div>\n",
       "<style scoped>\n",
       "    .dataframe tbody tr th:only-of-type {\n",
       "        vertical-align: middle;\n",
       "    }\n",
       "\n",
       "    .dataframe tbody tr th {\n",
       "        vertical-align: top;\n",
       "    }\n",
       "\n",
       "    .dataframe thead th {\n",
       "        text-align: right;\n",
       "    }\n",
       "</style>\n",
       "<table border=\"1\" class=\"dataframe\">\n",
       "  <thead>\n",
       "    <tr style=\"text-align: right;\">\n",
       "      <th></th>\n",
       "      <th>k1</th>\n",
       "      <th>k2</th>\n",
       "    </tr>\n",
       "  </thead>\n",
       "  <tbody>\n",
       "    <tr>\n",
       "      <th>0</th>\n",
       "      <td>one</td>\n",
       "      <td>1</td>\n",
       "    </tr>\n",
       "    <tr>\n",
       "      <th>1</th>\n",
       "      <td>two</td>\n",
       "      <td>1</td>\n",
       "    </tr>\n",
       "    <tr>\n",
       "      <th>2</th>\n",
       "      <td>one</td>\n",
       "      <td>2</td>\n",
       "    </tr>\n",
       "    <tr>\n",
       "      <th>3</th>\n",
       "      <td>two</td>\n",
       "      <td>3</td>\n",
       "    </tr>\n",
       "    <tr>\n",
       "      <th>4</th>\n",
       "      <td>one</td>\n",
       "      <td>3</td>\n",
       "    </tr>\n",
       "    <tr>\n",
       "      <th>5</th>\n",
       "      <td>two</td>\n",
       "      <td>4</td>\n",
       "    </tr>\n",
       "    <tr>\n",
       "      <th>6</th>\n",
       "      <td>two</td>\n",
       "      <td>4</td>\n",
       "    </tr>\n",
       "  </tbody>\n",
       "</table>\n",
       "</div>"
      ],
      "text/plain": [
       "    k1  k2\n",
       "0  one   1\n",
       "1  two   1\n",
       "2  one   2\n",
       "3  two   3\n",
       "4  one   3\n",
       "5  two   4\n",
       "6  two   4"
      ]
     },
     "execution_count": 5,
     "metadata": {},
     "output_type": "execute_result"
    }
   ],
   "source": [
    "data"
   ]
  },
  {
   "cell_type": "code",
   "execution_count": 6,
   "id": "2a3ef3c4",
   "metadata": {},
   "outputs": [
    {
     "data": {
      "text/plain": [
       "0    False\n",
       "1    False\n",
       "2    False\n",
       "3    False\n",
       "4    False\n",
       "5    False\n",
       "6     True\n",
       "dtype: bool"
      ]
     },
     "execution_count": 6,
     "metadata": {},
     "output_type": "execute_result"
    }
   ],
   "source": [
    "data.duplicated()"
   ]
  },
  {
   "cell_type": "code",
   "execution_count": 7,
   "id": "59381a77",
   "metadata": {},
   "outputs": [
    {
     "data": {
      "text/html": [
       "<div>\n",
       "<style scoped>\n",
       "    .dataframe tbody tr th:only-of-type {\n",
       "        vertical-align: middle;\n",
       "    }\n",
       "\n",
       "    .dataframe tbody tr th {\n",
       "        vertical-align: top;\n",
       "    }\n",
       "\n",
       "    .dataframe thead th {\n",
       "        text-align: right;\n",
       "    }\n",
       "</style>\n",
       "<table border=\"1\" class=\"dataframe\">\n",
       "  <thead>\n",
       "    <tr style=\"text-align: right;\">\n",
       "      <th></th>\n",
       "      <th>k1</th>\n",
       "      <th>k2</th>\n",
       "    </tr>\n",
       "  </thead>\n",
       "  <tbody>\n",
       "    <tr>\n",
       "      <th>0</th>\n",
       "      <td>one</td>\n",
       "      <td>1</td>\n",
       "    </tr>\n",
       "    <tr>\n",
       "      <th>1</th>\n",
       "      <td>two</td>\n",
       "      <td>1</td>\n",
       "    </tr>\n",
       "    <tr>\n",
       "      <th>2</th>\n",
       "      <td>one</td>\n",
       "      <td>2</td>\n",
       "    </tr>\n",
       "    <tr>\n",
       "      <th>3</th>\n",
       "      <td>two</td>\n",
       "      <td>3</td>\n",
       "    </tr>\n",
       "    <tr>\n",
       "      <th>4</th>\n",
       "      <td>one</td>\n",
       "      <td>3</td>\n",
       "    </tr>\n",
       "    <tr>\n",
       "      <th>5</th>\n",
       "      <td>two</td>\n",
       "      <td>4</td>\n",
       "    </tr>\n",
       "  </tbody>\n",
       "</table>\n",
       "</div>"
      ],
      "text/plain": [
       "    k1  k2\n",
       "0  one   1\n",
       "1  two   1\n",
       "2  one   2\n",
       "3  two   3\n",
       "4  one   3\n",
       "5  two   4"
      ]
     },
     "execution_count": 7,
     "metadata": {},
     "output_type": "execute_result"
    }
   ],
   "source": [
    "data.drop_duplicates()"
   ]
  },
  {
   "cell_type": "code",
   "execution_count": 9,
   "id": "dcdeb276",
   "metadata": {},
   "outputs": [],
   "source": [
    "data['k3'] = range(7)"
   ]
  },
  {
   "cell_type": "code",
   "execution_count": 10,
   "id": "43072a44",
   "metadata": {},
   "outputs": [
    {
     "data": {
      "text/html": [
       "<div>\n",
       "<style scoped>\n",
       "    .dataframe tbody tr th:only-of-type {\n",
       "        vertical-align: middle;\n",
       "    }\n",
       "\n",
       "    .dataframe tbody tr th {\n",
       "        vertical-align: top;\n",
       "    }\n",
       "\n",
       "    .dataframe thead th {\n",
       "        text-align: right;\n",
       "    }\n",
       "</style>\n",
       "<table border=\"1\" class=\"dataframe\">\n",
       "  <thead>\n",
       "    <tr style=\"text-align: right;\">\n",
       "      <th></th>\n",
       "      <th>k1</th>\n",
       "      <th>k2</th>\n",
       "      <th>k3</th>\n",
       "    </tr>\n",
       "  </thead>\n",
       "  <tbody>\n",
       "    <tr>\n",
       "      <th>0</th>\n",
       "      <td>one</td>\n",
       "      <td>1</td>\n",
       "      <td>0</td>\n",
       "    </tr>\n",
       "    <tr>\n",
       "      <th>1</th>\n",
       "      <td>two</td>\n",
       "      <td>1</td>\n",
       "      <td>1</td>\n",
       "    </tr>\n",
       "    <tr>\n",
       "      <th>2</th>\n",
       "      <td>one</td>\n",
       "      <td>2</td>\n",
       "      <td>2</td>\n",
       "    </tr>\n",
       "    <tr>\n",
       "      <th>3</th>\n",
       "      <td>two</td>\n",
       "      <td>3</td>\n",
       "      <td>3</td>\n",
       "    </tr>\n",
       "    <tr>\n",
       "      <th>4</th>\n",
       "      <td>one</td>\n",
       "      <td>3</td>\n",
       "      <td>4</td>\n",
       "    </tr>\n",
       "    <tr>\n",
       "      <th>5</th>\n",
       "      <td>two</td>\n",
       "      <td>4</td>\n",
       "      <td>5</td>\n",
       "    </tr>\n",
       "    <tr>\n",
       "      <th>6</th>\n",
       "      <td>two</td>\n",
       "      <td>4</td>\n",
       "      <td>6</td>\n",
       "    </tr>\n",
       "  </tbody>\n",
       "</table>\n",
       "</div>"
      ],
      "text/plain": [
       "    k1  k2  k3\n",
       "0  one   1   0\n",
       "1  two   1   1\n",
       "2  one   2   2\n",
       "3  two   3   3\n",
       "4  one   3   4\n",
       "5  two   4   5\n",
       "6  two   4   6"
      ]
     },
     "execution_count": 10,
     "metadata": {},
     "output_type": "execute_result"
    }
   ],
   "source": [
    "data"
   ]
  },
  {
   "cell_type": "code",
   "execution_count": 18,
   "id": "d37ff864",
   "metadata": {},
   "outputs": [
    {
     "data": {
      "text/html": [
       "<div>\n",
       "<style scoped>\n",
       "    .dataframe tbody tr th:only-of-type {\n",
       "        vertical-align: middle;\n",
       "    }\n",
       "\n",
       "    .dataframe tbody tr th {\n",
       "        vertical-align: top;\n",
       "    }\n",
       "\n",
       "    .dataframe thead th {\n",
       "        text-align: right;\n",
       "    }\n",
       "</style>\n",
       "<table border=\"1\" class=\"dataframe\">\n",
       "  <thead>\n",
       "    <tr style=\"text-align: right;\">\n",
       "      <th></th>\n",
       "      <th>k1</th>\n",
       "      <th>k2</th>\n",
       "      <th>k3</th>\n",
       "    </tr>\n",
       "  </thead>\n",
       "  <tbody>\n",
       "    <tr>\n",
       "      <th>0</th>\n",
       "      <td>one</td>\n",
       "      <td>1</td>\n",
       "      <td>0</td>\n",
       "    </tr>\n",
       "    <tr>\n",
       "      <th>1</th>\n",
       "      <td>two</td>\n",
       "      <td>1</td>\n",
       "      <td>1</td>\n",
       "    </tr>\n",
       "    <tr>\n",
       "      <th>2</th>\n",
       "      <td>one</td>\n",
       "      <td>2</td>\n",
       "      <td>2</td>\n",
       "    </tr>\n",
       "    <tr>\n",
       "      <th>3</th>\n",
       "      <td>two</td>\n",
       "      <td>3</td>\n",
       "      <td>3</td>\n",
       "    </tr>\n",
       "    <tr>\n",
       "      <th>4</th>\n",
       "      <td>one</td>\n",
       "      <td>3</td>\n",
       "      <td>4</td>\n",
       "    </tr>\n",
       "  </tbody>\n",
       "</table>\n",
       "</div>"
      ],
      "text/plain": [
       "    k1  k2  k3\n",
       "0  one   1   0\n",
       "1  two   1   1\n",
       "2  one   2   2\n",
       "3  two   3   3\n",
       "4  one   3   4"
      ]
     },
     "execution_count": 18,
     "metadata": {},
     "output_type": "execute_result"
    }
   ],
   "source": [
    "data.drop_duplicates(['k1', 'k2'], keep=False)"
   ]
  },
  {
   "cell_type": "code",
   "execution_count": 21,
   "id": "35cdcc4f",
   "metadata": {},
   "outputs": [
    {
     "data": {
      "text/plain": [
       "0    One\n",
       "1    Two\n",
       "2    One\n",
       "3    Two\n",
       "4    One\n",
       "5    Two\n",
       "6    Two\n",
       "Name: k1, dtype: object"
      ]
     },
     "execution_count": 21,
     "metadata": {},
     "output_type": "execute_result"
    }
   ],
   "source": [
    "data['k1'].str.title() # 创建字符串 然后使用字符串的内置函数对其进行操作"
   ]
  },
  {
   "cell_type": "code",
   "execution_count": 24,
   "id": "4ddf1e23",
   "metadata": {},
   "outputs": [],
   "source": [
    "data = pd.DataFrame({'food': ['bacon', 'pulled pork', 'bacon',\n",
    "                             'Pastrami', 'corned beef', 'Bacon',\n",
    "                             'pastrami', 'honey ham', 'nova lox'],\n",
    "                    'ounces': [4, 3, 12, 6, 7.5, 8, 3, 5, 6]})"
   ]
  },
  {
   "cell_type": "code",
   "execution_count": 25,
   "id": "e195d381",
   "metadata": {},
   "outputs": [
    {
     "data": {
      "text/html": [
       "<div>\n",
       "<style scoped>\n",
       "    .dataframe tbody tr th:only-of-type {\n",
       "        vertical-align: middle;\n",
       "    }\n",
       "\n",
       "    .dataframe tbody tr th {\n",
       "        vertical-align: top;\n",
       "    }\n",
       "\n",
       "    .dataframe thead th {\n",
       "        text-align: right;\n",
       "    }\n",
       "</style>\n",
       "<table border=\"1\" class=\"dataframe\">\n",
       "  <thead>\n",
       "    <tr style=\"text-align: right;\">\n",
       "      <th></th>\n",
       "      <th>food</th>\n",
       "      <th>ounces</th>\n",
       "    </tr>\n",
       "  </thead>\n",
       "  <tbody>\n",
       "    <tr>\n",
       "      <th>0</th>\n",
       "      <td>bacon</td>\n",
       "      <td>4.0</td>\n",
       "    </tr>\n",
       "    <tr>\n",
       "      <th>1</th>\n",
       "      <td>pulled pork</td>\n",
       "      <td>3.0</td>\n",
       "    </tr>\n",
       "    <tr>\n",
       "      <th>2</th>\n",
       "      <td>bacon</td>\n",
       "      <td>12.0</td>\n",
       "    </tr>\n",
       "    <tr>\n",
       "      <th>3</th>\n",
       "      <td>Pastrami</td>\n",
       "      <td>6.0</td>\n",
       "    </tr>\n",
       "    <tr>\n",
       "      <th>4</th>\n",
       "      <td>corned beef</td>\n",
       "      <td>7.5</td>\n",
       "    </tr>\n",
       "    <tr>\n",
       "      <th>5</th>\n",
       "      <td>Bacon</td>\n",
       "      <td>8.0</td>\n",
       "    </tr>\n",
       "    <tr>\n",
       "      <th>6</th>\n",
       "      <td>pastrami</td>\n",
       "      <td>3.0</td>\n",
       "    </tr>\n",
       "    <tr>\n",
       "      <th>7</th>\n",
       "      <td>honey ham</td>\n",
       "      <td>5.0</td>\n",
       "    </tr>\n",
       "    <tr>\n",
       "      <th>8</th>\n",
       "      <td>nova lox</td>\n",
       "      <td>6.0</td>\n",
       "    </tr>\n",
       "  </tbody>\n",
       "</table>\n",
       "</div>"
      ],
      "text/plain": [
       "          food  ounces\n",
       "0        bacon     4.0\n",
       "1  pulled pork     3.0\n",
       "2        bacon    12.0\n",
       "3     Pastrami     6.0\n",
       "4  corned beef     7.5\n",
       "5        Bacon     8.0\n",
       "6     pastrami     3.0\n",
       "7    honey ham     5.0\n",
       "8     nova lox     6.0"
      ]
     },
     "execution_count": 25,
     "metadata": {},
     "output_type": "execute_result"
    }
   ],
   "source": [
    "data"
   ]
  },
  {
   "cell_type": "code",
   "execution_count": 36,
   "id": "3d23ea86",
   "metadata": {},
   "outputs": [],
   "source": [
    "meat_to_animal = {\n",
    "    'bacon': 'pig',\n",
    "    'pulled pork': 'pig',\n",
    "    'pastrami': 'cow',\n",
    "    'corned beef': 'cow',\n",
    "    'honey ham': 'pig',\n",
    "    'nova lox': 'salmon'\n",
    "}"
   ]
  },
  {
   "cell_type": "code",
   "execution_count": 37,
   "id": "8967480b",
   "metadata": {},
   "outputs": [
    {
     "data": {
      "text/plain": [
       "{'bacon': 'pig',\n",
       " 'pulled pork': 'pig',\n",
       " 'pastrami': 'cow',\n",
       " 'corned beef': 'cow',\n",
       " 'honey ham': 'pig',\n",
       " 'nova lox': 'salmon'}"
      ]
     },
     "execution_count": 37,
     "metadata": {},
     "output_type": "execute_result"
    }
   ],
   "source": [
    "meat_to_animal"
   ]
  },
  {
   "cell_type": "code",
   "execution_count": 38,
   "id": "8a26b4c2",
   "metadata": {},
   "outputs": [],
   "source": [
    "lowercased = data['food'].str.lower()"
   ]
  },
  {
   "cell_type": "code",
   "execution_count": 39,
   "id": "1c04f936",
   "metadata": {},
   "outputs": [
    {
     "data": {
      "text/plain": [
       "0          bacon\n",
       "1    pulled pork\n",
       "2          bacon\n",
       "3       pastrami\n",
       "4    corned beef\n",
       "5          bacon\n",
       "6       pastrami\n",
       "7      honey ham\n",
       "8       nova lox\n",
       "Name: food, dtype: object"
      ]
     },
     "execution_count": 39,
     "metadata": {},
     "output_type": "execute_result"
    }
   ],
   "source": [
    "lowercased"
   ]
  },
  {
   "cell_type": "code",
   "execution_count": 40,
   "id": "7b7819f0",
   "metadata": {},
   "outputs": [],
   "source": [
    "data['animal'] = lowercased.map(meat_to_animal) # 使用map方法 获取键值对的映射"
   ]
  },
  {
   "cell_type": "code",
   "execution_count": 41,
   "id": "fb9d3d92",
   "metadata": {},
   "outputs": [
    {
     "data": {
      "text/html": [
       "<div>\n",
       "<style scoped>\n",
       "    .dataframe tbody tr th:only-of-type {\n",
       "        vertical-align: middle;\n",
       "    }\n",
       "\n",
       "    .dataframe tbody tr th {\n",
       "        vertical-align: top;\n",
       "    }\n",
       "\n",
       "    .dataframe thead th {\n",
       "        text-align: right;\n",
       "    }\n",
       "</style>\n",
       "<table border=\"1\" class=\"dataframe\">\n",
       "  <thead>\n",
       "    <tr style=\"text-align: right;\">\n",
       "      <th></th>\n",
       "      <th>food</th>\n",
       "      <th>ounces</th>\n",
       "    </tr>\n",
       "  </thead>\n",
       "  <tbody>\n",
       "    <tr>\n",
       "      <th>0</th>\n",
       "      <td>bacon</td>\n",
       "      <td>4.0</td>\n",
       "    </tr>\n",
       "    <tr>\n",
       "      <th>1</th>\n",
       "      <td>pulled pork</td>\n",
       "      <td>3.0</td>\n",
       "    </tr>\n",
       "    <tr>\n",
       "      <th>2</th>\n",
       "      <td>bacon</td>\n",
       "      <td>12.0</td>\n",
       "    </tr>\n",
       "    <tr>\n",
       "      <th>3</th>\n",
       "      <td>Pastrami</td>\n",
       "      <td>6.0</td>\n",
       "    </tr>\n",
       "    <tr>\n",
       "      <th>4</th>\n",
       "      <td>corned beef</td>\n",
       "      <td>7.5</td>\n",
       "    </tr>\n",
       "    <tr>\n",
       "      <th>5</th>\n",
       "      <td>Bacon</td>\n",
       "      <td>8.0</td>\n",
       "    </tr>\n",
       "    <tr>\n",
       "      <th>6</th>\n",
       "      <td>pastrami</td>\n",
       "      <td>3.0</td>\n",
       "    </tr>\n",
       "    <tr>\n",
       "      <th>7</th>\n",
       "      <td>honey ham</td>\n",
       "      <td>5.0</td>\n",
       "    </tr>\n",
       "    <tr>\n",
       "      <th>8</th>\n",
       "      <td>nova lox</td>\n",
       "      <td>6.0</td>\n",
       "    </tr>\n",
       "  </tbody>\n",
       "</table>\n",
       "</div>"
      ],
      "text/plain": [
       "          food  ounces\n",
       "0        bacon     4.0\n",
       "1  pulled pork     3.0\n",
       "2        bacon    12.0\n",
       "3     Pastrami     6.0\n",
       "4  corned beef     7.5\n",
       "5        Bacon     8.0\n",
       "6     pastrami     3.0\n",
       "7    honey ham     5.0\n",
       "8     nova lox     6.0"
      ]
     },
     "execution_count": 41,
     "metadata": {},
     "output_type": "execute_result"
    }
   ],
   "source": [
    "data.drop('animal', axis=1) "
   ]
  },
  {
   "cell_type": "code",
   "execution_count": 42,
   "id": "2a5cc3fc",
   "metadata": {},
   "outputs": [],
   "source": [
    "data['animal'] = lowercased.map(lambda x: meat_to_animal[x.lower()]) # 定义lambda函数 处理键值对的映射"
   ]
  },
  {
   "cell_type": "code",
   "execution_count": 43,
   "id": "70eadc4c",
   "metadata": {},
   "outputs": [
    {
     "data": {
      "text/html": [
       "<div>\n",
       "<style scoped>\n",
       "    .dataframe tbody tr th:only-of-type {\n",
       "        vertical-align: middle;\n",
       "    }\n",
       "\n",
       "    .dataframe tbody tr th {\n",
       "        vertical-align: top;\n",
       "    }\n",
       "\n",
       "    .dataframe thead th {\n",
       "        text-align: right;\n",
       "    }\n",
       "</style>\n",
       "<table border=\"1\" class=\"dataframe\">\n",
       "  <thead>\n",
       "    <tr style=\"text-align: right;\">\n",
       "      <th></th>\n",
       "      <th>food</th>\n",
       "      <th>ounces</th>\n",
       "      <th>animal</th>\n",
       "    </tr>\n",
       "  </thead>\n",
       "  <tbody>\n",
       "    <tr>\n",
       "      <th>0</th>\n",
       "      <td>bacon</td>\n",
       "      <td>4.0</td>\n",
       "      <td>pig</td>\n",
       "    </tr>\n",
       "    <tr>\n",
       "      <th>1</th>\n",
       "      <td>pulled pork</td>\n",
       "      <td>3.0</td>\n",
       "      <td>pig</td>\n",
       "    </tr>\n",
       "    <tr>\n",
       "      <th>2</th>\n",
       "      <td>bacon</td>\n",
       "      <td>12.0</td>\n",
       "      <td>pig</td>\n",
       "    </tr>\n",
       "    <tr>\n",
       "      <th>3</th>\n",
       "      <td>Pastrami</td>\n",
       "      <td>6.0</td>\n",
       "      <td>cow</td>\n",
       "    </tr>\n",
       "    <tr>\n",
       "      <th>4</th>\n",
       "      <td>corned beef</td>\n",
       "      <td>7.5</td>\n",
       "      <td>cow</td>\n",
       "    </tr>\n",
       "    <tr>\n",
       "      <th>5</th>\n",
       "      <td>Bacon</td>\n",
       "      <td>8.0</td>\n",
       "      <td>pig</td>\n",
       "    </tr>\n",
       "    <tr>\n",
       "      <th>6</th>\n",
       "      <td>pastrami</td>\n",
       "      <td>3.0</td>\n",
       "      <td>cow</td>\n",
       "    </tr>\n",
       "    <tr>\n",
       "      <th>7</th>\n",
       "      <td>honey ham</td>\n",
       "      <td>5.0</td>\n",
       "      <td>pig</td>\n",
       "    </tr>\n",
       "    <tr>\n",
       "      <th>8</th>\n",
       "      <td>nova lox</td>\n",
       "      <td>6.0</td>\n",
       "      <td>salmon</td>\n",
       "    </tr>\n",
       "  </tbody>\n",
       "</table>\n",
       "</div>"
      ],
      "text/plain": [
       "          food  ounces  animal\n",
       "0        bacon     4.0     pig\n",
       "1  pulled pork     3.0     pig\n",
       "2        bacon    12.0     pig\n",
       "3     Pastrami     6.0     cow\n",
       "4  corned beef     7.5     cow\n",
       "5        Bacon     8.0     pig\n",
       "6     pastrami     3.0     cow\n",
       "7    honey ham     5.0     pig\n",
       "8     nova lox     6.0  salmon"
      ]
     },
     "execution_count": 43,
     "metadata": {},
     "output_type": "execute_result"
    }
   ],
   "source": [
    "data"
   ]
  },
  {
   "cell_type": "code",
   "execution_count": 44,
   "id": "f3405728",
   "metadata": {},
   "outputs": [],
   "source": [
    "data = pd.Series([1., -999., 2., -999., -1000., 3.])"
   ]
  },
  {
   "cell_type": "code",
   "execution_count": 45,
   "id": "1297d088",
   "metadata": {},
   "outputs": [
    {
     "data": {
      "text/plain": [
       "0       1.0\n",
       "1    -999.0\n",
       "2       2.0\n",
       "3    -999.0\n",
       "4   -1000.0\n",
       "5       3.0\n",
       "dtype: float64"
      ]
     },
     "execution_count": 45,
     "metadata": {},
     "output_type": "execute_result"
    }
   ],
   "source": [
    "data"
   ]
  },
  {
   "cell_type": "code",
   "execution_count": 46,
   "id": "9d1ce16f",
   "metadata": {},
   "outputs": [
    {
     "data": {
      "text/plain": [
       "0       1.0\n",
       "1       NaN\n",
       "2       2.0\n",
       "3       NaN\n",
       "4   -1000.0\n",
       "5       3.0\n",
       "dtype: float64"
      ]
     },
     "execution_count": 46,
     "metadata": {},
     "output_type": "execute_result"
    }
   ],
   "source": [
    "data.replace(-999, NA)"
   ]
  },
  {
   "cell_type": "code",
   "execution_count": 47,
   "id": "afdf3f76",
   "metadata": {},
   "outputs": [
    {
     "data": {
      "text/plain": [
       "0       1.0\n",
       "1       NaN\n",
       "2       2.0\n",
       "3       NaN\n",
       "4   -1000.0\n",
       "5       3.0\n",
       "dtype: float64"
      ]
     },
     "execution_count": 47,
     "metadata": {},
     "output_type": "execute_result"
    }
   ],
   "source": [
    "data.replace([1000, -999], NA)"
   ]
  },
  {
   "cell_type": "code",
   "execution_count": 49,
   "id": "b3c64687",
   "metadata": {},
   "outputs": [
    {
     "data": {
      "text/plain": [
       "0    1.0\n",
       "1    NaN\n",
       "2    2.0\n",
       "3    NaN\n",
       "4    0.0\n",
       "5    3.0\n",
       "dtype: float64"
      ]
     },
     "execution_count": 49,
     "metadata": {},
     "output_type": "execute_result"
    }
   ],
   "source": [
    "data.replace([-1000, -999], [0, NA])"
   ]
  },
  {
   "cell_type": "code",
   "execution_count": 50,
   "id": "4612b3e0",
   "metadata": {},
   "outputs": [
    {
     "data": {
      "text/plain": [
       "0    1.0\n",
       "1    NaN\n",
       "2    2.0\n",
       "3    NaN\n",
       "4    0.0\n",
       "5    3.0\n",
       "dtype: float64"
      ]
     },
     "execution_count": 50,
     "metadata": {},
     "output_type": "execute_result"
    }
   ],
   "source": [
    "data.replace({-1000: 0, -999: NA})"
   ]
  },
  {
   "cell_type": "code",
   "execution_count": 51,
   "id": "a15e3156",
   "metadata": {},
   "outputs": [
    {
     "data": {
      "text/plain": [
       "0       1.0\n",
       "1    -999.0\n",
       "2       2.0\n",
       "3    -999.0\n",
       "4   -1000.0\n",
       "5       3.0\n",
       "dtype: float64"
      ]
     },
     "execution_count": 51,
     "metadata": {},
     "output_type": "execute_result"
    }
   ],
   "source": [
    "data"
   ]
  },
  {
   "cell_type": "code",
   "execution_count": 52,
   "id": "889d27ec",
   "metadata": {},
   "outputs": [],
   "source": [
    "data.replace?"
   ]
  },
  {
   "cell_type": "code",
   "execution_count": 53,
   "id": "8b06da3a",
   "metadata": {},
   "outputs": [
    {
     "data": {
      "text/plain": [
       "0       1.0\n",
       "1    -999.0\n",
       "2       2.0\n",
       "3    -999.0\n",
       "4   -1000.0\n",
       "5       3.0\n",
       "dtype: float64"
      ]
     },
     "execution_count": 53,
     "metadata": {},
     "output_type": "execute_result"
    }
   ],
   "source": [
    "data.replace(None, method='ffill')"
   ]
  },
  {
   "cell_type": "code",
   "execution_count": 54,
   "id": "8c3966a5",
   "metadata": {},
   "outputs": [
    {
     "data": {
      "text/plain": [
       "'fucklo world'"
      ]
     },
     "execution_count": 54,
     "metadata": {},
     "output_type": "execute_result"
    }
   ],
   "source": [
    "str1 = 'hello world'\n",
    "str1.replace('hel', 'fuck')"
   ]
  },
  {
   "cell_type": "code",
   "execution_count": 55,
   "id": "eb3c850f",
   "metadata": {},
   "outputs": [
    {
     "data": {
      "text/plain": [
       "'hello world'"
      ]
     },
     "execution_count": 55,
     "metadata": {},
     "output_type": "execute_result"
    }
   ],
   "source": [
    "str1"
   ]
  },
  {
   "cell_type": "code",
   "execution_count": 56,
   "id": "1d4dae0a",
   "metadata": {},
   "outputs": [],
   "source": [
    "str.replace?"
   ]
  },
  {
   "cell_type": "code",
   "execution_count": 77,
   "id": "f9ababd3",
   "metadata": {},
   "outputs": [],
   "source": [
    "data = pd.DataFrame(np.arange(12).reshape((3, 4)),\n",
    "                   index=['Ohio', 'Colorado', 'New York'],\n",
    "                   columns=['one', 'two', 'three', 'four'])"
   ]
  },
  {
   "cell_type": "code",
   "execution_count": 78,
   "id": "c8826320",
   "metadata": {},
   "outputs": [
    {
     "data": {
      "text/html": [
       "<div>\n",
       "<style scoped>\n",
       "    .dataframe tbody tr th:only-of-type {\n",
       "        vertical-align: middle;\n",
       "    }\n",
       "\n",
       "    .dataframe tbody tr th {\n",
       "        vertical-align: top;\n",
       "    }\n",
       "\n",
       "    .dataframe thead th {\n",
       "        text-align: right;\n",
       "    }\n",
       "</style>\n",
       "<table border=\"1\" class=\"dataframe\">\n",
       "  <thead>\n",
       "    <tr style=\"text-align: right;\">\n",
       "      <th></th>\n",
       "      <th>one</th>\n",
       "      <th>two</th>\n",
       "      <th>three</th>\n",
       "      <th>four</th>\n",
       "    </tr>\n",
       "  </thead>\n",
       "  <tbody>\n",
       "    <tr>\n",
       "      <th>Ohio</th>\n",
       "      <td>0</td>\n",
       "      <td>1</td>\n",
       "      <td>2</td>\n",
       "      <td>3</td>\n",
       "    </tr>\n",
       "    <tr>\n",
       "      <th>Colorado</th>\n",
       "      <td>4</td>\n",
       "      <td>5</td>\n",
       "      <td>6</td>\n",
       "      <td>7</td>\n",
       "    </tr>\n",
       "    <tr>\n",
       "      <th>New York</th>\n",
       "      <td>8</td>\n",
       "      <td>9</td>\n",
       "      <td>10</td>\n",
       "      <td>11</td>\n",
       "    </tr>\n",
       "  </tbody>\n",
       "</table>\n",
       "</div>"
      ],
      "text/plain": [
       "          one  two  three  four\n",
       "Ohio        0    1      2     3\n",
       "Colorado    4    5      6     7\n",
       "New York    8    9     10    11"
      ]
     },
     "execution_count": 78,
     "metadata": {},
     "output_type": "execute_result"
    }
   ],
   "source": [
    "data"
   ]
  },
  {
   "cell_type": "code",
   "execution_count": 79,
   "id": "243affc1",
   "metadata": {},
   "outputs": [],
   "source": [
    "transform = lambda x: x[:4].upper()"
   ]
  },
  {
   "cell_type": "code",
   "execution_count": 80,
   "id": "c2d45348",
   "metadata": {},
   "outputs": [
    {
     "data": {
      "text/plain": [
       "<function __main__.<lambda>(x)>"
      ]
     },
     "execution_count": 80,
     "metadata": {},
     "output_type": "execute_result"
    }
   ],
   "source": [
    "transform"
   ]
  },
  {
   "cell_type": "code",
   "execution_count": 81,
   "id": "62746c94",
   "metadata": {},
   "outputs": [
    {
     "data": {
      "text/plain": [
       "Index(['OHIO', 'COLO', 'NEW '], dtype='object')"
      ]
     },
     "execution_count": 81,
     "metadata": {},
     "output_type": "execute_result"
    }
   ],
   "source": [
    "data.index.map(transform)"
   ]
  },
  {
   "cell_type": "code",
   "execution_count": 82,
   "id": "5e5e72ca",
   "metadata": {},
   "outputs": [],
   "source": [
    "data.index = data.index.map(transform)"
   ]
  },
  {
   "cell_type": "code",
   "execution_count": 83,
   "id": "8775cb5f",
   "metadata": {},
   "outputs": [
    {
     "data": {
      "text/html": [
       "<div>\n",
       "<style scoped>\n",
       "    .dataframe tbody tr th:only-of-type {\n",
       "        vertical-align: middle;\n",
       "    }\n",
       "\n",
       "    .dataframe tbody tr th {\n",
       "        vertical-align: top;\n",
       "    }\n",
       "\n",
       "    .dataframe thead th {\n",
       "        text-align: right;\n",
       "    }\n",
       "</style>\n",
       "<table border=\"1\" class=\"dataframe\">\n",
       "  <thead>\n",
       "    <tr style=\"text-align: right;\">\n",
       "      <th></th>\n",
       "      <th>one</th>\n",
       "      <th>two</th>\n",
       "      <th>three</th>\n",
       "      <th>four</th>\n",
       "    </tr>\n",
       "  </thead>\n",
       "  <tbody>\n",
       "    <tr>\n",
       "      <th>OHIO</th>\n",
       "      <td>0</td>\n",
       "      <td>1</td>\n",
       "      <td>2</td>\n",
       "      <td>3</td>\n",
       "    </tr>\n",
       "    <tr>\n",
       "      <th>COLO</th>\n",
       "      <td>4</td>\n",
       "      <td>5</td>\n",
       "      <td>6</td>\n",
       "      <td>7</td>\n",
       "    </tr>\n",
       "    <tr>\n",
       "      <th>NEW</th>\n",
       "      <td>8</td>\n",
       "      <td>9</td>\n",
       "      <td>10</td>\n",
       "      <td>11</td>\n",
       "    </tr>\n",
       "  </tbody>\n",
       "</table>\n",
       "</div>"
      ],
      "text/plain": [
       "      one  two  three  four\n",
       "OHIO    0    1      2     3\n",
       "COLO    4    5      6     7\n",
       "NEW     8    9     10    11"
      ]
     },
     "execution_count": 83,
     "metadata": {},
     "output_type": "execute_result"
    }
   ],
   "source": [
    "data"
   ]
  },
  {
   "cell_type": "code",
   "execution_count": 84,
   "id": "c16fff75",
   "metadata": {},
   "outputs": [],
   "source": [
    "data.index = data.index.str.title()"
   ]
  },
  {
   "cell_type": "code",
   "execution_count": 85,
   "id": "a9943449",
   "metadata": {},
   "outputs": [
    {
     "data": {
      "text/html": [
       "<div>\n",
       "<style scoped>\n",
       "    .dataframe tbody tr th:only-of-type {\n",
       "        vertical-align: middle;\n",
       "    }\n",
       "\n",
       "    .dataframe tbody tr th {\n",
       "        vertical-align: top;\n",
       "    }\n",
       "\n",
       "    .dataframe thead th {\n",
       "        text-align: right;\n",
       "    }\n",
       "</style>\n",
       "<table border=\"1\" class=\"dataframe\">\n",
       "  <thead>\n",
       "    <tr style=\"text-align: right;\">\n",
       "      <th></th>\n",
       "      <th>one</th>\n",
       "      <th>two</th>\n",
       "      <th>three</th>\n",
       "      <th>four</th>\n",
       "    </tr>\n",
       "  </thead>\n",
       "  <tbody>\n",
       "    <tr>\n",
       "      <th>Ohio</th>\n",
       "      <td>0</td>\n",
       "      <td>1</td>\n",
       "      <td>2</td>\n",
       "      <td>3</td>\n",
       "    </tr>\n",
       "    <tr>\n",
       "      <th>Colo</th>\n",
       "      <td>4</td>\n",
       "      <td>5</td>\n",
       "      <td>6</td>\n",
       "      <td>7</td>\n",
       "    </tr>\n",
       "    <tr>\n",
       "      <th>New</th>\n",
       "      <td>8</td>\n",
       "      <td>9</td>\n",
       "      <td>10</td>\n",
       "      <td>11</td>\n",
       "    </tr>\n",
       "  </tbody>\n",
       "</table>\n",
       "</div>"
      ],
      "text/plain": [
       "      one  two  three  four\n",
       "Ohio    0    1      2     3\n",
       "Colo    4    5      6     7\n",
       "New     8    9     10    11"
      ]
     },
     "execution_count": 85,
     "metadata": {},
     "output_type": "execute_result"
    }
   ],
   "source": [
    "data"
   ]
  },
  {
   "cell_type": "code",
   "execution_count": 86,
   "id": "82188358",
   "metadata": {},
   "outputs": [
    {
     "data": {
      "text/plain": [
       "Index(['one', 'two', 'three', 'four'], dtype='object')"
      ]
     },
     "execution_count": 86,
     "metadata": {},
     "output_type": "execute_result"
    }
   ],
   "source": [
    "data.columns"
   ]
  },
  {
   "cell_type": "code",
   "execution_count": 87,
   "id": "795eceb9",
   "metadata": {},
   "outputs": [],
   "source": [
    "data.columns = data.columns.str.upper()"
   ]
  },
  {
   "cell_type": "code",
   "execution_count": 88,
   "id": "b6995642",
   "metadata": {},
   "outputs": [
    {
     "data": {
      "text/html": [
       "<div>\n",
       "<style scoped>\n",
       "    .dataframe tbody tr th:only-of-type {\n",
       "        vertical-align: middle;\n",
       "    }\n",
       "\n",
       "    .dataframe tbody tr th {\n",
       "        vertical-align: top;\n",
       "    }\n",
       "\n",
       "    .dataframe thead th {\n",
       "        text-align: right;\n",
       "    }\n",
       "</style>\n",
       "<table border=\"1\" class=\"dataframe\">\n",
       "  <thead>\n",
       "    <tr style=\"text-align: right;\">\n",
       "      <th></th>\n",
       "      <th>ONE</th>\n",
       "      <th>TWO</th>\n",
       "      <th>THREE</th>\n",
       "      <th>FOUR</th>\n",
       "    </tr>\n",
       "  </thead>\n",
       "  <tbody>\n",
       "    <tr>\n",
       "      <th>Ohio</th>\n",
       "      <td>0</td>\n",
       "      <td>1</td>\n",
       "      <td>2</td>\n",
       "      <td>3</td>\n",
       "    </tr>\n",
       "    <tr>\n",
       "      <th>Colo</th>\n",
       "      <td>4</td>\n",
       "      <td>5</td>\n",
       "      <td>6</td>\n",
       "      <td>7</td>\n",
       "    </tr>\n",
       "    <tr>\n",
       "      <th>New</th>\n",
       "      <td>8</td>\n",
       "      <td>9</td>\n",
       "      <td>10</td>\n",
       "      <td>11</td>\n",
       "    </tr>\n",
       "  </tbody>\n",
       "</table>\n",
       "</div>"
      ],
      "text/plain": [
       "      ONE  TWO  THREE  FOUR\n",
       "Ohio    0    1      2     3\n",
       "Colo    4    5      6     7\n",
       "New     8    9     10    11"
      ]
     },
     "execution_count": 88,
     "metadata": {},
     "output_type": "execute_result"
    }
   ],
   "source": [
    "data"
   ]
  },
  {
   "cell_type": "code",
   "execution_count": 72,
   "id": "8a78deff",
   "metadata": {},
   "outputs": [],
   "source": [
    "data.rename?"
   ]
  },
  {
   "cell_type": "code",
   "execution_count": 76,
   "id": "3869de40",
   "metadata": {},
   "outputs": [
    {
     "data": {
      "text/html": [
       "<div>\n",
       "<style scoped>\n",
       "    .dataframe tbody tr th:only-of-type {\n",
       "        vertical-align: middle;\n",
       "    }\n",
       "\n",
       "    .dataframe tbody tr th {\n",
       "        vertical-align: top;\n",
       "    }\n",
       "\n",
       "    .dataframe thead th {\n",
       "        text-align: right;\n",
       "    }\n",
       "</style>\n",
       "<table border=\"1\" class=\"dataframe\">\n",
       "  <thead>\n",
       "    <tr style=\"text-align: right;\">\n",
       "      <th></th>\n",
       "      <th>ONE</th>\n",
       "      <th>TWO</th>\n",
       "      <th>THREE</th>\n",
       "      <th>FOUR</th>\n",
       "    </tr>\n",
       "  </thead>\n",
       "  <tbody>\n",
       "    <tr>\n",
       "      <th>Ohio</th>\n",
       "      <td>0</td>\n",
       "      <td>1</td>\n",
       "      <td>2</td>\n",
       "      <td>3</td>\n",
       "    </tr>\n",
       "    <tr>\n",
       "      <th>Colo</th>\n",
       "      <td>4</td>\n",
       "      <td>5</td>\n",
       "      <td>6</td>\n",
       "      <td>7</td>\n",
       "    </tr>\n",
       "    <tr>\n",
       "      <th>New</th>\n",
       "      <td>8</td>\n",
       "      <td>9</td>\n",
       "      <td>10</td>\n",
       "      <td>11</td>\n",
       "    </tr>\n",
       "  </tbody>\n",
       "</table>\n",
       "</div>"
      ],
      "text/plain": [
       "      ONE  TWO  THREE  FOUR\n",
       "Ohio    0    1      2     3\n",
       "Colo    4    5      6     7\n",
       "New     8    9     10    11"
      ]
     },
     "execution_count": 76,
     "metadata": {},
     "output_type": "execute_result"
    }
   ],
   "source": [
    "# data.rename(index=str.title, columns=str.upper) # ?\n",
    "data"
   ]
  },
  {
   "cell_type": "code",
   "execution_count": 91,
   "id": "e2d80d77",
   "metadata": {},
   "outputs": [],
   "source": [
    "data.rename(index={'Ohio': \"INDIANA\"},\n",
    "           columns={'THREEE': 'peekaboo'}, inplace=True)"
   ]
  },
  {
   "cell_type": "code",
   "execution_count": 92,
   "id": "17dd9afb",
   "metadata": {},
   "outputs": [
    {
     "data": {
      "text/html": [
       "<div>\n",
       "<style scoped>\n",
       "    .dataframe tbody tr th:only-of-type {\n",
       "        vertical-align: middle;\n",
       "    }\n",
       "\n",
       "    .dataframe tbody tr th {\n",
       "        vertical-align: top;\n",
       "    }\n",
       "\n",
       "    .dataframe thead th {\n",
       "        text-align: right;\n",
       "    }\n",
       "</style>\n",
       "<table border=\"1\" class=\"dataframe\">\n",
       "  <thead>\n",
       "    <tr style=\"text-align: right;\">\n",
       "      <th></th>\n",
       "      <th>ONE</th>\n",
       "      <th>TWO</th>\n",
       "      <th>THREE</th>\n",
       "      <th>FOUR</th>\n",
       "    </tr>\n",
       "  </thead>\n",
       "  <tbody>\n",
       "    <tr>\n",
       "      <th>INDIANA</th>\n",
       "      <td>0</td>\n",
       "      <td>1</td>\n",
       "      <td>2</td>\n",
       "      <td>3</td>\n",
       "    </tr>\n",
       "    <tr>\n",
       "      <th>Colo</th>\n",
       "      <td>4</td>\n",
       "      <td>5</td>\n",
       "      <td>6</td>\n",
       "      <td>7</td>\n",
       "    </tr>\n",
       "    <tr>\n",
       "      <th>New</th>\n",
       "      <td>8</td>\n",
       "      <td>9</td>\n",
       "      <td>10</td>\n",
       "      <td>11</td>\n",
       "    </tr>\n",
       "  </tbody>\n",
       "</table>\n",
       "</div>"
      ],
      "text/plain": [
       "         ONE  TWO  THREE  FOUR\n",
       "INDIANA    0    1      2     3\n",
       "Colo       4    5      6     7\n",
       "New        8    9     10    11"
      ]
     },
     "execution_count": 92,
     "metadata": {},
     "output_type": "execute_result"
    }
   ],
   "source": [
    "data"
   ]
  },
  {
   "cell_type": "code",
   "execution_count": 93,
   "id": "8dbb2ad8",
   "metadata": {},
   "outputs": [],
   "source": [
    "ages = [20, 22, 25, 27, 21, 23, 37, 31, 61, 45, 41, 32]"
   ]
  },
  {
   "cell_type": "code",
   "execution_count": 94,
   "id": "e3f349e2",
   "metadata": {},
   "outputs": [
    {
     "data": {
      "text/plain": [
       "[20, 22, 25, 27, 21, 23, 37, 31, 61, 45, 41, 32]"
      ]
     },
     "execution_count": 94,
     "metadata": {},
     "output_type": "execute_result"
    }
   ],
   "source": [
    "ages"
   ]
  },
  {
   "cell_type": "code",
   "execution_count": 95,
   "id": "84c5bdbc",
   "metadata": {},
   "outputs": [],
   "source": [
    "bins = [18, 25, 35, 60, 100]"
   ]
  },
  {
   "cell_type": "code",
   "execution_count": 98,
   "id": "89947ad2",
   "metadata": {},
   "outputs": [],
   "source": [
    "cats = pd.cut(ages, bins, right=True)"
   ]
  },
  {
   "cell_type": "code",
   "execution_count": 99,
   "id": "8d9483c3",
   "metadata": {},
   "outputs": [
    {
     "data": {
      "text/plain": [
       "[[18, 25), [18, 25), [25, 35), [25, 35), [18, 25), ..., [25, 35), [60, 100), [35, 60), [35, 60), [25, 35)]\n",
       "Length: 12\n",
       "Categories (4, interval[int64, left]): [[18, 25) < [25, 35) < [35, 60) < [60, 100)]"
      ]
     },
     "execution_count": 99,
     "metadata": {},
     "output_type": "execute_result"
    }
   ],
   "source": [
    "cats"
   ]
  },
  {
   "cell_type": "code",
   "execution_count": 100,
   "id": "32606dd9",
   "metadata": {},
   "outputs": [
    {
     "data": {
      "text/plain": [
       "array([0, 0, 1, 1, 0, 0, 2, 1, 3, 2, 2, 1], dtype=int8)"
      ]
     },
     "execution_count": 100,
     "metadata": {},
     "output_type": "execute_result"
    }
   ],
   "source": [
    "cats.codes # 获取值所属的箱位"
   ]
  },
  {
   "cell_type": "code",
   "execution_count": 103,
   "id": "6c6804f5",
   "metadata": {},
   "outputs": [
    {
     "data": {
      "text/plain": [
       "IntervalIndex([[18, 25), [25, 35), [35, 60), [60, 100)], dtype='interval[int64, left]')"
      ]
     },
     "execution_count": 103,
     "metadata": {},
     "output_type": "execute_result"
    }
   ],
   "source": [
    "cats.categories"
   ]
  },
  {
   "cell_type": "code",
   "execution_count": 104,
   "id": "4a384a37",
   "metadata": {},
   "outputs": [
    {
     "data": {
      "text/plain": [
       "[18, 25)     4\n",
       "[25, 35)     4\n",
       "[35, 60)     3\n",
       "[60, 100)    1\n",
       "dtype: int64"
      ]
     },
     "execution_count": 104,
     "metadata": {},
     "output_type": "execute_result"
    }
   ],
   "source": [
    "pd.value_counts(cats) # 箱也可以算作是一种数据值"
   ]
  },
  {
   "cell_type": "code",
   "execution_count": 105,
   "id": "b1004db4",
   "metadata": {},
   "outputs": [],
   "source": [
    "group_names = ['Youth', 'YoungAdult', 'MiddleAged', 'Senior']"
   ]
  },
  {
   "cell_type": "code",
   "execution_count": 106,
   "id": "5c350c61",
   "metadata": {},
   "outputs": [
    {
     "data": {
      "text/plain": [
       "['Youth', 'Youth', 'Youth', 'YoungAdult', 'Youth', ..., 'YoungAdult', 'Senior', 'MiddleAged', 'MiddleAged', 'YoungAdult']\n",
       "Length: 12\n",
       "Categories (4, object): ['Youth' < 'YoungAdult' < 'MiddleAged' < 'Senior']"
      ]
     },
     "execution_count": 106,
     "metadata": {},
     "output_type": "execute_result"
    }
   ],
   "source": [
    "pd.cut(ages, bins, right=True, labels=group_names)"
   ]
  },
  {
   "cell_type": "code",
   "execution_count": 107,
   "id": "d03c64db",
   "metadata": {},
   "outputs": [],
   "source": [
    "data = np.random.randn(20)"
   ]
  },
  {
   "cell_type": "code",
   "execution_count": 109,
   "id": "4c2ed2b8",
   "metadata": {},
   "outputs": [
    {
     "data": {
      "text/plain": [
       "[(0.29, 0.87], (-0.87, -0.29], (-0.87, -0.29], (-0.87, -0.29], (0.29, 0.87], ..., (0.29, 0.87], (-1.46, -0.87], (-0.87, -0.29], (-0.29, 0.29], (0.29, 0.87]]\n",
       "Length: 20\n",
       "Categories (4, interval[float64, right]): [(-1.46, -0.87] < (-0.87, -0.29] < (-0.29, 0.29] < (0.29, 0.87]]"
      ]
     },
     "execution_count": 109,
     "metadata": {},
     "output_type": "execute_result"
    }
   ],
   "source": [
    "pd.cut(data, 4, precision=2)"
   ]
  },
  {
   "cell_type": "code",
   "execution_count": 110,
   "id": "4d3cc700",
   "metadata": {},
   "outputs": [],
   "source": [
    "data = np.random.randn(1000) # 正态分布"
   ]
  },
  {
   "cell_type": "code",
   "execution_count": 111,
   "id": "daf8f818",
   "metadata": {},
   "outputs": [
    {
     "data": {
      "text/plain": [
       "array([-1.70331048e-01, -7.99944344e-01, -7.92718631e-02, -9.08610136e-01,\n",
       "        1.18569230e+00,  2.49554892e-01, -1.14139371e-01, -3.30358733e-01,\n",
       "        7.44762453e-01, -3.48131014e-01,  9.30357413e-01, -2.32277097e-01,\n",
       "       -5.76403693e-01,  4.09336876e-01, -3.82548148e-01, -1.04147068e+00,\n",
       "        2.20966113e-01, -1.49256063e+00,  8.82345455e-01,  3.02970411e-02,\n",
       "       -3.64861640e-01, -3.10135523e-01, -1.78301799e+00, -3.86984948e-01,\n",
       "       -1.72892897e-01,  2.70159145e-01, -5.24484166e-01,  1.20860066e-01,\n",
       "        1.53487619e+00,  5.71167203e-01,  7.28805415e-01,  6.58608374e-02,\n",
       "        7.40555305e-01,  2.17546645e-01,  4.83657493e-02, -8.40977028e-01,\n",
       "       -6.36970811e-01,  2.08329103e+00,  1.59972248e+00,  9.49040087e-01,\n",
       "        8.50275759e-01,  3.65392266e-01,  4.71495826e-01, -1.01712978e+00,\n",
       "        1.98834512e-02,  6.31585415e-01,  3.99563678e-01, -2.86712895e-01,\n",
       "        3.15684664e-01, -2.06124619e-01, -3.45285800e-01, -5.72439596e-01,\n",
       "       -7.48760395e-01,  2.31947090e-01,  8.43910378e-02, -4.98241184e-01,\n",
       "       -5.96859359e-01, -5.61065356e-01,  1.18438754e+00, -7.44898108e-01,\n",
       "       -3.77227278e-01,  3.43378890e-01,  8.59345797e-02, -6.77807804e-01,\n",
       "       -9.46119720e-01, -1.25913159e+00,  4.71049754e-01,  8.98368347e-02,\n",
       "        7.41753010e-01, -1.36949224e+00,  1.71189575e-01, -6.56249372e-01,\n",
       "        7.08159562e-02,  7.83545492e-03, -1.47642339e+00, -8.37270610e-01,\n",
       "       -2.09895772e-01, -5.15528090e-01, -1.41401193e+00,  1.65252786e+00,\n",
       "        2.73266468e-01, -1.01276999e+00,  2.92848567e-03,  6.96518582e-01,\n",
       "        3.90743680e-02,  4.62017176e-02, -2.10595338e-01,  4.07512061e-01,\n",
       "       -6.69589175e-01,  2.37881376e-01,  5.52122294e-01,  9.80823235e-02,\n",
       "        1.44156741e+00,  4.11592037e-02, -5.36356939e-01, -2.38222518e-02,\n",
       "       -1.34498484e-01,  1.45147873e+00,  2.77669546e-01,  5.82464708e-01,\n",
       "        1.77406749e-01, -1.24499480e-01,  6.81196746e-01,  5.41117061e-01,\n",
       "        1.07047153e-01,  5.95431750e-01,  3.22136345e-01, -1.22139235e-01,\n",
       "       -1.01724776e+00,  8.24620870e-01,  4.36089740e-01, -6.92976576e-01,\n",
       "       -6.19520422e-02,  3.93001390e-01,  2.93893900e-01, -8.01211529e-01,\n",
       "        1.84326111e-02, -1.17527931e+00,  3.85934586e-01,  1.10206556e+00,\n",
       "       -3.44671461e-01,  2.04442058e+00,  4.19084785e-01,  1.22018706e+00,\n",
       "        2.10102035e+00, -5.24614474e-01, -1.60084620e+00, -9.97825745e-01,\n",
       "        9.07461595e-02,  1.92559038e+00, -1.92095499e-01,  1.00828316e+00,\n",
       "       -1.74997299e-01,  7.34554098e-01, -1.61693266e+00, -1.59379032e+00,\n",
       "        1.77764355e-01,  1.25122063e-01, -1.15249271e+00, -1.31386301e+00,\n",
       "       -1.13570708e+00, -1.35139494e+00, -7.43969035e-01, -3.85735559e-01,\n",
       "       -3.86709669e-01,  1.53610259e+00, -1.72274817e+00,  7.75109587e-01,\n",
       "        9.28642154e-02,  1.69111653e-01,  7.14654538e-01, -1.62622399e+00,\n",
       "        3.93551470e-01, -1.03413820e+00,  1.36571561e+00,  1.13496395e+00,\n",
       "       -4.16146850e-01, -7.65259275e-01, -7.01476623e-01, -2.93825293e-01,\n",
       "       -2.72877106e-02, -1.43548632e+00, -4.54219047e-01, -1.20542352e+00,\n",
       "       -3.41907884e-01, -1.85303969e+00, -2.95298845e-01,  5.64664490e-02,\n",
       "        1.13740388e-01, -2.06474898e-01, -5.61893276e-01, -2.12349632e+00,\n",
       "       -1.10411496e+00,  2.86081047e-01, -1.80793210e+00, -2.80256878e-01,\n",
       "        7.53855549e-01, -2.56719082e-01, -7.58382090e-02,  9.91436454e-03,\n",
       "       -6.11758349e-01,  4.17006493e-01, -9.70713066e-02, -1.01575813e+00,\n",
       "       -5.63964115e-01,  1.95617969e-01, -2.53912343e-01,  7.58816477e-01,\n",
       "        7.87030866e-01,  1.84760734e-01,  1.39515327e+00, -3.23454264e-01,\n",
       "       -2.27896920e-01, -4.39346213e-01,  1.67027116e-01, -3.27343591e-01,\n",
       "        1.90122920e+00, -7.39481344e-01, -3.34678685e-01,  8.72725089e-01,\n",
       "        4.39782410e-01, -7.51152947e-01,  1.16259593e+00,  1.14903682e+00,\n",
       "        8.07263215e-01,  3.68621231e-01, -4.88562930e-01,  3.49162654e-01,\n",
       "       -8.79435023e-01,  2.24992652e+00,  1.76742785e-01, -5.99826159e-01,\n",
       "        1.07948489e+00, -2.18307105e+00,  2.43297124e+00,  3.05423918e-01,\n",
       "        2.28813351e-02, -7.47912247e-01, -9.48957854e-01, -2.31992662e-01,\n",
       "       -1.81597738e-02,  9.73243091e-01, -1.50549427e+00, -7.52620002e-01,\n",
       "       -1.86998731e+00, -7.07363412e-01,  3.08531021e-01,  1.24087618e+00,\n",
       "        8.91707142e-02,  3.41874945e-01, -1.21340796e+00, -5.73151049e-01,\n",
       "       -9.24948710e-01, -6.12466004e-01, -2.13879788e-01, -1.28970026e+00,\n",
       "       -8.67270192e-01,  1.04617774e+00,  1.51195219e+00,  7.64539164e-01,\n",
       "        1.56377820e+00,  1.25044765e+00, -9.39508801e-01, -1.55985912e-01,\n",
       "        3.27950325e-01, -5.97075596e-01,  5.65818331e-01, -2.69739228e+00,\n",
       "        5.77849565e-01,  8.62495852e-01, -1.26503919e+00, -8.20373714e-02,\n",
       "       -1.65986844e+00,  2.94816351e-01, -9.19601491e-01,  9.53027621e-01,\n",
       "       -3.82608400e-01, -8.33171301e-01,  1.10382406e+00, -2.56266387e-01,\n",
       "        2.87922198e-01, -1.77916039e+00, -7.79113660e-02,  4.10849820e-01,\n",
       "       -2.63965068e+00, -9.26669758e-02, -5.06646328e-01, -6.07273938e-01,\n",
       "        1.60234582e+00, -1.61142825e+00,  7.61120657e-01,  7.67652246e-01,\n",
       "        3.26144860e+00, -3.40365802e-01,  1.43140320e+00,  3.97207475e-02,\n",
       "        1.69532404e+00,  6.21837937e-01,  4.82648327e-01,  8.10250195e-02,\n",
       "        1.82861419e-01, -2.50341097e+00, -7.08679111e-01,  3.32310407e-01,\n",
       "        7.35842391e-01, -7.07261083e-01,  1.30498776e-01,  1.04067620e+00,\n",
       "       -5.42819379e-01, -6.72273163e-01, -4.70894958e-01,  1.43454960e+00,\n",
       "        2.28821557e-01,  1.51872340e+00,  4.07921297e-01,  8.46989096e-02,\n",
       "        3.82032114e-01,  3.06175325e-01, -5.26946765e-01, -8.79119217e-01,\n",
       "       -1.63163147e+00,  7.98275423e-01, -6.11435358e-01, -3.04930832e-01,\n",
       "       -1.06616438e+00, -2.15965043e+00,  6.06943978e-01, -2.98614307e-01,\n",
       "       -2.43007181e+00, -1.04881841e-01,  1.88142635e+00,  2.07446232e-01,\n",
       "        2.14354628e-01, -8.90631540e-02,  1.63580618e+00,  3.08452009e-01,\n",
       "        2.13596417e-01,  3.18528124e-04, -2.81157980e-01, -6.34685581e-01,\n",
       "       -1.92259523e+00, -1.61541087e+00,  2.34256868e+00,  1.93551096e-01,\n",
       "        7.19437398e-01,  1.75951160e+00,  5.42904810e-01,  3.53250627e-01,\n",
       "       -3.91929039e-01, -7.72125842e-01, -3.95079787e-01, -2.03501872e-01,\n",
       "       -5.11780319e-01,  1.65591929e+00, -1.34700129e-01, -2.28671487e-01,\n",
       "        1.09116352e+00,  1.38901647e+00, -9.42197078e-01, -6.16804625e-02,\n",
       "        1.32021291e+00, -1.29213076e+00, -9.29715823e-01, -5.90820412e-01,\n",
       "       -3.49771481e-01,  1.37624505e+00,  4.50713572e-01, -6.22773608e-02,\n",
       "        5.57771976e-01, -1.02147545e-01,  7.51326437e-01,  1.53099523e-01,\n",
       "       -3.56955058e-02, -1.09505644e-02,  6.06311439e-01, -5.20949543e-01,\n",
       "        1.12653966e+00,  1.04471114e+00, -1.89705695e+00,  4.33318978e-01,\n",
       "       -1.95552801e-01, -3.15067362e-01, -3.37964801e+00, -3.20413002e-01,\n",
       "        7.18864220e-01,  1.14909963e+00,  2.98742283e+00, -5.13353726e-01,\n",
       "       -6.15425288e-01,  2.41580016e-01,  1.02192540e+00,  1.59715591e+00,\n",
       "       -1.23598386e-01,  1.13400289e-01, -1.36019336e+00, -1.78658337e+00,\n",
       "        2.86802585e-01, -6.82871479e-01, -1.47120462e+00,  4.39614142e-02,\n",
       "       -6.70656962e-01,  1.37732344e+00, -6.56176021e-01, -4.42790745e-01,\n",
       "        5.28168990e-01,  2.16393147e-01,  1.32586706e+00, -2.05836007e-01,\n",
       "        2.32724543e+00,  3.37643526e-01,  5.69883150e-02, -7.02618892e-01,\n",
       "        7.85141319e-01, -2.40073428e-01, -6.81715867e-01, -2.35500451e+00,\n",
       "        1.02808307e-01, -3.63872235e-01, -7.29331422e-01, -2.26390085e+00,\n",
       "       -8.44285462e-01, -7.90654310e-01, -1.56201508e+00,  8.52633765e-01,\n",
       "       -1.72898714e+00,  4.71949851e-01,  2.00729243e+00, -7.80272328e-02,\n",
       "        8.41687634e-01,  1.29705589e+00, -9.94177146e-01, -4.41906640e-01,\n",
       "       -3.13626317e-01, -8.87590244e-01,  6.85618924e-02,  1.37956450e+00,\n",
       "        9.93304673e-03, -4.40254408e-01, -5.34283991e-01, -4.18094966e-01,\n",
       "       -2.95558943e-01,  4.64349126e-01,  4.05728934e-01, -8.86136803e-01,\n",
       "       -9.47860768e-01,  3.57619186e-01,  4.53166907e-01,  1.37613618e+00,\n",
       "        3.66884808e-01, -8.49744566e-01,  1.65615245e+00,  1.09063243e+00,\n",
       "        9.45142161e-01,  1.08602261e+00, -2.85403860e+00,  8.36056244e-01,\n",
       "        1.80058276e-01, -3.42710402e-01,  1.17483247e+00, -2.54882825e-01,\n",
       "       -2.60588772e-01, -3.01091386e-01, -1.55139939e-01, -8.19168963e-02,\n",
       "       -5.71519197e-01,  1.13921101e+00, -1.08563908e+00,  1.80970380e+00,\n",
       "       -1.09575944e+00, -1.32308785e+00,  7.02089953e-01, -1.25520444e+00,\n",
       "       -8.30608802e-01,  6.13431161e-01,  8.05187090e-01,  1.03318154e+00,\n",
       "       -4.69431131e-01,  1.85420154e+00,  1.43524565e+00,  2.09765594e-01,\n",
       "       -7.27031529e-01, -1.50252412e-02, -8.60721119e-01, -6.91888431e-01,\n",
       "       -3.52146510e-01,  4.26453693e-01, -4.34043277e-01, -1.55954469e+00,\n",
       "       -1.10429136e+00, -6.84267612e-01,  1.02579283e+00, -6.17446657e-01,\n",
       "       -9.54363131e-01, -8.58851292e-01,  7.25008541e-01,  6.15656632e-01,\n",
       "        9.66953767e-01,  2.16474364e-01, -3.13395059e-02, -1.03091150e+00,\n",
       "       -8.22925717e-01, -1.07771182e-01,  5.08867052e-01, -1.26158559e+00,\n",
       "       -3.97111341e-01,  2.77140941e-01, -9.47642028e-01, -3.77994238e-01,\n",
       "       -4.75243136e-01, -6.62184237e-01,  1.22117591e+00, -8.56974015e-01,\n",
       "        2.89382331e-02, -1.83982727e+00,  1.74045027e+00,  2.34622826e-01,\n",
       "       -1.66989654e-01, -3.20122223e-01,  1.29899336e-01,  3.74499752e-01,\n",
       "        1.29080284e+00,  1.77231811e-02,  2.32352283e-01, -4.04258649e-02,\n",
       "        6.22277730e-01,  8.82393359e-01, -1.91222992e+00,  1.45184683e+00,\n",
       "        5.07654618e-01, -8.44116849e-01,  7.43237646e-01, -2.20880414e-01,\n",
       "       -9.70079142e-01, -1.52784606e+00, -5.81590998e-01, -8.07562329e-01,\n",
       "        8.22273191e-01, -7.73106347e-01, -1.71726047e-01, -6.74486684e-01,\n",
       "       -5.10371701e-01,  5.11044812e-01,  9.14523704e-01,  6.51329327e-01,\n",
       "       -1.26550209e+00, -1.17988978e+00, -8.39318889e-01, -2.28635462e-01,\n",
       "       -1.72868353e-01,  1.19817349e+00,  7.82825121e-01,  8.23575760e-01,\n",
       "        1.24894293e+00,  2.23077395e+00,  8.03216147e-01,  1.45390240e+00,\n",
       "       -1.79090782e+00,  7.61364064e-01,  6.63907055e-01, -1.10970885e+00,\n",
       "        9.61539377e-02, -7.39883775e-01, -1.07677414e-01, -7.49939562e-01,\n",
       "        9.23376056e-02, -4.41036998e-01, -1.23623693e+00, -4.02844472e-01,\n",
       "       -7.63110958e-01, -5.77966785e-02,  6.39150122e-01, -1.47848389e-01,\n",
       "        9.59751722e-02,  2.03780015e+00,  1.17959954e+00, -9.92260434e-01,\n",
       "        8.56351891e-01, -1.44833637e+00, -5.53848497e-01,  5.58892746e-01,\n",
       "        2.64511882e-01, -7.73192633e-01,  1.44411510e+00, -3.65430451e-01,\n",
       "        2.02521780e+00,  7.70297302e-01, -6.09236603e-01,  1.86348307e+00,\n",
       "        8.30531981e-01,  6.57875532e-01, -1.55569681e+00,  3.92613013e-01,\n",
       "        1.81619613e-01, -2.38612793e-01,  5.17203034e-01, -7.02507587e-01,\n",
       "        3.38783907e-01, -5.47425723e-01, -1.23775404e+00,  1.63608332e+00,\n",
       "       -3.76894491e-01, -1.77939686e+00,  4.90545031e-01, -1.01788277e-01,\n",
       "       -1.99781294e-01, -2.85377338e-01, -1.13492985e+00, -1.20226048e+00,\n",
       "        1.02386548e+00,  2.33509997e-01,  1.40949930e-01,  2.24748423e+00,\n",
       "       -3.17527068e-01, -1.95845015e+00,  2.20833182e-01, -1.47820336e+00,\n",
       "       -9.60416294e-01,  7.43786854e-01,  1.93565127e-01, -2.43942252e+00,\n",
       "       -1.03734102e-01,  8.92903799e-01,  1.53735742e+00, -5.22442781e-01,\n",
       "       -5.01371674e-01,  8.33693837e-01, -1.75729991e+00,  9.59151941e-02,\n",
       "        3.78988676e-01, -7.49325494e-01,  8.42446842e-01, -9.04097559e-01,\n",
       "       -1.06359150e+00,  5.15181870e-04,  3.77585418e-01, -7.05554186e-01,\n",
       "        5.92025932e-01,  2.77259997e-01, -6.19384223e-01, -2.51304315e-01,\n",
       "       -1.38656159e+00, -3.64914217e-01, -4.46313422e-01,  1.21648719e-01,\n",
       "       -4.31774873e-01,  1.47747991e-01,  2.30429579e-01, -1.73818891e+00,\n",
       "       -1.00165055e+00, -1.57265105e+00, -7.21486334e-01,  1.71199145e-01,\n",
       "       -1.79690796e-01,  1.85363282e+00,  1.35241118e+00, -1.74596750e+00,\n",
       "       -4.05383371e-01, -6.13377023e-01, -3.40504026e-01, -6.41881086e-01,\n",
       "       -2.96816435e-01,  1.53580381e-01,  3.22591994e-02, -1.32167211e+00,\n",
       "        2.00454206e+00, -1.87594434e+00, -2.38057026e-01, -1.01618292e+00,\n",
       "        8.37276641e-01, -2.03215213e-01, -6.55032200e-02, -1.42997604e+00,\n",
       "        1.34934767e+00, -8.80262364e-01, -7.87808077e-02,  2.08555276e-01,\n",
       "       -9.68463044e-01,  1.37623904e-01, -9.27297790e-01,  1.51359051e+00,\n",
       "        5.94393875e-02, -1.06619715e+00, -1.52373407e+00, -6.96935884e-01,\n",
       "       -6.16363844e-01, -1.57129709e+00,  5.65828466e-01, -8.19141685e-01,\n",
       "        6.75524475e-01,  1.14019401e+00, -6.50798002e-01,  7.39078735e-01,\n",
       "        1.35415219e+00,  3.57510552e-01, -4.35067386e-01,  1.05054452e-01,\n",
       "        8.97665410e-01, -1.51279879e-01,  4.70759203e-01,  5.41245501e-01,\n",
       "       -5.20097446e-01, -5.24481138e-01,  2.15797688e-01, -8.64687908e-01,\n",
       "       -8.86416997e-01, -2.89987919e-01, -5.80269317e-01, -6.86578241e-01,\n",
       "       -1.40267819e-01,  2.25000103e-01,  3.26361618e-01,  5.57521369e-01,\n",
       "       -3.93081456e-03, -1.89649676e-01,  3.99320635e-01, -1.97146696e-01,\n",
       "       -4.20512766e-01,  6.44909432e-01, -7.76604526e-01, -1.57946773e+00,\n",
       "        1.83890101e-01,  1.90996643e+00, -1.30233114e+00,  8.62272201e-01,\n",
       "       -1.02466720e+00, -1.53623049e-01, -2.52811796e-01,  9.11385415e-01,\n",
       "        8.64836721e-03,  9.03621288e-01,  1.29979231e+00,  3.08855952e-02,\n",
       "       -9.78106713e-01, -2.21974394e+00,  9.73961433e-01, -1.32780283e+00,\n",
       "       -1.07173250e+00, -6.65714848e-01, -1.42673143e-01, -8.38836473e-01,\n",
       "        1.51718696e+00, -1.09456763e+00,  1.16332253e+00, -1.58279264e+00,\n",
       "        4.37520830e-02, -1.18003936e+00,  1.15662129e+00,  1.55091644e+00,\n",
       "       -4.27516673e-01,  1.01153997e+00, -1.41457303e+00, -1.87607697e+00,\n",
       "       -4.36111328e-01, -9.49575664e-02,  8.70433600e-01, -2.94985940e-01,\n",
       "        1.17043551e+00,  3.81268627e-01,  2.42708121e+00,  1.25200846e+00,\n",
       "        6.63147248e-01, -2.21040440e+00,  3.31701423e-01, -6.16100431e-01,\n",
       "        7.92635473e-01,  1.75158489e-01,  1.08687829e+00, -2.22071760e-01,\n",
       "        6.22028946e-01, -8.58897052e-01,  6.35361325e-01,  1.10415406e-04,\n",
       "        2.20574828e+00, -6.37954143e-01,  6.57411015e-01, -2.30059889e-02,\n",
       "       -1.30069819e+00,  6.12831075e-01,  9.39721337e-01, -3.16426669e-01,\n",
       "       -1.06774260e+00,  2.35983438e+00,  1.54059102e-01,  5.03736065e-01,\n",
       "        1.54119905e-01,  7.26193201e-01,  6.50382305e-01, -4.62948075e-01,\n",
       "        9.00692594e-02, -9.34370324e-01, -1.43258585e+00, -4.24821428e-01,\n",
       "       -1.59867681e-01, -1.07403842e+00,  4.85055714e-01, -3.28738804e-02,\n",
       "        1.88473805e-01, -1.09378040e-01,  8.18413661e-01, -1.53945804e+00,\n",
       "        1.20723212e+00,  1.68898859e+00,  1.02991948e-01, -6.13673874e-01,\n",
       "       -3.14252897e-01, -6.11905518e-01,  1.07294420e+00, -6.41081792e-01,\n",
       "        1.99382487e+00, -4.75009614e-01,  5.35101906e-01, -1.50289750e+00,\n",
       "       -1.43375272e-01,  8.15466124e-01, -2.50102650e-01,  5.61376385e-01,\n",
       "       -1.58508089e+00, -3.45132286e+00, -1.16150546e+00, -1.38262371e+00,\n",
       "       -9.68420757e-01,  1.14044815e+00,  1.61834591e+00, -1.67060485e+00,\n",
       "       -5.29473988e-02, -5.79357250e-01,  9.44544582e-01, -1.54098781e-01,\n",
       "       -7.08648975e-01,  4.46434241e-01,  1.45105837e+00, -2.77955226e-01,\n",
       "        5.43957547e-01,  3.63430725e-01,  5.98114611e-01,  6.23627527e-01,\n",
       "       -1.37379150e+00, -1.17810624e+00,  1.65304479e-01,  5.60709513e-01,\n",
       "        1.93645531e-01,  1.14569158e+00,  3.38978930e-01,  1.69541260e-01,\n",
       "        5.42186875e-01, -3.14024175e-01,  1.71015063e+00,  1.12202905e+00,\n",
       "        8.37917575e-01, -4.58696138e-02,  8.04416967e-01, -1.37744676e+00,\n",
       "       -8.49268169e-02, -1.09544996e-01,  3.59791550e-01,  4.13896991e-01,\n",
       "        5.68498097e-01,  5.47968083e-01, -3.96503178e-01,  3.79994175e-01,\n",
       "        2.23747457e-01, -6.86725729e-01,  1.02822121e+00,  1.70643874e-02,\n",
       "        5.79057866e-01, -1.58007742e-01,  3.99668634e-01,  1.07464915e+00,\n",
       "       -1.40657292e-01, -9.67890333e-01, -1.69381032e+00, -5.09409443e-01,\n",
       "        1.80670525e-01,  7.77050107e-01, -5.20748336e-01, -1.21694807e+00,\n",
       "       -9.25257950e-01, -1.03691594e-01, -8.69305007e-01,  7.35212313e-01,\n",
       "        2.36150039e-01,  2.87161376e-01, -2.20731559e-01, -9.35763559e-01,\n",
       "       -2.44763911e-01, -1.44817486e+00, -1.97029131e-01, -8.37990204e-01,\n",
       "        2.93638205e-01,  6.29720488e-01,  7.43440737e-01, -5.85854784e-01,\n",
       "        8.75472482e-03, -6.14080549e-01,  1.60477775e+00, -3.60611673e-01,\n",
       "       -4.48739309e-01, -1.49289409e-01, -1.80966991e-01,  1.83215510e+00,\n",
       "        1.81120677e-01,  4.28274277e-01,  1.48276653e+00,  7.62492369e-01,\n",
       "       -1.99662403e+00,  1.44581300e+00,  1.74686360e+00,  8.06535487e-01,\n",
       "       -5.31406314e-01,  1.41883139e+00, -9.93327005e-01, -1.41231452e+00,\n",
       "       -8.96570732e-01,  1.93428538e+00, -1.51445595e+00, -6.61465664e-01,\n",
       "        4.36165795e-01,  5.84683676e-01, -4.61089122e-02,  1.60527265e-02,\n",
       "        1.04281810e+00,  3.93700566e-01, -4.33015378e-01, -7.92365789e-01,\n",
       "       -6.58802887e-01,  1.18288763e+00, -3.75734106e-01,  1.54856597e+00,\n",
       "       -1.14410635e-01,  9.78421084e-01,  1.83567509e+00,  4.93738378e-02,\n",
       "        3.13148991e-01,  5.79908597e-01, -3.84626963e-01, -9.61221267e-01,\n",
       "        3.05782738e-01, -2.14530000e-01, -9.99117506e-01, -4.90225581e-01,\n",
       "        4.24879906e-01,  1.26783048e-01,  1.16987776e-01,  5.91908190e-01,\n",
       "       -7.89902268e-01, -5.30034284e-01,  1.66687603e-01, -1.34973069e+00,\n",
       "       -8.16744341e-01, -2.66418365e-01,  8.56623998e-01, -9.83926175e-01,\n",
       "        1.69639602e+00, -1.01054444e+00, -4.62811247e-01,  7.21007696e-01,\n",
       "       -6.26710255e-01, -1.74562376e+00, -1.60367145e-01, -4.67369393e-01,\n",
       "       -1.56607043e-01,  4.06784769e-01,  4.27827386e-01, -5.33387357e-01,\n",
       "        2.10390016e+00, -9.90883083e-02, -9.27301180e-01,  1.61436572e+00,\n",
       "       -1.61852758e-02,  7.79928073e-01,  1.46975375e+00, -2.32018987e+00,\n",
       "       -1.00884945e+00, -1.18496733e-01, -8.86554676e-01,  2.53200472e+00,\n",
       "        8.80774832e-01,  2.88333790e-01, -6.18895117e-01, -9.58647733e-01,\n",
       "       -5.71381088e-01,  1.77096882e+00, -1.90180141e+00, -1.19509564e+00,\n",
       "        2.43677158e-01,  9.79318320e-01,  3.10440777e-01, -3.64714711e-01,\n",
       "       -2.32260387e-02, -2.26268087e-01, -5.68322125e-01, -2.72618235e-01,\n",
       "        1.96203779e+00,  1.78777221e-01, -1.21080864e+00,  2.53672942e+00,\n",
       "        2.56579196e+00,  1.03380006e+00, -2.35448861e-01,  9.52838847e-01,\n",
       "        8.30179354e-01, -2.48787965e-01, -4.52859160e-01,  6.98383585e-01,\n",
       "        2.90534840e-01, -1.33435170e+00, -1.40653517e+00,  1.65895539e+00,\n",
       "        2.46252005e+00,  6.86707106e-01,  5.58079612e-01, -1.49366485e+00,\n",
       "       -1.39227074e+00,  5.65037930e-02, -4.98767874e-01, -1.84656298e+00,\n",
       "       -1.94335033e+00, -2.37449148e+00,  1.34881647e-03,  7.19197631e-01])"
      ]
     },
     "execution_count": 111,
     "metadata": {},
     "output_type": "execute_result"
    }
   ],
   "source": [
    "data"
   ]
  },
  {
   "cell_type": "code",
   "execution_count": 112,
   "id": "75848f45",
   "metadata": {},
   "outputs": [],
   "source": [
    "cats = pd.qcut(data, 4)"
   ]
  },
  {
   "cell_type": "code",
   "execution_count": 113,
   "id": "cbb501b0",
   "metadata": {},
   "outputs": [
    {
     "data": {
      "text/plain": [
       "[(-0.662, -0.0618], (-3.452, -0.662], (-0.662, -0.0618], (-3.452, -0.662], (0.593, 3.261], ..., (-3.452, -0.662], (-3.452, -0.662], (-3.452, -0.662], (-0.0618, 0.593], (0.593, 3.261]]\n",
       "Length: 1000\n",
       "Categories (4, interval[float64, right]): [(-3.452, -0.662] < (-0.662, -0.0618] < (-0.0618, 0.593] < (0.593, 3.261]]"
      ]
     },
     "execution_count": 113,
     "metadata": {},
     "output_type": "execute_result"
    }
   ],
   "source": [
    "cats"
   ]
  },
  {
   "cell_type": "code",
   "execution_count": 114,
   "id": "f3e63c48",
   "metadata": {},
   "outputs": [
    {
     "data": {
      "text/plain": [
       "(-3.452, -0.662]     250\n",
       "(-0.662, -0.0618]    250\n",
       "(-0.0618, 0.593]     250\n",
       "(0.593, 3.261]       250\n",
       "dtype: int64"
      ]
     },
     "execution_count": 114,
     "metadata": {},
     "output_type": "execute_result"
    }
   ],
   "source": [
    "pd.value_counts(cats)"
   ]
  },
  {
   "cell_type": "code",
   "execution_count": 115,
   "id": "3d1f8bf4",
   "metadata": {},
   "outputs": [],
   "source": [
    "cats = pd.cut(data, 4, precision=2)"
   ]
  },
  {
   "cell_type": "code",
   "execution_count": 116,
   "id": "ce9b7328",
   "metadata": {},
   "outputs": [
    {
     "data": {
      "text/plain": [
       "(-0.095, 1.58]     457\n",
       "(-1.77, -0.095]    451\n",
       "(1.58, 3.26]        56\n",
       "(-3.46, -1.77]      36\n",
       "dtype: int64"
      ]
     },
     "execution_count": 116,
     "metadata": {},
     "output_type": "execute_result"
    }
   ],
   "source": [
    "pd.value_counts(cats) # 不是均匀分布的个数"
   ]
  },
  {
   "cell_type": "code",
   "execution_count": 117,
   "id": "9a15481d",
   "metadata": {},
   "outputs": [],
   "source": [
    "cats = pd.qcut(data, [0, 0.1, 0.5, 0.9, 1.0])"
   ]
  },
  {
   "cell_type": "code",
   "execution_count": 118,
   "id": "5b889ca9",
   "metadata": {},
   "outputs": [
    {
     "data": {
      "text/plain": [
       "[(-1.262, -0.0618], (-1.262, -0.0618], (-1.262, -0.0618], (-1.262, -0.0618], (-0.0618, 1.209], ..., (-3.452, -1.262], (-3.452, -1.262], (-3.452, -1.262], (-0.0618, 1.209], (-0.0618, 1.209]]\n",
       "Length: 1000\n",
       "Categories (4, interval[float64, right]): [(-3.452, -1.262] < (-1.262, -0.0618] < (-0.0618, 1.209] < (1.209, 3.261]]"
      ]
     },
     "execution_count": 118,
     "metadata": {},
     "output_type": "execute_result"
    }
   ],
   "source": [
    "cats"
   ]
  },
  {
   "cell_type": "code",
   "execution_count": 119,
   "id": "de4fe9c3",
   "metadata": {},
   "outputs": [
    {
     "ename": "SyntaxError",
     "evalue": "invalid syntax (Temp/ipykernel_17736/916473283.py, line 1)",
     "output_type": "error",
     "traceback": [
      "\u001b[1;36m  File \u001b[1;32m\"C:\\Users\\zhaolei\\AppData\\Local\\Temp/ipykernel_17736/916473283.py\"\u001b[1;36m, line \u001b[1;32m1\u001b[0m\n\u001b[1;33m    pd.value_counts(cats|)\u001b[0m\n\u001b[1;37m                         ^\u001b[0m\n\u001b[1;31mSyntaxError\u001b[0m\u001b[1;31m:\u001b[0m invalid syntax\n"
     ]
    }
   ],
   "source": [
    "pd.value_counts(cats|)"
   ]
  },
  {
   "cell_type": "code",
   "execution_count": null,
   "id": "9f0c5e9e",
   "metadata": {},
   "outputs": [],
   "source": []
  }
 ],
 "metadata": {
  "kernelspec": {
   "display_name": "Python 3 (ipykernel)",
   "language": "python",
   "name": "python3"
  },
  "language_info": {
   "codemirror_mode": {
    "name": "ipython",
    "version": 3
   },
   "file_extension": ".py",
   "mimetype": "text/x-python",
   "name": "python",
   "nbconvert_exporter": "python",
   "pygments_lexer": "ipython3",
   "version": "3.9.7"
  }
 },
 "nbformat": 4,
 "nbformat_minor": 5
}
